{
 "cells": [
  {
   "cell_type": "markdown",
   "metadata": {},
   "source": [
    "# Конспект R для DataScience"
   ]
  },
  {
   "cell_type": "code",
   "execution_count": 1,
   "metadata": {},
   "outputs": [
    {
     "data": {
      "text/html": [
       "'C:/YandexDisk/Jupyter/R'"
      ],
      "text/latex": [
       "'C:/YandexDisk/Jupyter/R'"
      ],
      "text/markdown": [
       "'C:/YandexDisk/Jupyter/R'"
      ],
      "text/plain": [
       "[1] \"C:/YandexDisk/Jupyter/R\""
      ]
     },
     "metadata": {},
     "output_type": "display_data"
    }
   ],
   "source": [
    "getwd()"
   ]
  },
  {
   "cell_type": "markdown",
   "metadata": {},
   "source": [
    "## Базовые операции"
   ]
  },
  {
   "cell_type": "code",
   "execution_count": 2,
   "metadata": {},
   "outputs": [
    {
     "data": {
      "text/html": [
       "10"
      ],
      "text/latex": [
       "10"
      ],
      "text/markdown": [
       "10"
      ],
      "text/plain": [
       "[1] 10"
      ]
     },
     "metadata": {},
     "output_type": "display_data"
    }
   ],
   "source": [
    "x <- 10\n",
    "x"
   ]
  },
  {
   "cell_type": "code",
   "execution_count": 5,
   "metadata": {},
   "outputs": [
    {
     "data": {
      "text/html": [
       "1222"
      ],
      "text/latex": [
       "1222"
      ],
      "text/markdown": [
       "1222"
      ],
      "text/plain": [
       "[1] 1222"
      ]
     },
     "metadata": {},
     "output_type": "display_data"
    }
   ],
   "source": [
    "t_1 = 1222 # коментарий\n",
    "t_1"
   ]
  },
  {
   "cell_type": "code",
   "execution_count": 6,
   "metadata": {},
   "outputs": [
    {
     "ename": "ERROR",
     "evalue": "Error in eval(expr, envir, enclos): объект 't_1' не найден\n",
     "output_type": "error",
     "traceback": [
      "Error in eval(expr, envir, enclos): объект 't_1' не найден\nTraceback:\n"
     ]
    }
   ],
   "source": [
    "rm(t_1)\n",
    "t_1"
   ]
  },
  {
   "cell_type": "code",
   "execution_count": 9,
   "metadata": {},
   "outputs": [
    {
     "data": {
      "text/html": [
       "5"
      ],
      "text/latex": [
       "5"
      ],
      "text/markdown": [
       "5"
      ],
      "text/plain": [
       "[1] 5"
      ]
     },
     "metadata": {},
     "output_type": "display_data"
    }
   ],
   "source": [
    "10-5"
   ]
  },
  {
   "cell_type": "code",
   "execution_count": 10,
   "metadata": {},
   "outputs": [
    {
     "data": {
      "text/html": [
       "60"
      ],
      "text/latex": [
       "60"
      ],
      "text/markdown": [
       "60"
      ],
      "text/plain": [
       "[1] 60"
      ]
     },
     "metadata": {},
     "output_type": "display_data"
    }
   ],
   "source": [
    "10*6"
   ]
  },
  {
   "cell_type": "code",
   "execution_count": 11,
   "metadata": {},
   "outputs": [
    {
     "data": {
      "text/html": [
       "6"
      ],
      "text/latex": [
       "6"
      ],
      "text/markdown": [
       "6"
      ],
      "text/plain": [
       "[1] 6"
      ]
     },
     "metadata": {},
     "output_type": "display_data"
    }
   ],
   "source": [
    "factorial(3) # 3*2*1"
   ]
  },
  {
   "cell_type": "code",
   "execution_count": 12,
   "metadata": {},
   "outputs": [
    {
     "data": {
      "text/html": [
       "10"
      ],
      "text/latex": [
       "10"
      ],
      "text/markdown": [
       "10"
      ],
      "text/plain": [
       "[1] 10"
      ]
     },
     "metadata": {},
     "output_type": "display_data"
    }
   ],
   "source": [
    "sqrt(100)"
   ]
  },
  {
   "cell_type": "code",
   "execution_count": 13,
   "metadata": {},
   "outputs": [
    {
     "data": {
      "text/html": [
       "100"
      ],
      "text/latex": [
       "100"
      ],
      "text/markdown": [
       "100"
      ],
      "text/plain": [
       "[1] 100"
      ]
     },
     "metadata": {},
     "output_type": "display_data"
    }
   ],
   "source": [
    "10^2"
   ]
  },
  {
   "cell_type": "code",
   "execution_count": 14,
   "metadata": {},
   "outputs": [
    {
     "data": {
      "text/html": [
       "3"
      ],
      "text/latex": [
       "3"
      ],
      "text/markdown": [
       "3"
      ],
      "text/plain": [
       "[1] 3"
      ]
     },
     "metadata": {},
     "output_type": "display_data"
    }
   ],
   "source": [
    "log2(8)"
   ]
  },
  {
   "cell_type": "code",
   "execution_count": 15,
   "metadata": {},
   "outputs": [
    {
     "data": {
      "text/html": [
       "2"
      ],
      "text/latex": [
       "2"
      ],
      "text/markdown": [
       "2"
      ],
      "text/plain": [
       "[1] 2"
      ]
     },
     "metadata": {},
     "output_type": "display_data"
    }
   ],
   "source": [
    "sqrt(log2(16))"
   ]
  },
  {
   "cell_type": "code",
   "execution_count": 17,
   "metadata": {},
   "outputs": [
    {
     "data": {
      "text/html": [
       "3"
      ],
      "text/latex": [
       "3"
      ],
      "text/markdown": [
       "3"
      ],
      "text/plain": [
       "[1] 3"
      ]
     },
     "metadata": {},
     "output_type": "display_data"
    }
   ],
   "source": [
    "27^(1/3) # корень третьей степени"
   ]
  },
  {
   "cell_type": "code",
   "execution_count": 21,
   "metadata": {},
   "outputs": [
    {
     "data": {
      "text/html": [
       "2.71828182845905"
      ],
      "text/latex": [
       "2.71828182845905"
      ],
      "text/markdown": [
       "2.71828182845905"
      ],
      "text/plain": [
       "[1] 2.718282"
      ]
     },
     "metadata": {},
     "output_type": "display_data"
    }
   ],
   "source": [
    "a = exp(1)\n",
    "a"
   ]
  },
  {
   "cell_type": "code",
   "execution_count": 22,
   "metadata": {},
   "outputs": [
    {
     "data": {
      "text/html": [
       "1"
      ],
      "text/latex": [
       "1"
      ],
      "text/markdown": [
       "1"
      ],
      "text/plain": [
       "[1] 1"
      ]
     },
     "metadata": {},
     "output_type": "display_data"
    }
   ],
   "source": [
    "log(a)"
   ]
  },
  {
   "cell_type": "markdown",
   "metadata": {},
   "source": [
    "## Отображение справки и быстрые клавиши"
   ]
  },
  {
   "cell_type": "markdown",
   "metadata": {},
   "source": [
    "Чтобы отобразить список быстрых клавиш нажмите: «Alt»+ «Sift»+ «K»"
   ]
  },
  {
   "cell_type": "code",
   "execution_count": 18,
   "metadata": {
    "collapsed": true,
    "jupyter": {
     "outputs_hidden": true
    }
   },
   "outputs": [
    {
     "data": {
      "text/html": [
       "\n",
       "<table width=\"100%\" summary=\"page for MathFun {base}\"><tr><td>MathFun {base}</td><td style=\"text-align: right;\">R Documentation</td></tr></table>\n",
       "\n",
       "<h2>Miscellaneous Mathematical Functions</h2>\n",
       "\n",
       "<h3>Description</h3>\n",
       "\n",
       "<p><code>abs(x)</code> computes the absolute value of x, <code>sqrt(x)</code> computes the\n",
       "(principal) square root of x, <i>&radic;{x}</i>.\n",
       "</p>\n",
       "<p>The naming follows the standard for computer languages such as C or Fortran.\n",
       "</p>\n",
       "\n",
       "\n",
       "<h3>Usage</h3>\n",
       "\n",
       "<pre>\n",
       "abs(x)\n",
       "sqrt(x)\n",
       "</pre>\n",
       "\n",
       "\n",
       "<h3>Arguments</h3>\n",
       "\n",
       "<table summary=\"R argblock\">\n",
       "<tr valign=\"top\"><td><code>x</code></td>\n",
       "<td>\n",
       "<p>a numeric or <code>complex</code> vector or array.</p>\n",
       "</td></tr>\n",
       "</table>\n",
       "\n",
       "\n",
       "<h3>Details</h3>\n",
       "\n",
       "<p>These are internal generic primitive functions: methods\n",
       "can be defined for them individually or via the\n",
       "<code>Math</code> group generic.  For complex\n",
       "arguments (and the default method), <code>z</code>, <code>abs(z) ==\n",
       "  Mod(z)</code> and <code>sqrt(z) == z^0.5</code>.\n",
       "</p>\n",
       "<p><code>abs(x)</code> returns an <code>integer</code> vector when <code>x</code> is\n",
       "<code>integer</code> or <code>logical</code>.\n",
       "</p>\n",
       "\n",
       "\n",
       "<h3>S4 methods</h3>\n",
       "\n",
       "<p>Both are S4 generic and members of the\n",
       "<code>Math</code> group generic.\n",
       "</p>\n",
       "\n",
       "\n",
       "<h3>References</h3>\n",
       "\n",
       "<p>Becker, R. A., Chambers, J. M. and Wilks, A. R. (1988)\n",
       "<em>The New S Language</em>.\n",
       "Wadsworth &amp; Brooks/Cole.\n",
       "</p>\n",
       "\n",
       "\n",
       "<h3>See Also</h3>\n",
       "\n",
       "<p><code>Arithmetic</code> for simple, <code>log</code> for logarithmic,\n",
       "<code>sin</code> for trigonometric, and <code>Special</code> for\n",
       "special mathematical functions.\n",
       "</p>\n",
       "<p>&lsquo;plotmath&rsquo; for the use of <code>sqrt</code> in plot annotation.\n",
       "</p>\n",
       "\n",
       "\n",
       "<h3>Examples</h3>\n",
       "\n",
       "<pre>\n",
       "require(stats) # for spline\n",
       "require(graphics)\n",
       "xx &lt;- -9:9\n",
       "plot(xx, sqrt(abs(xx)),  col = \"red\")\n",
       "lines(spline(xx, sqrt(abs(xx)), n=101), col = \"pink\")\n",
       "</pre>\n",
       "\n",
       "<hr /><div style=\"text-align: center;\">[Package <em>base</em> version 3.6.1 ]</div>"
      ],
      "text/latex": [
       "\\inputencoding{utf8}\n",
       "\\HeaderA{MathFun}{Miscellaneous Mathematical Functions}{MathFun}\n",
       "\\aliasA{abs}{MathFun}{abs}\n",
       "\\aliasA{sqrt}{MathFun}{sqrt}\n",
       "\\keyword{math}{MathFun}\n",
       "%\n",
       "\\begin{Description}\\relax\n",
       "\\code{abs(x)} computes the absolute value of x, \\code{sqrt(x)} computes the\n",
       "(principal) square root of x, \\eqn{\\sqrt{x}}{}.\n",
       "\n",
       "The naming follows the standard for computer languages such as C or Fortran.\n",
       "\\end{Description}\n",
       "%\n",
       "\\begin{Usage}\n",
       "\\begin{verbatim}\n",
       "abs(x)\n",
       "sqrt(x)\n",
       "\\end{verbatim}\n",
       "\\end{Usage}\n",
       "%\n",
       "\\begin{Arguments}\n",
       "\\begin{ldescription}\n",
       "\\item[\\code{x}] a numeric or \\code{\\LinkA{complex}{complex}} vector or array.\n",
       "\\end{ldescription}\n",
       "\\end{Arguments}\n",
       "%\n",
       "\\begin{Details}\\relax\n",
       "These are \\LinkA{internal generic}{internal generic} \\LinkA{primitive}{primitive} functions: methods\n",
       "can be defined for them individually or via the\n",
       "\\code{\\LinkA{Math}{S3groupGeneric}} group generic.  For complex\n",
       "arguments (and the default method), \\code{z}, \\code{abs(z) ==\n",
       "  \\LinkA{Mod}{Mod}(z)} and \\code{sqrt(z) == z\\textasciicircum{}0.5}.\n",
       "\n",
       "\\code{abs(x)} returns an \\code{\\LinkA{integer}{integer}} vector when \\code{x} is\n",
       "\\code{integer} or \\code{\\LinkA{logical}{logical}}.\n",
       "\\end{Details}\n",
       "%\n",
       "\\begin{Section}{S4 methods}\n",
       "Both are S4 generic and members of the\n",
       "\\code{\\LinkA{Math}{S4groupGeneric}} group generic.\n",
       "\\end{Section}\n",
       "%\n",
       "\\begin{References}\\relax\n",
       "Becker, R. A., Chambers, J. M. and Wilks, A. R. (1988)\n",
       "\\emph{The New S Language}.\n",
       "Wadsworth \\& Brooks/Cole.\n",
       "\\end{References}\n",
       "%\n",
       "\\begin{SeeAlso}\\relax\n",
       "\\code{\\LinkA{Arithmetic}{Arithmetic}} for simple, \\code{\\LinkA{log}{log}} for logarithmic,\n",
       "\\code{\\LinkA{sin}{sin}} for trigonometric, and \\code{\\LinkA{Special}{Special}} for\n",
       "special mathematical functions.\n",
       "\n",
       "`\\LinkA{plotmath}{plotmath}' for the use of \\code{sqrt} in plot annotation.\n",
       "\\end{SeeAlso}\n",
       "%\n",
       "\\begin{Examples}\n",
       "\\begin{ExampleCode}\n",
       "require(stats) # for spline\n",
       "require(graphics)\n",
       "xx <- -9:9\n",
       "plot(xx, sqrt(abs(xx)),  col = \"red\")\n",
       "lines(spline(xx, sqrt(abs(xx)), n=101), col = \"pink\")\n",
       "\\end{ExampleCode}\n",
       "\\end{Examples}"
      ],
      "text/plain": [
       "MathFun                  package:base                  R Documentation\n",
       "\n",
       "_\bM_\bi_\bs_\bc_\be_\bl_\bl_\ba_\bn_\be_\bo_\bu_\bs _\bM_\ba_\bt_\bh_\be_\bm_\ba_\bt_\bi_\bc_\ba_\bl _\bF_\bu_\bn_\bc_\bt_\bi_\bo_\bn_\bs\n",
       "\n",
       "_\bD_\be_\bs_\bc_\br_\bi_\bp_\bt_\bi_\bo_\bn:\n",
       "\n",
       "     'abs(x)' computes the absolute value of x, 'sqrt(x)' computes the\n",
       "     (principal) square root of x, sqrt{x}.\n",
       "\n",
       "     The naming follows the standard for computer languages such as C\n",
       "     or Fortran.\n",
       "\n",
       "_\bU_\bs_\ba_\bg_\be:\n",
       "\n",
       "     abs(x)\n",
       "     sqrt(x)\n",
       "     \n",
       "_\bA_\br_\bg_\bu_\bm_\be_\bn_\bt_\bs:\n",
       "\n",
       "       x: a numeric or 'complex' vector or array.\n",
       "\n",
       "_\bD_\be_\bt_\ba_\bi_\bl_\bs:\n",
       "\n",
       "     These are internal generic primitive functions: methods can be\n",
       "     defined for them individually or via the 'Math' group generic.\n",
       "     For complex arguments (and the default method), 'z', 'abs(z) ==\n",
       "     Mod(z)' and 'sqrt(z) == z^0.5'.\n",
       "\n",
       "     'abs(x)' returns an 'integer' vector when 'x' is 'integer' or\n",
       "     'logical'.\n",
       "\n",
       "_\bS_\b4 _\bm_\be_\bt_\bh_\bo_\bd_\bs:\n",
       "\n",
       "     Both are S4 generic and members of the 'Math' group generic.\n",
       "\n",
       "_\bR_\be_\bf_\be_\br_\be_\bn_\bc_\be_\bs:\n",
       "\n",
       "     Becker, R. A., Chambers, J. M. and Wilks, A. R. (1988) _The New S\n",
       "     Language_.  Wadsworth & Brooks/Cole.\n",
       "\n",
       "_\bS_\be_\be _\bA_\bl_\bs_\bo:\n",
       "\n",
       "     'Arithmetic' for simple, 'log' for logarithmic, 'sin' for\n",
       "     trigonometric, and 'Special' for special mathematical functions.\n",
       "\n",
       "     'plotmath' for the use of 'sqrt' in plot annotation.\n",
       "\n",
       "_\bE_\bx_\ba_\bm_\bp_\bl_\be_\bs:\n",
       "\n",
       "     require(stats) # for spline\n",
       "     require(graphics)\n",
       "     xx <- -9:9\n",
       "     plot(xx, sqrt(abs(xx)),  col = \"red\")\n",
       "     lines(spline(xx, sqrt(abs(xx)), n=101), col = \"pink\")\n",
       "     "
      ]
     },
     "metadata": {},
     "output_type": "display_data"
    }
   ],
   "source": [
    "help(sqrt)"
   ]
  },
  {
   "cell_type": "code",
   "execution_count": 2,
   "metadata": {},
   "outputs": [],
   "source": [
    "# ?Arithmetic"
   ]
  },
  {
   "cell_type": "code",
   "execution_count": 19,
   "metadata": {
    "collapsed": true,
    "jupyter": {
     "outputs_hidden": true
    }
   },
   "outputs": [
    {
     "data": {
      "text/html": [
       "\n",
       "<table width=\"100%\" summary=\"page for log {IRkernel}\"><tr><td>log {IRkernel}</td><td style=\"text-align: right;\">R Documentation</td></tr></table>\n",
       "\n",
       "<h2>Kernel logging functions</h2>\n",
       "\n",
       "<h3>Description</h3>\n",
       "\n",
       "<p>A set of exported logging utilities that have the capability to be used in upstream projects.\n",
       "Log level and log file can be set via R package options e.g. <code>options(jupyter.log_level = 2L)</code>\n",
       "or from the environment variables JUPYTER_LOG_LEVEL and JUPYTER_LOGFILE.\n",
       "</p>\n",
       "\n",
       "\n",
       "<h3>Usage</h3>\n",
       "\n",
       "<pre>\n",
       "log_debug(...)\n",
       "\n",
       "log_info(...)\n",
       "\n",
       "log_error(...)\n",
       "</pre>\n",
       "\n",
       "\n",
       "<h3>Arguments</h3>\n",
       "\n",
       "<table summary=\"R argblock\">\n",
       "<tr valign=\"top\"><td><code>...</code></td>\n",
       "<td>\n",
       "<p>message to log</p>\n",
       "</td></tr>\n",
       "</table>\n",
       "\n",
       "<hr /><div style=\"text-align: center;\">[Package <em>IRkernel</em> version 1.1 ]</div>"
      ],
      "text/latex": [
       "\\inputencoding{utf8}\n",
       "\\HeaderA{log}{Kernel logging functions}{log}\n",
       "\\aliasA{log\\_debug}{log}{log.Rul.debug}\n",
       "\\aliasA{log\\_error}{log}{log.Rul.error}\n",
       "\\aliasA{log\\_info}{log}{log.Rul.info}\n",
       "%\n",
       "\\begin{Description}\\relax\n",
       "A set of exported logging utilities that have the capability to be used in upstream projects.\n",
       "Log level and log file can be set via R package options e.g. \\code{options(jupyter.log\\_level = 2L)}\n",
       "or from the environment variables JUPYTER\\_LOG\\_LEVEL and JUPYTER\\_LOGFILE.\n",
       "\\end{Description}\n",
       "%\n",
       "\\begin{Usage}\n",
       "\\begin{verbatim}\n",
       "log_debug(...)\n",
       "\n",
       "log_info(...)\n",
       "\n",
       "log_error(...)\n",
       "\\end{verbatim}\n",
       "\\end{Usage}\n",
       "%\n",
       "\\begin{Arguments}\n",
       "\\begin{ldescription}\n",
       "\\item[\\code{...}] message to log\n",
       "\\end{ldescription}\n",
       "\\end{Arguments}"
      ],
      "text/plain": [
       "log                  package:IRkernel                  R Documentation\n",
       "\n",
       "_\bK_\be_\br_\bn_\be_\bl _\bl_\bo_\bg_\bg_\bi_\bn_\bg _\bf_\bu_\bn_\bc_\bt_\bi_\bo_\bn_\bs\n",
       "\n",
       "_\bD_\be_\bs_\bc_\br_\bi_\bp_\bt_\bi_\bo_\bn:\n",
       "\n",
       "     A set of exported logging utilities that have the capability to be\n",
       "     used in upstream projects. Log level and log file can be set via R\n",
       "     package options e.g. 'options(jupyter.log_level = 2L)' or from the\n",
       "     environment variables JUPYTER_LOG_LEVEL and JUPYTER_LOGFILE.\n",
       "\n",
       "_\bU_\bs_\ba_\bg_\be:\n",
       "\n",
       "     log_debug(...)\n",
       "     \n",
       "     log_info(...)\n",
       "     \n",
       "     log_error(...)\n",
       "     \n",
       "_\bA_\br_\bg_\bu_\bm_\be_\bn_\bt_\bs:\n",
       "\n",
       "     ...: message to log\n"
      ]
     },
     "metadata": {},
     "output_type": "display_data"
    }
   ],
   "source": [
    "?log"
   ]
  },
  {
   "cell_type": "markdown",
   "metadata": {},
   "source": [
    "## Установка пакетов"
   ]
  },
  {
   "cell_type": "code",
   "execution_count": 23,
   "metadata": {},
   "outputs": [
    {
     "name": "stdout",
     "output_type": "stream",
     "text": [
      "package 'cluster' successfully unpacked and MD5 sums checked\n",
      "\n",
      "The downloaded binary packages are in\n",
      "\tC:\\Users\\viv232\\AppData\\Local\\Temp\\Rtmp8UJOLv\\downloaded_packages\n"
     ]
    }
   ],
   "source": [
    "install.packages(\"cluster\")"
   ]
  },
  {
   "cell_type": "code",
   "execution_count": 24,
   "metadata": {},
   "outputs": [
    {
     "name": "stderr",
     "output_type": "stream",
     "text": [
      "Warning message:\n",
      "\"package 'cluster' was built under R version 3.6.3\"\n"
     ]
    }
   ],
   "source": [
    "library(cluster)"
   ]
  },
  {
   "cell_type": "code",
   "execution_count": 91,
   "metadata": {},
   "outputs": [],
   "source": [
    "#animals"
   ]
  },
  {
   "cell_type": "markdown",
   "metadata": {},
   "source": [
    "## Векторы"
   ]
  },
  {
   "cell_type": "code",
   "execution_count": 3,
   "metadata": {
    "collapsed": true,
    "jupyter": {
     "outputs_hidden": true
    }
   },
   "outputs": [
    {
     "data": {
      "text/html": [
       "\n",
       "<table width=\"100%\" summary=\"page for vector {base}\"><tr><td>vector {base}</td><td style=\"text-align: right;\">R Documentation</td></tr></table>\n",
       "\n",
       "<h2>Vectors</h2>\n",
       "\n",
       "<h3>Description</h3>\n",
       "\n",
       "<p><code>vector</code> produces a vector of the given length and mode.\n",
       "</p>\n",
       "<p><code>as.vector</code>, a generic, attempts to coerce its argument into a\n",
       "vector of mode <code>mode</code> (the default is to coerce to whichever\n",
       "vector mode is most convenient): if the result is atomic all\n",
       "attributes are removed.\n",
       "</p>\n",
       "<p><code>is.vector</code> returns <code>TRUE</code> if <code>x</code> is a vector of the\n",
       "specified mode having no attributes <em>other than names</em>.  It returns\n",
       "<code>FALSE</code> otherwise.\n",
       "</p>\n",
       "\n",
       "\n",
       "<h3>Usage</h3>\n",
       "\n",
       "<pre>\n",
       "vector(mode = \"logical\", length = 0)\n",
       "as.vector(x, mode = \"any\")\n",
       "is.vector(x, mode = \"any\")\n",
       "</pre>\n",
       "\n",
       "\n",
       "<h3>Arguments</h3>\n",
       "\n",
       "<table summary=\"R argblock\">\n",
       "<tr valign=\"top\"><td><code>mode</code></td>\n",
       "<td>\n",
       "<p>character string naming an atomic mode or\n",
       "<code>\"list\"</code> or <code>\"expression\"</code> or (except for <code>vector</code>)\n",
       "<code>\"any\"</code>.  Currently, <code>is.vector()</code> allows any type (see\n",
       "<code>typeof</code>) for <code>mode</code>, and when mode is not\n",
       "<code>\"any\"</code>, <code>is.vector(x, mode)</code> is almost the same as\n",
       "<code>typeof(x) == mode</code>.</p>\n",
       "</td></tr></table>\n",
       "\n",
       "<table summary=\"R argblock\">\n",
       "<tr valign=\"top\"><td><code>length</code></td>\n",
       "<td>\n",
       "<p>a non-negative integer specifying the desired length.\n",
       "For a long vector, i.e., <code>length &gt; .Machine$integer.max</code>, it\n",
       "has to be of type <code>\"double\"</code>.  Supplying an argument of length\n",
       "other than one is an error.</p>\n",
       "</td></tr>\n",
       "<tr valign=\"top\"><td><code>x</code></td>\n",
       "<td>\n",
       "<p>an <span style=\"font-family: Courier New, Courier; color: #666666;\"><b>R</b></span> object.</p>\n",
       "</td></tr>\n",
       "</table>\n",
       "\n",
       "\n",
       "<h3>Details</h3>\n",
       "\n",
       "<p>The atomic modes are <code>\"logical\"</code>, <code>\"integer\"</code>,\n",
       "<code>\"numeric\"</code> (synonym <code>\"double\"</code>), <code>\"complex\"</code>,\n",
       "<code>\"character\"</code> and <code>\"raw\"</code>.\n",
       "</p>\n",
       "<p>If <code>mode = \"any\"</code>, <code>is.vector</code> may return <code>TRUE</code> for\n",
       "the atomic modes, <code>list</code> and <code>expression</code>.\n",
       "For any <code>mode</code>, it will return <code>FALSE</code> if <code>x</code> has any\n",
       "attributes except names.  (This is incompatible with S.)  On the other\n",
       "hand, <code>as.vector</code> removes <em>all</em> attributes including names\n",
       "for results of atomic mode (but not those of mode <code>\"list\"</code> nor\n",
       "<code>\"expression\"</code>).\n",
       "</p>\n",
       "<p>Note that factors are <em>not</em> vectors; <code>is.vector</code> returns\n",
       "<code>FALSE</code> and <code>as.vector</code> converts a factor to a character\n",
       "vector for <code>mode = \"any\"</code>.\n",
       "</p>\n",
       "\n",
       "\n",
       "<h3>Value</h3>\n",
       "\n",
       "<p>For <code>vector</code>, a vector of the given length and mode.  Logical\n",
       "vector elements are initialized to <code>FALSE</code>, numeric vector\n",
       "elements to <code>0</code>, character vector elements to <code>\"\"</code>, raw\n",
       "vector elements to <code>nul</code> bytes and list/expression elements to\n",
       "<code>NULL</code>.\n",
       "</p>\n",
       "<p>For <code>as.vector</code>, a vector (atomic or of type list or expression).\n",
       "All attributes are removed from the result if it is of an atomic mode,\n",
       "but not in general for a list result.  The default method handles 24\n",
       "input types and 12 values of <code>type</code>: the details of most\n",
       "coercions are undocumented and subject to change.\n",
       "</p>\n",
       "<p>For <code>is.vector</code>, <code>TRUE</code> or <code>FALSE</code>.\n",
       "<code>is.vector(x, mode = \"numeric\")</code> can be true for vectors of types\n",
       "<code>\"integer\"</code> or <code>\"double\"</code> whereas <code>is.vector(x, mode =\n",
       "  \"double\")</code> can only be true for those of type <code>\"double\"</code>.\n",
       "</p>\n",
       "\n",
       "\n",
       "<h3>Methods for <code>as.vector()</code></h3>\n",
       "\n",
       "<p>Writers of methods for <code>as.vector</code> need to take care to\n",
       "follow the conventions of the default method.  In particular\n",
       "</p>\n",
       "\n",
       "<ul>\n",
       "<li><p> Argument <code>mode</code> can be <code>\"any\"</code>, any of the atomic\n",
       "modes, <code>\"list\"</code>, <code>\"expression\"</code>, <code>\"symbol\"</code>,\n",
       "<code>\"pairlist\"</code> or one of the aliases <code>\"double\"</code> and <code>\"name\"</code>.\n",
       "</p>\n",
       "</li>\n",
       "<li><p> The return value should be of the appropriate mode.  For\n",
       "<code>mode = \"any\"</code> this means an atomic vector or list.\n",
       "</p>\n",
       "</li>\n",
       "<li><p> Attributes should be treated appropriately: in particular when\n",
       "the result is an atomic vector there should be no attributes, not\n",
       "even names.\n",
       "</p>\n",
       "</li>\n",
       "<li> <p><code>is.vector(as.vector(x, m), m)</code> should be true for any\n",
       "mode <code>m</code>, including the default <code>\"any\"</code>.\n",
       "</p>\n",
       "</li></ul>\n",
       "\n",
       "\n",
       "\n",
       "<h3>Note</h3>\n",
       "\n",
       "<p><code>as.vector</code> and <code>is.vector</code> are quite distinct from the\n",
       "meaning of the formal class <code>\"vector\"</code> in the <span class=\"pkg\">methods</span>\n",
       "package, and hence <code>as(x, \"vector\")</code> and\n",
       "<code>is(x, \"vector\")</code>.\n",
       "</p>\n",
       "<p>Note that <code>as.vector(x)</code> is not necessarily a null operation if\n",
       "<code>is.vector(x)</code> is true: any names will be removed from an atomic\n",
       "vector.\n",
       "</p>\n",
       "<p>Non-vector <code>mode</code>s <code>\"symbol\"</code> (synonym <code>\"name\"</code>) and\n",
       "<code>\"pairlist\"</code> are accepted but have long been undocumented: they\n",
       "are used to implement <code>as.name</code> and\n",
       "<code>as.pairlist</code>, and those functions should preferably be\n",
       "used directly.  None of the description here applies to those\n",
       "<code>mode</code>s: see the help for the preferred forms.\n",
       "</p>\n",
       "\n",
       "\n",
       "<h3>References</h3>\n",
       "\n",
       "<p>Becker, R. A., Chambers, J. M. and Wilks, A. R. (1988)\n",
       "<em>The New S Language</em>.\n",
       "Wadsworth &amp; Brooks/Cole.\n",
       "</p>\n",
       "\n",
       "\n",
       "<h3>See Also</h3>\n",
       "\n",
       "<p><code>c</code>, <code>is.numeric</code>, <code>is.list</code>, etc.\n",
       "</p>\n",
       "\n",
       "\n",
       "<h3>Examples</h3>\n",
       "\n",
       "<pre>\n",
       "df &lt;- data.frame(x = 1:3, y = 5:7)\n",
       "## Error:\n",
       "try(as.vector(data.frame(x = 1:3, y = 5:7), mode = \"numeric\"))\n",
       "\n",
       "x &lt;- c(a = 1, b = 2)\n",
       "is.vector(x)\n",
       "as.vector(x)\n",
       "all.equal(x, as.vector(x)) ## FALSE\n",
       "\n",
       "\n",
       "###-- All the following are TRUE:\n",
       "is.list(df)\n",
       "! is.vector(df)\n",
       "! is.vector(df, mode = \"list\")\n",
       "\n",
       "is.vector(list(), mode = \"list\")\n",
       "</pre>\n",
       "\n",
       "<hr /><div style=\"text-align: center;\">[Package <em>base</em> version 3.6.1 ]</div>"
      ],
      "text/latex": [
       "\\inputencoding{utf8}\n",
       "\\HeaderA{vector}{Vectors}{vector}\n",
       "\\aliasA{as.vector}{vector}{as.vector}\n",
       "\\methaliasA{as.vector.factor}{vector}{as.vector.factor}\n",
       "\\aliasA{atomic}{vector}{atomic}\n",
       "\\aliasA{is.vector}{vector}{is.vector}\n",
       "\\keyword{classes}{vector}\n",
       "%\n",
       "\\begin{Description}\\relax\n",
       "\\code{vector} produces a vector of the given length and mode.\n",
       "\n",
       "\\code{as.vector}, a generic, attempts to coerce its argument into a\n",
       "vector of mode \\code{mode} (the default is to coerce to whichever\n",
       "vector mode is most convenient): if the result is atomic all\n",
       "attributes are removed.\n",
       "\n",
       "\\code{is.vector} returns \\code{TRUE} if \\code{x} is a vector of the\n",
       "specified mode having no attributes \\emph{other than names}.  It returns\n",
       "\\code{FALSE} otherwise.\n",
       "\\end{Description}\n",
       "%\n",
       "\\begin{Usage}\n",
       "\\begin{verbatim}\n",
       "vector(mode = \"logical\", length = 0)\n",
       "as.vector(x, mode = \"any\")\n",
       "is.vector(x, mode = \"any\")\n",
       "\\end{verbatim}\n",
       "\\end{Usage}\n",
       "%\n",
       "\\begin{Arguments}\n",
       "\\begin{ldescription}\n",
       "\\item[\\code{mode}] character string naming an atomic mode or\n",
       "\\code{\"list\"} or \\code{\"expression\"} or (except for \\code{vector})\n",
       "\\code{\"any\"}.  Currently, \\code{is.vector()} allows any type (see\n",
       "\\code{\\LinkA{typeof}{typeof}}) for \\code{mode}, and when mode is not\n",
       "\\code{\"any\"}, \\code{is.vector(x, mode)} is almost the same as\n",
       "\\code{typeof(x) == mode}.\n",
       "\\item[\\code{length}] a non-negative integer specifying the desired length.\n",
       "For a long vector, i.e., \\code{length > .Machine\\$integer.max}, it\n",
       "has to be of type \\code{\"double\"}.  Supplying an argument of length\n",
       "other than one is an error.\n",
       "\\item[\\code{x}] an \\R{} object.\n",
       "\\end{ldescription}\n",
       "\\end{Arguments}\n",
       "%\n",
       "\\begin{Details}\\relax\n",
       "The atomic modes are \\code{\"logical\"}, \\code{\"integer\"},\n",
       "\\code{\"numeric\"} (synonym \\code{\"double\"}), \\code{\"complex\"},\n",
       "\\code{\"character\"} and \\code{\"raw\"}.\n",
       "\n",
       "If \\code{mode = \"any\"}, \\code{is.vector} may return \\code{TRUE} for\n",
       "the atomic modes, \\code{\\LinkA{list}{list}} and \\code{\\LinkA{expression}{expression}}.\n",
       "For any \\code{mode}, it will return \\code{FALSE} if \\code{x} has any\n",
       "attributes except names.  (This is incompatible with S.)  On the other\n",
       "hand, \\code{as.vector} removes \\emph{all} attributes including names\n",
       "for results of atomic mode (but not those of mode \\code{\"list\"} nor\n",
       "\\code{\"expression\"}).\n",
       "\n",
       "Note that factors are \\emph{not} vectors; \\code{is.vector} returns\n",
       "\\code{FALSE} and \\code{as.vector} converts a factor to a character\n",
       "vector for \\code{mode = \"any\"}.\n",
       "\\end{Details}\n",
       "%\n",
       "\\begin{Value}\n",
       "For \\code{vector}, a vector of the given length and mode.  Logical\n",
       "vector elements are initialized to \\code{FALSE}, numeric vector\n",
       "elements to \\code{0}, character vector elements to \\code{\"\"}, raw\n",
       "vector elements to \\code{nul} bytes and list/expression elements to\n",
       "\\code{NULL}.\n",
       "\n",
       "For \\code{as.vector}, a vector (atomic or of type list or expression).\n",
       "All attributes are removed from the result if it is of an atomic mode,\n",
       "but not in general for a list result.  The default method handles 24\n",
       "input types and 12 values of \\code{type}: the details of most\n",
       "coercions are undocumented and subject to change.\n",
       "\n",
       "For \\code{is.vector}, \\code{TRUE} or \\code{FALSE}.\n",
       "\\code{is.vector(x, mode = \"numeric\")} can be true for vectors of types\n",
       "\\code{\"integer\"} or \\code{\"double\"} whereas \\code{is.vector(x, mode =\n",
       "  \"double\")} can only be true for those of type \\code{\"double\"}.\n",
       "\\end{Value}\n",
       "%\n",
       "\\begin{Section}{Methods for \\code{as.vector()}}\n",
       "Writers of methods for \\code{as.vector} need to take care to\n",
       "follow the conventions of the default method.  In particular\n",
       "\\begin{itemize}\n",
       "\n",
       "\\item{} Argument \\code{mode} can be \\code{\"any\"}, any of the atomic\n",
       "modes, \\code{\"list\"}, \\code{\"expression\"}, \\code{\"symbol\"},\n",
       "\\code{\"pairlist\"} or one of the aliases \\code{\"double\"} and \\code{\"name\"}.\n",
       "\n",
       "\\item{} The return value should be of the appropriate mode.  For\n",
       "\\code{mode = \"any\"} this means an atomic vector or list.\n",
       "\n",
       "\\item{} Attributes should be treated appropriately: in particular when\n",
       "the result is an atomic vector there should be no attributes, not\n",
       "even names.\n",
       "\n",
       "\\item{} \\code{is.vector(as.vector(x, m), m)} should be true for any\n",
       "mode \\code{m}, including the default \\code{\"any\"}.\n",
       "\n",
       "\\end{itemize}\n",
       "\n",
       "\\end{Section}\n",
       "%\n",
       "\\begin{Note}\\relax\n",
       "\\code{as.vector} and \\code{is.vector} are quite distinct from the\n",
       "meaning of the formal class \\code{\"vector\"} in the \\pkg{methods}\n",
       "package, and hence \\code{\\LinkA{as}{as}(x, \"vector\")} and\n",
       "\\code{\\LinkA{is}{is}(x, \"vector\")}.\n",
       "\n",
       "Note that \\code{as.vector(x)} is not necessarily a null operation if\n",
       "\\code{is.vector(x)} is true: any names will be removed from an atomic\n",
       "vector.\n",
       "\n",
       "Non-vector \\code{mode}s \\code{\"symbol\"} (synonym \\code{\"name\"}) and\n",
       "\\code{\"pairlist\"} are accepted but have long been undocumented: they\n",
       "are used to implement \\code{\\LinkA{as.name}{as.name}} and\n",
       "\\code{\\LinkA{as.pairlist}{as.pairlist}}, and those functions should preferably be\n",
       "used directly.  None of the description here applies to those\n",
       "\\code{mode}s: see the help for the preferred forms.\n",
       "\\end{Note}\n",
       "%\n",
       "\\begin{References}\\relax\n",
       "Becker, R. A., Chambers, J. M. and Wilks, A. R. (1988)\n",
       "\\emph{The New S Language}.\n",
       "Wadsworth \\& Brooks/Cole.\n",
       "\\end{References}\n",
       "%\n",
       "\\begin{SeeAlso}\\relax\n",
       "\\code{\\LinkA{c}{c}}, \\code{\\LinkA{is.numeric}{is.numeric}}, \\code{\\LinkA{is.list}{is.list}}, etc.\n",
       "\\end{SeeAlso}\n",
       "%\n",
       "\\begin{Examples}\n",
       "\\begin{ExampleCode}\n",
       "df <- data.frame(x = 1:3, y = 5:7)\n",
       "## Error:\n",
       "try(as.vector(data.frame(x = 1:3, y = 5:7), mode = \"numeric\"))\n",
       "\n",
       "x <- c(a = 1, b = 2)\n",
       "is.vector(x)\n",
       "as.vector(x)\n",
       "all.equal(x, as.vector(x)) ## FALSE\n",
       "\n",
       "\n",
       "###-- All the following are TRUE:\n",
       "is.list(df)\n",
       "! is.vector(df)\n",
       "! is.vector(df, mode = \"list\")\n",
       "\n",
       "is.vector(list(), mode = \"list\")\n",
       "\\end{ExampleCode}\n",
       "\\end{Examples}"
      ],
      "text/plain": [
       "vector                  package:base                   R Documentation\n",
       "\n",
       "_\bV_\be_\bc_\bt_\bo_\br_\bs\n",
       "\n",
       "_\bD_\be_\bs_\bc_\br_\bi_\bp_\bt_\bi_\bo_\bn:\n",
       "\n",
       "     'vector' produces a vector of the given length and mode.\n",
       "\n",
       "     'as.vector', a generic, attempts to coerce its argument into a\n",
       "     vector of mode 'mode' (the default is to coerce to whichever\n",
       "     vector mode is most convenient): if the result is atomic all\n",
       "     attributes are removed.\n",
       "\n",
       "     'is.vector' returns 'TRUE' if 'x' is a vector of the specified\n",
       "     mode having no attributes _other than names_.  It returns 'FALSE'\n",
       "     otherwise.\n",
       "\n",
       "_\bU_\bs_\ba_\bg_\be:\n",
       "\n",
       "     vector(mode = \"logical\", length = 0)\n",
       "     as.vector(x, mode = \"any\")\n",
       "     is.vector(x, mode = \"any\")\n",
       "     \n",
       "_\bA_\br_\bg_\bu_\bm_\be_\bn_\bt_\bs:\n",
       "\n",
       "    mode: character string naming an atomic mode or '\"list\"' or\n",
       "          '\"expression\"' or (except for 'vector') '\"any\"'.  Currently,\n",
       "          'is.vector()' allows any type (see 'typeof') for 'mode', and\n",
       "          when mode is not '\"any\"', 'is.vector(x, mode)' is almost the\n",
       "          same as 'typeof(x) == mode'.\n",
       "\n",
       "  length: a non-negative integer specifying the desired length.  For a\n",
       "          long vector, i.e., 'length > .Machine$integer.max', it has to\n",
       "          be of type '\"double\"'.  Supplying an argument of length other\n",
       "          than one is an error.\n",
       "\n",
       "       x: an R object.\n",
       "\n",
       "_\bD_\be_\bt_\ba_\bi_\bl_\bs:\n",
       "\n",
       "     The atomic modes are '\"logical\"', '\"integer\"', '\"numeric\"'\n",
       "     (synonym '\"double\"'), '\"complex\"', '\"character\"' and '\"raw\"'.\n",
       "\n",
       "     If 'mode = \"any\"', 'is.vector' may return 'TRUE' for the atomic\n",
       "     modes, 'list' and 'expression'.  For any 'mode', it will return\n",
       "     'FALSE' if 'x' has any attributes except names.  (This is\n",
       "     incompatible with S.)  On the other hand, 'as.vector' removes\n",
       "     _all_ attributes including names for results of atomic mode (but\n",
       "     not those of mode '\"list\"' nor '\"expression\"').\n",
       "\n",
       "     Note that factors are _not_ vectors; 'is.vector' returns 'FALSE'\n",
       "     and 'as.vector' converts a factor to a character vector for 'mode\n",
       "     = \"any\"'.\n",
       "\n",
       "_\bV_\ba_\bl_\bu_\be:\n",
       "\n",
       "     For 'vector', a vector of the given length and mode.  Logical\n",
       "     vector elements are initialized to 'FALSE', numeric vector\n",
       "     elements to '0', character vector elements to '\"\"', raw vector\n",
       "     elements to 'nul' bytes and list/expression elements to 'NULL'.\n",
       "\n",
       "     For 'as.vector', a vector (atomic or of type list or expression).\n",
       "     All attributes are removed from the result if it is of an atomic\n",
       "     mode, but not in general for a list result.  The default method\n",
       "     handles 24 input types and 12 values of 'type': the details of\n",
       "     most coercions are undocumented and subject to change.\n",
       "\n",
       "     For 'is.vector', 'TRUE' or 'FALSE'.  'is.vector(x, mode =\n",
       "     \"numeric\")' can be true for vectors of types '\"integer\"' or\n",
       "     '\"double\"' whereas 'is.vector(x, mode = \"double\")' can only be\n",
       "     true for those of type '\"double\"'.\n",
       "\n",
       "_\bM_\be_\bt_\bh_\bo_\bd_\bs _\bf_\bo_\br '_\ba_\bs._\bv_\be_\bc_\bt_\bo_\br()':\n",
       "\n",
       "     Writers of methods for 'as.vector' need to take care to follow the\n",
       "     conventions of the default method.  In particular\n",
       "\n",
       "        вЂў Argument 'mode' can be '\"any\"', any of the atomic modes,\n",
       "          '\"list\"', '\"expression\"', '\"symbol\"', '\"pairlist\"' or one of\n",
       "          the aliases '\"double\"' and '\"name\"'.\n",
       "\n",
       "        вЂў The return value should be of the appropriate mode.  For\n",
       "          'mode = \"any\"' this means an atomic vector or list.\n",
       "\n",
       "        вЂў Attributes should be treated appropriately: in particular\n",
       "          when the result is an atomic vector there should be no\n",
       "          attributes, not even names.\n",
       "\n",
       "        вЂў 'is.vector(as.vector(x, m), m)' should be true for any mode\n",
       "          'm', including the default '\"any\"'.\n",
       "\n",
       "_\bN_\bo_\bt_\be:\n",
       "\n",
       "     'as.vector' and 'is.vector' are quite distinct from the meaning of\n",
       "     the formal class '\"vector\"' in the 'methods' package, and hence\n",
       "     'as(x, \"vector\")' and 'is(x, \"vector\")'.\n",
       "\n",
       "     Note that 'as.vector(x)' is not necessarily a null operation if\n",
       "     'is.vector(x)' is true: any names will be removed from an atomic\n",
       "     vector.\n",
       "\n",
       "     Non-vector 'mode's '\"symbol\"' (synonym '\"name\"') and '\"pairlist\"'\n",
       "     are accepted but have long been undocumented: they are used to\n",
       "     implement 'as.name' and 'as.pairlist', and those functions should\n",
       "     preferably be used directly.  None of the description here applies\n",
       "     to those 'mode's: see the help for the preferred forms.\n",
       "\n",
       "_\bR_\be_\bf_\be_\br_\be_\bn_\bc_\be_\bs:\n",
       "\n",
       "     Becker, R. A., Chambers, J. M. and Wilks, A. R. (1988) _The New S\n",
       "     Language_.  Wadsworth & Brooks/Cole.\n",
       "\n",
       "_\bS_\be_\be _\bA_\bl_\bs_\bo:\n",
       "\n",
       "     'c', 'is.numeric', 'is.list', etc.\n",
       "\n",
       "_\bE_\bx_\ba_\bm_\bp_\bl_\be_\bs:\n",
       "\n",
       "     df <- data.frame(x = 1:3, y = 5:7)\n",
       "     ## Error:\n",
       "     try(as.vector(data.frame(x = 1:3, y = 5:7), mode = \"numeric\"))\n",
       "     \n",
       "     x <- c(a = 1, b = 2)\n",
       "     is.vector(x)\n",
       "     as.vector(x)\n",
       "     all.equal(x, as.vector(x)) ## FALSE\n",
       "     \n",
       "     \n",
       "     ###-- All the following are TRUE:\n",
       "     is.list(df)\n",
       "     ! is.vector(df)\n",
       "     ! is.vector(df, mode = \"list\")\n",
       "     \n",
       "     is.vector(list(), mode = \"list\")\n",
       "     "
      ]
     },
     "metadata": {},
     "output_type": "display_data"
    }
   ],
   "source": [
    "? vector"
   ]
  },
  {
   "cell_type": "code",
   "execution_count": 4,
   "metadata": {
    "collapsed": true,
    "jupyter": {
     "outputs_hidden": true
    }
   },
   "outputs": [
    {
     "data": {
      "text/html": [
       "\n",
       "<table width=\"100%\" summary=\"page for append {base}\"><tr><td>append {base}</td><td style=\"text-align: right;\">R Documentation</td></tr></table>\n",
       "\n",
       "<h2>Vector Merging</h2>\n",
       "\n",
       "<h3>Description</h3>\n",
       "\n",
       "<p>Add elements to a vector.\n",
       "</p>\n",
       "\n",
       "\n",
       "<h3>Usage</h3>\n",
       "\n",
       "<pre>\n",
       "append(x, values, after = length(x))\n",
       "</pre>\n",
       "\n",
       "\n",
       "<h3>Arguments</h3>\n",
       "\n",
       "<table summary=\"R argblock\">\n",
       "<tr valign=\"top\"><td><code>x</code></td>\n",
       "<td>\n",
       "<p>the vector the values are to be appended to.</p>\n",
       "</td></tr>\n",
       "<tr valign=\"top\"><td><code>values</code></td>\n",
       "<td>\n",
       "<p>to be included in the modified vector.</p>\n",
       "</td></tr>\n",
       "<tr valign=\"top\"><td><code>after</code></td>\n",
       "<td>\n",
       "<p>a subscript, after which the values are to be appended.</p>\n",
       "</td></tr>\n",
       "</table>\n",
       "\n",
       "\n",
       "<h3>Value</h3>\n",
       "\n",
       "<p>A vector containing the values in <code>x</code> with the elements of\n",
       "<code>values</code> appended after the specified element of <code>x</code>.\n",
       "</p>\n",
       "\n",
       "\n",
       "<h3>References</h3>\n",
       "\n",
       "<p>Becker, R. A., Chambers, J. M. and Wilks, A. R. (1988)\n",
       "<em>The New S Language</em>.\n",
       "Wadsworth &amp; Brooks/Cole.\n",
       "</p>\n",
       "\n",
       "\n",
       "<h3>Examples</h3>\n",
       "\n",
       "<pre>\n",
       "append(1:5, 0:1, after = 3)\n",
       "</pre>\n",
       "\n",
       "<hr /><div style=\"text-align: center;\">[Package <em>base</em> version 3.6.1 ]</div>"
      ],
      "text/latex": [
       "\\inputencoding{utf8}\n",
       "\\HeaderA{append}{Vector Merging}{append}\n",
       "\\keyword{manip}{append}\n",
       "%\n",
       "\\begin{Description}\\relax\n",
       "Add elements to a vector.\n",
       "\\end{Description}\n",
       "%\n",
       "\\begin{Usage}\n",
       "\\begin{verbatim}\n",
       "append(x, values, after = length(x))\n",
       "\\end{verbatim}\n",
       "\\end{Usage}\n",
       "%\n",
       "\\begin{Arguments}\n",
       "\\begin{ldescription}\n",
       "\\item[\\code{x}] the vector the values are to be appended to.\n",
       "\\item[\\code{values}] to be included in the modified vector.\n",
       "\\item[\\code{after}] a subscript, after which the values are to be appended.\n",
       "\\end{ldescription}\n",
       "\\end{Arguments}\n",
       "%\n",
       "\\begin{Value}\n",
       "A vector containing the values in \\code{x} with the elements of\n",
       "\\code{values} appended after the specified element of \\code{x}.\n",
       "\\end{Value}\n",
       "%\n",
       "\\begin{References}\\relax\n",
       "Becker, R. A., Chambers, J. M. and Wilks, A. R. (1988)\n",
       "\\emph{The New S Language}.\n",
       "Wadsworth \\& Brooks/Cole.\n",
       "\\end{References}\n",
       "%\n",
       "\\begin{Examples}\n",
       "\\begin{ExampleCode}\n",
       "append(1:5, 0:1, after = 3)\n",
       "\\end{ExampleCode}\n",
       "\\end{Examples}"
      ],
      "text/plain": [
       "append                  package:base                   R Documentation\n",
       "\n",
       "_\bV_\be_\bc_\bt_\bo_\br _\bM_\be_\br_\bg_\bi_\bn_\bg\n",
       "\n",
       "_\bD_\be_\bs_\bc_\br_\bi_\bp_\bt_\bi_\bo_\bn:\n",
       "\n",
       "     Add elements to a vector.\n",
       "\n",
       "_\bU_\bs_\ba_\bg_\be:\n",
       "\n",
       "     append(x, values, after = length(x))\n",
       "     \n",
       "_\bA_\br_\bg_\bu_\bm_\be_\bn_\bt_\bs:\n",
       "\n",
       "       x: the vector the values are to be appended to.\n",
       "\n",
       "  values: to be included in the modified vector.\n",
       "\n",
       "   after: a subscript, after which the values are to be appended.\n",
       "\n",
       "_\bV_\ba_\bl_\bu_\be:\n",
       "\n",
       "     A vector containing the values in 'x' with the elements of\n",
       "     'values' appended after the specified element of 'x'.\n",
       "\n",
       "_\bR_\be_\bf_\be_\br_\be_\bn_\bc_\be_\bs:\n",
       "\n",
       "     Becker, R. A., Chambers, J. M. and Wilks, A. R. (1988) _The New S\n",
       "     Language_.  Wadsworth & Brooks/Cole.\n",
       "\n",
       "_\bE_\bx_\ba_\bm_\bp_\bl_\be_\bs:\n",
       "\n",
       "     append(1:5, 0:1, after = 3)\n",
       "     "
      ]
     },
     "metadata": {},
     "output_type": "display_data"
    }
   ],
   "source": [
    "?append"
   ]
  },
  {
   "cell_type": "code",
   "execution_count": 26,
   "metadata": {},
   "outputs": [
    {
     "data": {
      "text/html": [
       "<style>\n",
       ".list-inline {list-style: none; margin:0; padding: 0}\n",
       ".list-inline>li {display: inline-block}\n",
       ".list-inline>li:not(:last-child)::after {content: \"\\00b7\"; padding: 0 .5ex}\n",
       "</style>\n",
       "<ol class=list-inline><li>0</li><li>1</li><li>2</li><li>3</li></ol>\n"
      ],
      "text/latex": [
       "\\begin{enumerate*}\n",
       "\\item 0\n",
       "\\item 1\n",
       "\\item 2\n",
       "\\item 3\n",
       "\\end{enumerate*}\n"
      ],
      "text/markdown": [
       "1. 0\n",
       "2. 1\n",
       "3. 2\n",
       "4. 3\n",
       "\n",
       "\n"
      ],
      "text/plain": [
       "[1] 0 1 2 3"
      ]
     },
     "metadata": {},
     "output_type": "display_data"
    }
   ],
   "source": [
    "a<-c(0, 1, 2, 3)\n",
    "a"
   ]
  },
  {
   "cell_type": "code",
   "execution_count": 27,
   "metadata": {},
   "outputs": [
    {
     "data": {
      "text/html": [
       "'numeric'"
      ],
      "text/latex": [
       "'numeric'"
      ],
      "text/markdown": [
       "'numeric'"
      ],
      "text/plain": [
       "[1] \"numeric\""
      ]
     },
     "metadata": {},
     "output_type": "display_data"
    }
   ],
   "source": [
    "class(a)"
   ]
  },
  {
   "cell_type": "code",
   "execution_count": 29,
   "metadata": {},
   "outputs": [
    {
     "data": {
      "text/html": [
       "0"
      ],
      "text/latex": [
       "0"
      ],
      "text/markdown": [
       "0"
      ],
      "text/plain": [
       "[1] 0"
      ]
     },
     "metadata": {},
     "output_type": "display_data"
    }
   ],
   "source": [
    "a[1]   #!!! Индексация с единицы"
   ]
  },
  {
   "cell_type": "code",
   "execution_count": 32,
   "metadata": {},
   "outputs": [
    {
     "data": {
      "text/html": [
       "<style>\n",
       ".list-inline {list-style: none; margin:0; padding: 0}\n",
       ".list-inline>li {display: inline-block}\n",
       ".list-inline>li:not(:last-child)::after {content: \"\\00b7\"; padding: 0 .5ex}\n",
       "</style>\n",
       "<ol class=list-inline><li>2</li><li>2</li><li>2</li></ol>\n"
      ],
      "text/latex": [
       "\\begin{enumerate*}\n",
       "\\item 2\n",
       "\\item 2\n",
       "\\item 2\n",
       "\\end{enumerate*}\n"
      ],
      "text/markdown": [
       "1. 2\n",
       "2. 2\n",
       "3. 2\n",
       "\n",
       "\n"
      ],
      "text/plain": [
       "[1] 2 2 2"
      ]
     },
     "metadata": {},
     "output_type": "display_data"
    }
   ],
   "source": [
    "b<-c(rep(2, times=3))\n",
    "b"
   ]
  },
  {
   "cell_type": "code",
   "execution_count": 33,
   "metadata": {},
   "outputs": [
    {
     "data": {
      "text/html": [
       "<style>\n",
       ".list-inline {list-style: none; margin:0; padding: 0}\n",
       ".list-inline>li {display: inline-block}\n",
       ".list-inline>li:not(:last-child)::after {content: \"\\00b7\"; padding: 0 .5ex}\n",
       "</style>\n",
       "<ol class=list-inline><li>2</li><li>2</li><li>2</li><li>2</li><li>2</li></ol>\n"
      ],
      "text/latex": [
       "\\begin{enumerate*}\n",
       "\\item 2\n",
       "\\item 2\n",
       "\\item 2\n",
       "\\item 2\n",
       "\\item 2\n",
       "\\end{enumerate*}\n"
      ],
      "text/markdown": [
       "1. 2\n",
       "2. 2\n",
       "3. 2\n",
       "4. 2\n",
       "5. 2\n",
       "\n",
       "\n"
      ],
      "text/plain": [
       "[1] 2 2 2 2 2"
      ]
     },
     "metadata": {},
     "output_type": "display_data"
    }
   ],
   "source": [
    "v<-c(rep(2, 5))\n",
    "v"
   ]
  },
  {
   "cell_type": "code",
   "execution_count": 34,
   "metadata": {},
   "outputs": [
    {
     "data": {
      "text/html": [
       "<style>\n",
       ".list-inline {list-style: none; margin:0; padding: 0}\n",
       ".list-inline>li {display: inline-block}\n",
       ".list-inline>li:not(:last-child)::after {content: \"\\00b7\"; padding: 0 .5ex}\n",
       "</style>\n",
       "<ol class=list-inline><li>2</li><li>2</li><li>2</li><li>2</li></ol>\n"
      ],
      "text/latex": [
       "\\begin{enumerate*}\n",
       "\\item 2\n",
       "\\item 2\n",
       "\\item 2\n",
       "\\item 2\n",
       "\\end{enumerate*}\n"
      ],
      "text/markdown": [
       "1. 2\n",
       "2. 2\n",
       "3. 2\n",
       "4. 2\n",
       "\n",
       "\n"
      ],
      "text/plain": [
       "[1] 2 2 2 2"
      ]
     },
     "metadata": {},
     "output_type": "display_data"
    }
   ],
   "source": [
    "rep(2, 4)"
   ]
  },
  {
   "cell_type": "code",
   "execution_count": 35,
   "metadata": {},
   "outputs": [
    {
     "data": {
      "text/html": [
       "4"
      ],
      "text/latex": [
       "4"
      ],
      "text/markdown": [
       "4"
      ],
      "text/plain": [
       "[1] 4"
      ]
     },
     "metadata": {},
     "output_type": "display_data"
    }
   ],
   "source": [
    "length(a)"
   ]
  },
  {
   "cell_type": "code",
   "execution_count": 36,
   "metadata": {},
   "outputs": [
    {
     "data": {
      "text/html": [
       "3"
      ],
      "text/latex": [
       "3"
      ],
      "text/markdown": [
       "3"
      ],
      "text/plain": [
       "[1] 3"
      ]
     },
     "metadata": {},
     "output_type": "display_data"
    }
   ],
   "source": [
    "length(b)"
   ]
  },
  {
   "cell_type": "code",
   "execution_count": 37,
   "metadata": {},
   "outputs": [
    {
     "name": "stderr",
     "output_type": "stream",
     "text": [
      "Warning message in a + v:\n",
      "\"длина большего объекта не является произведением длины меньшего объекта\"\n"
     ]
    },
    {
     "data": {
      "text/html": [
       "<style>\n",
       ".list-inline {list-style: none; margin:0; padding: 0}\n",
       ".list-inline>li {display: inline-block}\n",
       ".list-inline>li:not(:last-child)::after {content: \"\\00b7\"; padding: 0 .5ex}\n",
       "</style>\n",
       "<ol class=list-inline><li>2</li><li>3</li><li>4</li><li>5</li><li>2</li></ol>\n"
      ],
      "text/latex": [
       "\\begin{enumerate*}\n",
       "\\item 2\n",
       "\\item 3\n",
       "\\item 4\n",
       "\\item 5\n",
       "\\item 2\n",
       "\\end{enumerate*}\n"
      ],
      "text/markdown": [
       "1. 2\n",
       "2. 3\n",
       "3. 4\n",
       "4. 5\n",
       "5. 2\n",
       "\n",
       "\n"
      ],
      "text/plain": [
       "[1] 2 3 4 5 2"
      ]
     },
     "metadata": {},
     "output_type": "display_data"
    }
   ],
   "source": [
    "a+v"
   ]
  },
  {
   "cell_type": "code",
   "execution_count": 5,
   "metadata": {},
   "outputs": [
    {
     "data": {
      "text/html": [
       "<ol class=list-inline>\n",
       "\t<li>3</li>\n",
       "\t<li>3</li>\n",
       "\t<li>3</li>\n",
       "\t<li>3</li>\n",
       "</ol>\n"
      ],
      "text/latex": [
       "\\begin{enumerate*}\n",
       "\\item 3\n",
       "\\item 3\n",
       "\\item 3\n",
       "\\item 3\n",
       "\\end{enumerate*}\n"
      ],
      "text/markdown": [
       "1. 3\n",
       "2. 3\n",
       "3. 3\n",
       "4. 3\n",
       "\n",
       "\n"
      ],
      "text/plain": [
       "[1] 3 3 3 3"
      ]
     },
     "metadata": {},
     "output_type": "display_data"
    }
   ],
   "source": [
    "m<-rep(3, 4)\n",
    "m"
   ]
  },
  {
   "cell_type": "code",
   "execution_count": 40,
   "metadata": {},
   "outputs": [
    {
     "data": {
      "text/html": [
       "<style>\n",
       ".list-inline {list-style: none; margin:0; padding: 0}\n",
       ".list-inline>li {display: inline-block}\n",
       ".list-inline>li:not(:last-child)::after {content: \"\\00b7\"; padding: 0 .5ex}\n",
       "</style>\n",
       "<ol class=list-inline><li>3</li><li>4</li><li>5</li><li>6</li></ol>\n"
      ],
      "text/latex": [
       "\\begin{enumerate*}\n",
       "\\item 3\n",
       "\\item 4\n",
       "\\item 5\n",
       "\\item 6\n",
       "\\end{enumerate*}\n"
      ],
      "text/markdown": [
       "1. 3\n",
       "2. 4\n",
       "3. 5\n",
       "4. 6\n",
       "\n",
       "\n"
      ],
      "text/plain": [
       "[1] 3 4 5 6"
      ]
     },
     "metadata": {},
     "output_type": "display_data"
    }
   ],
   "source": [
    "s<-a+m\n",
    "s"
   ]
  },
  {
   "cell_type": "code",
   "execution_count": 41,
   "metadata": {},
   "outputs": [
    {
     "data": {
      "text/html": [
       "<style>\n",
       ".list-inline {list-style: none; margin:0; padding: 0}\n",
       ".list-inline>li {display: inline-block}\n",
       ".list-inline>li:not(:last-child)::after {content: \"\\00b7\"; padding: 0 .5ex}\n",
       "</style>\n",
       "<ol class=list-inline><li>1</li><li>2</li><li>3</li><li>4</li><li>5</li><li>6</li><li>7</li><li>8</li><li>9</li><li>10</li></ol>\n"
      ],
      "text/latex": [
       "\\begin{enumerate*}\n",
       "\\item 1\n",
       "\\item 2\n",
       "\\item 3\n",
       "\\item 4\n",
       "\\item 5\n",
       "\\item 6\n",
       "\\item 7\n",
       "\\item 8\n",
       "\\item 9\n",
       "\\item 10\n",
       "\\end{enumerate*}\n"
      ],
      "text/markdown": [
       "1. 1\n",
       "2. 2\n",
       "3. 3\n",
       "4. 4\n",
       "5. 5\n",
       "6. 6\n",
       "7. 7\n",
       "8. 8\n",
       "9. 9\n",
       "10. 10\n",
       "\n",
       "\n"
      ],
      "text/plain": [
       " [1]  1  2  3  4  5  6  7  8  9 10"
      ]
     },
     "metadata": {},
     "output_type": "display_data"
    }
   ],
   "source": [
    "1:10"
   ]
  },
  {
   "cell_type": "code",
   "execution_count": 42,
   "metadata": {},
   "outputs": [
    {
     "data": {
      "text/html": [
       "<style>\n",
       ".list-inline {list-style: none; margin:0; padding: 0}\n",
       ".list-inline>li {display: inline-block}\n",
       ".list-inline>li:not(:last-child)::after {content: \"\\00b7\"; padding: 0 .5ex}\n",
       "</style>\n",
       "<ol class=list-inline><li>10</li><li>9</li><li>8</li><li>7</li><li>6</li><li>5</li><li>4</li><li>3</li><li>2</li><li>1</li></ol>\n"
      ],
      "text/latex": [
       "\\begin{enumerate*}\n",
       "\\item 10\n",
       "\\item 9\n",
       "\\item 8\n",
       "\\item 7\n",
       "\\item 6\n",
       "\\item 5\n",
       "\\item 4\n",
       "\\item 3\n",
       "\\item 2\n",
       "\\item 1\n",
       "\\end{enumerate*}\n"
      ],
      "text/markdown": [
       "1. 10\n",
       "2. 9\n",
       "3. 8\n",
       "4. 7\n",
       "5. 6\n",
       "6. 5\n",
       "7. 4\n",
       "8. 3\n",
       "9. 2\n",
       "10. 1\n",
       "\n",
       "\n"
      ],
      "text/plain": [
       " [1] 10  9  8  7  6  5  4  3  2  1"
      ]
     },
     "metadata": {},
     "output_type": "display_data"
    }
   ],
   "source": [
    "10:1"
   ]
  },
  {
   "cell_type": "code",
   "execution_count": 43,
   "metadata": {},
   "outputs": [
    {
     "data": {
      "text/html": [
       "<style>\n",
       ".list-inline {list-style: none; margin:0; padding: 0}\n",
       ".list-inline>li {display: inline-block}\n",
       ".list-inline>li:not(:last-child)::after {content: \"\\00b7\"; padding: 0 .5ex}\n",
       "</style>\n",
       "<ol class=list-inline><li>2</li><li>4</li><li>6</li><li>8</li></ol>\n"
      ],
      "text/latex": [
       "\\begin{enumerate*}\n",
       "\\item 2\n",
       "\\item 4\n",
       "\\item 6\n",
       "\\item 8\n",
       "\\end{enumerate*}\n"
      ],
      "text/markdown": [
       "1. 2\n",
       "2. 4\n",
       "3. 6\n",
       "4. 8\n",
       "\n",
       "\n"
      ],
      "text/plain": [
       "[1] 2 4 6 8"
      ]
     },
     "metadata": {},
     "output_type": "display_data"
    }
   ],
   "source": [
    "seq(2, 8, by=2)"
   ]
  },
  {
   "cell_type": "code",
   "execution_count": 44,
   "metadata": {},
   "outputs": [
    {
     "data": {
      "text/html": [
       "<style>\n",
       ".list-inline {list-style: none; margin:0; padding: 0}\n",
       ".list-inline>li {display: inline-block}\n",
       ".list-inline>li:not(:last-child)::after {content: \"\\00b7\"; padding: 0 .5ex}\n",
       "</style>\n",
       "<ol class=list-inline><li>1</li><li>3</li><li>5</li><li>7</li><li>9</li></ol>\n"
      ],
      "text/latex": [
       "\\begin{enumerate*}\n",
       "\\item 1\n",
       "\\item 3\n",
       "\\item 5\n",
       "\\item 7\n",
       "\\item 9\n",
       "\\end{enumerate*}\n"
      ],
      "text/markdown": [
       "1. 1\n",
       "2. 3\n",
       "3. 5\n",
       "4. 7\n",
       "5. 9\n",
       "\n",
       "\n"
      ],
      "text/plain": [
       "[1] 1 3 5 7 9"
      ]
     },
     "metadata": {},
     "output_type": "display_data"
    }
   ],
   "source": [
    "seq(1, 9, by = 2)"
   ]
  },
  {
   "cell_type": "code",
   "execution_count": 45,
   "metadata": {
    "collapsed": true,
    "jupyter": {
     "outputs_hidden": true
    }
   },
   "outputs": [
    {
     "data": {
      "text/html": [
       "\n",
       "<table width=\"100%\" summary=\"page for seq {base}\"><tr><td>seq {base}</td><td style=\"text-align: right;\">R Documentation</td></tr></table>\n",
       "\n",
       "<h2>Sequence Generation</h2>\n",
       "\n",
       "<h3>Description</h3>\n",
       "\n",
       "<p>Generate regular sequences.  <code>seq</code> is a standard generic with a\n",
       "default method.  <code>seq.int</code> is a primitive which can be\n",
       "much faster but has a few restrictions.  <code>seq_along</code> and\n",
       "<code>seq_len</code> are very fast primitives for two common cases.\n",
       "</p>\n",
       "\n",
       "\n",
       "<h3>Usage</h3>\n",
       "\n",
       "<pre>\n",
       "seq(...)\n",
       "\n",
       "## Default S3 method:\n",
       "seq(from = 1, to = 1, by = ((to - from)/(length.out - 1)),\n",
       "    length.out = NULL, along.with = NULL, ...)\n",
       "\n",
       "seq.int(from, to, by, length.out, along.with, ...)\n",
       "\n",
       "seq_along(along.with)\n",
       "seq_len(length.out)\n",
       "</pre>\n",
       "\n",
       "\n",
       "<h3>Arguments</h3>\n",
       "\n",
       "<table summary=\"R argblock\">\n",
       "<tr valign=\"top\"><td><code>...</code></td>\n",
       "<td>\n",
       "<p>arguments passed to or from methods.</p>\n",
       "</td></tr>\n",
       "<tr valign=\"top\"><td><code>from, to</code></td>\n",
       "<td>\n",
       "<p>the starting and (maximal) end values of the\n",
       "sequence.  Of length <code>1</code> unless just <code>from</code> is supplied as\n",
       "an unnamed argument.</p>\n",
       "</td></tr>\n",
       "<tr valign=\"top\"><td><code>by</code></td>\n",
       "<td>\n",
       "<p>number: increment of the sequence.</p>\n",
       "</td></tr>\n",
       "<tr valign=\"top\"><td><code>length.out</code></td>\n",
       "<td>\n",
       "<p>desired length of the sequence.  A\n",
       "non-negative number, which for <code>seq</code> and <code>seq.int</code> will be\n",
       "rounded up if fractional.</p>\n",
       "</td></tr>\n",
       "<tr valign=\"top\"><td><code>along.with</code></td>\n",
       "<td>\n",
       "<p>take the length from the length of this argument.</p>\n",
       "</td></tr>\n",
       "</table>\n",
       "\n",
       "\n",
       "<h3>Details</h3>\n",
       "\n",
       "<p>Numerical inputs should all be finite (that is, not infinite,\n",
       "<code>NaN</code> or <code>NA</code>).\n",
       "</p>\n",
       "<p>The interpretation of the unnamed arguments of <code>seq</code> and\n",
       "<code>seq.int</code> is <em>not</em> standard, and it is recommended always to\n",
       "name the arguments when programming.\n",
       "</p>\n",
       "<p><code>seq</code> is  generic, and only the default method is described here.\n",
       "Note that it dispatches on the class of the <strong>first</strong> argument\n",
       "irrespective of argument names.  This can have unintended consequences\n",
       "if it is called with just one argument intending this to be taken as\n",
       "<code>along.with</code>: it is much better to use <code>seq_along</code> in that\n",
       "case.\n",
       "</p>\n",
       "<p><code>seq.int</code> is an internal generic which dispatches on\n",
       "methods for <code>\"seq\"</code> based on the class of the first supplied\n",
       "argument (before argument matching).\n",
       "</p>\n",
       "<p>Typical usages are\n",
       "</p>\n",
       "<pre>seq(from, to)\n",
       "seq(from, to, by= )\n",
       "seq(from, to, length.out= )\n",
       "seq(along.with= )\n",
       "seq(from)\n",
       "seq(length.out= )\n",
       "</pre>\n",
       "<p>The first form generates the sequence <code>from, from+/-1, ..., to</code>\n",
       "(identical to <code>from:to</code>).\n",
       "</p>\n",
       "<p>The second form generates <code>from, from+by</code>, ..., up to the\n",
       "sequence value less than or equal to <code>to</code>.  Specifying <code>to -\n",
       "  from</code> and <code>by</code> of opposite signs is an error.  Note that the\n",
       "computed final value can go just beyond <code>to</code> to allow for\n",
       "rounding error, but is truncated to <code>to</code>.  (&lsquo;Just beyond&rsquo;\n",
       "is by up to <i>1e-10</i> times <code>abs(from - to)</code>.)\n",
       "</p>\n",
       "<p>The third generates a sequence of <code>length.out</code> equally spaced\n",
       "values from <code>from</code> to <code>to</code>.  (<code>length.out</code> is usually\n",
       "abbreviated to <code>length</code> or <code>len</code>, and <code>seq_len</code> is much\n",
       "faster.)\n",
       "</p>\n",
       "<p>The fourth form generates the integer sequence <code>1, 2, ...,\n",
       "    length(along.with)</code>.  (<code>along.with</code> is usually abbreviated to\n",
       "<code>along</code>, and <code>seq_along</code> is much faster.)\n",
       "</p>\n",
       "<p>The fifth form generates the sequence <code>1, 2, ..., length(from)</code>\n",
       "(as if argument <code>along.with</code> had been specified), <em>unless</em>\n",
       "the argument is numeric of length 1 when it is interpreted as\n",
       "<code>1:from</code> (even for <code>seq(0)</code> for compatibility with S).\n",
       "Using either <code>seq_along</code> or <code>seq_len</code> is much preferred\n",
       "(unless strict S compatibility is essential).\n",
       "</p>\n",
       "<p>The final form generates the integer sequence <code>1, 2, ...,\n",
       "  length.out</code> unless <code>length.out = 0</code>, when it generates\n",
       "<code>integer(0)</code>.\n",
       "</p>\n",
       "<p>Very small sequences (with <code>from - to</code> of the order of <i>10^{-14}</i>\n",
       "times the larger of the ends) will return <code>from</code>.\n",
       "</p>\n",
       "<p>For <code>seq</code> (only), up to two of <code>from</code>, <code>to</code> and\n",
       "<code>by</code> can be supplied as complex values provided <code>length.out</code>\n",
       "or <code>along.with</code> is specified.  More generally, the default method\n",
       "of <code>seq</code> will handle classed objects with methods for\n",
       "the <code>Math</code>, <code>Ops</code> and <code>Summary</code> group generics.\n",
       "</p>\n",
       "<p><code>seq.int</code>, <code>seq_along</code> and <code>seq_len</code> are\n",
       "primitive.\n",
       "</p>\n",
       "\n",
       "\n",
       "<h3>Value</h3>\n",
       "\n",
       "<p><code>seq.int</code> and the default method of <code>seq</code> for numeric\n",
       "arguments return a vector of type <code>\"integer\"</code> or <code>\"double\"</code>:\n",
       "programmers should not rely on which.\n",
       "</p>\n",
       "<p><code>seq_along</code> and <code>seq_len</code> return an integer vector, unless\n",
       "it is a <em>long vector</em> when it will be double.\n",
       "</p>\n",
       "\n",
       "\n",
       "<h3>References</h3>\n",
       "\n",
       "<p>Becker, R. A., Chambers, J. M. and Wilks, A. R. (1988)\n",
       "<em>The New S Language</em>.\n",
       "Wadsworth &amp; Brooks/Cole.\n",
       "</p>\n",
       "\n",
       "\n",
       "<h3>See Also</h3>\n",
       "\n",
       "<p>The methods <code>seq.Date</code> and <code>seq.POSIXt</code>.\n",
       "</p>\n",
       "<p><code>:</code>,\n",
       "<code>rep</code>,\n",
       "<code>sequence</code>,\n",
       "<code>row</code>,\n",
       "<code>col</code>.\n",
       "</p>\n",
       "\n",
       "\n",
       "<h3>Examples</h3>\n",
       "\n",
       "<pre>\n",
       "seq(0, 1, length.out = 11)\n",
       "seq(stats::rnorm(20)) # effectively 'along'\n",
       "seq(1, 9, by = 2)     # matches 'end'\n",
       "seq(1, 9, by = pi)    # stays below 'end'\n",
       "seq(1, 6, by = 3)\n",
       "seq(1.575, 5.125, by = 0.05)\n",
       "seq(17) # same as 1:17, or even better seq_len(17)\n",
       "</pre>\n",
       "\n",
       "<hr /><div style=\"text-align: center;\">[Package <em>base</em> version 3.6.1 ]</div>"
      ],
      "text/latex": [
       "\\inputencoding{utf8}\n",
       "\\HeaderA{seq}{Sequence Generation}{seq}\n",
       "\\methaliasA{seq.default}{seq}{seq.default}\n",
       "\\methaliasA{seq.int}{seq}{seq.int}\n",
       "\\aliasA{seq\\_along}{seq}{seq.Rul.along}\n",
       "\\aliasA{seq\\_len}{seq}{seq.Rul.len}\n",
       "\\keyword{manip}{seq}\n",
       "%\n",
       "\\begin{Description}\\relax\n",
       "Generate regular sequences.  \\code{seq} is a standard generic with a\n",
       "default method.  \\code{seq.int} is a primitive which can be\n",
       "much faster but has a few restrictions.  \\code{seq\\_along} and\n",
       "\\code{seq\\_len} are very fast primitives for two common cases.\n",
       "\\end{Description}\n",
       "%\n",
       "\\begin{Usage}\n",
       "\\begin{verbatim}\n",
       "seq(...)\n",
       "\n",
       "## Default S3 method:\n",
       "seq(from = 1, to = 1, by = ((to - from)/(length.out - 1)),\n",
       "    length.out = NULL, along.with = NULL, ...)\n",
       "\n",
       "seq.int(from, to, by, length.out, along.with, ...)\n",
       "\n",
       "seq_along(along.with)\n",
       "seq_len(length.out)\n",
       "\\end{verbatim}\n",
       "\\end{Usage}\n",
       "%\n",
       "\\begin{Arguments}\n",
       "\\begin{ldescription}\n",
       "\\item[\\code{...}] arguments passed to or from methods.\n",
       "\\item[\\code{from, to}] the starting and (maximal) end values of the\n",
       "sequence.  Of length \\code{1} unless just \\code{from} is supplied as\n",
       "an unnamed argument.\n",
       "\\item[\\code{by}] number: increment of the sequence.\n",
       "\\item[\\code{length.out}] desired length of the sequence.  A\n",
       "non-negative number, which for \\code{seq} and \\code{seq.int} will be\n",
       "rounded up if fractional.\n",
       "\\item[\\code{along.with}] take the length from the length of this argument.\n",
       "\\end{ldescription}\n",
       "\\end{Arguments}\n",
       "%\n",
       "\\begin{Details}\\relax\n",
       "Numerical inputs should all be \\LinkA{finite}{finite} (that is, not infinite,\n",
       "\\code{\\LinkA{NaN}{NaN}} or \\code{NA}).\n",
       "\n",
       "The interpretation of the unnamed arguments of \\code{seq} and\n",
       "\\code{seq.int} is \\emph{not} standard, and it is recommended always to\n",
       "name the arguments when programming.\n",
       "\n",
       "\\code{seq} is  generic, and only the default method is described here.\n",
       "Note that it dispatches on the class of the \\strong{first} argument\n",
       "irrespective of argument names.  This can have unintended consequences\n",
       "if it is called with just one argument intending this to be taken as\n",
       "\\code{along.with}: it is much better to use \\code{seq\\_along} in that\n",
       "case.\n",
       "\n",
       "\\code{seq.int} is an \\LinkA{internal generic}{internal generic} which dispatches on\n",
       "methods for \\code{\"seq\"} based on the class of the first supplied\n",
       "argument (before argument matching).\n",
       "\n",
       "Typical usages are\n",
       "\\begin{alltt}seq(from, to)\n",
       "seq(from, to, by= )\n",
       "seq(from, to, length.out= )\n",
       "seq(along.with= )\n",
       "seq(from)\n",
       "seq(length.out= )\n",
       "\\end{alltt}\n",
       "\n",
       "The first form generates the sequence \\code{from, from+/-1, ..., to}\n",
       "(identical to \\code{from:to}).\n",
       "\n",
       "The second form generates \\code{from, from+by}, \\ldots, up to the\n",
       "sequence value less than or equal to \\code{to}.  Specifying \\code{to -\n",
       "  from} and \\code{by} of opposite signs is an error.  Note that the\n",
       "computed final value can go just beyond \\code{to} to allow for\n",
       "rounding error, but is truncated to \\code{to}.  (`Just beyond'\n",
       "is by up to \\eqn{10^{-10}}{} times \\code{abs(from - to)}.)\n",
       "\n",
       "The third generates a sequence of \\code{length.out} equally spaced\n",
       "values from \\code{from} to \\code{to}.  (\\code{length.out} is usually\n",
       "abbreviated to \\code{length} or \\code{len}, and \\code{seq\\_len} is much\n",
       "faster.)\n",
       "\n",
       "The fourth form generates the integer sequence \\code{1, 2, ...,\n",
       "    length(along.with)}.  (\\code{along.with} is usually abbreviated to\n",
       "\\code{along}, and \\code{seq\\_along} is much faster.)\n",
       "\n",
       "The fifth form generates the sequence \\code{1, 2, ..., length(from)}\n",
       "(as if argument \\code{along.with} had been specified), \\emph{unless}\n",
       "the argument is numeric of length 1 when it is interpreted as\n",
       "\\code{1:from} (even for \\code{seq(0)} for compatibility with S).\n",
       "Using either \\code{seq\\_along} or \\code{seq\\_len} is much preferred\n",
       "(unless strict S compatibility is essential).\n",
       "\n",
       "The final form generates the integer sequence \\code{1, 2, ...,\n",
       "  length.out} unless \\code{length.out = 0}, when it generates\n",
       "\\code{integer(0)}.\n",
       "\n",
       "Very small sequences (with \\code{from - to} of the order of \\eqn{10^{-14}}{}\n",
       "times the larger of the ends) will return \\code{from}.\n",
       "\n",
       "For \\code{seq} (only), up to two of \\code{from}, \\code{to} and\n",
       "\\code{by} can be supplied as complex values provided \\code{length.out}\n",
       "or \\code{along.with} is specified.  More generally, the default method\n",
       "of \\code{seq} will handle classed objects with methods for\n",
       "the \\code{Math}, \\code{Ops} and \\code{Summary} group generics.\n",
       "\n",
       "\\code{seq.int}, \\code{seq\\_along} and \\code{seq\\_len} are\n",
       "\\LinkA{primitive}{primitive}.\n",
       "\\end{Details}\n",
       "%\n",
       "\\begin{Value}\n",
       "\\code{seq.int} and the default method of \\code{seq} for numeric\n",
       "arguments return a vector of type \\code{\"integer\"} or \\code{\"double\"}:\n",
       "programmers should not rely on which.\n",
       "\n",
       "\\code{seq\\_along} and \\code{seq\\_len} return an integer vector, unless\n",
       "it is a \\emph{long vector} when it will be double.\n",
       "\\end{Value}\n",
       "%\n",
       "\\begin{References}\\relax\n",
       "Becker, R. A., Chambers, J. M. and Wilks, A. R. (1988)\n",
       "\\emph{The New S Language}.\n",
       "Wadsworth \\& Brooks/Cole.\n",
       "\\end{References}\n",
       "%\n",
       "\\begin{SeeAlso}\\relax\n",
       "The methods \\code{\\LinkA{seq.Date}{seq.Date}} and \\code{\\LinkA{seq.POSIXt}{seq.POSIXt}}.\n",
       "\n",
       "\\code{\\LinkA{:}{:}},\n",
       "\\code{\\LinkA{rep}{rep}},\n",
       "\\code{\\LinkA{sequence}{sequence}},\n",
       "\\code{\\LinkA{row}{row}},\n",
       "\\code{\\LinkA{col}{col}}.\n",
       "\\end{SeeAlso}\n",
       "%\n",
       "\\begin{Examples}\n",
       "\\begin{ExampleCode}\n",
       "seq(0, 1, length.out = 11)\n",
       "seq(stats::rnorm(20)) # effectively 'along'\n",
       "seq(1, 9, by = 2)     # matches 'end'\n",
       "seq(1, 9, by = pi)    # stays below 'end'\n",
       "seq(1, 6, by = 3)\n",
       "seq(1.575, 5.125, by = 0.05)\n",
       "seq(17) # same as 1:17, or even better seq_len(17)\n",
       "\\end{ExampleCode}\n",
       "\\end{Examples}"
      ],
      "text/plain": [
       "seq                    package:base                    R Documentation\n",
       "\n",
       "_\bS_\be_\bq_\bu_\be_\bn_\bc_\be _\bG_\be_\bn_\be_\br_\ba_\bt_\bi_\bo_\bn\n",
       "\n",
       "_\bD_\be_\bs_\bc_\br_\bi_\bp_\bt_\bi_\bo_\bn:\n",
       "\n",
       "     Generate regular sequences.  'seq' is a standard generic with a\n",
       "     default method.  'seq.int' is a primitive which can be much faster\n",
       "     but has a few restrictions.  'seq_along' and 'seq_len' are very\n",
       "     fast primitives for two common cases.\n",
       "\n",
       "_\bU_\bs_\ba_\bg_\be:\n",
       "\n",
       "     seq(...)\n",
       "     \n",
       "     ## Default S3 method:\n",
       "     seq(from = 1, to = 1, by = ((to - from)/(length.out - 1)),\n",
       "         length.out = NULL, along.with = NULL, ...)\n",
       "     \n",
       "     seq.int(from, to, by, length.out, along.with, ...)\n",
       "     \n",
       "     seq_along(along.with)\n",
       "     seq_len(length.out)\n",
       "     \n",
       "_\bA_\br_\bg_\bu_\bm_\be_\bn_\bt_\bs:\n",
       "\n",
       "     ...: arguments passed to or from methods.\n",
       "\n",
       "from, to: the starting and (maximal) end values of the sequence.  Of\n",
       "          length '1' unless just 'from' is supplied as an unnamed\n",
       "          argument.\n",
       "\n",
       "      by: number: increment of the sequence.\n",
       "\n",
       "length.out: desired length of the sequence.  A non-negative number,\n",
       "          which for 'seq' and 'seq.int' will be rounded up if\n",
       "          fractional.\n",
       "\n",
       "along.with: take the length from the length of this argument.\n",
       "\n",
       "_\bD_\be_\bt_\ba_\bi_\bl_\bs:\n",
       "\n",
       "     Numerical inputs should all be finite (that is, not infinite,\n",
       "     'NaN' or 'NA').\n",
       "\n",
       "     The interpretation of the unnamed arguments of 'seq' and 'seq.int'\n",
       "     is _not_ standard, and it is recommended always to name the\n",
       "     arguments when programming.\n",
       "\n",
       "     'seq' is generic, and only the default method is described here.\n",
       "     Note that it dispatches on the class of the *first* argument\n",
       "     irrespective of argument names.  This can have unintended\n",
       "     consequences if it is called with just one argument intending this\n",
       "     to be taken as 'along.with': it is much better to use 'seq_along'\n",
       "     in that case.\n",
       "\n",
       "     'seq.int' is an internal generic which dispatches on methods for\n",
       "     '\"seq\"' based on the class of the first supplied argument (before\n",
       "     argument matching).\n",
       "\n",
       "     Typical usages are\n",
       "     \n",
       "     seq(from, to)\n",
       "     seq(from, to, by= )\n",
       "     seq(from, to, length.out= )\n",
       "     seq(along.with= )\n",
       "     seq(from)\n",
       "     seq(length.out= )\n",
       "\n",
       "     The first form generates the sequence 'from, from+/-1, ..., to'\n",
       "     (identical to 'from:to').\n",
       "\n",
       "     The second form generates 'from, from+by', ..., up to the sequence\n",
       "     value less than or equal to 'to'.  Specifying 'to - from' and 'by'\n",
       "     of opposite signs is an error.  Note that the computed final value\n",
       "     can go just beyond 'to' to allow for rounding error, but is\n",
       "     truncated to 'to'.  ('Just beyond' is by up to 1e-10 times\n",
       "     'abs(from - to)'.)\n",
       "\n",
       "     The third generates a sequence of 'length.out' equally spaced\n",
       "     values from 'from' to 'to'.  ('length.out' is usually abbreviated\n",
       "     to 'length' or 'len', and 'seq_len' is much faster.)\n",
       "\n",
       "     The fourth form generates the integer sequence '1, 2, ...,\n",
       "     length(along.with)'.  ('along.with' is usually abbreviated to\n",
       "     'along', and 'seq_along' is much faster.)\n",
       "\n",
       "     The fifth form generates the sequence '1, 2, ..., length(from)'\n",
       "     (as if argument 'along.with' had been specified), _unless_ the\n",
       "     argument is numeric of length 1 when it is interpreted as '1:from'\n",
       "     (even for 'seq(0)' for compatibility with S).  Using either\n",
       "     'seq_along' or 'seq_len' is much preferred (unless strict S\n",
       "     compatibility is essential).\n",
       "\n",
       "     The final form generates the integer sequence '1, 2, ...,\n",
       "     length.out' unless 'length.out = 0', when it generates\n",
       "     'integer(0)'.\n",
       "\n",
       "     Very small sequences (with 'from - to' of the order of 10^{-14}\n",
       "     times the larger of the ends) will return 'from'.\n",
       "\n",
       "     For 'seq' (only), up to two of 'from', 'to' and 'by' can be\n",
       "     supplied as complex values provided 'length.out' or 'along.with'\n",
       "     is specified.  More generally, the default method of 'seq' will\n",
       "     handle classed objects with methods for the 'Math', 'Ops' and\n",
       "     'Summary' group generics.\n",
       "\n",
       "     'seq.int', 'seq_along' and 'seq_len' are primitive.\n",
       "\n",
       "_\bV_\ba_\bl_\bu_\be:\n",
       "\n",
       "     'seq.int' and the default method of 'seq' for numeric arguments\n",
       "     return a vector of type '\"integer\"' or '\"double\"': programmers\n",
       "     should not rely on which.\n",
       "\n",
       "     'seq_along' and 'seq_len' return an integer vector, unless it is a\n",
       "     _long vector_ when it will be double.\n",
       "\n",
       "_\bR_\be_\bf_\be_\br_\be_\bn_\bc_\be_\bs:\n",
       "\n",
       "     Becker, R. A., Chambers, J. M. and Wilks, A. R. (1988) _The New S\n",
       "     Language_.  Wadsworth & Brooks/Cole.\n",
       "\n",
       "_\bS_\be_\be _\bA_\bl_\bs_\bo:\n",
       "\n",
       "     The methods 'seq.Date' and 'seq.POSIXt'.\n",
       "\n",
       "     ':', 'rep', 'sequence', 'row', 'col'.\n",
       "\n",
       "_\bE_\bx_\ba_\bm_\bp_\bl_\be_\bs:\n",
       "\n",
       "     seq(0, 1, length.out = 11)\n",
       "     seq(stats::rnorm(20)) # effectively 'along'\n",
       "     seq(1, 9, by = 2)     # matches 'end'\n",
       "     seq(1, 9, by = pi)    # stays below 'end'\n",
       "     seq(1, 6, by = 3)\n",
       "     seq(1.575, 5.125, by = 0.05)\n",
       "     seq(17) # same as 1:17, or even better seq_len(17)\n",
       "     "
      ]
     },
     "metadata": {},
     "output_type": "display_data"
    }
   ],
   "source": [
    "?seq"
   ]
  },
  {
   "cell_type": "code",
   "execution_count": 46,
   "metadata": {},
   "outputs": [
    {
     "data": {
      "text/html": [
       "<style>\n",
       ".list-inline {list-style: none; margin:0; padding: 0}\n",
       ".list-inline>li {display: inline-block}\n",
       ".list-inline>li:not(:last-child)::after {content: \"\\00b7\"; padding: 0 .5ex}\n",
       "</style>\n",
       "<ol class=list-inline><li>10</li><li>7.75</li><li>5.5</li><li>3.25</li><li>1</li></ol>\n"
      ],
      "text/latex": [
       "\\begin{enumerate*}\n",
       "\\item 10\n",
       "\\item 7.75\n",
       "\\item 5.5\n",
       "\\item 3.25\n",
       "\\item 1\n",
       "\\end{enumerate*}\n"
      ],
      "text/markdown": [
       "1. 10\n",
       "2. 7.75\n",
       "3. 5.5\n",
       "4. 3.25\n",
       "5. 1\n",
       "\n",
       "\n"
      ],
      "text/plain": [
       "[1] 10.00  7.75  5.50  3.25  1.00"
      ]
     },
     "metadata": {},
     "output_type": "display_data"
    }
   ],
   "source": [
    "seq(10, 1, length.out = 5)"
   ]
  },
  {
   "cell_type": "code",
   "execution_count": 47,
   "metadata": {},
   "outputs": [
    {
     "data": {
      "text/html": [
       "2.25"
      ],
      "text/latex": [
       "2.25"
      ],
      "text/markdown": [
       "2.25"
      ],
      "text/plain": [
       "[1] 2.25"
      ]
     },
     "metadata": {},
     "output_type": "display_data"
    }
   ],
   "source": [
    "9/4"
   ]
  },
  {
   "cell_type": "code",
   "execution_count": 52,
   "metadata": {},
   "outputs": [
    {
     "data": {
      "text/html": [
       "5.5"
      ],
      "text/latex": [
       "5.5"
      ],
      "text/markdown": [
       "5.5"
      ],
      "text/plain": [
       "[1] 5.5"
      ]
     },
     "metadata": {},
     "output_type": "display_data"
    }
   ],
   "source": [
    "k<-1:10\n",
    "mean(k)"
   ]
  },
  {
   "cell_type": "code",
   "execution_count": 53,
   "metadata": {},
   "outputs": [
    {
     "data": {
      "text/html": [
       "55"
      ],
      "text/latex": [
       "55"
      ],
      "text/markdown": [
       "55"
      ],
      "text/plain": [
       "[1] 55"
      ]
     },
     "metadata": {},
     "output_type": "display_data"
    }
   ],
   "source": [
    "sum(k)"
   ]
  },
  {
   "cell_type": "code",
   "execution_count": 54,
   "metadata": {},
   "outputs": [
    {
     "data": {
      "text/html": [
       "10"
      ],
      "text/latex": [
       "10"
      ],
      "text/markdown": [
       "10"
      ],
      "text/plain": [
       "[1] 10"
      ]
     },
     "metadata": {},
     "output_type": "display_data"
    }
   ],
   "source": [
    "length(k)"
   ]
  },
  {
   "cell_type": "code",
   "execution_count": 55,
   "metadata": {},
   "outputs": [
    {
     "data": {
      "text/html": [
       "5.5"
      ],
      "text/latex": [
       "5.5"
      ],
      "text/markdown": [
       "5.5"
      ],
      "text/plain": [
       "[1] 5.5"
      ]
     },
     "metadata": {},
     "output_type": "display_data"
    }
   ],
   "source": [
    "sum(k)/length(k)"
   ]
  },
  {
   "cell_type": "code",
   "execution_count": 56,
   "metadata": {},
   "outputs": [
    {
     "data": {
      "text/html": [
       "10"
      ],
      "text/latex": [
       "10"
      ],
      "text/markdown": [
       "10"
      ],
      "text/plain": [
       "[1] 10"
      ]
     },
     "metadata": {},
     "output_type": "display_data"
    }
   ],
   "source": [
    "max(k)"
   ]
  },
  {
   "cell_type": "code",
   "execution_count": 57,
   "metadata": {},
   "outputs": [
    {
     "data": {
      "text/html": [
       "1"
      ],
      "text/latex": [
       "1"
      ],
      "text/markdown": [
       "1"
      ],
      "text/plain": [
       "[1] 1"
      ]
     },
     "metadata": {},
     "output_type": "display_data"
    }
   ],
   "source": [
    "min(k)"
   ]
  },
  {
   "cell_type": "code",
   "execution_count": 60,
   "metadata": {},
   "outputs": [
    {
     "data": {
      "text/html": [
       "<style>\n",
       ".list-inline {list-style: none; margin:0; padding: 0}\n",
       ".list-inline>li {display: inline-block}\n",
       ".list-inline>li:not(:last-child)::after {content: \"\\00b7\"; padding: 0 .5ex}\n",
       "</style>\n",
       "<ol class=list-inline><li>1</li><li>2</li><li>3</li><li>2</li><li>2</li><li>2</li></ol>\n"
      ],
      "text/latex": [
       "\\begin{enumerate*}\n",
       "\\item 1\n",
       "\\item 2\n",
       "\\item 3\n",
       "\\item 2\n",
       "\\item 2\n",
       "\\item 2\n",
       "\\end{enumerate*}\n"
      ],
      "text/markdown": [
       "1. 1\n",
       "2. 2\n",
       "3. 3\n",
       "4. 2\n",
       "5. 2\n",
       "6. 2\n",
       "\n",
       "\n"
      ],
      "text/plain": [
       "[1] 1 2 3 2 2 2"
      ]
     },
     "metadata": {},
     "output_type": "display_data"
    }
   ],
   "source": [
    "b_1<-c(seq(1, 3), rep(2, time=3))\n",
    "b_1"
   ]
  },
  {
   "cell_type": "code",
   "execution_count": 61,
   "metadata": {},
   "outputs": [
    {
     "data": {
      "text/plain": [
       "b_1\n",
       "1 2 3 \n",
       "1 4 1 "
      ]
     },
     "metadata": {},
     "output_type": "display_data"
    }
   ],
   "source": [
    "table(b_1)"
   ]
  },
  {
   "cell_type": "code",
   "execution_count": 62,
   "metadata": {},
   "outputs": [
    {
     "data": {
      "text/html": [
       "2"
      ],
      "text/latex": [
       "2"
      ],
      "text/markdown": [
       "2"
      ],
      "text/plain": [
       "[1] 2"
      ]
     },
     "metadata": {},
     "output_type": "display_data"
    }
   ],
   "source": [
    "median(b_1)"
   ]
  },
  {
   "cell_type": "code",
   "execution_count": 63,
   "metadata": {},
   "outputs": [
    {
     "data": {
      "text/html": [
       "<style>\n",
       ".list-inline {list-style: none; margin:0; padding: 0}\n",
       ".list-inline>li {display: inline-block}\n",
       ".list-inline>li:not(:last-child)::after {content: \"\\00b7\"; padding: 0 .5ex}\n",
       "</style>\n",
       "<ol class=list-inline><li>1</li><li>2</li><li>2</li><li>2</li><li>2</li><li>3</li></ol>\n"
      ],
      "text/latex": [
       "\\begin{enumerate*}\n",
       "\\item 1\n",
       "\\item 2\n",
       "\\item 2\n",
       "\\item 2\n",
       "\\item 2\n",
       "\\item 3\n",
       "\\end{enumerate*}\n"
      ],
      "text/markdown": [
       "1. 1\n",
       "2. 2\n",
       "3. 2\n",
       "4. 2\n",
       "5. 2\n",
       "6. 3\n",
       "\n",
       "\n"
      ],
      "text/plain": [
       "[1] 1 2 2 2 2 3"
      ]
     },
     "metadata": {},
     "output_type": "display_data"
    }
   ],
   "source": [
    "sort(b_1)"
   ]
  },
  {
   "cell_type": "code",
   "execution_count": 65,
   "metadata": {},
   "outputs": [
    {
     "data": {
      "text/html": [
       "<style>\n",
       ".list-inline {list-style: none; margin:0; padding: 0}\n",
       ".list-inline>li {display: inline-block}\n",
       ".list-inline>li:not(:last-child)::after {content: \"\\00b7\"; padding: 0 .5ex}\n",
       "</style>\n",
       "<ol class=list-inline><li>3</li><li>2</li><li>2</li><li>2</li><li>2</li><li>1</li></ol>\n"
      ],
      "text/latex": [
       "\\begin{enumerate*}\n",
       "\\item 3\n",
       "\\item 2\n",
       "\\item 2\n",
       "\\item 2\n",
       "\\item 2\n",
       "\\item 1\n",
       "\\end{enumerate*}\n"
      ],
      "text/markdown": [
       "1. 3\n",
       "2. 2\n",
       "3. 2\n",
       "4. 2\n",
       "5. 2\n",
       "6. 1\n",
       "\n",
       "\n"
      ],
      "text/plain": [
       "[1] 3 2 2 2 2 1"
      ]
     },
     "metadata": {},
     "output_type": "display_data"
    }
   ],
   "source": [
    "sort(b_1, decreasing = TRUE)"
   ]
  },
  {
   "cell_type": "code",
   "execution_count": 68,
   "metadata": {},
   "outputs": [
    {
     "data": {
      "text/html": [
       "<style>\n",
       ".list-inline {list-style: none; margin:0; padding: 0}\n",
       ".list-inline>li {display: inline-block}\n",
       ".list-inline>li:not(:last-child)::after {content: \"\\00b7\"; padding: 0 .5ex}\n",
       "</style>\n",
       "<ol class=list-inline><li>0</li><li>2</li><li>0</li><li>2</li><li>0</li><li>2</li><li>0</li><li>2</li><li>0</li><li>2</li><li>0</li><li>2</li><li>0</li><li>2</li></ol>\n"
      ],
      "text/latex": [
       "\\begin{enumerate*}\n",
       "\\item 0\n",
       "\\item 2\n",
       "\\item 0\n",
       "\\item 2\n",
       "\\item 0\n",
       "\\item 2\n",
       "\\item 0\n",
       "\\item 2\n",
       "\\item 0\n",
       "\\item 2\n",
       "\\item 0\n",
       "\\item 2\n",
       "\\item 0\n",
       "\\item 2\n",
       "\\end{enumerate*}\n"
      ],
      "text/markdown": [
       "1. 0\n",
       "2. 2\n",
       "3. 0\n",
       "4. 2\n",
       "5. 0\n",
       "6. 2\n",
       "7. 0\n",
       "8. 2\n",
       "9. 0\n",
       "10. 2\n",
       "11. 0\n",
       "12. 2\n",
       "13. 0\n",
       "14. 2\n",
       "\n",
       "\n"
      ],
      "text/plain": [
       " [1] 0 2 0 2 0 2 0 2 0 2 0 2 0 2"
      ]
     },
     "metadata": {},
     "output_type": "display_data"
    }
   ],
   "source": [
    "t<-rep(c(0, 2), time = 7)\n",
    "t"
   ]
  },
  {
   "cell_type": "code",
   "execution_count": 70,
   "metadata": {},
   "outputs": [
    {
     "data": {
      "text/html": [
       "<style>\n",
       ".list-inline {list-style: none; margin:0; padding: 0}\n",
       ".list-inline>li {display: inline-block}\n",
       ".list-inline>li:not(:last-child)::after {content: \"\\00b7\"; padding: 0 .5ex}\n",
       "</style>\n",
       "<ol class=list-inline><li>0</li><li>0</li><li>0</li><li>0</li><li>0</li><li>0</li><li>0</li><li>2</li><li>2</li><li>2</li><li>2</li><li>2</li><li>2</li><li>2</li></ol>\n"
      ],
      "text/latex": [
       "\\begin{enumerate*}\n",
       "\\item 0\n",
       "\\item 0\n",
       "\\item 0\n",
       "\\item 0\n",
       "\\item 0\n",
       "\\item 0\n",
       "\\item 0\n",
       "\\item 2\n",
       "\\item 2\n",
       "\\item 2\n",
       "\\item 2\n",
       "\\item 2\n",
       "\\item 2\n",
       "\\item 2\n",
       "\\end{enumerate*}\n"
      ],
      "text/markdown": [
       "1. 0\n",
       "2. 0\n",
       "3. 0\n",
       "4. 0\n",
       "5. 0\n",
       "6. 0\n",
       "7. 0\n",
       "8. 2\n",
       "9. 2\n",
       "10. 2\n",
       "11. 2\n",
       "12. 2\n",
       "13. 2\n",
       "14. 2\n",
       "\n",
       "\n"
      ],
      "text/plain": [
       " [1] 0 0 0 0 0 0 0 2 2 2 2 2 2 2"
      ]
     },
     "metadata": {},
     "output_type": "display_data"
    }
   ],
   "source": [
    "t_1<-rep(c(0, 2), each = 7)\n",
    "t_1"
   ]
  },
  {
   "cell_type": "code",
   "execution_count": 71,
   "metadata": {},
   "outputs": [
    {
     "data": {
      "text/html": [
       "'numeric'"
      ],
      "text/latex": [
       "'numeric'"
      ],
      "text/markdown": [
       "'numeric'"
      ],
      "text/plain": [
       "[1] \"numeric\""
      ]
     },
     "metadata": {},
     "output_type": "display_data"
    }
   ],
   "source": [
    "class(t_1)"
   ]
  },
  {
   "cell_type": "code",
   "execution_count": 73,
   "metadata": {},
   "outputs": [
    {
     "data": {
      "text/html": [
       "<style>\n",
       ".list-inline {list-style: none; margin:0; padding: 0}\n",
       ".list-inline>li {display: inline-block}\n",
       ".list-inline>li:not(:last-child)::after {content: \"\\00b7\"; padding: 0 .5ex}\n",
       "</style>\n",
       "<ol class=list-inline><li>'A'</li><li>'B'</li><li>'C'</li><li>'D'</li><li>'E'</li><li>'F'</li><li>'G'</li><li>'H'</li><li>'I'</li><li>'J'</li><li>'K'</li><li>'L'</li><li>'M'</li><li>'N'</li><li>'O'</li><li>'P'</li><li>'Q'</li><li>'R'</li><li>'S'</li><li>'T'</li><li>'U'</li><li>'V'</li><li>'W'</li><li>'X'</li><li>'Y'</li><li>'Z'</li></ol>\n"
      ],
      "text/latex": [
       "\\begin{enumerate*}\n",
       "\\item 'A'\n",
       "\\item 'B'\n",
       "\\item 'C'\n",
       "\\item 'D'\n",
       "\\item 'E'\n",
       "\\item 'F'\n",
       "\\item 'G'\n",
       "\\item 'H'\n",
       "\\item 'I'\n",
       "\\item 'J'\n",
       "\\item 'K'\n",
       "\\item 'L'\n",
       "\\item 'M'\n",
       "\\item 'N'\n",
       "\\item 'O'\n",
       "\\item 'P'\n",
       "\\item 'Q'\n",
       "\\item 'R'\n",
       "\\item 'S'\n",
       "\\item 'T'\n",
       "\\item 'U'\n",
       "\\item 'V'\n",
       "\\item 'W'\n",
       "\\item 'X'\n",
       "\\item 'Y'\n",
       "\\item 'Z'\n",
       "\\end{enumerate*}\n"
      ],
      "text/markdown": [
       "1. 'A'\n",
       "2. 'B'\n",
       "3. 'C'\n",
       "4. 'D'\n",
       "5. 'E'\n",
       "6. 'F'\n",
       "7. 'G'\n",
       "8. 'H'\n",
       "9. 'I'\n",
       "10. 'J'\n",
       "11. 'K'\n",
       "12. 'L'\n",
       "13. 'M'\n",
       "14. 'N'\n",
       "15. 'O'\n",
       "16. 'P'\n",
       "17. 'Q'\n",
       "18. 'R'\n",
       "19. 'S'\n",
       "20. 'T'\n",
       "21. 'U'\n",
       "22. 'V'\n",
       "23. 'W'\n",
       "24. 'X'\n",
       "25. 'Y'\n",
       "26. 'Z'\n",
       "\n",
       "\n"
      ],
      "text/plain": [
       " [1] \"A\" \"B\" \"C\" \"D\" \"E\" \"F\" \"G\" \"H\" \"I\" \"J\" \"K\" \"L\" \"M\" \"N\" \"O\" \"P\" \"Q\" \"R\" \"S\"\n",
       "[20] \"T\" \"U\" \"V\" \"W\" \"X\" \"Y\" \"Z\""
      ]
     },
     "metadata": {},
     "output_type": "display_data"
    }
   ],
   "source": [
    "Let<-LETTERS\n",
    "Let"
   ]
  },
  {
   "cell_type": "code",
   "execution_count": 74,
   "metadata": {},
   "outputs": [
    {
     "data": {
      "text/html": [
       "'character'"
      ],
      "text/latex": [
       "'character'"
      ],
      "text/markdown": [
       "'character'"
      ],
      "text/plain": [
       "[1] \"character\""
      ]
     },
     "metadata": {},
     "output_type": "display_data"
    }
   ],
   "source": [
    "class(Let)"
   ]
  },
  {
   "cell_type": "markdown",
   "metadata": {},
   "source": [
    "## Логические функции и операторы"
   ]
  },
  {
   "cell_type": "markdown",
   "metadata": {},
   "source": [
    "<, >, <=, >=, ==,!=\n",
    "\n",
    "&- являются ли оба выражения TRUE\n",
    "\n",
    "| - является ли одно из выражений TRUE\n",
    "\n",
    "((10 <= 10) | !(TRUE)) & ((9-2) == 7)"
   ]
  },
  {
   "cell_type": "code",
   "execution_count": 76,
   "metadata": {},
   "outputs": [
    {
     "data": {
      "text/html": [
       "TRUE"
      ],
      "text/latex": [
       "TRUE"
      ],
      "text/markdown": [
       "TRUE"
      ],
      "text/plain": [
       "[1] TRUE"
      ]
     },
     "metadata": {},
     "output_type": "display_data"
    }
   ],
   "source": [
    "7<8"
   ]
  },
  {
   "cell_type": "code",
   "execution_count": 77,
   "metadata": {},
   "outputs": [
    {
     "data": {
      "text/html": [
       "FALSE"
      ],
      "text/latex": [
       "FALSE"
      ],
      "text/markdown": [
       "FALSE"
      ],
      "text/plain": [
       "[1] FALSE"
      ]
     },
     "metadata": {},
     "output_type": "display_data"
    }
   ],
   "source": [
    "7>8"
   ]
  },
  {
   "cell_type": "code",
   "execution_count": 78,
   "metadata": {},
   "outputs": [
    {
     "data": {
      "text/html": [
       "TRUE"
      ],
      "text/latex": [
       "TRUE"
      ],
      "text/markdown": [
       "TRUE"
      ],
      "text/plain": [
       "[1] TRUE"
      ]
     },
     "metadata": {},
     "output_type": "display_data"
    }
   ],
   "source": [
    "7!=8"
   ]
  },
  {
   "cell_type": "code",
   "execution_count": 79,
   "metadata": {},
   "outputs": [
    {
     "data": {
      "text/html": [
       "TRUE"
      ],
      "text/latex": [
       "TRUE"
      ],
      "text/markdown": [
       "TRUE"
      ],
      "text/plain": [
       "[1] TRUE"
      ]
     },
     "metadata": {},
     "output_type": "display_data"
    }
   ],
   "source": [
    "7==7"
   ]
  },
  {
   "cell_type": "code",
   "execution_count": 80,
   "metadata": {},
   "outputs": [
    {
     "data": {
      "text/html": [
       "TRUE"
      ],
      "text/latex": [
       "TRUE"
      ],
      "text/markdown": [
       "TRUE"
      ],
      "text/plain": [
       "[1] TRUE"
      ]
     },
     "metadata": {},
     "output_type": "display_data"
    }
   ],
   "source": [
    "10>=10"
   ]
  },
  {
   "cell_type": "code",
   "execution_count": 81,
   "metadata": {},
   "outputs": [
    {
     "data": {
      "text/html": [
       "TRUE"
      ],
      "text/latex": [
       "TRUE"
      ],
      "text/markdown": [
       "TRUE"
      ],
      "text/plain": [
       "[1] TRUE"
      ]
     },
     "metadata": {},
     "output_type": "display_data"
    }
   ],
   "source": [
    "6>7|7<8"
   ]
  },
  {
   "cell_type": "code",
   "execution_count": 83,
   "metadata": {},
   "outputs": [
    {
     "data": {
      "text/html": [
       "FALSE"
      ],
      "text/latex": [
       "FALSE"
      ],
      "text/markdown": [
       "FALSE"
      ],
      "text/plain": [
       "[1] FALSE"
      ]
     },
     "metadata": {},
     "output_type": "display_data"
    }
   ],
   "source": [
    "6>7 & 7<8"
   ]
  },
  {
   "cell_type": "code",
   "execution_count": 84,
   "metadata": {},
   "outputs": [
    {
     "data": {
      "text/html": [
       "TRUE"
      ],
      "text/latex": [
       "TRUE"
      ],
      "text/markdown": [
       "TRUE"
      ],
      "text/plain": [
       "[1] TRUE"
      ]
     },
     "metadata": {},
     "output_type": "display_data"
    }
   ],
   "source": [
    "10>=10 | 10 > 15"
   ]
  },
  {
   "cell_type": "code",
   "execution_count": 85,
   "metadata": {},
   "outputs": [
    {
     "data": {
      "text/html": [
       "TRUE"
      ],
      "text/latex": [
       "TRUE"
      ],
      "text/markdown": [
       "TRUE"
      ],
      "text/plain": [
       "[1] TRUE"
      ]
     },
     "metadata": {},
     "output_type": "display_data"
    }
   ],
   "source": [
    "20 != 30 | 10 <= 11"
   ]
  },
  {
   "cell_type": "code",
   "execution_count": 86,
   "metadata": {},
   "outputs": [
    {
     "data": {
      "text/html": [
       "FALSE"
      ],
      "text/latex": [
       "FALSE"
      ],
      "text/markdown": [
       "FALSE"
      ],
      "text/plain": [
       "[1] FALSE"
      ]
     },
     "metadata": {},
     "output_type": "display_data"
    }
   ],
   "source": [
    "((TRUE==FALSE)&(125==125))&100==100"
   ]
  },
  {
   "cell_type": "markdown",
   "metadata": {},
   "source": [
    "## Типы данных в R"
   ]
  },
  {
   "cell_type": "code",
   "execution_count": 1,
   "metadata": {
    "collapsed": true,
    "jupyter": {
     "outputs_hidden": true
    }
   },
   "outputs": [
    {
     "data": {
      "text/html": [
       "<h3>Data sets</h3>\n",
       "<table>\n",
       "<caption>A data.frame: 104 × 3</caption>\n",
       "<thead>\n",
       "\t<tr><th scope=col>Package</th><th scope=col>Item</th><th scope=col>Title</th></tr>\n",
       "\t<tr><th scope=col>&lt;chr&gt;</th><th scope=col>&lt;chr&gt;</th><th scope=col>&lt;chr&gt;</th></tr>\n",
       "</thead>\n",
       "<tbody>\n",
       "\t<tr><td>datasets</td><td>AirPassengers         </td><td>Monthly Airline Passenger Numbers 1949-1960                    </td></tr>\n",
       "\t<tr><td>datasets</td><td>BJsales               </td><td>Sales Data with Leading Indicator                              </td></tr>\n",
       "\t<tr><td>datasets</td><td>BJsales.lead (BJsales)</td><td>Sales Data with Leading Indicator                              </td></tr>\n",
       "\t<tr><td>datasets</td><td>BOD                   </td><td>Biochemical Oxygen Demand                                      </td></tr>\n",
       "\t<tr><td>datasets</td><td>CO2                   </td><td>Carbon Dioxide Uptake in Grass Plants                          </td></tr>\n",
       "\t<tr><td>datasets</td><td>ChickWeight           </td><td>Weight versus age of chicks on different diets                 </td></tr>\n",
       "\t<tr><td>datasets</td><td>DNase                 </td><td>Elisa assay of DNase                                           </td></tr>\n",
       "\t<tr><td>datasets</td><td>EuStockMarkets        </td><td>Daily Closing Prices of Major European Stock Indices, 1991-1998</td></tr>\n",
       "\t<tr><td>datasets</td><td>Formaldehyde          </td><td>Determination of Formaldehyde                                  </td></tr>\n",
       "\t<tr><td>datasets</td><td>HairEyeColor          </td><td>Hair and Eye Color of Statistics Students                      </td></tr>\n",
       "\t<tr><td>datasets</td><td>Harman23.cor          </td><td>Harman Example 2.3                                             </td></tr>\n",
       "\t<tr><td>datasets</td><td>Harman74.cor          </td><td>Harman Example 7.4                                             </td></tr>\n",
       "\t<tr><td>datasets</td><td>Indometh              </td><td>Pharmacokinetics of Indomethacin                               </td></tr>\n",
       "\t<tr><td>datasets</td><td>InsectSprays          </td><td>Effectiveness of Insect Sprays                                 </td></tr>\n",
       "\t<tr><td>datasets</td><td><span style=white-space:pre-wrap>JohnsonJohnson        </span></td><td><span style=white-space:pre-wrap>Quarterly Earnings per Johnson &amp; Johnson Share                 </span></td></tr>\n",
       "\t<tr><td>datasets</td><td>LakeHuron             </td><td>Level of Lake Huron 1875-1972                                  </td></tr>\n",
       "\t<tr><td>datasets</td><td>LifeCycleSavings      </td><td>Intercountry Life-Cycle Savings Data                           </td></tr>\n",
       "\t<tr><td>datasets</td><td>Loblolly              </td><td>Growth of Loblolly pine trees                                  </td></tr>\n",
       "\t<tr><td>datasets</td><td>Nile                  </td><td>Flow of the River Nile                                         </td></tr>\n",
       "\t<tr><td>datasets</td><td>Orange                </td><td>Growth of Orange Trees                                         </td></tr>\n",
       "\t<tr><td>datasets</td><td>OrchardSprays         </td><td>Potency of Orchard Sprays                                      </td></tr>\n",
       "\t<tr><td>datasets</td><td>PlantGrowth           </td><td>Results from an Experiment on Plant Growth                     </td></tr>\n",
       "\t<tr><td>datasets</td><td>Puromycin             </td><td>Reaction Velocity of an Enzymatic Reaction                     </td></tr>\n",
       "\t<tr><td>datasets</td><td>Seatbelts             </td><td>Road Casualties in Great Britain 1969-84                       </td></tr>\n",
       "\t<tr><td>datasets</td><td>Theoph                </td><td>Pharmacokinetics of Theophylline                               </td></tr>\n",
       "\t<tr><td>datasets</td><td>Titanic               </td><td>Survival of passengers on the Titanic                          </td></tr>\n",
       "\t<tr><td>datasets</td><td>ToothGrowth           </td><td>The Effect of Vitamin C on Tooth Growth in Guinea Pigs         </td></tr>\n",
       "\t<tr><td>datasets</td><td>UCBAdmissions         </td><td>Student Admissions at UC Berkeley                              </td></tr>\n",
       "\t<tr><td>datasets</td><td>UKDriverDeaths        </td><td>Road Casualties in Great Britain 1969-84                       </td></tr>\n",
       "\t<tr><td>datasets</td><td>UKgas                 </td><td>UK Quarterly Gas Consumption                                   </td></tr>\n",
       "\t<tr><td>datasets</td><td>USAccDeaths           </td><td>Accidental Deaths in the US 1973-1978                          </td></tr>\n",
       "\t<tr><td>datasets</td><td>USArrests             </td><td>Violent Crime Rates by US State                                </td></tr>\n",
       "\t<tr><td>datasets</td><td>USJudgeRatings        </td><td>Lawyers' Ratings of State Judges in the US Superior Court      </td></tr>\n",
       "\t<tr><td>datasets</td><td>USPersonalExpenditure </td><td>Personal Expenditure Data                                      </td></tr>\n",
       "\t<tr><td>datasets</td><td>UScitiesD             </td><td>Distances Between European Cities and Between US Cities        </td></tr>\n",
       "\t<tr><td>datasets</td><td>VADeaths              </td><td>Death Rates in Virginia (1940)                                 </td></tr>\n",
       "\t<tr><td>datasets</td><td>WWWusage              </td><td>Internet Usage per Minute                                      </td></tr>\n",
       "\t<tr><td>datasets</td><td>WorldPhones           </td><td>The World's Telephones                                         </td></tr>\n",
       "\t<tr><td>datasets</td><td>ability.cov           </td><td>Ability and Intelligence Tests                                 </td></tr>\n",
       "\t<tr><td>datasets</td><td>airmiles              </td><td>Passenger Miles on Commercial US Airlines, 1937-1960           </td></tr>\n",
       "\t<tr><td>datasets</td><td>airquality            </td><td>New York Air Quality Measurements                              </td></tr>\n",
       "\t<tr><td>datasets</td><td>anscombe              </td><td>Anscombe's Quartet of 'Identical' Simple Linear Regressions    </td></tr>\n",
       "\t<tr><td>datasets</td><td>attenu                </td><td>The Joyner-Boore Attenuation Data                              </td></tr>\n",
       "\t<tr><td>datasets</td><td>attitude              </td><td>The Chatterjee-Price Attitude Data                             </td></tr>\n",
       "\t<tr><td>datasets</td><td>austres               </td><td>Quarterly Time Series of the Number of Australian Residents    </td></tr>\n",
       "\t<tr><td>datasets</td><td>beaver1 (beavers)     </td><td>Body Temperature Series of Two Beavers                         </td></tr>\n",
       "\t<tr><td>datasets</td><td>beaver2 (beavers)     </td><td>Body Temperature Series of Two Beavers                         </td></tr>\n",
       "\t<tr><td>datasets</td><td>cars                  </td><td>Speed and Stopping Distances of Cars                           </td></tr>\n",
       "\t<tr><td>datasets</td><td>chickwts              </td><td>Chicken Weights by Feed Type                                   </td></tr>\n",
       "\t<tr><td>datasets</td><td>co2                   </td><td>Mauna Loa Atmospheric CO2 Concentration                        </td></tr>\n",
       "\t<tr><td>datasets</td><td>crimtab               </td><td>Student's 3000 Criminals Data                                  </td></tr>\n",
       "\t<tr><td>datasets</td><td>discoveries           </td><td>Yearly Numbers of Important Discoveries                        </td></tr>\n",
       "\t<tr><td>datasets</td><td>esoph                 </td><td>Smoking, Alcohol and (O)esophageal Cancer                      </td></tr>\n",
       "\t<tr><td>datasets</td><td>euro                  </td><td>Conversion Rates of Euro Currencies                            </td></tr>\n",
       "\t<tr><td>datasets</td><td>euro.cross (euro)     </td><td>Conversion Rates of Euro Currencies                            </td></tr>\n",
       "\t<tr><td>datasets</td><td>eurodist              </td><td>Distances Between European Cities and Between US Cities        </td></tr>\n",
       "\t<tr><td>datasets</td><td>faithful              </td><td>Old Faithful Geyser Data                                       </td></tr>\n",
       "\t<tr><td>datasets</td><td>fdeaths (UKLungDeaths)</td><td>Monthly Deaths from Lung Diseases in the UK                    </td></tr>\n",
       "\t<tr><td>datasets</td><td>freeny                </td><td>Freeny's Revenue Data                                          </td></tr>\n",
       "\t<tr><td>datasets</td><td>freeny.x (freeny)     </td><td>Freeny's Revenue Data                                          </td></tr>\n",
       "\t<tr><td>datasets</td><td>freeny.y (freeny)     </td><td>Freeny's Revenue Data                                          </td></tr>\n",
       "\t<tr><td>datasets</td><td>infert                </td><td>Infertility after Spontaneous and Induced Abortion             </td></tr>\n",
       "\t<tr><td>datasets</td><td>iris                  </td><td>Edgar Anderson's Iris Data                                     </td></tr>\n",
       "\t<tr><td>datasets</td><td>iris3                 </td><td>Edgar Anderson's Iris Data                                     </td></tr>\n",
       "\t<tr><td>datasets</td><td>islands               </td><td>Areas of the World's Major Landmasses                          </td></tr>\n",
       "\t<tr><td>datasets</td><td>ldeaths (UKLungDeaths)</td><td>Monthly Deaths from Lung Diseases in the UK                    </td></tr>\n",
       "\t<tr><td>datasets</td><td>lh                    </td><td>Luteinizing Hormone in Blood Samples                           </td></tr>\n",
       "\t<tr><td>datasets</td><td>longley               </td><td>Longley's Economic Regression Data                             </td></tr>\n",
       "\t<tr><td>datasets</td><td>lynx                  </td><td>Annual Canadian Lynx trappings 1821-1934                       </td></tr>\n",
       "\t<tr><td>datasets</td><td>mdeaths (UKLungDeaths)</td><td>Monthly Deaths from Lung Diseases in the UK                    </td></tr>\n",
       "\t<tr><td>datasets</td><td>morley                </td><td>Michelson Speed of Light Data                                  </td></tr>\n",
       "\t<tr><td>datasets</td><td>mtcars                </td><td>Motor Trend Car Road Tests                                     </td></tr>\n",
       "\t<tr><td>datasets</td><td>nhtemp                </td><td>Average Yearly Temperatures in New Haven                       </td></tr>\n",
       "\t<tr><td>datasets</td><td>nottem                </td><td>Average Monthly Temperatures at Nottingham, 1920-1939          </td></tr>\n",
       "\t<tr><td>datasets</td><td>npk                   </td><td>Classical N, P, K Factorial Experiment                         </td></tr>\n",
       "\t<tr><td>datasets</td><td>occupationalStatus    </td><td>Occupational Status of Fathers and their Sons                  </td></tr>\n",
       "\t<tr><td>datasets</td><td>precip                </td><td>Annual Precipitation in US Cities                              </td></tr>\n",
       "\t<tr><td>datasets</td><td>presidents            </td><td>Quarterly Approval Ratings of US Presidents                    </td></tr>\n",
       "\t<tr><td>datasets</td><td>pressure              </td><td>Vapor Pressure of Mercury as a Function of Temperature         </td></tr>\n",
       "\t<tr><td>datasets</td><td>quakes                </td><td>Locations of Earthquakes off Fiji                              </td></tr>\n",
       "\t<tr><td>datasets</td><td>randu                 </td><td>Random Numbers from Congruential Generator RANDU               </td></tr>\n",
       "\t<tr><td>datasets</td><td>rivers                </td><td>Lengths of Major North American Rivers                         </td></tr>\n",
       "\t<tr><td>datasets</td><td>rock                  </td><td>Measurements on Petroleum Rock Samples                         </td></tr>\n",
       "\t<tr><td>datasets</td><td>sleep                 </td><td>Student's Sleep Data                                           </td></tr>\n",
       "\t<tr><td>datasets</td><td>stack.loss (stackloss)</td><td>Brownlee's Stack Loss Plant Data                               </td></tr>\n",
       "\t<tr><td>datasets</td><td>stack.x (stackloss)   </td><td>Brownlee's Stack Loss Plant Data                               </td></tr>\n",
       "\t<tr><td>datasets</td><td>stackloss             </td><td>Brownlee's Stack Loss Plant Data                               </td></tr>\n",
       "\t<tr><td>datasets</td><td>state.abb (state)     </td><td>US State Facts and Figures                                     </td></tr>\n",
       "\t<tr><td>datasets</td><td>state.area (state)    </td><td>US State Facts and Figures                                     </td></tr>\n",
       "\t<tr><td>datasets</td><td>state.center (state)  </td><td>US State Facts and Figures                                     </td></tr>\n",
       "\t<tr><td>datasets</td><td>state.division (state)</td><td>US State Facts and Figures                                     </td></tr>\n",
       "\t<tr><td>datasets</td><td>state.name (state)    </td><td>US State Facts and Figures                                     </td></tr>\n",
       "\t<tr><td>datasets</td><td>state.region (state)  </td><td>US State Facts and Figures                                     </td></tr>\n",
       "\t<tr><td>datasets</td><td>state.x77 (state)     </td><td>US State Facts and Figures                                     </td></tr>\n",
       "\t<tr><td>datasets</td><td>sunspot.month         </td><td>Monthly Sunspot Data, from 1749 to \"Present\"                   </td></tr>\n",
       "\t<tr><td>datasets</td><td>sunspot.year          </td><td>Yearly Sunspot Data, 1700-1988                                 </td></tr>\n",
       "\t<tr><td>datasets</td><td>sunspots              </td><td>Monthly Sunspot Numbers, 1749-1983                             </td></tr>\n",
       "\t<tr><td>datasets</td><td>swiss                 </td><td>Swiss Fertility and Socioeconomic Indicators (1888) Data       </td></tr>\n",
       "\t<tr><td>datasets</td><td>treering              </td><td>Yearly Treering Data, -6000-1979                               </td></tr>\n",
       "\t<tr><td>datasets</td><td>trees                 </td><td>Diameter, Height and Volume for Black Cherry Trees             </td></tr>\n",
       "\t<tr><td>datasets</td><td>uspop                 </td><td>Populations Recorded by the US Census                          </td></tr>\n",
       "\t<tr><td>datasets</td><td>volcano               </td><td>Topographic Information on Auckland's Maunga Whau Volcano      </td></tr>\n",
       "\t<tr><td>datasets</td><td>warpbreaks            </td><td>The Number of Breaks in Yarn during Weaving                    </td></tr>\n",
       "\t<tr><td>datasets</td><td>women                 </td><td>Average Heights and Weights for American Women                 </td></tr>\n",
       "</tbody>\n",
       "</table>\n",
       "\n",
       "<p>Use 'data(package = .packages(all.available = TRUE))'\n",
       "to list the data sets in all *available* packages.</p>"
      ],
      "text/plain": [
       "Data sets in package 'datasets':\n",
       "\n",
       "AirPassengers           Monthly Airline Passenger Numbers 1949-1960\n",
       "BJsales                 Sales Data with Leading Indicator\n",
       "BJsales.lead (BJsales)\n",
       "                        Sales Data with Leading Indicator\n",
       "BOD                     Biochemical Oxygen Demand\n",
       "CO2                     Carbon Dioxide Uptake in Grass Plants\n",
       "ChickWeight             Weight versus age of chicks on different diets\n",
       "DNase                   Elisa assay of DNase\n",
       "EuStockMarkets          Daily Closing Prices of Major European Stock\n",
       "                        Indices, 1991-1998\n",
       "Formaldehyde            Determination of Formaldehyde\n",
       "HairEyeColor            Hair and Eye Color of Statistics Students\n",
       "Harman23.cor            Harman Example 2.3\n",
       "Harman74.cor            Harman Example 7.4\n",
       "Indometh                Pharmacokinetics of Indomethacin\n",
       "InsectSprays            Effectiveness of Insect Sprays\n",
       "JohnsonJohnson          Quarterly Earnings per Johnson & Johnson Share\n",
       "LakeHuron               Level of Lake Huron 1875-1972\n",
       "LifeCycleSavings        Intercountry Life-Cycle Savings Data\n",
       "Loblolly                Growth of Loblolly pine trees\n",
       "Nile                    Flow of the River Nile\n",
       "Orange                  Growth of Orange Trees\n",
       "OrchardSprays           Potency of Orchard Sprays\n",
       "PlantGrowth             Results from an Experiment on Plant Growth\n",
       "Puromycin               Reaction Velocity of an Enzymatic Reaction\n",
       "Seatbelts               Road Casualties in Great Britain 1969-84\n",
       "Theoph                  Pharmacokinetics of Theophylline\n",
       "Titanic                 Survival of passengers on the Titanic\n",
       "ToothGrowth             The Effect of Vitamin C on Tooth Growth in\n",
       "                        Guinea Pigs\n",
       "UCBAdmissions           Student Admissions at UC Berkeley\n",
       "UKDriverDeaths          Road Casualties in Great Britain 1969-84\n",
       "UKgas                   UK Quarterly Gas Consumption\n",
       "USAccDeaths             Accidental Deaths in the US 1973-1978\n",
       "USArrests               Violent Crime Rates by US State\n",
       "USJudgeRatings          Lawyers' Ratings of State Judges in the US\n",
       "                        Superior Court\n",
       "USPersonalExpenditure   Personal Expenditure Data\n",
       "UScitiesD               Distances Between European Cities and Between\n",
       "                        US Cities\n",
       "VADeaths                Death Rates in Virginia (1940)\n",
       "WWWusage                Internet Usage per Minute\n",
       "WorldPhones             The World's Telephones\n",
       "ability.cov             Ability and Intelligence Tests\n",
       "airmiles                Passenger Miles on Commercial US Airlines,\n",
       "                        1937-1960\n",
       "airquality              New York Air Quality Measurements\n",
       "anscombe                Anscombe's Quartet of 'Identical' Simple Linear\n",
       "                        Regressions\n",
       "attenu                  The Joyner-Boore Attenuation Data\n",
       "attitude                The Chatterjee-Price Attitude Data\n",
       "austres                 Quarterly Time Series of the Number of\n",
       "                        Australian Residents\n",
       "beaver1 (beavers)       Body Temperature Series of Two Beavers\n",
       "beaver2 (beavers)       Body Temperature Series of Two Beavers\n",
       "cars                    Speed and Stopping Distances of Cars\n",
       "chickwts                Chicken Weights by Feed Type\n",
       "co2                     Mauna Loa Atmospheric CO2 Concentration\n",
       "crimtab                 Student's 3000 Criminals Data\n",
       "discoveries             Yearly Numbers of Important Discoveries\n",
       "esoph                   Smoking, Alcohol and (O)esophageal Cancer\n",
       "euro                    Conversion Rates of Euro Currencies\n",
       "euro.cross (euro)       Conversion Rates of Euro Currencies\n",
       "eurodist                Distances Between European Cities and Between\n",
       "                        US Cities\n",
       "faithful                Old Faithful Geyser Data\n",
       "fdeaths (UKLungDeaths)\n",
       "                        Monthly Deaths from Lung Diseases in the UK\n",
       "freeny                  Freeny's Revenue Data\n",
       "freeny.x (freeny)       Freeny's Revenue Data\n",
       "freeny.y (freeny)       Freeny's Revenue Data\n",
       "infert                  Infertility after Spontaneous and Induced\n",
       "                        Abortion\n",
       "iris                    Edgar Anderson's Iris Data\n",
       "iris3                   Edgar Anderson's Iris Data\n",
       "islands                 Areas of the World's Major Landmasses\n",
       "ldeaths (UKLungDeaths)\n",
       "                        Monthly Deaths from Lung Diseases in the UK\n",
       "lh                      Luteinizing Hormone in Blood Samples\n",
       "longley                 Longley's Economic Regression Data\n",
       "lynx                    Annual Canadian Lynx trappings 1821-1934\n",
       "mdeaths (UKLungDeaths)\n",
       "                        Monthly Deaths from Lung Diseases in the UK\n",
       "morley                  Michelson Speed of Light Data\n",
       "mtcars                  Motor Trend Car Road Tests\n",
       "nhtemp                  Average Yearly Temperatures in New Haven\n",
       "nottem                  Average Monthly Temperatures at Nottingham,\n",
       "                        1920-1939\n",
       "npk                     Classical N, P, K Factorial Experiment\n",
       "occupationalStatus      Occupational Status of Fathers and their Sons\n",
       "precip                  Annual Precipitation in US Cities\n",
       "presidents              Quarterly Approval Ratings of US Presidents\n",
       "pressure                Vapor Pressure of Mercury as a Function of\n",
       "                        Temperature\n",
       "quakes                  Locations of Earthquakes off Fiji\n",
       "randu                   Random Numbers from Congruential Generator\n",
       "                        RANDU\n",
       "rivers                  Lengths of Major North American Rivers\n",
       "rock                    Measurements on Petroleum Rock Samples\n",
       "sleep                   Student's Sleep Data\n",
       "stack.loss (stackloss)\n",
       "                        Brownlee's Stack Loss Plant Data\n",
       "stack.x (stackloss)     Brownlee's Stack Loss Plant Data\n",
       "stackloss               Brownlee's Stack Loss Plant Data\n",
       "state.abb (state)       US State Facts and Figures\n",
       "state.area (state)      US State Facts and Figures\n",
       "state.center (state)    US State Facts and Figures\n",
       "state.division (state)\n",
       "                        US State Facts and Figures\n",
       "state.name (state)      US State Facts and Figures\n",
       "state.region (state)    US State Facts and Figures\n",
       "state.x77 (state)       US State Facts and Figures\n",
       "sunspot.month           Monthly Sunspot Data, from 1749 to \"Present\"\n",
       "sunspot.year            Yearly Sunspot Data, 1700-1988\n",
       "sunspots                Monthly Sunspot Numbers, 1749-1983\n",
       "swiss                   Swiss Fertility and Socioeconomic Indicators\n",
       "                        (1888) Data\n",
       "treering                Yearly Treering Data, -6000-1979\n",
       "trees                   Diameter, Height and Volume for Black Cherry\n",
       "                        Trees\n",
       "uspop                   Populations Recorded by the US Census\n",
       "volcano                 Topographic Information on Auckland's Maunga\n",
       "                        Whau Volcano\n",
       "warpbreaks              The Number of Breaks in Yarn during Weaving\n",
       "women                   Average Heights and Weights for American Women\n",
       "\n",
       "Use 'data(package = .packages(all.available = TRUE))'\n",
       "to list the data sets in all *available* packages."
      ]
     },
     "metadata": {},
     "output_type": "display_data"
    }
   ],
   "source": [
    "data()"
   ]
  },
  {
   "cell_type": "code",
   "execution_count": 2,
   "metadata": {
    "collapsed": true
   },
   "outputs": [
    {
     "data": {
      "text/html": [
       "<table>\n",
       "<caption>A data.frame: 150 × 5</caption>\n",
       "<thead>\n",
       "\t<tr><th scope=col>Sepal.Length</th><th scope=col>Sepal.Width</th><th scope=col>Petal.Length</th><th scope=col>Petal.Width</th><th scope=col>Species</th></tr>\n",
       "\t<tr><th scope=col>&lt;dbl&gt;</th><th scope=col>&lt;dbl&gt;</th><th scope=col>&lt;dbl&gt;</th><th scope=col>&lt;dbl&gt;</th><th scope=col>&lt;fct&gt;</th></tr>\n",
       "</thead>\n",
       "<tbody>\n",
       "\t<tr><td>5.1</td><td>3.5</td><td>1.4</td><td>0.2</td><td>setosa</td></tr>\n",
       "\t<tr><td>4.9</td><td>3.0</td><td>1.4</td><td>0.2</td><td>setosa</td></tr>\n",
       "\t<tr><td>4.7</td><td>3.2</td><td>1.3</td><td>0.2</td><td>setosa</td></tr>\n",
       "\t<tr><td>4.6</td><td>3.1</td><td>1.5</td><td>0.2</td><td>setosa</td></tr>\n",
       "\t<tr><td>5.0</td><td>3.6</td><td>1.4</td><td>0.2</td><td>setosa</td></tr>\n",
       "\t<tr><td>5.4</td><td>3.9</td><td>1.7</td><td>0.4</td><td>setosa</td></tr>\n",
       "\t<tr><td>4.6</td><td>3.4</td><td>1.4</td><td>0.3</td><td>setosa</td></tr>\n",
       "\t<tr><td>5.0</td><td>3.4</td><td>1.5</td><td>0.2</td><td>setosa</td></tr>\n",
       "\t<tr><td>4.4</td><td>2.9</td><td>1.4</td><td>0.2</td><td>setosa</td></tr>\n",
       "\t<tr><td>4.9</td><td>3.1</td><td>1.5</td><td>0.1</td><td>setosa</td></tr>\n",
       "\t<tr><td>5.4</td><td>3.7</td><td>1.5</td><td>0.2</td><td>setosa</td></tr>\n",
       "\t<tr><td>4.8</td><td>3.4</td><td>1.6</td><td>0.2</td><td>setosa</td></tr>\n",
       "\t<tr><td>4.8</td><td>3.0</td><td>1.4</td><td>0.1</td><td>setosa</td></tr>\n",
       "\t<tr><td>4.3</td><td>3.0</td><td>1.1</td><td>0.1</td><td>setosa</td></tr>\n",
       "\t<tr><td>5.8</td><td>4.0</td><td>1.2</td><td>0.2</td><td>setosa</td></tr>\n",
       "\t<tr><td>5.7</td><td>4.4</td><td>1.5</td><td>0.4</td><td>setosa</td></tr>\n",
       "\t<tr><td>5.4</td><td>3.9</td><td>1.3</td><td>0.4</td><td>setosa</td></tr>\n",
       "\t<tr><td>5.1</td><td>3.5</td><td>1.4</td><td>0.3</td><td>setosa</td></tr>\n",
       "\t<tr><td>5.7</td><td>3.8</td><td>1.7</td><td>0.3</td><td>setosa</td></tr>\n",
       "\t<tr><td>5.1</td><td>3.8</td><td>1.5</td><td>0.3</td><td>setosa</td></tr>\n",
       "\t<tr><td>5.4</td><td>3.4</td><td>1.7</td><td>0.2</td><td>setosa</td></tr>\n",
       "\t<tr><td>5.1</td><td>3.7</td><td>1.5</td><td>0.4</td><td>setosa</td></tr>\n",
       "\t<tr><td>4.6</td><td>3.6</td><td>1.0</td><td>0.2</td><td>setosa</td></tr>\n",
       "\t<tr><td>5.1</td><td>3.3</td><td>1.7</td><td>0.5</td><td>setosa</td></tr>\n",
       "\t<tr><td>4.8</td><td>3.4</td><td>1.9</td><td>0.2</td><td>setosa</td></tr>\n",
       "\t<tr><td>5.0</td><td>3.0</td><td>1.6</td><td>0.2</td><td>setosa</td></tr>\n",
       "\t<tr><td>5.0</td><td>3.4</td><td>1.6</td><td>0.4</td><td>setosa</td></tr>\n",
       "\t<tr><td>5.2</td><td>3.5</td><td>1.5</td><td>0.2</td><td>setosa</td></tr>\n",
       "\t<tr><td>5.2</td><td>3.4</td><td>1.4</td><td>0.2</td><td>setosa</td></tr>\n",
       "\t<tr><td>4.7</td><td>3.2</td><td>1.6</td><td>0.2</td><td>setosa</td></tr>\n",
       "\t<tr><td>...</td><td>...</td><td>...</td><td>...</td><td>...</td></tr>\n",
       "\t<tr><td>6.9</td><td>3.2</td><td>5.7</td><td>2.3</td><td>virginica</td></tr>\n",
       "\t<tr><td>5.6</td><td>2.8</td><td>4.9</td><td>2.0</td><td>virginica</td></tr>\n",
       "\t<tr><td>7.7</td><td>2.8</td><td>6.7</td><td>2.0</td><td>virginica</td></tr>\n",
       "\t<tr><td>6.3</td><td>2.7</td><td>4.9</td><td>1.8</td><td>virginica</td></tr>\n",
       "\t<tr><td>6.7</td><td>3.3</td><td>5.7</td><td>2.1</td><td>virginica</td></tr>\n",
       "\t<tr><td>7.2</td><td>3.2</td><td>6.0</td><td>1.8</td><td>virginica</td></tr>\n",
       "\t<tr><td>6.2</td><td>2.8</td><td>4.8</td><td>1.8</td><td>virginica</td></tr>\n",
       "\t<tr><td>6.1</td><td>3.0</td><td>4.9</td><td>1.8</td><td>virginica</td></tr>\n",
       "\t<tr><td>6.4</td><td>2.8</td><td>5.6</td><td>2.1</td><td>virginica</td></tr>\n",
       "\t<tr><td>7.2</td><td>3.0</td><td>5.8</td><td>1.6</td><td>virginica</td></tr>\n",
       "\t<tr><td>7.4</td><td>2.8</td><td>6.1</td><td>1.9</td><td>virginica</td></tr>\n",
       "\t<tr><td>7.9</td><td>3.8</td><td>6.4</td><td>2.0</td><td>virginica</td></tr>\n",
       "\t<tr><td>6.4</td><td>2.8</td><td>5.6</td><td>2.2</td><td>virginica</td></tr>\n",
       "\t<tr><td>6.3</td><td>2.8</td><td>5.1</td><td>1.5</td><td>virginica</td></tr>\n",
       "\t<tr><td>6.1</td><td>2.6</td><td>5.6</td><td>1.4</td><td>virginica</td></tr>\n",
       "\t<tr><td>7.7</td><td>3.0</td><td>6.1</td><td>2.3</td><td>virginica</td></tr>\n",
       "\t<tr><td>6.3</td><td>3.4</td><td>5.6</td><td>2.4</td><td>virginica</td></tr>\n",
       "\t<tr><td>6.4</td><td>3.1</td><td>5.5</td><td>1.8</td><td>virginica</td></tr>\n",
       "\t<tr><td>6.0</td><td>3.0</td><td>4.8</td><td>1.8</td><td>virginica</td></tr>\n",
       "\t<tr><td>6.9</td><td>3.1</td><td>5.4</td><td>2.1</td><td>virginica</td></tr>\n",
       "\t<tr><td>6.7</td><td>3.1</td><td>5.6</td><td>2.4</td><td>virginica</td></tr>\n",
       "\t<tr><td>6.9</td><td>3.1</td><td>5.1</td><td>2.3</td><td>virginica</td></tr>\n",
       "\t<tr><td>5.8</td><td>2.7</td><td>5.1</td><td>1.9</td><td>virginica</td></tr>\n",
       "\t<tr><td>6.8</td><td>3.2</td><td>5.9</td><td>2.3</td><td>virginica</td></tr>\n",
       "\t<tr><td>6.7</td><td>3.3</td><td>5.7</td><td>2.5</td><td>virginica</td></tr>\n",
       "\t<tr><td>6.7</td><td>3.0</td><td>5.2</td><td>2.3</td><td>virginica</td></tr>\n",
       "\t<tr><td>6.3</td><td>2.5</td><td>5.0</td><td>1.9</td><td>virginica</td></tr>\n",
       "\t<tr><td>6.5</td><td>3.0</td><td>5.2</td><td>2.0</td><td>virginica</td></tr>\n",
       "\t<tr><td>6.2</td><td>3.4</td><td>5.4</td><td>2.3</td><td>virginica</td></tr>\n",
       "\t<tr><td>5.9</td><td>3.0</td><td>5.1</td><td>1.8</td><td>virginica</td></tr>\n",
       "</tbody>\n",
       "</table>\n"
      ],
      "text/latex": [
       "A data.frame: 150 × 5\n",
       "\\begin{tabular}{lllll}\n",
       " Sepal.Length & Sepal.Width & Petal.Length & Petal.Width & Species\\\\\n",
       " <dbl> & <dbl> & <dbl> & <dbl> & <fct>\\\\\n",
       "\\hline\n",
       "\t 5.1 & 3.5 & 1.4 & 0.2 & setosa\\\\\n",
       "\t 4.9 & 3.0 & 1.4 & 0.2 & setosa\\\\\n",
       "\t 4.7 & 3.2 & 1.3 & 0.2 & setosa\\\\\n",
       "\t 4.6 & 3.1 & 1.5 & 0.2 & setosa\\\\\n",
       "\t 5.0 & 3.6 & 1.4 & 0.2 & setosa\\\\\n",
       "\t 5.4 & 3.9 & 1.7 & 0.4 & setosa\\\\\n",
       "\t 4.6 & 3.4 & 1.4 & 0.3 & setosa\\\\\n",
       "\t 5.0 & 3.4 & 1.5 & 0.2 & setosa\\\\\n",
       "\t 4.4 & 2.9 & 1.4 & 0.2 & setosa\\\\\n",
       "\t 4.9 & 3.1 & 1.5 & 0.1 & setosa\\\\\n",
       "\t 5.4 & 3.7 & 1.5 & 0.2 & setosa\\\\\n",
       "\t 4.8 & 3.4 & 1.6 & 0.2 & setosa\\\\\n",
       "\t 4.8 & 3.0 & 1.4 & 0.1 & setosa\\\\\n",
       "\t 4.3 & 3.0 & 1.1 & 0.1 & setosa\\\\\n",
       "\t 5.8 & 4.0 & 1.2 & 0.2 & setosa\\\\\n",
       "\t 5.7 & 4.4 & 1.5 & 0.4 & setosa\\\\\n",
       "\t 5.4 & 3.9 & 1.3 & 0.4 & setosa\\\\\n",
       "\t 5.1 & 3.5 & 1.4 & 0.3 & setosa\\\\\n",
       "\t 5.7 & 3.8 & 1.7 & 0.3 & setosa\\\\\n",
       "\t 5.1 & 3.8 & 1.5 & 0.3 & setosa\\\\\n",
       "\t 5.4 & 3.4 & 1.7 & 0.2 & setosa\\\\\n",
       "\t 5.1 & 3.7 & 1.5 & 0.4 & setosa\\\\\n",
       "\t 4.6 & 3.6 & 1.0 & 0.2 & setosa\\\\\n",
       "\t 5.1 & 3.3 & 1.7 & 0.5 & setosa\\\\\n",
       "\t 4.8 & 3.4 & 1.9 & 0.2 & setosa\\\\\n",
       "\t 5.0 & 3.0 & 1.6 & 0.2 & setosa\\\\\n",
       "\t 5.0 & 3.4 & 1.6 & 0.4 & setosa\\\\\n",
       "\t 5.2 & 3.5 & 1.5 & 0.2 & setosa\\\\\n",
       "\t 5.2 & 3.4 & 1.4 & 0.2 & setosa\\\\\n",
       "\t 4.7 & 3.2 & 1.6 & 0.2 & setosa\\\\\n",
       "\t ... & ... & ... & ... & ...\\\\\n",
       "\t 6.9 & 3.2 & 5.7 & 2.3 & virginica\\\\\n",
       "\t 5.6 & 2.8 & 4.9 & 2.0 & virginica\\\\\n",
       "\t 7.7 & 2.8 & 6.7 & 2.0 & virginica\\\\\n",
       "\t 6.3 & 2.7 & 4.9 & 1.8 & virginica\\\\\n",
       "\t 6.7 & 3.3 & 5.7 & 2.1 & virginica\\\\\n",
       "\t 7.2 & 3.2 & 6.0 & 1.8 & virginica\\\\\n",
       "\t 6.2 & 2.8 & 4.8 & 1.8 & virginica\\\\\n",
       "\t 6.1 & 3.0 & 4.9 & 1.8 & virginica\\\\\n",
       "\t 6.4 & 2.8 & 5.6 & 2.1 & virginica\\\\\n",
       "\t 7.2 & 3.0 & 5.8 & 1.6 & virginica\\\\\n",
       "\t 7.4 & 2.8 & 6.1 & 1.9 & virginica\\\\\n",
       "\t 7.9 & 3.8 & 6.4 & 2.0 & virginica\\\\\n",
       "\t 6.4 & 2.8 & 5.6 & 2.2 & virginica\\\\\n",
       "\t 6.3 & 2.8 & 5.1 & 1.5 & virginica\\\\\n",
       "\t 6.1 & 2.6 & 5.6 & 1.4 & virginica\\\\\n",
       "\t 7.7 & 3.0 & 6.1 & 2.3 & virginica\\\\\n",
       "\t 6.3 & 3.4 & 5.6 & 2.4 & virginica\\\\\n",
       "\t 6.4 & 3.1 & 5.5 & 1.8 & virginica\\\\\n",
       "\t 6.0 & 3.0 & 4.8 & 1.8 & virginica\\\\\n",
       "\t 6.9 & 3.1 & 5.4 & 2.1 & virginica\\\\\n",
       "\t 6.7 & 3.1 & 5.6 & 2.4 & virginica\\\\\n",
       "\t 6.9 & 3.1 & 5.1 & 2.3 & virginica\\\\\n",
       "\t 5.8 & 2.7 & 5.1 & 1.9 & virginica\\\\\n",
       "\t 6.8 & 3.2 & 5.9 & 2.3 & virginica\\\\\n",
       "\t 6.7 & 3.3 & 5.7 & 2.5 & virginica\\\\\n",
       "\t 6.7 & 3.0 & 5.2 & 2.3 & virginica\\\\\n",
       "\t 6.3 & 2.5 & 5.0 & 1.9 & virginica\\\\\n",
       "\t 6.5 & 3.0 & 5.2 & 2.0 & virginica\\\\\n",
       "\t 6.2 & 3.4 & 5.4 & 2.3 & virginica\\\\\n",
       "\t 5.9 & 3.0 & 5.1 & 1.8 & virginica\\\\\n",
       "\\end{tabular}\n"
      ],
      "text/markdown": [
       "\n",
       "A data.frame: 150 × 5\n",
       "\n",
       "| Sepal.Length &lt;dbl&gt; | Sepal.Width &lt;dbl&gt; | Petal.Length &lt;dbl&gt; | Petal.Width &lt;dbl&gt; | Species &lt;fct&gt; |\n",
       "|---|---|---|---|---|\n",
       "| 5.1 | 3.5 | 1.4 | 0.2 | setosa |\n",
       "| 4.9 | 3.0 | 1.4 | 0.2 | setosa |\n",
       "| 4.7 | 3.2 | 1.3 | 0.2 | setosa |\n",
       "| 4.6 | 3.1 | 1.5 | 0.2 | setosa |\n",
       "| 5.0 | 3.6 | 1.4 | 0.2 | setosa |\n",
       "| 5.4 | 3.9 | 1.7 | 0.4 | setosa |\n",
       "| 4.6 | 3.4 | 1.4 | 0.3 | setosa |\n",
       "| 5.0 | 3.4 | 1.5 | 0.2 | setosa |\n",
       "| 4.4 | 2.9 | 1.4 | 0.2 | setosa |\n",
       "| 4.9 | 3.1 | 1.5 | 0.1 | setosa |\n",
       "| 5.4 | 3.7 | 1.5 | 0.2 | setosa |\n",
       "| 4.8 | 3.4 | 1.6 | 0.2 | setosa |\n",
       "| 4.8 | 3.0 | 1.4 | 0.1 | setosa |\n",
       "| 4.3 | 3.0 | 1.1 | 0.1 | setosa |\n",
       "| 5.8 | 4.0 | 1.2 | 0.2 | setosa |\n",
       "| 5.7 | 4.4 | 1.5 | 0.4 | setosa |\n",
       "| 5.4 | 3.9 | 1.3 | 0.4 | setosa |\n",
       "| 5.1 | 3.5 | 1.4 | 0.3 | setosa |\n",
       "| 5.7 | 3.8 | 1.7 | 0.3 | setosa |\n",
       "| 5.1 | 3.8 | 1.5 | 0.3 | setosa |\n",
       "| 5.4 | 3.4 | 1.7 | 0.2 | setosa |\n",
       "| 5.1 | 3.7 | 1.5 | 0.4 | setosa |\n",
       "| 4.6 | 3.6 | 1.0 | 0.2 | setosa |\n",
       "| 5.1 | 3.3 | 1.7 | 0.5 | setosa |\n",
       "| 4.8 | 3.4 | 1.9 | 0.2 | setosa |\n",
       "| 5.0 | 3.0 | 1.6 | 0.2 | setosa |\n",
       "| 5.0 | 3.4 | 1.6 | 0.4 | setosa |\n",
       "| 5.2 | 3.5 | 1.5 | 0.2 | setosa |\n",
       "| 5.2 | 3.4 | 1.4 | 0.2 | setosa |\n",
       "| 4.7 | 3.2 | 1.6 | 0.2 | setosa |\n",
       "| ... | ... | ... | ... | ... |\n",
       "| 6.9 | 3.2 | 5.7 | 2.3 | virginica |\n",
       "| 5.6 | 2.8 | 4.9 | 2.0 | virginica |\n",
       "| 7.7 | 2.8 | 6.7 | 2.0 | virginica |\n",
       "| 6.3 | 2.7 | 4.9 | 1.8 | virginica |\n",
       "| 6.7 | 3.3 | 5.7 | 2.1 | virginica |\n",
       "| 7.2 | 3.2 | 6.0 | 1.8 | virginica |\n",
       "| 6.2 | 2.8 | 4.8 | 1.8 | virginica |\n",
       "| 6.1 | 3.0 | 4.9 | 1.8 | virginica |\n",
       "| 6.4 | 2.8 | 5.6 | 2.1 | virginica |\n",
       "| 7.2 | 3.0 | 5.8 | 1.6 | virginica |\n",
       "| 7.4 | 2.8 | 6.1 | 1.9 | virginica |\n",
       "| 7.9 | 3.8 | 6.4 | 2.0 | virginica |\n",
       "| 6.4 | 2.8 | 5.6 | 2.2 | virginica |\n",
       "| 6.3 | 2.8 | 5.1 | 1.5 | virginica |\n",
       "| 6.1 | 2.6 | 5.6 | 1.4 | virginica |\n",
       "| 7.7 | 3.0 | 6.1 | 2.3 | virginica |\n",
       "| 6.3 | 3.4 | 5.6 | 2.4 | virginica |\n",
       "| 6.4 | 3.1 | 5.5 | 1.8 | virginica |\n",
       "| 6.0 | 3.0 | 4.8 | 1.8 | virginica |\n",
       "| 6.9 | 3.1 | 5.4 | 2.1 | virginica |\n",
       "| 6.7 | 3.1 | 5.6 | 2.4 | virginica |\n",
       "| 6.9 | 3.1 | 5.1 | 2.3 | virginica |\n",
       "| 5.8 | 2.7 | 5.1 | 1.9 | virginica |\n",
       "| 6.8 | 3.2 | 5.9 | 2.3 | virginica |\n",
       "| 6.7 | 3.3 | 5.7 | 2.5 | virginica |\n",
       "| 6.7 | 3.0 | 5.2 | 2.3 | virginica |\n",
       "| 6.3 | 2.5 | 5.0 | 1.9 | virginica |\n",
       "| 6.5 | 3.0 | 5.2 | 2.0 | virginica |\n",
       "| 6.2 | 3.4 | 5.4 | 2.3 | virginica |\n",
       "| 5.9 | 3.0 | 5.1 | 1.8 | virginica |\n",
       "\n"
      ],
      "text/plain": [
       "    Sepal.Length Sepal.Width Petal.Length Petal.Width Species  \n",
       "1   5.1          3.5         1.4          0.2         setosa   \n",
       "2   4.9          3.0         1.4          0.2         setosa   \n",
       "3   4.7          3.2         1.3          0.2         setosa   \n",
       "4   4.6          3.1         1.5          0.2         setosa   \n",
       "5   5.0          3.6         1.4          0.2         setosa   \n",
       "6   5.4          3.9         1.7          0.4         setosa   \n",
       "7   4.6          3.4         1.4          0.3         setosa   \n",
       "8   5.0          3.4         1.5          0.2         setosa   \n",
       "9   4.4          2.9         1.4          0.2         setosa   \n",
       "10  4.9          3.1         1.5          0.1         setosa   \n",
       "11  5.4          3.7         1.5          0.2         setosa   \n",
       "12  4.8          3.4         1.6          0.2         setosa   \n",
       "13  4.8          3.0         1.4          0.1         setosa   \n",
       "14  4.3          3.0         1.1          0.1         setosa   \n",
       "15  5.8          4.0         1.2          0.2         setosa   \n",
       "16  5.7          4.4         1.5          0.4         setosa   \n",
       "17  5.4          3.9         1.3          0.4         setosa   \n",
       "18  5.1          3.5         1.4          0.3         setosa   \n",
       "19  5.7          3.8         1.7          0.3         setosa   \n",
       "20  5.1          3.8         1.5          0.3         setosa   \n",
       "21  5.4          3.4         1.7          0.2         setosa   \n",
       "22  5.1          3.7         1.5          0.4         setosa   \n",
       "23  4.6          3.6         1.0          0.2         setosa   \n",
       "24  5.1          3.3         1.7          0.5         setosa   \n",
       "25  4.8          3.4         1.9          0.2         setosa   \n",
       "26  5.0          3.0         1.6          0.2         setosa   \n",
       "27  5.0          3.4         1.6          0.4         setosa   \n",
       "28  5.2          3.5         1.5          0.2         setosa   \n",
       "29  5.2          3.4         1.4          0.2         setosa   \n",
       "30  4.7          3.2         1.6          0.2         setosa   \n",
       "... ...          ...         ...          ...         ...      \n",
       "121 6.9          3.2         5.7          2.3         virginica\n",
       "122 5.6          2.8         4.9          2.0         virginica\n",
       "123 7.7          2.8         6.7          2.0         virginica\n",
       "124 6.3          2.7         4.9          1.8         virginica\n",
       "125 6.7          3.3         5.7          2.1         virginica\n",
       "126 7.2          3.2         6.0          1.8         virginica\n",
       "127 6.2          2.8         4.8          1.8         virginica\n",
       "128 6.1          3.0         4.9          1.8         virginica\n",
       "129 6.4          2.8         5.6          2.1         virginica\n",
       "130 7.2          3.0         5.8          1.6         virginica\n",
       "131 7.4          2.8         6.1          1.9         virginica\n",
       "132 7.9          3.8         6.4          2.0         virginica\n",
       "133 6.4          2.8         5.6          2.2         virginica\n",
       "134 6.3          2.8         5.1          1.5         virginica\n",
       "135 6.1          2.6         5.6          1.4         virginica\n",
       "136 7.7          3.0         6.1          2.3         virginica\n",
       "137 6.3          3.4         5.6          2.4         virginica\n",
       "138 6.4          3.1         5.5          1.8         virginica\n",
       "139 6.0          3.0         4.8          1.8         virginica\n",
       "140 6.9          3.1         5.4          2.1         virginica\n",
       "141 6.7          3.1         5.6          2.4         virginica\n",
       "142 6.9          3.1         5.1          2.3         virginica\n",
       "143 5.8          2.7         5.1          1.9         virginica\n",
       "144 6.8          3.2         5.9          2.3         virginica\n",
       "145 6.7          3.3         5.7          2.5         virginica\n",
       "146 6.7          3.0         5.2          2.3         virginica\n",
       "147 6.3          2.5         5.0          1.9         virginica\n",
       "148 6.5          3.0         5.2          2.0         virginica\n",
       "149 6.2          3.4         5.4          2.3         virginica\n",
       "150 5.9          3.0         5.1          1.8         virginica"
      ]
     },
     "metadata": {},
     "output_type": "display_data"
    }
   ],
   "source": [
    "iris"
   ]
  },
  {
   "cell_type": "code",
   "execution_count": 3,
   "metadata": {},
   "outputs": [
    {
     "data": {
      "text/html": [
       "<table>\n",
       "<caption>A data.frame: 6 × 5</caption>\n",
       "<thead>\n",
       "\t<tr><th></th><th scope=col>Sepal.Length</th><th scope=col>Sepal.Width</th><th scope=col>Petal.Length</th><th scope=col>Petal.Width</th><th scope=col>Species</th></tr>\n",
       "\t<tr><th></th><th scope=col>&lt;dbl&gt;</th><th scope=col>&lt;dbl&gt;</th><th scope=col>&lt;dbl&gt;</th><th scope=col>&lt;dbl&gt;</th><th scope=col>&lt;fct&gt;</th></tr>\n",
       "</thead>\n",
       "<tbody>\n",
       "\t<tr><th scope=row>1</th><td>5.1</td><td>3.5</td><td>1.4</td><td>0.2</td><td>setosa</td></tr>\n",
       "\t<tr><th scope=row>2</th><td>4.9</td><td>3.0</td><td>1.4</td><td>0.2</td><td>setosa</td></tr>\n",
       "\t<tr><th scope=row>3</th><td>4.7</td><td>3.2</td><td>1.3</td><td>0.2</td><td>setosa</td></tr>\n",
       "\t<tr><th scope=row>4</th><td>4.6</td><td>3.1</td><td>1.5</td><td>0.2</td><td>setosa</td></tr>\n",
       "\t<tr><th scope=row>5</th><td>5.0</td><td>3.6</td><td>1.4</td><td>0.2</td><td>setosa</td></tr>\n",
       "\t<tr><th scope=row>6</th><td>5.4</td><td>3.9</td><td>1.7</td><td>0.4</td><td>setosa</td></tr>\n",
       "</tbody>\n",
       "</table>\n"
      ],
      "text/latex": [
       "A data.frame: 6 × 5\n",
       "\\begin{tabular}{r|lllll}\n",
       "  & Sepal.Length & Sepal.Width & Petal.Length & Petal.Width & Species\\\\\n",
       "  & <dbl> & <dbl> & <dbl> & <dbl> & <fct>\\\\\n",
       "\\hline\n",
       "\t1 & 5.1 & 3.5 & 1.4 & 0.2 & setosa\\\\\n",
       "\t2 & 4.9 & 3.0 & 1.4 & 0.2 & setosa\\\\\n",
       "\t3 & 4.7 & 3.2 & 1.3 & 0.2 & setosa\\\\\n",
       "\t4 & 4.6 & 3.1 & 1.5 & 0.2 & setosa\\\\\n",
       "\t5 & 5.0 & 3.6 & 1.4 & 0.2 & setosa\\\\\n",
       "\t6 & 5.4 & 3.9 & 1.7 & 0.4 & setosa\\\\\n",
       "\\end{tabular}\n"
      ],
      "text/markdown": [
       "\n",
       "A data.frame: 6 × 5\n",
       "\n",
       "| <!--/--> | Sepal.Length &lt;dbl&gt; | Sepal.Width &lt;dbl&gt; | Petal.Length &lt;dbl&gt; | Petal.Width &lt;dbl&gt; | Species &lt;fct&gt; |\n",
       "|---|---|---|---|---|---|\n",
       "| 1 | 5.1 | 3.5 | 1.4 | 0.2 | setosa |\n",
       "| 2 | 4.9 | 3.0 | 1.4 | 0.2 | setosa |\n",
       "| 3 | 4.7 | 3.2 | 1.3 | 0.2 | setosa |\n",
       "| 4 | 4.6 | 3.1 | 1.5 | 0.2 | setosa |\n",
       "| 5 | 5.0 | 3.6 | 1.4 | 0.2 | setosa |\n",
       "| 6 | 5.4 | 3.9 | 1.7 | 0.4 | setosa |\n",
       "\n"
      ],
      "text/plain": [
       "  Sepal.Length Sepal.Width Petal.Length Petal.Width Species\n",
       "1 5.1          3.5         1.4          0.2         setosa \n",
       "2 4.9          3.0         1.4          0.2         setosa \n",
       "3 4.7          3.2         1.3          0.2         setosa \n",
       "4 4.6          3.1         1.5          0.2         setosa \n",
       "5 5.0          3.6         1.4          0.2         setosa \n",
       "6 5.4          3.9         1.7          0.4         setosa "
      ]
     },
     "metadata": {},
     "output_type": "display_data"
    }
   ],
   "source": [
    "head(iris)"
   ]
  },
  {
   "cell_type": "code",
   "execution_count": 4,
   "metadata": {},
   "outputs": [
    {
     "data": {
      "text/html": [
       "<table>\n",
       "<caption>A data.frame: 10 × 5</caption>\n",
       "<thead>\n",
       "\t<tr><th></th><th scope=col>Sepal.Length</th><th scope=col>Sepal.Width</th><th scope=col>Petal.Length</th><th scope=col>Petal.Width</th><th scope=col>Species</th></tr>\n",
       "\t<tr><th></th><th scope=col>&lt;dbl&gt;</th><th scope=col>&lt;dbl&gt;</th><th scope=col>&lt;dbl&gt;</th><th scope=col>&lt;dbl&gt;</th><th scope=col>&lt;fct&gt;</th></tr>\n",
       "</thead>\n",
       "<tbody>\n",
       "\t<tr><th scope=row>1</th><td>5.1</td><td>3.5</td><td>1.4</td><td>0.2</td><td>setosa</td></tr>\n",
       "\t<tr><th scope=row>2</th><td>4.9</td><td>3.0</td><td>1.4</td><td>0.2</td><td>setosa</td></tr>\n",
       "\t<tr><th scope=row>3</th><td>4.7</td><td>3.2</td><td>1.3</td><td>0.2</td><td>setosa</td></tr>\n",
       "\t<tr><th scope=row>4</th><td>4.6</td><td>3.1</td><td>1.5</td><td>0.2</td><td>setosa</td></tr>\n",
       "\t<tr><th scope=row>5</th><td>5.0</td><td>3.6</td><td>1.4</td><td>0.2</td><td>setosa</td></tr>\n",
       "\t<tr><th scope=row>6</th><td>5.4</td><td>3.9</td><td>1.7</td><td>0.4</td><td>setosa</td></tr>\n",
       "\t<tr><th scope=row>7</th><td>4.6</td><td>3.4</td><td>1.4</td><td>0.3</td><td>setosa</td></tr>\n",
       "\t<tr><th scope=row>8</th><td>5.0</td><td>3.4</td><td>1.5</td><td>0.2</td><td>setosa</td></tr>\n",
       "\t<tr><th scope=row>9</th><td>4.4</td><td>2.9</td><td>1.4</td><td>0.2</td><td>setosa</td></tr>\n",
       "\t<tr><th scope=row>10</th><td>4.9</td><td>3.1</td><td>1.5</td><td>0.1</td><td>setosa</td></tr>\n",
       "</tbody>\n",
       "</table>\n"
      ],
      "text/latex": [
       "A data.frame: 10 × 5\n",
       "\\begin{tabular}{r|lllll}\n",
       "  & Sepal.Length & Sepal.Width & Petal.Length & Petal.Width & Species\\\\\n",
       "  & <dbl> & <dbl> & <dbl> & <dbl> & <fct>\\\\\n",
       "\\hline\n",
       "\t1 & 5.1 & 3.5 & 1.4 & 0.2 & setosa\\\\\n",
       "\t2 & 4.9 & 3.0 & 1.4 & 0.2 & setosa\\\\\n",
       "\t3 & 4.7 & 3.2 & 1.3 & 0.2 & setosa\\\\\n",
       "\t4 & 4.6 & 3.1 & 1.5 & 0.2 & setosa\\\\\n",
       "\t5 & 5.0 & 3.6 & 1.4 & 0.2 & setosa\\\\\n",
       "\t6 & 5.4 & 3.9 & 1.7 & 0.4 & setosa\\\\\n",
       "\t7 & 4.6 & 3.4 & 1.4 & 0.3 & setosa\\\\\n",
       "\t8 & 5.0 & 3.4 & 1.5 & 0.2 & setosa\\\\\n",
       "\t9 & 4.4 & 2.9 & 1.4 & 0.2 & setosa\\\\\n",
       "\t10 & 4.9 & 3.1 & 1.5 & 0.1 & setosa\\\\\n",
       "\\end{tabular}\n"
      ],
      "text/markdown": [
       "\n",
       "A data.frame: 10 × 5\n",
       "\n",
       "| <!--/--> | Sepal.Length &lt;dbl&gt; | Sepal.Width &lt;dbl&gt; | Petal.Length &lt;dbl&gt; | Petal.Width &lt;dbl&gt; | Species &lt;fct&gt; |\n",
       "|---|---|---|---|---|---|\n",
       "| 1 | 5.1 | 3.5 | 1.4 | 0.2 | setosa |\n",
       "| 2 | 4.9 | 3.0 | 1.4 | 0.2 | setosa |\n",
       "| 3 | 4.7 | 3.2 | 1.3 | 0.2 | setosa |\n",
       "| 4 | 4.6 | 3.1 | 1.5 | 0.2 | setosa |\n",
       "| 5 | 5.0 | 3.6 | 1.4 | 0.2 | setosa |\n",
       "| 6 | 5.4 | 3.9 | 1.7 | 0.4 | setosa |\n",
       "| 7 | 4.6 | 3.4 | 1.4 | 0.3 | setosa |\n",
       "| 8 | 5.0 | 3.4 | 1.5 | 0.2 | setosa |\n",
       "| 9 | 4.4 | 2.9 | 1.4 | 0.2 | setosa |\n",
       "| 10 | 4.9 | 3.1 | 1.5 | 0.1 | setosa |\n",
       "\n"
      ],
      "text/plain": [
       "   Sepal.Length Sepal.Width Petal.Length Petal.Width Species\n",
       "1  5.1          3.5         1.4          0.2         setosa \n",
       "2  4.9          3.0         1.4          0.2         setosa \n",
       "3  4.7          3.2         1.3          0.2         setosa \n",
       "4  4.6          3.1         1.5          0.2         setosa \n",
       "5  5.0          3.6         1.4          0.2         setosa \n",
       "6  5.4          3.9         1.7          0.4         setosa \n",
       "7  4.6          3.4         1.4          0.3         setosa \n",
       "8  5.0          3.4         1.5          0.2         setosa \n",
       "9  4.4          2.9         1.4          0.2         setosa \n",
       "10 4.9          3.1         1.5          0.1         setosa "
      ]
     },
     "metadata": {},
     "output_type": "display_data"
    }
   ],
   "source": [
    "head(iris, 10)"
   ]
  },
  {
   "cell_type": "code",
   "execution_count": 5,
   "metadata": {},
   "outputs": [
    {
     "data": {
      "text/html": [
       "<table>\n",
       "<caption>A data.frame: 6 × 5</caption>\n",
       "<thead>\n",
       "\t<tr><th></th><th scope=col>Sepal.Length</th><th scope=col>Sepal.Width</th><th scope=col>Petal.Length</th><th scope=col>Petal.Width</th><th scope=col>Species</th></tr>\n",
       "\t<tr><th></th><th scope=col>&lt;dbl&gt;</th><th scope=col>&lt;dbl&gt;</th><th scope=col>&lt;dbl&gt;</th><th scope=col>&lt;dbl&gt;</th><th scope=col>&lt;fct&gt;</th></tr>\n",
       "</thead>\n",
       "<tbody>\n",
       "\t<tr><th scope=row>145</th><td>6.7</td><td>3.3</td><td>5.7</td><td>2.5</td><td>virginica</td></tr>\n",
       "\t<tr><th scope=row>146</th><td>6.7</td><td>3.0</td><td>5.2</td><td>2.3</td><td>virginica</td></tr>\n",
       "\t<tr><th scope=row>147</th><td>6.3</td><td>2.5</td><td>5.0</td><td>1.9</td><td>virginica</td></tr>\n",
       "\t<tr><th scope=row>148</th><td>6.5</td><td>3.0</td><td>5.2</td><td>2.0</td><td>virginica</td></tr>\n",
       "\t<tr><th scope=row>149</th><td>6.2</td><td>3.4</td><td>5.4</td><td>2.3</td><td>virginica</td></tr>\n",
       "\t<tr><th scope=row>150</th><td>5.9</td><td>3.0</td><td>5.1</td><td>1.8</td><td>virginica</td></tr>\n",
       "</tbody>\n",
       "</table>\n"
      ],
      "text/latex": [
       "A data.frame: 6 × 5\n",
       "\\begin{tabular}{r|lllll}\n",
       "  & Sepal.Length & Sepal.Width & Petal.Length & Petal.Width & Species\\\\\n",
       "  & <dbl> & <dbl> & <dbl> & <dbl> & <fct>\\\\\n",
       "\\hline\n",
       "\t145 & 6.7 & 3.3 & 5.7 & 2.5 & virginica\\\\\n",
       "\t146 & 6.7 & 3.0 & 5.2 & 2.3 & virginica\\\\\n",
       "\t147 & 6.3 & 2.5 & 5.0 & 1.9 & virginica\\\\\n",
       "\t148 & 6.5 & 3.0 & 5.2 & 2.0 & virginica\\\\\n",
       "\t149 & 6.2 & 3.4 & 5.4 & 2.3 & virginica\\\\\n",
       "\t150 & 5.9 & 3.0 & 5.1 & 1.8 & virginica\\\\\n",
       "\\end{tabular}\n"
      ],
      "text/markdown": [
       "\n",
       "A data.frame: 6 × 5\n",
       "\n",
       "| <!--/--> | Sepal.Length &lt;dbl&gt; | Sepal.Width &lt;dbl&gt; | Petal.Length &lt;dbl&gt; | Petal.Width &lt;dbl&gt; | Species &lt;fct&gt; |\n",
       "|---|---|---|---|---|---|\n",
       "| 145 | 6.7 | 3.3 | 5.7 | 2.5 | virginica |\n",
       "| 146 | 6.7 | 3.0 | 5.2 | 2.3 | virginica |\n",
       "| 147 | 6.3 | 2.5 | 5.0 | 1.9 | virginica |\n",
       "| 148 | 6.5 | 3.0 | 5.2 | 2.0 | virginica |\n",
       "| 149 | 6.2 | 3.4 | 5.4 | 2.3 | virginica |\n",
       "| 150 | 5.9 | 3.0 | 5.1 | 1.8 | virginica |\n",
       "\n"
      ],
      "text/plain": [
       "    Sepal.Length Sepal.Width Petal.Length Petal.Width Species  \n",
       "145 6.7          3.3         5.7          2.5         virginica\n",
       "146 6.7          3.0         5.2          2.3         virginica\n",
       "147 6.3          2.5         5.0          1.9         virginica\n",
       "148 6.5          3.0         5.2          2.0         virginica\n",
       "149 6.2          3.4         5.4          2.3         virginica\n",
       "150 5.9          3.0         5.1          1.8         virginica"
      ]
     },
     "metadata": {},
     "output_type": "display_data"
    }
   ],
   "source": [
    "tail(iris)"
   ]
  },
  {
   "cell_type": "code",
   "execution_count": 6,
   "metadata": {},
   "outputs": [
    {
     "data": {
      "text/html": [
       "<table>\n",
       "<caption>A data.frame: 7 × 5</caption>\n",
       "<thead>\n",
       "\t<tr><th></th><th scope=col>Sepal.Length</th><th scope=col>Sepal.Width</th><th scope=col>Petal.Length</th><th scope=col>Petal.Width</th><th scope=col>Species</th></tr>\n",
       "\t<tr><th></th><th scope=col>&lt;dbl&gt;</th><th scope=col>&lt;dbl&gt;</th><th scope=col>&lt;dbl&gt;</th><th scope=col>&lt;dbl&gt;</th><th scope=col>&lt;fct&gt;</th></tr>\n",
       "</thead>\n",
       "<tbody>\n",
       "\t<tr><th scope=row>144</th><td>6.8</td><td>3.2</td><td>5.9</td><td>2.3</td><td>virginica</td></tr>\n",
       "\t<tr><th scope=row>145</th><td>6.7</td><td>3.3</td><td>5.7</td><td>2.5</td><td>virginica</td></tr>\n",
       "\t<tr><th scope=row>146</th><td>6.7</td><td>3.0</td><td>5.2</td><td>2.3</td><td>virginica</td></tr>\n",
       "\t<tr><th scope=row>147</th><td>6.3</td><td>2.5</td><td>5.0</td><td>1.9</td><td>virginica</td></tr>\n",
       "\t<tr><th scope=row>148</th><td>6.5</td><td>3.0</td><td>5.2</td><td>2.0</td><td>virginica</td></tr>\n",
       "\t<tr><th scope=row>149</th><td>6.2</td><td>3.4</td><td>5.4</td><td>2.3</td><td>virginica</td></tr>\n",
       "\t<tr><th scope=row>150</th><td>5.9</td><td>3.0</td><td>5.1</td><td>1.8</td><td>virginica</td></tr>\n",
       "</tbody>\n",
       "</table>\n"
      ],
      "text/latex": [
       "A data.frame: 7 × 5\n",
       "\\begin{tabular}{r|lllll}\n",
       "  & Sepal.Length & Sepal.Width & Petal.Length & Petal.Width & Species\\\\\n",
       "  & <dbl> & <dbl> & <dbl> & <dbl> & <fct>\\\\\n",
       "\\hline\n",
       "\t144 & 6.8 & 3.2 & 5.9 & 2.3 & virginica\\\\\n",
       "\t145 & 6.7 & 3.3 & 5.7 & 2.5 & virginica\\\\\n",
       "\t146 & 6.7 & 3.0 & 5.2 & 2.3 & virginica\\\\\n",
       "\t147 & 6.3 & 2.5 & 5.0 & 1.9 & virginica\\\\\n",
       "\t148 & 6.5 & 3.0 & 5.2 & 2.0 & virginica\\\\\n",
       "\t149 & 6.2 & 3.4 & 5.4 & 2.3 & virginica\\\\\n",
       "\t150 & 5.9 & 3.0 & 5.1 & 1.8 & virginica\\\\\n",
       "\\end{tabular}\n"
      ],
      "text/markdown": [
       "\n",
       "A data.frame: 7 × 5\n",
       "\n",
       "| <!--/--> | Sepal.Length &lt;dbl&gt; | Sepal.Width &lt;dbl&gt; | Petal.Length &lt;dbl&gt; | Petal.Width &lt;dbl&gt; | Species &lt;fct&gt; |\n",
       "|---|---|---|---|---|---|\n",
       "| 144 | 6.8 | 3.2 | 5.9 | 2.3 | virginica |\n",
       "| 145 | 6.7 | 3.3 | 5.7 | 2.5 | virginica |\n",
       "| 146 | 6.7 | 3.0 | 5.2 | 2.3 | virginica |\n",
       "| 147 | 6.3 | 2.5 | 5.0 | 1.9 | virginica |\n",
       "| 148 | 6.5 | 3.0 | 5.2 | 2.0 | virginica |\n",
       "| 149 | 6.2 | 3.4 | 5.4 | 2.3 | virginica |\n",
       "| 150 | 5.9 | 3.0 | 5.1 | 1.8 | virginica |\n",
       "\n"
      ],
      "text/plain": [
       "    Sepal.Length Sepal.Width Petal.Length Petal.Width Species  \n",
       "144 6.8          3.2         5.9          2.3         virginica\n",
       "145 6.7          3.3         5.7          2.5         virginica\n",
       "146 6.7          3.0         5.2          2.3         virginica\n",
       "147 6.3          2.5         5.0          1.9         virginica\n",
       "148 6.5          3.0         5.2          2.0         virginica\n",
       "149 6.2          3.4         5.4          2.3         virginica\n",
       "150 5.9          3.0         5.1          1.8         virginica"
      ]
     },
     "metadata": {},
     "output_type": "display_data"
    }
   ],
   "source": [
    "tail(iris, 7)"
   ]
  },
  {
   "cell_type": "code",
   "execution_count": 7,
   "metadata": {},
   "outputs": [
    {
     "data": {
      "text/html": [
       "\n",
       "<table width=\"100%\" summary=\"page for iris {datasets}\"><tr><td>iris {datasets}</td><td style=\"text-align: right;\">R Documentation</td></tr></table>\n",
       "\n",
       "<h2>Edgar Anderson's Iris Data</h2>\n",
       "\n",
       "<h3>Description</h3>\n",
       "\n",
       "<p>This famous (Fisher's or Anderson's) iris data set gives the\n",
       "measurements in centimeters of the variables sepal length and width\n",
       "and petal length and width, respectively, for 50 flowers from each\n",
       "of 3 species of iris.  The species are <em>Iris setosa</em>,\n",
       "<em>versicolor</em>, and <em>virginica</em>.\n",
       "</p>\n",
       "\n",
       "\n",
       "<h3>Usage</h3>\n",
       "\n",
       "<pre>\n",
       "iris\n",
       "iris3\n",
       "</pre>\n",
       "\n",
       "\n",
       "<h3>Format</h3>\n",
       "\n",
       "<p><code>iris</code> is a data frame with 150 cases (rows) and 5 variables\n",
       "(columns) named <code>Sepal.Length</code>, <code>Sepal.Width</code>,\n",
       "<code>Petal.Length</code>, <code>Petal.Width</code>, and <code>Species</code>.\n",
       "</p>\n",
       "<p><code>iris3</code> gives the same data arranged as a 3-dimensional array\n",
       "of size 50 by 4 by 3, as represented by S-PLUS.  The first dimension\n",
       "gives the case number within the species subsample, the second the\n",
       "measurements with names <code>Sepal L.</code>, <code>Sepal W.</code>,\n",
       "<code>Petal L.</code>, and <code>Petal W.</code>, and the third the species.\n",
       "</p>\n",
       "\n",
       "\n",
       "<h3>Source</h3>\n",
       "\n",
       "<p>Fisher, R. A. (1936)\n",
       "The use of multiple measurements in taxonomic problems.\n",
       "<em>Annals of Eugenics</em>,\n",
       "<b>7</b>, Part II, 179&ndash;188.\n",
       "</p>\n",
       "<p>The data were collected by\n",
       "Anderson, Edgar (1935).\n",
       "The irises of the Gaspe Peninsula,\n",
       "<em>Bulletin of the American Iris Society</em>,\n",
       "<b>59</b>, 2&ndash;5.\n",
       "</p>\n",
       "\n",
       "\n",
       "<h3>References</h3>\n",
       "\n",
       "<p>Becker, R. A., Chambers, J. M. and Wilks, A. R. (1988)\n",
       "<em>The New S Language</em>.\n",
       "Wadsworth &amp; Brooks/Cole. (has <code>iris3</code> as <code>iris</code>.)\n",
       "</p>\n",
       "\n",
       "\n",
       "<h3>See Also</h3>\n",
       "\n",
       "<p><code>matplot</code> some examples of which use\n",
       "<code>iris</code>.\n",
       "</p>\n",
       "\n",
       "\n",
       "<h3>Examples</h3>\n",
       "\n",
       "<pre>\n",
       "dni3 &lt;- dimnames(iris3)\n",
       "ii &lt;- data.frame(matrix(aperm(iris3, c(1,3,2)), ncol = 4,\n",
       "                        dimnames = list(NULL, sub(\" L.\",\".Length\",\n",
       "                                        sub(\" W.\",\".Width\", dni3[[2]])))),\n",
       "    Species = gl(3, 50, labels = sub(\"S\", \"s\", sub(\"V\", \"v\", dni3[[3]]))))\n",
       "all.equal(ii, iris) # TRUE\n",
       "</pre>\n",
       "\n",
       "<hr /><div style=\"text-align: center;\">[Package <em>datasets</em> version 3.6.1 ]</div>"
      ],
      "text/latex": [
       "\\inputencoding{utf8}\n",
       "\\HeaderA{iris}{Edgar Anderson's Iris Data}{iris}\n",
       "\\aliasA{iris3}{iris}{iris3}\n",
       "\\keyword{datasets}{iris}\n",
       "%\n",
       "\\begin{Description}\\relax\n",
       "This famous (Fisher's or Anderson's) iris data set gives the\n",
       "measurements in centimeters of the variables sepal length and width\n",
       "and petal length and width, respectively, for 50 flowers from each\n",
       "of 3 species of iris.  The species are \\emph{Iris setosa},\n",
       "\\emph{versicolor}, and \\emph{virginica}.\n",
       "\\end{Description}\n",
       "%\n",
       "\\begin{Usage}\n",
       "\\begin{verbatim}\n",
       "iris\n",
       "iris3\n",
       "\\end{verbatim}\n",
       "\\end{Usage}\n",
       "%\n",
       "\\begin{Format}\n",
       "\\code{iris} is a data frame with 150 cases (rows) and 5 variables\n",
       "(columns) named \\code{Sepal.Length}, \\code{Sepal.Width},\n",
       "\\code{Petal.Length}, \\code{Petal.Width}, and \\code{Species}.\n",
       "\n",
       "\\code{iris3} gives the same data arranged as a 3-dimensional array\n",
       "of size 50 by 4 by 3, as represented by S-PLUS.  The first dimension\n",
       "gives the case number within the species subsample, the second the\n",
       "measurements with names \\code{Sepal L.}, \\code{Sepal W.},\n",
       "\\code{Petal L.}, and \\code{Petal W.}, and the third the species.\n",
       "\\end{Format}\n",
       "%\n",
       "\\begin{Source}\\relax\n",
       "Fisher, R. A. (1936)\n",
       "The use of multiple measurements in taxonomic problems.\n",
       "\\emph{Annals of Eugenics},\n",
       "\\bold{7}, Part II, 179--188.\n",
       "\n",
       "The data were collected by\n",
       "Anderson, Edgar (1935).\n",
       "The irises of the Gaspe Peninsula,\n",
       "\\emph{Bulletin of the American Iris Society},\n",
       "\\bold{59}, 2--5.\n",
       "\\end{Source}\n",
       "%\n",
       "\\begin{References}\\relax\n",
       "Becker, R. A., Chambers, J. M. and Wilks, A. R. (1988)\n",
       "\\emph{The New S Language}.\n",
       "Wadsworth \\& Brooks/Cole. (has \\code{iris3} as \\code{iris}.)\n",
       "\\end{References}\n",
       "%\n",
       "\\begin{SeeAlso}\\relax\n",
       "\\code{\\LinkA{matplot}{matplot}} some examples of which use\n",
       "\\code{iris}.\n",
       "\\end{SeeAlso}\n",
       "%\n",
       "\\begin{Examples}\n",
       "\\begin{ExampleCode}\n",
       "dni3 <- dimnames(iris3)\n",
       "ii <- data.frame(matrix(aperm(iris3, c(1,3,2)), ncol = 4,\n",
       "                        dimnames = list(NULL, sub(\" L.\",\".Length\",\n",
       "                                        sub(\" W.\",\".Width\", dni3[[2]])))),\n",
       "    Species = gl(3, 50, labels = sub(\"S\", \"s\", sub(\"V\", \"v\", dni3[[3]]))))\n",
       "all.equal(ii, iris) # TRUE\n",
       "\\end{ExampleCode}\n",
       "\\end{Examples}"
      ],
      "text/plain": [
       "iris                 package:datasets                  R Documentation\n",
       "\n",
       "_\bE_\bd_\bg_\ba_\br _\bA_\bn_\bd_\be_\br_\bs_\bo_\bn'_\bs _\bI_\br_\bi_\bs _\bD_\ba_\bt_\ba\n",
       "\n",
       "_\bD_\be_\bs_\bc_\br_\bi_\bp_\bt_\bi_\bo_\bn:\n",
       "\n",
       "     This famous (Fisher's or Anderson's) iris data set gives the\n",
       "     measurements in centimeters of the variables sepal length and\n",
       "     width and petal length and width, respectively, for 50 flowers\n",
       "     from each of 3 species of iris.  The species are _Iris setosa_,\n",
       "     _versicolor_, and _virginica_.\n",
       "\n",
       "_\bU_\bs_\ba_\bg_\be:\n",
       "\n",
       "     iris\n",
       "     iris3\n",
       "     \n",
       "_\bF_\bo_\br_\bm_\ba_\bt:\n",
       "\n",
       "     'iris' is a data frame with 150 cases (rows) and 5 variables\n",
       "     (columns) named 'Sepal.Length', 'Sepal.Width', 'Petal.Length',\n",
       "     'Petal.Width', and 'Species'.\n",
       "\n",
       "     'iris3' gives the same data arranged as a 3-dimensional array of\n",
       "     size 50 by 4 by 3, as represented by S-PLUS.  The first dimension\n",
       "     gives the case number within the species subsample, the second the\n",
       "     measurements with names 'Sepal L.', 'Sepal W.', 'Petal L.', and\n",
       "     'Petal W.', and the third the species.\n",
       "\n",
       "_\bS_\bo_\bu_\br_\bc_\be:\n",
       "\n",
       "     Fisher, R. A. (1936) The use of multiple measurements in taxonomic\n",
       "     problems.  _Annals of Eugenics_, *7*, Part II, 179-188.\n",
       "\n",
       "     The data were collected by Anderson, Edgar (1935).  The irises of\n",
       "     the Gaspe Peninsula, _Bulletin of the American Iris Society_,\n",
       "     *59*, 2-5.\n",
       "\n",
       "_\bR_\be_\bf_\be_\br_\be_\bn_\bc_\be_\bs:\n",
       "\n",
       "     Becker, R. A., Chambers, J. M. and Wilks, A. R. (1988) _The New S\n",
       "     Language_.  Wadsworth & Brooks/Cole. (has 'iris3' as 'iris'.)\n",
       "\n",
       "_\bS_\be_\be _\bA_\bl_\bs_\bo:\n",
       "\n",
       "     'matplot' some examples of which use 'iris'.\n",
       "\n",
       "_\bE_\bx_\ba_\bm_\bp_\bl_\be_\bs:\n",
       "\n",
       "     dni3 <- dimnames(iris3)\n",
       "     ii <- data.frame(matrix(aperm(iris3, c(1,3,2)), ncol = 4,\n",
       "                             dimnames = list(NULL, sub(\" L.\",\".Length\",\n",
       "                                             sub(\" W.\",\".Width\", dni3[[2]])))),\n",
       "         Species = gl(3, 50, labels = sub(\"S\", \"s\", sub(\"V\", \"v\", dni3[[3]]))))\n",
       "     all.equal(ii, iris) # TRUE\n",
       "     "
      ]
     },
     "metadata": {},
     "output_type": "display_data"
    }
   ],
   "source": [
    "?iris"
   ]
  },
  {
   "cell_type": "code",
   "execution_count": 8,
   "metadata": {},
   "outputs": [
    {
     "data": {
      "text/html": [
       "<style>\n",
       ".list-inline {list-style: none; margin:0; padding: 0}\n",
       ".list-inline>li {display: inline-block}\n",
       ".list-inline>li:not(:last-child)::after {content: \"\\00b7\"; padding: 0 .5ex}\n",
       "</style>\n",
       "<ol class=list-inline><li>150</li><li>5</li></ol>\n"
      ],
      "text/latex": [
       "\\begin{enumerate*}\n",
       "\\item 150\n",
       "\\item 5\n",
       "\\end{enumerate*}\n"
      ],
      "text/markdown": [
       "1. 150\n",
       "2. 5\n",
       "\n",
       "\n"
      ],
      "text/plain": [
       "[1] 150   5"
      ]
     },
     "metadata": {},
     "output_type": "display_data"
    }
   ],
   "source": [
    "dim(iris)"
   ]
  },
  {
   "cell_type": "code",
   "execution_count": 9,
   "metadata": {},
   "outputs": [
    {
     "data": {
      "text/html": [
       "<style>\n",
       ".list-inline {list-style: none; margin:0; padding: 0}\n",
       ".list-inline>li {display: inline-block}\n",
       ".list-inline>li:not(:last-child)::after {content: \"\\00b7\"; padding: 0 .5ex}\n",
       "</style>\n",
       "<ol class=list-inline><li>'Sepal.Length'</li><li>'Sepal.Width'</li><li>'Petal.Length'</li><li>'Petal.Width'</li><li>'Species'</li></ol>\n"
      ],
      "text/latex": [
       "\\begin{enumerate*}\n",
       "\\item 'Sepal.Length'\n",
       "\\item 'Sepal.Width'\n",
       "\\item 'Petal.Length'\n",
       "\\item 'Petal.Width'\n",
       "\\item 'Species'\n",
       "\\end{enumerate*}\n"
      ],
      "text/markdown": [
       "1. 'Sepal.Length'\n",
       "2. 'Sepal.Width'\n",
       "3. 'Petal.Length'\n",
       "4. 'Petal.Width'\n",
       "5. 'Species'\n",
       "\n",
       "\n"
      ],
      "text/plain": [
       "[1] \"Sepal.Length\" \"Sepal.Width\"  \"Petal.Length\" \"Petal.Width\"  \"Species\"     "
      ]
     },
     "metadata": {},
     "output_type": "display_data"
    }
   ],
   "source": [
    "names(iris)"
   ]
  },
  {
   "cell_type": "code",
   "execution_count": 10,
   "metadata": {},
   "outputs": [
    {
     "data": {
      "text/html": [
       "'data.frame'"
      ],
      "text/latex": [
       "'data.frame'"
      ],
      "text/markdown": [
       "'data.frame'"
      ],
      "text/plain": [
       "[1] \"data.frame\""
      ]
     },
     "metadata": {},
     "output_type": "display_data"
    }
   ],
   "source": [
    "class(iris)"
   ]
  },
  {
   "cell_type": "code",
   "execution_count": 11,
   "metadata": {},
   "outputs": [
    {
     "data": {
      "text/html": [
       "'character'"
      ],
      "text/latex": [
       "'character'"
      ],
      "text/markdown": [
       "'character'"
      ],
      "text/plain": [
       "[1] \"character\""
      ]
     },
     "metadata": {},
     "output_type": "display_data"
    }
   ],
   "source": [
    "class(names(iris))"
   ]
  },
  {
   "cell_type": "code",
   "execution_count": 1,
   "metadata": {
    "collapsed": true,
    "jupyter": {
     "outputs_hidden": true
    }
   },
   "outputs": [
    {
     "data": {
      "text/html": [
       "<style>\n",
       ".list-inline {list-style: none; margin:0; padding: 0}\n",
       ".list-inline>li {display: inline-block}\n",
       ".list-inline>li:not(:last-child)::after {content: \"\\00b7\"; padding: 0 .5ex}\n",
       "</style>\n",
       "<ol class=list-inline><li>setosa</li><li>setosa</li><li>setosa</li><li>setosa</li><li>setosa</li><li>setosa</li><li>setosa</li><li>setosa</li><li>setosa</li><li>setosa</li><li>setosa</li><li>setosa</li><li>setosa</li><li>setosa</li><li>setosa</li><li>setosa</li><li>setosa</li><li>setosa</li><li>setosa</li><li>setosa</li><li>setosa</li><li>setosa</li><li>setosa</li><li>setosa</li><li>setosa</li><li>setosa</li><li>setosa</li><li>setosa</li><li>setosa</li><li>setosa</li><li>setosa</li><li>setosa</li><li>setosa</li><li>setosa</li><li>setosa</li><li>setosa</li><li>setosa</li><li>setosa</li><li>setosa</li><li>setosa</li><li>setosa</li><li>setosa</li><li>setosa</li><li>setosa</li><li>setosa</li><li>setosa</li><li>setosa</li><li>setosa</li><li>setosa</li><li>setosa</li><li>versicolor</li><li>versicolor</li><li>versicolor</li><li>versicolor</li><li>versicolor</li><li>versicolor</li><li>versicolor</li><li>versicolor</li><li>versicolor</li><li>versicolor</li><li>versicolor</li><li>versicolor</li><li>versicolor</li><li>versicolor</li><li>versicolor</li><li>versicolor</li><li>versicolor</li><li>versicolor</li><li>versicolor</li><li>versicolor</li><li>versicolor</li><li>versicolor</li><li>versicolor</li><li>versicolor</li><li>versicolor</li><li>versicolor</li><li>versicolor</li><li>versicolor</li><li>versicolor</li><li>versicolor</li><li>versicolor</li><li>versicolor</li><li>versicolor</li><li>versicolor</li><li>versicolor</li><li>versicolor</li><li>versicolor</li><li>versicolor</li><li>versicolor</li><li>versicolor</li><li>versicolor</li><li>versicolor</li><li>versicolor</li><li>versicolor</li><li>versicolor</li><li>versicolor</li><li>versicolor</li><li>versicolor</li><li>versicolor</li><li>versicolor</li><li>virginica</li><li>virginica</li><li>virginica</li><li>virginica</li><li>virginica</li><li>virginica</li><li>virginica</li><li>virginica</li><li>virginica</li><li>virginica</li><li>virginica</li><li>virginica</li><li>virginica</li><li>virginica</li><li>virginica</li><li>virginica</li><li>virginica</li><li>virginica</li><li>virginica</li><li>virginica</li><li>virginica</li><li>virginica</li><li>virginica</li><li>virginica</li><li>virginica</li><li>virginica</li><li>virginica</li><li>virginica</li><li>virginica</li><li>virginica</li><li>virginica</li><li>virginica</li><li>virginica</li><li>virginica</li><li>virginica</li><li>virginica</li><li>virginica</li><li>virginica</li><li>virginica</li><li>virginica</li><li>virginica</li><li>virginica</li><li>virginica</li><li>virginica</li><li>virginica</li><li>virginica</li><li>virginica</li><li>virginica</li><li>virginica</li><li>virginica</li></ol>\n",
       "\n",
       "<details>\n",
       "\t<summary style=display:list-item;cursor:pointer>\n",
       "\t\t<strong>Levels</strong>:\n",
       "\t</summary>\n",
       "\t<style>\n",
       "\t.list-inline {list-style: none; margin:0; padding: 0}\n",
       "\t.list-inline>li {display: inline-block}\n",
       "\t.list-inline>li:not(:last-child)::after {content: \"\\00b7\"; padding: 0 .5ex}\n",
       "\t</style>\n",
       "\t<ol class=list-inline><li>'setosa'</li><li>'versicolor'</li><li>'virginica'</li></ol>\n",
       "</details>"
      ],
      "text/latex": [
       "\\begin{enumerate*}\n",
       "\\item setosa\n",
       "\\item setosa\n",
       "\\item setosa\n",
       "\\item setosa\n",
       "\\item setosa\n",
       "\\item setosa\n",
       "\\item setosa\n",
       "\\item setosa\n",
       "\\item setosa\n",
       "\\item setosa\n",
       "\\item setosa\n",
       "\\item setosa\n",
       "\\item setosa\n",
       "\\item setosa\n",
       "\\item setosa\n",
       "\\item setosa\n",
       "\\item setosa\n",
       "\\item setosa\n",
       "\\item setosa\n",
       "\\item setosa\n",
       "\\item setosa\n",
       "\\item setosa\n",
       "\\item setosa\n",
       "\\item setosa\n",
       "\\item setosa\n",
       "\\item setosa\n",
       "\\item setosa\n",
       "\\item setosa\n",
       "\\item setosa\n",
       "\\item setosa\n",
       "\\item setosa\n",
       "\\item setosa\n",
       "\\item setosa\n",
       "\\item setosa\n",
       "\\item setosa\n",
       "\\item setosa\n",
       "\\item setosa\n",
       "\\item setosa\n",
       "\\item setosa\n",
       "\\item setosa\n",
       "\\item setosa\n",
       "\\item setosa\n",
       "\\item setosa\n",
       "\\item setosa\n",
       "\\item setosa\n",
       "\\item setosa\n",
       "\\item setosa\n",
       "\\item setosa\n",
       "\\item setosa\n",
       "\\item setosa\n",
       "\\item versicolor\n",
       "\\item versicolor\n",
       "\\item versicolor\n",
       "\\item versicolor\n",
       "\\item versicolor\n",
       "\\item versicolor\n",
       "\\item versicolor\n",
       "\\item versicolor\n",
       "\\item versicolor\n",
       "\\item versicolor\n",
       "\\item versicolor\n",
       "\\item versicolor\n",
       "\\item versicolor\n",
       "\\item versicolor\n",
       "\\item versicolor\n",
       "\\item versicolor\n",
       "\\item versicolor\n",
       "\\item versicolor\n",
       "\\item versicolor\n",
       "\\item versicolor\n",
       "\\item versicolor\n",
       "\\item versicolor\n",
       "\\item versicolor\n",
       "\\item versicolor\n",
       "\\item versicolor\n",
       "\\item versicolor\n",
       "\\item versicolor\n",
       "\\item versicolor\n",
       "\\item versicolor\n",
       "\\item versicolor\n",
       "\\item versicolor\n",
       "\\item versicolor\n",
       "\\item versicolor\n",
       "\\item versicolor\n",
       "\\item versicolor\n",
       "\\item versicolor\n",
       "\\item versicolor\n",
       "\\item versicolor\n",
       "\\item versicolor\n",
       "\\item versicolor\n",
       "\\item versicolor\n",
       "\\item versicolor\n",
       "\\item versicolor\n",
       "\\item versicolor\n",
       "\\item versicolor\n",
       "\\item versicolor\n",
       "\\item versicolor\n",
       "\\item versicolor\n",
       "\\item versicolor\n",
       "\\item versicolor\n",
       "\\item virginica\n",
       "\\item virginica\n",
       "\\item virginica\n",
       "\\item virginica\n",
       "\\item virginica\n",
       "\\item virginica\n",
       "\\item virginica\n",
       "\\item virginica\n",
       "\\item virginica\n",
       "\\item virginica\n",
       "\\item virginica\n",
       "\\item virginica\n",
       "\\item virginica\n",
       "\\item virginica\n",
       "\\item virginica\n",
       "\\item virginica\n",
       "\\item virginica\n",
       "\\item virginica\n",
       "\\item virginica\n",
       "\\item virginica\n",
       "\\item virginica\n",
       "\\item virginica\n",
       "\\item virginica\n",
       "\\item virginica\n",
       "\\item virginica\n",
       "\\item virginica\n",
       "\\item virginica\n",
       "\\item virginica\n",
       "\\item virginica\n",
       "\\item virginica\n",
       "\\item virginica\n",
       "\\item virginica\n",
       "\\item virginica\n",
       "\\item virginica\n",
       "\\item virginica\n",
       "\\item virginica\n",
       "\\item virginica\n",
       "\\item virginica\n",
       "\\item virginica\n",
       "\\item virginica\n",
       "\\item virginica\n",
       "\\item virginica\n",
       "\\item virginica\n",
       "\\item virginica\n",
       "\\item virginica\n",
       "\\item virginica\n",
       "\\item virginica\n",
       "\\item virginica\n",
       "\\item virginica\n",
       "\\item virginica\n",
       "\\end{enumerate*}\n",
       "\n",
       "\\emph{Levels}: \\begin{enumerate*}\n",
       "\\item 'setosa'\n",
       "\\item 'versicolor'\n",
       "\\item 'virginica'\n",
       "\\end{enumerate*}\n"
      ],
      "text/markdown": [
       "1. setosa\n",
       "2. setosa\n",
       "3. setosa\n",
       "4. setosa\n",
       "5. setosa\n",
       "6. setosa\n",
       "7. setosa\n",
       "8. setosa\n",
       "9. setosa\n",
       "10. setosa\n",
       "11. setosa\n",
       "12. setosa\n",
       "13. setosa\n",
       "14. setosa\n",
       "15. setosa\n",
       "16. setosa\n",
       "17. setosa\n",
       "18. setosa\n",
       "19. setosa\n",
       "20. setosa\n",
       "21. setosa\n",
       "22. setosa\n",
       "23. setosa\n",
       "24. setosa\n",
       "25. setosa\n",
       "26. setosa\n",
       "27. setosa\n",
       "28. setosa\n",
       "29. setosa\n",
       "30. setosa\n",
       "31. setosa\n",
       "32. setosa\n",
       "33. setosa\n",
       "34. setosa\n",
       "35. setosa\n",
       "36. setosa\n",
       "37. setosa\n",
       "38. setosa\n",
       "39. setosa\n",
       "40. setosa\n",
       "41. setosa\n",
       "42. setosa\n",
       "43. setosa\n",
       "44. setosa\n",
       "45. setosa\n",
       "46. setosa\n",
       "47. setosa\n",
       "48. setosa\n",
       "49. setosa\n",
       "50. setosa\n",
       "51. versicolor\n",
       "52. versicolor\n",
       "53. versicolor\n",
       "54. versicolor\n",
       "55. versicolor\n",
       "56. versicolor\n",
       "57. versicolor\n",
       "58. versicolor\n",
       "59. versicolor\n",
       "60. versicolor\n",
       "61. versicolor\n",
       "62. versicolor\n",
       "63. versicolor\n",
       "64. versicolor\n",
       "65. versicolor\n",
       "66. versicolor\n",
       "67. versicolor\n",
       "68. versicolor\n",
       "69. versicolor\n",
       "70. versicolor\n",
       "71. versicolor\n",
       "72. versicolor\n",
       "73. versicolor\n",
       "74. versicolor\n",
       "75. versicolor\n",
       "76. versicolor\n",
       "77. versicolor\n",
       "78. versicolor\n",
       "79. versicolor\n",
       "80. versicolor\n",
       "81. versicolor\n",
       "82. versicolor\n",
       "83. versicolor\n",
       "84. versicolor\n",
       "85. versicolor\n",
       "86. versicolor\n",
       "87. versicolor\n",
       "88. versicolor\n",
       "89. versicolor\n",
       "90. versicolor\n",
       "91. versicolor\n",
       "92. versicolor\n",
       "93. versicolor\n",
       "94. versicolor\n",
       "95. versicolor\n",
       "96. versicolor\n",
       "97. versicolor\n",
       "98. versicolor\n",
       "99. versicolor\n",
       "100. versicolor\n",
       "101. virginica\n",
       "102. virginica\n",
       "103. virginica\n",
       "104. virginica\n",
       "105. virginica\n",
       "106. virginica\n",
       "107. virginica\n",
       "108. virginica\n",
       "109. virginica\n",
       "110. virginica\n",
       "111. virginica\n",
       "112. virginica\n",
       "113. virginica\n",
       "114. virginica\n",
       "115. virginica\n",
       "116. virginica\n",
       "117. virginica\n",
       "118. virginica\n",
       "119. virginica\n",
       "120. virginica\n",
       "121. virginica\n",
       "122. virginica\n",
       "123. virginica\n",
       "124. virginica\n",
       "125. virginica\n",
       "126. virginica\n",
       "127. virginica\n",
       "128. virginica\n",
       "129. virginica\n",
       "130. virginica\n",
       "131. virginica\n",
       "132. virginica\n",
       "133. virginica\n",
       "134. virginica\n",
       "135. virginica\n",
       "136. virginica\n",
       "137. virginica\n",
       "138. virginica\n",
       "139. virginica\n",
       "140. virginica\n",
       "141. virginica\n",
       "142. virginica\n",
       "143. virginica\n",
       "144. virginica\n",
       "145. virginica\n",
       "146. virginica\n",
       "147. virginica\n",
       "148. virginica\n",
       "149. virginica\n",
       "150. virginica\n",
       "\n",
       "\n",
       "\n",
       "**Levels**: 1. 'setosa'\n",
       "2. 'versicolor'\n",
       "3. 'virginica'\n",
       "\n",
       "\n"
      ],
      "text/plain": [
       "  [1] setosa     setosa     setosa     setosa     setosa     setosa    \n",
       "  [7] setosa     setosa     setosa     setosa     setosa     setosa    \n",
       " [13] setosa     setosa     setosa     setosa     setosa     setosa    \n",
       " [19] setosa     setosa     setosa     setosa     setosa     setosa    \n",
       " [25] setosa     setosa     setosa     setosa     setosa     setosa    \n",
       " [31] setosa     setosa     setosa     setosa     setosa     setosa    \n",
       " [37] setosa     setosa     setosa     setosa     setosa     setosa    \n",
       " [43] setosa     setosa     setosa     setosa     setosa     setosa    \n",
       " [49] setosa     setosa     versicolor versicolor versicolor versicolor\n",
       " [55] versicolor versicolor versicolor versicolor versicolor versicolor\n",
       " [61] versicolor versicolor versicolor versicolor versicolor versicolor\n",
       " [67] versicolor versicolor versicolor versicolor versicolor versicolor\n",
       " [73] versicolor versicolor versicolor versicolor versicolor versicolor\n",
       " [79] versicolor versicolor versicolor versicolor versicolor versicolor\n",
       " [85] versicolor versicolor versicolor versicolor versicolor versicolor\n",
       " [91] versicolor versicolor versicolor versicolor versicolor versicolor\n",
       " [97] versicolor versicolor versicolor versicolor virginica  virginica \n",
       "[103] virginica  virginica  virginica  virginica  virginica  virginica \n",
       "[109] virginica  virginica  virginica  virginica  virginica  virginica \n",
       "[115] virginica  virginica  virginica  virginica  virginica  virginica \n",
       "[121] virginica  virginica  virginica  virginica  virginica  virginica \n",
       "[127] virginica  virginica  virginica  virginica  virginica  virginica \n",
       "[133] virginica  virginica  virginica  virginica  virginica  virginica \n",
       "[139] virginica  virginica  virginica  virginica  virginica  virginica \n",
       "[145] virginica  virginica  virginica  virginica  virginica  virginica \n",
       "Levels: setosa versicolor virginica"
      ]
     },
     "metadata": {},
     "output_type": "display_data"
    }
   ],
   "source": [
    "iris$Species"
   ]
  },
  {
   "cell_type": "code",
   "execution_count": 2,
   "metadata": {
    "collapsed": true,
    "jupyter": {
     "outputs_hidden": true
    }
   },
   "outputs": [
    {
     "data": {
      "text/html": [
       "<style>\n",
       ".list-inline {list-style: none; margin:0; padding: 0}\n",
       ".list-inline>li {display: inline-block}\n",
       ".list-inline>li:not(:last-child)::after {content: \"\\00b7\"; padding: 0 .5ex}\n",
       "</style>\n",
       "<ol class=list-inline><li>5.1</li><li>4.9</li><li>4.7</li><li>4.6</li><li>5</li><li>5.4</li><li>4.6</li><li>5</li><li>4.4</li><li>4.9</li><li>5.4</li><li>4.8</li><li>4.8</li><li>4.3</li><li>5.8</li><li>5.7</li><li>5.4</li><li>5.1</li><li>5.7</li><li>5.1</li><li>5.4</li><li>5.1</li><li>4.6</li><li>5.1</li><li>4.8</li><li>5</li><li>5</li><li>5.2</li><li>5.2</li><li>4.7</li><li>4.8</li><li>5.4</li><li>5.2</li><li>5.5</li><li>4.9</li><li>5</li><li>5.5</li><li>4.9</li><li>4.4</li><li>5.1</li><li>5</li><li>4.5</li><li>4.4</li><li>5</li><li>5.1</li><li>4.8</li><li>5.1</li><li>4.6</li><li>5.3</li><li>5</li><li>7</li><li>6.4</li><li>6.9</li><li>5.5</li><li>6.5</li><li>5.7</li><li>6.3</li><li>4.9</li><li>6.6</li><li>5.2</li><li>5</li><li>5.9</li><li>6</li><li>6.1</li><li>5.6</li><li>6.7</li><li>5.6</li><li>5.8</li><li>6.2</li><li>5.6</li><li>5.9</li><li>6.1</li><li>6.3</li><li>6.1</li><li>6.4</li><li>6.6</li><li>6.8</li><li>6.7</li><li>6</li><li>5.7</li><li>5.5</li><li>5.5</li><li>5.8</li><li>6</li><li>5.4</li><li>6</li><li>6.7</li><li>6.3</li><li>5.6</li><li>5.5</li><li>5.5</li><li>6.1</li><li>5.8</li><li>5</li><li>5.6</li><li>5.7</li><li>5.7</li><li>6.2</li><li>5.1</li><li>5.7</li><li>6.3</li><li>5.8</li><li>7.1</li><li>6.3</li><li>6.5</li><li>7.6</li><li>4.9</li><li>7.3</li><li>6.7</li><li>7.2</li><li>6.5</li><li>6.4</li><li>6.8</li><li>5.7</li><li>5.8</li><li>6.4</li><li>6.5</li><li>7.7</li><li>7.7</li><li>6</li><li>6.9</li><li>5.6</li><li>7.7</li><li>6.3</li><li>6.7</li><li>7.2</li><li>6.2</li><li>6.1</li><li>6.4</li><li>7.2</li><li>7.4</li><li>7.9</li><li>6.4</li><li>6.3</li><li>6.1</li><li>7.7</li><li>6.3</li><li>6.4</li><li>6</li><li>6.9</li><li>6.7</li><li>6.9</li><li>5.8</li><li>6.8</li><li>6.7</li><li>6.7</li><li>6.3</li><li>6.5</li><li>6.2</li><li>5.9</li></ol>\n"
      ],
      "text/latex": [
       "\\begin{enumerate*}\n",
       "\\item 5.1\n",
       "\\item 4.9\n",
       "\\item 4.7\n",
       "\\item 4.6\n",
       "\\item 5\n",
       "\\item 5.4\n",
       "\\item 4.6\n",
       "\\item 5\n",
       "\\item 4.4\n",
       "\\item 4.9\n",
       "\\item 5.4\n",
       "\\item 4.8\n",
       "\\item 4.8\n",
       "\\item 4.3\n",
       "\\item 5.8\n",
       "\\item 5.7\n",
       "\\item 5.4\n",
       "\\item 5.1\n",
       "\\item 5.7\n",
       "\\item 5.1\n",
       "\\item 5.4\n",
       "\\item 5.1\n",
       "\\item 4.6\n",
       "\\item 5.1\n",
       "\\item 4.8\n",
       "\\item 5\n",
       "\\item 5\n",
       "\\item 5.2\n",
       "\\item 5.2\n",
       "\\item 4.7\n",
       "\\item 4.8\n",
       "\\item 5.4\n",
       "\\item 5.2\n",
       "\\item 5.5\n",
       "\\item 4.9\n",
       "\\item 5\n",
       "\\item 5.5\n",
       "\\item 4.9\n",
       "\\item 4.4\n",
       "\\item 5.1\n",
       "\\item 5\n",
       "\\item 4.5\n",
       "\\item 4.4\n",
       "\\item 5\n",
       "\\item 5.1\n",
       "\\item 4.8\n",
       "\\item 5.1\n",
       "\\item 4.6\n",
       "\\item 5.3\n",
       "\\item 5\n",
       "\\item 7\n",
       "\\item 6.4\n",
       "\\item 6.9\n",
       "\\item 5.5\n",
       "\\item 6.5\n",
       "\\item 5.7\n",
       "\\item 6.3\n",
       "\\item 4.9\n",
       "\\item 6.6\n",
       "\\item 5.2\n",
       "\\item 5\n",
       "\\item 5.9\n",
       "\\item 6\n",
       "\\item 6.1\n",
       "\\item 5.6\n",
       "\\item 6.7\n",
       "\\item 5.6\n",
       "\\item 5.8\n",
       "\\item 6.2\n",
       "\\item 5.6\n",
       "\\item 5.9\n",
       "\\item 6.1\n",
       "\\item 6.3\n",
       "\\item 6.1\n",
       "\\item 6.4\n",
       "\\item 6.6\n",
       "\\item 6.8\n",
       "\\item 6.7\n",
       "\\item 6\n",
       "\\item 5.7\n",
       "\\item 5.5\n",
       "\\item 5.5\n",
       "\\item 5.8\n",
       "\\item 6\n",
       "\\item 5.4\n",
       "\\item 6\n",
       "\\item 6.7\n",
       "\\item 6.3\n",
       "\\item 5.6\n",
       "\\item 5.5\n",
       "\\item 5.5\n",
       "\\item 6.1\n",
       "\\item 5.8\n",
       "\\item 5\n",
       "\\item 5.6\n",
       "\\item 5.7\n",
       "\\item 5.7\n",
       "\\item 6.2\n",
       "\\item 5.1\n",
       "\\item 5.7\n",
       "\\item 6.3\n",
       "\\item 5.8\n",
       "\\item 7.1\n",
       "\\item 6.3\n",
       "\\item 6.5\n",
       "\\item 7.6\n",
       "\\item 4.9\n",
       "\\item 7.3\n",
       "\\item 6.7\n",
       "\\item 7.2\n",
       "\\item 6.5\n",
       "\\item 6.4\n",
       "\\item 6.8\n",
       "\\item 5.7\n",
       "\\item 5.8\n",
       "\\item 6.4\n",
       "\\item 6.5\n",
       "\\item 7.7\n",
       "\\item 7.7\n",
       "\\item 6\n",
       "\\item 6.9\n",
       "\\item 5.6\n",
       "\\item 7.7\n",
       "\\item 6.3\n",
       "\\item 6.7\n",
       "\\item 7.2\n",
       "\\item 6.2\n",
       "\\item 6.1\n",
       "\\item 6.4\n",
       "\\item 7.2\n",
       "\\item 7.4\n",
       "\\item 7.9\n",
       "\\item 6.4\n",
       "\\item 6.3\n",
       "\\item 6.1\n",
       "\\item 7.7\n",
       "\\item 6.3\n",
       "\\item 6.4\n",
       "\\item 6\n",
       "\\item 6.9\n",
       "\\item 6.7\n",
       "\\item 6.9\n",
       "\\item 5.8\n",
       "\\item 6.8\n",
       "\\item 6.7\n",
       "\\item 6.7\n",
       "\\item 6.3\n",
       "\\item 6.5\n",
       "\\item 6.2\n",
       "\\item 5.9\n",
       "\\end{enumerate*}\n"
      ],
      "text/markdown": [
       "1. 5.1\n",
       "2. 4.9\n",
       "3. 4.7\n",
       "4. 4.6\n",
       "5. 5\n",
       "6. 5.4\n",
       "7. 4.6\n",
       "8. 5\n",
       "9. 4.4\n",
       "10. 4.9\n",
       "11. 5.4\n",
       "12. 4.8\n",
       "13. 4.8\n",
       "14. 4.3\n",
       "15. 5.8\n",
       "16. 5.7\n",
       "17. 5.4\n",
       "18. 5.1\n",
       "19. 5.7\n",
       "20. 5.1\n",
       "21. 5.4\n",
       "22. 5.1\n",
       "23. 4.6\n",
       "24. 5.1\n",
       "25. 4.8\n",
       "26. 5\n",
       "27. 5\n",
       "28. 5.2\n",
       "29. 5.2\n",
       "30. 4.7\n",
       "31. 4.8\n",
       "32. 5.4\n",
       "33. 5.2\n",
       "34. 5.5\n",
       "35. 4.9\n",
       "36. 5\n",
       "37. 5.5\n",
       "38. 4.9\n",
       "39. 4.4\n",
       "40. 5.1\n",
       "41. 5\n",
       "42. 4.5\n",
       "43. 4.4\n",
       "44. 5\n",
       "45. 5.1\n",
       "46. 4.8\n",
       "47. 5.1\n",
       "48. 4.6\n",
       "49. 5.3\n",
       "50. 5\n",
       "51. 7\n",
       "52. 6.4\n",
       "53. 6.9\n",
       "54. 5.5\n",
       "55. 6.5\n",
       "56. 5.7\n",
       "57. 6.3\n",
       "58. 4.9\n",
       "59. 6.6\n",
       "60. 5.2\n",
       "61. 5\n",
       "62. 5.9\n",
       "63. 6\n",
       "64. 6.1\n",
       "65. 5.6\n",
       "66. 6.7\n",
       "67. 5.6\n",
       "68. 5.8\n",
       "69. 6.2\n",
       "70. 5.6\n",
       "71. 5.9\n",
       "72. 6.1\n",
       "73. 6.3\n",
       "74. 6.1\n",
       "75. 6.4\n",
       "76. 6.6\n",
       "77. 6.8\n",
       "78. 6.7\n",
       "79. 6\n",
       "80. 5.7\n",
       "81. 5.5\n",
       "82. 5.5\n",
       "83. 5.8\n",
       "84. 6\n",
       "85. 5.4\n",
       "86. 6\n",
       "87. 6.7\n",
       "88. 6.3\n",
       "89. 5.6\n",
       "90. 5.5\n",
       "91. 5.5\n",
       "92. 6.1\n",
       "93. 5.8\n",
       "94. 5\n",
       "95. 5.6\n",
       "96. 5.7\n",
       "97. 5.7\n",
       "98. 6.2\n",
       "99. 5.1\n",
       "100. 5.7\n",
       "101. 6.3\n",
       "102. 5.8\n",
       "103. 7.1\n",
       "104. 6.3\n",
       "105. 6.5\n",
       "106. 7.6\n",
       "107. 4.9\n",
       "108. 7.3\n",
       "109. 6.7\n",
       "110. 7.2\n",
       "111. 6.5\n",
       "112. 6.4\n",
       "113. 6.8\n",
       "114. 5.7\n",
       "115. 5.8\n",
       "116. 6.4\n",
       "117. 6.5\n",
       "118. 7.7\n",
       "119. 7.7\n",
       "120. 6\n",
       "121. 6.9\n",
       "122. 5.6\n",
       "123. 7.7\n",
       "124. 6.3\n",
       "125. 6.7\n",
       "126. 7.2\n",
       "127. 6.2\n",
       "128. 6.1\n",
       "129. 6.4\n",
       "130. 7.2\n",
       "131. 7.4\n",
       "132. 7.9\n",
       "133. 6.4\n",
       "134. 6.3\n",
       "135. 6.1\n",
       "136. 7.7\n",
       "137. 6.3\n",
       "138. 6.4\n",
       "139. 6\n",
       "140. 6.9\n",
       "141. 6.7\n",
       "142. 6.9\n",
       "143. 5.8\n",
       "144. 6.8\n",
       "145. 6.7\n",
       "146. 6.7\n",
       "147. 6.3\n",
       "148. 6.5\n",
       "149. 6.2\n",
       "150. 5.9\n",
       "\n",
       "\n"
      ],
      "text/plain": [
       "  [1] 5.1 4.9 4.7 4.6 5.0 5.4 4.6 5.0 4.4 4.9 5.4 4.8 4.8 4.3 5.8 5.7 5.4 5.1\n",
       " [19] 5.7 5.1 5.4 5.1 4.6 5.1 4.8 5.0 5.0 5.2 5.2 4.7 4.8 5.4 5.2 5.5 4.9 5.0\n",
       " [37] 5.5 4.9 4.4 5.1 5.0 4.5 4.4 5.0 5.1 4.8 5.1 4.6 5.3 5.0 7.0 6.4 6.9 5.5\n",
       " [55] 6.5 5.7 6.3 4.9 6.6 5.2 5.0 5.9 6.0 6.1 5.6 6.7 5.6 5.8 6.2 5.6 5.9 6.1\n",
       " [73] 6.3 6.1 6.4 6.6 6.8 6.7 6.0 5.7 5.5 5.5 5.8 6.0 5.4 6.0 6.7 6.3 5.6 5.5\n",
       " [91] 5.5 6.1 5.8 5.0 5.6 5.7 5.7 6.2 5.1 5.7 6.3 5.8 7.1 6.3 6.5 7.6 4.9 7.3\n",
       "[109] 6.7 7.2 6.5 6.4 6.8 5.7 5.8 6.4 6.5 7.7 7.7 6.0 6.9 5.6 7.7 6.3 6.7 7.2\n",
       "[127] 6.2 6.1 6.4 7.2 7.4 7.9 6.4 6.3 6.1 7.7 6.3 6.4 6.0 6.9 6.7 6.9 5.8 6.8\n",
       "[145] 6.7 6.7 6.3 6.5 6.2 5.9"
      ]
     },
     "metadata": {},
     "output_type": "display_data"
    }
   ],
   "source": [
    "iris$Sepal.Length"
   ]
  },
  {
   "cell_type": "code",
   "execution_count": 3,
   "metadata": {
    "collapsed": true,
    "jupyter": {
     "outputs_hidden": true
    }
   },
   "outputs": [
    {
     "data": {
      "text/html": [
       "<style>\n",
       ".list-inline {list-style: none; margin:0; padding: 0}\n",
       ".list-inline>li {display: inline-block}\n",
       ".list-inline>li:not(:last-child)::after {content: \"\\00b7\"; padding: 0 .5ex}\n",
       "</style>\n",
       "<ol class=list-inline><li>5.1</li><li>4.9</li><li>4.7</li><li>4.6</li><li>5</li><li>5.4</li><li>4.6</li><li>5</li><li>4.4</li><li>4.9</li><li>5.4</li><li>4.8</li><li>4.8</li><li>4.3</li><li>5.8</li><li>5.7</li><li>5.4</li><li>5.1</li><li>5.7</li><li>5.1</li><li>5.4</li><li>5.1</li><li>4.6</li><li>5.1</li><li>4.8</li><li>5</li><li>5</li><li>5.2</li><li>5.2</li><li>4.7</li><li>4.8</li><li>5.4</li><li>5.2</li><li>5.5</li><li>4.9</li><li>5</li><li>5.5</li><li>4.9</li><li>4.4</li><li>5.1</li><li>5</li><li>4.5</li><li>4.4</li><li>5</li><li>5.1</li><li>4.8</li><li>5.1</li><li>4.6</li><li>5.3</li><li>5</li><li>7</li><li>6.4</li><li>6.9</li><li>5.5</li><li>6.5</li><li>5.7</li><li>6.3</li><li>4.9</li><li>6.6</li><li>5.2</li><li>5</li><li>5.9</li><li>6</li><li>6.1</li><li>5.6</li><li>6.7</li><li>5.6</li><li>5.8</li><li>6.2</li><li>5.6</li><li>5.9</li><li>6.1</li><li>6.3</li><li>6.1</li><li>6.4</li><li>6.6</li><li>6.8</li><li>6.7</li><li>6</li><li>5.7</li><li>5.5</li><li>5.5</li><li>5.8</li><li>6</li><li>5.4</li><li>6</li><li>6.7</li><li>6.3</li><li>5.6</li><li>5.5</li><li>5.5</li><li>6.1</li><li>5.8</li><li>5</li><li>5.6</li><li>5.7</li><li>5.7</li><li>6.2</li><li>5.1</li><li>5.7</li><li>6.3</li><li>5.8</li><li>7.1</li><li>6.3</li><li>6.5</li><li>7.6</li><li>4.9</li><li>7.3</li><li>6.7</li><li>7.2</li><li>6.5</li><li>6.4</li><li>6.8</li><li>5.7</li><li>5.8</li><li>6.4</li><li>6.5</li><li>7.7</li><li>7.7</li><li>6</li><li>6.9</li><li>5.6</li><li>7.7</li><li>6.3</li><li>6.7</li><li>7.2</li><li>6.2</li><li>6.1</li><li>6.4</li><li>7.2</li><li>7.4</li><li>7.9</li><li>6.4</li><li>6.3</li><li>6.1</li><li>7.7</li><li>6.3</li><li>6.4</li><li>6</li><li>6.9</li><li>6.7</li><li>6.9</li><li>5.8</li><li>6.8</li><li>6.7</li><li>6.7</li><li>6.3</li><li>6.5</li><li>6.2</li><li>5.9</li></ol>\n"
      ],
      "text/latex": [
       "\\begin{enumerate*}\n",
       "\\item 5.1\n",
       "\\item 4.9\n",
       "\\item 4.7\n",
       "\\item 4.6\n",
       "\\item 5\n",
       "\\item 5.4\n",
       "\\item 4.6\n",
       "\\item 5\n",
       "\\item 4.4\n",
       "\\item 4.9\n",
       "\\item 5.4\n",
       "\\item 4.8\n",
       "\\item 4.8\n",
       "\\item 4.3\n",
       "\\item 5.8\n",
       "\\item 5.7\n",
       "\\item 5.4\n",
       "\\item 5.1\n",
       "\\item 5.7\n",
       "\\item 5.1\n",
       "\\item 5.4\n",
       "\\item 5.1\n",
       "\\item 4.6\n",
       "\\item 5.1\n",
       "\\item 4.8\n",
       "\\item 5\n",
       "\\item 5\n",
       "\\item 5.2\n",
       "\\item 5.2\n",
       "\\item 4.7\n",
       "\\item 4.8\n",
       "\\item 5.4\n",
       "\\item 5.2\n",
       "\\item 5.5\n",
       "\\item 4.9\n",
       "\\item 5\n",
       "\\item 5.5\n",
       "\\item 4.9\n",
       "\\item 4.4\n",
       "\\item 5.1\n",
       "\\item 5\n",
       "\\item 4.5\n",
       "\\item 4.4\n",
       "\\item 5\n",
       "\\item 5.1\n",
       "\\item 4.8\n",
       "\\item 5.1\n",
       "\\item 4.6\n",
       "\\item 5.3\n",
       "\\item 5\n",
       "\\item 7\n",
       "\\item 6.4\n",
       "\\item 6.9\n",
       "\\item 5.5\n",
       "\\item 6.5\n",
       "\\item 5.7\n",
       "\\item 6.3\n",
       "\\item 4.9\n",
       "\\item 6.6\n",
       "\\item 5.2\n",
       "\\item 5\n",
       "\\item 5.9\n",
       "\\item 6\n",
       "\\item 6.1\n",
       "\\item 5.6\n",
       "\\item 6.7\n",
       "\\item 5.6\n",
       "\\item 5.8\n",
       "\\item 6.2\n",
       "\\item 5.6\n",
       "\\item 5.9\n",
       "\\item 6.1\n",
       "\\item 6.3\n",
       "\\item 6.1\n",
       "\\item 6.4\n",
       "\\item 6.6\n",
       "\\item 6.8\n",
       "\\item 6.7\n",
       "\\item 6\n",
       "\\item 5.7\n",
       "\\item 5.5\n",
       "\\item 5.5\n",
       "\\item 5.8\n",
       "\\item 6\n",
       "\\item 5.4\n",
       "\\item 6\n",
       "\\item 6.7\n",
       "\\item 6.3\n",
       "\\item 5.6\n",
       "\\item 5.5\n",
       "\\item 5.5\n",
       "\\item 6.1\n",
       "\\item 5.8\n",
       "\\item 5\n",
       "\\item 5.6\n",
       "\\item 5.7\n",
       "\\item 5.7\n",
       "\\item 6.2\n",
       "\\item 5.1\n",
       "\\item 5.7\n",
       "\\item 6.3\n",
       "\\item 5.8\n",
       "\\item 7.1\n",
       "\\item 6.3\n",
       "\\item 6.5\n",
       "\\item 7.6\n",
       "\\item 4.9\n",
       "\\item 7.3\n",
       "\\item 6.7\n",
       "\\item 7.2\n",
       "\\item 6.5\n",
       "\\item 6.4\n",
       "\\item 6.8\n",
       "\\item 5.7\n",
       "\\item 5.8\n",
       "\\item 6.4\n",
       "\\item 6.5\n",
       "\\item 7.7\n",
       "\\item 7.7\n",
       "\\item 6\n",
       "\\item 6.9\n",
       "\\item 5.6\n",
       "\\item 7.7\n",
       "\\item 6.3\n",
       "\\item 6.7\n",
       "\\item 7.2\n",
       "\\item 6.2\n",
       "\\item 6.1\n",
       "\\item 6.4\n",
       "\\item 7.2\n",
       "\\item 7.4\n",
       "\\item 7.9\n",
       "\\item 6.4\n",
       "\\item 6.3\n",
       "\\item 6.1\n",
       "\\item 7.7\n",
       "\\item 6.3\n",
       "\\item 6.4\n",
       "\\item 6\n",
       "\\item 6.9\n",
       "\\item 6.7\n",
       "\\item 6.9\n",
       "\\item 5.8\n",
       "\\item 6.8\n",
       "\\item 6.7\n",
       "\\item 6.7\n",
       "\\item 6.3\n",
       "\\item 6.5\n",
       "\\item 6.2\n",
       "\\item 5.9\n",
       "\\end{enumerate*}\n"
      ],
      "text/markdown": [
       "1. 5.1\n",
       "2. 4.9\n",
       "3. 4.7\n",
       "4. 4.6\n",
       "5. 5\n",
       "6. 5.4\n",
       "7. 4.6\n",
       "8. 5\n",
       "9. 4.4\n",
       "10. 4.9\n",
       "11. 5.4\n",
       "12. 4.8\n",
       "13. 4.8\n",
       "14. 4.3\n",
       "15. 5.8\n",
       "16. 5.7\n",
       "17. 5.4\n",
       "18. 5.1\n",
       "19. 5.7\n",
       "20. 5.1\n",
       "21. 5.4\n",
       "22. 5.1\n",
       "23. 4.6\n",
       "24. 5.1\n",
       "25. 4.8\n",
       "26. 5\n",
       "27. 5\n",
       "28. 5.2\n",
       "29. 5.2\n",
       "30. 4.7\n",
       "31. 4.8\n",
       "32. 5.4\n",
       "33. 5.2\n",
       "34. 5.5\n",
       "35. 4.9\n",
       "36. 5\n",
       "37. 5.5\n",
       "38. 4.9\n",
       "39. 4.4\n",
       "40. 5.1\n",
       "41. 5\n",
       "42. 4.5\n",
       "43. 4.4\n",
       "44. 5\n",
       "45. 5.1\n",
       "46. 4.8\n",
       "47. 5.1\n",
       "48. 4.6\n",
       "49. 5.3\n",
       "50. 5\n",
       "51. 7\n",
       "52. 6.4\n",
       "53. 6.9\n",
       "54. 5.5\n",
       "55. 6.5\n",
       "56. 5.7\n",
       "57. 6.3\n",
       "58. 4.9\n",
       "59. 6.6\n",
       "60. 5.2\n",
       "61. 5\n",
       "62. 5.9\n",
       "63. 6\n",
       "64. 6.1\n",
       "65. 5.6\n",
       "66. 6.7\n",
       "67. 5.6\n",
       "68. 5.8\n",
       "69. 6.2\n",
       "70. 5.6\n",
       "71. 5.9\n",
       "72. 6.1\n",
       "73. 6.3\n",
       "74. 6.1\n",
       "75. 6.4\n",
       "76. 6.6\n",
       "77. 6.8\n",
       "78. 6.7\n",
       "79. 6\n",
       "80. 5.7\n",
       "81. 5.5\n",
       "82. 5.5\n",
       "83. 5.8\n",
       "84. 6\n",
       "85. 5.4\n",
       "86. 6\n",
       "87. 6.7\n",
       "88. 6.3\n",
       "89. 5.6\n",
       "90. 5.5\n",
       "91. 5.5\n",
       "92. 6.1\n",
       "93. 5.8\n",
       "94. 5\n",
       "95. 5.6\n",
       "96. 5.7\n",
       "97. 5.7\n",
       "98. 6.2\n",
       "99. 5.1\n",
       "100. 5.7\n",
       "101. 6.3\n",
       "102. 5.8\n",
       "103. 7.1\n",
       "104. 6.3\n",
       "105. 6.5\n",
       "106. 7.6\n",
       "107. 4.9\n",
       "108. 7.3\n",
       "109. 6.7\n",
       "110. 7.2\n",
       "111. 6.5\n",
       "112. 6.4\n",
       "113. 6.8\n",
       "114. 5.7\n",
       "115. 5.8\n",
       "116. 6.4\n",
       "117. 6.5\n",
       "118. 7.7\n",
       "119. 7.7\n",
       "120. 6\n",
       "121. 6.9\n",
       "122. 5.6\n",
       "123. 7.7\n",
       "124. 6.3\n",
       "125. 6.7\n",
       "126. 7.2\n",
       "127. 6.2\n",
       "128. 6.1\n",
       "129. 6.4\n",
       "130. 7.2\n",
       "131. 7.4\n",
       "132. 7.9\n",
       "133. 6.4\n",
       "134. 6.3\n",
       "135. 6.1\n",
       "136. 7.7\n",
       "137. 6.3\n",
       "138. 6.4\n",
       "139. 6\n",
       "140. 6.9\n",
       "141. 6.7\n",
       "142. 6.9\n",
       "143. 5.8\n",
       "144. 6.8\n",
       "145. 6.7\n",
       "146. 6.7\n",
       "147. 6.3\n",
       "148. 6.5\n",
       "149. 6.2\n",
       "150. 5.9\n",
       "\n",
       "\n"
      ],
      "text/plain": [
       "  [1] 5.1 4.9 4.7 4.6 5.0 5.4 4.6 5.0 4.4 4.9 5.4 4.8 4.8 4.3 5.8 5.7 5.4 5.1\n",
       " [19] 5.7 5.1 5.4 5.1 4.6 5.1 4.8 5.0 5.0 5.2 5.2 4.7 4.8 5.4 5.2 5.5 4.9 5.0\n",
       " [37] 5.5 4.9 4.4 5.1 5.0 4.5 4.4 5.0 5.1 4.8 5.1 4.6 5.3 5.0 7.0 6.4 6.9 5.5\n",
       " [55] 6.5 5.7 6.3 4.9 6.6 5.2 5.0 5.9 6.0 6.1 5.6 6.7 5.6 5.8 6.2 5.6 5.9 6.1\n",
       " [73] 6.3 6.1 6.4 6.6 6.8 6.7 6.0 5.7 5.5 5.5 5.8 6.0 5.4 6.0 6.7 6.3 5.6 5.5\n",
       " [91] 5.5 6.1 5.8 5.0 5.6 5.7 5.7 6.2 5.1 5.7 6.3 5.8 7.1 6.3 6.5 7.6 4.9 7.3\n",
       "[109] 6.7 7.2 6.5 6.4 6.8 5.7 5.8 6.4 6.5 7.7 7.7 6.0 6.9 5.6 7.7 6.3 6.7 7.2\n",
       "[127] 6.2 6.1 6.4 7.2 7.4 7.9 6.4 6.3 6.1 7.7 6.3 6.4 6.0 6.9 6.7 6.9 5.8 6.8\n",
       "[145] 6.7 6.7 6.3 6.5 6.2 5.9"
      ]
     },
     "metadata": {},
     "output_type": "display_data"
    }
   ],
   "source": [
    "iris[, 1]"
   ]
  },
  {
   "cell_type": "code",
   "execution_count": 4,
   "metadata": {},
   "outputs": [
    {
     "data": {
      "text/html": [
       "TRUE"
      ],
      "text/latex": [
       "TRUE"
      ],
      "text/markdown": [
       "TRUE"
      ],
      "text/plain": [
       "[1] TRUE"
      ]
     },
     "metadata": {},
     "output_type": "display_data"
    }
   ],
   "source": [
    "identical(iris$Sepal.Length, iris[, 1])"
   ]
  },
  {
   "cell_type": "code",
   "execution_count": 5,
   "metadata": {},
   "outputs": [
    {
     "data": {
      "text/html": [
       "3.2"
      ],
      "text/latex": [
       "3.2"
      ],
      "text/markdown": [
       "3.2"
      ],
      "text/plain": [
       "[1] 3.2"
      ]
     },
     "metadata": {},
     "output_type": "display_data"
    }
   ],
   "source": [
    "iris[3, 2]"
   ]
  },
  {
   "cell_type": "code",
   "execution_count": 6,
   "metadata": {},
   "outputs": [
    {
     "data": {
      "text/html": [
       "<table>\n",
       "<caption>A data.frame: 1 × 5</caption>\n",
       "<thead>\n",
       "\t<tr><th></th><th scope=col>Sepal.Length</th><th scope=col>Sepal.Width</th><th scope=col>Petal.Length</th><th scope=col>Petal.Width</th><th scope=col>Species</th></tr>\n",
       "\t<tr><th></th><th scope=col>&lt;dbl&gt;</th><th scope=col>&lt;dbl&gt;</th><th scope=col>&lt;dbl&gt;</th><th scope=col>&lt;dbl&gt;</th><th scope=col>&lt;fct&gt;</th></tr>\n",
       "</thead>\n",
       "<tbody>\n",
       "\t<tr><th scope=row>2</th><td>4.9</td><td>3</td><td>1.4</td><td>0.2</td><td>setosa</td></tr>\n",
       "</tbody>\n",
       "</table>\n"
      ],
      "text/latex": [
       "A data.frame: 1 × 5\n",
       "\\begin{tabular}{r|lllll}\n",
       "  & Sepal.Length & Sepal.Width & Petal.Length & Petal.Width & Species\\\\\n",
       "  & <dbl> & <dbl> & <dbl> & <dbl> & <fct>\\\\\n",
       "\\hline\n",
       "\t2 & 4.9 & 3 & 1.4 & 0.2 & setosa\\\\\n",
       "\\end{tabular}\n"
      ],
      "text/markdown": [
       "\n",
       "A data.frame: 1 × 5\n",
       "\n",
       "| <!--/--> | Sepal.Length &lt;dbl&gt; | Sepal.Width &lt;dbl&gt; | Petal.Length &lt;dbl&gt; | Petal.Width &lt;dbl&gt; | Species &lt;fct&gt; |\n",
       "|---|---|---|---|---|---|\n",
       "| 2 | 4.9 | 3 | 1.4 | 0.2 | setosa |\n",
       "\n"
      ],
      "text/plain": [
       "  Sepal.Length Sepal.Width Petal.Length Petal.Width Species\n",
       "2 4.9          3           1.4          0.2         setosa "
      ]
     },
     "metadata": {},
     "output_type": "display_data"
    }
   ],
   "source": [
    "iris[2, ]"
   ]
  },
  {
   "cell_type": "code",
   "execution_count": 8,
   "metadata": {},
   "outputs": [
    {
     "data": {
      "text/html": [
       "<table>\n",
       "<caption>A data.frame: 3 × 4</caption>\n",
       "<thead>\n",
       "\t<tr><th></th><th scope=col>Sepal.Length</th><th scope=col>Sepal.Width</th><th scope=col>Petal.Length</th><th scope=col>Petal.Width</th></tr>\n",
       "\t<tr><th></th><th scope=col>&lt;dbl&gt;</th><th scope=col>&lt;dbl&gt;</th><th scope=col>&lt;dbl&gt;</th><th scope=col>&lt;dbl&gt;</th></tr>\n",
       "</thead>\n",
       "<tbody>\n",
       "\t<tr><th scope=row>1</th><td>5.1</td><td>3.5</td><td>1.4</td><td>0.2</td></tr>\n",
       "\t<tr><th scope=row>2</th><td>4.9</td><td>3.0</td><td>1.4</td><td>0.2</td></tr>\n",
       "\t<tr><th scope=row>3</th><td>4.7</td><td>3.2</td><td>1.3</td><td>0.2</td></tr>\n",
       "</tbody>\n",
       "</table>\n"
      ],
      "text/latex": [
       "A data.frame: 3 × 4\n",
       "\\begin{tabular}{r|llll}\n",
       "  & Sepal.Length & Sepal.Width & Petal.Length & Petal.Width\\\\\n",
       "  & <dbl> & <dbl> & <dbl> & <dbl>\\\\\n",
       "\\hline\n",
       "\t1 & 5.1 & 3.5 & 1.4 & 0.2\\\\\n",
       "\t2 & 4.9 & 3.0 & 1.4 & 0.2\\\\\n",
       "\t3 & 4.7 & 3.2 & 1.3 & 0.2\\\\\n",
       "\\end{tabular}\n"
      ],
      "text/markdown": [
       "\n",
       "A data.frame: 3 × 4\n",
       "\n",
       "| <!--/--> | Sepal.Length &lt;dbl&gt; | Sepal.Width &lt;dbl&gt; | Petal.Length &lt;dbl&gt; | Petal.Width &lt;dbl&gt; |\n",
       "|---|---|---|---|---|\n",
       "| 1 | 5.1 | 3.5 | 1.4 | 0.2 |\n",
       "| 2 | 4.9 | 3.0 | 1.4 | 0.2 |\n",
       "| 3 | 4.7 | 3.2 | 1.3 | 0.2 |\n",
       "\n"
      ],
      "text/plain": [
       "  Sepal.Length Sepal.Width Petal.Length Petal.Width\n",
       "1 5.1          3.5         1.4          0.2        \n",
       "2 4.9          3.0         1.4          0.2        \n",
       "3 4.7          3.2         1.3          0.2        "
      ]
     },
     "metadata": {},
     "output_type": "display_data"
    }
   ],
   "source": [
    "iris[1:3, 1:4]"
   ]
  },
  {
   "cell_type": "code",
   "execution_count": 10,
   "metadata": {
    "collapsed": true,
    "jupyter": {
     "outputs_hidden": true
    }
   },
   "outputs": [
    {
     "data": {
      "text/html": [
       "<style>\n",
       ".list-inline {list-style: none; margin:0; padding: 0}\n",
       ".list-inline>li {display: inline-block}\n",
       ".list-inline>li:not(:last-child)::after {content: \"\\00b7\"; padding: 0 .5ex}\n",
       "</style>\n",
       "<ol class=list-inline><li>5.1</li><li>4.9</li><li>4.7</li><li>4.6</li><li>5</li><li>5.4</li><li>4.6</li><li>5</li><li>4.4</li><li>4.9</li><li>5.4</li><li>4.8</li><li>4.8</li><li>4.3</li><li>5.8</li><li>5.7</li><li>5.4</li><li>5.1</li><li>5.7</li><li>5.1</li><li>5.4</li><li>5.1</li><li>4.6</li><li>5.1</li><li>4.8</li><li>5</li><li>5</li><li>5.2</li><li>5.2</li><li>4.7</li><li>4.8</li><li>5.4</li><li>5.2</li><li>5.5</li><li>4.9</li><li>5</li><li>5.5</li><li>4.9</li><li>4.4</li><li>5.1</li><li>5</li><li>4.5</li><li>4.4</li><li>5</li><li>5.1</li><li>4.8</li><li>5.1</li><li>4.6</li><li>5.3</li><li>5</li><li>7</li><li>6.4</li><li>6.9</li><li>5.5</li><li>6.5</li><li>5.7</li><li>6.3</li><li>4.9</li><li>6.6</li><li>5.2</li><li>5</li><li>5.9</li><li>6</li><li>6.1</li><li>5.6</li><li>6.7</li><li>5.6</li><li>5.8</li><li>6.2</li><li>5.6</li><li>5.9</li><li>6.1</li><li>6.3</li><li>6.1</li><li>6.4</li><li>6.6</li><li>6.8</li><li>6.7</li><li>6</li><li>5.7</li><li>5.5</li><li>5.5</li><li>5.8</li><li>6</li><li>5.4</li><li>6</li><li>6.7</li><li>6.3</li><li>5.6</li><li>5.5</li><li>5.5</li><li>6.1</li><li>5.8</li><li>5</li><li>5.6</li><li>5.7</li><li>5.7</li><li>6.2</li><li>5.1</li><li>5.7</li><li>6.3</li><li>5.8</li><li>7.1</li><li>6.3</li><li>6.5</li><li>7.6</li><li>4.9</li><li>7.3</li><li>6.7</li><li>7.2</li><li>6.5</li><li>6.4</li><li>6.8</li><li>5.7</li><li>5.8</li><li>6.4</li><li>6.5</li><li>7.7</li><li>7.7</li><li>6</li><li>6.9</li><li>5.6</li><li>7.7</li><li>6.3</li><li>6.7</li><li>7.2</li><li>6.2</li><li>6.1</li><li>6.4</li><li>7.2</li><li>7.4</li><li>7.9</li><li>6.4</li><li>6.3</li><li>6.1</li><li>7.7</li><li>6.3</li><li>6.4</li><li>6</li><li>6.9</li><li>6.7</li><li>6.9</li><li>5.8</li><li>6.8</li><li>6.7</li><li>6.7</li><li>6.3</li><li>6.5</li><li>6.2</li><li>5.9</li></ol>\n"
      ],
      "text/latex": [
       "\\begin{enumerate*}\n",
       "\\item 5.1\n",
       "\\item 4.9\n",
       "\\item 4.7\n",
       "\\item 4.6\n",
       "\\item 5\n",
       "\\item 5.4\n",
       "\\item 4.6\n",
       "\\item 5\n",
       "\\item 4.4\n",
       "\\item 4.9\n",
       "\\item 5.4\n",
       "\\item 4.8\n",
       "\\item 4.8\n",
       "\\item 4.3\n",
       "\\item 5.8\n",
       "\\item 5.7\n",
       "\\item 5.4\n",
       "\\item 5.1\n",
       "\\item 5.7\n",
       "\\item 5.1\n",
       "\\item 5.4\n",
       "\\item 5.1\n",
       "\\item 4.6\n",
       "\\item 5.1\n",
       "\\item 4.8\n",
       "\\item 5\n",
       "\\item 5\n",
       "\\item 5.2\n",
       "\\item 5.2\n",
       "\\item 4.7\n",
       "\\item 4.8\n",
       "\\item 5.4\n",
       "\\item 5.2\n",
       "\\item 5.5\n",
       "\\item 4.9\n",
       "\\item 5\n",
       "\\item 5.5\n",
       "\\item 4.9\n",
       "\\item 4.4\n",
       "\\item 5.1\n",
       "\\item 5\n",
       "\\item 4.5\n",
       "\\item 4.4\n",
       "\\item 5\n",
       "\\item 5.1\n",
       "\\item 4.8\n",
       "\\item 5.1\n",
       "\\item 4.6\n",
       "\\item 5.3\n",
       "\\item 5\n",
       "\\item 7\n",
       "\\item 6.4\n",
       "\\item 6.9\n",
       "\\item 5.5\n",
       "\\item 6.5\n",
       "\\item 5.7\n",
       "\\item 6.3\n",
       "\\item 4.9\n",
       "\\item 6.6\n",
       "\\item 5.2\n",
       "\\item 5\n",
       "\\item 5.9\n",
       "\\item 6\n",
       "\\item 6.1\n",
       "\\item 5.6\n",
       "\\item 6.7\n",
       "\\item 5.6\n",
       "\\item 5.8\n",
       "\\item 6.2\n",
       "\\item 5.6\n",
       "\\item 5.9\n",
       "\\item 6.1\n",
       "\\item 6.3\n",
       "\\item 6.1\n",
       "\\item 6.4\n",
       "\\item 6.6\n",
       "\\item 6.8\n",
       "\\item 6.7\n",
       "\\item 6\n",
       "\\item 5.7\n",
       "\\item 5.5\n",
       "\\item 5.5\n",
       "\\item 5.8\n",
       "\\item 6\n",
       "\\item 5.4\n",
       "\\item 6\n",
       "\\item 6.7\n",
       "\\item 6.3\n",
       "\\item 5.6\n",
       "\\item 5.5\n",
       "\\item 5.5\n",
       "\\item 6.1\n",
       "\\item 5.8\n",
       "\\item 5\n",
       "\\item 5.6\n",
       "\\item 5.7\n",
       "\\item 5.7\n",
       "\\item 6.2\n",
       "\\item 5.1\n",
       "\\item 5.7\n",
       "\\item 6.3\n",
       "\\item 5.8\n",
       "\\item 7.1\n",
       "\\item 6.3\n",
       "\\item 6.5\n",
       "\\item 7.6\n",
       "\\item 4.9\n",
       "\\item 7.3\n",
       "\\item 6.7\n",
       "\\item 7.2\n",
       "\\item 6.5\n",
       "\\item 6.4\n",
       "\\item 6.8\n",
       "\\item 5.7\n",
       "\\item 5.8\n",
       "\\item 6.4\n",
       "\\item 6.5\n",
       "\\item 7.7\n",
       "\\item 7.7\n",
       "\\item 6\n",
       "\\item 6.9\n",
       "\\item 5.6\n",
       "\\item 7.7\n",
       "\\item 6.3\n",
       "\\item 6.7\n",
       "\\item 7.2\n",
       "\\item 6.2\n",
       "\\item 6.1\n",
       "\\item 6.4\n",
       "\\item 7.2\n",
       "\\item 7.4\n",
       "\\item 7.9\n",
       "\\item 6.4\n",
       "\\item 6.3\n",
       "\\item 6.1\n",
       "\\item 7.7\n",
       "\\item 6.3\n",
       "\\item 6.4\n",
       "\\item 6\n",
       "\\item 6.9\n",
       "\\item 6.7\n",
       "\\item 6.9\n",
       "\\item 5.8\n",
       "\\item 6.8\n",
       "\\item 6.7\n",
       "\\item 6.7\n",
       "\\item 6.3\n",
       "\\item 6.5\n",
       "\\item 6.2\n",
       "\\item 5.9\n",
       "\\end{enumerate*}\n"
      ],
      "text/markdown": [
       "1. 5.1\n",
       "2. 4.9\n",
       "3. 4.7\n",
       "4. 4.6\n",
       "5. 5\n",
       "6. 5.4\n",
       "7. 4.6\n",
       "8. 5\n",
       "9. 4.4\n",
       "10. 4.9\n",
       "11. 5.4\n",
       "12. 4.8\n",
       "13. 4.8\n",
       "14. 4.3\n",
       "15. 5.8\n",
       "16. 5.7\n",
       "17. 5.4\n",
       "18. 5.1\n",
       "19. 5.7\n",
       "20. 5.1\n",
       "21. 5.4\n",
       "22. 5.1\n",
       "23. 4.6\n",
       "24. 5.1\n",
       "25. 4.8\n",
       "26. 5\n",
       "27. 5\n",
       "28. 5.2\n",
       "29. 5.2\n",
       "30. 4.7\n",
       "31. 4.8\n",
       "32. 5.4\n",
       "33. 5.2\n",
       "34. 5.5\n",
       "35. 4.9\n",
       "36. 5\n",
       "37. 5.5\n",
       "38. 4.9\n",
       "39. 4.4\n",
       "40. 5.1\n",
       "41. 5\n",
       "42. 4.5\n",
       "43. 4.4\n",
       "44. 5\n",
       "45. 5.1\n",
       "46. 4.8\n",
       "47. 5.1\n",
       "48. 4.6\n",
       "49. 5.3\n",
       "50. 5\n",
       "51. 7\n",
       "52. 6.4\n",
       "53. 6.9\n",
       "54. 5.5\n",
       "55. 6.5\n",
       "56. 5.7\n",
       "57. 6.3\n",
       "58. 4.9\n",
       "59. 6.6\n",
       "60. 5.2\n",
       "61. 5\n",
       "62. 5.9\n",
       "63. 6\n",
       "64. 6.1\n",
       "65. 5.6\n",
       "66. 6.7\n",
       "67. 5.6\n",
       "68. 5.8\n",
       "69. 6.2\n",
       "70. 5.6\n",
       "71. 5.9\n",
       "72. 6.1\n",
       "73. 6.3\n",
       "74. 6.1\n",
       "75. 6.4\n",
       "76. 6.6\n",
       "77. 6.8\n",
       "78. 6.7\n",
       "79. 6\n",
       "80. 5.7\n",
       "81. 5.5\n",
       "82. 5.5\n",
       "83. 5.8\n",
       "84. 6\n",
       "85. 5.4\n",
       "86. 6\n",
       "87. 6.7\n",
       "88. 6.3\n",
       "89. 5.6\n",
       "90. 5.5\n",
       "91. 5.5\n",
       "92. 6.1\n",
       "93. 5.8\n",
       "94. 5\n",
       "95. 5.6\n",
       "96. 5.7\n",
       "97. 5.7\n",
       "98. 6.2\n",
       "99. 5.1\n",
       "100. 5.7\n",
       "101. 6.3\n",
       "102. 5.8\n",
       "103. 7.1\n",
       "104. 6.3\n",
       "105. 6.5\n",
       "106. 7.6\n",
       "107. 4.9\n",
       "108. 7.3\n",
       "109. 6.7\n",
       "110. 7.2\n",
       "111. 6.5\n",
       "112. 6.4\n",
       "113. 6.8\n",
       "114. 5.7\n",
       "115. 5.8\n",
       "116. 6.4\n",
       "117. 6.5\n",
       "118. 7.7\n",
       "119. 7.7\n",
       "120. 6\n",
       "121. 6.9\n",
       "122. 5.6\n",
       "123. 7.7\n",
       "124. 6.3\n",
       "125. 6.7\n",
       "126. 7.2\n",
       "127. 6.2\n",
       "128. 6.1\n",
       "129. 6.4\n",
       "130. 7.2\n",
       "131. 7.4\n",
       "132. 7.9\n",
       "133. 6.4\n",
       "134. 6.3\n",
       "135. 6.1\n",
       "136. 7.7\n",
       "137. 6.3\n",
       "138. 6.4\n",
       "139. 6\n",
       "140. 6.9\n",
       "141. 6.7\n",
       "142. 6.9\n",
       "143. 5.8\n",
       "144. 6.8\n",
       "145. 6.7\n",
       "146. 6.7\n",
       "147. 6.3\n",
       "148. 6.5\n",
       "149. 6.2\n",
       "150. 5.9\n",
       "\n",
       "\n"
      ],
      "text/plain": [
       "  [1] 5.1 4.9 4.7 4.6 5.0 5.4 4.6 5.0 4.4 4.9 5.4 4.8 4.8 4.3 5.8 5.7 5.4 5.1\n",
       " [19] 5.7 5.1 5.4 5.1 4.6 5.1 4.8 5.0 5.0 5.2 5.2 4.7 4.8 5.4 5.2 5.5 4.9 5.0\n",
       " [37] 5.5 4.9 4.4 5.1 5.0 4.5 4.4 5.0 5.1 4.8 5.1 4.6 5.3 5.0 7.0 6.4 6.9 5.5\n",
       " [55] 6.5 5.7 6.3 4.9 6.6 5.2 5.0 5.9 6.0 6.1 5.6 6.7 5.6 5.8 6.2 5.6 5.9 6.1\n",
       " [73] 6.3 6.1 6.4 6.6 6.8 6.7 6.0 5.7 5.5 5.5 5.8 6.0 5.4 6.0 6.7 6.3 5.6 5.5\n",
       " [91] 5.5 6.1 5.8 5.0 5.6 5.7 5.7 6.2 5.1 5.7 6.3 5.8 7.1 6.3 6.5 7.6 4.9 7.3\n",
       "[109] 6.7 7.2 6.5 6.4 6.8 5.7 5.8 6.4 6.5 7.7 7.7 6.0 6.9 5.6 7.7 6.3 6.7 7.2\n",
       "[127] 6.2 6.1 6.4 7.2 7.4 7.9 6.4 6.3 6.1 7.7 6.3 6.4 6.0 6.9 6.7 6.9 5.8 6.8\n",
       "[145] 6.7 6.7 6.3 6.5 6.2 5.9"
      ]
     },
     "metadata": {},
     "output_type": "display_data"
    }
   ],
   "source": [
    "sl<-iris[, 1]\n",
    "sl"
   ]
  },
  {
   "cell_type": "code",
   "execution_count": 13,
   "metadata": {
    "collapsed": true,
    "jupyter": {
     "outputs_hidden": true
    }
   },
   "outputs": [
    {
     "data": {
      "text/html": [
       "<style>\n",
       ".list-inline {list-style: none; margin:0; padding: 0}\n",
       ".list-inline>li {display: inline-block}\n",
       ".list-inline>li:not(:last-child)::after {content: \"\\00b7\"; padding: 0 .5ex}\n",
       "</style>\n",
       "<ol class=list-inline><li>5.8</li><li>5.7</li><li>5.7</li><li>7</li><li>6.4</li><li>6.9</li><li>6.5</li><li>5.7</li><li>6.3</li><li>6.6</li><li>5.9</li><li>6</li><li>6.1</li><li>6.7</li><li>5.8</li><li>6.2</li><li>5.9</li><li>6.1</li><li>6.3</li><li>6.1</li><li>6.4</li><li>6.6</li><li>6.8</li><li>6.7</li><li>6</li><li>5.7</li><li>5.8</li><li>6</li><li>6</li><li>6.7</li><li>6.3</li><li>6.1</li><li>5.8</li><li>5.7</li><li>5.7</li><li>6.2</li><li>5.7</li><li>6.3</li><li>5.8</li><li>7.1</li><li>6.3</li><li>6.5</li><li>7.6</li><li>7.3</li><li>6.7</li><li>7.2</li><li>6.5</li><li>6.4</li><li>6.8</li><li>5.7</li><li>5.8</li><li>6.4</li><li>6.5</li><li>7.7</li><li>7.7</li><li>6</li><li>6.9</li><li>7.7</li><li>6.3</li><li>6.7</li><li>7.2</li><li>6.2</li><li>6.1</li><li>6.4</li><li>7.2</li><li>7.4</li><li>7.9</li><li>6.4</li><li>6.3</li><li>6.1</li><li>7.7</li><li>6.3</li><li>6.4</li><li>6</li><li>6.9</li><li>6.7</li><li>6.9</li><li>5.8</li><li>6.8</li><li>6.7</li><li>6.7</li><li>6.3</li><li>6.5</li><li>6.2</li><li>5.9</li></ol>\n"
      ],
      "text/latex": [
       "\\begin{enumerate*}\n",
       "\\item 5.8\n",
       "\\item 5.7\n",
       "\\item 5.7\n",
       "\\item 7\n",
       "\\item 6.4\n",
       "\\item 6.9\n",
       "\\item 6.5\n",
       "\\item 5.7\n",
       "\\item 6.3\n",
       "\\item 6.6\n",
       "\\item 5.9\n",
       "\\item 6\n",
       "\\item 6.1\n",
       "\\item 6.7\n",
       "\\item 5.8\n",
       "\\item 6.2\n",
       "\\item 5.9\n",
       "\\item 6.1\n",
       "\\item 6.3\n",
       "\\item 6.1\n",
       "\\item 6.4\n",
       "\\item 6.6\n",
       "\\item 6.8\n",
       "\\item 6.7\n",
       "\\item 6\n",
       "\\item 5.7\n",
       "\\item 5.8\n",
       "\\item 6\n",
       "\\item 6\n",
       "\\item 6.7\n",
       "\\item 6.3\n",
       "\\item 6.1\n",
       "\\item 5.8\n",
       "\\item 5.7\n",
       "\\item 5.7\n",
       "\\item 6.2\n",
       "\\item 5.7\n",
       "\\item 6.3\n",
       "\\item 5.8\n",
       "\\item 7.1\n",
       "\\item 6.3\n",
       "\\item 6.5\n",
       "\\item 7.6\n",
       "\\item 7.3\n",
       "\\item 6.7\n",
       "\\item 7.2\n",
       "\\item 6.5\n",
       "\\item 6.4\n",
       "\\item 6.8\n",
       "\\item 5.7\n",
       "\\item 5.8\n",
       "\\item 6.4\n",
       "\\item 6.5\n",
       "\\item 7.7\n",
       "\\item 7.7\n",
       "\\item 6\n",
       "\\item 6.9\n",
       "\\item 7.7\n",
       "\\item 6.3\n",
       "\\item 6.7\n",
       "\\item 7.2\n",
       "\\item 6.2\n",
       "\\item 6.1\n",
       "\\item 6.4\n",
       "\\item 7.2\n",
       "\\item 7.4\n",
       "\\item 7.9\n",
       "\\item 6.4\n",
       "\\item 6.3\n",
       "\\item 6.1\n",
       "\\item 7.7\n",
       "\\item 6.3\n",
       "\\item 6.4\n",
       "\\item 6\n",
       "\\item 6.9\n",
       "\\item 6.7\n",
       "\\item 6.9\n",
       "\\item 5.8\n",
       "\\item 6.8\n",
       "\\item 6.7\n",
       "\\item 6.7\n",
       "\\item 6.3\n",
       "\\item 6.5\n",
       "\\item 6.2\n",
       "\\item 5.9\n",
       "\\end{enumerate*}\n"
      ],
      "text/markdown": [
       "1. 5.8\n",
       "2. 5.7\n",
       "3. 5.7\n",
       "4. 7\n",
       "5. 6.4\n",
       "6. 6.9\n",
       "7. 6.5\n",
       "8. 5.7\n",
       "9. 6.3\n",
       "10. 6.6\n",
       "11. 5.9\n",
       "12. 6\n",
       "13. 6.1\n",
       "14. 6.7\n",
       "15. 5.8\n",
       "16. 6.2\n",
       "17. 5.9\n",
       "18. 6.1\n",
       "19. 6.3\n",
       "20. 6.1\n",
       "21. 6.4\n",
       "22. 6.6\n",
       "23. 6.8\n",
       "24. 6.7\n",
       "25. 6\n",
       "26. 5.7\n",
       "27. 5.8\n",
       "28. 6\n",
       "29. 6\n",
       "30. 6.7\n",
       "31. 6.3\n",
       "32. 6.1\n",
       "33. 5.8\n",
       "34. 5.7\n",
       "35. 5.7\n",
       "36. 6.2\n",
       "37. 5.7\n",
       "38. 6.3\n",
       "39. 5.8\n",
       "40. 7.1\n",
       "41. 6.3\n",
       "42. 6.5\n",
       "43. 7.6\n",
       "44. 7.3\n",
       "45. 6.7\n",
       "46. 7.2\n",
       "47. 6.5\n",
       "48. 6.4\n",
       "49. 6.8\n",
       "50. 5.7\n",
       "51. 5.8\n",
       "52. 6.4\n",
       "53. 6.5\n",
       "54. 7.7\n",
       "55. 7.7\n",
       "56. 6\n",
       "57. 6.9\n",
       "58. 7.7\n",
       "59. 6.3\n",
       "60. 6.7\n",
       "61. 7.2\n",
       "62. 6.2\n",
       "63. 6.1\n",
       "64. 6.4\n",
       "65. 7.2\n",
       "66. 7.4\n",
       "67. 7.9\n",
       "68. 6.4\n",
       "69. 6.3\n",
       "70. 6.1\n",
       "71. 7.7\n",
       "72. 6.3\n",
       "73. 6.4\n",
       "74. 6\n",
       "75. 6.9\n",
       "76. 6.7\n",
       "77. 6.9\n",
       "78. 5.8\n",
       "79. 6.8\n",
       "80. 6.7\n",
       "81. 6.7\n",
       "82. 6.3\n",
       "83. 6.5\n",
       "84. 6.2\n",
       "85. 5.9\n",
       "\n",
       "\n"
      ],
      "text/plain": [
       " [1] 5.8 5.7 5.7 7.0 6.4 6.9 6.5 5.7 6.3 6.6 5.9 6.0 6.1 6.7 5.8 6.2 5.9 6.1 6.3\n",
       "[20] 6.1 6.4 6.6 6.8 6.7 6.0 5.7 5.8 6.0 6.0 6.7 6.3 6.1 5.8 5.7 5.7 6.2 5.7 6.3\n",
       "[39] 5.8 7.1 6.3 6.5 7.6 7.3 6.7 7.2 6.5 6.4 6.8 5.7 5.8 6.4 6.5 7.7 7.7 6.0 6.9\n",
       "[58] 7.7 6.3 6.7 7.2 6.2 6.1 6.4 7.2 7.4 7.9 6.4 6.3 6.1 7.7 6.3 6.4 6.0 6.9 6.7\n",
       "[77] 6.9 5.8 6.8 6.7 6.7 6.3 6.5 6.2 5.9"
      ]
     },
     "metadata": {},
     "output_type": "display_data"
    }
   ],
   "source": [
    "sl_1<-sl[sl>5.6]\n",
    "sl_1"
   ]
  },
  {
   "cell_type": "code",
   "execution_count": 14,
   "metadata": {},
   "outputs": [
    {
     "data": {
      "text/html": [
       "150"
      ],
      "text/latex": [
       "150"
      ],
      "text/markdown": [
       "150"
      ],
      "text/plain": [
       "[1] 150"
      ]
     },
     "metadata": {},
     "output_type": "display_data"
    }
   ],
   "source": [
    "length(sl)"
   ]
  },
  {
   "cell_type": "code",
   "execution_count": 15,
   "metadata": {},
   "outputs": [
    {
     "data": {
      "text/html": [
       "85"
      ],
      "text/latex": [
       "85"
      ],
      "text/markdown": [
       "85"
      ],
      "text/plain": [
       "[1] 85"
      ]
     },
     "metadata": {},
     "output_type": "display_data"
    }
   ],
   "source": [
    "length(sl_1)"
   ]
  },
  {
   "cell_type": "code",
   "execution_count": 16,
   "metadata": {
    "collapsed": true,
    "jupyter": {
     "outputs_hidden": true
    }
   },
   "outputs": [
    {
     "data": {
      "text/html": [
       "<style>\n",
       ".list-inline {list-style: none; margin:0; padding: 0}\n",
       ".list-inline>li {display: inline-block}\n",
       ".list-inline>li:not(:last-child)::after {content: \"\\00b7\"; padding: 0 .5ex}\n",
       "</style>\n",
       "<ol class=list-inline><li>5.8</li><li>5.7</li><li>5.7</li><li>6.4</li><li>6.9</li><li>6.5</li><li>5.7</li><li>6.3</li><li>6.6</li><li>5.9</li><li>6</li><li>6.1</li><li>6.7</li><li>5.8</li><li>6.2</li><li>5.9</li><li>6.1</li><li>6.3</li><li>6.1</li><li>6.4</li><li>6.6</li><li>6.8</li><li>6.7</li><li>6</li><li>5.7</li><li>5.8</li><li>6</li><li>6</li><li>6.7</li><li>6.3</li><li>6.1</li><li>5.8</li><li>5.7</li><li>5.7</li><li>6.2</li><li>5.7</li><li>6.3</li><li>5.8</li><li>6.3</li><li>6.5</li><li>6.7</li><li>6.5</li><li>6.4</li><li>6.8</li><li>5.7</li><li>5.8</li><li>6.4</li><li>6.5</li><li>6</li><li>6.9</li><li>6.3</li><li>6.7</li><li>6.2</li><li>6.1</li><li>6.4</li><li>6.4</li><li>6.3</li><li>6.1</li><li>6.3</li><li>6.4</li><li>6</li><li>6.9</li><li>6.7</li><li>6.9</li><li>5.8</li><li>6.8</li><li>6.7</li><li>6.7</li><li>6.3</li><li>6.5</li><li>6.2</li><li>5.9</li></ol>\n"
      ],
      "text/latex": [
       "\\begin{enumerate*}\n",
       "\\item 5.8\n",
       "\\item 5.7\n",
       "\\item 5.7\n",
       "\\item 6.4\n",
       "\\item 6.9\n",
       "\\item 6.5\n",
       "\\item 5.7\n",
       "\\item 6.3\n",
       "\\item 6.6\n",
       "\\item 5.9\n",
       "\\item 6\n",
       "\\item 6.1\n",
       "\\item 6.7\n",
       "\\item 5.8\n",
       "\\item 6.2\n",
       "\\item 5.9\n",
       "\\item 6.1\n",
       "\\item 6.3\n",
       "\\item 6.1\n",
       "\\item 6.4\n",
       "\\item 6.6\n",
       "\\item 6.8\n",
       "\\item 6.7\n",
       "\\item 6\n",
       "\\item 5.7\n",
       "\\item 5.8\n",
       "\\item 6\n",
       "\\item 6\n",
       "\\item 6.7\n",
       "\\item 6.3\n",
       "\\item 6.1\n",
       "\\item 5.8\n",
       "\\item 5.7\n",
       "\\item 5.7\n",
       "\\item 6.2\n",
       "\\item 5.7\n",
       "\\item 6.3\n",
       "\\item 5.8\n",
       "\\item 6.3\n",
       "\\item 6.5\n",
       "\\item 6.7\n",
       "\\item 6.5\n",
       "\\item 6.4\n",
       "\\item 6.8\n",
       "\\item 5.7\n",
       "\\item 5.8\n",
       "\\item 6.4\n",
       "\\item 6.5\n",
       "\\item 6\n",
       "\\item 6.9\n",
       "\\item 6.3\n",
       "\\item 6.7\n",
       "\\item 6.2\n",
       "\\item 6.1\n",
       "\\item 6.4\n",
       "\\item 6.4\n",
       "\\item 6.3\n",
       "\\item 6.1\n",
       "\\item 6.3\n",
       "\\item 6.4\n",
       "\\item 6\n",
       "\\item 6.9\n",
       "\\item 6.7\n",
       "\\item 6.9\n",
       "\\item 5.8\n",
       "\\item 6.8\n",
       "\\item 6.7\n",
       "\\item 6.7\n",
       "\\item 6.3\n",
       "\\item 6.5\n",
       "\\item 6.2\n",
       "\\item 5.9\n",
       "\\end{enumerate*}\n"
      ],
      "text/markdown": [
       "1. 5.8\n",
       "2. 5.7\n",
       "3. 5.7\n",
       "4. 6.4\n",
       "5. 6.9\n",
       "6. 6.5\n",
       "7. 5.7\n",
       "8. 6.3\n",
       "9. 6.6\n",
       "10. 5.9\n",
       "11. 6\n",
       "12. 6.1\n",
       "13. 6.7\n",
       "14. 5.8\n",
       "15. 6.2\n",
       "16. 5.9\n",
       "17. 6.1\n",
       "18. 6.3\n",
       "19. 6.1\n",
       "20. 6.4\n",
       "21. 6.6\n",
       "22. 6.8\n",
       "23. 6.7\n",
       "24. 6\n",
       "25. 5.7\n",
       "26. 5.8\n",
       "27. 6\n",
       "28. 6\n",
       "29. 6.7\n",
       "30. 6.3\n",
       "31. 6.1\n",
       "32. 5.8\n",
       "33. 5.7\n",
       "34. 5.7\n",
       "35. 6.2\n",
       "36. 5.7\n",
       "37. 6.3\n",
       "38. 5.8\n",
       "39. 6.3\n",
       "40. 6.5\n",
       "41. 6.7\n",
       "42. 6.5\n",
       "43. 6.4\n",
       "44. 6.8\n",
       "45. 5.7\n",
       "46. 5.8\n",
       "47. 6.4\n",
       "48. 6.5\n",
       "49. 6\n",
       "50. 6.9\n",
       "51. 6.3\n",
       "52. 6.7\n",
       "53. 6.2\n",
       "54. 6.1\n",
       "55. 6.4\n",
       "56. 6.4\n",
       "57. 6.3\n",
       "58. 6.1\n",
       "59. 6.3\n",
       "60. 6.4\n",
       "61. 6\n",
       "62. 6.9\n",
       "63. 6.7\n",
       "64. 6.9\n",
       "65. 5.8\n",
       "66. 6.8\n",
       "67. 6.7\n",
       "68. 6.7\n",
       "69. 6.3\n",
       "70. 6.5\n",
       "71. 6.2\n",
       "72. 5.9\n",
       "\n",
       "\n"
      ],
      "text/plain": [
       " [1] 5.8 5.7 5.7 6.4 6.9 6.5 5.7 6.3 6.6 5.9 6.0 6.1 6.7 5.8 6.2 5.9 6.1 6.3 6.1\n",
       "[20] 6.4 6.6 6.8 6.7 6.0 5.7 5.8 6.0 6.0 6.7 6.3 6.1 5.8 5.7 5.7 6.2 5.7 6.3 5.8\n",
       "[39] 6.3 6.5 6.7 6.5 6.4 6.8 5.7 5.8 6.4 6.5 6.0 6.9 6.3 6.7 6.2 6.1 6.4 6.4 6.3\n",
       "[58] 6.1 6.3 6.4 6.0 6.9 6.7 6.9 5.8 6.8 6.7 6.7 6.3 6.5 6.2 5.9"
      ]
     },
     "metadata": {},
     "output_type": "display_data"
    }
   ],
   "source": [
    "sl_2<-sl[sl>5.6 & sl<7]\n",
    "sl_2"
   ]
  },
  {
   "cell_type": "code",
   "execution_count": 17,
   "metadata": {},
   "outputs": [
    {
     "data": {
      "text/html": [
       "72"
      ],
      "text/latex": [
       "72"
      ],
      "text/markdown": [
       "72"
      ],
      "text/plain": [
       "[1] 72"
      ]
     },
     "metadata": {},
     "output_type": "display_data"
    }
   ],
   "source": [
    "length(sl_2)"
   ]
  },
  {
   "cell_type": "code",
   "execution_count": 18,
   "metadata": {},
   "outputs": [
    {
     "data": {
      "text/html": [
       "'factor'"
      ],
      "text/latex": [
       "'factor'"
      ],
      "text/markdown": [
       "'factor'"
      ],
      "text/plain": [
       "[1] \"factor\""
      ]
     },
     "metadata": {},
     "output_type": "display_data"
    }
   ],
   "source": [
    "class(iris$Species)"
   ]
  },
  {
   "cell_type": "code",
   "execution_count": 19,
   "metadata": {
    "collapsed": true,
    "jupyter": {
     "outputs_hidden": true
    }
   },
   "outputs": [
    {
     "data": {
      "text/html": [
       "<style>\n",
       ".list-inline {list-style: none; margin:0; padding: 0}\n",
       ".list-inline>li {display: inline-block}\n",
       ".list-inline>li:not(:last-child)::after {content: \"\\00b7\"; padding: 0 .5ex}\n",
       "</style>\n",
       "<ol class=list-inline><li>setosa</li><li>setosa</li><li>setosa</li><li>setosa</li><li>setosa</li><li>setosa</li><li>setosa</li><li>setosa</li><li>setosa</li><li>setosa</li><li>setosa</li><li>setosa</li><li>setosa</li><li>setosa</li><li>setosa</li><li>setosa</li><li>setosa</li><li>setosa</li><li>setosa</li><li>setosa</li><li>setosa</li><li>setosa</li><li>setosa</li><li>setosa</li><li>setosa</li><li>setosa</li><li>setosa</li><li>setosa</li><li>setosa</li><li>setosa</li><li>setosa</li><li>setosa</li><li>setosa</li><li>setosa</li><li>setosa</li><li>setosa</li><li>setosa</li><li>setosa</li><li>setosa</li><li>setosa</li><li>setosa</li><li>setosa</li><li>setosa</li><li>setosa</li><li>setosa</li><li>setosa</li><li>setosa</li><li>setosa</li><li>setosa</li><li>setosa</li><li>versicolor</li><li>versicolor</li><li>versicolor</li><li>versicolor</li><li>versicolor</li><li>versicolor</li><li>versicolor</li><li>versicolor</li><li>versicolor</li><li>versicolor</li><li>versicolor</li><li>versicolor</li><li>versicolor</li><li>versicolor</li><li>versicolor</li><li>versicolor</li><li>versicolor</li><li>versicolor</li><li>versicolor</li><li>versicolor</li><li>versicolor</li><li>versicolor</li><li>versicolor</li><li>versicolor</li><li>versicolor</li><li>versicolor</li><li>versicolor</li><li>versicolor</li><li>versicolor</li><li>versicolor</li><li>versicolor</li><li>versicolor</li><li>versicolor</li><li>versicolor</li><li>versicolor</li><li>versicolor</li><li>versicolor</li><li>versicolor</li><li>versicolor</li><li>versicolor</li><li>versicolor</li><li>versicolor</li><li>versicolor</li><li>versicolor</li><li>versicolor</li><li>versicolor</li><li>versicolor</li><li>versicolor</li><li>versicolor</li><li>versicolor</li><li>virginica</li><li>virginica</li><li>virginica</li><li>virginica</li><li>virginica</li><li>virginica</li><li>virginica</li><li>virginica</li><li>virginica</li><li>virginica</li><li>virginica</li><li>virginica</li><li>virginica</li><li>virginica</li><li>virginica</li><li>virginica</li><li>virginica</li><li>virginica</li><li>virginica</li><li>virginica</li><li>virginica</li><li>virginica</li><li>virginica</li><li>virginica</li><li>virginica</li><li>virginica</li><li>virginica</li><li>virginica</li><li>virginica</li><li>virginica</li><li>virginica</li><li>virginica</li><li>virginica</li><li>virginica</li><li>virginica</li><li>virginica</li><li>virginica</li><li>virginica</li><li>virginica</li><li>virginica</li><li>virginica</li><li>virginica</li><li>virginica</li><li>virginica</li><li>virginica</li><li>virginica</li><li>virginica</li><li>virginica</li><li>virginica</li><li>virginica</li></ol>\n",
       "\n",
       "<details>\n",
       "\t<summary style=display:list-item;cursor:pointer>\n",
       "\t\t<strong>Levels</strong>:\n",
       "\t</summary>\n",
       "\t<style>\n",
       "\t.list-inline {list-style: none; margin:0; padding: 0}\n",
       "\t.list-inline>li {display: inline-block}\n",
       "\t.list-inline>li:not(:last-child)::after {content: \"\\00b7\"; padding: 0 .5ex}\n",
       "\t</style>\n",
       "\t<ol class=list-inline><li>'setosa'</li><li>'versicolor'</li><li>'virginica'</li></ol>\n",
       "</details>"
      ],
      "text/latex": [
       "\\begin{enumerate*}\n",
       "\\item setosa\n",
       "\\item setosa\n",
       "\\item setosa\n",
       "\\item setosa\n",
       "\\item setosa\n",
       "\\item setosa\n",
       "\\item setosa\n",
       "\\item setosa\n",
       "\\item setosa\n",
       "\\item setosa\n",
       "\\item setosa\n",
       "\\item setosa\n",
       "\\item setosa\n",
       "\\item setosa\n",
       "\\item setosa\n",
       "\\item setosa\n",
       "\\item setosa\n",
       "\\item setosa\n",
       "\\item setosa\n",
       "\\item setosa\n",
       "\\item setosa\n",
       "\\item setosa\n",
       "\\item setosa\n",
       "\\item setosa\n",
       "\\item setosa\n",
       "\\item setosa\n",
       "\\item setosa\n",
       "\\item setosa\n",
       "\\item setosa\n",
       "\\item setosa\n",
       "\\item setosa\n",
       "\\item setosa\n",
       "\\item setosa\n",
       "\\item setosa\n",
       "\\item setosa\n",
       "\\item setosa\n",
       "\\item setosa\n",
       "\\item setosa\n",
       "\\item setosa\n",
       "\\item setosa\n",
       "\\item setosa\n",
       "\\item setosa\n",
       "\\item setosa\n",
       "\\item setosa\n",
       "\\item setosa\n",
       "\\item setosa\n",
       "\\item setosa\n",
       "\\item setosa\n",
       "\\item setosa\n",
       "\\item setosa\n",
       "\\item versicolor\n",
       "\\item versicolor\n",
       "\\item versicolor\n",
       "\\item versicolor\n",
       "\\item versicolor\n",
       "\\item versicolor\n",
       "\\item versicolor\n",
       "\\item versicolor\n",
       "\\item versicolor\n",
       "\\item versicolor\n",
       "\\item versicolor\n",
       "\\item versicolor\n",
       "\\item versicolor\n",
       "\\item versicolor\n",
       "\\item versicolor\n",
       "\\item versicolor\n",
       "\\item versicolor\n",
       "\\item versicolor\n",
       "\\item versicolor\n",
       "\\item versicolor\n",
       "\\item versicolor\n",
       "\\item versicolor\n",
       "\\item versicolor\n",
       "\\item versicolor\n",
       "\\item versicolor\n",
       "\\item versicolor\n",
       "\\item versicolor\n",
       "\\item versicolor\n",
       "\\item versicolor\n",
       "\\item versicolor\n",
       "\\item versicolor\n",
       "\\item versicolor\n",
       "\\item versicolor\n",
       "\\item versicolor\n",
       "\\item versicolor\n",
       "\\item versicolor\n",
       "\\item versicolor\n",
       "\\item versicolor\n",
       "\\item versicolor\n",
       "\\item versicolor\n",
       "\\item versicolor\n",
       "\\item versicolor\n",
       "\\item versicolor\n",
       "\\item versicolor\n",
       "\\item versicolor\n",
       "\\item versicolor\n",
       "\\item versicolor\n",
       "\\item versicolor\n",
       "\\item versicolor\n",
       "\\item versicolor\n",
       "\\item virginica\n",
       "\\item virginica\n",
       "\\item virginica\n",
       "\\item virginica\n",
       "\\item virginica\n",
       "\\item virginica\n",
       "\\item virginica\n",
       "\\item virginica\n",
       "\\item virginica\n",
       "\\item virginica\n",
       "\\item virginica\n",
       "\\item virginica\n",
       "\\item virginica\n",
       "\\item virginica\n",
       "\\item virginica\n",
       "\\item virginica\n",
       "\\item virginica\n",
       "\\item virginica\n",
       "\\item virginica\n",
       "\\item virginica\n",
       "\\item virginica\n",
       "\\item virginica\n",
       "\\item virginica\n",
       "\\item virginica\n",
       "\\item virginica\n",
       "\\item virginica\n",
       "\\item virginica\n",
       "\\item virginica\n",
       "\\item virginica\n",
       "\\item virginica\n",
       "\\item virginica\n",
       "\\item virginica\n",
       "\\item virginica\n",
       "\\item virginica\n",
       "\\item virginica\n",
       "\\item virginica\n",
       "\\item virginica\n",
       "\\item virginica\n",
       "\\item virginica\n",
       "\\item virginica\n",
       "\\item virginica\n",
       "\\item virginica\n",
       "\\item virginica\n",
       "\\item virginica\n",
       "\\item virginica\n",
       "\\item virginica\n",
       "\\item virginica\n",
       "\\item virginica\n",
       "\\item virginica\n",
       "\\item virginica\n",
       "\\end{enumerate*}\n",
       "\n",
       "\\emph{Levels}: \\begin{enumerate*}\n",
       "\\item 'setosa'\n",
       "\\item 'versicolor'\n",
       "\\item 'virginica'\n",
       "\\end{enumerate*}\n"
      ],
      "text/markdown": [
       "1. setosa\n",
       "2. setosa\n",
       "3. setosa\n",
       "4. setosa\n",
       "5. setosa\n",
       "6. setosa\n",
       "7. setosa\n",
       "8. setosa\n",
       "9. setosa\n",
       "10. setosa\n",
       "11. setosa\n",
       "12. setosa\n",
       "13. setosa\n",
       "14. setosa\n",
       "15. setosa\n",
       "16. setosa\n",
       "17. setosa\n",
       "18. setosa\n",
       "19. setosa\n",
       "20. setosa\n",
       "21. setosa\n",
       "22. setosa\n",
       "23. setosa\n",
       "24. setosa\n",
       "25. setosa\n",
       "26. setosa\n",
       "27. setosa\n",
       "28. setosa\n",
       "29. setosa\n",
       "30. setosa\n",
       "31. setosa\n",
       "32. setosa\n",
       "33. setosa\n",
       "34. setosa\n",
       "35. setosa\n",
       "36. setosa\n",
       "37. setosa\n",
       "38. setosa\n",
       "39. setosa\n",
       "40. setosa\n",
       "41. setosa\n",
       "42. setosa\n",
       "43. setosa\n",
       "44. setosa\n",
       "45. setosa\n",
       "46. setosa\n",
       "47. setosa\n",
       "48. setosa\n",
       "49. setosa\n",
       "50. setosa\n",
       "51. versicolor\n",
       "52. versicolor\n",
       "53. versicolor\n",
       "54. versicolor\n",
       "55. versicolor\n",
       "56. versicolor\n",
       "57. versicolor\n",
       "58. versicolor\n",
       "59. versicolor\n",
       "60. versicolor\n",
       "61. versicolor\n",
       "62. versicolor\n",
       "63. versicolor\n",
       "64. versicolor\n",
       "65. versicolor\n",
       "66. versicolor\n",
       "67. versicolor\n",
       "68. versicolor\n",
       "69. versicolor\n",
       "70. versicolor\n",
       "71. versicolor\n",
       "72. versicolor\n",
       "73. versicolor\n",
       "74. versicolor\n",
       "75. versicolor\n",
       "76. versicolor\n",
       "77. versicolor\n",
       "78. versicolor\n",
       "79. versicolor\n",
       "80. versicolor\n",
       "81. versicolor\n",
       "82. versicolor\n",
       "83. versicolor\n",
       "84. versicolor\n",
       "85. versicolor\n",
       "86. versicolor\n",
       "87. versicolor\n",
       "88. versicolor\n",
       "89. versicolor\n",
       "90. versicolor\n",
       "91. versicolor\n",
       "92. versicolor\n",
       "93. versicolor\n",
       "94. versicolor\n",
       "95. versicolor\n",
       "96. versicolor\n",
       "97. versicolor\n",
       "98. versicolor\n",
       "99. versicolor\n",
       "100. versicolor\n",
       "101. virginica\n",
       "102. virginica\n",
       "103. virginica\n",
       "104. virginica\n",
       "105. virginica\n",
       "106. virginica\n",
       "107. virginica\n",
       "108. virginica\n",
       "109. virginica\n",
       "110. virginica\n",
       "111. virginica\n",
       "112. virginica\n",
       "113. virginica\n",
       "114. virginica\n",
       "115. virginica\n",
       "116. virginica\n",
       "117. virginica\n",
       "118. virginica\n",
       "119. virginica\n",
       "120. virginica\n",
       "121. virginica\n",
       "122. virginica\n",
       "123. virginica\n",
       "124. virginica\n",
       "125. virginica\n",
       "126. virginica\n",
       "127. virginica\n",
       "128. virginica\n",
       "129. virginica\n",
       "130. virginica\n",
       "131. virginica\n",
       "132. virginica\n",
       "133. virginica\n",
       "134. virginica\n",
       "135. virginica\n",
       "136. virginica\n",
       "137. virginica\n",
       "138. virginica\n",
       "139. virginica\n",
       "140. virginica\n",
       "141. virginica\n",
       "142. virginica\n",
       "143. virginica\n",
       "144. virginica\n",
       "145. virginica\n",
       "146. virginica\n",
       "147. virginica\n",
       "148. virginica\n",
       "149. virginica\n",
       "150. virginica\n",
       "\n",
       "\n",
       "\n",
       "**Levels**: 1. 'setosa'\n",
       "2. 'versicolor'\n",
       "3. 'virginica'\n",
       "\n",
       "\n"
      ],
      "text/plain": [
       "  [1] setosa     setosa     setosa     setosa     setosa     setosa    \n",
       "  [7] setosa     setosa     setosa     setosa     setosa     setosa    \n",
       " [13] setosa     setosa     setosa     setosa     setosa     setosa    \n",
       " [19] setosa     setosa     setosa     setosa     setosa     setosa    \n",
       " [25] setosa     setosa     setosa     setosa     setosa     setosa    \n",
       " [31] setosa     setosa     setosa     setosa     setosa     setosa    \n",
       " [37] setosa     setosa     setosa     setosa     setosa     setosa    \n",
       " [43] setosa     setosa     setosa     setosa     setosa     setosa    \n",
       " [49] setosa     setosa     versicolor versicolor versicolor versicolor\n",
       " [55] versicolor versicolor versicolor versicolor versicolor versicolor\n",
       " [61] versicolor versicolor versicolor versicolor versicolor versicolor\n",
       " [67] versicolor versicolor versicolor versicolor versicolor versicolor\n",
       " [73] versicolor versicolor versicolor versicolor versicolor versicolor\n",
       " [79] versicolor versicolor versicolor versicolor versicolor versicolor\n",
       " [85] versicolor versicolor versicolor versicolor versicolor versicolor\n",
       " [91] versicolor versicolor versicolor versicolor versicolor versicolor\n",
       " [97] versicolor versicolor versicolor versicolor virginica  virginica \n",
       "[103] virginica  virginica  virginica  virginica  virginica  virginica \n",
       "[109] virginica  virginica  virginica  virginica  virginica  virginica \n",
       "[115] virginica  virginica  virginica  virginica  virginica  virginica \n",
       "[121] virginica  virginica  virginica  virginica  virginica  virginica \n",
       "[127] virginica  virginica  virginica  virginica  virginica  virginica \n",
       "[133] virginica  virginica  virginica  virginica  virginica  virginica \n",
       "[139] virginica  virginica  virginica  virginica  virginica  virginica \n",
       "[145] virginica  virginica  virginica  virginica  virginica  virginica \n",
       "Levels: setosa versicolor virginica"
      ]
     },
     "metadata": {},
     "output_type": "display_data"
    }
   ],
   "source": [
    "myf<-factor(rep(c(\"setosa\", \"versicolor\", \"virginica\"), each=50))\n",
    "myf"
   ]
  },
  {
   "cell_type": "code",
   "execution_count": 20,
   "metadata": {},
   "outputs": [
    {
     "name": "stderr",
     "output_type": "stream",
     "text": [
      "Warning message:\n",
      "\"package 'cluster' was built under R version 3.6.3\"\n"
     ]
    }
   ],
   "source": [
    "library(cluster)"
   ]
  },
  {
   "cell_type": "code",
   "execution_count": 21,
   "metadata": {},
   "outputs": [
    {
     "data": {
      "text/html": [
       "<table>\n",
       "<caption>A data.frame: 20 × 6</caption>\n",
       "<thead>\n",
       "\t<tr><th></th><th scope=col>war</th><th scope=col>fly</th><th scope=col>ver</th><th scope=col>end</th><th scope=col>gro</th><th scope=col>hai</th></tr>\n",
       "\t<tr><th></th><th scope=col>&lt;int&gt;</th><th scope=col>&lt;int&gt;</th><th scope=col>&lt;int&gt;</th><th scope=col>&lt;int&gt;</th><th scope=col>&lt;int&gt;</th><th scope=col>&lt;int&gt;</th></tr>\n",
       "</thead>\n",
       "<tbody>\n",
       "\t<tr><th scope=row>ant</th><td>1</td><td>1</td><td>1</td><td> 1</td><td> 2</td><td>1</td></tr>\n",
       "\t<tr><th scope=row>bee</th><td>1</td><td>2</td><td>1</td><td> 1</td><td> 2</td><td>2</td></tr>\n",
       "\t<tr><th scope=row>cat</th><td>2</td><td>1</td><td>2</td><td> 1</td><td> 1</td><td>2</td></tr>\n",
       "\t<tr><th scope=row>cpl</th><td>1</td><td>1</td><td>1</td><td> 1</td><td> 1</td><td>2</td></tr>\n",
       "\t<tr><th scope=row>chi</th><td>2</td><td>1</td><td>2</td><td> 2</td><td> 2</td><td>2</td></tr>\n",
       "\t<tr><th scope=row>cow</th><td>2</td><td>1</td><td>2</td><td> 1</td><td> 2</td><td>2</td></tr>\n",
       "\t<tr><th scope=row>duc</th><td>2</td><td>2</td><td>2</td><td> 1</td><td> 2</td><td>1</td></tr>\n",
       "\t<tr><th scope=row>eag</th><td>2</td><td>2</td><td>2</td><td> 2</td><td> 1</td><td>1</td></tr>\n",
       "\t<tr><th scope=row>ele</th><td>2</td><td>1</td><td>2</td><td> 2</td><td> 2</td><td>1</td></tr>\n",
       "\t<tr><th scope=row>fly</th><td>1</td><td>2</td><td>1</td><td> 1</td><td> 1</td><td>1</td></tr>\n",
       "\t<tr><th scope=row>fro</th><td>1</td><td>1</td><td>2</td><td> 2</td><td>NA</td><td>1</td></tr>\n",
       "\t<tr><th scope=row>her</th><td>1</td><td>1</td><td>2</td><td> 1</td><td> 2</td><td>1</td></tr>\n",
       "\t<tr><th scope=row>lio</th><td>2</td><td>1</td><td>2</td><td>NA</td><td> 2</td><td>2</td></tr>\n",
       "\t<tr><th scope=row>liz</th><td>1</td><td>1</td><td>2</td><td> 1</td><td> 1</td><td>1</td></tr>\n",
       "\t<tr><th scope=row>lob</th><td>1</td><td>1</td><td>1</td><td> 1</td><td>NA</td><td>1</td></tr>\n",
       "\t<tr><th scope=row>man</th><td>2</td><td>1</td><td>2</td><td> 2</td><td> 2</td><td>2</td></tr>\n",
       "\t<tr><th scope=row>rab</th><td>2</td><td>1</td><td>2</td><td> 1</td><td> 2</td><td>2</td></tr>\n",
       "\t<tr><th scope=row>sal</th><td>1</td><td>1</td><td>2</td><td> 1</td><td>NA</td><td>1</td></tr>\n",
       "\t<tr><th scope=row>spi</th><td>1</td><td>1</td><td>1</td><td>NA</td><td> 1</td><td>2</td></tr>\n",
       "\t<tr><th scope=row>wha</th><td>2</td><td>1</td><td>2</td><td> 2</td><td> 2</td><td>1</td></tr>\n",
       "</tbody>\n",
       "</table>\n"
      ],
      "text/latex": [
       "A data.frame: 20 × 6\n",
       "\\begin{tabular}{r|llllll}\n",
       "  & war & fly & ver & end & gro & hai\\\\\n",
       "  & <int> & <int> & <int> & <int> & <int> & <int>\\\\\n",
       "\\hline\n",
       "\tant & 1 & 1 & 1 &  1 &  2 & 1\\\\\n",
       "\tbee & 1 & 2 & 1 &  1 &  2 & 2\\\\\n",
       "\tcat & 2 & 1 & 2 &  1 &  1 & 2\\\\\n",
       "\tcpl & 1 & 1 & 1 &  1 &  1 & 2\\\\\n",
       "\tchi & 2 & 1 & 2 &  2 &  2 & 2\\\\\n",
       "\tcow & 2 & 1 & 2 &  1 &  2 & 2\\\\\n",
       "\tduc & 2 & 2 & 2 &  1 &  2 & 1\\\\\n",
       "\teag & 2 & 2 & 2 &  2 &  1 & 1\\\\\n",
       "\tele & 2 & 1 & 2 &  2 &  2 & 1\\\\\n",
       "\tfly & 1 & 2 & 1 &  1 &  1 & 1\\\\\n",
       "\tfro & 1 & 1 & 2 &  2 & NA & 1\\\\\n",
       "\ther & 1 & 1 & 2 &  1 &  2 & 1\\\\\n",
       "\tlio & 2 & 1 & 2 & NA &  2 & 2\\\\\n",
       "\tliz & 1 & 1 & 2 &  1 &  1 & 1\\\\\n",
       "\tlob & 1 & 1 & 1 &  1 & NA & 1\\\\\n",
       "\tman & 2 & 1 & 2 &  2 &  2 & 2\\\\\n",
       "\trab & 2 & 1 & 2 &  1 &  2 & 2\\\\\n",
       "\tsal & 1 & 1 & 2 &  1 & NA & 1\\\\\n",
       "\tspi & 1 & 1 & 1 & NA &  1 & 2\\\\\n",
       "\twha & 2 & 1 & 2 &  2 &  2 & 1\\\\\n",
       "\\end{tabular}\n"
      ],
      "text/markdown": [
       "\n",
       "A data.frame: 20 × 6\n",
       "\n",
       "| <!--/--> | war &lt;int&gt; | fly &lt;int&gt; | ver &lt;int&gt; | end &lt;int&gt; | gro &lt;int&gt; | hai &lt;int&gt; |\n",
       "|---|---|---|---|---|---|---|\n",
       "| ant | 1 | 1 | 1 |  1 |  2 | 1 |\n",
       "| bee | 1 | 2 | 1 |  1 |  2 | 2 |\n",
       "| cat | 2 | 1 | 2 |  1 |  1 | 2 |\n",
       "| cpl | 1 | 1 | 1 |  1 |  1 | 2 |\n",
       "| chi | 2 | 1 | 2 |  2 |  2 | 2 |\n",
       "| cow | 2 | 1 | 2 |  1 |  2 | 2 |\n",
       "| duc | 2 | 2 | 2 |  1 |  2 | 1 |\n",
       "| eag | 2 | 2 | 2 |  2 |  1 | 1 |\n",
       "| ele | 2 | 1 | 2 |  2 |  2 | 1 |\n",
       "| fly | 1 | 2 | 1 |  1 |  1 | 1 |\n",
       "| fro | 1 | 1 | 2 |  2 | NA | 1 |\n",
       "| her | 1 | 1 | 2 |  1 |  2 | 1 |\n",
       "| lio | 2 | 1 | 2 | NA |  2 | 2 |\n",
       "| liz | 1 | 1 | 2 |  1 |  1 | 1 |\n",
       "| lob | 1 | 1 | 1 |  1 | NA | 1 |\n",
       "| man | 2 | 1 | 2 |  2 |  2 | 2 |\n",
       "| rab | 2 | 1 | 2 |  1 |  2 | 2 |\n",
       "| sal | 1 | 1 | 2 |  1 | NA | 1 |\n",
       "| spi | 1 | 1 | 1 | NA |  1 | 2 |\n",
       "| wha | 2 | 1 | 2 |  2 |  2 | 1 |\n",
       "\n"
      ],
      "text/plain": [
       "    war fly ver end gro hai\n",
       "ant 1   1   1    1   2  1  \n",
       "bee 1   2   1    1   2  2  \n",
       "cat 2   1   2    1   1  2  \n",
       "cpl 1   1   1    1   1  2  \n",
       "chi 2   1   2    2   2  2  \n",
       "cow 2   1   2    1   2  2  \n",
       "duc 2   2   2    1   2  1  \n",
       "eag 2   2   2    2   1  1  \n",
       "ele 2   1   2    2   2  1  \n",
       "fly 1   2   1    1   1  1  \n",
       "fro 1   1   2    2  NA  1  \n",
       "her 1   1   2    1   2  1  \n",
       "lio 2   1   2   NA   2  2  \n",
       "liz 1   1   2    1   1  1  \n",
       "lob 1   1   1    1  NA  1  \n",
       "man 2   1   2    2   2  2  \n",
       "rab 2   1   2    1   2  2  \n",
       "sal 1   1   2    1  NA  1  \n",
       "spi 1   1   1   NA   1  2  \n",
       "wha 2   1   2    2   2  1  "
      ]
     },
     "metadata": {},
     "output_type": "display_data"
    }
   ],
   "source": [
    "animals"
   ]
  },
  {
   "cell_type": "code",
   "execution_count": 22,
   "metadata": {},
   "outputs": [],
   "source": [
    "gro<-animals$gro"
   ]
  },
  {
   "cell_type": "code",
   "execution_count": 23,
   "metadata": {
    "collapsed": true,
    "jupyter": {
     "outputs_hidden": true
    }
   },
   "outputs": [
    {
     "data": {
      "text/html": [
       "<style>\n",
       ".list-inline {list-style: none; margin:0; padding: 0}\n",
       ".list-inline>li {display: inline-block}\n",
       ".list-inline>li:not(:last-child)::after {content: \"\\00b7\"; padding: 0 .5ex}\n",
       "</style>\n",
       "<ol class=list-inline><li>2</li><li>2</li><li>1</li><li>1</li><li>2</li><li>2</li><li>2</li><li>1</li><li>2</li><li>1</li><li>2</li><li>2</li><li>1</li><li>2</li><li>2</li><li>1</li><li>2</li></ol>\n"
      ],
      "text/latex": [
       "\\begin{enumerate*}\n",
       "\\item 2\n",
       "\\item 2\n",
       "\\item 1\n",
       "\\item 1\n",
       "\\item 2\n",
       "\\item 2\n",
       "\\item 2\n",
       "\\item 1\n",
       "\\item 2\n",
       "\\item 1\n",
       "\\item 2\n",
       "\\item 2\n",
       "\\item 1\n",
       "\\item 2\n",
       "\\item 2\n",
       "\\item 1\n",
       "\\item 2\n",
       "\\end{enumerate*}\n"
      ],
      "text/markdown": [
       "1. 2\n",
       "2. 2\n",
       "3. 1\n",
       "4. 1\n",
       "5. 2\n",
       "6. 2\n",
       "7. 2\n",
       "8. 1\n",
       "9. 2\n",
       "10. 1\n",
       "11. 2\n",
       "12. 2\n",
       "13. 1\n",
       "14. 2\n",
       "15. 2\n",
       "16. 1\n",
       "17. 2\n",
       "\n",
       "\n"
      ],
      "text/plain": [
       " [1] 2 2 1 1 2 2 2 1 2 1 2 2 1 2 2 1 2"
      ]
     },
     "metadata": {},
     "output_type": "display_data"
    }
   ],
   "source": [
    "gro[!is.na(gro)]"
   ]
  },
  {
   "cell_type": "code",
   "execution_count": 24,
   "metadata": {},
   "outputs": [
    {
     "data": {
      "text/html": [
       "<style>\n",
       ".list-inline {list-style: none; margin:0; padding: 0}\n",
       ".list-inline>li {display: inline-block}\n",
       ".list-inline>li:not(:last-child)::after {content: \"\\00b7\"; padding: 0 .5ex}\n",
       "</style>\n",
       "<ol class=list-inline><li>11</li><li>15</li><li>18</li></ol>\n"
      ],
      "text/latex": [
       "\\begin{enumerate*}\n",
       "\\item 11\n",
       "\\item 15\n",
       "\\item 18\n",
       "\\end{enumerate*}\n"
      ],
      "text/markdown": [
       "1. 11\n",
       "2. 15\n",
       "3. 18\n",
       "\n",
       "\n"
      ],
      "text/plain": [
       "[1] 11 15 18"
      ]
     },
     "metadata": {},
     "output_type": "display_data"
    }
   ],
   "source": [
    "which(is.na(gro))"
   ]
  },
  {
   "cell_type": "code",
   "execution_count": 25,
   "metadata": {},
   "outputs": [
    {
     "data": {
      "text/html": [
       "<style>\n",
       ".list-inline {list-style: none; margin:0; padding: 0}\n",
       ".list-inline>li {display: inline-block}\n",
       ".list-inline>li:not(:last-child)::after {content: \"\\00b7\"; padding: 0 .5ex}\n",
       "</style>\n",
       "<ol class=list-inline><li>1</li><li>2</li><li>3</li><li>4</li><li>5</li><li>6</li><li>7</li><li>8</li><li>9</li><li>10</li><li>12</li><li>13</li><li>14</li><li>16</li><li>17</li><li>19</li><li>20</li></ol>\n"
      ],
      "text/latex": [
       "\\begin{enumerate*}\n",
       "\\item 1\n",
       "\\item 2\n",
       "\\item 3\n",
       "\\item 4\n",
       "\\item 5\n",
       "\\item 6\n",
       "\\item 7\n",
       "\\item 8\n",
       "\\item 9\n",
       "\\item 10\n",
       "\\item 12\n",
       "\\item 13\n",
       "\\item 14\n",
       "\\item 16\n",
       "\\item 17\n",
       "\\item 19\n",
       "\\item 20\n",
       "\\end{enumerate*}\n"
      ],
      "text/markdown": [
       "1. 1\n",
       "2. 2\n",
       "3. 3\n",
       "4. 4\n",
       "5. 5\n",
       "6. 6\n",
       "7. 7\n",
       "8. 8\n",
       "9. 9\n",
       "10. 10\n",
       "11. 12\n",
       "12. 13\n",
       "13. 14\n",
       "14. 16\n",
       "15. 17\n",
       "16. 19\n",
       "17. 20\n",
       "\n",
       "\n"
      ],
      "text/plain": [
       " [1]  1  2  3  4  5  6  7  8  9 10 12 13 14 16 17 19 20"
      ]
     },
     "metadata": {},
     "output_type": "display_data"
    }
   ],
   "source": [
    "which(!is.na(gro))"
   ]
  },
  {
   "cell_type": "code",
   "execution_count": 28,
   "metadata": {},
   "outputs": [
    {
     "data": {
      "text/html": [
       "<style>\n",
       ".list-inline {list-style: none; margin:0; padding: 0}\n",
       ".list-inline>li {display: inline-block}\n",
       ".list-inline>li:not(:last-child)::after {content: \"\\00b7\"; padding: 0 .5ex}\n",
       "</style>\n",
       "<ol class=list-inline><li>0</li><li>1</li><li>2</li><li>3</li></ol>\n"
      ],
      "text/latex": [
       "\\begin{enumerate*}\n",
       "\\item 0\n",
       "\\item 1\n",
       "\\item 2\n",
       "\\item 3\n",
       "\\end{enumerate*}\n"
      ],
      "text/markdown": [
       "1. 0\n",
       "2. 1\n",
       "3. 2\n",
       "4. 3\n",
       "\n",
       "\n"
      ],
      "text/plain": [
       "[1] 0 1 2 3"
      ]
     },
     "metadata": {},
     "output_type": "display_data"
    }
   ],
   "source": [
    "a<-c(0, 1, 2, 3)\n",
    "a"
   ]
  },
  {
   "cell_type": "code",
   "execution_count": 29,
   "metadata": {},
   "outputs": [
    {
     "data": {
      "text/html": [
       "3"
      ],
      "text/latex": [
       "3"
      ],
      "text/markdown": [
       "3"
      ],
      "text/plain": [
       "[1] 3"
      ]
     },
     "metadata": {},
     "output_type": "display_data"
    }
   ],
   "source": [
    "which(a==2)"
   ]
  },
  {
   "cell_type": "code",
   "execution_count": 30,
   "metadata": {
    "collapsed": true,
    "jupyter": {
     "outputs_hidden": true
    }
   },
   "outputs": [
    {
     "data": {
      "text/html": [
       "<style>\n",
       ".list-inline {list-style: none; margin:0; padding: 0}\n",
       ".list-inline>li {display: inline-block}\n",
       ".list-inline>li:not(:last-child)::after {content: \"\\00b7\"; padding: 0 .5ex}\n",
       "</style>\n",
       "<ol class=list-inline><li>1</li><li>2</li><li>3</li><li>4</li><li>5</li><li>6</li><li>7</li><li>8</li><li>9</li><li>10</li><li>11</li><li>12</li><li>13</li><li>14</li><li>15</li><li>16</li><li>17</li><li>18</li><li>19</li><li>20</li><li>21</li><li>22</li><li>23</li><li>24</li><li>25</li><li>26</li><li>27</li><li>28</li><li>29</li><li>30</li></ol>\n"
      ],
      "text/latex": [
       "\\begin{enumerate*}\n",
       "\\item 1\n",
       "\\item 2\n",
       "\\item 3\n",
       "\\item 4\n",
       "\\item 5\n",
       "\\item 6\n",
       "\\item 7\n",
       "\\item 8\n",
       "\\item 9\n",
       "\\item 10\n",
       "\\item 11\n",
       "\\item 12\n",
       "\\item 13\n",
       "\\item 14\n",
       "\\item 15\n",
       "\\item 16\n",
       "\\item 17\n",
       "\\item 18\n",
       "\\item 19\n",
       "\\item 20\n",
       "\\item 21\n",
       "\\item 22\n",
       "\\item 23\n",
       "\\item 24\n",
       "\\item 25\n",
       "\\item 26\n",
       "\\item 27\n",
       "\\item 28\n",
       "\\item 29\n",
       "\\item 30\n",
       "\\end{enumerate*}\n"
      ],
      "text/markdown": [
       "1. 1\n",
       "2. 2\n",
       "3. 3\n",
       "4. 4\n",
       "5. 5\n",
       "6. 6\n",
       "7. 7\n",
       "8. 8\n",
       "9. 9\n",
       "10. 10\n",
       "11. 11\n",
       "12. 12\n",
       "13. 13\n",
       "14. 14\n",
       "15. 15\n",
       "16. 16\n",
       "17. 17\n",
       "18. 18\n",
       "19. 19\n",
       "20. 20\n",
       "21. 21\n",
       "22. 22\n",
       "23. 23\n",
       "24. 24\n",
       "25. 25\n",
       "26. 26\n",
       "27. 27\n",
       "28. 28\n",
       "29. 29\n",
       "30. 30\n",
       "\n",
       "\n"
      ],
      "text/plain": [
       " [1]  1  2  3  4  5  6  7  8  9 10 11 12 13 14 15 16 17 18 19 20 21 22 23 24 25\n",
       "[26] 26 27 28 29 30"
      ]
     },
     "metadata": {},
     "output_type": "display_data"
    }
   ],
   "source": [
    "m<-c(1:30)\n",
    "m"
   ]
  },
  {
   "cell_type": "code",
   "execution_count": 31,
   "metadata": {},
   "outputs": [
    {
     "data": {
      "text/html": [
       "'integer'"
      ],
      "text/latex": [
       "'integer'"
      ],
      "text/markdown": [
       "'integer'"
      ],
      "text/plain": [
       "[1] \"integer\""
      ]
     },
     "metadata": {},
     "output_type": "display_data"
    }
   ],
   "source": [
    "class(m)"
   ]
  },
  {
   "cell_type": "code",
   "execution_count": 32,
   "metadata": {},
   "outputs": [
    {
     "data": {
      "text/html": [
       "<style>\n",
       ".list-inline {list-style: none; margin:0; padding: 0}\n",
       ".list-inline>li {display: inline-block}\n",
       ".list-inline>li:not(:last-child)::after {content: \"\\00b7\"; padding: 0 .5ex}\n",
       "</style>\n",
       "<ol class=list-inline><li>10</li><li>3</li></ol>\n"
      ],
      "text/latex": [
       "\\begin{enumerate*}\n",
       "\\item 10\n",
       "\\item 3\n",
       "\\end{enumerate*}\n"
      ],
      "text/markdown": [
       "1. 10\n",
       "2. 3\n",
       "\n",
       "\n"
      ],
      "text/plain": [
       "[1] 10  3"
      ]
     },
     "metadata": {},
     "output_type": "display_data"
    }
   ],
   "source": [
    "z<-c(10,3)\n",
    "z"
   ]
  },
  {
   "cell_type": "code",
   "execution_count": 33,
   "metadata": {},
   "outputs": [
    {
     "data": {
      "text/html": [
       "<table>\n",
       "<caption>A matrix: 10 × 3 of type int</caption>\n",
       "<tbody>\n",
       "\t<tr><td> 1</td><td>11</td><td>21</td></tr>\n",
       "\t<tr><td> 2</td><td>12</td><td>22</td></tr>\n",
       "\t<tr><td> 3</td><td>13</td><td>23</td></tr>\n",
       "\t<tr><td> 4</td><td>14</td><td>24</td></tr>\n",
       "\t<tr><td> 5</td><td>15</td><td>25</td></tr>\n",
       "\t<tr><td> 6</td><td>16</td><td>26</td></tr>\n",
       "\t<tr><td> 7</td><td>17</td><td>27</td></tr>\n",
       "\t<tr><td> 8</td><td>18</td><td>28</td></tr>\n",
       "\t<tr><td> 9</td><td>19</td><td>29</td></tr>\n",
       "\t<tr><td>10</td><td>20</td><td>30</td></tr>\n",
       "</tbody>\n",
       "</table>\n"
      ],
      "text/latex": [
       "A matrix: 10 × 3 of type int\n",
       "\\begin{tabular}{lll}\n",
       "\t  1 & 11 & 21\\\\\n",
       "\t  2 & 12 & 22\\\\\n",
       "\t  3 & 13 & 23\\\\\n",
       "\t  4 & 14 & 24\\\\\n",
       "\t  5 & 15 & 25\\\\\n",
       "\t  6 & 16 & 26\\\\\n",
       "\t  7 & 17 & 27\\\\\n",
       "\t  8 & 18 & 28\\\\\n",
       "\t  9 & 19 & 29\\\\\n",
       "\t 10 & 20 & 30\\\\\n",
       "\\end{tabular}\n"
      ],
      "text/markdown": [
       "\n",
       "A matrix: 10 × 3 of type int\n",
       "\n",
       "|  1 | 11 | 21 |\n",
       "|  2 | 12 | 22 |\n",
       "|  3 | 13 | 23 |\n",
       "|  4 | 14 | 24 |\n",
       "|  5 | 15 | 25 |\n",
       "|  6 | 16 | 26 |\n",
       "|  7 | 17 | 27 |\n",
       "|  8 | 18 | 28 |\n",
       "|  9 | 19 | 29 |\n",
       "| 10 | 20 | 30 |\n",
       "\n"
      ],
      "text/plain": [
       "      [,1] [,2] [,3]\n",
       " [1,]  1   11   21  \n",
       " [2,]  2   12   22  \n",
       " [3,]  3   13   23  \n",
       " [4,]  4   14   24  \n",
       " [5,]  5   15   25  \n",
       " [6,]  6   16   26  \n",
       " [7,]  7   17   27  \n",
       " [8,]  8   18   28  \n",
       " [9,]  9   19   29  \n",
       "[10,] 10   20   30  "
      ]
     },
     "metadata": {},
     "output_type": "display_data"
    }
   ],
   "source": [
    "dim(m)<-z\n",
    "m"
   ]
  },
  {
   "cell_type": "code",
   "execution_count": 34,
   "metadata": {},
   "outputs": [
    {
     "data": {
      "text/html": [
       "'matrix'"
      ],
      "text/latex": [
       "'matrix'"
      ],
      "text/markdown": [
       "'matrix'"
      ],
      "text/plain": [
       "[1] \"matrix\""
      ]
     },
     "metadata": {},
     "output_type": "display_data"
    }
   ],
   "source": [
    "class(m)"
   ]
  },
  {
   "cell_type": "code",
   "execution_count": 35,
   "metadata": {
    "collapsed": true,
    "jupyter": {
     "outputs_hidden": true
    }
   },
   "outputs": [
    {
     "data": {
      "text/html": [
       "<style>\n",
       ".list-inline {list-style: none; margin:0; padding: 0}\n",
       ".list-inline>li {display: inline-block}\n",
       ".list-inline>li:not(:last-child)::after {content: \"\\00b7\"; padding: 0 .5ex}\n",
       "</style>\n",
       "<ol class=list-inline><li>1</li><li>2</li><li>3</li><li>4</li><li>5</li><li>6</li><li>7</li><li>8</li><li>9</li><li>10</li><li>11</li><li>12</li><li>13</li><li>14</li><li>15</li><li>16</li><li>17</li><li>18</li><li>19</li><li>20</li><li>21</li><li>22</li><li>23</li><li>24</li><li>25</li><li>26</li><li>27</li><li>28</li><li>29</li><li>30</li><li>31</li><li>32</li><li>33</li><li>34</li><li>35</li><li>36</li><li>37</li><li>38</li><li>39</li><li>40</li><li>41</li><li>42</li><li>43</li><li>44</li><li>45</li><li>46</li><li>47</li><li>48</li><li>49</li><li>50</li></ol>\n"
      ],
      "text/latex": [
       "\\begin{enumerate*}\n",
       "\\item 1\n",
       "\\item 2\n",
       "\\item 3\n",
       "\\item 4\n",
       "\\item 5\n",
       "\\item 6\n",
       "\\item 7\n",
       "\\item 8\n",
       "\\item 9\n",
       "\\item 10\n",
       "\\item 11\n",
       "\\item 12\n",
       "\\item 13\n",
       "\\item 14\n",
       "\\item 15\n",
       "\\item 16\n",
       "\\item 17\n",
       "\\item 18\n",
       "\\item 19\n",
       "\\item 20\n",
       "\\item 21\n",
       "\\item 22\n",
       "\\item 23\n",
       "\\item 24\n",
       "\\item 25\n",
       "\\item 26\n",
       "\\item 27\n",
       "\\item 28\n",
       "\\item 29\n",
       "\\item 30\n",
       "\\item 31\n",
       "\\item 32\n",
       "\\item 33\n",
       "\\item 34\n",
       "\\item 35\n",
       "\\item 36\n",
       "\\item 37\n",
       "\\item 38\n",
       "\\item 39\n",
       "\\item 40\n",
       "\\item 41\n",
       "\\item 42\n",
       "\\item 43\n",
       "\\item 44\n",
       "\\item 45\n",
       "\\item 46\n",
       "\\item 47\n",
       "\\item 48\n",
       "\\item 49\n",
       "\\item 50\n",
       "\\end{enumerate*}\n"
      ],
      "text/markdown": [
       "1. 1\n",
       "2. 2\n",
       "3. 3\n",
       "4. 4\n",
       "5. 5\n",
       "6. 6\n",
       "7. 7\n",
       "8. 8\n",
       "9. 9\n",
       "10. 10\n",
       "11. 11\n",
       "12. 12\n",
       "13. 13\n",
       "14. 14\n",
       "15. 15\n",
       "16. 16\n",
       "17. 17\n",
       "18. 18\n",
       "19. 19\n",
       "20. 20\n",
       "21. 21\n",
       "22. 22\n",
       "23. 23\n",
       "24. 24\n",
       "25. 25\n",
       "26. 26\n",
       "27. 27\n",
       "28. 28\n",
       "29. 29\n",
       "30. 30\n",
       "31. 31\n",
       "32. 32\n",
       "33. 33\n",
       "34. 34\n",
       "35. 35\n",
       "36. 36\n",
       "37. 37\n",
       "38. 38\n",
       "39. 39\n",
       "40. 40\n",
       "41. 41\n",
       "42. 42\n",
       "43. 43\n",
       "44. 44\n",
       "45. 45\n",
       "46. 46\n",
       "47. 47\n",
       "48. 48\n",
       "49. 49\n",
       "50. 50\n",
       "\n",
       "\n"
      ],
      "text/plain": [
       " [1]  1  2  3  4  5  6  7  8  9 10 11 12 13 14 15 16 17 18 19 20 21 22 23 24 25\n",
       "[26] 26 27 28 29 30 31 32 33 34 35 36 37 38 39 40 41 42 43 44 45 46 47 48 49 50"
      ]
     },
     "metadata": {},
     "output_type": "display_data"
    }
   ],
   "source": [
    "y<-c(1:50)\n",
    "y"
   ]
  },
  {
   "cell_type": "code",
   "execution_count": 36,
   "metadata": {},
   "outputs": [
    {
     "data": {
      "text/html": [
       "<table>\n",
       "<caption>A matrix: 5 × 10 of type int</caption>\n",
       "<tbody>\n",
       "\t<tr><td>1</td><td> 6</td><td>11</td><td>16</td><td>21</td><td>26</td><td>31</td><td>36</td><td>41</td><td>46</td></tr>\n",
       "\t<tr><td>2</td><td> 7</td><td>12</td><td>17</td><td>22</td><td>27</td><td>32</td><td>37</td><td>42</td><td>47</td></tr>\n",
       "\t<tr><td>3</td><td> 8</td><td>13</td><td>18</td><td>23</td><td>28</td><td>33</td><td>38</td><td>43</td><td>48</td></tr>\n",
       "\t<tr><td>4</td><td> 9</td><td>14</td><td>19</td><td>24</td><td>29</td><td>34</td><td>39</td><td>44</td><td>49</td></tr>\n",
       "\t<tr><td>5</td><td>10</td><td>15</td><td>20</td><td>25</td><td>30</td><td>35</td><td>40</td><td>45</td><td>50</td></tr>\n",
       "</tbody>\n",
       "</table>\n"
      ],
      "text/latex": [
       "A matrix: 5 × 10 of type int\n",
       "\\begin{tabular}{llllllllll}\n",
       "\t 1 &  6 & 11 & 16 & 21 & 26 & 31 & 36 & 41 & 46\\\\\n",
       "\t 2 &  7 & 12 & 17 & 22 & 27 & 32 & 37 & 42 & 47\\\\\n",
       "\t 3 &  8 & 13 & 18 & 23 & 28 & 33 & 38 & 43 & 48\\\\\n",
       "\t 4 &  9 & 14 & 19 & 24 & 29 & 34 & 39 & 44 & 49\\\\\n",
       "\t 5 & 10 & 15 & 20 & 25 & 30 & 35 & 40 & 45 & 50\\\\\n",
       "\\end{tabular}\n"
      ],
      "text/markdown": [
       "\n",
       "A matrix: 5 × 10 of type int\n",
       "\n",
       "| 1 |  6 | 11 | 16 | 21 | 26 | 31 | 36 | 41 | 46 |\n",
       "| 2 |  7 | 12 | 17 | 22 | 27 | 32 | 37 | 42 | 47 |\n",
       "| 3 |  8 | 13 | 18 | 23 | 28 | 33 | 38 | 43 | 48 |\n",
       "| 4 |  9 | 14 | 19 | 24 | 29 | 34 | 39 | 44 | 49 |\n",
       "| 5 | 10 | 15 | 20 | 25 | 30 | 35 | 40 | 45 | 50 |\n",
       "\n"
      ],
      "text/plain": [
       "     [,1] [,2] [,3] [,4] [,5] [,6] [,7] [,8] [,9] [,10]\n",
       "[1,] 1     6   11   16   21   26   31   36   41   46   \n",
       "[2,] 2     7   12   17   22   27   32   37   42   47   \n",
       "[3,] 3     8   13   18   23   28   33   38   43   48   \n",
       "[4,] 4     9   14   19   24   29   34   39   44   49   \n",
       "[5,] 5    10   15   20   25   30   35   40   45   50   "
      ]
     },
     "metadata": {},
     "output_type": "display_data"
    }
   ],
   "source": [
    "mtr<-matrix(y, 5, 10)\n",
    "mtr"
   ]
  },
  {
   "cell_type": "code",
   "execution_count": 37,
   "metadata": {},
   "outputs": [
    {
     "data": {
      "text/html": [
       "<style>\n",
       ".list-inline {list-style: none; margin:0; padding: 0}\n",
       ".list-inline>li {display: inline-block}\n",
       ".list-inline>li:not(:last-child)::after {content: \"\\00b7\"; padding: 0 .5ex}\n",
       "</style>\n",
       "<ol class=list-inline><li>'a'</li><li>'b'</li><li>'c'</li><li>'d'</li><li>'e'</li></ol>\n"
      ],
      "text/latex": [
       "\\begin{enumerate*}\n",
       "\\item 'a'\n",
       "\\item 'b'\n",
       "\\item 'c'\n",
       "\\item 'd'\n",
       "\\item 'e'\n",
       "\\end{enumerate*}\n"
      ],
      "text/markdown": [
       "1. 'a'\n",
       "2. 'b'\n",
       "3. 'c'\n",
       "4. 'd'\n",
       "5. 'e'\n",
       "\n",
       "\n"
      ],
      "text/plain": [
       "[1] \"a\" \"b\" \"c\" \"d\" \"e\""
      ]
     },
     "metadata": {},
     "output_type": "display_data"
    }
   ],
   "source": [
    "imena<-letters[1:5]\n",
    "imena"
   ]
  },
  {
   "cell_type": "code",
   "execution_count": 39,
   "metadata": {},
   "outputs": [
    {
     "data": {
      "text/html": [
       "<table>\n",
       "<caption>A matrix: 5 × 11 of type chr</caption>\n",
       "<thead>\n",
       "\t<tr><th scope=col>imena</th><th scope=col></th><th scope=col></th><th scope=col></th><th scope=col></th><th scope=col></th><th scope=col></th><th scope=col></th><th scope=col></th><th scope=col></th><th scope=col></th></tr>\n",
       "</thead>\n",
       "<tbody>\n",
       "\t<tr><td>a</td><td>1</td><td>6 </td><td>11</td><td>16</td><td>21</td><td>26</td><td>31</td><td>36</td><td>41</td><td>46</td></tr>\n",
       "\t<tr><td>b</td><td>2</td><td>7 </td><td>12</td><td>17</td><td>22</td><td>27</td><td>32</td><td>37</td><td>42</td><td>47</td></tr>\n",
       "\t<tr><td>c</td><td>3</td><td>8 </td><td>13</td><td>18</td><td>23</td><td>28</td><td>33</td><td>38</td><td>43</td><td>48</td></tr>\n",
       "\t<tr><td>d</td><td>4</td><td>9 </td><td>14</td><td>19</td><td>24</td><td>29</td><td>34</td><td>39</td><td>44</td><td>49</td></tr>\n",
       "\t<tr><td>e</td><td>5</td><td>10</td><td>15</td><td>20</td><td>25</td><td>30</td><td>35</td><td>40</td><td>45</td><td>50</td></tr>\n",
       "</tbody>\n",
       "</table>\n"
      ],
      "text/latex": [
       "A matrix: 5 × 11 of type chr\n",
       "\\begin{tabular}{lllllllllll}\n",
       " imena &  &  &  &  &  &  &  &  &  & \\\\\n",
       "\\hline\n",
       "\t a & 1 & 6  & 11 & 16 & 21 & 26 & 31 & 36 & 41 & 46\\\\\n",
       "\t b & 2 & 7  & 12 & 17 & 22 & 27 & 32 & 37 & 42 & 47\\\\\n",
       "\t c & 3 & 8  & 13 & 18 & 23 & 28 & 33 & 38 & 43 & 48\\\\\n",
       "\t d & 4 & 9  & 14 & 19 & 24 & 29 & 34 & 39 & 44 & 49\\\\\n",
       "\t e & 5 & 10 & 15 & 20 & 25 & 30 & 35 & 40 & 45 & 50\\\\\n",
       "\\end{tabular}\n"
      ],
      "text/markdown": [
       "\n",
       "A matrix: 5 × 11 of type chr\n",
       "\n",
       "| imena | <!----> | <!----> | <!----> | <!----> | <!----> | <!----> | <!----> | <!----> | <!----> | <!----> |\n",
       "|---|---|---|---|---|---|---|---|---|---|---|\n",
       "| a | 1 | 6  | 11 | 16 | 21 | 26 | 31 | 36 | 41 | 46 |\n",
       "| b | 2 | 7  | 12 | 17 | 22 | 27 | 32 | 37 | 42 | 47 |\n",
       "| c | 3 | 8  | 13 | 18 | 23 | 28 | 33 | 38 | 43 | 48 |\n",
       "| d | 4 | 9  | 14 | 19 | 24 | 29 | 34 | 39 | 44 | 49 |\n",
       "| e | 5 | 10 | 15 | 20 | 25 | 30 | 35 | 40 | 45 | 50 |\n",
       "\n"
      ],
      "text/plain": [
       "     imena                             \n",
       "[1,] a     1 6  11 16 21 26 31 36 41 46\n",
       "[2,] b     2 7  12 17 22 27 32 37 42 47\n",
       "[3,] c     3 8  13 18 23 28 33 38 43 48\n",
       "[4,] d     4 9  14 19 24 29 34 39 44 49\n",
       "[5,] e     5 10 15 20 25 30 35 40 45 50"
      ]
     },
     "metadata": {},
     "output_type": "display_data"
    }
   ],
   "source": [
    "mt2<-cbind(imena, mtr)   #есть и rbind\n",
    "mt2"
   ]
  },
  {
   "cell_type": "code",
   "execution_count": 43,
   "metadata": {},
   "outputs": [
    {
     "data": {
      "text/html": [
       "<table>\n",
       "<caption>A data.frame: 5 × 11</caption>\n",
       "<thead>\n",
       "\t<tr><th scope=col>imena</th><th scope=col>V2</th><th scope=col>V3</th><th scope=col>V4</th><th scope=col>V5</th><th scope=col>V6</th><th scope=col>V7</th><th scope=col>V8</th><th scope=col>V9</th><th scope=col>V10</th><th scope=col>V11</th></tr>\n",
       "\t<tr><th scope=col>&lt;fct&gt;</th><th scope=col>&lt;fct&gt;</th><th scope=col>&lt;fct&gt;</th><th scope=col>&lt;fct&gt;</th><th scope=col>&lt;fct&gt;</th><th scope=col>&lt;fct&gt;</th><th scope=col>&lt;fct&gt;</th><th scope=col>&lt;fct&gt;</th><th scope=col>&lt;fct&gt;</th><th scope=col>&lt;fct&gt;</th><th scope=col>&lt;fct&gt;</th></tr>\n",
       "</thead>\n",
       "<tbody>\n",
       "\t<tr><td>a</td><td>1</td><td>6 </td><td>11</td><td>16</td><td>21</td><td>26</td><td>31</td><td>36</td><td>41</td><td>46</td></tr>\n",
       "\t<tr><td>b</td><td>2</td><td>7 </td><td>12</td><td>17</td><td>22</td><td>27</td><td>32</td><td>37</td><td>42</td><td>47</td></tr>\n",
       "\t<tr><td>c</td><td>3</td><td>8 </td><td>13</td><td>18</td><td>23</td><td>28</td><td>33</td><td>38</td><td>43</td><td>48</td></tr>\n",
       "\t<tr><td>d</td><td>4</td><td>9 </td><td>14</td><td>19</td><td>24</td><td>29</td><td>34</td><td>39</td><td>44</td><td>49</td></tr>\n",
       "\t<tr><td>e</td><td>5</td><td>10</td><td>15</td><td>20</td><td>25</td><td>30</td><td>35</td><td>40</td><td>45</td><td>50</td></tr>\n",
       "</tbody>\n",
       "</table>\n"
      ],
      "text/latex": [
       "A data.frame: 5 × 11\n",
       "\\begin{tabular}{lllllllllll}\n",
       " imena & V2 & V3 & V4 & V5 & V6 & V7 & V8 & V9 & V10 & V11\\\\\n",
       " <fct> & <fct> & <fct> & <fct> & <fct> & <fct> & <fct> & <fct> & <fct> & <fct> & <fct>\\\\\n",
       "\\hline\n",
       "\t a & 1 & 6  & 11 & 16 & 21 & 26 & 31 & 36 & 41 & 46\\\\\n",
       "\t b & 2 & 7  & 12 & 17 & 22 & 27 & 32 & 37 & 42 & 47\\\\\n",
       "\t c & 3 & 8  & 13 & 18 & 23 & 28 & 33 & 38 & 43 & 48\\\\\n",
       "\t d & 4 & 9  & 14 & 19 & 24 & 29 & 34 & 39 & 44 & 49\\\\\n",
       "\t e & 5 & 10 & 15 & 20 & 25 & 30 & 35 & 40 & 45 & 50\\\\\n",
       "\\end{tabular}\n"
      ],
      "text/markdown": [
       "\n",
       "A data.frame: 5 × 11\n",
       "\n",
       "| imena &lt;fct&gt; | V2 &lt;fct&gt; | V3 &lt;fct&gt; | V4 &lt;fct&gt; | V5 &lt;fct&gt; | V6 &lt;fct&gt; | V7 &lt;fct&gt; | V8 &lt;fct&gt; | V9 &lt;fct&gt; | V10 &lt;fct&gt; | V11 &lt;fct&gt; |\n",
       "|---|---|---|---|---|---|---|---|---|---|---|\n",
       "| a | 1 | 6  | 11 | 16 | 21 | 26 | 31 | 36 | 41 | 46 |\n",
       "| b | 2 | 7  | 12 | 17 | 22 | 27 | 32 | 37 | 42 | 47 |\n",
       "| c | 3 | 8  | 13 | 18 | 23 | 28 | 33 | 38 | 43 | 48 |\n",
       "| d | 4 | 9  | 14 | 19 | 24 | 29 | 34 | 39 | 44 | 49 |\n",
       "| e | 5 | 10 | 15 | 20 | 25 | 30 | 35 | 40 | 45 | 50 |\n",
       "\n"
      ],
      "text/plain": [
       "  imena V2 V3 V4 V5 V6 V7 V8 V9 V10 V11\n",
       "1 a     1  6  11 16 21 26 31 36 41  46 \n",
       "2 b     2  7  12 17 22 27 32 37 42  47 \n",
       "3 c     3  8  13 18 23 28 33 38 43  48 \n",
       "4 d     4  9  14 19 24 29 34 39 44  49 \n",
       "5 e     5  10 15 20 25 30 35 40 45  50 "
      ]
     },
     "metadata": {},
     "output_type": "display_data"
    }
   ],
   "source": [
    "data.frame(mt2)"
   ]
  },
  {
   "cell_type": "code",
   "execution_count": 44,
   "metadata": {},
   "outputs": [
    {
     "data": {
      "text/html": [
       "'data.frame'"
      ],
      "text/latex": [
       "'data.frame'"
      ],
      "text/markdown": [
       "'data.frame'"
      ],
      "text/plain": [
       "[1] \"data.frame\""
      ]
     },
     "metadata": {},
     "output_type": "display_data"
    }
   ],
   "source": [
    "class(data.frame(mt2))"
   ]
  },
  {
   "cell_type": "code",
   "execution_count": 45,
   "metadata": {},
   "outputs": [
    {
     "data": {
      "text/html": [
       "'data.frame'"
      ],
      "text/latex": [
       "'data.frame'"
      ],
      "text/markdown": [
       "'data.frame'"
      ],
      "text/plain": [
       "[1] \"data.frame\""
      ]
     },
     "metadata": {},
     "output_type": "display_data"
    }
   ],
   "source": [
    "class(iris)"
   ]
  },
  {
   "cell_type": "code",
   "execution_count": 46,
   "metadata": {},
   "outputs": [
    {
     "data": {
      "text/html": [
       "<style>\n",
       ".list-inline {list-style: none; margin:0; padding: 0}\n",
       ".list-inline>li {display: inline-block}\n",
       ".list-inline>li:not(:last-child)::after {content: \"\\00b7\"; padding: 0 .5ex}\n",
       "</style>\n",
       "<ol class=list-inline><li>'A'</li><li>'B'</li><li>'C'</li><li>'D'</li><li>'E'</li><li>'F'</li><li>'G'</li><li>'H'</li><li>'I'</li><li>'J'</li></ol>\n"
      ],
      "text/latex": [
       "\\begin{enumerate*}\n",
       "\\item 'A'\n",
       "\\item 'B'\n",
       "\\item 'C'\n",
       "\\item 'D'\n",
       "\\item 'E'\n",
       "\\item 'F'\n",
       "\\item 'G'\n",
       "\\item 'H'\n",
       "\\item 'I'\n",
       "\\item 'J'\n",
       "\\end{enumerate*}\n"
      ],
      "text/markdown": [
       "1. 'A'\n",
       "2. 'B'\n",
       "3. 'C'\n",
       "4. 'D'\n",
       "5. 'E'\n",
       "6. 'F'\n",
       "7. 'G'\n",
       "8. 'H'\n",
       "9. 'I'\n",
       "10. 'J'\n",
       "\n",
       "\n"
      ],
      "text/plain": [
       " [1] \"A\" \"B\" \"C\" \"D\" \"E\" \"F\" \"G\" \"H\" \"I\" \"J\""
      ]
     },
     "metadata": {},
     "output_type": "display_data"
    }
   ],
   "source": [
    "variableN<-LETTERS[1:10]\n",
    "variableN"
   ]
  },
  {
   "cell_type": "code",
   "execution_count": 47,
   "metadata": {},
   "outputs": [],
   "source": [
    "dat<-data.frame(mt2)"
   ]
  },
  {
   "cell_type": "code",
   "execution_count": 49,
   "metadata": {},
   "outputs": [
    {
     "data": {
      "text/html": [
       "<table>\n",
       "<caption>A data.frame: 5 × 11</caption>\n",
       "<thead>\n",
       "\t<tr><th scope=col>A</th><th scope=col>B</th><th scope=col>C</th><th scope=col>D</th><th scope=col>E</th><th scope=col>F</th><th scope=col>G</th><th scope=col>H</th><th scope=col>I</th><th scope=col>J</th><th scope=col>NA</th></tr>\n",
       "\t<tr><th scope=col>&lt;fct&gt;</th><th scope=col>&lt;fct&gt;</th><th scope=col>&lt;fct&gt;</th><th scope=col>&lt;fct&gt;</th><th scope=col>&lt;fct&gt;</th><th scope=col>&lt;fct&gt;</th><th scope=col>&lt;fct&gt;</th><th scope=col>&lt;fct&gt;</th><th scope=col>&lt;fct&gt;</th><th scope=col>&lt;fct&gt;</th><th scope=col>&lt;fct&gt;</th></tr>\n",
       "</thead>\n",
       "<tbody>\n",
       "\t<tr><td>a</td><td>1</td><td>6 </td><td>11</td><td>16</td><td>21</td><td>26</td><td>31</td><td>36</td><td>41</td><td>46</td></tr>\n",
       "\t<tr><td>b</td><td>2</td><td>7 </td><td>12</td><td>17</td><td>22</td><td>27</td><td>32</td><td>37</td><td>42</td><td>47</td></tr>\n",
       "\t<tr><td>c</td><td>3</td><td>8 </td><td>13</td><td>18</td><td>23</td><td>28</td><td>33</td><td>38</td><td>43</td><td>48</td></tr>\n",
       "\t<tr><td>d</td><td>4</td><td>9 </td><td>14</td><td>19</td><td>24</td><td>29</td><td>34</td><td>39</td><td>44</td><td>49</td></tr>\n",
       "\t<tr><td>e</td><td>5</td><td>10</td><td>15</td><td>20</td><td>25</td><td>30</td><td>35</td><td>40</td><td>45</td><td>50</td></tr>\n",
       "</tbody>\n",
       "</table>\n"
      ],
      "text/latex": [
       "A data.frame: 5 × 11\n",
       "\\begin{tabular}{lllllllllll}\n",
       " A & B & C & D & E & F & G & H & I & J & NA\\\\\n",
       " <fct> & <fct> & <fct> & <fct> & <fct> & <fct> & <fct> & <fct> & <fct> & <fct> & <fct>\\\\\n",
       "\\hline\n",
       "\t a & 1 & 6  & 11 & 16 & 21 & 26 & 31 & 36 & 41 & 46\\\\\n",
       "\t b & 2 & 7  & 12 & 17 & 22 & 27 & 32 & 37 & 42 & 47\\\\\n",
       "\t c & 3 & 8  & 13 & 18 & 23 & 28 & 33 & 38 & 43 & 48\\\\\n",
       "\t d & 4 & 9  & 14 & 19 & 24 & 29 & 34 & 39 & 44 & 49\\\\\n",
       "\t e & 5 & 10 & 15 & 20 & 25 & 30 & 35 & 40 & 45 & 50\\\\\n",
       "\\end{tabular}\n"
      ],
      "text/markdown": [
       "\n",
       "A data.frame: 5 × 11\n",
       "\n",
       "| A &lt;fct&gt; | B &lt;fct&gt; | C &lt;fct&gt; | D &lt;fct&gt; | E &lt;fct&gt; | F &lt;fct&gt; | G &lt;fct&gt; | H &lt;fct&gt; | I &lt;fct&gt; | J &lt;fct&gt; | NA &lt;fct&gt; |\n",
       "|---|---|---|---|---|---|---|---|---|---|---|\n",
       "| a | 1 | 6  | 11 | 16 | 21 | 26 | 31 | 36 | 41 | 46 |\n",
       "| b | 2 | 7  | 12 | 17 | 22 | 27 | 32 | 37 | 42 | 47 |\n",
       "| c | 3 | 8  | 13 | 18 | 23 | 28 | 33 | 38 | 43 | 48 |\n",
       "| d | 4 | 9  | 14 | 19 | 24 | 29 | 34 | 39 | 44 | 49 |\n",
       "| e | 5 | 10 | 15 | 20 | 25 | 30 | 35 | 40 | 45 | 50 |\n",
       "\n"
      ],
      "text/plain": [
       "  A B C  D  E  F  G  H  I  J  <NA>\n",
       "1 a 1 6  11 16 21 26 31 36 41 46  \n",
       "2 b 2 7  12 17 22 27 32 37 42 47  \n",
       "3 c 3 8  13 18 23 28 33 38 43 48  \n",
       "4 d 4 9  14 19 24 29 34 39 44 49  \n",
       "5 e 5 10 15 20 25 30 35 40 45 50  "
      ]
     },
     "metadata": {},
     "output_type": "display_data"
    }
   ],
   "source": [
    "colnames(dat)<-variableN\n",
    "dat"
   ]
  },
  {
   "cell_type": "code",
   "execution_count": 50,
   "metadata": {},
   "outputs": [
    {
     "data": {
      "text/html": [
       "<style>\n",
       ".list-inline {list-style: none; margin:0; padding: 0}\n",
       ".list-inline>li {display: inline-block}\n",
       ".list-inline>li:not(:last-child)::after {content: \"\\00b7\"; padding: 0 .5ex}\n",
       "</style>\n",
       "<ol class=list-inline><li>'imena'</li><li>'A'</li><li>'B'</li><li>'C'</li><li>'D'</li><li>'E'</li><li>'F'</li><li>'G'</li><li>'H'</li><li>'I'</li><li>'J'</li></ol>\n"
      ],
      "text/latex": [
       "\\begin{enumerate*}\n",
       "\\item 'imena'\n",
       "\\item 'A'\n",
       "\\item 'B'\n",
       "\\item 'C'\n",
       "\\item 'D'\n",
       "\\item 'E'\n",
       "\\item 'F'\n",
       "\\item 'G'\n",
       "\\item 'H'\n",
       "\\item 'I'\n",
       "\\item 'J'\n",
       "\\end{enumerate*}\n"
      ],
      "text/markdown": [
       "1. 'imena'\n",
       "2. 'A'\n",
       "3. 'B'\n",
       "4. 'C'\n",
       "5. 'D'\n",
       "6. 'E'\n",
       "7. 'F'\n",
       "8. 'G'\n",
       "9. 'H'\n",
       "10. 'I'\n",
       "11. 'J'\n",
       "\n",
       "\n"
      ],
      "text/plain": [
       " [1] \"imena\" \"A\"     \"B\"     \"C\"     \"D\"     \"E\"     \"F\"     \"G\"     \"H\"    \n",
       "[10] \"I\"     \"J\"    "
      ]
     },
     "metadata": {},
     "output_type": "display_data"
    }
   ],
   "source": [
    "variableN<-c(\"imena\", LETTERS[1:10])\n",
    "variableN"
   ]
  },
  {
   "cell_type": "code",
   "execution_count": 51,
   "metadata": {},
   "outputs": [
    {
     "data": {
      "text/html": [
       "<table>\n",
       "<caption>A data.frame: 5 × 11</caption>\n",
       "<thead>\n",
       "\t<tr><th scope=col>imena</th><th scope=col>A</th><th scope=col>B</th><th scope=col>C</th><th scope=col>D</th><th scope=col>E</th><th scope=col>F</th><th scope=col>G</th><th scope=col>H</th><th scope=col>I</th><th scope=col>J</th></tr>\n",
       "\t<tr><th scope=col>&lt;fct&gt;</th><th scope=col>&lt;fct&gt;</th><th scope=col>&lt;fct&gt;</th><th scope=col>&lt;fct&gt;</th><th scope=col>&lt;fct&gt;</th><th scope=col>&lt;fct&gt;</th><th scope=col>&lt;fct&gt;</th><th scope=col>&lt;fct&gt;</th><th scope=col>&lt;fct&gt;</th><th scope=col>&lt;fct&gt;</th><th scope=col>&lt;fct&gt;</th></tr>\n",
       "</thead>\n",
       "<tbody>\n",
       "\t<tr><td>a</td><td>1</td><td>6 </td><td>11</td><td>16</td><td>21</td><td>26</td><td>31</td><td>36</td><td>41</td><td>46</td></tr>\n",
       "\t<tr><td>b</td><td>2</td><td>7 </td><td>12</td><td>17</td><td>22</td><td>27</td><td>32</td><td>37</td><td>42</td><td>47</td></tr>\n",
       "\t<tr><td>c</td><td>3</td><td>8 </td><td>13</td><td>18</td><td>23</td><td>28</td><td>33</td><td>38</td><td>43</td><td>48</td></tr>\n",
       "\t<tr><td>d</td><td>4</td><td>9 </td><td>14</td><td>19</td><td>24</td><td>29</td><td>34</td><td>39</td><td>44</td><td>49</td></tr>\n",
       "\t<tr><td>e</td><td>5</td><td>10</td><td>15</td><td>20</td><td>25</td><td>30</td><td>35</td><td>40</td><td>45</td><td>50</td></tr>\n",
       "</tbody>\n",
       "</table>\n"
      ],
      "text/latex": [
       "A data.frame: 5 × 11\n",
       "\\begin{tabular}{lllllllllll}\n",
       " imena & A & B & C & D & E & F & G & H & I & J\\\\\n",
       " <fct> & <fct> & <fct> & <fct> & <fct> & <fct> & <fct> & <fct> & <fct> & <fct> & <fct>\\\\\n",
       "\\hline\n",
       "\t a & 1 & 6  & 11 & 16 & 21 & 26 & 31 & 36 & 41 & 46\\\\\n",
       "\t b & 2 & 7  & 12 & 17 & 22 & 27 & 32 & 37 & 42 & 47\\\\\n",
       "\t c & 3 & 8  & 13 & 18 & 23 & 28 & 33 & 38 & 43 & 48\\\\\n",
       "\t d & 4 & 9  & 14 & 19 & 24 & 29 & 34 & 39 & 44 & 49\\\\\n",
       "\t e & 5 & 10 & 15 & 20 & 25 & 30 & 35 & 40 & 45 & 50\\\\\n",
       "\\end{tabular}\n"
      ],
      "text/markdown": [
       "\n",
       "A data.frame: 5 × 11\n",
       "\n",
       "| imena &lt;fct&gt; | A &lt;fct&gt; | B &lt;fct&gt; | C &lt;fct&gt; | D &lt;fct&gt; | E &lt;fct&gt; | F &lt;fct&gt; | G &lt;fct&gt; | H &lt;fct&gt; | I &lt;fct&gt; | J &lt;fct&gt; |\n",
       "|---|---|---|---|---|---|---|---|---|---|---|\n",
       "| a | 1 | 6  | 11 | 16 | 21 | 26 | 31 | 36 | 41 | 46 |\n",
       "| b | 2 | 7  | 12 | 17 | 22 | 27 | 32 | 37 | 42 | 47 |\n",
       "| c | 3 | 8  | 13 | 18 | 23 | 28 | 33 | 38 | 43 | 48 |\n",
       "| d | 4 | 9  | 14 | 19 | 24 | 29 | 34 | 39 | 44 | 49 |\n",
       "| e | 5 | 10 | 15 | 20 | 25 | 30 | 35 | 40 | 45 | 50 |\n",
       "\n"
      ],
      "text/plain": [
       "  imena A B  C  D  E  F  G  H  I  J \n",
       "1 a     1 6  11 16 21 26 31 36 41 46\n",
       "2 b     2 7  12 17 22 27 32 37 42 47\n",
       "3 c     3 8  13 18 23 28 33 38 43 48\n",
       "4 d     4 9  14 19 24 29 34 39 44 49\n",
       "5 e     5 10 15 20 25 30 35 40 45 50"
      ]
     },
     "metadata": {},
     "output_type": "display_data"
    }
   ],
   "source": [
    "colnames(dat)<-variableN\n",
    "dat"
   ]
  },
  {
   "cell_type": "code",
   "execution_count": 52,
   "metadata": {},
   "outputs": [
    {
     "data": {
      "text/html": [
       "'data.frame'"
      ],
      "text/latex": [
       "'data.frame'"
      ],
      "text/markdown": [
       "'data.frame'"
      ],
      "text/plain": [
       "[1] \"data.frame\""
      ]
     },
     "metadata": {},
     "output_type": "display_data"
    }
   ],
   "source": [
    "class(dat)"
   ]
  },
  {
   "cell_type": "code",
   "execution_count": 6,
   "metadata": {
    "collapsed": true,
    "jupyter": {
     "outputs_hidden": true
    }
   },
   "outputs": [
    {
     "data": {
      "text/html": [
       "\n",
       "<table width=\"100%\" summary=\"page for diag {base}\"><tr><td>diag {base}</td><td style=\"text-align: right;\">R Documentation</td></tr></table>\n",
       "\n",
       "<h2>Matrix Diagonals</h2>\n",
       "\n",
       "<h3>Description</h3>\n",
       "\n",
       "<p>Extract or replace the diagonal of a matrix,\n",
       "or construct a diagonal matrix.\n",
       "</p>\n",
       "\n",
       "\n",
       "<h3>Usage</h3>\n",
       "\n",
       "<pre>\n",
       "diag(x = 1, nrow, ncol, names = TRUE)\n",
       "diag(x) &lt;- value\n",
       "</pre>\n",
       "\n",
       "\n",
       "<h3>Arguments</h3>\n",
       "\n",
       "<table summary=\"R argblock\">\n",
       "<tr valign=\"top\"><td><code>x</code></td>\n",
       "<td>\n",
       "<p>a matrix, vector or 1D <code>array</code>, or missing.</p>\n",
       "</td></tr>\n",
       "<tr valign=\"top\"><td><code>nrow, ncol</code></td>\n",
       "<td>\n",
       "<p>optional dimensions for the result when <code>x</code> is\n",
       "not a matrix.</p>\n",
       "</td></tr>\n",
       "<tr valign=\"top\"><td><code>names</code></td>\n",
       "<td>\n",
       "<p>(when <code>x</code> is a matrix) logical indicating if the\n",
       "resulting vector, the diagonal of <code>x</code>, should inherit\n",
       "<code>names</code> from <code>dimnames(x)</code> if available.</p>\n",
       "</td></tr>\n",
       "<tr valign=\"top\"><td><code>value</code></td>\n",
       "<td>\n",
       "<p>either a single value or a vector of length equal to that\n",
       "of the current diagonal.  Should be of a mode which can be coerced\n",
       "to that of <code>x</code>.</p>\n",
       "</td></tr>\n",
       "</table>\n",
       "\n",
       "\n",
       "<h3>Details</h3>\n",
       "\n",
       "<p><code>diag</code> has four distinct usages:\n",
       "</p>\n",
       "\n",
       "<ol>\n",
       "<li> <p><code>x</code> is a matrix, when it extracts the diagonal.\n",
       "</p>\n",
       "</li>\n",
       "<li> <p><code>x</code> is missing and <code>nrow</code> is specified, it returns\n",
       "an identity matrix.\n",
       "</p>\n",
       "</li>\n",
       "<li> <p><code>x</code> is a scalar (length-one vector) and the only\n",
       "argument, it returns a square identity matrix of size given by the scalar.\n",
       "</p>\n",
       "</li>\n",
       "<li> <p><code>x</code> is a &lsquo;numeric&rsquo; (<code>complex</code>,\n",
       "<code>numeric</code>, <code>integer</code>, <code>logical</code>, or\n",
       "<code>raw</code>) vector, either of length at least 2 or there\n",
       "were further arguments.  This returns a matrix with the given\n",
       "diagonal and zero off-diagonal entries.\n",
       "</p>\n",
       "</li></ol>\n",
       "\n",
       "<p>It is an error to specify <code>nrow</code> or <code>ncol</code> in the first case.\n",
       "</p>\n",
       "\n",
       "\n",
       "<h3>Value</h3>\n",
       "\n",
       "<p>If <code>x</code> is a matrix then <code>diag(x)</code> returns the diagonal of\n",
       "<code>x</code>.  The resulting vector will have <code>names</code> if the\n",
       "matrix <code>x</code> has matching column and rownames.\n",
       "</p>\n",
       "<p>The replacement form sets the diagonal of the matrix <code>x</code> to the\n",
       "given value(s).\n",
       "</p>\n",
       "<p>In all other cases the value is a diagonal matrix with <code>nrow</code>\n",
       "rows and <code>ncol</code> columns (if <code>ncol</code> is not given the matrix\n",
       "is square).  Here <code>nrow</code> is taken from the argument if specified,\n",
       "otherwise inferred from <code>x</code>: if that is a vector (or 1D array) of\n",
       "length two or more, then its length is the number of rows, but if it\n",
       "is of length one and neither <code>nrow</code> nor <code>ncol</code> is specified,\n",
       "<code>nrow = as.integer(x)</code>.\n",
       "</p>\n",
       "<p>When a diagonal matrix is returned, the diagonal elements are one\n",
       "except in the fourth case, when <code>x</code> gives the diagonal elements:\n",
       "it will be recycled or truncated as needed, but fractional recycling\n",
       "and truncation will give a warning.\n",
       "</p>\n",
       "\n",
       "\n",
       "<h3>Note</h3>\n",
       "\n",
       "<p>Using <code>diag(x)</code> can have unexpected effects if <code>x</code> is a\n",
       "vector that could be of length one.  Use <code>diag(x, nrow =\n",
       "    length(x))</code> for consistent behaviour.\n",
       "</p>\n",
       "\n",
       "\n",
       "<h3>References</h3>\n",
       "\n",
       "<p>Becker, R. A., Chambers, J. M. and Wilks, A. R. (1988)\n",
       "<em>The New S Language</em>.\n",
       "Wadsworth &amp; Brooks/Cole.\n",
       "</p>\n",
       "\n",
       "\n",
       "<h3>See Also</h3>\n",
       "\n",
       "<p><code>upper.tri</code>, <code>lower.tri</code>, <code>matrix</code>.\n",
       "</p>\n",
       "\n",
       "\n",
       "<h3>Examples</h3>\n",
       "\n",
       "<pre>\n",
       "dim(diag(3))\n",
       "diag(10, 3, 4) # guess what?\n",
       "all(diag(1:3) == {m &lt;- matrix(0,3,3); diag(m) &lt;- 1:3; m})\n",
       "\n",
       "## other \"numeric\"-like diagonal matrices :\n",
       "diag(c(1i,2i))    # complex\n",
       "diag(TRUE, 3)     # logical\n",
       "diag(as.raw(1:3)) # raw\n",
       "(D2 &lt;- diag(2:1, 4)); typeof(D2) # \"integer\"\n",
       "\n",
       "require(stats)\n",
       "## diag(&lt;var-cov-matrix&gt;) = variances\n",
       "diag(var(M &lt;- cbind(X = 1:5, Y = rnorm(5))))\n",
       "#-&gt; vector with names \"X\" and \"Y\"\n",
       "rownames(M) &lt;- c(colnames(M), rep(\"\", 3))\n",
       "M; diag(M) #  named as well\n",
       "diag(M, names = FALSE) # w/o names\n",
       "\n",
       "</pre>\n",
       "\n",
       "<hr /><div style=\"text-align: center;\">[Package <em>base</em> version 3.6.1 ]</div>"
      ],
      "text/latex": [
       "\\inputencoding{utf8}\n",
       "\\HeaderA{diag}{Matrix Diagonals}{diag}\n",
       "\\aliasA{diag<\\Rdash{}}{diag}{diag<.Rdash.}\n",
       "\\keyword{array}{diag}\n",
       "%\n",
       "\\begin{Description}\\relax\n",
       "Extract or replace the diagonal of a matrix,\n",
       "or construct a diagonal matrix.\n",
       "\\end{Description}\n",
       "%\n",
       "\\begin{Usage}\n",
       "\\begin{verbatim}\n",
       "diag(x = 1, nrow, ncol, names = TRUE)\n",
       "diag(x) <- value\n",
       "\\end{verbatim}\n",
       "\\end{Usage}\n",
       "%\n",
       "\\begin{Arguments}\n",
       "\\begin{ldescription}\n",
       "\\item[\\code{x}] a matrix, vector or 1D \\code{\\LinkA{array}{array}}, or missing.\n",
       "\\item[\\code{nrow, ncol}] optional dimensions for the result when \\code{x} is\n",
       "not a matrix.\n",
       "\\item[\\code{names}] (when \\code{x} is a matrix) logical indicating if the\n",
       "resulting vector, the diagonal of \\code{x}, should inherit\n",
       "\\code{\\LinkA{names}{names}} from \\code{dimnames(x)} if available.\n",
       "\\item[\\code{value}] either a single value or a vector of length equal to that\n",
       "of the current diagonal.  Should be of a mode which can be coerced\n",
       "to that of \\code{x}.\n",
       "\\end{ldescription}\n",
       "\\end{Arguments}\n",
       "%\n",
       "\\begin{Details}\\relax\n",
       "\\code{diag} has four distinct usages:\n",
       "\\begin{enumerate}\n",
       "\n",
       "\\item{} \\code{x} is a matrix, when it extracts the diagonal.\n",
       "\\item{} \\code{x} is missing and \\code{nrow} is specified, it returns\n",
       "an identity matrix.\n",
       "\\item{} \\code{x} is a scalar (length-one vector) and the only\n",
       "argument, it returns a square identity matrix of size given by the scalar.\n",
       "\\item{} \\code{x} is a `numeric' (\\code{\\LinkA{complex}{complex}},\n",
       "\\code{numeric}, \\code{integer}, \\code{\\LinkA{logical}{logical}}, or\n",
       "\\code{\\LinkA{raw}{raw}}) vector, either of length at least 2 or there\n",
       "were further arguments.  This returns a matrix with the given\n",
       "diagonal and zero off-diagonal entries.\n",
       "\n",
       "\\end{enumerate}\n",
       "\n",
       "It is an error to specify \\code{nrow} or \\code{ncol} in the first case.\n",
       "\\end{Details}\n",
       "%\n",
       "\\begin{Value}\n",
       "If \\code{x} is a matrix then \\code{diag(x)} returns the diagonal of\n",
       "\\code{x}.  The resulting vector will have \\code{\\LinkA{names}{names}} if the\n",
       "matrix \\code{x} has matching column and rownames.\n",
       "\n",
       "The replacement form sets the diagonal of the matrix \\code{x} to the\n",
       "given value(s).\n",
       "\n",
       "In all other cases the value is a diagonal matrix with \\code{nrow}\n",
       "rows and \\code{ncol} columns (if \\code{ncol} is not given the matrix\n",
       "is square).  Here \\code{nrow} is taken from the argument if specified,\n",
       "otherwise inferred from \\code{x}: if that is a vector (or 1D array) of\n",
       "length two or more, then its length is the number of rows, but if it\n",
       "is of length one and neither \\code{nrow} nor \\code{ncol} is specified,\n",
       "\\code{nrow = as.integer(x)}.\n",
       "\n",
       "When a diagonal matrix is returned, the diagonal elements are one\n",
       "except in the fourth case, when \\code{x} gives the diagonal elements:\n",
       "it will be recycled or truncated as needed, but fractional recycling\n",
       "and truncation will give a warning.\n",
       "\\end{Value}\n",
       "%\n",
       "\\begin{Note}\\relax\n",
       "Using \\code{diag(x)} can have unexpected effects if \\code{x} is a\n",
       "vector that could be of length one.  Use \\code{diag(x, nrow =\n",
       "    length(x))} for consistent behaviour.\n",
       "\\end{Note}\n",
       "%\n",
       "\\begin{References}\\relax\n",
       "Becker, R. A., Chambers, J. M. and Wilks, A. R. (1988)\n",
       "\\emph{The New S Language}.\n",
       "Wadsworth \\& Brooks/Cole.\n",
       "\\end{References}\n",
       "%\n",
       "\\begin{SeeAlso}\\relax\n",
       "\\code{\\LinkA{upper.tri}{upper.tri}}, \\code{\\LinkA{lower.tri}{lower.tri}}, \\code{\\LinkA{matrix}{matrix}}.\n",
       "\\end{SeeAlso}\n",
       "%\n",
       "\\begin{Examples}\n",
       "\\begin{ExampleCode}\n",
       "dim(diag(3))\n",
       "diag(10, 3, 4) # guess what?\n",
       "all(diag(1:3) == {m <- matrix(0,3,3); diag(m) <- 1:3; m})\n",
       "\n",
       "## other \"numeric\"-like diagonal matrices :\n",
       "diag(c(1i,2i))    # complex\n",
       "diag(TRUE, 3)     # logical\n",
       "diag(as.raw(1:3)) # raw\n",
       "(D2 <- diag(2:1, 4)); typeof(D2) # \"integer\"\n",
       "\n",
       "require(stats)\n",
       "## diag(<var-cov-matrix>) = variances\n",
       "diag(var(M <- cbind(X = 1:5, Y = rnorm(5))))\n",
       "#-> vector with names \"X\" and \"Y\"\n",
       "rownames(M) <- c(colnames(M), rep(\"\", 3))\n",
       "M; diag(M) #  named as well\n",
       "diag(M, names = FALSE) # w/o names\n",
       "\n",
       "\\end{ExampleCode}\n",
       "\\end{Examples}"
      ],
      "text/plain": [
       "diag                   package:base                    R Documentation\n",
       "\n",
       "_\bM_\ba_\bt_\br_\bi_\bx _\bD_\bi_\ba_\bg_\bo_\bn_\ba_\bl_\bs\n",
       "\n",
       "_\bD_\be_\bs_\bc_\br_\bi_\bp_\bt_\bi_\bo_\bn:\n",
       "\n",
       "     Extract or replace the diagonal of a matrix, or construct a\n",
       "     diagonal matrix.\n",
       "\n",
       "_\bU_\bs_\ba_\bg_\be:\n",
       "\n",
       "     diag(x = 1, nrow, ncol, names = TRUE)\n",
       "     diag(x) <- value\n",
       "     \n",
       "_\bA_\br_\bg_\bu_\bm_\be_\bn_\bt_\bs:\n",
       "\n",
       "       x: a matrix, vector or 1D 'array', or missing.\n",
       "\n",
       "nrow, ncol: optional dimensions for the result when 'x' is not a\n",
       "          matrix.\n",
       "\n",
       "   names: (when 'x' is a matrix) logical indicating if the resulting\n",
       "          vector, the diagonal of 'x', should inherit 'names' from\n",
       "          'dimnames(x)' if available.\n",
       "\n",
       "   value: either a single value or a vector of length equal to that of\n",
       "          the current diagonal.  Should be of a mode which can be\n",
       "          coerced to that of 'x'.\n",
       "\n",
       "_\bD_\be_\bt_\ba_\bi_\bl_\bs:\n",
       "\n",
       "     'diag' has four distinct usages:\n",
       "\n",
       "       1. 'x' is a matrix, when it extracts the diagonal.\n",
       "\n",
       "       2. 'x' is missing and 'nrow' is specified, it returns an\n",
       "          identity matrix.\n",
       "\n",
       "       3. 'x' is a scalar (length-one vector) and the only argument, it\n",
       "          returns a square identity matrix of size given by the scalar.\n",
       "\n",
       "       4. 'x' is a 'numeric' ('complex', 'numeric', 'integer',\n",
       "          'logical', or 'raw') vector, either of length at least 2 or\n",
       "          there were further arguments.  This returns a matrix with the\n",
       "          given diagonal and zero off-diagonal entries.\n",
       "\n",
       "     It is an error to specify 'nrow' or 'ncol' in the first case.\n",
       "\n",
       "_\bV_\ba_\bl_\bu_\be:\n",
       "\n",
       "     If 'x' is a matrix then 'diag(x)' returns the diagonal of 'x'.\n",
       "     The resulting vector will have 'names' if the matrix 'x' has\n",
       "     matching column and rownames.\n",
       "\n",
       "     The replacement form sets the diagonal of the matrix 'x' to the\n",
       "     given value(s).\n",
       "\n",
       "     In all other cases the value is a diagonal matrix with 'nrow' rows\n",
       "     and 'ncol' columns (if 'ncol' is not given the matrix is square).\n",
       "     Here 'nrow' is taken from the argument if specified, otherwise\n",
       "     inferred from 'x': if that is a vector (or 1D array) of length two\n",
       "     or more, then its length is the number of rows, but if it is of\n",
       "     length one and neither 'nrow' nor 'ncol' is specified, 'nrow =\n",
       "     as.integer(x)'.\n",
       "\n",
       "     When a diagonal matrix is returned, the diagonal elements are one\n",
       "     except in the fourth case, when 'x' gives the diagonal elements:\n",
       "     it will be recycled or truncated as needed, but fractional\n",
       "     recycling and truncation will give a warning.\n",
       "\n",
       "_\bN_\bo_\bt_\be:\n",
       "\n",
       "     Using 'diag(x)' can have unexpected effects if 'x' is a vector\n",
       "     that could be of length one.  Use 'diag(x, nrow = length(x))' for\n",
       "     consistent behaviour.\n",
       "\n",
       "_\bR_\be_\bf_\be_\br_\be_\bn_\bc_\be_\bs:\n",
       "\n",
       "     Becker, R. A., Chambers, J. M. and Wilks, A. R. (1988) _The New S\n",
       "     Language_.  Wadsworth & Brooks/Cole.\n",
       "\n",
       "_\bS_\be_\be _\bA_\bl_\bs_\bo:\n",
       "\n",
       "     'upper.tri', 'lower.tri', 'matrix'.\n",
       "\n",
       "_\bE_\bx_\ba_\bm_\bp_\bl_\be_\bs:\n",
       "\n",
       "     dim(diag(3))\n",
       "     diag(10, 3, 4) # guess what?\n",
       "     all(diag(1:3) == {m <- matrix(0,3,3); diag(m) <- 1:3; m})\n",
       "     \n",
       "     ## other \"numeric\"-like diagonal matrices :\n",
       "     diag(c(1i,2i))    # complex\n",
       "     diag(TRUE, 3)     # logical\n",
       "     diag(as.raw(1:3)) # raw\n",
       "     (D2 <- diag(2:1, 4)); typeof(D2) # \"integer\"\n",
       "     \n",
       "     require(stats)\n",
       "     ## diag(<var-cov-matrix>) = variances\n",
       "     diag(var(M <- cbind(X = 1:5, Y = rnorm(5))))\n",
       "     #-> vector with names \"X\" and \"Y\"\n",
       "     rownames(M) <- c(colnames(M), rep(\"\", 3))\n",
       "     M; diag(M) #  named as well\n",
       "     diag(M, names = FALSE) # w/o names\n",
       "     "
      ]
     },
     "metadata": {},
     "output_type": "display_data"
    }
   ],
   "source": [
    "?diag"
   ]
  },
  {
   "cell_type": "code",
   "execution_count": null,
   "metadata": {},
   "outputs": [],
   "source": []
  }
 ],
 "metadata": {
  "kernelspec": {
   "display_name": "R",
   "language": "R",
   "name": "ir"
  },
  "language_info": {
   "codemirror_mode": "r",
   "file_extension": ".r",
   "mimetype": "text/x-r-source",
   "name": "R",
   "pygments_lexer": "r",
   "version": "3.6.1"
  }
 },
 "nbformat": 4,
 "nbformat_minor": 4
}
