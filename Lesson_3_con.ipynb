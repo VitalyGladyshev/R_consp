{
 "cells": [
  {
   "cell_type": "markdown",
   "metadata": {},
   "source": [
    "# Урок 3. Разведочный анализ данных в R"
   ]
  },
  {
   "cell_type": "code",
   "execution_count": 12,
   "metadata": {},
   "outputs": [
    {
     "name": "stdout",
     "output_type": "stream",
     "text": [
      "package 'rafalib' successfully unpacked and MD5 sums checked\n",
      "\n",
      "The downloaded binary packages are in\n",
      "\tC:\\Users\\viv232\\AppData\\Local\\Temp\\RtmpWwlsBT\\downloaded_packages\n"
     ]
    }
   ],
   "source": [
    "install.packages(\"rafalib\")"
   ]
  },
  {
   "cell_type": "code",
   "execution_count": 13,
   "metadata": {},
   "outputs": [],
   "source": [
    "library(rio)\n",
    "library(dplyr)\n",
    "library(rafalib)"
   ]
  },
  {
   "cell_type": "code",
   "execution_count": 14,
   "metadata": {},
   "outputs": [
    {
     "data": {
      "text/html": [
       "<table>\n",
       "<thead><tr><th scope=col>id</th><th scope=col>age</th><th scope=col>gender</th><th scope=col>height</th><th scope=col>weight</th><th scope=col>ap_hi</th><th scope=col>ap_lo</th><th scope=col>cholesterol</th><th scope=col>gluc</th><th scope=col>smoke</th><th scope=col>alco</th><th scope=col>active</th><th scope=col>cardio</th></tr></thead>\n",
       "<tbody>\n",
       "\t<tr><td>0    </td><td>18393</td><td>2    </td><td>168  </td><td>62   </td><td>110  </td><td> 80  </td><td>1    </td><td>1    </td><td>0    </td><td>0    </td><td>1    </td><td>0    </td></tr>\n",
       "\t<tr><td>1    </td><td>20228</td><td>1    </td><td>156  </td><td>85   </td><td>140  </td><td> 90  </td><td>3    </td><td>1    </td><td>0    </td><td>0    </td><td>1    </td><td>1    </td></tr>\n",
       "\t<tr><td>2    </td><td>18857</td><td>1    </td><td>165  </td><td>64   </td><td>130  </td><td> 70  </td><td>3    </td><td>1    </td><td>0    </td><td>0    </td><td>0    </td><td>1    </td></tr>\n",
       "\t<tr><td>3    </td><td>17623</td><td>2    </td><td>169  </td><td>82   </td><td>150  </td><td>100  </td><td>1    </td><td>1    </td><td>0    </td><td>0    </td><td>1    </td><td>1    </td></tr>\n",
       "\t<tr><td>4    </td><td>17474</td><td>1    </td><td>156  </td><td>56   </td><td>100  </td><td> 60  </td><td>1    </td><td>1    </td><td>0    </td><td>0    </td><td>0    </td><td>0    </td></tr>\n",
       "\t<tr><td>8    </td><td>21914</td><td>1    </td><td>151  </td><td>67   </td><td>120  </td><td> 80  </td><td>2    </td><td>2    </td><td>0    </td><td>0    </td><td>0    </td><td>0    </td></tr>\n",
       "</tbody>\n",
       "</table>\n"
      ],
      "text/latex": [
       "\\begin{tabular}{r|lllllllllllll}\n",
       " id & age & gender & height & weight & ap\\_hi & ap\\_lo & cholesterol & gluc & smoke & alco & active & cardio\\\\\n",
       "\\hline\n",
       "\t 0     & 18393 & 2     & 168   & 62    & 110   &  80   & 1     & 1     & 0     & 0     & 1     & 0    \\\\\n",
       "\t 1     & 20228 & 1     & 156   & 85    & 140   &  90   & 3     & 1     & 0     & 0     & 1     & 1    \\\\\n",
       "\t 2     & 18857 & 1     & 165   & 64    & 130   &  70   & 3     & 1     & 0     & 0     & 0     & 1    \\\\\n",
       "\t 3     & 17623 & 2     & 169   & 82    & 150   & 100   & 1     & 1     & 0     & 0     & 1     & 1    \\\\\n",
       "\t 4     & 17474 & 1     & 156   & 56    & 100   &  60   & 1     & 1     & 0     & 0     & 0     & 0    \\\\\n",
       "\t 8     & 21914 & 1     & 151   & 67    & 120   &  80   & 2     & 2     & 0     & 0     & 0     & 0    \\\\\n",
       "\\end{tabular}\n"
      ],
      "text/markdown": [
       "\n",
       "| id | age | gender | height | weight | ap_hi | ap_lo | cholesterol | gluc | smoke | alco | active | cardio |\n",
       "|---|---|---|---|---|---|---|---|---|---|---|---|---|\n",
       "| 0     | 18393 | 2     | 168   | 62    | 110   |  80   | 1     | 1     | 0     | 0     | 1     | 0     |\n",
       "| 1     | 20228 | 1     | 156   | 85    | 140   |  90   | 3     | 1     | 0     | 0     | 1     | 1     |\n",
       "| 2     | 18857 | 1     | 165   | 64    | 130   |  70   | 3     | 1     | 0     | 0     | 0     | 1     |\n",
       "| 3     | 17623 | 2     | 169   | 82    | 150   | 100   | 1     | 1     | 0     | 0     | 1     | 1     |\n",
       "| 4     | 17474 | 1     | 156   | 56    | 100   |  60   | 1     | 1     | 0     | 0     | 0     | 0     |\n",
       "| 8     | 21914 | 1     | 151   | 67    | 120   |  80   | 2     | 2     | 0     | 0     | 0     | 0     |\n",
       "\n"
      ],
      "text/plain": [
       "  id age   gender height weight ap_hi ap_lo cholesterol gluc smoke alco active\n",
       "1 0  18393 2      168    62     110    80   1           1    0     0    1     \n",
       "2 1  20228 1      156    85     140    90   3           1    0     0    1     \n",
       "3 2  18857 1      165    64     130    70   3           1    0     0    0     \n",
       "4 3  17623 2      169    82     150   100   1           1    0     0    1     \n",
       "5 4  17474 1      156    56     100    60   1           1    0     0    0     \n",
       "6 8  21914 1      151    67     120    80   2           2    0     0    0     \n",
       "  cardio\n",
       "1 0     \n",
       "2 1     \n",
       "3 1     \n",
       "4 1     \n",
       "5 0     \n",
       "6 0     "
      ]
     },
     "metadata": {},
     "output_type": "display_data"
    }
   ],
   "source": [
    "dat<-import(\"cardio_train.csv\")   # загружаем датасэт в R с помощью import() из пакета rio\n",
    "head(dat)"
   ]
  },
  {
   "cell_type": "code",
   "execution_count": 15,
   "metadata": {},
   "outputs": [
    {
     "data": {
      "text/html": [
       "<ol class=list-inline>\n",
       "\t<li>70000</li>\n",
       "\t<li>13</li>\n",
       "</ol>\n"
      ],
      "text/latex": [
       "\\begin{enumerate*}\n",
       "\\item 70000\n",
       "\\item 13\n",
       "\\end{enumerate*}\n"
      ],
      "text/markdown": [
       "1. 70000\n",
       "2. 13\n",
       "\n",
       "\n"
      ],
      "text/plain": [
       "[1] 70000    13"
      ]
     },
     "metadata": {},
     "output_type": "display_data"
    }
   ],
   "source": [
    "dim(dat)"
   ]
  },
  {
   "cell_type": "code",
   "execution_count": 16,
   "metadata": {},
   "outputs": [
    {
     "name": "stdout",
     "output_type": "stream",
     "text": [
      "'data.frame':\t70000 obs. of  13 variables:\n",
      " $ id         : int  0 1 2 3 4 8 9 12 13 14 ...\n",
      " $ age        : int  18393 20228 18857 17623 17474 21914 22113 22584 17668 19834 ...\n",
      " $ gender     : int  2 1 1 2 1 1 1 2 1 1 ...\n",
      " $ height     : int  168 156 165 169 156 151 157 178 158 164 ...\n",
      " $ weight     : num  62 85 64 82 56 67 93 95 71 68 ...\n",
      " $ ap_hi      : int  110 140 130 150 100 120 130 130 110 110 ...\n",
      " $ ap_lo      : int  80 90 70 100 60 80 80 90 70 60 ...\n",
      " $ cholesterol: int  1 3 3 1 1 2 3 3 1 1 ...\n",
      " $ gluc       : int  1 1 1 1 1 2 1 3 1 1 ...\n",
      " $ smoke      : int  0 0 0 0 0 0 0 0 0 0 ...\n",
      " $ alco       : int  0 0 0 0 0 0 0 0 0 0 ...\n",
      " $ active     : int  1 1 0 1 0 0 1 1 1 0 ...\n",
      " $ cardio     : int  0 1 1 1 0 0 0 1 0 0 ...\n"
     ]
    }
   ],
   "source": [
    "str(dat)"
   ]
  },
  {
   "cell_type": "markdown",
   "metadata": {},
   "source": [
    "В столбце age возраст представлен в днях, что не привычно. Поэтому, для простоты интерпретации, добавим новый столбец, в котором возраст пациента будет в годах"
   ]
  },
  {
   "cell_type": "code",
   "execution_count": 17,
   "metadata": {
    "collapsed": true,
    "jupyter": {
     "outputs_hidden": true
    }
   },
   "outputs": [
    {
     "data": {
      "text/html": [
       "\n",
       "<table width=\"100%\" summary=\"page for mutate {dplyr}\"><tr><td>mutate {dplyr}</td><td style=\"text-align: right;\">R Documentation</td></tr></table>\n",
       "\n",
       "<h2>Create or transform variables</h2>\n",
       "\n",
       "<h3>Description</h3>\n",
       "\n",
       "<p><code>mutate()</code> adds new variables and preserves existing ones;\n",
       "<code>transmute()</code> adds new variables and drops existing ones.  Both\n",
       "functions preserve the number of rows of the input.\n",
       "New variables overwrite existing variables of the same name.\n",
       "</p>\n",
       "\n",
       "\n",
       "<h3>Usage</h3>\n",
       "\n",
       "<pre>\n",
       "mutate(.data, ...)\n",
       "\n",
       "transmute(.data, ...)\n",
       "</pre>\n",
       "\n",
       "\n",
       "<h3>Arguments</h3>\n",
       "\n",
       "<table summary=\"R argblock\">\n",
       "<tr valign=\"top\"><td><code>.data</code></td>\n",
       "<td>\n",
       "<p>A tbl. All main verbs are S3 generics and provide methods\n",
       "for <code>tbl_df()</code>, <code>dtplyr::tbl_dt()</code> and <code>dbplyr::tbl_dbi()</code>.</p>\n",
       "</td></tr>\n",
       "<tr valign=\"top\"><td><code>...</code></td>\n",
       "<td>\n",
       "<p>Name-value pairs of expressions, each with length 1 or the same\n",
       "length as the number of rows in the group (if using <code>group_by()</code>) or in the entire\n",
       "input (if not using groups). The name of each argument will be the name of\n",
       "a new variable, and the value will be its corresponding value.  Use a <code>NULL</code>\n",
       "value in <code>mutate</code> to drop a variable.  New variables overwrite existing variables\n",
       "of the same name.\n",
       "</p>\n",
       "<p>The arguments in <code>...</code> are automatically quoted and\n",
       "evaluated in the context of the data\n",
       "frame. They support unquoting and\n",
       "splicing. See <code>vignette(\"programming\")</code> for an introduction to\n",
       "these concepts.</p>\n",
       "</td></tr>\n",
       "</table>\n",
       "\n",
       "\n",
       "<h3>Value</h3>\n",
       "\n",
       "<p>An object of the same class as <code>.data</code>.\n",
       "</p>\n",
       "\n",
       "\n",
       "<h3>Useful functions available in calculations of variables</h3>\n",
       "\n",
       "\n",
       "<ul>\n",
       "<li> <p><code>+</code>, <code>-</code>, <code>log()</code>, etc., for their usual mathematical meanings\n",
       "</p>\n",
       "</li>\n",
       "<li> <p><code>lead()</code>, <code>lag()</code>\n",
       "</p>\n",
       "</li>\n",
       "<li> <p><code>dense_rank()</code>, <code>min_rank()</code>, <code>percent_rank()</code>, <code>row_number()</code>,\n",
       "<code>cume_dist()</code>, <code>ntile()</code>\n",
       "</p>\n",
       "</li>\n",
       "<li> <p><code>cumsum()</code>, <code>cummean()</code>, <code>cummin()</code>, <code>cummax()</code>, <code>cumany()</code>, <code>cumall()</code>\n",
       "</p>\n",
       "</li>\n",
       "<li> <p><code>na_if()</code>, <code>coalesce()</code>\n",
       "</p>\n",
       "</li>\n",
       "<li> <p><code>if_else()</code>, <code>recode()</code>, <code>case_when()</code>\n",
       "</p>\n",
       "</li></ul>\n",
       "\n",
       "\n",
       "\n",
       "<h3>Grouped tibbles</h3>\n",
       "\n",
       "<p>Because mutating expressions are computed within groups, they may\n",
       "yield different results on grouped tibbles. This will be the case\n",
       "as soon as an aggregating, lagging, or ranking function is\n",
       "involved. Compare this ungrouped mutate:</p>\n",
       "<pre>starwars %&gt;%\n",
       "  mutate(mass / mean(mass, na.rm = TRUE)) %&gt;%\n",
       "  pull()\n",
       "</pre>\n",
       "<p>With the grouped equivalent:</p>\n",
       "<pre>starwars %&gt;%\n",
       "  group_by(gender) %&gt;%\n",
       "  mutate(mass / mean(mass, na.rm = TRUE)) %&gt;%\n",
       "  pull()\n",
       "</pre>\n",
       "<p>The former normalises <code>mass</code> by the global average whereas the\n",
       "latter normalises by the averages within gender levels.\n",
       "</p>\n",
       "<p>Note that you can't overwrite a grouping variable within\n",
       "<code>mutate()</code>.\n",
       "</p>\n",
       "<p><code>mutate()</code> does not evaluate the expressions when the group is empty.\n",
       "</p>\n",
       "\n",
       "\n",
       "<h3>Scoped mutation and transmutation</h3>\n",
       "\n",
       "<p>The three scoped variants of <code>mutate()</code> (<code>mutate_all()</code>,\n",
       "<code>mutate_if()</code> and <code>mutate_at()</code>) and the three variants of\n",
       "<code>transmute()</code> (<code>transmute_all()</code>, <code>transmute_if()</code>,\n",
       "<code>transmute_at()</code>) make it easy to apply a transformation to a\n",
       "selection of variables.\n",
       "</p>\n",
       "\n",
       "\n",
       "<h3>Tidy data</h3>\n",
       "\n",
       "<p>When applied to a data frame, row names are silently dropped. To preserve,\n",
       "convert to an explicit variable with <code>tibble::rownames_to_column()</code>.\n",
       "</p>\n",
       "\n",
       "\n",
       "<h3>See Also</h3>\n",
       "\n",
       "<p>Other single table verbs: <code>arrange</code>,\n",
       "<code>filter</code>, <code>select</code>,\n",
       "<code>slice</code>, <code>summarise</code>\n",
       "</p>\n",
       "\n",
       "\n",
       "<h3>Examples</h3>\n",
       "\n",
       "<pre>\n",
       "# Newly created variables are available immediately\n",
       "mtcars %&gt;% as_tibble() %&gt;% mutate(\n",
       "  cyl2 = cyl * 2,\n",
       "  cyl4 = cyl2 * 2\n",
       ")\n",
       "\n",
       "# You can also use mutate() to remove variables and\n",
       "# modify existing variables\n",
       "mtcars %&gt;% as_tibble() %&gt;% mutate(\n",
       "  mpg = NULL,\n",
       "  disp = disp * 0.0163871 # convert to litres\n",
       ")\n",
       "\n",
       "\n",
       "# window functions are useful for grouped mutates\n",
       "mtcars %&gt;%\n",
       " group_by(cyl) %&gt;%\n",
       " mutate(rank = min_rank(desc(mpg)))\n",
       "# see `vignette(\"window-functions\")` for more details\n",
       "\n",
       "# You can drop variables by setting them to NULL\n",
       "mtcars %&gt;% mutate(cyl = NULL)\n",
       "\n",
       "# mutate() vs transmute --------------------------\n",
       "# mutate() keeps all existing variables\n",
       "mtcars %&gt;%\n",
       "  mutate(displ_l = disp / 61.0237)\n",
       "\n",
       "# transmute keeps only the variables you create\n",
       "mtcars %&gt;%\n",
       "  transmute(displ_l = disp / 61.0237)\n",
       "\n",
       "\n",
       "# The mutate operation may yield different results on grouped\n",
       "# tibbles because the expressions are computed within groups.\n",
       "# The following normalises `mass` by the global average:\n",
       "starwars %&gt;%\n",
       "  mutate(mass / mean(mass, na.rm = TRUE)) %&gt;%\n",
       "  pull()\n",
       "\n",
       "# Whereas this normalises `mass` by the averages within gender\n",
       "# levels:\n",
       "starwars %&gt;%\n",
       "  group_by(gender) %&gt;%\n",
       "  mutate(mass / mean(mass, na.rm = TRUE)) %&gt;%\n",
       "  pull()\n",
       "\n",
       "# Note that you can't overwrite grouping variables:\n",
       "gdf &lt;- mtcars %&gt;% group_by(cyl)\n",
       "try(mutate(gdf, cyl = cyl * 100))\n",
       "\n",
       "\n",
       "# Refer to column names stored as strings with the `.data` pronoun:\n",
       "vars &lt;- c(\"mass\", \"height\")\n",
       "mutate(starwars, prod = .data[[vars[[1]]]] * .data[[vars[[2]]]])\n",
       "\n",
       "# For more complex cases, knowledge of tidy evaluation and the\n",
       "# unquote operator `!!` is required. See https://tidyeval.tidyverse.org/\n",
       "#\n",
       "# One useful and simple tidy eval technique is to use `!!` to\n",
       "# bypass the data frame and its columns. Here is how to divide the\n",
       "# column `mass` by an object of the same name:\n",
       "mass &lt;- 100\n",
       "mutate(starwars, mass = mass / !!mass)\n",
       "</pre>\n",
       "\n",
       "<hr /><div style=\"text-align: center;\">[Package <em>dplyr</em> version 0.8.0.1 ]</div>"
      ],
      "text/latex": [
       "\\inputencoding{utf8}\n",
       "\\HeaderA{mutate}{Create or transform variables}{mutate}\n",
       "\\aliasA{transmute}{mutate}{transmute}\n",
       "%\n",
       "\\begin{Description}\\relax\n",
       "\\code{mutate()} adds new variables and preserves existing ones;\n",
       "\\code{transmute()} adds new variables and drops existing ones.  Both\n",
       "functions preserve the number of rows of the input.\n",
       "New variables overwrite existing variables of the same name.\n",
       "\\end{Description}\n",
       "%\n",
       "\\begin{Usage}\n",
       "\\begin{verbatim}\n",
       "mutate(.data, ...)\n",
       "\n",
       "transmute(.data, ...)\n",
       "\\end{verbatim}\n",
       "\\end{Usage}\n",
       "%\n",
       "\\begin{Arguments}\n",
       "\\begin{ldescription}\n",
       "\\item[\\code{.data}] A tbl. All main verbs are S3 generics and provide methods\n",
       "for \\code{\\LinkA{tbl\\_df()}{tbl.Rul.df}}, \\code{\\LinkA{dtplyr::tbl\\_dt()}{dtplyr::tbl.Rul.dt()}} and \\code{\\LinkA{dbplyr::tbl\\_dbi()}{dbplyr::tbl.Rul.dbi()}}.\n",
       "\n",
       "\\item[\\code{...}] Name-value pairs of expressions, each with length 1 or the same\n",
       "length as the number of rows in the group (if using \\code{\\LinkA{group\\_by()}{group.Rul.by}}) or in the entire\n",
       "input (if not using groups). The name of each argument will be the name of\n",
       "a new variable, and the value will be its corresponding value.  Use a \\code{NULL}\n",
       "value in \\code{mutate} to drop a variable.  New variables overwrite existing variables\n",
       "of the same name.\n",
       "\n",
       "The arguments in \\code{...} are automatically \\LinkA{quoted}{quoted} and\n",
       "\\LinkA{evaluated}{evaluated} in the context of the data\n",
       "frame. They support \\LinkA{unquoting}{unquoting} and\n",
       "splicing. See \\code{vignette(\"programming\")} for an introduction to\n",
       "these concepts.\n",
       "\\end{ldescription}\n",
       "\\end{Arguments}\n",
       "%\n",
       "\\begin{Value}\n",
       "An object of the same class as \\code{.data}.\n",
       "\\end{Value}\n",
       "%\n",
       "\\begin{Section}{Useful functions available in calculations of variables}\n",
       "\n",
       "\\begin{itemize}\n",
       "\n",
       "\\item{} \\code{\\LinkA{+}{+}}, \\code{\\LinkA{-}{.Rdash.}}, \\code{\\LinkA{log()}{log}}, etc., for their usual mathematical meanings\n",
       "\\item{} \\code{\\LinkA{lead()}{lead}}, \\code{\\LinkA{lag()}{lag}}\n",
       "\\item{} \\code{\\LinkA{dense\\_rank()}{dense.Rul.rank}}, \\code{\\LinkA{min\\_rank()}{min.Rul.rank}}, \\code{\\LinkA{percent\\_rank()}{percent.Rul.rank}}, \\code{\\LinkA{row\\_number()}{row.Rul.number}},\n",
       "\\code{\\LinkA{cume\\_dist()}{cume.Rul.dist}}, \\code{\\LinkA{ntile()}{ntile}}\n",
       "\\item{} \\code{\\LinkA{cumsum()}{cumsum}}, \\code{\\LinkA{cummean()}{cummean}}, \\code{\\LinkA{cummin()}{cummin}}, \\code{\\LinkA{cummax()}{cummax}}, \\code{\\LinkA{cumany()}{cumany}}, \\code{\\LinkA{cumall()}{cumall}}\n",
       "\\item{} \\code{\\LinkA{na\\_if()}{na.Rul.if}}, \\code{\\LinkA{coalesce()}{coalesce}}\n",
       "\\item{} \\code{\\LinkA{if\\_else()}{if.Rul.else}}, \\code{\\LinkA{recode()}{recode}}, \\code{\\LinkA{case\\_when()}{case.Rul.when}}\n",
       "\n",
       "\\end{itemize}\n",
       "\n",
       "\\end{Section}\n",
       "%\n",
       "\\begin{Section}{Grouped tibbles}\n",
       "\n",
       "\n",
       "Because mutating expressions are computed within groups, they may\n",
       "yield different results on grouped tibbles. This will be the case\n",
       "as soon as an aggregating, lagging, or ranking function is\n",
       "involved. Compare this ungrouped mutate:\\begin{alltt}starwars %>%\n",
       "  mutate(mass / mean(mass, na.rm = TRUE)) %>%\n",
       "  pull()\n",
       "\\end{alltt}\n",
       "\n",
       "\n",
       "With the grouped equivalent:\\begin{alltt}starwars %>%\n",
       "  group_by(gender) %>%\n",
       "  mutate(mass / mean(mass, na.rm = TRUE)) %>%\n",
       "  pull()\n",
       "\\end{alltt}\n",
       "\n",
       "\n",
       "The former normalises \\code{mass} by the global average whereas the\n",
       "latter normalises by the averages within gender levels.\n",
       "\n",
       "Note that you can't overwrite a grouping variable within\n",
       "\\code{mutate()}.\n",
       "\n",
       "\\code{mutate()} does not evaluate the expressions when the group is empty.\n",
       "\\end{Section}\n",
       "%\n",
       "\\begin{Section}{Scoped mutation and transmutation}\n",
       "\n",
       "\n",
       "The three \\LinkA{scoped}{scoped} variants of \\code{mutate()} (\\code{\\LinkA{mutate\\_all()}{mutate.Rul.all}},\n",
       "\\code{\\LinkA{mutate\\_if()}{mutate.Rul.if}} and \\code{\\LinkA{mutate\\_at()}{mutate.Rul.at}}) and the three variants of\n",
       "\\code{transmute()} (\\code{\\LinkA{transmute\\_all()}{transmute.Rul.all}}, \\code{\\LinkA{transmute\\_if()}{transmute.Rul.if}},\n",
       "\\code{\\LinkA{transmute\\_at()}{transmute.Rul.at}}) make it easy to apply a transformation to a\n",
       "selection of variables.\n",
       "\\end{Section}\n",
       "%\n",
       "\\begin{Section}{Tidy data}\n",
       "\n",
       "When applied to a data frame, row names are silently dropped. To preserve,\n",
       "convert to an explicit variable with \\code{\\LinkA{tibble::rownames\\_to\\_column()}{tibble::rownames.Rul.to.Rul.column()}}.\n",
       "\\end{Section}\n",
       "%\n",
       "\\begin{SeeAlso}\\relax\n",
       "Other single table verbs: \\code{\\LinkA{arrange}{arrange}},\n",
       "\\code{\\LinkA{filter}{filter}}, \\code{\\LinkA{select}{select}},\n",
       "\\code{\\LinkA{slice}{slice}}, \\code{\\LinkA{summarise}{summarise}}\n",
       "\\end{SeeAlso}\n",
       "%\n",
       "\\begin{Examples}\n",
       "\\begin{ExampleCode}\n",
       "# Newly created variables are available immediately\n",
       "mtcars %>% as_tibble() %>% mutate(\n",
       "  cyl2 = cyl * 2,\n",
       "  cyl4 = cyl2 * 2\n",
       ")\n",
       "\n",
       "# You can also use mutate() to remove variables and\n",
       "# modify existing variables\n",
       "mtcars %>% as_tibble() %>% mutate(\n",
       "  mpg = NULL,\n",
       "  disp = disp * 0.0163871 # convert to litres\n",
       ")\n",
       "\n",
       "\n",
       "# window functions are useful for grouped mutates\n",
       "mtcars %>%\n",
       " group_by(cyl) %>%\n",
       " mutate(rank = min_rank(desc(mpg)))\n",
       "# see `vignette(\"window-functions\")` for more details\n",
       "\n",
       "# You can drop variables by setting them to NULL\n",
       "mtcars %>% mutate(cyl = NULL)\n",
       "\n",
       "# mutate() vs transmute --------------------------\n",
       "# mutate() keeps all existing variables\n",
       "mtcars %>%\n",
       "  mutate(displ_l = disp / 61.0237)\n",
       "\n",
       "# transmute keeps only the variables you create\n",
       "mtcars %>%\n",
       "  transmute(displ_l = disp / 61.0237)\n",
       "\n",
       "\n",
       "# The mutate operation may yield different results on grouped\n",
       "# tibbles because the expressions are computed within groups.\n",
       "# The following normalises `mass` by the global average:\n",
       "starwars %>%\n",
       "  mutate(mass / mean(mass, na.rm = TRUE)) %>%\n",
       "  pull()\n",
       "\n",
       "# Whereas this normalises `mass` by the averages within gender\n",
       "# levels:\n",
       "starwars %>%\n",
       "  group_by(gender) %>%\n",
       "  mutate(mass / mean(mass, na.rm = TRUE)) %>%\n",
       "  pull()\n",
       "\n",
       "# Note that you can't overwrite grouping variables:\n",
       "gdf <- mtcars %>% group_by(cyl)\n",
       "try(mutate(gdf, cyl = cyl * 100))\n",
       "\n",
       "\n",
       "# Refer to column names stored as strings with the `.data` pronoun:\n",
       "vars <- c(\"mass\", \"height\")\n",
       "mutate(starwars, prod = .data[[vars[[1]]]] * .data[[vars[[2]]]])\n",
       "\n",
       "# For more complex cases, knowledge of tidy evaluation and the\n",
       "# unquote operator `!!` is required. See https://tidyeval.tidyverse.org/\n",
       "#\n",
       "# One useful and simple tidy eval technique is to use `!!` to\n",
       "# bypass the data frame and its columns. Here is how to divide the\n",
       "# column `mass` by an object of the same name:\n",
       "mass <- 100\n",
       "mutate(starwars, mass = mass / !!mass)\n",
       "\\end{ExampleCode}\n",
       "\\end{Examples}"
      ],
      "text/plain": [
       "mutate                  package:dplyr                  R Documentation\n",
       "\n",
       "_\bC_\br_\be_\ba_\bt_\be _\bo_\br _\bt_\br_\ba_\bn_\bs_\bf_\bo_\br_\bm _\bv_\ba_\br_\bi_\ba_\bb_\bl_\be_\bs\n",
       "\n",
       "_\bD_\be_\bs_\bc_\br_\bi_\bp_\bt_\bi_\bo_\bn:\n",
       "\n",
       "     'mutate()' adds new variables and preserves existing ones;\n",
       "     'transmute()' adds new variables and drops existing ones.  Both\n",
       "     functions preserve the number of rows of the input. New variables\n",
       "     overwrite existing variables of the same name.\n",
       "\n",
       "_\bU_\bs_\ba_\bg_\be:\n",
       "\n",
       "     mutate(.data, ...)\n",
       "     \n",
       "     transmute(.data, ...)\n",
       "     \n",
       "_\bA_\br_\bg_\bu_\bm_\be_\bn_\bt_\bs:\n",
       "\n",
       "   .data: A tbl. All main verbs are S3 generics and provide methods for\n",
       "          'tbl_df()', 'dtplyr::tbl_dt()' and 'dbplyr::tbl_dbi()'.\n",
       "\n",
       "     ...: Name-value pairs of expressions, each with length 1 or the\n",
       "          same length as the number of rows in the group (if using\n",
       "          'group_by()') or in the entire input (if not using groups).\n",
       "          The name of each argument will be the name of a new variable,\n",
       "          and the value will be its corresponding value.  Use a 'NULL'\n",
       "          value in 'mutate' to drop a variable.  New variables\n",
       "          overwrite existing variables of the same name.\n",
       "\n",
       "          The arguments in '...' are automatically quoted and evaluated\n",
       "          in the context of the data frame. They support unquoting and\n",
       "          splicing. See 'vignette(\"programming\")' for an introduction\n",
       "          to these concepts.\n",
       "\n",
       "_\bV_\ba_\bl_\bu_\be:\n",
       "\n",
       "     An object of the same class as '.data'.\n",
       "\n",
       "_\bU_\bs_\be_\bf_\bu_\bl _\bf_\bu_\bn_\bc_\bt_\bi_\bo_\bn_\bs _\ba_\bv_\ba_\bi_\bl_\ba_\bb_\bl_\be _\bi_\bn _\bc_\ba_\bl_\bc_\bu_\bl_\ba_\bt_\bi_\bo_\bn_\bs _\bo_\bf _\bv_\ba_\br_\bi_\ba_\bb_\bl_\be_\bs:\n",
       "\n",
       "        вЂў '+', '-', 'log()', etc., for their usual mathematical\n",
       "          meanings\n",
       "\n",
       "        вЂў 'lead()', 'lag()'\n",
       "\n",
       "        вЂў 'dense_rank()', 'min_rank()', 'percent_rank()',\n",
       "          'row_number()', 'cume_dist()', 'ntile()'\n",
       "\n",
       "        вЂў 'cumsum()', 'cummean()', 'cummin()', 'cummax()', 'cumany()',\n",
       "          'cumall()'\n",
       "\n",
       "        вЂў 'na_if()', 'coalesce()'\n",
       "\n",
       "        вЂў 'if_else()', 'recode()', 'case_when()'\n",
       "\n",
       "_\bG_\br_\bo_\bu_\bp_\be_\bd _\bt_\bi_\bb_\bb_\bl_\be_\bs:\n",
       "\n",
       "     Because mutating expressions are computed within groups, they may\n",
       "     yield different results on grouped tibbles. This will be the case\n",
       "     as soon as an aggregating, lagging, or ranking function is\n",
       "     involved. Compare this ungrouped mutate:\n",
       "     \n",
       "     starwars %>%\n",
       "       mutate(mass / mean(mass, na.rm = TRUE)) %>%\n",
       "       pull()\n",
       "\n",
       "     With the grouped equivalent:\n",
       "     \n",
       "     starwars %>%\n",
       "       group_by(gender) %>%\n",
       "       mutate(mass / mean(mass, na.rm = TRUE)) %>%\n",
       "       pull()\n",
       "\n",
       "     The former normalises 'mass' by the global average whereas the\n",
       "     latter normalises by the averages within gender levels.\n",
       "\n",
       "     Note that you can't overwrite a grouping variable within\n",
       "     'mutate()'.\n",
       "\n",
       "     'mutate()' does not evaluate the expressions when the group is\n",
       "     empty.\n",
       "\n",
       "_\bS_\bc_\bo_\bp_\be_\bd _\bm_\bu_\bt_\ba_\bt_\bi_\bo_\bn _\ba_\bn_\bd _\bt_\br_\ba_\bn_\bs_\bm_\bu_\bt_\ba_\bt_\bi_\bo_\bn:\n",
       "\n",
       "     The three scoped variants of 'mutate()' ('mutate_all()',\n",
       "     'mutate_if()' and 'mutate_at()') and the three variants of\n",
       "     'transmute()' ('transmute_all()', 'transmute_if()',\n",
       "     'transmute_at()') make it easy to apply a transformation to a\n",
       "     selection of variables.\n",
       "\n",
       "_\bT_\bi_\bd_\by _\bd_\ba_\bt_\ba:\n",
       "\n",
       "     When applied to a data frame, row names are silently dropped. To\n",
       "     preserve, convert to an explicit variable with\n",
       "     'tibble::rownames_to_column()'.\n",
       "\n",
       "_\bS_\be_\be _\bA_\bl_\bs_\bo:\n",
       "\n",
       "     Other single table verbs: 'arrange', 'filter', 'select', 'slice',\n",
       "     'summarise'\n",
       "\n",
       "_\bE_\bx_\ba_\bm_\bp_\bl_\be_\bs:\n",
       "\n",
       "     # Newly created variables are available immediately\n",
       "     mtcars %>% as_tibble() %>% mutate(\n",
       "       cyl2 = cyl * 2,\n",
       "       cyl4 = cyl2 * 2\n",
       "     )\n",
       "     \n",
       "     # You can also use mutate() to remove variables and\n",
       "     # modify existing variables\n",
       "     mtcars %>% as_tibble() %>% mutate(\n",
       "       mpg = NULL,\n",
       "       disp = disp * 0.0163871 # convert to litres\n",
       "     )\n",
       "     \n",
       "     \n",
       "     # window functions are useful for grouped mutates\n",
       "     mtcars %>%\n",
       "      group_by(cyl) %>%\n",
       "      mutate(rank = min_rank(desc(mpg)))\n",
       "     # see `vignette(\"window-functions\")` for more details\n",
       "     \n",
       "     # You can drop variables by setting them to NULL\n",
       "     mtcars %>% mutate(cyl = NULL)\n",
       "     \n",
       "     # mutate() vs transmute --------------------------\n",
       "     # mutate() keeps all existing variables\n",
       "     mtcars %>%\n",
       "       mutate(displ_l = disp / 61.0237)\n",
       "     \n",
       "     # transmute keeps only the variables you create\n",
       "     mtcars %>%\n",
       "       transmute(displ_l = disp / 61.0237)\n",
       "     \n",
       "     \n",
       "     # The mutate operation may yield different results on grouped\n",
       "     # tibbles because the expressions are computed within groups.\n",
       "     # The following normalises `mass` by the global average:\n",
       "     starwars %>%\n",
       "       mutate(mass / mean(mass, na.rm = TRUE)) %>%\n",
       "       pull()\n",
       "     \n",
       "     # Whereas this normalises `mass` by the averages within gender\n",
       "     # levels:\n",
       "     starwars %>%\n",
       "       group_by(gender) %>%\n",
       "       mutate(mass / mean(mass, na.rm = TRUE)) %>%\n",
       "       pull()\n",
       "     \n",
       "     # Note that you can't overwrite grouping variables:\n",
       "     gdf <- mtcars %>% group_by(cyl)\n",
       "     try(mutate(gdf, cyl = cyl * 100))\n",
       "     \n",
       "     \n",
       "     # Refer to column names stored as strings with the `.data` pronoun:\n",
       "     vars <- c(\"mass\", \"height\")\n",
       "     mutate(starwars, prod = .data[[vars[[1]]]] * .data[[vars[[2]]]])\n",
       "     \n",
       "     # For more complex cases, knowledge of tidy evaluation and the\n",
       "     # unquote operator `!!` is required. See https://tidyeval.tidyverse.org/\n",
       "     #\n",
       "     # One useful and simple tidy eval technique is to use `!!` to\n",
       "     # bypass the data frame and its columns. Here is how to divide the\n",
       "     # column `mass` by an object of the same name:\n",
       "     mass <- 100\n",
       "     mutate(starwars, mass = mass / !!mass)\n",
       "     "
      ]
     },
     "metadata": {},
     "output_type": "display_data"
    }
   ],
   "source": [
    "?mutate"
   ]
  },
  {
   "cell_type": "code",
   "execution_count": 18,
   "metadata": {},
   "outputs": [
    {
     "data": {
      "text/html": [
       "<ol class=list-inline>\n",
       "\t<li>50.3917808219178</li>\n",
       "\t<li>55.4191780821918</li>\n",
       "\t<li>51.6630136986301</li>\n",
       "\t<li>48.2821917808219</li>\n",
       "\t<li>47.8739726027397</li>\n",
       "\t<li>60.0383561643836</li>\n",
       "</ol>\n"
      ],
      "text/latex": [
       "\\begin{enumerate*}\n",
       "\\item 50.3917808219178\n",
       "\\item 55.4191780821918\n",
       "\\item 51.6630136986301\n",
       "\\item 48.2821917808219\n",
       "\\item 47.8739726027397\n",
       "\\item 60.0383561643836\n",
       "\\end{enumerate*}\n"
      ],
      "text/markdown": [
       "1. 50.3917808219178\n",
       "2. 55.4191780821918\n",
       "3. 51.6630136986301\n",
       "4. 48.2821917808219\n",
       "5. 47.8739726027397\n",
       "6. 60.0383561643836\n",
       "\n",
       "\n"
      ],
      "text/plain": [
       "[1] 50.39178 55.41918 51.66301 48.28219 47.87397 60.03836"
      ]
     },
     "metadata": {},
     "output_type": "display_data"
    }
   ],
   "source": [
    "head(dat$age/365)"
   ]
  },
  {
   "cell_type": "code",
   "execution_count": 19,
   "metadata": {},
   "outputs": [
    {
     "data": {
      "text/html": [
       "<ol class=list-inline>\n",
       "\t<li>50</li>\n",
       "\t<li>55</li>\n",
       "\t<li>51</li>\n",
       "\t<li>48</li>\n",
       "\t<li>47</li>\n",
       "\t<li>60</li>\n",
       "</ol>\n"
      ],
      "text/latex": [
       "\\begin{enumerate*}\n",
       "\\item 50\n",
       "\\item 55\n",
       "\\item 51\n",
       "\\item 48\n",
       "\\item 47\n",
       "\\item 60\n",
       "\\end{enumerate*}\n"
      ],
      "text/markdown": [
       "1. 50\n",
       "2. 55\n",
       "3. 51\n",
       "4. 48\n",
       "5. 47\n",
       "6. 60\n",
       "\n",
       "\n"
      ],
      "text/plain": [
       "[1] 50 55 51 48 47 60"
      ]
     },
     "metadata": {},
     "output_type": "display_data"
    }
   ],
   "source": [
    "head(trunc(dat$age/365))    # отсекает дробную часть"
   ]
  },
  {
   "cell_type": "code",
   "execution_count": 20,
   "metadata": {},
   "outputs": [
    {
     "data": {
      "text/html": [
       "<table>\n",
       "<thead><tr><th scope=col>id</th><th scope=col>age</th><th scope=col>gender</th><th scope=col>height</th><th scope=col>weight</th><th scope=col>ap_hi</th><th scope=col>ap_lo</th><th scope=col>cholesterol</th><th scope=col>gluc</th><th scope=col>smoke</th><th scope=col>alco</th><th scope=col>active</th><th scope=col>cardio</th><th scope=col>age_years</th></tr></thead>\n",
       "<tbody>\n",
       "\t<tr><td>0    </td><td>18393</td><td>2    </td><td>168  </td><td>62   </td><td>110  </td><td> 80  </td><td>1    </td><td>1    </td><td>0    </td><td>0    </td><td>1    </td><td>0    </td><td>50   </td></tr>\n",
       "\t<tr><td>1    </td><td>20228</td><td>1    </td><td>156  </td><td>85   </td><td>140  </td><td> 90  </td><td>3    </td><td>1    </td><td>0    </td><td>0    </td><td>1    </td><td>1    </td><td>55   </td></tr>\n",
       "\t<tr><td>2    </td><td>18857</td><td>1    </td><td>165  </td><td>64   </td><td>130  </td><td> 70  </td><td>3    </td><td>1    </td><td>0    </td><td>0    </td><td>0    </td><td>1    </td><td>51   </td></tr>\n",
       "\t<tr><td>3    </td><td>17623</td><td>2    </td><td>169  </td><td>82   </td><td>150  </td><td>100  </td><td>1    </td><td>1    </td><td>0    </td><td>0    </td><td>1    </td><td>1    </td><td>48   </td></tr>\n",
       "\t<tr><td>4    </td><td>17474</td><td>1    </td><td>156  </td><td>56   </td><td>100  </td><td> 60  </td><td>1    </td><td>1    </td><td>0    </td><td>0    </td><td>0    </td><td>0    </td><td>47   </td></tr>\n",
       "\t<tr><td>8    </td><td>21914</td><td>1    </td><td>151  </td><td>67   </td><td>120  </td><td> 80  </td><td>2    </td><td>2    </td><td>0    </td><td>0    </td><td>0    </td><td>0    </td><td>60   </td></tr>\n",
       "</tbody>\n",
       "</table>\n"
      ],
      "text/latex": [
       "\\begin{tabular}{r|llllllllllllll}\n",
       " id & age & gender & height & weight & ap\\_hi & ap\\_lo & cholesterol & gluc & smoke & alco & active & cardio & age\\_years\\\\\n",
       "\\hline\n",
       "\t 0     & 18393 & 2     & 168   & 62    & 110   &  80   & 1     & 1     & 0     & 0     & 1     & 0     & 50   \\\\\n",
       "\t 1     & 20228 & 1     & 156   & 85    & 140   &  90   & 3     & 1     & 0     & 0     & 1     & 1     & 55   \\\\\n",
       "\t 2     & 18857 & 1     & 165   & 64    & 130   &  70   & 3     & 1     & 0     & 0     & 0     & 1     & 51   \\\\\n",
       "\t 3     & 17623 & 2     & 169   & 82    & 150   & 100   & 1     & 1     & 0     & 0     & 1     & 1     & 48   \\\\\n",
       "\t 4     & 17474 & 1     & 156   & 56    & 100   &  60   & 1     & 1     & 0     & 0     & 0     & 0     & 47   \\\\\n",
       "\t 8     & 21914 & 1     & 151   & 67    & 120   &  80   & 2     & 2     & 0     & 0     & 0     & 0     & 60   \\\\\n",
       "\\end{tabular}\n"
      ],
      "text/markdown": [
       "\n",
       "| id | age | gender | height | weight | ap_hi | ap_lo | cholesterol | gluc | smoke | alco | active | cardio | age_years |\n",
       "|---|---|---|---|---|---|---|---|---|---|---|---|---|---|\n",
       "| 0     | 18393 | 2     | 168   | 62    | 110   |  80   | 1     | 1     | 0     | 0     | 1     | 0     | 50    |\n",
       "| 1     | 20228 | 1     | 156   | 85    | 140   |  90   | 3     | 1     | 0     | 0     | 1     | 1     | 55    |\n",
       "| 2     | 18857 | 1     | 165   | 64    | 130   |  70   | 3     | 1     | 0     | 0     | 0     | 1     | 51    |\n",
       "| 3     | 17623 | 2     | 169   | 82    | 150   | 100   | 1     | 1     | 0     | 0     | 1     | 1     | 48    |\n",
       "| 4     | 17474 | 1     | 156   | 56    | 100   |  60   | 1     | 1     | 0     | 0     | 0     | 0     | 47    |\n",
       "| 8     | 21914 | 1     | 151   | 67    | 120   |  80   | 2     | 2     | 0     | 0     | 0     | 0     | 60    |\n",
       "\n"
      ],
      "text/plain": [
       "  id age   gender height weight ap_hi ap_lo cholesterol gluc smoke alco active\n",
       "1 0  18393 2      168    62     110    80   1           1    0     0    1     \n",
       "2 1  20228 1      156    85     140    90   3           1    0     0    1     \n",
       "3 2  18857 1      165    64     130    70   3           1    0     0    0     \n",
       "4 3  17623 2      169    82     150   100   1           1    0     0    1     \n",
       "5 4  17474 1      156    56     100    60   1           1    0     0    0     \n",
       "6 8  21914 1      151    67     120    80   2           2    0     0    0     \n",
       "  cardio age_years\n",
       "1 0      50       \n",
       "2 1      55       \n",
       "3 1      51       \n",
       "4 1      48       \n",
       "5 0      47       \n",
       "6 0      60       "
      ]
     },
     "metadata": {},
     "output_type": "display_data"
    }
   ],
   "source": [
    "dat<-dat %>% mutate(age_years=(trunc(age/365))) # ф-ция  trunc() отсекает дробную часть\n",
    "#добавили столбец \"age_years\"\n",
    "head(dat)"
   ]
  },
  {
   "cell_type": "markdown",
   "metadata": {},
   "source": [
    "В этом датасэте будем исследовать две переменные из  набора «Cardiovascular Disease»: нижние и верхнее давление пациента. Мы имеем 70 000 измерений для каждой величины и ожидаем увидеть, что они следуют нормальному распределению"
   ]
  },
  {
   "cell_type": "code",
   "execution_count": 21,
   "metadata": {},
   "outputs": [
    {
     "data": {
      "image/png": "[encoded data removed]",
      "text/plain": [
       "Plot with title \"Histogram of dat$ap_lo\""
      ]
     },
     "metadata": {},
     "output_type": "display_data"
    }
   ],
   "source": [
    "mypar(1,2)\n",
    "hist(dat$ap_hi)\n",
    "hist(dat$ap_lo)"
   ]
  },
  {
   "cell_type": "markdown",
   "metadata": {},
   "source": [
    "__График показал нам то, чего мы не ожидали увидеть!__"
   ]
  },
  {
   "cell_type": "code",
   "execution_count": 27,
   "metadata": {},
   "outputs": [
    {
     "name": "stderr",
     "output_type": "stream",
     "text": [
      "Warning message in log(dat$ap_hi):\n",
      "\"созданы NaN\"Warning message in log(dat$ap_lo):\n",
      "\"созданы NaN\""
     ]
    },
    {
     "data": {
      "image/png": "[encoded data removed]",
      "text/plain": [
       "Plot with title \"Histogram of log(dat$ap_lo)\""
      ]
     },
     "metadata": {},
     "output_type": "display_data"
    }
   ],
   "source": [
    "mypar(1,2)\n",
    "hist(log(dat$ap_hi))\n",
    "hist(log(dat$ap_lo))"
   ]
  },
  {
   "cell_type": "markdown",
   "metadata": {},
   "source": [
    "Также представление о наших данных могут дать нам седнее арифметическое и стандартное отклонение. Особенно ценны эти метрики были бы,если бы распределение следовало нормальному, что не соблюдается."
   ]
  },
  {
   "cell_type": "code",
   "execution_count": 22,
   "metadata": {},
   "outputs": [
    {
     "data": {
      "text/html": [
       "128.817285714286"
      ],
      "text/latex": [
       "128.817285714286"
      ],
      "text/markdown": [
       "128.817285714286"
      ],
      "text/plain": [
       "[1] 128.8173"
      ]
     },
     "metadata": {},
     "output_type": "display_data"
    }
   ],
   "source": [
    "mean(dat$ap_hi)"
   ]
  },
  {
   "cell_type": "code",
   "execution_count": 23,
   "metadata": {},
   "outputs": [
    {
     "data": {
      "text/html": [
       "154.011419456091"
      ],
      "text/latex": [
       "154.011419456091"
      ],
      "text/markdown": [
       "154.011419456091"
      ],
      "text/plain": [
       "[1] 154.0114"
      ]
     },
     "metadata": {},
     "output_type": "display_data"
    }
   ],
   "source": [
    "sd(dat$ap_hi)"
   ]
  },
  {
   "cell_type": "code",
   "execution_count": 24,
   "metadata": {},
   "outputs": [
    {
     "data": {
      "text/html": [
       "96.6304142857143"
      ],
      "text/latex": [
       "96.6304142857143"
      ],
      "text/markdown": [
       "96.6304142857143"
      ],
      "text/plain": [
       "[1] 96.63041"
      ]
     },
     "metadata": {},
     "output_type": "display_data"
    }
   ],
   "source": [
    "mean(dat$ap_lo)"
   ]
  },
  {
   "cell_type": "code",
   "execution_count": 25,
   "metadata": {},
   "outputs": [
    {
     "data": {
      "text/html": [
       "188.47253029639"
      ],
      "text/latex": [
       "188.47253029639"
      ],
      "text/markdown": [
       "188.47253029639"
      ],
      "text/plain": [
       "[1] 188.4725"
      ]
     },
     "metadata": {},
     "output_type": "display_data"
    }
   ],
   "source": [
    "sd(dat$ap_lo)"
   ]
  },
  {
   "cell_type": "markdown",
   "metadata": {},
   "source": [
    "__Мы наблюдаем большое стандартное отклонение, следовательно, и большую дисперсию__"
   ]
  },
  {
   "cell_type": "markdown",
   "metadata": {},
   "source": [
    "## boxplot"
   ]
  },
  {
   "cell_type": "markdown",
   "metadata": {},
   "source": [
    "boxplot является одним из самых эффективных методов представления данных. Он позволяет взглянуть на все значения случайной величины. Значения выстраиваются по возростанию и находятся их квартили."
   ]
  },
  {
   "cell_type": "code",
   "execution_count": 29,
   "metadata": {},
   "outputs": [
    {
     "data": {
      "image/png": "[encoded data removed]",
      "text/plain": [
       "plot without title"
      ]
     },
     "metadata": {},
     "output_type": "display_data"
    }
   ],
   "source": [
    "mypar(1,2)\n",
    "box_lo<-boxplot(dat$ap_lo)\n",
    "box_hi<-boxplot(dat$ap_hi) # видим выбросы, которые влияют на sd и mean"
   ]
  },
  {
   "cell_type": "markdown",
   "metadata": {},
   "source": [
    "__Необходимо принять решение о том, что делать с выбросами__"
   ]
  },
  {
   "cell_type": "markdown",
   "metadata": {},
   "source": [
    "Построим боксплоты без учета выбросов,которые явно были ошибкой ввода"
   ]
  },
  {
   "cell_type": "code",
   "execution_count": 31,
   "metadata": {},
   "outputs": [
    {
     "data": {
      "image/png": "[encoded data removed]",
      "text/plain": [
       "Plot with title \"верхнее давление\""
      ]
     },
     "metadata": {},
     "output_type": "display_data"
    }
   ],
   "source": [
    "mypar(1,2)\n",
    "box_lo<-boxplot(dat$ap_lo[dat$ap_lo<200 & dat$ap_lo>20])\n",
    "title(\"Нижнее давление\")\n",
    "box_hi<-boxplot(dat$ap_hi[dat$ap_hi<300 & dat$ap_hi>40])\n",
    "title(\"верхнее давление\")"
   ]
  },
  {
   "cell_type": "code",
   "execution_count": 32,
   "metadata": {},
   "outputs": [
    {
     "data": {
      "text/html": [
       "60"
      ],
      "text/latex": [
       "60"
      ],
      "text/markdown": [
       "60"
      ],
      "text/plain": [
       "[1] 60"
      ]
     },
     "metadata": {},
     "output_type": "display_data"
    }
   ],
   "source": [
    "min(dat$ap_hi[dat$ap_hi<300&dat$ap_hi>40])"
   ]
  },
  {
   "cell_type": "code",
   "execution_count": 33,
   "metadata": {},
   "outputs": [
    {
     "data": {
      "text/html": [
       "-150"
      ],
      "text/latex": [
       "-150"
      ],
      "text/markdown": [
       "-150"
      ],
      "text/plain": [
       "[1] -150"
      ]
     },
     "metadata": {},
     "output_type": "display_data"
    }
   ],
   "source": [
    "min(dat$ap_hi)"
   ]
  },
  {
   "cell_type": "markdown",
   "metadata": {},
   "source": [
    "Можно и более глубокое исследование по выбросам провести, например, у нас были данные с отрицательным знаком, которые просто не вошли в наш интервал"
   ]
  },
  {
   "cell_type": "code",
   "execution_count": 34,
   "metadata": {},
   "outputs": [
    {
     "data": {
      "text/html": [
       "<ol class=list-inline>\n",
       "\t<li>-100</li>\n",
       "\t<li>-115</li>\n",
       "\t<li>-100</li>\n",
       "\t<li>-140</li>\n",
       "\t<li>-120</li>\n",
       "\t<li>-150</li>\n",
       "\t<li>-120</li>\n",
       "</ol>\n"
      ],
      "text/latex": [
       "\\begin{enumerate*}\n",
       "\\item -100\n",
       "\\item -115\n",
       "\\item -100\n",
       "\\item -140\n",
       "\\item -120\n",
       "\\item -150\n",
       "\\item -120\n",
       "\\end{enumerate*}\n"
      ],
      "text/markdown": [
       "1. -100\n",
       "2. -115\n",
       "3. -100\n",
       "4. -140\n",
       "5. -120\n",
       "6. -150\n",
       "7. -120\n",
       "\n",
       "\n"
      ],
      "text/plain": [
       "[1] -100 -115 -100 -140 -120 -150 -120"
      ]
     },
     "metadata": {},
     "output_type": "display_data"
    }
   ],
   "source": [
    "dat$ap_hi[dat$ap_hi<0]"
   ]
  },
  {
   "cell_type": "markdown",
   "metadata": {},
   "source": [
    "Научимся понимать информацию, которую несет боксплот. Как строится, какие границы и что означают"
   ]
  },
  {
   "cell_type": "code",
   "execution_count": 35,
   "metadata": {},
   "outputs": [
    {
     "data": {
      "text/html": [
       "80"
      ],
      "text/latex": [
       "80"
      ],
      "text/markdown": [
       "80"
      ],
      "text/plain": [
       "[1] 80"
      ]
     },
     "metadata": {},
     "output_type": "display_data"
    }
   ],
   "source": [
    "median(dat$ap_lo[dat$ap_lo<200&dat$ap_lo>20])"
   ]
  },
  {
   "cell_type": "code",
   "execution_count": 36,
   "metadata": {},
   "outputs": [
    {
     "data": {
      "text/html": [
       "<strong>25%:</strong> 80"
      ],
      "text/latex": [
       "\\textbf{25\\textbackslash{}\\%:} 80"
      ],
      "text/markdown": [
       "**25%:** 80"
      ],
      "text/plain": [
       "25% \n",
       " 80 "
      ]
     },
     "metadata": {},
     "output_type": "display_data"
    }
   ],
   "source": [
    "quantile(dat$ap_lo[dat$ap_lo<200&dat$ap_lo>20], 0.25)"
   ]
  },
  {
   "cell_type": "markdown",
   "metadata": {},
   "source": [
    "### получаем квартиль"
   ]
  },
  {
   "cell_type": "code",
   "execution_count": 39,
   "metadata": {},
   "outputs": [
    {
     "data": {
      "text/html": [
       "<ol class=list-inline>\n",
       "\t<li>30</li>\n",
       "\t<li>30</li>\n",
       "\t<li>30</li>\n",
       "\t<li>30</li>\n",
       "\t<li>30</li>\n",
       "\t<li>30</li>\n",
       "</ol>\n"
      ],
      "text/latex": [
       "\\begin{enumerate*}\n",
       "\\item 30\n",
       "\\item 30\n",
       "\\item 30\n",
       "\\item 30\n",
       "\\item 30\n",
       "\\item 30\n",
       "\\end{enumerate*}\n"
      ],
      "text/markdown": [
       "1. 30\n",
       "2. 30\n",
       "3. 30\n",
       "4. 30\n",
       "5. 30\n",
       "6. 30\n",
       "\n",
       "\n"
      ],
      "text/plain": [
       "[1] 30 30 30 30 30 30"
      ]
     },
     "metadata": {},
     "output_type": "display_data"
    }
   ],
   "source": [
    "head(sort(dat$ap_lo[dat$ap_lo<200&dat$ap_lo>20]))"
   ]
  },
  {
   "cell_type": "code",
   "execution_count": 40,
   "metadata": {},
   "outputs": [
    {
     "data": {
      "text/html": [
       "68994"
      ],
      "text/latex": [
       "68994"
      ],
      "text/markdown": [
       "68994"
      ],
      "text/plain": [
       "[1] 68994"
      ]
     },
     "metadata": {},
     "output_type": "display_data"
    }
   ],
   "source": [
    "length(dat$ap_lo[dat$ap_lo<200&dat$ap_lo>20])"
   ]
  },
  {
   "cell_type": "code",
   "execution_count": 41,
   "metadata": {},
   "outputs": [
    {
     "data": {
      "text/html": [
       "17248.5"
      ],
      "text/latex": [
       "17248.5"
      ],
      "text/markdown": [
       "17248.5"
      ],
      "text/plain": [
       "[1] 17248.5"
      ]
     },
     "metadata": {},
     "output_type": "display_data"
    }
   ],
   "source": [
    "68994*25/100"
   ]
  },
  {
   "cell_type": "code",
   "execution_count": 42,
   "metadata": {},
   "outputs": [
    {
     "data": {
      "text/html": [
       "17249"
      ],
      "text/latex": [
       "17249"
      ],
      "text/markdown": [
       "17249"
      ],
      "text/plain": [
       "[1] 17249"
      ]
     },
     "metadata": {},
     "output_type": "display_data"
    }
   ],
   "source": [
    "ind_p25<-trunc(68994*25/100)+1\n",
    "ind_p25"
   ]
  },
  {
   "cell_type": "code",
   "execution_count": 43,
   "metadata": {},
   "outputs": [
    {
     "data": {
      "text/html": [
       "80"
      ],
      "text/latex": [
       "80"
      ],
      "text/markdown": [
       "80"
      ],
      "text/plain": [
       "[1] 80"
      ]
     },
     "metadata": {},
     "output_type": "display_data"
    }
   ],
   "source": [
    "sort(dat$ap_lo[dat$ap_lo<200&dat$ap_lo>20])[ind_p25]"
   ]
  },
  {
   "cell_type": "markdown",
   "metadata": {},
   "source": [
    "Разберемся, почему 1-й квартиль совпадает с медианой"
   ]
  },
  {
   "cell_type": "code",
   "execution_count": 44,
   "metadata": {},
   "outputs": [
    {
     "data": {
      "text/html": [
       "34497"
      ],
      "text/latex": [
       "34497"
      ],
      "text/markdown": [
       "34497"
      ],
      "text/plain": [
       "[1] 34497"
      ]
     },
     "metadata": {},
     "output_type": "display_data"
    }
   ],
   "source": [
    "68994/2"
   ]
  },
  {
   "cell_type": "code",
   "execution_count": 45,
   "metadata": {},
   "outputs": [
    {
     "data": {
      "text/html": [
       "<ol class=list-inline>\n",
       "\t<li>80</li>\n",
       "\t<li>80</li>\n",
       "</ol>\n"
      ],
      "text/latex": [
       "\\begin{enumerate*}\n",
       "\\item 80\n",
       "\\item 80\n",
       "\\end{enumerate*}\n"
      ],
      "text/markdown": [
       "1. 80\n",
       "2. 80\n",
       "\n",
       "\n"
      ],
      "text/plain": [
       "[1] 80 80"
      ]
     },
     "metadata": {},
     "output_type": "display_data"
    }
   ],
   "source": [
    "sort(dat$ap_lo[dat$ap_lo<200&dat$ap_lo>20])[c(34497,34498)]"
   ]
  },
  {
   "cell_type": "code",
   "execution_count": 46,
   "metadata": {},
   "outputs": [
    {
     "data": {
      "text/html": [
       "<ol class=list-inline>\n",
       "\t<li>80</li>\n",
       "\t<li>80</li>\n",
       "\t<li>80</li>\n",
       "\t<li>80</li>\n",
       "\t<li>80</li>\n",
       "\t<li>80</li>\n",
       "</ol>\n"
      ],
      "text/latex": [
       "\\begin{enumerate*}\n",
       "\\item 80\n",
       "\\item 80\n",
       "\\item 80\n",
       "\\item 80\n",
       "\\item 80\n",
       "\\item 80\n",
       "\\end{enumerate*}\n"
      ],
      "text/markdown": [
       "1. 80\n",
       "2. 80\n",
       "3. 80\n",
       "4. 80\n",
       "5. 80\n",
       "6. 80\n",
       "\n",
       "\n"
      ],
      "text/plain": [
       "[1] 80 80 80 80 80 80"
      ]
     },
     "metadata": {},
     "output_type": "display_data"
    }
   ],
   "source": [
    "head(sort(dat$ap_lo[dat$ap_lo<200&dat$ap_lo>20])[17249:34498])"
   ]
  },
  {
   "cell_type": "code",
   "execution_count": 47,
   "metadata": {},
   "outputs": [
    {
     "data": {
      "text/html": [
       "<ol class=list-inline>\n",
       "\t<li>80</li>\n",
       "\t<li>80</li>\n",
       "\t<li>80</li>\n",
       "\t<li>80</li>\n",
       "\t<li>80</li>\n",
       "\t<li>80</li>\n",
       "\t<li>80</li>\n",
       "\t<li>80</li>\n",
       "\t<li>80</li>\n",
       "\t<li>80</li>\n",
       "\t<li>80</li>\n",
       "\t<li>80</li>\n",
       "\t<li>80</li>\n",
       "\t<li>80</li>\n",
       "\t<li>80</li>\n",
       "\t<li>80</li>\n",
       "\t<li>80</li>\n",
       "\t<li>80</li>\n",
       "\t<li>80</li>\n",
       "\t<li>80</li>\n",
       "</ol>\n"
      ],
      "text/latex": [
       "\\begin{enumerate*}\n",
       "\\item 80\n",
       "\\item 80\n",
       "\\item 80\n",
       "\\item 80\n",
       "\\item 80\n",
       "\\item 80\n",
       "\\item 80\n",
       "\\item 80\n",
       "\\item 80\n",
       "\\item 80\n",
       "\\item 80\n",
       "\\item 80\n",
       "\\item 80\n",
       "\\item 80\n",
       "\\item 80\n",
       "\\item 80\n",
       "\\item 80\n",
       "\\item 80\n",
       "\\item 80\n",
       "\\item 80\n",
       "\\end{enumerate*}\n"
      ],
      "text/markdown": [
       "1. 80\n",
       "2. 80\n",
       "3. 80\n",
       "4. 80\n",
       "5. 80\n",
       "6. 80\n",
       "7. 80\n",
       "8. 80\n",
       "9. 80\n",
       "10. 80\n",
       "11. 80\n",
       "12. 80\n",
       "13. 80\n",
       "14. 80\n",
       "15. 80\n",
       "16. 80\n",
       "17. 80\n",
       "18. 80\n",
       "19. 80\n",
       "20. 80\n",
       "\n",
       "\n"
      ],
      "text/plain": [
       " [1] 80 80 80 80 80 80 80 80 80 80 80 80 80 80 80 80 80 80 80 80"
      ]
     },
     "metadata": {},
     "output_type": "display_data"
    }
   ],
   "source": [
    "head(sort(dat$ap_lo[dat$ap_lo<200&dat$ap_lo>20])[17249:34497], 20)"
   ]
  },
  {
   "cell_type": "markdown",
   "metadata": {},
   "source": [
    "Воспользуемся функцией  filter(), %>%  из пакета dplyr, чтобы подготовить датасэт без грубейших ошибок ввода"
   ]
  },
  {
   "cell_type": "code",
   "execution_count": 50,
   "metadata": {},
   "outputs": [
    {
     "data": {
      "text/html": [
       "<table>\n",
       "<thead><tr><th scope=col>id</th><th scope=col>age</th><th scope=col>gender</th><th scope=col>height</th><th scope=col>weight</th><th scope=col>ap_hi</th><th scope=col>ap_lo</th><th scope=col>cholesterol</th><th scope=col>gluc</th><th scope=col>smoke</th><th scope=col>alco</th><th scope=col>active</th><th scope=col>cardio</th><th scope=col>age_years</th></tr></thead>\n",
       "<tbody>\n",
       "\t<tr><td>0    </td><td>18393</td><td>2    </td><td>168  </td><td>62   </td><td>110  </td><td> 80  </td><td>1    </td><td>1    </td><td>0    </td><td>0    </td><td>1    </td><td>0    </td><td>50   </td></tr>\n",
       "\t<tr><td>1    </td><td>20228</td><td>1    </td><td>156  </td><td>85   </td><td>140  </td><td> 90  </td><td>3    </td><td>1    </td><td>0    </td><td>0    </td><td>1    </td><td>1    </td><td>55   </td></tr>\n",
       "\t<tr><td>2    </td><td>18857</td><td>1    </td><td>165  </td><td>64   </td><td>130  </td><td> 70  </td><td>3    </td><td>1    </td><td>0    </td><td>0    </td><td>0    </td><td>1    </td><td>51   </td></tr>\n",
       "\t<tr><td>3    </td><td>17623</td><td>2    </td><td>169  </td><td>82   </td><td>150  </td><td>100  </td><td>1    </td><td>1    </td><td>0    </td><td>0    </td><td>1    </td><td>1    </td><td>48   </td></tr>\n",
       "\t<tr><td>4    </td><td>17474</td><td>1    </td><td>156  </td><td>56   </td><td>100  </td><td> 60  </td><td>1    </td><td>1    </td><td>0    </td><td>0    </td><td>0    </td><td>0    </td><td>47   </td></tr>\n",
       "\t<tr><td>8    </td><td>21914</td><td>1    </td><td>151  </td><td>67   </td><td>120  </td><td> 80  </td><td>2    </td><td>2    </td><td>0    </td><td>0    </td><td>0    </td><td>0    </td><td>60   </td></tr>\n",
       "</tbody>\n",
       "</table>\n"
      ],
      "text/latex": [
       "\\begin{tabular}{r|llllllllllllll}\n",
       " id & age & gender & height & weight & ap\\_hi & ap\\_lo & cholesterol & gluc & smoke & alco & active & cardio & age\\_years\\\\\n",
       "\\hline\n",
       "\t 0     & 18393 & 2     & 168   & 62    & 110   &  80   & 1     & 1     & 0     & 0     & 1     & 0     & 50   \\\\\n",
       "\t 1     & 20228 & 1     & 156   & 85    & 140   &  90   & 3     & 1     & 0     & 0     & 1     & 1     & 55   \\\\\n",
       "\t 2     & 18857 & 1     & 165   & 64    & 130   &  70   & 3     & 1     & 0     & 0     & 0     & 1     & 51   \\\\\n",
       "\t 3     & 17623 & 2     & 169   & 82    & 150   & 100   & 1     & 1     & 0     & 0     & 1     & 1     & 48   \\\\\n",
       "\t 4     & 17474 & 1     & 156   & 56    & 100   &  60   & 1     & 1     & 0     & 0     & 0     & 0     & 47   \\\\\n",
       "\t 8     & 21914 & 1     & 151   & 67    & 120   &  80   & 2     & 2     & 0     & 0     & 0     & 0     & 60   \\\\\n",
       "\\end{tabular}\n"
      ],
      "text/markdown": [
       "\n",
       "| id | age | gender | height | weight | ap_hi | ap_lo | cholesterol | gluc | smoke | alco | active | cardio | age_years |\n",
       "|---|---|---|---|---|---|---|---|---|---|---|---|---|---|\n",
       "| 0     | 18393 | 2     | 168   | 62    | 110   |  80   | 1     | 1     | 0     | 0     | 1     | 0     | 50    |\n",
       "| 1     | 20228 | 1     | 156   | 85    | 140   |  90   | 3     | 1     | 0     | 0     | 1     | 1     | 55    |\n",
       "| 2     | 18857 | 1     | 165   | 64    | 130   |  70   | 3     | 1     | 0     | 0     | 0     | 1     | 51    |\n",
       "| 3     | 17623 | 2     | 169   | 82    | 150   | 100   | 1     | 1     | 0     | 0     | 1     | 1     | 48    |\n",
       "| 4     | 17474 | 1     | 156   | 56    | 100   |  60   | 1     | 1     | 0     | 0     | 0     | 0     | 47    |\n",
       "| 8     | 21914 | 1     | 151   | 67    | 120   |  80   | 2     | 2     | 0     | 0     | 0     | 0     | 60    |\n",
       "\n"
      ],
      "text/plain": [
       "  id age   gender height weight ap_hi ap_lo cholesterol gluc smoke alco active\n",
       "1 0  18393 2      168    62     110    80   1           1    0     0    1     \n",
       "2 1  20228 1      156    85     140    90   3           1    0     0    1     \n",
       "3 2  18857 1      165    64     130    70   3           1    0     0    0     \n",
       "4 3  17623 2      169    82     150   100   1           1    0     0    1     \n",
       "5 4  17474 1      156    56     100    60   1           1    0     0    0     \n",
       "6 8  21914 1      151    67     120    80   2           2    0     0    0     \n",
       "  cardio age_years\n",
       "1 0      50       \n",
       "2 1      55       \n",
       "3 1      51       \n",
       "4 1      48       \n",
       "5 0      47       \n",
       "6 0      60       "
      ]
     },
     "metadata": {},
     "output_type": "display_data"
    }
   ],
   "source": [
    "tidy_set <- dat %>% filter((ap_lo<200 & ap_lo>20) & (ap_hi<300 & ap_hi>40))\n",
    "head(tidy_set)"
   ]
  },
  {
   "cell_type": "markdown",
   "metadata": {},
   "source": [
    "Сравним число значений переменных в 1-м и новом датасэте"
   ]
  },
  {
   "cell_type": "code",
   "execution_count": 51,
   "metadata": {},
   "outputs": [
    {
     "data": {
      "text/html": [
       "<ol class=list-inline>\n",
       "\t<li>70000</li>\n",
       "\t<li>14</li>\n",
       "</ol>\n"
      ],
      "text/latex": [
       "\\begin{enumerate*}\n",
       "\\item 70000\n",
       "\\item 14\n",
       "\\end{enumerate*}\n"
      ],
      "text/markdown": [
       "1. 70000\n",
       "2. 14\n",
       "\n",
       "\n"
      ],
      "text/plain": [
       "[1] 70000    14"
      ]
     },
     "metadata": {},
     "output_type": "display_data"
    }
   ],
   "source": [
    "dim(dat)"
   ]
  },
  {
   "cell_type": "code",
   "execution_count": 52,
   "metadata": {},
   "outputs": [
    {
     "data": {
      "text/html": [
       "<ol class=list-inline>\n",
       "\t<li>68781</li>\n",
       "\t<li>14</li>\n",
       "</ol>\n"
      ],
      "text/latex": [
       "\\begin{enumerate*}\n",
       "\\item 68781\n",
       "\\item 14\n",
       "\\end{enumerate*}\n"
      ],
      "text/markdown": [
       "1. 68781\n",
       "2. 14\n",
       "\n",
       "\n"
      ],
      "text/plain": [
       "[1] 68781    14"
      ]
     },
     "metadata": {},
     "output_type": "display_data"
    }
   ],
   "source": [
    "dim(tidy_set)"
   ]
  },
  {
   "cell_type": "code",
   "execution_count": 55,
   "metadata": {},
   "outputs": [
    {
     "data": {
      "text/html": [
       "68781"
      ],
      "text/latex": [
       "68781"
      ],
      "text/markdown": [
       "68781"
      ],
      "text/plain": [
       "[1] 68781"
      ]
     },
     "metadata": {},
     "output_type": "display_data"
    }
   ],
   "source": [
    "nrow(tidy_set)"
   ]
  },
  {
   "cell_type": "code",
   "execution_count": 56,
   "metadata": {},
   "outputs": [
    {
     "data": {
      "text/html": [
       "14"
      ],
      "text/latex": [
       "14"
      ],
      "text/markdown": [
       "14"
      ],
      "text/plain": [
       "[1] 14"
      ]
     },
     "metadata": {},
     "output_type": "display_data"
    }
   ],
   "source": [
    "ncol(tidy_set)"
   ]
  },
  {
   "cell_type": "markdown",
   "metadata": {},
   "source": [
    "#### Сравним старые и новые стандартные отклонения и средние арифметические"
   ]
  },
  {
   "cell_type": "markdown",
   "metadata": {},
   "source": [
    "__Верхнее давление:__"
   ]
  },
  {
   "cell_type": "code",
   "execution_count": 58,
   "metadata": {},
   "outputs": [
    {
     "data": {
      "text/html": [
       "128.817285714286"
      ],
      "text/latex": [
       "128.817285714286"
      ],
      "text/markdown": [
       "128.817285714286"
      ],
      "text/plain": [
       "[1] 128.8173"
      ]
     },
     "metadata": {},
     "output_type": "display_data"
    }
   ],
   "source": [
    "mean(dat$ap_hi)"
   ]
  },
  {
   "cell_type": "code",
   "execution_count": 57,
   "metadata": {},
   "outputs": [
    {
     "data": {
      "text/html": [
       "126.615286198223"
      ],
      "text/latex": [
       "126.615286198223"
      ],
      "text/markdown": [
       "126.615286198223"
      ],
      "text/plain": [
       "[1] 126.6153"
      ]
     },
     "metadata": {},
     "output_type": "display_data"
    }
   ],
   "source": [
    "mean(tidy_set$ap_hi)"
   ]
  },
  {
   "cell_type": "code",
   "execution_count": 59,
   "metadata": {},
   "outputs": [
    {
     "data": {
      "text/html": [
       "154.011419456091"
      ],
      "text/latex": [
       "154.011419456091"
      ],
      "text/markdown": [
       "154.011419456091"
      ],
      "text/plain": [
       "[1] 154.0114"
      ]
     },
     "metadata": {},
     "output_type": "display_data"
    }
   ],
   "source": [
    "sd(dat$ap_hi)"
   ]
  },
  {
   "cell_type": "code",
   "execution_count": 60,
   "metadata": {},
   "outputs": [
    {
     "data": {
      "text/html": [
       "16.7635399168877"
      ],
      "text/latex": [
       "16.7635399168877"
      ],
      "text/markdown": [
       "16.7635399168877"
      ],
      "text/plain": [
       "[1] 16.76354"
      ]
     },
     "metadata": {},
     "output_type": "display_data"
    }
   ],
   "source": [
    "sd(tidy_set$ap_hi)"
   ]
  },
  {
   "cell_type": "markdown",
   "metadata": {},
   "source": [
    "__Нижнее давление:__"
   ]
  },
  {
   "cell_type": "code",
   "execution_count": 62,
   "metadata": {},
   "outputs": [
    {
     "data": {
      "text/html": [
       "96.6304142857143"
      ],
      "text/latex": [
       "96.6304142857143"
      ],
      "text/markdown": [
       "96.6304142857143"
      ],
      "text/plain": [
       "[1] 96.63041"
      ]
     },
     "metadata": {},
     "output_type": "display_data"
    }
   ],
   "source": [
    "mean(dat$ap_lo)"
   ]
  },
  {
   "cell_type": "code",
   "execution_count": 63,
   "metadata": {},
   "outputs": [
    {
     "data": {
      "text/html": [
       "81.3775606635553"
      ],
      "text/latex": [
       "81.3775606635553"
      ],
      "text/markdown": [
       "81.3775606635553"
      ],
      "text/plain": [
       "[1] 81.37756"
      ]
     },
     "metadata": {},
     "output_type": "display_data"
    }
   ],
   "source": [
    "mean(tidy_set$ap_lo)"
   ]
  },
  {
   "cell_type": "code",
   "execution_count": 64,
   "metadata": {},
   "outputs": [
    {
     "data": {
      "text/html": [
       "188.47253029639"
      ],
      "text/latex": [
       "188.47253029639"
      ],
      "text/markdown": [
       "188.47253029639"
      ],
      "text/plain": [
       "[1] 188.4725"
      ]
     },
     "metadata": {},
     "output_type": "display_data"
    }
   ],
   "source": [
    "sd(dat$ap_lo)"
   ]
  },
  {
   "cell_type": "code",
   "execution_count": 65,
   "metadata": {},
   "outputs": [
    {
     "data": {
      "text/html": [
       "9.68835867387572"
      ],
      "text/latex": [
       "9.68835867387572"
      ],
      "text/markdown": [
       "9.68835867387572"
      ],
      "text/plain": [
       "[1] 9.688359"
      ]
     },
     "metadata": {},
     "output_type": "display_data"
    }
   ],
   "source": [
    "sd(tidy_set$ap_lo)"
   ]
  },
  {
   "cell_type": "markdown",
   "metadata": {},
   "source": [
    "После небольшой обработки данных взглянем на данные с помощью гистограммы"
   ]
  },
  {
   "cell_type": "code",
   "execution_count": 68,
   "metadata": {},
   "outputs": [
    {
     "data": {
      "image/png": "[encoded data removed]",
      "text/plain": [
       "Plot with title \"верхнее давление.new\""
      ]
     },
     "metadata": {},
     "output_type": "display_data"
    }
   ],
   "source": [
    "mypar(2,2)\n",
    "\n",
    "hist(dat$ap_lo, main=\"нижнее давление\", xlab = \"aplo_dat\", ylab=\"частота\")\n",
    "hist(dat$ap_hi, main=\"верхнее давление\", xlab = \"aphi_dat\", ylab=\"частота\")\n",
    "\n",
    "hist(tidy_set$ap_lo, main=\"нижнее давление.new\", xlab = \"aplo_tidy\", ylab=\"частота\")\n",
    "hist(tidy_set$ap_hi, main=\"верхнее давление.new\", xlab = \"aphi_tidy\", ylab=\"частота\")"
   ]
  },
  {
   "cell_type": "markdown",
   "metadata": {},
   "source": [
    "## QQ-plot"
   ]
  },
  {
   "cell_type": "markdown",
   "metadata": {},
   "source": [
    "QQ-график позволяет проверить данные на нормальность. В основе лежит идея сравнить теоретические квантили с квантилями случайной величины"
   ]
  },
  {
   "cell_type": "code",
   "execution_count": 70,
   "metadata": {},
   "outputs": [
    {
     "data": {
      "image/png": "[encoded data removed]",
      "text/plain": [
       "Plot with title \"верхнее давление.tidy\""
      ]
     },
     "metadata": {},
     "output_type": "display_data"
    }
   ],
   "source": [
    "mypar(1,2)\n",
    "qqnorm(tidy_set$ap_lo, main=\"нижнее давление.tidy\")\n",
    "qqline(tidy_set$ap_lo, col=\"red\", lwd=2)\n",
    "\n",
    "qqnorm(tidy_set$ap_hi, main=\"верхнее давление.tidy\")\n",
    "qqline(tidy_set$ap_hi, col=\"red\", lwd=4)\n",
    "abline(h=160, col=\"green\")"
   ]
  },
  {
   "cell_type": "markdown",
   "metadata": {},
   "source": [
    "__Вывод: верхние и нижние значения лежат слишком высоко и низко соответственно,чем предполагалось нормальным распределением__"
   ]
  },
  {
   "cell_type": "markdown",
   "metadata": {},
   "source": [
    "Сравним верхнее и нижнее давление по полу"
   ]
  },
  {
   "cell_type": "code",
   "execution_count": 71,
   "metadata": {},
   "outputs": [
    {
     "data": {
      "text/html": [
       "<table>\n",
       "<thead><tr><th scope=col>id</th><th scope=col>age</th><th scope=col>gender</th><th scope=col>height</th><th scope=col>weight</th><th scope=col>ap_hi</th><th scope=col>ap_lo</th><th scope=col>cholesterol</th><th scope=col>gluc</th><th scope=col>smoke</th><th scope=col>alco</th><th scope=col>active</th><th scope=col>cardio</th><th scope=col>age_years</th></tr></thead>\n",
       "<tbody>\n",
       "\t<tr><td>0    </td><td>18393</td><td>2    </td><td>168  </td><td>62   </td><td>110  </td><td> 80  </td><td>1    </td><td>1    </td><td>0    </td><td>0    </td><td>1    </td><td>0    </td><td>50   </td></tr>\n",
       "\t<tr><td>1    </td><td>20228</td><td>1    </td><td>156  </td><td>85   </td><td>140  </td><td> 90  </td><td>3    </td><td>1    </td><td>0    </td><td>0    </td><td>1    </td><td>1    </td><td>55   </td></tr>\n",
       "\t<tr><td>2    </td><td>18857</td><td>1    </td><td>165  </td><td>64   </td><td>130  </td><td> 70  </td><td>3    </td><td>1    </td><td>0    </td><td>0    </td><td>0    </td><td>1    </td><td>51   </td></tr>\n",
       "\t<tr><td>3    </td><td>17623</td><td>2    </td><td>169  </td><td>82   </td><td>150  </td><td>100  </td><td>1    </td><td>1    </td><td>0    </td><td>0    </td><td>1    </td><td>1    </td><td>48   </td></tr>\n",
       "\t<tr><td>4    </td><td>17474</td><td>1    </td><td>156  </td><td>56   </td><td>100  </td><td> 60  </td><td>1    </td><td>1    </td><td>0    </td><td>0    </td><td>0    </td><td>0    </td><td>47   </td></tr>\n",
       "\t<tr><td>8    </td><td>21914</td><td>1    </td><td>151  </td><td>67   </td><td>120  </td><td> 80  </td><td>2    </td><td>2    </td><td>0    </td><td>0    </td><td>0    </td><td>0    </td><td>60   </td></tr>\n",
       "</tbody>\n",
       "</table>\n"
      ],
      "text/latex": [
       "\\begin{tabular}{r|llllllllllllll}\n",
       " id & age & gender & height & weight & ap\\_hi & ap\\_lo & cholesterol & gluc & smoke & alco & active & cardio & age\\_years\\\\\n",
       "\\hline\n",
       "\t 0     & 18393 & 2     & 168   & 62    & 110   &  80   & 1     & 1     & 0     & 0     & 1     & 0     & 50   \\\\\n",
       "\t 1     & 20228 & 1     & 156   & 85    & 140   &  90   & 3     & 1     & 0     & 0     & 1     & 1     & 55   \\\\\n",
       "\t 2     & 18857 & 1     & 165   & 64    & 130   &  70   & 3     & 1     & 0     & 0     & 0     & 1     & 51   \\\\\n",
       "\t 3     & 17623 & 2     & 169   & 82    & 150   & 100   & 1     & 1     & 0     & 0     & 1     & 1     & 48   \\\\\n",
       "\t 4     & 17474 & 1     & 156   & 56    & 100   &  60   & 1     & 1     & 0     & 0     & 0     & 0     & 47   \\\\\n",
       "\t 8     & 21914 & 1     & 151   & 67    & 120   &  80   & 2     & 2     & 0     & 0     & 0     & 0     & 60   \\\\\n",
       "\\end{tabular}\n"
      ],
      "text/markdown": [
       "\n",
       "| id | age | gender | height | weight | ap_hi | ap_lo | cholesterol | gluc | smoke | alco | active | cardio | age_years |\n",
       "|---|---|---|---|---|---|---|---|---|---|---|---|---|---|\n",
       "| 0     | 18393 | 2     | 168   | 62    | 110   |  80   | 1     | 1     | 0     | 0     | 1     | 0     | 50    |\n",
       "| 1     | 20228 | 1     | 156   | 85    | 140   |  90   | 3     | 1     | 0     | 0     | 1     | 1     | 55    |\n",
       "| 2     | 18857 | 1     | 165   | 64    | 130   |  70   | 3     | 1     | 0     | 0     | 0     | 1     | 51    |\n",
       "| 3     | 17623 | 2     | 169   | 82    | 150   | 100   | 1     | 1     | 0     | 0     | 1     | 1     | 48    |\n",
       "| 4     | 17474 | 1     | 156   | 56    | 100   |  60   | 1     | 1     | 0     | 0     | 0     | 0     | 47    |\n",
       "| 8     | 21914 | 1     | 151   | 67    | 120   |  80   | 2     | 2     | 0     | 0     | 0     | 0     | 60    |\n",
       "\n"
      ],
      "text/plain": [
       "  id age   gender height weight ap_hi ap_lo cholesterol gluc smoke alco active\n",
       "1 0  18393 2      168    62     110    80   1           1    0     0    1     \n",
       "2 1  20228 1      156    85     140    90   3           1    0     0    1     \n",
       "3 2  18857 1      165    64     130    70   3           1    0     0    0     \n",
       "4 3  17623 2      169    82     150   100   1           1    0     0    1     \n",
       "5 4  17474 1      156    56     100    60   1           1    0     0    0     \n",
       "6 8  21914 1      151    67     120    80   2           2    0     0    0     \n",
       "  cardio age_years\n",
       "1 0      50       \n",
       "2 1      55       \n",
       "3 1      51       \n",
       "4 1      48       \n",
       "5 0      47       \n",
       "6 0      60       "
      ]
     },
     "metadata": {},
     "output_type": "display_data"
    }
   ],
   "source": [
    "head(tidy_set)"
   ]
  },
  {
   "cell_type": "code",
   "execution_count": 72,
   "metadata": {},
   "outputs": [
    {
     "name": "stdout",
     "output_type": "stream",
     "text": [
      "List of 2\n",
      " $ 1: int [1:44795] 90 70 60 80 80 70 60 80 70 70 ...\n",
      " $ 2: int [1:23986] 80 100 90 80 80 90 80 70 80 60 ...\n",
      "List of 2\n",
      " $ 1: int [1:44795] 140 130 100 120 130 110 110 120 110 130 ...\n",
      " $ 2: int [1:23986] 110 150 130 120 120 130 120 120 120 110 ...\n"
     ]
    },
    {
     "data": {
      "image/png": "[encoded data removed]",
      "text/plain": [
       "Plot with title \"верхнее давление\""
      ]
     },
     "metadata": {},
     "output_type": "display_data"
    }
   ],
   "source": [
    "mypar(1,2)\n",
    "groupss_lo<-split(tidy_set$ap_lo,tidy_set$gender)\n",
    "str(groupss_lo)\n",
    "boxplot(groupss_lo)\n",
    "title(\"нижнее давление\")\n",
    "\n",
    "groupss_hi<-split(tidy_set$ap_hi,tidy_set$gender)\n",
    "str(groupss_hi)\n",
    "boxplot(groupss_hi)\n",
    "title(\"верхнее давление\")"
   ]
  },
  {
   "cell_type": "markdown",
   "metadata": {},
   "source": [
    "Вернемся к исследованию величин \"верхнее давление\" и \"нижнее давление\" без учета пола пациента"
   ]
  },
  {
   "cell_type": "code",
   "execution_count": 73,
   "metadata": {},
   "outputs": [
    {
     "data": {
      "image/png": "[encoded data removed]",
      "text/plain": [
       "Plot with title \"верхнее давление\""
      ]
     },
     "metadata": {},
     "output_type": "display_data"
    }
   ],
   "source": [
    "mypar(1,2)\n",
    "plot(density(tidy_set$ap_lo), col=1, lwd=2, main=\"нижнее давление\")\n",
    "plot(density(tidy_set$ap_hi), col=3, lwd=2, main=\"верхнее давление\")"
   ]
  },
  {
   "cell_type": "markdown",
   "metadata": {},
   "source": [
    "Разберемся в причинах пиков"
   ]
  },
  {
   "cell_type": "code",
   "execution_count": 74,
   "metadata": {},
   "outputs": [
    {
     "data": {
      "image/png": "[encoded data removed]",
      "text/plain": [
       "Plot with title \"нижнее давление\""
      ]
     },
     "metadata": {},
     "output_type": "display_data"
    }
   ],
   "source": [
    "mypar(1,1)\n",
    "plot(density(tidy_set$ap_lo), col=\"1\", lwd=2, main=\"нижнее давление\")\n",
    "abline(v=70,col=\"red\")\n",
    "abline(v=60,col=\"red\")\n",
    "abline(v=80,col=\"red\")"
   ]
  },
  {
   "cell_type": "code",
   "execution_count": 76,
   "metadata": {},
   "outputs": [
    {
     "data": {
      "text/html": [
       "<ol class=list-inline>\n",
       "\t<li>74</li>\n",
       "\t<li>74</li>\n",
       "\t<li>74</li>\n",
       "\t<li>74</li>\n",
       "\t<li>74</li>\n",
       "\t<li>74</li>\n",
       "\t<li>74</li>\n",
       "\t<li>74</li>\n",
       "\t<li>74</li>\n",
       "\t<li>74</li>\n",
       "\t<li>74</li>\n",
       "\t<li>74</li>\n",
       "\t<li>74</li>\n",
       "\t<li>74</li>\n",
       "\t<li>74</li>\n",
       "\t<li>74</li>\n",
       "\t<li>74</li>\n",
       "\t<li>74</li>\n",
       "\t<li>74</li>\n",
       "\t<li>74</li>\n",
       "</ol>\n"
      ],
      "text/latex": [
       "\\begin{enumerate*}\n",
       "\\item 74\n",
       "\\item 74\n",
       "\\item 74\n",
       "\\item 74\n",
       "\\item 74\n",
       "\\item 74\n",
       "\\item 74\n",
       "\\item 74\n",
       "\\item 74\n",
       "\\item 74\n",
       "\\item 74\n",
       "\\item 74\n",
       "\\item 74\n",
       "\\item 74\n",
       "\\item 74\n",
       "\\item 74\n",
       "\\item 74\n",
       "\\item 74\n",
       "\\item 74\n",
       "\\item 74\n",
       "\\end{enumerate*}\n"
      ],
      "text/markdown": [
       "1. 74\n",
       "2. 74\n",
       "3. 74\n",
       "4. 74\n",
       "5. 74\n",
       "6. 74\n",
       "7. 74\n",
       "8. 74\n",
       "9. 74\n",
       "10. 74\n",
       "11. 74\n",
       "12. 74\n",
       "13. 74\n",
       "14. 74\n",
       "15. 74\n",
       "16. 74\n",
       "17. 74\n",
       "18. 74\n",
       "19. 74\n",
       "20. 74\n",
       "\n",
       "\n"
      ],
      "text/plain": [
       " [1] 74 74 74 74 74 74 74 74 74 74 74 74 74 74 74 74 74 74 74 74"
      ]
     },
     "metadata": {},
     "output_type": "display_data"
    }
   ],
   "source": [
    "sort_lo<-sort(tidy_set$ap_lo)\n",
    "cut_1<-sort_lo[sort_lo>65&sort_lo<75]\n",
    "tail(cut_1,20)"
   ]
  },
  {
   "cell_type": "markdown",
   "metadata": {},
   "source": [
    "#### Как изобразить нормальное распределение?"
   ]
  },
  {
   "cell_type": "code",
   "execution_count": 77,
   "metadata": {},
   "outputs": [
    {
     "data": {
      "image/png": "[encoded data removed]",
      "text/plain": [
       "Plot with title \"нижнее давление\""
      ]
     },
     "metadata": {},
     "output_type": "display_data"
    }
   ],
   "source": [
    "plot(density(tidy_set$ap_lo, adjust = 10), col=1, lwd=2, main=\"нижнее давление\")"
   ]
  },
  {
   "cell_type": "markdown",
   "metadata": {},
   "source": [
    "два графика на одном"
   ]
  },
  {
   "cell_type": "code",
   "execution_count": 83,
   "metadata": {},
   "outputs": [
    {
     "data": {
      "image/png": "[encoded data removed]",
      "text/plain": [
       "Plot with title \"нижнее давление\""
      ]
     },
     "metadata": {},
     "output_type": "display_data"
    }
   ],
   "source": [
    "plot(density(tidy_set$ap_lo, adjust = 10),col=1, lwd=2, main=\"нижнее давление\")\n",
    "lines(density(tidy_set$ap_hi,adjust = 10),col=3, lwd=2, lty=2)\n",
    "legend(\"topright\",c(\"ap_lo\",\"ap_hi\"), col=c(1,3), lty = c(1,2))"
   ]
  },
  {
   "cell_type": "markdown",
   "metadata": {},
   "source": [
    "## скаттерплот"
   ]
  },
  {
   "cell_type": "code",
   "execution_count": 84,
   "metadata": {},
   "outputs": [
    {
     "data": {
      "image/png": "[encoded data removed]",
      "text/plain": [
       "plot without title"
      ]
     },
     "metadata": {},
     "output_type": "display_data"
    }
   ],
   "source": [
    "plot(tidy_set$ap_hi, tidy_set$ap_lo)"
   ]
  },
  {
   "cell_type": "markdown",
   "metadata": {},
   "source": [
    "покажем разделение на группы"
   ]
  },
  {
   "cell_type": "code",
   "execution_count": 97,
   "metadata": {
    "collapsed": true,
    "jupyter": {
     "outputs_hidden": true
    }
   },
   "outputs": [
    {
     "data": {
      "text/html": [
       "\n",
       "<table width=\"100%\" summary=\"page for points {graphics}\"><tr><td>points {graphics}</td><td style=\"text-align: right;\">R Documentation</td></tr></table>\n",
       "\n",
       "<h2>Add Points to a Plot</h2>\n",
       "\n",
       "<h3>Description</h3>\n",
       "\n",
       "<p><code>points</code> is a generic function to draw a sequence of points at\n",
       "the specified coordinates.  The specified character(s) are plotted,\n",
       "centered at the coordinates.\n",
       "</p>\n",
       "\n",
       "\n",
       "<h3>Usage</h3>\n",
       "\n",
       "<pre>\n",
       "points(x, ...)\n",
       "\n",
       "## Default S3 method:\n",
       "points(x, y = NULL, type = \"p\", ...)\n",
       "</pre>\n",
       "\n",
       "\n",
       "<h3>Arguments</h3>\n",
       "\n",
       "<table summary=\"R argblock\">\n",
       "<tr valign=\"top\"><td><code>x, y</code></td>\n",
       "<td>\n",
       "<p>coordinate vectors of points to plot.</p>\n",
       "</td></tr>\n",
       "<tr valign=\"top\"><td><code>type</code></td>\n",
       "<td>\n",
       "<p>character indicating the type of plotting; actually any of\n",
       "the <code>type</code>s as in <code>plot.default</code>.</p>\n",
       "</td></tr>\n",
       "<tr valign=\"top\"><td><code>...</code></td>\n",
       "<td>\n",
       "<p>Further graphical parameters may also be supplied as\n",
       "arguments.  See &lsquo;Details&rsquo;.</p>\n",
       "</td></tr>\n",
       "</table>\n",
       "\n",
       "\n",
       "<h3>Details</h3>\n",
       "\n",
       "<p>The coordinates can be passed in a plotting structure\n",
       "(a list with <code>x</code> and <code>y</code> components), a two-column matrix, a\n",
       "time series, ....  See <code>xy.coords</code>.  If supplied\n",
       "separately, they must be of the same length.\n",
       "</p>\n",
       "<p>Graphical parameters commonly used are\n",
       "</p>\n",
       "\n",
       "<dl>\n",
       "<dt><code>pch</code></dt><dd><p>plotting &lsquo;character&rsquo;, i.e., symbol to use.\n",
       "This can either be a single character or an integer code for one\n",
       "of a set of graphics symbols.  The full set of S symbols is\n",
       "available with <code>pch = 0:18</code>, see the examples below.\n",
       "(NB: <span style=\"font-family: Courier New, Courier; color: #666666;\"><b>R</b></span> uses circles instead of the octagons used in S.)\n",
       "</p>\n",
       "<p>Value <code>pch = \".\"</code> (equivalently <code>pch = 46</code>) is handled\n",
       "specially.  It is a rectangle of side 0.01 inch (scaled by\n",
       "<code>cex</code>).  In addition, if <code>cex = 1</code> (the default), each\n",
       "side is at least one pixel (1/72 inch on the <code>pdf</code>,\n",
       "<code>postscript</code> and <code>xfig</code> devices).\n",
       "</p>\n",
       "<p>For other text symbols, <code>cex = 1</code> corresponds to the default\n",
       "fontsize of the device, often specified by an argument\n",
       "<code>pointsize</code>.  For <code>pch</code> in <code>0:25</code> the default size\n",
       "is about 75% of the character height (see <code>par(\"cin\")</code>).\n",
       "</p>\n",
       "</dd>\n",
       "<dt><code>col</code></dt><dd><p>color code or name, see <code>par</code>.</p>\n",
       "</dd>\n",
       "<dt><code>bg</code></dt><dd><p>background (fill) color for the open plot\n",
       "symbols given by <code>pch = 21:25</code>.</p>\n",
       "</dd>\n",
       "<dt><code>cex</code></dt><dd><p>character (or symbol) expansion: a numerical vector.\n",
       "This works as a multiple of <code>par(\"cex\")</code>.</p>\n",
       "</dd>\n",
       "<dt><code>lwd</code></dt><dd><p>line width for drawing symbols see <code>par</code>.</p>\n",
       "</dd>\n",
       "</dl>\n",
       "\n",
       "<p>Others less commonly used are <code>lty</code> and <code>lwd</code> for\n",
       "types such as <code>\"b\"</code> and <code>\"l\"</code>.\n",
       "</p>\n",
       "<p>The graphical parameters <code>pch</code>, <code>col</code>, <code>bg</code>,\n",
       "<code>cex</code> and <code>lwd</code> can be vectors (which will be recycled as\n",
       "needed) giving a value for each point plotted.  If lines are to be\n",
       "plotted (e.g., for <code>type = \"b\"</code>) the first element of <code>lwd</code>\n",
       "is used.\n",
       "</p>\n",
       "<p>Points whose <code>x</code>, <code>y</code>, <code>pch</code>, <code>col</code> or <code>cex</code>\n",
       "value is <code>NA</code> are omitted from the plot.\n",
       "</p>\n",
       "\n",
       "\n",
       "<h3>'pch' values</h3>\n",
       "\n",
       "<p>Values of <code>pch</code> are stored internally as integers.  The\n",
       "interpretation is\n",
       "</p>\n",
       "\n",
       "<ul>\n",
       "<li> <p><code>NA_integer_</code>: no symbol.\n",
       "</p>\n",
       "</li>\n",
       "<li> <p><code>0:18</code>: S-compatible vector symbols.\n",
       "</p>\n",
       "</li>\n",
       "<li> <p><code>19:25</code>: further <span style=\"font-family: Courier New, Courier; color: #666666;\"><b>R</b></span> vector symbols.\n",
       "</p>\n",
       "</li>\n",
       "<li> <p><code>26:31</code>: unused (and ignored).\n",
       "</p>\n",
       "</li>\n",
       "<li> <p><code>32:127</code>: ASCII characters.\n",
       "</p>\n",
       "</li>\n",
       "<li> <p><code>128:255</code> native characters <em>only in a\n",
       "single-byte locale and for the symbol font</em>.  (<code>128:159</code> are\n",
       "only used on Windows.)\n",
       "</p>\n",
       "</li>\n",
       "<li> <p><code>-32 ...</code> Unicode code point (where supported).\n",
       "</p>\n",
       "</li></ul>\n",
       "\n",
       "<p>Note that unlike S (which uses octagons), symbols <code>1</code>, <code>10</code>,\n",
       "<code>13</code> and <code>16</code> use circles.  The filled shapes <code>15:18</code>\n",
       "do not include a border.\n",
       "</p>\n",
       "\n",
       "\n",
       "<p><img src=\"../help/figures/pch.png\" alt=\"Illustration of pch = 0:25\" />\n",
       "\n",
       "</p>\n",
       "<p>The following  <span style=\"font-family: Courier New, Courier; color: #666666;\"><b>R</b></span> plotting symbols are can be obtained with\n",
       "<code>pch = 19:25</code>: those with <code>21:25</code> can be colored and\n",
       "filled with different colors: <code>col</code> gives the border color\n",
       "and <code>bg</code> the background color\n",
       "(which is <span class=\"samp\">\"grey\"</span> in the figure)\n",
       "\n",
       "</p>\n",
       "\n",
       "<ul>\n",
       "<li> <p><code>pch = 19</code>: solid circle,\n",
       "</p>\n",
       "</li>\n",
       "<li> <p><code>pch = 20</code>: bullet (smaller solid circle,\n",
       "2/3 the size of <code>19</code>),\n",
       "</p>\n",
       "</li>\n",
       "<li> <p><code>pch = 21</code>: filled circle,\n",
       "</p>\n",
       "</li>\n",
       "<li> <p><code>pch = 22</code>: filled square,\n",
       "</p>\n",
       "</li>\n",
       "<li> <p><code>pch = 23</code>: filled diamond,\n",
       "</p>\n",
       "</li>\n",
       "<li> <p><code>pch = 24</code>: filled triangle point-up,\n",
       "</p>\n",
       "</li>\n",
       "<li> <p><code>pch = 25</code>: filled triangle point down.\n",
       "</p>\n",
       "</li></ul>\n",
       "\n",
       "<p>Note that all of these both fill the shape and draw a border.  Some\n",
       "care in interpretation is needed when semi-transparent colours are\n",
       "used for both fill and border (and the result might be device-specific\n",
       "and even viewer-specific for <code>pdf</code>).\n",
       "</p>\n",
       "<p>The difference between <code>pch = 16</code> and <code>pch = 19</code> is that the\n",
       "latter uses a border and so is perceptibly larger when <code>lwd</code> is\n",
       "large relative to <code>cex</code>.\n",
       "</p>\n",
       "<p>Values <code>pch = 26:31</code> are currently unused and <code>pch = 32:127</code>\n",
       "give the ASCII characters.  In a single-byte locale\n",
       "<code>pch = 128:255</code> give the corresponding character (if any) in\n",
       "the locale's character set.  Where supported by the OS, negative\n",
       "values specify a Unicode code point, so e.g. <code>-0x2642L</code>\n",
       "is a &lsquo;male sign&rsquo; and <code>-0x20ACL</code> is the Euro.\n",
       "</p>\n",
       "<p>A character string consisting of a single character is converted to an\n",
       "integer: <code>32:127</code> for ASCII characters, and usually to the\n",
       "Unicode code point otherwise.  (In non-Latin-1 single-byte locales,\n",
       "<code>128:255</code> will be used for 8-bit characters.)\n",
       "</p>\n",
       "<p>If <code>pch</code> supplied is a logical, integer or character\n",
       "<code>NA</code> or an empty character string the point is omitted from\n",
       "the plot.\n",
       "</p>\n",
       "<p>If <code>pch</code> is <code>NULL</code> or otherwise of length 0,\n",
       "<code>par(\"pch\")</code> is used.\n",
       "</p>\n",
       "<p>If the symbol font (<code>par(font = 5)</code>) is used, numerical\n",
       "values should be used for <code>pch</code>: the range is\n",
       "<code>c(32:126, 160:254)</code> in all locales (but <code>240</code> is not\n",
       "defined (used for &lsquo;apple&rsquo; on macOS) and <code>160</code>, Euro, may\n",
       "not be present).\n",
       "</p>\n",
       "\n",
       "\n",
       "<h3>Note</h3>\n",
       "\n",
       "<p>A single-byte encoding may include the characters in\n",
       "<code>pch = 128:255</code>, and if it does, a font may not include all (or\n",
       "even any) of them.\n",
       "</p>\n",
       "<p>Not all negative numbers are valid as Unicode code points, and no\n",
       "check is done.  A display device is likely to use a rectangle for (or\n",
       "omit) Unicode code points which are invalid or for which it does not\n",
       "have a glyph in the font used.\n",
       "</p>\n",
       "<p>What happens for very small or zero values of <code>cex</code> is\n",
       "device-dependent: symbols or characters may become invisible or\n",
       "they may be plotted at a fixed minimum size.  Circles of zero radius\n",
       "will not be plotted.\n",
       "</p>\n",
       "\n",
       "\n",
       "<h3>References</h3>\n",
       "\n",
       "<p>Becker, R. A., Chambers, J. M. and Wilks, A. R. (1988)\n",
       "<em>The New S Language</em>.\n",
       "Wadsworth &amp; Brooks/Cole.\n",
       "</p>\n",
       "\n",
       "\n",
       "<h3>See Also</h3>\n",
       "\n",
       "<p><code>points.formula</code> for the formula method;\n",
       "<code>plot</code>, <code>lines</code>, and the underlying\n",
       "workhorse function <code>plot.xy</code>.\n",
       "</p>\n",
       "\n",
       "\n",
       "<h3>Examples</h3>\n",
       "\n",
       "<pre>\n",
       "require(stats) # for rnorm\n",
       "plot(-4:4, -4:4, type = \"n\")  # setting up coord. system\n",
       "points(rnorm(200), rnorm(200), col = \"red\")\n",
       "points(rnorm(100)/2, rnorm(100)/2, col = \"blue\", cex = 1.5)\n",
       "\n",
       "op &lt;- par(bg = \"light blue\")\n",
       "x &lt;- seq(0, 2*pi, len = 51)\n",
       "## something \"between type='b' and type='o'\":\n",
       "plot(x, sin(x), type = \"o\", pch = 21, bg = par(\"bg\"), col = \"blue\", cex = .6,\n",
       " main = 'plot(..., type=\"o\", pch=21, bg=par(\"bg\"))')\n",
       "par(op)\n",
       "\n",
       "## Not run: \n",
       "## The figure was produced by calls like\n",
       "png(\"pch.png\", height = 0.7, width = 7, res = 100, units = \"in\")\n",
       "par(mar = rep(0,4))\n",
       "plot(c(-1, 26), 0:1, type = \"n\", axes = FALSE)\n",
       "text(0:25, 0.6, 0:25, cex = 0.5)\n",
       "points(0:25, rep(0.3, 26), pch = 0:25, bg = \"grey\")\n",
       "\n",
       "## End(Not run)\n",
       "\n",
       "##-------- Showing all the extra &amp; some char graphics symbols ---------\n",
       "pchShow &lt;-\n",
       "  function(extras = c(\"*\",\".\", \"o\",\"O\",\"0\",\"+\",\"-\",\"|\",\"%\",\"#\"),\n",
       "           cex = 3, ## good for both .Device==\"postscript\" and \"x11\"\n",
       "           col = \"red3\", bg = \"gold\", coltext = \"brown\", cextext = 1.2,\n",
       "           main = paste(\"plot symbols :  points (...  pch = *, cex =\",\n",
       "                        cex,\")\"))\n",
       "  {\n",
       "    nex &lt;- length(extras)\n",
       "    np  &lt;- 26 + nex\n",
       "    ipch &lt;- 0:(np-1)\n",
       "    k &lt;- floor(sqrt(np))\n",
       "    dd &lt;- c(-1,1)/2\n",
       "    rx &lt;- dd + range(ix &lt;- ipch %/% k)\n",
       "    ry &lt;- dd + range(iy &lt;- 3 + (k-1)- ipch %% k)\n",
       "    pch &lt;- as.list(ipch) # list with integers &amp; strings\n",
       "    if(nex &gt; 0) pch[26+ 1:nex] &lt;- as.list(extras)\n",
       "    plot(rx, ry, type = \"n\", axes  =  FALSE, xlab = \"\", ylab = \"\", main = main)\n",
       "    abline(v = ix, h = iy, col = \"lightgray\", lty = \"dotted\")\n",
       "    for(i in 1:np) {\n",
       "      pc &lt;- pch[[i]]\n",
       "      ## 'col' symbols with a 'bg'-colored interior (where available) :\n",
       "      points(ix[i], iy[i], pch = pc, col = col, bg = bg, cex = cex)\n",
       "      if(cextext &gt; 0)\n",
       "          text(ix[i] - 0.3, iy[i], pc, col = coltext, cex = cextext)\n",
       "    }\n",
       "  }\n",
       "\n",
       "pchShow()\n",
       "pchShow(c(\"o\",\"O\",\"0\"), cex = 2.5)\n",
       "pchShow(NULL, cex = 4, cextext = 0, main = NULL)\n",
       "\n",
       "\n",
       "## ------------ test code for various pch specifications -------------\n",
       "# Try this in various font families (including Hershey)\n",
       "# and locales.  Use sign = -1 asserts we want Latin-1.\n",
       "# Standard cases in a MBCS locale will not plot the top half.\n",
       "TestChars &lt;- function(sign = 1, font = 1, ...)\n",
       "{\n",
       "   MB &lt;- l10n_info()$MBCS\n",
       "   r &lt;- if(font == 5) { sign &lt;- 1; c(32:126, 160:254)\n",
       "       } else if(MB) 32:126 else 32:255\n",
       "   if (sign == -1) r &lt;- c(32:126, 160:255)\n",
       "   par(pty = \"s\")\n",
       "   plot(c(-1,16), c(-1,16), type = \"n\", xlab = \"\", ylab = \"\",\n",
       "        xaxs = \"i\", yaxs = \"i\",\n",
       "        main = sprintf(\"sign = %d, font = %d\", sign, font))\n",
       "   grid(17, 17, lty = 1) ; mtext(paste(\"MBCS:\", MB))\n",
       "   for(i in r) try(points(i%%16, i%/%16, pch = sign*i, font = font,...))\n",
       "}\n",
       "TestChars()\n",
       "try(TestChars(sign = -1))\n",
       "TestChars(font = 5)  # Euro might be at 160 (0+10*16).\n",
       "                     # macOS has apple at 240 (0+15*16).\n",
       "try(TestChars(-1, font = 2))  # bold\n",
       "</pre>\n",
       "\n",
       "<hr /><div style=\"text-align: center;\">[Package <em>graphics</em> version 3.6.1 ]</div>"
      ],
      "text/latex": [
       "\\inputencoding{utf8}\n",
       "\\HeaderA{points}{Add Points to a Plot}{points}\n",
       "\\aliasA{pch}{points}{pch}\n",
       "\\methaliasA{points.default}{points}{points.default}\n",
       "\\keyword{aplot}{points}\n",
       "%\n",
       "\\begin{Description}\\relax\n",
       "\\code{points} is a generic function to draw a sequence of points at\n",
       "the specified coordinates.  The specified character(s) are plotted,\n",
       "centered at the coordinates.\n",
       "\\end{Description}\n",
       "%\n",
       "\\begin{Usage}\n",
       "\\begin{verbatim}\n",
       "points(x, ...)\n",
       "\n",
       "## Default S3 method:\n",
       "points(x, y = NULL, type = \"p\", ...)\n",
       "\\end{verbatim}\n",
       "\\end{Usage}\n",
       "%\n",
       "\\begin{Arguments}\n",
       "\\begin{ldescription}\n",
       "\\item[\\code{x, y}] coordinate vectors of points to plot.\n",
       "\\item[\\code{type}] character indicating the type of plotting; actually any of\n",
       "the \\code{type}s as in \\code{\\LinkA{plot.default}{plot.default}}.\n",
       "\\item[\\code{...}] Further \\LinkA{graphical parameters}{graphical parameters} may also be supplied as\n",
       "arguments.  See `Details'.\n",
       "\\end{ldescription}\n",
       "\\end{Arguments}\n",
       "%\n",
       "\\begin{Details}\\relax\n",
       "The coordinates can be passed in a plotting structure\n",
       "(a list with \\code{x} and \\code{y} components), a two-column matrix, a\n",
       "time series, \\dots.  See \\code{\\LinkA{xy.coords}{xy.coords}}.  If supplied\n",
       "separately, they must be of the same length.\n",
       "\n",
       "Graphical parameters commonly used are\n",
       "\\begin{description}\n",
       "\n",
       "\\item[\\code{pch}] plotting `character', i.e., symbol to use.\n",
       "This can either be a single character or an integer code for one\n",
       "of a set of graphics symbols.  The full set of S symbols is\n",
       "available with \\code{pch = 0:18}, see the examples below.\n",
       "(NB: \\R{} uses circles instead of the octagons used in S.)\n",
       "\n",
       "Value \\code{pch = \".\"} (equivalently \\code{pch = 46}) is handled\n",
       "specially.  It is a rectangle of side 0.01 inch (scaled by\n",
       "\\code{cex}).  In addition, if \\code{cex = 1} (the default), each\n",
       "side is at least one pixel (1/72 inch on the \\code{\\LinkA{pdf}{pdf}},\n",
       "\\code{\\LinkA{postscript}{postscript}} and \\code{\\LinkA{xfig}{xfig}} devices).\n",
       "\n",
       "For other text symbols, \\code{cex = 1} corresponds to the default\n",
       "fontsize of the device, often specified by an argument\n",
       "\\code{pointsize}.  For \\code{pch} in \\code{0:25} the default size\n",
       "is about 75\\% of the character height (see \\code{par(\"cin\")}).\n",
       "\n",
       "\\item[\\code{col}] color code or name, see \\code{\\LinkA{par}{par}}.\n",
       "\\item[\\code{bg}] background (fill) color for the open plot\n",
       "symbols given by \\code{pch = 21:25}.\n",
       "\\item[\\code{cex}] character (or symbol) expansion: a numerical vector.\n",
       "This works as a multiple of \\code{\\LinkA{par}{par}(\"cex\")}.\n",
       "\\item[\\code{lwd}] line width for drawing symbols see \\code{\\LinkA{par}{par}}.\n",
       "\n",
       "\\end{description}\n",
       "\n",
       "Others less commonly used are \\code{lty} and \\code{lwd} for\n",
       "types such as \\code{\"b\"} and \\code{\"l\"}.\n",
       "\n",
       "The \\LinkA{graphical parameters}{graphical parameters} \\code{pch}, \\code{col}, \\code{bg},\n",
       "\\code{cex} and \\code{lwd} can be vectors (which will be recycled as\n",
       "needed) giving a value for each point plotted.  If lines are to be\n",
       "plotted (e.g., for \\code{type = \"b\"}) the first element of \\code{lwd}\n",
       "is used.\n",
       "\n",
       "Points whose \\code{x}, \\code{y}, \\code{pch}, \\code{col} or \\code{cex}\n",
       "value is \\code{NA} are omitted from the plot.\n",
       "\\end{Details}\n",
       "%\n",
       "\\begin{Section}{'pch' values}\n",
       "Values of \\code{pch} are stored internally as integers.  The\n",
       "interpretation is\n",
       "\\begin{itemize}\n",
       "\n",
       "\\item{} \\code{NA\\_integer\\_}: no symbol.\n",
       "\\item{} \\code{0:18}: S-compatible vector symbols.\n",
       "\\item{} \\code{19:25}: further \\R{} vector symbols.\n",
       "\\item{} \\code{26:31}: unused (and ignored).\n",
       "\\item{} \\code{32:127}: ASCII characters.\n",
       "\\item{} \\code{128:255} native characters \\emph{only in a\n",
       "single-byte locale and for the symbol font}.  (\\code{128:159} are\n",
       "only used on Windows.)\n",
       "\\item{} \\code{-32 ...} Unicode code point (where supported).\n",
       "\n",
       "\\end{itemize}\n",
       "\n",
       "Note that unlike S (which uses octagons), symbols \\code{1}, \\code{10},\n",
       "\\code{13} and \\code{16} use circles.  The filled shapes \\code{15:18}\n",
       "do not include a border.\n",
       "\n",
       "\n",
       "\n",
       "\n",
       "\\Figure{pch.pdf}{width=15cm}\n",
       "\n",
       "The following  \\R{} plotting symbols are can be obtained with\n",
       "\\code{pch = 19:25}: those with \\code{21:25} can be colored and\n",
       "filled with different colors: \\code{col} gives the border color\n",
       "and \\code{bg} the background color\n",
       "\n",
       "(which is \\samp{\"grey\"} in the figure)\n",
       "\\begin{itemize}\n",
       "\n",
       "\\item{} \\code{pch = 19}: solid circle,\n",
       "\\item{} \\code{pch = 20}: bullet (smaller solid circle,\n",
       "2/3 the size of \\code{19}),\n",
       "\\item{} \\code{pch = 21}: filled circle,\n",
       "\\item{} \\code{pch = 22}: filled square,\n",
       "\\item{} \\code{pch = 23}: filled diamond,\n",
       "\\item{} \\code{pch = 24}: filled triangle point-up,\n",
       "\\item{} \\code{pch = 25}: filled triangle point down.\n",
       "\n",
       "\\end{itemize}\n",
       "\n",
       "Note that all of these both fill the shape and draw a border.  Some\n",
       "care in interpretation is needed when semi-transparent colours are\n",
       "used for both fill and border (and the result might be device-specific\n",
       "and even viewer-specific for \\code{\\LinkA{pdf}{pdf}}).\n",
       "\n",
       "The difference between \\code{pch = 16} and \\code{pch = 19} is that the\n",
       "latter uses a border and so is perceptibly larger when \\code{lwd} is\n",
       "large relative to \\code{cex}.\n",
       "\n",
       "Values \\code{pch = 26:31} are currently unused and \\code{pch = 32:127}\n",
       "give the ASCII characters.  In a single-byte locale\n",
       "\\code{pch = 128:255} give the corresponding character (if any) in\n",
       "the locale's character set.  Where supported by the OS, negative\n",
       "values specify a Unicode code point, so e.g.~\\code{-0x2642L}\n",
       "is a `male sign' and \\code{-0x20ACL} is the Euro.\n",
       "\n",
       "A character string consisting of a single character is converted to an\n",
       "integer: \\code{32:127} for ASCII characters, and usually to the\n",
       "Unicode code point otherwise.  (In non-Latin-1 single-byte locales,\n",
       "\\code{128:255} will be used for 8-bit characters.)\n",
       "\n",
       "If \\code{pch} supplied is a logical, integer or character\n",
       "\\code{NA} or an empty character string the point is omitted from\n",
       "the plot.\n",
       "\n",
       "If \\code{pch} is \\code{NULL} or otherwise of length 0,\n",
       "\\code{par(\"pch\")} is used.\n",
       "\n",
       "If the symbol font (\\code{\\LinkA{par}{par}(font = 5)}) is used, numerical\n",
       "values should be used for \\code{pch}: the range is\n",
       "\\code{c(32:126, 160:254)} in all locales (but \\code{240} is not\n",
       "defined (used for `apple' on macOS) and \\code{160}, Euro, may\n",
       "not be present).\n",
       "\\end{Section}\n",
       "%\n",
       "\\begin{Note}\\relax\n",
       "A single-byte encoding may include the characters in\n",
       "\\code{pch = 128:255}, and if it does, a font may not include all (or\n",
       "even any) of them.\n",
       "\n",
       "Not all negative numbers are valid as Unicode code points, and no\n",
       "check is done.  A display device is likely to use a rectangle for (or\n",
       "omit) Unicode code points which are invalid or for which it does not\n",
       "have a glyph in the font used.\n",
       "\n",
       "What happens for very small or zero values of \\code{cex} is\n",
       "device-dependent: symbols or characters may become invisible or\n",
       "they may be plotted at a fixed minimum size.  Circles of zero radius\n",
       "will not be plotted.\n",
       "\\end{Note}\n",
       "%\n",
       "\\begin{References}\\relax\n",
       "Becker, R. A., Chambers, J. M. and Wilks, A. R. (1988)\n",
       "\\emph{The New S Language}.\n",
       "Wadsworth \\& Brooks/Cole.\n",
       "\\end{References}\n",
       "%\n",
       "\\begin{SeeAlso}\\relax\n",
       "\\code{\\LinkA{points.formula}{points.formula}} for the formula method;\n",
       "\\code{\\LinkA{plot}{plot}}, \\code{\\LinkA{lines}{lines}}, and the underlying\n",
       "workhorse function \\code{\\LinkA{plot.xy}{plot.xy}}.\n",
       "\\end{SeeAlso}\n",
       "%\n",
       "\\begin{Examples}\n",
       "\\begin{ExampleCode}\n",
       "require(stats) # for rnorm\n",
       "plot(-4:4, -4:4, type = \"n\")  # setting up coord. system\n",
       "points(rnorm(200), rnorm(200), col = \"red\")\n",
       "points(rnorm(100)/2, rnorm(100)/2, col = \"blue\", cex = 1.5)\n",
       "\n",
       "op <- par(bg = \"light blue\")\n",
       "x <- seq(0, 2*pi, len = 51)\n",
       "## something \"between type='b' and type='o'\":\n",
       "plot(x, sin(x), type = \"o\", pch = 21, bg = par(\"bg\"), col = \"blue\", cex = .6,\n",
       " main = 'plot(..., type=\"o\", pch=21, bg=par(\"bg\"))')\n",
       "par(op)\n",
       "\n",
       "## Not run: \n",
       "## The figure was produced by calls like\n",
       "png(\"pch.png\", height = 0.7, width = 7, res = 100, units = \"in\")\n",
       "par(mar = rep(0,4))\n",
       "plot(c(-1, 26), 0:1, type = \"n\", axes = FALSE)\n",
       "text(0:25, 0.6, 0:25, cex = 0.5)\n",
       "points(0:25, rep(0.3, 26), pch = 0:25, bg = \"grey\")\n",
       "\n",
       "## End(Not run)\n",
       "\n",
       "##-------- Showing all the extra & some char graphics symbols ---------\n",
       "pchShow <-\n",
       "  function(extras = c(\"*\",\".\", \"o\",\"O\",\"0\",\"+\",\"-\",\"|\",\"%\",\"#\"),\n",
       "           cex = 3, ## good for both .Device==\"postscript\" and \"x11\"\n",
       "           col = \"red3\", bg = \"gold\", coltext = \"brown\", cextext = 1.2,\n",
       "           main = paste(\"plot symbols :  points (...  pch = *, cex =\",\n",
       "                        cex,\")\"))\n",
       "  {\n",
       "    nex <- length(extras)\n",
       "    np  <- 26 + nex\n",
       "    ipch <- 0:(np-1)\n",
       "    k <- floor(sqrt(np))\n",
       "    dd <- c(-1,1)/2\n",
       "    rx <- dd + range(ix <- ipch %/% k)\n",
       "    ry <- dd + range(iy <- 3 + (k-1)- ipch %% k)\n",
       "    pch <- as.list(ipch) # list with integers & strings\n",
       "    if(nex > 0) pch[26+ 1:nex] <- as.list(extras)\n",
       "    plot(rx, ry, type = \"n\", axes  =  FALSE, xlab = \"\", ylab = \"\", main = main)\n",
       "    abline(v = ix, h = iy, col = \"lightgray\", lty = \"dotted\")\n",
       "    for(i in 1:np) {\n",
       "      pc <- pch[[i]]\n",
       "      ## 'col' symbols with a 'bg'-colored interior (where available) :\n",
       "      points(ix[i], iy[i], pch = pc, col = col, bg = bg, cex = cex)\n",
       "      if(cextext > 0)\n",
       "          text(ix[i] - 0.3, iy[i], pc, col = coltext, cex = cextext)\n",
       "    }\n",
       "  }\n",
       "\n",
       "pchShow()\n",
       "pchShow(c(\"o\",\"O\",\"0\"), cex = 2.5)\n",
       "pchShow(NULL, cex = 4, cextext = 0, main = NULL)\n",
       "\n",
       "\n",
       "## ------------ test code for various pch specifications -------------\n",
       "# Try this in various font families (including Hershey)\n",
       "# and locales.  Use sign = -1 asserts we want Latin-1.\n",
       "# Standard cases in a MBCS locale will not plot the top half.\n",
       "TestChars <- function(sign = 1, font = 1, ...)\n",
       "{\n",
       "   MB <- l10n_info()$MBCS\n",
       "   r <- if(font == 5) { sign <- 1; c(32:126, 160:254)\n",
       "       } else if(MB) 32:126 else 32:255\n",
       "   if (sign == -1) r <- c(32:126, 160:255)\n",
       "   par(pty = \"s\")\n",
       "   plot(c(-1,16), c(-1,16), type = \"n\", xlab = \"\", ylab = \"\",\n",
       "        xaxs = \"i\", yaxs = \"i\",\n",
       "        main = sprintf(\"sign = %d, font = %d\", sign, font))\n",
       "   grid(17, 17, lty = 1) ; mtext(paste(\"MBCS:\", MB))\n",
       "   for(i in r) try(points(i%%16, i%/%16, pch = sign*i, font = font,...))\n",
       "}\n",
       "TestChars()\n",
       "try(TestChars(sign = -1))\n",
       "TestChars(font = 5)  # Euro might be at 160 (0+10*16).\n",
       "                     # macOS has apple at 240 (0+15*16).\n",
       "try(TestChars(-1, font = 2))  # bold\n",
       "\\end{ExampleCode}\n",
       "\\end{Examples}"
      ],
      "text/plain": [
       "points                package:graphics                 R Documentation\n",
       "\n",
       "_\bA_\bd_\bd _\bP_\bo_\bi_\bn_\bt_\bs _\bt_\bo _\ba _\bP_\bl_\bo_\bt\n",
       "\n",
       "_\bD_\be_\bs_\bc_\br_\bi_\bp_\bt_\bi_\bo_\bn:\n",
       "\n",
       "     'points' is a generic function to draw a sequence of points at the\n",
       "     specified coordinates.  The specified character(s) are plotted,\n",
       "     centered at the coordinates.\n",
       "\n",
       "_\bU_\bs_\ba_\bg_\be:\n",
       "\n",
       "     points(x, ...)\n",
       "     \n",
       "     ## Default S3 method:\n",
       "     points(x, y = NULL, type = \"p\", ...)\n",
       "     \n",
       "_\bA_\br_\bg_\bu_\bm_\be_\bn_\bt_\bs:\n",
       "\n",
       "    x, y: coordinate vectors of points to plot.\n",
       "\n",
       "    type: character indicating the type of plotting; actually any of\n",
       "          the 'type's as in 'plot.default'.\n",
       "\n",
       "     ...: Further graphical parameters may also be supplied as\n",
       "          arguments.  See 'Details'.\n",
       "\n",
       "_\bD_\be_\bt_\ba_\bi_\bl_\bs:\n",
       "\n",
       "     The coordinates can be passed in a plotting structure (a list with\n",
       "     'x' and 'y' components), a two-column matrix, a time series, ....\n",
       "     See 'xy.coords'.  If supplied separately, they must be of the same\n",
       "     length.\n",
       "\n",
       "     Graphical parameters commonly used are\n",
       "\n",
       "     'pch' plotting 'character', i.e., symbol to use.  This can either\n",
       "          be a single character or an integer code for one of a set of\n",
       "          graphics symbols.  The full set of S symbols is available\n",
       "          with 'pch = 0:18', see the examples below.  (NB: R uses\n",
       "          circles instead of the octagons used in S.)\n",
       "\n",
       "          Value 'pch = \".\"' (equivalently 'pch = 46') is handled\n",
       "          specially.  It is a rectangle of side 0.01 inch (scaled by\n",
       "          'cex').  In addition, if 'cex = 1' (the default), each side\n",
       "          is at least one pixel (1/72 inch on the 'pdf', 'postscript'\n",
       "          and 'xfig' devices).\n",
       "\n",
       "          For other text symbols, 'cex = 1' corresponds to the default\n",
       "          fontsize of the device, often specified by an argument\n",
       "          'pointsize'.  For 'pch' in '0:25' the default size is about\n",
       "          75% of the character height (see 'par(\"cin\")').\n",
       "\n",
       "     'col' color code or name, see 'par'.\n",
       "\n",
       "     'bg' background (fill) color for the open plot symbols given by\n",
       "          'pch = 21:25'.\n",
       "\n",
       "     'cex' character (or symbol) expansion: a numerical vector.  This\n",
       "          works as a multiple of 'par(\"cex\")'.\n",
       "\n",
       "     'lwd' line width for drawing symbols see 'par'.\n",
       "\n",
       "     Others less commonly used are 'lty' and 'lwd' for types such as\n",
       "     '\"b\"' and '\"l\"'.\n",
       "\n",
       "     The graphical parameters 'pch', 'col', 'bg', 'cex' and 'lwd' can\n",
       "     be vectors (which will be recycled as needed) giving a value for\n",
       "     each point plotted.  If lines are to be plotted (e.g., for 'type =\n",
       "     \"b\"') the first element of 'lwd' is used.\n",
       "\n",
       "     Points whose 'x', 'y', 'pch', 'col' or 'cex' value is 'NA' are\n",
       "     omitted from the plot.\n",
       "\n",
       "'_\bp_\bc_\bh' _\bv_\ba_\bl_\bu_\be_\bs:\n",
       "\n",
       "     Values of 'pch' are stored internally as integers.  The\n",
       "     interpretation is\n",
       "\n",
       "        вЂў 'NA_integer_': no symbol.\n",
       "\n",
       "        вЂў '0:18': S-compatible vector symbols.\n",
       "\n",
       "        вЂў '19:25': further R vector symbols.\n",
       "\n",
       "        вЂў '26:31': unused (and ignored).\n",
       "\n",
       "        вЂў '32:127': ASCII characters.\n",
       "\n",
       "        вЂў '128:255' native characters _only in a single-byte locale and\n",
       "          for the symbol font_.  ('128:159' are only used on Windows.)\n",
       "\n",
       "        вЂў '-32 ...' Unicode code point (where supported).\n",
       "\n",
       "     Note that unlike S (which uses octagons), symbols '1', '10', '13'\n",
       "     and '16' use circles.  The filled shapes '15:18' do not include a\n",
       "     border.\n",
       "\n",
       "     The following R plotting symbols are can be obtained with 'pch =\n",
       "     19:25': those with '21:25' can be colored and filled with\n",
       "     different colors: 'col' gives the border color and 'bg' the\n",
       "     background color\n",
       "\n",
       "        вЂў 'pch = 19': solid circle,\n",
       "\n",
       "        вЂў 'pch = 20': bullet (smaller solid circle, 2/3 the size of\n",
       "          '19'),\n",
       "\n",
       "        вЂў 'pch = 21': filled circle,\n",
       "\n",
       "        вЂў 'pch = 22': filled square,\n",
       "\n",
       "        вЂў 'pch = 23': filled diamond,\n",
       "\n",
       "        вЂў 'pch = 24': filled triangle point-up,\n",
       "\n",
       "        вЂў 'pch = 25': filled triangle point down.\n",
       "\n",
       "     Note that all of these both fill the shape and draw a border.\n",
       "     Some care in interpretation is needed when semi-transparent\n",
       "     colours are used for both fill and border (and the result might be\n",
       "     device-specific and even viewer-specific for 'pdf').\n",
       "\n",
       "     The difference between 'pch = 16' and 'pch = 19' is that the\n",
       "     latter uses a border and so is perceptibly larger when 'lwd' is\n",
       "     large relative to 'cex'.\n",
       "\n",
       "     Values 'pch = 26:31' are currently unused and 'pch = 32:127' give\n",
       "     the ASCII characters.  In a single-byte locale 'pch = 128:255'\n",
       "     give the corresponding character (if any) in the locale's\n",
       "     character set.  Where supported by the OS, negative values specify\n",
       "     a Unicode code point, so e.g. '-0x2642L' is a 'male sign' and\n",
       "     '-0x20ACL' is the Euro.\n",
       "\n",
       "     A character string consisting of a single character is converted\n",
       "     to an integer: '32:127' for ASCII characters, and usually to the\n",
       "     Unicode code point otherwise.  (In non-Latin-1 single-byte\n",
       "     locales, '128:255' will be used for 8-bit characters.)\n",
       "\n",
       "     If 'pch' supplied is a logical, integer or character 'NA' or an\n",
       "     empty character string the point is omitted from the plot.\n",
       "\n",
       "     If 'pch' is 'NULL' or otherwise of length 0, 'par(\"pch\")' is used.\n",
       "\n",
       "     If the symbol font ('par(font = 5)') is used, numerical values\n",
       "     should be used for 'pch': the range is 'c(32:126, 160:254)' in all\n",
       "     locales (but '240' is not defined (used for 'apple' on macOS) and\n",
       "     '160', Euro, may not be present).\n",
       "\n",
       "_\bN_\bo_\bt_\be:\n",
       "\n",
       "     A single-byte encoding may include the characters in 'pch =\n",
       "     128:255', and if it does, a font may not include all (or even any)\n",
       "     of them.\n",
       "\n",
       "     Not all negative numbers are valid as Unicode code points, and no\n",
       "     check is done.  A display device is likely to use a rectangle for\n",
       "     (or omit) Unicode code points which are invalid or for which it\n",
       "     does not have a glyph in the font used.\n",
       "\n",
       "     What happens for very small or zero values of 'cex' is\n",
       "     device-dependent: symbols or characters may become invisible or\n",
       "     they may be plotted at a fixed minimum size.  Circles of zero\n",
       "     radius will not be plotted.\n",
       "\n",
       "_\bR_\be_\bf_\be_\br_\be_\bn_\bc_\be_\bs:\n",
       "\n",
       "     Becker, R. A., Chambers, J. M. and Wilks, A. R. (1988) _The New S\n",
       "     Language_.  Wadsworth & Brooks/Cole.\n",
       "\n",
       "_\bS_\be_\be _\bA_\bl_\bs_\bo:\n",
       "\n",
       "     'points.formula' for the formula method; 'plot', 'lines', and the\n",
       "     underlying workhorse function 'plot.xy'.\n",
       "\n",
       "_\bE_\bx_\ba_\bm_\bp_\bl_\be_\bs:\n",
       "\n",
       "     require(stats) # for rnorm\n",
       "     plot(-4:4, -4:4, type = \"n\")  # setting up coord. system\n",
       "     points(rnorm(200), rnorm(200), col = \"red\")\n",
       "     points(rnorm(100)/2, rnorm(100)/2, col = \"blue\", cex = 1.5)\n",
       "     \n",
       "     op <- par(bg = \"light blue\")\n",
       "     x <- seq(0, 2*pi, len = 51)\n",
       "     ## something \"between type='b' and type='o'\":\n",
       "     plot(x, sin(x), type = \"o\", pch = 21, bg = par(\"bg\"), col = \"blue\", cex = .6,\n",
       "      main = 'plot(..., type=\"o\", pch=21, bg=par(\"bg\"))')\n",
       "     par(op)\n",
       "     \n",
       "     ## Not run:\n",
       "     \n",
       "     ## The figure was produced by calls like\n",
       "     png(\"pch.png\", height = 0.7, width = 7, res = 100, units = \"in\")\n",
       "     par(mar = rep(0,4))\n",
       "     plot(c(-1, 26), 0:1, type = \"n\", axes = FALSE)\n",
       "     text(0:25, 0.6, 0:25, cex = 0.5)\n",
       "     points(0:25, rep(0.3, 26), pch = 0:25, bg = \"grey\")\n",
       "     ## End(Not run)\n",
       "     \n",
       "     \n",
       "     ##-------- Showing all the extra & some char graphics symbols ---------\n",
       "     pchShow <-\n",
       "       function(extras = c(\"*\",\".\", \"o\",\"O\",\"0\",\"+\",\"-\",\"|\",\"%\",\"#\"),\n",
       "                cex = 3, ## good for both .Device==\"postscript\" and \"x11\"\n",
       "                col = \"red3\", bg = \"gold\", coltext = \"brown\", cextext = 1.2,\n",
       "                main = paste(\"plot symbols :  points (...  pch = *, cex =\",\n",
       "                             cex,\")\"))\n",
       "       {\n",
       "         nex <- length(extras)\n",
       "         np  <- 26 + nex\n",
       "         ipch <- 0:(np-1)\n",
       "         k <- floor(sqrt(np))\n",
       "         dd <- c(-1,1)/2\n",
       "         rx <- dd + range(ix <- ipch %/% k)\n",
       "         ry <- dd + range(iy <- 3 + (k-1)- ipch %% k)\n",
       "         pch <- as.list(ipch) # list with integers & strings\n",
       "         if(nex > 0) pch[26+ 1:nex] <- as.list(extras)\n",
       "         plot(rx, ry, type = \"n\", axes  =  FALSE, xlab = \"\", ylab = \"\", main = main)\n",
       "         abline(v = ix, h = iy, col = \"lightgray\", lty = \"dotted\")\n",
       "         for(i in 1:np) {\n",
       "           pc <- pch[[i]]\n",
       "           ## 'col' symbols with a 'bg'-colored interior (where available) :\n",
       "           points(ix[i], iy[i], pch = pc, col = col, bg = bg, cex = cex)\n",
       "           if(cextext > 0)\n",
       "               text(ix[i] - 0.3, iy[i], pc, col = coltext, cex = cextext)\n",
       "         }\n",
       "       }\n",
       "     \n",
       "     pchShow()\n",
       "     pchShow(c(\"o\",\"O\",\"0\"), cex = 2.5)\n",
       "     pchShow(NULL, cex = 4, cextext = 0, main = NULL)\n",
       "     \n",
       "     \n",
       "     ## ------------ test code for various pch specifications -------------\n",
       "     # Try this in various font families (including Hershey)\n",
       "     # and locales.  Use sign = -1 asserts we want Latin-1.\n",
       "     # Standard cases in a MBCS locale will not plot the top half.\n",
       "     TestChars <- function(sign = 1, font = 1, ...)\n",
       "     {\n",
       "        MB <- l10n_info()$MBCS\n",
       "        r <- if(font == 5) { sign <- 1; c(32:126, 160:254)\n",
       "            } else if(MB) 32:126 else 32:255\n",
       "        if (sign == -1) r <- c(32:126, 160:255)\n",
       "        par(pty = \"s\")\n",
       "        plot(c(-1,16), c(-1,16), type = \"n\", xlab = \"\", ylab = \"\",\n",
       "             xaxs = \"i\", yaxs = \"i\",\n",
       "             main = sprintf(\"sign = %d, font = %d\", sign, font))\n",
       "        grid(17, 17, lty = 1) ; mtext(paste(\"MBCS:\", MB))\n",
       "        for(i in r) try(points(i%%16, i%/%16, pch = sign*i, font = font,...))\n",
       "     }\n",
       "     TestChars()\n",
       "     try(TestChars(sign = -1))\n",
       "     TestChars(font = 5)  # Euro might be at 160 (0+10*16).\n",
       "                          # macOS has apple at 240 (0+15*16).\n",
       "     try(TestChars(-1, font = 2))  # bold\n",
       "     "
      ]
     },
     "metadata": {},
     "output_type": "display_data"
    }
   ],
   "source": [
    "?points"
   ]
  },
  {
   "cell_type": "code",
   "execution_count": 85,
   "metadata": {},
   "outputs": [
    {
     "data": {
      "image/png": "[encoded data removed]",
      "text/plain": [
       "plot without title"
      ]
     },
     "metadata": {},
     "output_type": "display_data"
    }
   ],
   "source": [
    "plot(tidy_set$ap_hi,tidy_set$ap_lo, pch=21,\n",
    "     bg= as.numeric(factor(tidy_set$gender)), xlab = \"верхнее давление\", ylab = \"нижнее давление\")\n",
    "legend(\"topright\", levels(factor(tidy_set$gender)),col=seq(along=levels(factor(tidy_set$gender))), pch=19,cex=1.1)"
   ]
  },
  {
   "cell_type": "markdown",
   "metadata": {},
   "source": [
    "фомулируем вывод"
   ]
  },
  {
   "cell_type": "code",
   "execution_count": 87,
   "metadata": {},
   "outputs": [
    {
     "data": {
      "image/png": "[encoded data removed]",
      "text/plain": [
       "plot without title"
      ]
     },
     "metadata": {},
     "output_type": "display_data"
    }
   ],
   "source": [
    "plot(tidy_set$weight,tidy_set$height, pch=21,\n",
    "     bg= as.numeric(factor(tidy_set$gender)), xlab = \"вес\", ylab= \"рост\")\n",
    "legend(\"topright\", levels(factor(tidy_set$gender)),col=seq(along=levels(factor(tidy_set$gender))), pch=19,cex=1.1)"
   ]
  },
  {
   "cell_type": "code",
   "execution_count": 89,
   "metadata": {},
   "outputs": [
    {
     "data": {
      "text/html": [
       "<table>\n",
       "<thead><tr><th scope=col>gender</th><th scope=col>height</th><th scope=col>weight</th></tr></thead>\n",
       "<tbody>\n",
       "\t<tr><td>2  </td><td>168</td><td>62 </td></tr>\n",
       "\t<tr><td>1  </td><td>156</td><td>85 </td></tr>\n",
       "\t<tr><td>1  </td><td>165</td><td>64 </td></tr>\n",
       "\t<tr><td>2  </td><td>169</td><td>82 </td></tr>\n",
       "\t<tr><td>1  </td><td>156</td><td>56 </td></tr>\n",
       "\t<tr><td>1  </td><td>151</td><td>67 </td></tr>\n",
       "</tbody>\n",
       "</table>\n"
      ],
      "text/latex": [
       "\\begin{tabular}{r|lll}\n",
       " gender & height & weight\\\\\n",
       "\\hline\n",
       "\t 2   & 168 & 62 \\\\\n",
       "\t 1   & 156 & 85 \\\\\n",
       "\t 1   & 165 & 64 \\\\\n",
       "\t 2   & 169 & 82 \\\\\n",
       "\t 1   & 156 & 56 \\\\\n",
       "\t 1   & 151 & 67 \\\\\n",
       "\\end{tabular}\n"
      ],
      "text/markdown": [
       "\n",
       "| gender | height | weight |\n",
       "|---|---|---|\n",
       "| 2   | 168 | 62  |\n",
       "| 1   | 156 | 85  |\n",
       "| 1   | 165 | 64  |\n",
       "| 2   | 169 | 82  |\n",
       "| 1   | 156 | 56  |\n",
       "| 1   | 151 | 67  |\n",
       "\n"
      ],
      "text/plain": [
       "  gender height weight\n",
       "1 2      168    62    \n",
       "2 1      156    85    \n",
       "3 1      165    64    \n",
       "4 2      169    82    \n",
       "5 1      156    56    \n",
       "6 1      151    67    "
      ]
     },
     "metadata": {},
     "output_type": "display_data"
    }
   ],
   "source": [
    "miniset<-tidy_set[,3:5]\n",
    "head(miniset)"
   ]
  },
  {
   "cell_type": "code",
   "execution_count": 90,
   "metadata": {},
   "outputs": [
    {
     "data": {
      "text/html": [
       "68781"
      ],
      "text/latex": [
       "68781"
      ],
      "text/markdown": [
       "68781"
      ],
      "text/plain": [
       "[1] 68781"
      ]
     },
     "metadata": {},
     "output_type": "display_data"
    }
   ],
   "source": [
    "nrow(miniset)"
   ]
  },
  {
   "cell_type": "code",
   "execution_count": 91,
   "metadata": {},
   "outputs": [
    {
     "data": {
      "image/png": "[encoded data removed]",
      "text/plain": [
       "plot without title"
      ]
     },
     "metadata": {},
     "output_type": "display_data"
    }
   ],
   "source": [
    "plot(miniset, pch=21, bg=miniset$gender)"
   ]
  },
  {
   "cell_type": "code",
   "execution_count": 92,
   "metadata": {},
   "outputs": [
    {
     "data": {
      "image/png": "[encoded data removed]",
      "text/plain": [
       "plot without title"
      ]
     },
     "metadata": {},
     "output_type": "display_data"
    }
   ],
   "source": [
    "plot(miniset$gender,miniset$weight, pch=21, bg=miniset$gender)"
   ]
  },
  {
   "cell_type": "code",
   "execution_count": 93,
   "metadata": {},
   "outputs": [
    {
     "data": {
      "text/html": [
       "<ol class=list-inline>\n",
       "\t<li>'id'</li>\n",
       "\t<li>'age'</li>\n",
       "\t<li>'gender'</li>\n",
       "\t<li>'height'</li>\n",
       "\t<li>'weight'</li>\n",
       "\t<li>'ap_hi'</li>\n",
       "\t<li>'ap_lo'</li>\n",
       "\t<li>'cholesterol'</li>\n",
       "\t<li>'gluc'</li>\n",
       "\t<li>'smoke'</li>\n",
       "\t<li>'alco'</li>\n",
       "\t<li>'active'</li>\n",
       "\t<li>'cardio'</li>\n",
       "\t<li>'age_years'</li>\n",
       "</ol>\n"
      ],
      "text/latex": [
       "\\begin{enumerate*}\n",
       "\\item 'id'\n",
       "\\item 'age'\n",
       "\\item 'gender'\n",
       "\\item 'height'\n",
       "\\item 'weight'\n",
       "\\item 'ap\\_hi'\n",
       "\\item 'ap\\_lo'\n",
       "\\item 'cholesterol'\n",
       "\\item 'gluc'\n",
       "\\item 'smoke'\n",
       "\\item 'alco'\n",
       "\\item 'active'\n",
       "\\item 'cardio'\n",
       "\\item 'age\\_years'\n",
       "\\end{enumerate*}\n"
      ],
      "text/markdown": [
       "1. 'id'\n",
       "2. 'age'\n",
       "3. 'gender'\n",
       "4. 'height'\n",
       "5. 'weight'\n",
       "6. 'ap_hi'\n",
       "7. 'ap_lo'\n",
       "8. 'cholesterol'\n",
       "9. 'gluc'\n",
       "10. 'smoke'\n",
       "11. 'alco'\n",
       "12. 'active'\n",
       "13. 'cardio'\n",
       "14. 'age_years'\n",
       "\n",
       "\n"
      ],
      "text/plain": [
       " [1] \"id\"          \"age\"         \"gender\"      \"height\"      \"weight\"     \n",
       " [6] \"ap_hi\"       \"ap_lo\"       \"cholesterol\" \"gluc\"        \"smoke\"      \n",
       "[11] \"alco\"        \"active\"      \"cardio\"      \"age_years\"  "
      ]
     },
     "metadata": {},
     "output_type": "display_data"
    }
   ],
   "source": [
    "colnames(tidy_set)"
   ]
  },
  {
   "cell_type": "code",
   "execution_count": 94,
   "metadata": {},
   "outputs": [
    {
     "data": {
      "text/html": [
       "<table>\n",
       "<thead><tr><th scope=col>gender</th><th scope=col>ap_hi</th><th scope=col>ap_lo</th></tr></thead>\n",
       "<tbody>\n",
       "\t<tr><td>2  </td><td>110</td><td> 80</td></tr>\n",
       "\t<tr><td>1  </td><td>140</td><td> 90</td></tr>\n",
       "\t<tr><td>1  </td><td>130</td><td> 70</td></tr>\n",
       "\t<tr><td>2  </td><td>150</td><td>100</td></tr>\n",
       "\t<tr><td>1  </td><td>100</td><td> 60</td></tr>\n",
       "\t<tr><td>1  </td><td>120</td><td> 80</td></tr>\n",
       "</tbody>\n",
       "</table>\n"
      ],
      "text/latex": [
       "\\begin{tabular}{r|lll}\n",
       " gender & ap\\_hi & ap\\_lo\\\\\n",
       "\\hline\n",
       "\t 2   & 110 &  80\\\\\n",
       "\t 1   & 140 &  90\\\\\n",
       "\t 1   & 130 &  70\\\\\n",
       "\t 2   & 150 & 100\\\\\n",
       "\t 1   & 100 &  60\\\\\n",
       "\t 1   & 120 &  80\\\\\n",
       "\\end{tabular}\n"
      ],
      "text/markdown": [
       "\n",
       "| gender | ap_hi | ap_lo |\n",
       "|---|---|---|\n",
       "| 2   | 110 |  80 |\n",
       "| 1   | 140 |  90 |\n",
       "| 1   | 130 |  70 |\n",
       "| 2   | 150 | 100 |\n",
       "| 1   | 100 |  60 |\n",
       "| 1   | 120 |  80 |\n",
       "\n"
      ],
      "text/plain": [
       "  gender ap_hi ap_lo\n",
       "1 2      110    80  \n",
       "2 1      140    90  \n",
       "3 1      130    70  \n",
       "4 2      150   100  \n",
       "5 1      100    60  \n",
       "6 1      120    80  "
      ]
     },
     "metadata": {},
     "output_type": "display_data"
    }
   ],
   "source": [
    "mini_set1<-tidy_set[,c(3,6,7)]\n",
    "head(mini_set1)"
   ]
  },
  {
   "cell_type": "code",
   "execution_count": 95,
   "metadata": {},
   "outputs": [
    {
     "data": {
      "image/png": "[encoded data removed]",
      "text/plain": [
       "plot without title"
      ]
     },
     "metadata": {},
     "output_type": "display_data"
    }
   ],
   "source": [
    "plot(mini_set1,pch=21, bg=miniset$gender)"
   ]
  },
  {
   "cell_type": "code",
   "execution_count": 96,
   "metadata": {},
   "outputs": [
    {
     "data": {
      "image/png": "[encoded data removed]",
      "text/plain": [
       "plot without title"
      ]
     },
     "metadata": {},
     "output_type": "display_data"
    }
   ],
   "source": [
    "plot(miniset$gender, miniset$height, pch=21, bg=miniset$gender)"
   ]
  },
  {
   "cell_type": "code",
   "execution_count": null,
   "metadata": {},
   "outputs": [],
   "source": []
  }
 ],
 "metadata": {
  "kernelspec": {
   "display_name": "R",
   "language": "R",
   "name": "ir"
  },
  "language_info": {
   "codemirror_mode": "r",
   "file_extension": ".r",
   "mimetype": "text/x-r-source",
   "name": "R",
   "pygments_lexer": "r",
   "version": "3.6.1"
  }
 },
 "nbformat": 4,
 "nbformat_minor": 4
}
