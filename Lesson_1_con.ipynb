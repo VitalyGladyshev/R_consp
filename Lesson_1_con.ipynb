{
 "cells": [
  {
   "cell_type": "markdown",
   "metadata": {},
   "source": [
    "# Урок 1. Начало работы в R"
   ]
  },
  {
   "cell_type": "code",
   "execution_count": 3,
   "metadata": {},
   "outputs": [
    {
     "data": {
      "text/html": [
       "<ol class=list-inline>\n",
       "\t<li>1</li>\n",
       "\t<li>2</li>\n",
       "\t<li>3</li>\n",
       "</ol>\n"
      ],
      "text/latex": [
       "\\begin{enumerate*}\n",
       "\\item 1\n",
       "\\item 2\n",
       "\\item 3\n",
       "\\end{enumerate*}\n"
      ],
      "text/markdown": [
       "1. 1\n",
       "2. 2\n",
       "3. 3\n",
       "\n",
       "\n"
      ],
      "text/plain": [
       "[1] 1 2 3"
      ]
     },
     "metadata": {},
     "output_type": "display_data"
    }
   ],
   "source": [
    "x_1<-c(1, 2, 3)   # вектор\n",
    "x_1"
   ]
  },
  {
   "cell_type": "code",
   "execution_count": 4,
   "metadata": {},
   "outputs": [
    {
     "data": {
      "text/html": [
       "'C:/YandexDisk/Jupyter/R'"
      ],
      "text/latex": [
       "'C:/YandexDisk/Jupyter/R'"
      ],
      "text/markdown": [
       "'C:/YandexDisk/Jupyter/R'"
      ],
      "text/plain": [
       "[1] \"C:/YandexDisk/Jupyter/R\""
      ]
     },
     "metadata": {},
     "output_type": "display_data"
    }
   ],
   "source": [
    "getwd()"
   ]
  },
  {
   "cell_type": "code",
   "execution_count": 5,
   "metadata": {},
   "outputs": [
    {
     "data": {
      "text/html": [
       "4"
      ],
      "text/latex": [
       "4"
      ],
      "text/markdown": [
       "4"
      ],
      "text/plain": [
       "[1] 4"
      ]
     },
     "metadata": {},
     "output_type": "display_data"
    }
   ],
   "source": [
    "10-6"
   ]
  },
  {
   "cell_type": "code",
   "execution_count": 6,
   "metadata": {},
   "outputs": [
    {
     "data": {
      "text/html": [
       "<ol class=list-inline>\n",
       "\t<li>1</li>\n",
       "\t<li>2</li>\n",
       "\t<li>3</li>\n",
       "\t<li>4</li>\n",
       "\t<li>5</li>\n",
       "\t<li>6</li>\n",
       "\t<li>7</li>\n",
       "\t<li>8</li>\n",
       "\t<li>9</li>\n",
       "\t<li>10</li>\n",
       "</ol>\n"
      ],
      "text/latex": [
       "\\begin{enumerate*}\n",
       "\\item 1\n",
       "\\item 2\n",
       "\\item 3\n",
       "\\item 4\n",
       "\\item 5\n",
       "\\item 6\n",
       "\\item 7\n",
       "\\item 8\n",
       "\\item 9\n",
       "\\item 10\n",
       "\\end{enumerate*}\n"
      ],
      "text/markdown": [
       "1. 1\n",
       "2. 2\n",
       "3. 3\n",
       "4. 4\n",
       "5. 5\n",
       "6. 6\n",
       "7. 7\n",
       "8. 8\n",
       "9. 9\n",
       "10. 10\n",
       "\n",
       "\n"
      ],
      "text/plain": [
       " [1]  1  2  3  4  5  6  7  8  9 10"
      ]
     },
     "metadata": {},
     "output_type": "display_data"
    }
   ],
   "source": [
    "1:10"
   ]
  },
  {
   "cell_type": "markdown",
   "metadata": {},
   "source": [
    "## Объекты языка R"
   ]
  },
  {
   "cell_type": "markdown",
   "metadata": {},
   "source": [
    "### Переменная"
   ]
  },
  {
   "cell_type": "code",
   "execution_count": 1,
   "metadata": {},
   "outputs": [
    {
     "data": {
      "text/html": [
       "17"
      ],
      "text/latex": [
       "17"
      ],
      "text/markdown": [
       "17"
      ],
      "text/plain": [
       "[1] 17"
      ]
     },
     "metadata": {},
     "output_type": "display_data"
    }
   ],
   "source": [
    "x.1 <- 17 # рекомендуется коментировать\n",
    "x.1"
   ]
  },
  {
   "cell_type": "code",
   "execution_count": 2,
   "metadata": {},
   "outputs": [
    {
     "ename": "ERROR",
     "evalue": "Error in eval(expr, envir, enclos): объект 'x.1' не найден\n",
     "output_type": "error",
     "traceback": [
      "Error in eval(expr, envir, enclos): объект 'x.1' не найден\nTraceback:\n"
     ]
    }
   ],
   "source": [
    "rm(x.1)\n",
    "x.1"
   ]
  },
  {
   "cell_type": "markdown",
   "metadata": {},
   "source": [
    "### Основные функции"
   ]
  },
  {
   "cell_type": "code",
   "execution_count": 7,
   "metadata": {},
   "outputs": [
    {
     "data": {
      "text/html": [
       "12"
      ],
      "text/latex": [
       "12"
      ],
      "text/markdown": [
       "12"
      ],
      "text/plain": [
       "[1] 12"
      ]
     },
     "metadata": {},
     "output_type": "display_data"
    }
   ],
   "source": [
    "10+2"
   ]
  },
  {
   "cell_type": "code",
   "execution_count": 8,
   "metadata": {},
   "outputs": [
    {
     "data": {
      "text/html": [
       "8"
      ],
      "text/latex": [
       "8"
      ],
      "text/markdown": [
       "8"
      ],
      "text/plain": [
       "[1] 8"
      ]
     },
     "metadata": {},
     "output_type": "display_data"
    }
   ],
   "source": [
    "10-2"
   ]
  },
  {
   "cell_type": "code",
   "execution_count": 9,
   "metadata": {},
   "outputs": [
    {
     "data": {
      "text/html": [
       "20"
      ],
      "text/latex": [
       "20"
      ],
      "text/markdown": [
       "20"
      ],
      "text/plain": [
       "[1] 20"
      ]
     },
     "metadata": {},
     "output_type": "display_data"
    }
   ],
   "source": [
    "10*2"
   ]
  },
  {
   "cell_type": "code",
   "execution_count": 10,
   "metadata": {},
   "outputs": [
    {
     "data": {
      "text/html": [
       "5"
      ],
      "text/latex": [
       "5"
      ],
      "text/markdown": [
       "5"
      ],
      "text/plain": [
       "[1] 5"
      ]
     },
     "metadata": {},
     "output_type": "display_data"
    }
   ],
   "source": [
    "10/2"
   ]
  },
  {
   "cell_type": "code",
   "execution_count": 11,
   "metadata": {},
   "outputs": [
    {
     "data": {
      "text/html": [
       "5"
      ],
      "text/latex": [
       "5"
      ],
      "text/markdown": [
       "5"
      ],
      "text/plain": [
       "[1] 5"
      ]
     },
     "metadata": {},
     "output_type": "display_data"
    }
   ],
   "source": [
    "sqrt(25)"
   ]
  },
  {
   "cell_type": "code",
   "execution_count": 12,
   "metadata": {},
   "outputs": [
    {
     "data": {
      "text/html": [
       "3"
      ],
      "text/latex": [
       "3"
      ],
      "text/markdown": [
       "3"
      ],
      "text/plain": [
       "[1] 3"
      ]
     },
     "metadata": {},
     "output_type": "display_data"
    }
   ],
   "source": [
    "log2(8)"
   ]
  },
  {
   "cell_type": "code",
   "execution_count": 13,
   "metadata": {
    "collapsed": true,
    "jupyter": {
     "outputs_hidden": true
    }
   },
   "outputs": [
    {
     "data": {
      "text/html": [
       "\n",
       "<table width=\"100%\" summary=\"page for log {base}\"><tr><td>log {base}</td><td style=\"text-align: right;\">R Documentation</td></tr></table>\n",
       "\n",
       "<h2>Logarithms and Exponentials</h2>\n",
       "\n",
       "<h3>Description</h3>\n",
       "\n",
       "<p><code>log</code> computes logarithms, by default natural logarithms,\n",
       "<code>log10</code> computes common (i.e., base 10) logarithms, and\n",
       "<code>log2</code> computes binary (i.e., base 2) logarithms.\n",
       "The general form <code>log(x, base)</code> computes logarithms with base\n",
       "<code>base</code>.\n",
       "</p>\n",
       "<p><code>log1p(x)</code> computes <i>log(1+x)</i> accurately also for\n",
       "<i>|x| &lt;&lt; 1</i>.\n",
       "</p>\n",
       "<p><code>exp</code> computes the exponential function.\n",
       "</p>\n",
       "<p><code>expm1(x)</code> computes <i>exp(x) - 1</i> accurately also for\n",
       "<i>|x| &lt;&lt; 1</i>.\n",
       "</p>\n",
       "\n",
       "\n",
       "<h3>Usage</h3>\n",
       "\n",
       "<pre>\n",
       "log(x, base = exp(1))\n",
       "logb(x, base = exp(1))\n",
       "log10(x)\n",
       "log2(x)\n",
       "\n",
       "log1p(x)\n",
       "\n",
       "exp(x)\n",
       "expm1(x)\n",
       "</pre>\n",
       "\n",
       "\n",
       "<h3>Arguments</h3>\n",
       "\n",
       "<table summary=\"R argblock\">\n",
       "<tr valign=\"top\"><td><code>x</code></td>\n",
       "<td>\n",
       "<p>a numeric or complex vector.</p>\n",
       "</td></tr>\n",
       "<tr valign=\"top\"><td><code>base</code></td>\n",
       "<td>\n",
       "<p>a positive or complex number: the base with respect to which\n",
       "logarithms are computed.  Defaults to <i>e</i>=<code>exp(1)</code>.</p>\n",
       "</td></tr>\n",
       "</table>\n",
       "\n",
       "\n",
       "<h3>Details</h3>\n",
       "\n",
       "<p>All except <code>logb</code> are generic functions: methods can be defined\n",
       "for them individually or via the <code>Math</code>\n",
       "group generic.\n",
       "</p>\n",
       "<p><code>log10</code> and <code>log2</code> are only convenience wrappers, but logs\n",
       "to bases 10 and 2 (whether computed <em>via</em> <code>log</code> or the wrappers)\n",
       "will be computed more efficiently and accurately where supported by the OS.\n",
       "Methods can be set for them individually (and otherwise methods for\n",
       "<code>log</code> will be used).\n",
       "</p>\n",
       "<p><code>logb</code> is a wrapper for <code>log</code> for compatibility with S.  If\n",
       "(S3 or S4) methods are set for <code>log</code> they will be dispatched.\n",
       "Do not set S4 methods on <code>logb</code> itself.\n",
       "</p>\n",
       "<p>All except <code>log</code> are primitive functions.\n",
       "</p>\n",
       "\n",
       "\n",
       "<h3>Value</h3>\n",
       "\n",
       "<p>A vector of the same length as <code>x</code> containing the transformed\n",
       "values.  <code>log(0)</code> gives <code>-Inf</code>, and <code>log(x)</code> for\n",
       "negative values of <code>x</code> is <code>NaN</code>.  <code>exp(-Inf)</code> is <code>0</code>.\n",
       "</p>\n",
       "<p>For complex inputs to the log functions, the value is a complex number\n",
       "with imaginary part in the range <i>[-pi, pi]</i>: which\n",
       "end of the range is used might be platform-specific.\n",
       "</p>\n",
       "\n",
       "\n",
       "<h3>S4 methods</h3>\n",
       "\n",
       "<p><code>exp</code>, <code>expm1</code>, <code>log</code>, <code>log10</code>, <code>log2</code> and\n",
       "<code>log1p</code> are S4 generic and are members of the\n",
       "<code>Math</code> group generic.\n",
       "</p>\n",
       "<p>Note that this means that the S4 generic for <code>log</code> has a\n",
       "signature with only one argument, <code>x</code>, but that <code>base</code> can\n",
       "be passed to methods (but will not be used for method selection).  On\n",
       "the other hand, if you only set a method for the <code>Math</code> group\n",
       "generic then <code>base</code> argument of <code>log</code> will be ignored for\n",
       "your class.\n",
       "</p>\n",
       "\n",
       "\n",
       "<h3>Source</h3>\n",
       "\n",
       "<p><code>log1p</code> and <code>expm1</code> may be taken from the operating system,\n",
       "but if not available there then they are based on the Fortran subroutine\n",
       "<code>dlnrel</code> by W. Fullerton of Los Alamos Scientific Laboratory (see\n",
       "<a href=\"http://www.netlib.org/slatec/fnlib/dlnrel.f\">http://www.netlib.org/slatec/fnlib/dlnrel.f</a>) and (for small x) a\n",
       "single Newton step for the solution of <code>log1p(y) = x</code>\n",
       "respectively.\n",
       "</p>\n",
       "\n",
       "\n",
       "<h3>References</h3>\n",
       "\n",
       "<p>Becker, R. A., Chambers, J. M. and Wilks, A. R. (1988)\n",
       "<em>The New S Language</em>.\n",
       "Wadsworth &amp; Brooks/Cole.\n",
       "(for <code>log</code>, <code>log10</code> and <code>exp</code>.)\n",
       "</p>\n",
       "<p>Chambers, J. M. (1998)\n",
       "<em>Programming with Data.  A Guide to the S Language</em>.\n",
       "Springer. (for <code>logb</code>.)\n",
       "</p>\n",
       "\n",
       "\n",
       "<h3>See Also</h3>\n",
       "\n",
       "<p><code>Trig</code>,\n",
       "<code>sqrt</code>,\n",
       "<code>Arithmetic</code>.\n",
       "</p>\n",
       "\n",
       "\n",
       "<h3>Examples</h3>\n",
       "\n",
       "<pre>\n",
       "log(exp(3))\n",
       "log10(1e7) # = 7\n",
       "\n",
       "x &lt;- 10^-(1+2*1:9)\n",
       "cbind(x, log(1+x), log1p(x), exp(x)-1, expm1(x))\n",
       "</pre>\n",
       "\n",
       "<hr /><div style=\"text-align: center;\">[Package <em>base</em> version 3.6.1 ]</div>"
      ],
      "text/latex": [
       "\\inputencoding{utf8}\n",
       "\\HeaderA{log}{Logarithms and Exponentials}{log}\n",
       "\\aliasA{exp}{log}{exp}\n",
       "\\aliasA{expm1}{log}{expm1}\n",
       "\\aliasA{log10}{log}{log10}\n",
       "\\aliasA{log1p}{log}{log1p}\n",
       "\\aliasA{log2}{log}{log2}\n",
       "\\aliasA{logb}{log}{logb}\n",
       "\\keyword{math}{log}\n",
       "%\n",
       "\\begin{Description}\\relax\n",
       "\\code{log} computes logarithms, by default natural logarithms,\n",
       "\\code{log10} computes common (i.e., base 10) logarithms, and\n",
       "\\code{log2} computes binary (i.e., base 2) logarithms.\n",
       "The general form \\code{log(x, base)} computes logarithms with base\n",
       "\\code{base}.\n",
       "\n",
       "\\code{log1p(x)} computes \\eqn{\\log(1+x)}{} accurately also for\n",
       "\\eqn{|x| \\ll 1}{}.\n",
       "\n",
       "\\code{exp} computes the exponential function.\n",
       "\n",
       "\\code{expm1(x)} computes \\eqn{\\exp(x) - 1}{} accurately also for\n",
       "\\eqn{|x| \\ll 1}{}.\n",
       "\\end{Description}\n",
       "%\n",
       "\\begin{Usage}\n",
       "\\begin{verbatim}\n",
       "log(x, base = exp(1))\n",
       "logb(x, base = exp(1))\n",
       "log10(x)\n",
       "log2(x)\n",
       "\n",
       "log1p(x)\n",
       "\n",
       "exp(x)\n",
       "expm1(x)\n",
       "\\end{verbatim}\n",
       "\\end{Usage}\n",
       "%\n",
       "\\begin{Arguments}\n",
       "\\begin{ldescription}\n",
       "\\item[\\code{x}] a numeric or complex vector.\n",
       "\\item[\\code{base}] a positive or complex number: the base with respect to which\n",
       "logarithms are computed.  Defaults to \\eqn{e}{}=\\code{exp(1)}.\n",
       "\n",
       "\\end{ldescription}\n",
       "\\end{Arguments}\n",
       "%\n",
       "\\begin{Details}\\relax\n",
       "All except \\code{logb} are generic functions: methods can be defined\n",
       "for them individually or via the \\code{\\LinkA{Math}{S3groupGeneric}}\n",
       "group generic.\n",
       "\n",
       "\\code{log10} and \\code{log2} are only convenience wrappers, but logs\n",
       "to bases 10 and 2 (whether computed \\emph{via} \\code{log} or the wrappers)\n",
       "will be computed more efficiently and accurately where supported by the OS.\n",
       "Methods can be set for them individually (and otherwise methods for\n",
       "\\code{log} will be used).\n",
       "\n",
       "\\code{logb} is a wrapper for \\code{log} for compatibility with S.  If\n",
       "(S3 or S4) methods are set for \\code{log} they will be dispatched.\n",
       "Do not set S4 methods on \\code{logb} itself.\n",
       "\n",
       "All except \\code{log} are \\LinkA{primitive}{primitive} functions.\n",
       "\\end{Details}\n",
       "%\n",
       "\\begin{Value}\n",
       "A vector of the same length as \\code{x} containing the transformed\n",
       "values.  \\code{log(0)} gives \\code{-Inf}, and \\code{log(x)} for\n",
       "negative values of \\code{x} is \\code{NaN}.  \\code{exp(-Inf)} is \\code{0}.\n",
       "\n",
       "For complex inputs to the log functions, the value is a complex number\n",
       "with imaginary part in the range \\eqn{[-\\pi, \\pi]}{}: which\n",
       "end of the range is used might be platform-specific.\n",
       "\\end{Value}\n",
       "%\n",
       "\\begin{Section}{S4 methods}\n",
       "\\code{exp}, \\code{expm1}, \\code{log}, \\code{log10}, \\code{log2} and\n",
       "\\code{log1p} are S4 generic and are members of the\n",
       "\\code{\\LinkA{Math}{S4groupGeneric}} group generic.\n",
       "\n",
       "Note that this means that the S4 generic for \\code{log} has a\n",
       "signature with only one argument, \\code{x}, but that \\code{base} can\n",
       "be passed to methods (but will not be used for method selection).  On\n",
       "the other hand, if you only set a method for the \\code{Math} group\n",
       "generic then \\code{base} argument of \\code{log} will be ignored for\n",
       "your class.\n",
       "\\end{Section}\n",
       "%\n",
       "\\begin{Source}\\relax\n",
       "\\code{log1p} and \\code{expm1} may be taken from the operating system,\n",
       "but if not available there then they are based on the Fortran subroutine\n",
       "\\code{dlnrel} by W. Fullerton of Los Alamos Scientific Laboratory (see\n",
       "\\url{http://www.netlib.org/slatec/fnlib/dlnrel.f}) and (for small x) a\n",
       "single Newton step for the solution of \\code{log1p(y) = x}\n",
       "respectively.\n",
       "\\end{Source}\n",
       "%\n",
       "\\begin{References}\\relax\n",
       "Becker, R. A., Chambers, J. M. and Wilks, A. R. (1988)\n",
       "\\emph{The New S Language}.\n",
       "Wadsworth \\& Brooks/Cole.\n",
       "(for \\code{log}, \\code{log10} and \\code{exp}.)\n",
       "\n",
       "Chambers, J. M. (1998)\n",
       "\\emph{Programming with Data.  A Guide to the S Language}.\n",
       "Springer. (for \\code{logb}.)\n",
       "\\end{References}\n",
       "%\n",
       "\\begin{SeeAlso}\\relax\n",
       "\\code{\\LinkA{Trig}{Trig}},\n",
       "\\code{\\LinkA{sqrt}{sqrt}},\n",
       "\\code{\\LinkA{Arithmetic}{Arithmetic}}.\n",
       "\\end{SeeAlso}\n",
       "%\n",
       "\\begin{Examples}\n",
       "\\begin{ExampleCode}\n",
       "log(exp(3))\n",
       "log10(1e7) # = 7\n",
       "\n",
       "x <- 10^-(1+2*1:9)\n",
       "cbind(x, log(1+x), log1p(x), exp(x)-1, expm1(x))\n",
       "\\end{ExampleCode}\n",
       "\\end{Examples}"
      ],
      "text/plain": [
       "log                    package:base                    R Documentation\n",
       "\n",
       "_\bL_\bo_\bg_\ba_\br_\bi_\bt_\bh_\bm_\bs _\ba_\bn_\bd _\bE_\bx_\bp_\bo_\bn_\be_\bn_\bt_\bi_\ba_\bl_\bs\n",
       "\n",
       "_\bD_\be_\bs_\bc_\br_\bi_\bp_\bt_\bi_\bo_\bn:\n",
       "\n",
       "     'log' computes logarithms, by default natural logarithms, 'log10'\n",
       "     computes common (i.e., base 10) logarithms, and 'log2' computes\n",
       "     binary (i.e., base 2) logarithms.  The general form 'log(x, base)'\n",
       "     computes logarithms with base 'base'.\n",
       "\n",
       "     'log1p(x)' computes log(1+x) accurately also for |x| << 1.\n",
       "\n",
       "     'exp' computes the exponential function.\n",
       "\n",
       "     'expm1(x)' computes exp(x) - 1 accurately also for |x| << 1.\n",
       "\n",
       "_\bU_\bs_\ba_\bg_\be:\n",
       "\n",
       "     log(x, base = exp(1))\n",
       "     logb(x, base = exp(1))\n",
       "     log10(x)\n",
       "     log2(x)\n",
       "     \n",
       "     log1p(x)\n",
       "     \n",
       "     exp(x)\n",
       "     expm1(x)\n",
       "     \n",
       "_\bA_\br_\bg_\bu_\bm_\be_\bn_\bt_\bs:\n",
       "\n",
       "       x: a numeric or complex vector.\n",
       "\n",
       "    base: a positive or complex number: the base with respect to which\n",
       "          logarithms are computed.  Defaults to e='exp(1)'.\n",
       "\n",
       "_\bD_\be_\bt_\ba_\bi_\bl_\bs:\n",
       "\n",
       "     All except 'logb' are generic functions: methods can be defined\n",
       "     for them individually or via the 'Math' group generic.\n",
       "\n",
       "     'log10' and 'log2' are only convenience wrappers, but logs to\n",
       "     bases 10 and 2 (whether computed _via_ 'log' or the wrappers) will\n",
       "     be computed more efficiently and accurately where supported by the\n",
       "     OS.  Methods can be set for them individually (and otherwise\n",
       "     methods for 'log' will be used).\n",
       "\n",
       "     'logb' is a wrapper for 'log' for compatibility with S.  If (S3 or\n",
       "     S4) methods are set for 'log' they will be dispatched.  Do not set\n",
       "     S4 methods on 'logb' itself.\n",
       "\n",
       "     All except 'log' are primitive functions.\n",
       "\n",
       "_\bV_\ba_\bl_\bu_\be:\n",
       "\n",
       "     A vector of the same length as 'x' containing the transformed\n",
       "     values.  'log(0)' gives '-Inf', and 'log(x)' for negative values\n",
       "     of 'x' is 'NaN'.  'exp(-Inf)' is '0'.\n",
       "\n",
       "     For complex inputs to the log functions, the value is a complex\n",
       "     number with imaginary part in the range [-pi, pi]: which end of\n",
       "     the range is used might be platform-specific.\n",
       "\n",
       "_\bS_\b4 _\bm_\be_\bt_\bh_\bo_\bd_\bs:\n",
       "\n",
       "     'exp', 'expm1', 'log', 'log10', 'log2' and 'log1p' are S4 generic\n",
       "     and are members of the 'Math' group generic.\n",
       "\n",
       "     Note that this means that the S4 generic for 'log' has a signature\n",
       "     with only one argument, 'x', but that 'base' can be passed to\n",
       "     methods (but will not be used for method selection).  On the other\n",
       "     hand, if you only set a method for the 'Math' group generic then\n",
       "     'base' argument of 'log' will be ignored for your class.\n",
       "\n",
       "_\bS_\bo_\bu_\br_\bc_\be:\n",
       "\n",
       "     'log1p' and 'expm1' may be taken from the operating system, but if\n",
       "     not available there then they are based on the Fortran subroutine\n",
       "     'dlnrel' by W. Fullerton of Los Alamos Scientific Laboratory (see\n",
       "     <URL: http://www.netlib.org/slatec/fnlib/dlnrel.f>) and (for small\n",
       "     x) a single Newton step for the solution of 'log1p(y) = x'\n",
       "     respectively.\n",
       "\n",
       "_\bR_\be_\bf_\be_\br_\be_\bn_\bc_\be_\bs:\n",
       "\n",
       "     Becker, R. A., Chambers, J. M. and Wilks, A. R. (1988) _The New S\n",
       "     Language_.  Wadsworth & Brooks/Cole.  (for 'log', 'log10' and\n",
       "     'exp'.)\n",
       "\n",
       "     Chambers, J. M. (1998) _Programming with Data.  A Guide to the S\n",
       "     Language_.  Springer. (for 'logb'.)\n",
       "\n",
       "_\bS_\be_\be _\bA_\bl_\bs_\bo:\n",
       "\n",
       "     'Trig', 'sqrt', 'Arithmetic'.\n",
       "\n",
       "_\bE_\bx_\ba_\bm_\bp_\bl_\be_\bs:\n",
       "\n",
       "     log(exp(3))\n",
       "     log10(1e7) # = 7\n",
       "     \n",
       "     x <- 10^-(1+2*1:9)\n",
       "     cbind(x, log(1+x), log1p(x), exp(x)-1, expm1(x))\n",
       "     "
      ]
     },
     "metadata": {},
     "output_type": "display_data"
    }
   ],
   "source": [
    "?log"
   ]
  },
  {
   "cell_type": "code",
   "execution_count": 193,
   "metadata": {},
   "outputs": [],
   "source": [
    "# help(log)"
   ]
  },
  {
   "cell_type": "code",
   "execution_count": 15,
   "metadata": {},
   "outputs": [
    {
     "data": {
      "text/html": [
       "3"
      ],
      "text/latex": [
       "3"
      ],
      "text/markdown": [
       "3"
      ],
      "text/plain": [
       "[1] 3"
      ]
     },
     "metadata": {},
     "output_type": "display_data"
    }
   ],
   "source": [
    "log(27, base = 3)"
   ]
  },
  {
   "cell_type": "code",
   "execution_count": 16,
   "metadata": {},
   "outputs": [
    {
     "data": {
      "text/html": [
       "1000"
      ],
      "text/latex": [
       "1000"
      ],
      "text/markdown": [
       "1000"
      ],
      "text/plain": [
       "[1] 1000"
      ]
     },
     "metadata": {},
     "output_type": "display_data"
    }
   ],
   "source": [
    "10^3"
   ]
  },
  {
   "cell_type": "code",
   "execution_count": 17,
   "metadata": {},
   "outputs": [
    {
     "data": {
      "text/html": [
       "2.71828182845905"
      ],
      "text/latex": [
       "2.71828182845905"
      ],
      "text/markdown": [
       "2.71828182845905"
      ],
      "text/plain": [
       "[1] 2.718282"
      ]
     },
     "metadata": {},
     "output_type": "display_data"
    }
   ],
   "source": [
    "exp(1)"
   ]
  },
  {
   "cell_type": "code",
   "execution_count": 18,
   "metadata": {},
   "outputs": [
    {
     "data": {
      "text/html": [
       "1"
      ],
      "text/latex": [
       "1"
      ],
      "text/markdown": [
       "1"
      ],
      "text/plain": [
       "[1] 1"
      ]
     },
     "metadata": {},
     "output_type": "display_data"
    }
   ],
   "source": [
    "log(exp(1))"
   ]
  },
  {
   "cell_type": "code",
   "execution_count": 19,
   "metadata": {},
   "outputs": [
    {
     "data": {
      "text/html": [
       "0.999896315728952"
      ],
      "text/latex": [
       "0.999896315728952"
      ],
      "text/markdown": [
       "0.999896315728952"
      ],
      "text/plain": [
       "[1] 0.9998963"
      ]
     },
     "metadata": {},
     "output_type": "display_data"
    }
   ],
   "source": [
    "log(2.718, base = exp(1))   # натуральный логарифм"
   ]
  },
  {
   "cell_type": "code",
   "execution_count": 20,
   "metadata": {},
   "outputs": [
    {
     "data": {
      "text/html": [
       "6"
      ],
      "text/latex": [
       "6"
      ],
      "text/markdown": [
       "6"
      ],
      "text/plain": [
       "[1] 6"
      ]
     },
     "metadata": {},
     "output_type": "display_data"
    }
   ],
   "source": [
    "factorial(3)"
   ]
  },
  {
   "cell_type": "code",
   "execution_count": 21,
   "metadata": {},
   "outputs": [
    {
     "data": {
      "text/html": [
       "2"
      ],
      "text/latex": [
       "2"
      ],
      "text/markdown": [
       "2"
      ],
      "text/plain": [
       "[1] 2"
      ]
     },
     "metadata": {},
     "output_type": "display_data"
    }
   ],
   "source": [
    "sqrt(log2(16))"
   ]
  },
  {
   "cell_type": "markdown",
   "metadata": {},
   "source": [
    "## Пакеты"
   ]
  },
  {
   "cell_type": "markdown",
   "metadata": {},
   "source": [
    "https://cran.r-project.org/"
   ]
  },
  {
   "cell_type": "code",
   "execution_count": 22,
   "metadata": {},
   "outputs": [
    {
     "data": {
      "text/html": [
       "<ol class=list-inline>\n",
       "\t<li>'.GlobalEnv'</li>\n",
       "\t<li>'jupyter:irkernel'</li>\n",
       "\t<li>'package:stats'</li>\n",
       "\t<li>'package:graphics'</li>\n",
       "\t<li>'package:grDevices'</li>\n",
       "\t<li>'package:utils'</li>\n",
       "\t<li>'package:datasets'</li>\n",
       "\t<li>'package:methods'</li>\n",
       "\t<li>'Autoloads'</li>\n",
       "\t<li>'package:base'</li>\n",
       "</ol>\n"
      ],
      "text/latex": [
       "\\begin{enumerate*}\n",
       "\\item '.GlobalEnv'\n",
       "\\item 'jupyter:irkernel'\n",
       "\\item 'package:stats'\n",
       "\\item 'package:graphics'\n",
       "\\item 'package:grDevices'\n",
       "\\item 'package:utils'\n",
       "\\item 'package:datasets'\n",
       "\\item 'package:methods'\n",
       "\\item 'Autoloads'\n",
       "\\item 'package:base'\n",
       "\\end{enumerate*}\n"
      ],
      "text/markdown": [
       "1. '.GlobalEnv'\n",
       "2. 'jupyter:irkernel'\n",
       "3. 'package:stats'\n",
       "4. 'package:graphics'\n",
       "5. 'package:grDevices'\n",
       "6. 'package:utils'\n",
       "7. 'package:datasets'\n",
       "8. 'package:methods'\n",
       "9. 'Autoloads'\n",
       "10. 'package:base'\n",
       "\n",
       "\n"
      ],
      "text/plain": [
       " [1] \".GlobalEnv\"        \"jupyter:irkernel\"  \"package:stats\"    \n",
       " [4] \"package:graphics\"  \"package:grDevices\" \"package:utils\"    \n",
       " [7] \"package:datasets\"  \"package:methods\"   \"Autoloads\"        \n",
       "[10] \"package:base\"     "
      ]
     },
     "metadata": {},
     "output_type": "display_data"
    }
   ],
   "source": [
    "search()"
   ]
  },
  {
   "cell_type": "code",
   "execution_count": 23,
   "metadata": {},
   "outputs": [
    {
     "name": "stdout",
     "output_type": "stream",
     "text": [
      "package 'effsize' successfully unpacked and MD5 sums checked\n",
      "\n",
      "The downloaded binary packages are in\n",
      "\tC:\\Users\\viv232\\AppData\\Local\\Temp\\RtmpMRStuB\\downloaded_packages\n"
     ]
    }
   ],
   "source": [
    "install.packages('effsize')"
   ]
  },
  {
   "cell_type": "code",
   "execution_count": 24,
   "metadata": {},
   "outputs": [
    {
     "name": "stderr",
     "output_type": "stream",
     "text": [
      "Warning message:\n",
      "\"package 'effsize' was built under R version 3.6.3\""
     ]
    }
   ],
   "source": [
    "library(effsize)"
   ]
  },
  {
   "cell_type": "code",
   "execution_count": 25,
   "metadata": {},
   "outputs": [
    {
     "data": {
      "text/html": [
       "<ol class=list-inline>\n",
       "\t<li>'.GlobalEnv'</li>\n",
       "\t<li>'package:effsize'</li>\n",
       "\t<li>'jupyter:irkernel'</li>\n",
       "\t<li>'package:stats'</li>\n",
       "\t<li>'package:graphics'</li>\n",
       "\t<li>'package:grDevices'</li>\n",
       "\t<li>'package:utils'</li>\n",
       "\t<li>'package:datasets'</li>\n",
       "\t<li>'package:methods'</li>\n",
       "\t<li>'Autoloads'</li>\n",
       "\t<li>'package:base'</li>\n",
       "</ol>\n"
      ],
      "text/latex": [
       "\\begin{enumerate*}\n",
       "\\item '.GlobalEnv'\n",
       "\\item 'package:effsize'\n",
       "\\item 'jupyter:irkernel'\n",
       "\\item 'package:stats'\n",
       "\\item 'package:graphics'\n",
       "\\item 'package:grDevices'\n",
       "\\item 'package:utils'\n",
       "\\item 'package:datasets'\n",
       "\\item 'package:methods'\n",
       "\\item 'Autoloads'\n",
       "\\item 'package:base'\n",
       "\\end{enumerate*}\n"
      ],
      "text/markdown": [
       "1. '.GlobalEnv'\n",
       "2. 'package:effsize'\n",
       "3. 'jupyter:irkernel'\n",
       "4. 'package:stats'\n",
       "5. 'package:graphics'\n",
       "6. 'package:grDevices'\n",
       "7. 'package:utils'\n",
       "8. 'package:datasets'\n",
       "9. 'package:methods'\n",
       "10. 'Autoloads'\n",
       "11. 'package:base'\n",
       "\n",
       "\n"
      ],
      "text/plain": [
       " [1] \".GlobalEnv\"        \"package:effsize\"   \"jupyter:irkernel\" \n",
       " [4] \"package:stats\"     \"package:graphics\"  \"package:grDevices\"\n",
       " [7] \"package:utils\"     \"package:datasets\"  \"package:methods\"  \n",
       "[10] \"Autoloads\"         \"package:base\"     "
      ]
     },
     "metadata": {},
     "output_type": "display_data"
    }
   ],
   "source": [
    "search()"
   ]
  },
  {
   "cell_type": "markdown",
   "metadata": {},
   "source": [
    "## Множества и действия с ними"
   ]
  },
  {
   "cell_type": "markdown",
   "metadata": {},
   "source": [
    "### Векторы"
   ]
  },
  {
   "cell_type": "code",
   "execution_count": 26,
   "metadata": {},
   "outputs": [],
   "source": [
    "a<-c(0, 1, 2, 3)"
   ]
  },
  {
   "cell_type": "code",
   "execution_count": 27,
   "metadata": {},
   "outputs": [
    {
     "data": {
      "text/html": [
       "0"
      ],
      "text/latex": [
       "0"
      ],
      "text/markdown": [
       "0"
      ],
      "text/plain": [
       "[1] 0"
      ]
     },
     "metadata": {},
     "output_type": "display_data"
    }
   ],
   "source": [
    "a[1] # итерация с ЕДИНИЦЫ!!!"
   ]
  },
  {
   "cell_type": "code",
   "execution_count": 28,
   "metadata": {},
   "outputs": [
    {
     "data": {
      "text/html": [
       "<ol class=list-inline>\n",
       "\t<li>2</li>\n",
       "\t<li>2</li>\n",
       "\t<li>2</li>\n",
       "</ol>\n"
      ],
      "text/latex": [
       "\\begin{enumerate*}\n",
       "\\item 2\n",
       "\\item 2\n",
       "\\item 2\n",
       "\\end{enumerate*}\n"
      ],
      "text/markdown": [
       "1. 2\n",
       "2. 2\n",
       "3. 2\n",
       "\n",
       "\n"
      ],
      "text/plain": [
       "[1] 2 2 2"
      ]
     },
     "metadata": {},
     "output_type": "display_data"
    }
   ],
   "source": [
    "b<-c(rep(2, time=3))\n",
    "b"
   ]
  },
  {
   "cell_type": "code",
   "execution_count": 29,
   "metadata": {},
   "outputs": [
    {
     "name": "stderr",
     "output_type": "stream",
     "text": [
      "Warning message in a + b:\n",
      "\"длина большего объекта не является произведением длины меньшего объекта\""
     ]
    },
    {
     "data": {
      "text/html": [
       "<ol class=list-inline>\n",
       "\t<li>2</li>\n",
       "\t<li>3</li>\n",
       "\t<li>4</li>\n",
       "\t<li>5</li>\n",
       "</ol>\n"
      ],
      "text/latex": [
       "\\begin{enumerate*}\n",
       "\\item 2\n",
       "\\item 3\n",
       "\\item 4\n",
       "\\item 5\n",
       "\\end{enumerate*}\n"
      ],
      "text/markdown": [
       "1. 2\n",
       "2. 3\n",
       "3. 4\n",
       "4. 5\n",
       "\n",
       "\n"
      ],
      "text/plain": [
       "[1] 2 3 4 5"
      ]
     },
     "metadata": {},
     "output_type": "display_data"
    }
   ],
   "source": [
    "a+b"
   ]
  },
  {
   "cell_type": "code",
   "execution_count": 30,
   "metadata": {},
   "outputs": [
    {
     "data": {
      "text/html": [
       "<ol class=list-inline>\n",
       "\t<li>2</li>\n",
       "\t<li>2</li>\n",
       "\t<li>2</li>\n",
       "\t<li>2</li>\n",
       "</ol>\n"
      ],
      "text/latex": [
       "\\begin{enumerate*}\n",
       "\\item 2\n",
       "\\item 2\n",
       "\\item 2\n",
       "\\item 2\n",
       "\\end{enumerate*}\n"
      ],
      "text/markdown": [
       "1. 2\n",
       "2. 2\n",
       "3. 2\n",
       "4. 2\n",
       "\n",
       "\n"
      ],
      "text/plain": [
       "[1] 2 2 2 2"
      ]
     },
     "metadata": {},
     "output_type": "display_data"
    }
   ],
   "source": [
    "b_1 = rep(2, 4)\n",
    "b_1"
   ]
  },
  {
   "cell_type": "code",
   "execution_count": 31,
   "metadata": {},
   "outputs": [
    {
     "data": {
      "text/html": [
       "<ol class=list-inline>\n",
       "\t<li>2</li>\n",
       "\t<li>3</li>\n",
       "\t<li>4</li>\n",
       "\t<li>5</li>\n",
       "</ol>\n"
      ],
      "text/latex": [
       "\\begin{enumerate*}\n",
       "\\item 2\n",
       "\\item 3\n",
       "\\item 4\n",
       "\\item 5\n",
       "\\end{enumerate*}\n"
      ],
      "text/markdown": [
       "1. 2\n",
       "2. 3\n",
       "3. 4\n",
       "4. 5\n",
       "\n",
       "\n"
      ],
      "text/plain": [
       "[1] 2 3 4 5"
      ]
     },
     "metadata": {},
     "output_type": "display_data"
    }
   ],
   "source": [
    "a + b_1"
   ]
  },
  {
   "cell_type": "code",
   "execution_count": 32,
   "metadata": {},
   "outputs": [
    {
     "data": {
      "text/html": [
       "<ol class=list-inline>\n",
       "\t<li>2</li>\n",
       "\t<li>4</li>\n",
       "\t<li>6</li>\n",
       "\t<li>8</li>\n",
       "</ol>\n"
      ],
      "text/latex": [
       "\\begin{enumerate*}\n",
       "\\item 2\n",
       "\\item 4\n",
       "\\item 6\n",
       "\\item 8\n",
       "\\end{enumerate*}\n"
      ],
      "text/markdown": [
       "1. 2\n",
       "2. 4\n",
       "3. 6\n",
       "4. 8\n",
       "\n",
       "\n"
      ],
      "text/plain": [
       "[1] 2 4 6 8"
      ]
     },
     "metadata": {},
     "output_type": "display_data"
    }
   ],
   "source": [
    "seq(2, 8, by = 2)   # чётные"
   ]
  },
  {
   "cell_type": "code",
   "execution_count": 33,
   "metadata": {},
   "outputs": [
    {
     "data": {
      "text/html": [
       "<ol class=list-inline>\n",
       "\t<li>1</li>\n",
       "\t<li>3</li>\n",
       "\t<li>5</li>\n",
       "\t<li>7</li>\n",
       "\t<li>9</li>\n",
       "</ol>\n"
      ],
      "text/latex": [
       "\\begin{enumerate*}\n",
       "\\item 1\n",
       "\\item 3\n",
       "\\item 5\n",
       "\\item 7\n",
       "\\item 9\n",
       "\\end{enumerate*}\n"
      ],
      "text/markdown": [
       "1. 1\n",
       "2. 3\n",
       "3. 5\n",
       "4. 7\n",
       "5. 9\n",
       "\n",
       "\n"
      ],
      "text/plain": [
       "[1] 1 3 5 7 9"
      ]
     },
     "metadata": {},
     "output_type": "display_data"
    }
   ],
   "source": [
    "seq(1, 9, by = 2)   # нечётные"
   ]
  },
  {
   "cell_type": "code",
   "execution_count": 34,
   "metadata": {
    "collapsed": true,
    "jupyter": {
     "outputs_hidden": true
    }
   },
   "outputs": [
    {
     "data": {
      "text/html": [
       "\n",
       "<table width=\"100%\" summary=\"page for seq {base}\"><tr><td>seq {base}</td><td style=\"text-align: right;\">R Documentation</td></tr></table>\n",
       "\n",
       "<h2>Sequence Generation</h2>\n",
       "\n",
       "<h3>Description</h3>\n",
       "\n",
       "<p>Generate regular sequences.  <code>seq</code> is a standard generic with a\n",
       "default method.  <code>seq.int</code> is a primitive which can be\n",
       "much faster but has a few restrictions.  <code>seq_along</code> and\n",
       "<code>seq_len</code> are very fast primitives for two common cases.\n",
       "</p>\n",
       "\n",
       "\n",
       "<h3>Usage</h3>\n",
       "\n",
       "<pre>\n",
       "seq(...)\n",
       "\n",
       "## Default S3 method:\n",
       "seq(from = 1, to = 1, by = ((to - from)/(length.out - 1)),\n",
       "    length.out = NULL, along.with = NULL, ...)\n",
       "\n",
       "seq.int(from, to, by, length.out, along.with, ...)\n",
       "\n",
       "seq_along(along.with)\n",
       "seq_len(length.out)\n",
       "</pre>\n",
       "\n",
       "\n",
       "<h3>Arguments</h3>\n",
       "\n",
       "<table summary=\"R argblock\">\n",
       "<tr valign=\"top\"><td><code>...</code></td>\n",
       "<td>\n",
       "<p>arguments passed to or from methods.</p>\n",
       "</td></tr>\n",
       "<tr valign=\"top\"><td><code>from, to</code></td>\n",
       "<td>\n",
       "<p>the starting and (maximal) end values of the\n",
       "sequence.  Of length <code>1</code> unless just <code>from</code> is supplied as\n",
       "an unnamed argument.</p>\n",
       "</td></tr>\n",
       "<tr valign=\"top\"><td><code>by</code></td>\n",
       "<td>\n",
       "<p>number: increment of the sequence.</p>\n",
       "</td></tr>\n",
       "<tr valign=\"top\"><td><code>length.out</code></td>\n",
       "<td>\n",
       "<p>desired length of the sequence.  A\n",
       "non-negative number, which for <code>seq</code> and <code>seq.int</code> will be\n",
       "rounded up if fractional.</p>\n",
       "</td></tr>\n",
       "<tr valign=\"top\"><td><code>along.with</code></td>\n",
       "<td>\n",
       "<p>take the length from the length of this argument.</p>\n",
       "</td></tr>\n",
       "</table>\n",
       "\n",
       "\n",
       "<h3>Details</h3>\n",
       "\n",
       "<p>Numerical inputs should all be finite (that is, not infinite,\n",
       "<code>NaN</code> or <code>NA</code>).\n",
       "</p>\n",
       "<p>The interpretation of the unnamed arguments of <code>seq</code> and\n",
       "<code>seq.int</code> is <em>not</em> standard, and it is recommended always to\n",
       "name the arguments when programming.\n",
       "</p>\n",
       "<p><code>seq</code> is  generic, and only the default method is described here.\n",
       "Note that it dispatches on the class of the <strong>first</strong> argument\n",
       "irrespective of argument names.  This can have unintended consequences\n",
       "if it is called with just one argument intending this to be taken as\n",
       "<code>along.with</code>: it is much better to use <code>seq_along</code> in that\n",
       "case.\n",
       "</p>\n",
       "<p><code>seq.int</code> is an internal generic which dispatches on\n",
       "methods for <code>\"seq\"</code> based on the class of the first supplied\n",
       "argument (before argument matching).\n",
       "</p>\n",
       "<p>Typical usages are\n",
       "</p>\n",
       "<pre>seq(from, to)\n",
       "seq(from, to, by= )\n",
       "seq(from, to, length.out= )\n",
       "seq(along.with= )\n",
       "seq(from)\n",
       "seq(length.out= )\n",
       "</pre>\n",
       "<p>The first form generates the sequence <code>from, from+/-1, ..., to</code>\n",
       "(identical to <code>from:to</code>).\n",
       "</p>\n",
       "<p>The second form generates <code>from, from+by</code>, ..., up to the\n",
       "sequence value less than or equal to <code>to</code>.  Specifying <code>to -\n",
       "  from</code> and <code>by</code> of opposite signs is an error.  Note that the\n",
       "computed final value can go just beyond <code>to</code> to allow for\n",
       "rounding error, but is truncated to <code>to</code>.  (&lsquo;Just beyond&rsquo;\n",
       "is by up to <i>1e-10</i> times <code>abs(from - to)</code>.)\n",
       "</p>\n",
       "<p>The third generates a sequence of <code>length.out</code> equally spaced\n",
       "values from <code>from</code> to <code>to</code>.  (<code>length.out</code> is usually\n",
       "abbreviated to <code>length</code> or <code>len</code>, and <code>seq_len</code> is much\n",
       "faster.)\n",
       "</p>\n",
       "<p>The fourth form generates the integer sequence <code>1, 2, ...,\n",
       "    length(along.with)</code>.  (<code>along.with</code> is usually abbreviated to\n",
       "<code>along</code>, and <code>seq_along</code> is much faster.)\n",
       "</p>\n",
       "<p>The fifth form generates the sequence <code>1, 2, ..., length(from)</code>\n",
       "(as if argument <code>along.with</code> had been specified), <em>unless</em>\n",
       "the argument is numeric of length 1 when it is interpreted as\n",
       "<code>1:from</code> (even for <code>seq(0)</code> for compatibility with S).\n",
       "Using either <code>seq_along</code> or <code>seq_len</code> is much preferred\n",
       "(unless strict S compatibility is essential).\n",
       "</p>\n",
       "<p>The final form generates the integer sequence <code>1, 2, ...,\n",
       "  length.out</code> unless <code>length.out = 0</code>, when it generates\n",
       "<code>integer(0)</code>.\n",
       "</p>\n",
       "<p>Very small sequences (with <code>from - to</code> of the order of <i>10^{-14}</i>\n",
       "times the larger of the ends) will return <code>from</code>.\n",
       "</p>\n",
       "<p>For <code>seq</code> (only), up to two of <code>from</code>, <code>to</code> and\n",
       "<code>by</code> can be supplied as complex values provided <code>length.out</code>\n",
       "or <code>along.with</code> is specified.  More generally, the default method\n",
       "of <code>seq</code> will handle classed objects with methods for\n",
       "the <code>Math</code>, <code>Ops</code> and <code>Summary</code> group generics.\n",
       "</p>\n",
       "<p><code>seq.int</code>, <code>seq_along</code> and <code>seq_len</code> are\n",
       "primitive.\n",
       "</p>\n",
       "\n",
       "\n",
       "<h3>Value</h3>\n",
       "\n",
       "<p><code>seq.int</code> and the default method of <code>seq</code> for numeric\n",
       "arguments return a vector of type <code>\"integer\"</code> or <code>\"double\"</code>:\n",
       "programmers should not rely on which.\n",
       "</p>\n",
       "<p><code>seq_along</code> and <code>seq_len</code> return an integer vector, unless\n",
       "it is a <em>long vector</em> when it will be double.\n",
       "</p>\n",
       "\n",
       "\n",
       "<h3>References</h3>\n",
       "\n",
       "<p>Becker, R. A., Chambers, J. M. and Wilks, A. R. (1988)\n",
       "<em>The New S Language</em>.\n",
       "Wadsworth &amp; Brooks/Cole.\n",
       "</p>\n",
       "\n",
       "\n",
       "<h3>See Also</h3>\n",
       "\n",
       "<p>The methods <code>seq.Date</code> and <code>seq.POSIXt</code>.\n",
       "</p>\n",
       "<p><code>:</code>,\n",
       "<code>rep</code>,\n",
       "<code>sequence</code>,\n",
       "<code>row</code>,\n",
       "<code>col</code>.\n",
       "</p>\n",
       "\n",
       "\n",
       "<h3>Examples</h3>\n",
       "\n",
       "<pre>\n",
       "seq(0, 1, length.out = 11)\n",
       "seq(stats::rnorm(20)) # effectively 'along'\n",
       "seq(1, 9, by = 2)     # matches 'end'\n",
       "seq(1, 9, by = pi)    # stays below 'end'\n",
       "seq(1, 6, by = 3)\n",
       "seq(1.575, 5.125, by = 0.05)\n",
       "seq(17) # same as 1:17, or even better seq_len(17)\n",
       "</pre>\n",
       "\n",
       "<hr /><div style=\"text-align: center;\">[Package <em>base</em> version 3.6.1 ]</div>"
      ],
      "text/latex": [
       "\\inputencoding{utf8}\n",
       "\\HeaderA{seq}{Sequence Generation}{seq}\n",
       "\\methaliasA{seq.default}{seq}{seq.default}\n",
       "\\methaliasA{seq.int}{seq}{seq.int}\n",
       "\\aliasA{seq\\_along}{seq}{seq.Rul.along}\n",
       "\\aliasA{seq\\_len}{seq}{seq.Rul.len}\n",
       "\\keyword{manip}{seq}\n",
       "%\n",
       "\\begin{Description}\\relax\n",
       "Generate regular sequences.  \\code{seq} is a standard generic with a\n",
       "default method.  \\code{seq.int} is a primitive which can be\n",
       "much faster but has a few restrictions.  \\code{seq\\_along} and\n",
       "\\code{seq\\_len} are very fast primitives for two common cases.\n",
       "\\end{Description}\n",
       "%\n",
       "\\begin{Usage}\n",
       "\\begin{verbatim}\n",
       "seq(...)\n",
       "\n",
       "## Default S3 method:\n",
       "seq(from = 1, to = 1, by = ((to - from)/(length.out - 1)),\n",
       "    length.out = NULL, along.with = NULL, ...)\n",
       "\n",
       "seq.int(from, to, by, length.out, along.with, ...)\n",
       "\n",
       "seq_along(along.with)\n",
       "seq_len(length.out)\n",
       "\\end{verbatim}\n",
       "\\end{Usage}\n",
       "%\n",
       "\\begin{Arguments}\n",
       "\\begin{ldescription}\n",
       "\\item[\\code{...}] arguments passed to or from methods.\n",
       "\\item[\\code{from, to}] the starting and (maximal) end values of the\n",
       "sequence.  Of length \\code{1} unless just \\code{from} is supplied as\n",
       "an unnamed argument.\n",
       "\\item[\\code{by}] number: increment of the sequence.\n",
       "\\item[\\code{length.out}] desired length of the sequence.  A\n",
       "non-negative number, which for \\code{seq} and \\code{seq.int} will be\n",
       "rounded up if fractional.\n",
       "\\item[\\code{along.with}] take the length from the length of this argument.\n",
       "\\end{ldescription}\n",
       "\\end{Arguments}\n",
       "%\n",
       "\\begin{Details}\\relax\n",
       "Numerical inputs should all be \\LinkA{finite}{finite} (that is, not infinite,\n",
       "\\code{\\LinkA{NaN}{NaN}} or \\code{NA}).\n",
       "\n",
       "The interpretation of the unnamed arguments of \\code{seq} and\n",
       "\\code{seq.int} is \\emph{not} standard, and it is recommended always to\n",
       "name the arguments when programming.\n",
       "\n",
       "\\code{seq} is  generic, and only the default method is described here.\n",
       "Note that it dispatches on the class of the \\strong{first} argument\n",
       "irrespective of argument names.  This can have unintended consequences\n",
       "if it is called with just one argument intending this to be taken as\n",
       "\\code{along.with}: it is much better to use \\code{seq\\_along} in that\n",
       "case.\n",
       "\n",
       "\\code{seq.int} is an \\LinkA{internal generic}{internal generic} which dispatches on\n",
       "methods for \\code{\"seq\"} based on the class of the first supplied\n",
       "argument (before argument matching).\n",
       "\n",
       "Typical usages are\n",
       "\\begin{alltt}seq(from, to)\n",
       "seq(from, to, by= )\n",
       "seq(from, to, length.out= )\n",
       "seq(along.with= )\n",
       "seq(from)\n",
       "seq(length.out= )\n",
       "\\end{alltt}\n",
       "\n",
       "The first form generates the sequence \\code{from, from+/-1, ..., to}\n",
       "(identical to \\code{from:to}).\n",
       "\n",
       "The second form generates \\code{from, from+by}, \\ldots, up to the\n",
       "sequence value less than or equal to \\code{to}.  Specifying \\code{to -\n",
       "  from} and \\code{by} of opposite signs is an error.  Note that the\n",
       "computed final value can go just beyond \\code{to} to allow for\n",
       "rounding error, but is truncated to \\code{to}.  (`Just beyond'\n",
       "is by up to \\eqn{10^{-10}}{} times \\code{abs(from - to)}.)\n",
       "\n",
       "The third generates a sequence of \\code{length.out} equally spaced\n",
       "values from \\code{from} to \\code{to}.  (\\code{length.out} is usually\n",
       "abbreviated to \\code{length} or \\code{len}, and \\code{seq\\_len} is much\n",
       "faster.)\n",
       "\n",
       "The fourth form generates the integer sequence \\code{1, 2, ...,\n",
       "    length(along.with)}.  (\\code{along.with} is usually abbreviated to\n",
       "\\code{along}, and \\code{seq\\_along} is much faster.)\n",
       "\n",
       "The fifth form generates the sequence \\code{1, 2, ..., length(from)}\n",
       "(as if argument \\code{along.with} had been specified), \\emph{unless}\n",
       "the argument is numeric of length 1 when it is interpreted as\n",
       "\\code{1:from} (even for \\code{seq(0)} for compatibility with S).\n",
       "Using either \\code{seq\\_along} or \\code{seq\\_len} is much preferred\n",
       "(unless strict S compatibility is essential).\n",
       "\n",
       "The final form generates the integer sequence \\code{1, 2, ...,\n",
       "  length.out} unless \\code{length.out = 0}, when it generates\n",
       "\\code{integer(0)}.\n",
       "\n",
       "Very small sequences (with \\code{from - to} of the order of \\eqn{10^{-14}}{}\n",
       "times the larger of the ends) will return \\code{from}.\n",
       "\n",
       "For \\code{seq} (only), up to two of \\code{from}, \\code{to} and\n",
       "\\code{by} can be supplied as complex values provided \\code{length.out}\n",
       "or \\code{along.with} is specified.  More generally, the default method\n",
       "of \\code{seq} will handle classed objects with methods for\n",
       "the \\code{Math}, \\code{Ops} and \\code{Summary} group generics.\n",
       "\n",
       "\\code{seq.int}, \\code{seq\\_along} and \\code{seq\\_len} are\n",
       "\\LinkA{primitive}{primitive}.\n",
       "\\end{Details}\n",
       "%\n",
       "\\begin{Value}\n",
       "\\code{seq.int} and the default method of \\code{seq} for numeric\n",
       "arguments return a vector of type \\code{\"integer\"} or \\code{\"double\"}:\n",
       "programmers should not rely on which.\n",
       "\n",
       "\\code{seq\\_along} and \\code{seq\\_len} return an integer vector, unless\n",
       "it is a \\emph{long vector} when it will be double.\n",
       "\\end{Value}\n",
       "%\n",
       "\\begin{References}\\relax\n",
       "Becker, R. A., Chambers, J. M. and Wilks, A. R. (1988)\n",
       "\\emph{The New S Language}.\n",
       "Wadsworth \\& Brooks/Cole.\n",
       "\\end{References}\n",
       "%\n",
       "\\begin{SeeAlso}\\relax\n",
       "The methods \\code{\\LinkA{seq.Date}{seq.Date}} and \\code{\\LinkA{seq.POSIXt}{seq.POSIXt}}.\n",
       "\n",
       "\\code{\\LinkA{:}{:}},\n",
       "\\code{\\LinkA{rep}{rep}},\n",
       "\\code{\\LinkA{sequence}{sequence}},\n",
       "\\code{\\LinkA{row}{row}},\n",
       "\\code{\\LinkA{col}{col}}.\n",
       "\\end{SeeAlso}\n",
       "%\n",
       "\\begin{Examples}\n",
       "\\begin{ExampleCode}\n",
       "seq(0, 1, length.out = 11)\n",
       "seq(stats::rnorm(20)) # effectively 'along'\n",
       "seq(1, 9, by = 2)     # matches 'end'\n",
       "seq(1, 9, by = pi)    # stays below 'end'\n",
       "seq(1, 6, by = 3)\n",
       "seq(1.575, 5.125, by = 0.05)\n",
       "seq(17) # same as 1:17, or even better seq_len(17)\n",
       "\\end{ExampleCode}\n",
       "\\end{Examples}"
      ],
      "text/plain": [
       "seq                    package:base                    R Documentation\n",
       "\n",
       "_\bS_\be_\bq_\bu_\be_\bn_\bc_\be _\bG_\be_\bn_\be_\br_\ba_\bt_\bi_\bo_\bn\n",
       "\n",
       "_\bD_\be_\bs_\bc_\br_\bi_\bp_\bt_\bi_\bo_\bn:\n",
       "\n",
       "     Generate regular sequences.  'seq' is a standard generic with a\n",
       "     default method.  'seq.int' is a primitive which can be much faster\n",
       "     but has a few restrictions.  'seq_along' and 'seq_len' are very\n",
       "     fast primitives for two common cases.\n",
       "\n",
       "_\bU_\bs_\ba_\bg_\be:\n",
       "\n",
       "     seq(...)\n",
       "     \n",
       "     ## Default S3 method:\n",
       "     seq(from = 1, to = 1, by = ((to - from)/(length.out - 1)),\n",
       "         length.out = NULL, along.with = NULL, ...)\n",
       "     \n",
       "     seq.int(from, to, by, length.out, along.with, ...)\n",
       "     \n",
       "     seq_along(along.with)\n",
       "     seq_len(length.out)\n",
       "     \n",
       "_\bA_\br_\bg_\bu_\bm_\be_\bn_\bt_\bs:\n",
       "\n",
       "     ...: arguments passed to or from methods.\n",
       "\n",
       "from, to: the starting and (maximal) end values of the sequence.  Of\n",
       "          length '1' unless just 'from' is supplied as an unnamed\n",
       "          argument.\n",
       "\n",
       "      by: number: increment of the sequence.\n",
       "\n",
       "length.out: desired length of the sequence.  A non-negative number,\n",
       "          which for 'seq' and 'seq.int' will be rounded up if\n",
       "          fractional.\n",
       "\n",
       "along.with: take the length from the length of this argument.\n",
       "\n",
       "_\bD_\be_\bt_\ba_\bi_\bl_\bs:\n",
       "\n",
       "     Numerical inputs should all be finite (that is, not infinite,\n",
       "     'NaN' or 'NA').\n",
       "\n",
       "     The interpretation of the unnamed arguments of 'seq' and 'seq.int'\n",
       "     is _not_ standard, and it is recommended always to name the\n",
       "     arguments when programming.\n",
       "\n",
       "     'seq' is generic, and only the default method is described here.\n",
       "     Note that it dispatches on the class of the *first* argument\n",
       "     irrespective of argument names.  This can have unintended\n",
       "     consequences if it is called with just one argument intending this\n",
       "     to be taken as 'along.with': it is much better to use 'seq_along'\n",
       "     in that case.\n",
       "\n",
       "     'seq.int' is an internal generic which dispatches on methods for\n",
       "     '\"seq\"' based on the class of the first supplied argument (before\n",
       "     argument matching).\n",
       "\n",
       "     Typical usages are\n",
       "     \n",
       "     seq(from, to)\n",
       "     seq(from, to, by= )\n",
       "     seq(from, to, length.out= )\n",
       "     seq(along.with= )\n",
       "     seq(from)\n",
       "     seq(length.out= )\n",
       "\n",
       "     The first form generates the sequence 'from, from+/-1, ..., to'\n",
       "     (identical to 'from:to').\n",
       "\n",
       "     The second form generates 'from, from+by', ..., up to the sequence\n",
       "     value less than or equal to 'to'.  Specifying 'to - from' and 'by'\n",
       "     of opposite signs is an error.  Note that the computed final value\n",
       "     can go just beyond 'to' to allow for rounding error, but is\n",
       "     truncated to 'to'.  ('Just beyond' is by up to 1e-10 times\n",
       "     'abs(from - to)'.)\n",
       "\n",
       "     The third generates a sequence of 'length.out' equally spaced\n",
       "     values from 'from' to 'to'.  ('length.out' is usually abbreviated\n",
       "     to 'length' or 'len', and 'seq_len' is much faster.)\n",
       "\n",
       "     The fourth form generates the integer sequence '1, 2, ...,\n",
       "     length(along.with)'.  ('along.with' is usually abbreviated to\n",
       "     'along', and 'seq_along' is much faster.)\n",
       "\n",
       "     The fifth form generates the sequence '1, 2, ..., length(from)'\n",
       "     (as if argument 'along.with' had been specified), _unless_ the\n",
       "     argument is numeric of length 1 when it is interpreted as '1:from'\n",
       "     (even for 'seq(0)' for compatibility with S).  Using either\n",
       "     'seq_along' or 'seq_len' is much preferred (unless strict S\n",
       "     compatibility is essential).\n",
       "\n",
       "     The final form generates the integer sequence '1, 2, ...,\n",
       "     length.out' unless 'length.out = 0', when it generates\n",
       "     'integer(0)'.\n",
       "\n",
       "     Very small sequences (with 'from - to' of the order of 10^{-14}\n",
       "     times the larger of the ends) will return 'from'.\n",
       "\n",
       "     For 'seq' (only), up to two of 'from', 'to' and 'by' can be\n",
       "     supplied as complex values provided 'length.out' or 'along.with'\n",
       "     is specified.  More generally, the default method of 'seq' will\n",
       "     handle classed objects with methods for the 'Math', 'Ops' and\n",
       "     'Summary' group generics.\n",
       "\n",
       "     'seq.int', 'seq_along' and 'seq_len' are primitive.\n",
       "\n",
       "_\bV_\ba_\bl_\bu_\be:\n",
       "\n",
       "     'seq.int' and the default method of 'seq' for numeric arguments\n",
       "     return a vector of type '\"integer\"' or '\"double\"': programmers\n",
       "     should not rely on which.\n",
       "\n",
       "     'seq_along' and 'seq_len' return an integer vector, unless it is a\n",
       "     _long vector_ when it will be double.\n",
       "\n",
       "_\bR_\be_\bf_\be_\br_\be_\bn_\bc_\be_\bs:\n",
       "\n",
       "     Becker, R. A., Chambers, J. M. and Wilks, A. R. (1988) _The New S\n",
       "     Language_.  Wadsworth & Brooks/Cole.\n",
       "\n",
       "_\bS_\be_\be _\bA_\bl_\bs_\bo:\n",
       "\n",
       "     The methods 'seq.Date' and 'seq.POSIXt'.\n",
       "\n",
       "     ':', 'rep', 'sequence', 'row', 'col'.\n",
       "\n",
       "_\bE_\bx_\ba_\bm_\bp_\bl_\be_\bs:\n",
       "\n",
       "     seq(0, 1, length.out = 11)\n",
       "     seq(stats::rnorm(20)) # effectively 'along'\n",
       "     seq(1, 9, by = 2)     # matches 'end'\n",
       "     seq(1, 9, by = pi)    # stays below 'end'\n",
       "     seq(1, 6, by = 3)\n",
       "     seq(1.575, 5.125, by = 0.05)\n",
       "     seq(17) # same as 1:17, or even better seq_len(17)\n",
       "     "
      ]
     },
     "metadata": {},
     "output_type": "display_data"
    }
   ],
   "source": [
    "?seq"
   ]
  },
  {
   "cell_type": "code",
   "execution_count": 35,
   "metadata": {},
   "outputs": [
    {
     "data": {
      "text/html": [
       "<ol class=list-inline>\n",
       "\t<li>1</li>\n",
       "\t<li>3.25</li>\n",
       "\t<li>5.5</li>\n",
       "\t<li>7.75</li>\n",
       "\t<li>10</li>\n",
       "</ol>\n"
      ],
      "text/latex": [
       "\\begin{enumerate*}\n",
       "\\item 1\n",
       "\\item 3.25\n",
       "\\item 5.5\n",
       "\\item 7.75\n",
       "\\item 10\n",
       "\\end{enumerate*}\n"
      ],
      "text/markdown": [
       "1. 1\n",
       "2. 3.25\n",
       "3. 5.5\n",
       "4. 7.75\n",
       "5. 10\n",
       "\n",
       "\n"
      ],
      "text/plain": [
       "[1]  1.00  3.25  5.50  7.75 10.00"
      ]
     },
     "metadata": {},
     "output_type": "display_data"
    }
   ],
   "source": [
    "seq(1, 10, length.out = 5)"
   ]
  },
  {
   "cell_type": "code",
   "execution_count": 36,
   "metadata": {},
   "outputs": [
    {
     "data": {
      "text/html": [
       "<ol class=list-inline>\n",
       "\t<li>1</li>\n",
       "\t<li>2</li>\n",
       "\t<li>3</li>\n",
       "\t<li>4</li>\n",
       "\t<li>5</li>\n",
       "\t<li>6</li>\n",
       "\t<li>7</li>\n",
       "\t<li>8</li>\n",
       "\t<li>9</li>\n",
       "\t<li>10</li>\n",
       "</ol>\n"
      ],
      "text/latex": [
       "\\begin{enumerate*}\n",
       "\\item 1\n",
       "\\item 2\n",
       "\\item 3\n",
       "\\item 4\n",
       "\\item 5\n",
       "\\item 6\n",
       "\\item 7\n",
       "\\item 8\n",
       "\\item 9\n",
       "\\item 10\n",
       "\\end{enumerate*}\n"
      ],
      "text/markdown": [
       "1. 1\n",
       "2. 2\n",
       "3. 3\n",
       "4. 4\n",
       "5. 5\n",
       "6. 6\n",
       "7. 7\n",
       "8. 8\n",
       "9. 9\n",
       "10. 10\n",
       "\n",
       "\n"
      ],
      "text/plain": [
       " [1]  1  2  3  4  5  6  7  8  9 10"
      ]
     },
     "metadata": {},
     "output_type": "display_data"
    }
   ],
   "source": [
    "s<-1:10\n",
    "s"
   ]
  },
  {
   "cell_type": "code",
   "execution_count": 37,
   "metadata": {},
   "outputs": [],
   "source": [
    "set.seed(1)"
   ]
  },
  {
   "cell_type": "code",
   "execution_count": 38,
   "metadata": {},
   "outputs": [
    {
     "data": {
      "text/html": [
       "<ol class=list-inline>\n",
       "\t<li>-0.626453810742332</li>\n",
       "\t<li>0.183643324222082</li>\n",
       "\t<li>-0.835628612410047</li>\n",
       "\t<li>1.59528080213779</li>\n",
       "\t<li>0.329507771815361</li>\n",
       "\t<li>-0.820468384118015</li>\n",
       "\t<li>0.487429052428485</li>\n",
       "\t<li>0.738324705129217</li>\n",
       "\t<li>0.575781351653492</li>\n",
       "\t<li>-0.305388387156356</li>\n",
       "\t<li>1.51178116845085</li>\n",
       "\t<li>0.389843236411431</li>\n",
       "\t<li>-0.621240580541804</li>\n",
       "\t<li>-2.2146998871775</li>\n",
       "\t<li>1.12493091814311</li>\n",
       "\t<li>-0.0449336090152309</li>\n",
       "\t<li>-0.0161902630989461</li>\n",
       "\t<li>0.943836210685299</li>\n",
       "\t<li>0.821221195098089</li>\n",
       "\t<li>0.593901321217509</li>\n",
       "</ol>\n"
      ],
      "text/latex": [
       "\\begin{enumerate*}\n",
       "\\item -0.626453810742332\n",
       "\\item 0.183643324222082\n",
       "\\item -0.835628612410047\n",
       "\\item 1.59528080213779\n",
       "\\item 0.329507771815361\n",
       "\\item -0.820468384118015\n",
       "\\item 0.487429052428485\n",
       "\\item 0.738324705129217\n",
       "\\item 0.575781351653492\n",
       "\\item -0.305388387156356\n",
       "\\item 1.51178116845085\n",
       "\\item 0.389843236411431\n",
       "\\item -0.621240580541804\n",
       "\\item -2.2146998871775\n",
       "\\item 1.12493091814311\n",
       "\\item -0.0449336090152309\n",
       "\\item -0.0161902630989461\n",
       "\\item 0.943836210685299\n",
       "\\item 0.821221195098089\n",
       "\\item 0.593901321217509\n",
       "\\end{enumerate*}\n"
      ],
      "text/markdown": [
       "1. -0.626453810742332\n",
       "2. 0.183643324222082\n",
       "3. -0.835628612410047\n",
       "4. 1.59528080213779\n",
       "5. 0.329507771815361\n",
       "6. -0.820468384118015\n",
       "7. 0.487429052428485\n",
       "8. 0.738324705129217\n",
       "9. 0.575781351653492\n",
       "10. -0.305388387156356\n",
       "11. 1.51178116845085\n",
       "12. 0.389843236411431\n",
       "13. -0.621240580541804\n",
       "14. -2.2146998871775\n",
       "15. 1.12493091814311\n",
       "16. -0.0449336090152309\n",
       "17. -0.0161902630989461\n",
       "18. 0.943836210685299\n",
       "19. 0.821221195098089\n",
       "20. 0.593901321217509\n",
       "\n",
       "\n"
      ],
      "text/plain": [
       " [1] -0.62645381  0.18364332 -0.83562861  1.59528080  0.32950777 -0.82046838\n",
       " [7]  0.48742905  0.73832471  0.57578135 -0.30538839  1.51178117  0.38984324\n",
       "[13] -0.62124058 -2.21469989  1.12493092 -0.04493361 -0.01619026  0.94383621\n",
       "[19]  0.82122120  0.59390132"
      ]
     },
     "metadata": {},
     "output_type": "display_data"
    }
   ],
   "source": [
    "rnorm(n=20, mean=0, sd=1)   # последовательность с нормальным распределением"
   ]
  },
  {
   "cell_type": "code",
   "execution_count": 39,
   "metadata": {},
   "outputs": [
    {
     "data": {
      "text/html": [
       "<ol class=list-inline>\n",
       "\t<li>12</li>\n",
       "\t<li>12</li>\n",
       "\t<li>10</li>\n",
       "\t<li>3</li>\n",
       "\t<li>11</li>\n",
       "\t<li>13</li>\n",
       "\t<li>7</li>\n",
       "\t<li>8</li>\n",
       "\t<li>11</li>\n",
       "\t<li>14</li>\n",
       "\t<li>9</li>\n",
       "\t<li>11</li>\n",
       "\t<li>9</li>\n",
       "\t<li>5</li>\n",
       "\t<li>13</li>\n",
       "\t<li>8</li>\n",
       "\t<li>13</li>\n",
       "\t<li>9</li>\n",
       "\t<li>15</li>\n",
       "\t<li>11</li>\n",
       "</ol>\n"
      ],
      "text/latex": [
       "\\begin{enumerate*}\n",
       "\\item 12\n",
       "\\item 12\n",
       "\\item 10\n",
       "\\item 3\n",
       "\\item 11\n",
       "\\item 13\n",
       "\\item 7\n",
       "\\item 8\n",
       "\\item 11\n",
       "\\item 14\n",
       "\\item 9\n",
       "\\item 11\n",
       "\\item 9\n",
       "\\item 5\n",
       "\\item 13\n",
       "\\item 8\n",
       "\\item 13\n",
       "\\item 9\n",
       "\\item 15\n",
       "\\item 11\n",
       "\\end{enumerate*}\n"
      ],
      "text/markdown": [
       "1. 12\n",
       "2. 12\n",
       "3. 10\n",
       "4. 3\n",
       "5. 11\n",
       "6. 13\n",
       "7. 7\n",
       "8. 8\n",
       "9. 11\n",
       "10. 14\n",
       "11. 9\n",
       "12. 11\n",
       "13. 9\n",
       "14. 5\n",
       "15. 13\n",
       "16. 8\n",
       "17. 13\n",
       "18. 9\n",
       "19. 15\n",
       "20. 11\n",
       "\n",
       "\n"
      ],
      "text/plain": [
       " [1] 12 12 10  3 11 13  7  8 11 14  9 11  9  5 13  8 13  9 15 11"
      ]
     },
     "metadata": {},
     "output_type": "display_data"
    }
   ],
   "source": [
    "rpois(20, 10)   # распределение Пуассона"
   ]
  },
  {
   "cell_type": "code",
   "execution_count": 40,
   "metadata": {
    "collapsed": true,
    "jupyter": {
     "outputs_hidden": true
    }
   },
   "outputs": [
    {
     "data": {
      "text/html": [
       "\n",
       "<table width=\"100%\" summary=\"page for Poisson {stats}\"><tr><td>Poisson {stats}</td><td style=\"text-align: right;\">R Documentation</td></tr></table>\n",
       "\n",
       "<h2>The Poisson Distribution</h2>\n",
       "\n",
       "<h3>Description</h3>\n",
       "\n",
       "<p>Density, distribution function, quantile function and random\n",
       "generation for the Poisson distribution with parameter <code>lambda</code>.\n",
       "</p>\n",
       "\n",
       "\n",
       "<h3>Usage</h3>\n",
       "\n",
       "<pre>\n",
       "dpois(x, lambda, log = FALSE)\n",
       "ppois(q, lambda, lower.tail = TRUE, log.p = FALSE)\n",
       "qpois(p, lambda, lower.tail = TRUE, log.p = FALSE)\n",
       "rpois(n, lambda)\n",
       "</pre>\n",
       "\n",
       "\n",
       "<h3>Arguments</h3>\n",
       "\n",
       "<table summary=\"R argblock\">\n",
       "<tr valign=\"top\"><td><code>x</code></td>\n",
       "<td>\n",
       "<p>vector of (non-negative integer) quantiles.</p>\n",
       "</td></tr>\n",
       "<tr valign=\"top\"><td><code>q</code></td>\n",
       "<td>\n",
       "<p>vector of quantiles.</p>\n",
       "</td></tr>\n",
       "<tr valign=\"top\"><td><code>p</code></td>\n",
       "<td>\n",
       "<p>vector of probabilities.</p>\n",
       "</td></tr>\n",
       "<tr valign=\"top\"><td><code>n</code></td>\n",
       "<td>\n",
       "<p>number of random values to return.</p>\n",
       "</td></tr>\n",
       "<tr valign=\"top\"><td><code>lambda</code></td>\n",
       "<td>\n",
       "<p>vector of (non-negative) means.</p>\n",
       "</td></tr>\n",
       "<tr valign=\"top\"><td><code>log, log.p</code></td>\n",
       "<td>\n",
       "<p>logical; if TRUE, probabilities p are given as log(p).</p>\n",
       "</td></tr>\n",
       "<tr valign=\"top\"><td><code>lower.tail</code></td>\n",
       "<td>\n",
       "<p>logical; if TRUE (default), probabilities are\n",
       "<i>P[X &le; x]</i>, otherwise, <i>P[X &gt; x]</i>.</p>\n",
       "</td></tr>\n",
       "</table>\n",
       "\n",
       "\n",
       "<h3>Details</h3>\n",
       "\n",
       "<p>The Poisson distribution has density\n",
       "\n",
       "</p>\n",
       "<p style=\"text-align: center;\"><i>p(x) = &lambda;^x exp(-&lambda;)/x!</i></p>\n",
       "\n",
       "<p>for <i>x = 0, 1, 2, &hellip;</i> .\n",
       "The mean and variance are <i>E(X) = Var(X) = &lambda;</i>.\n",
       "</p>\n",
       "<p>Note that <i>&lambda; = 0</i> is really a limit case (setting\n",
       "<i>0^0 = 1</i>) resulting in a point mass at <i>0</i>, see also the example.\n",
       "</p>\n",
       "<p>If an element of <code>x</code> is not integer, the result of <code>dpois</code>\n",
       "is zero, with a warning.\n",
       "<i>p(x)</i> is computed using Loader's algorithm, see the reference in\n",
       "<code>dbinom</code>.\n",
       "</p>\n",
       "<p>The quantile is right continuous: <code>qpois(p, lambda)</code> is the smallest\n",
       "integer <i>x</i> such that <i>P(X &le; x) &ge; p</i>.\n",
       "</p>\n",
       "<p>Setting <code>lower.tail = FALSE</code> allows to get much more precise\n",
       "results when the default, <code>lower.tail = TRUE</code> would return 1, see\n",
       "the example below.\n",
       "</p>\n",
       "\n",
       "\n",
       "<h3>Value</h3>\n",
       "\n",
       "<p><code>dpois</code> gives the (log) density,\n",
       "<code>ppois</code> gives the (log) distribution function,\n",
       "<code>qpois</code> gives the quantile function, and\n",
       "<code>rpois</code> generates random deviates.\n",
       "</p>\n",
       "<p>Invalid <code>lambda</code> will result in return value <code>NaN</code>, with a warning.\n",
       "</p>\n",
       "<p>The length of the result is determined by <code>n</code> for\n",
       "<code>rpois</code>, and is the maximum of the lengths of the\n",
       "numerical arguments for the other functions.\n",
       "</p>\n",
       "<p>The numerical arguments other than <code>n</code> are recycled to the\n",
       "length of the result.  Only the first elements of the logical\n",
       "arguments are used.\n",
       "</p>\n",
       "\n",
       "\n",
       "<h3>Source</h3>\n",
       "\n",
       "<p><code>dpois</code> uses C code contributed by Catherine Loader\n",
       "(see <code>dbinom</code>).\n",
       "</p>\n",
       "<p><code>ppois</code> uses <code>pgamma</code>.\n",
       "</p>\n",
       "<p><code>qpois</code> uses the Cornish&ndash;Fisher Expansion to include a skewness\n",
       "correction to a normal approximation, followed by a search.\n",
       "</p>\n",
       "<p><code>rpois</code> uses\n",
       "</p>\n",
       "<p>Ahrens, J. H. and Dieter, U. (1982).\n",
       "Computer generation of Poisson deviates from modified normal distributions.\n",
       "<em>ACM Transactions on Mathematical Software</em>, <b>8</b>, 163&ndash;179.\n",
       "</p>\n",
       "\n",
       "\n",
       "<h3>See Also</h3>\n",
       "\n",
       "<p>Distributions for other standard distributions, including\n",
       "<code>dbinom</code> for the binomial and <code>dnbinom</code> for\n",
       "the negative binomial distribution.\n",
       "</p>\n",
       "<p><code>poisson.test</code>.\n",
       "</p>\n",
       "\n",
       "\n",
       "<h3>Examples</h3>\n",
       "\n",
       "<pre>\n",
       "require(graphics)\n",
       "\n",
       "-log(dpois(0:7, lambda = 1) * gamma(1+ 0:7)) # == 1\n",
       "Ni &lt;- rpois(50, lambda = 4); table(factor(Ni, 0:max(Ni)))\n",
       "\n",
       "1 - ppois(10*(15:25), lambda = 100)  # becomes 0 (cancellation)\n",
       "    ppois(10*(15:25), lambda = 100, lower.tail = FALSE)  # no cancellation\n",
       "\n",
       "par(mfrow = c(2, 1))\n",
       "x &lt;- seq(-0.01, 5, 0.01)\n",
       "plot(x, ppois(x, 1), type = \"s\", ylab = \"F(x)\", main = \"Poisson(1) CDF\")\n",
       "plot(x, pbinom(x, 100, 0.01), type = \"s\", ylab = \"F(x)\",\n",
       "     main = \"Binomial(100, 0.01) CDF\")\n",
       "\n",
       "## The (limit) case  lambda = 0 :\n",
       "stopifnot(identical(dpois(0,0), 1),\n",
       "\t  identical(ppois(0,0), 1),\n",
       "\t  identical(qpois(1,0), 0))\n",
       "</pre>\n",
       "\n",
       "<hr /><div style=\"text-align: center;\">[Package <em>stats</em> version 3.6.1 ]</div>"
      ],
      "text/latex": [
       "\\inputencoding{utf8}\n",
       "\\HeaderA{Poisson}{The Poisson Distribution}{Poisson}\n",
       "\\aliasA{dpois}{Poisson}{dpois}\n",
       "\\aliasA{ppois}{Poisson}{ppois}\n",
       "\\aliasA{qpois}{Poisson}{qpois}\n",
       "\\aliasA{rpois}{Poisson}{rpois}\n",
       "\\keyword{distribution}{Poisson}\n",
       "%\n",
       "\\begin{Description}\\relax\n",
       "Density, distribution function, quantile function and random\n",
       "generation for the Poisson distribution with parameter \\code{lambda}.\n",
       "\\end{Description}\n",
       "%\n",
       "\\begin{Usage}\n",
       "\\begin{verbatim}\n",
       "dpois(x, lambda, log = FALSE)\n",
       "ppois(q, lambda, lower.tail = TRUE, log.p = FALSE)\n",
       "qpois(p, lambda, lower.tail = TRUE, log.p = FALSE)\n",
       "rpois(n, lambda)\n",
       "\\end{verbatim}\n",
       "\\end{Usage}\n",
       "%\n",
       "\\begin{Arguments}\n",
       "\\begin{ldescription}\n",
       "\\item[\\code{x}] vector of (non-negative integer) quantiles.\n",
       "\\item[\\code{q}] vector of quantiles.\n",
       "\\item[\\code{p}] vector of probabilities.\n",
       "\\item[\\code{n}] number of random values to return.\n",
       "\\item[\\code{lambda}] vector of (non-negative) means.\n",
       "\\item[\\code{log, log.p}] logical; if TRUE, probabilities p are given as log(p).\n",
       "\\item[\\code{lower.tail}] logical; if TRUE (default), probabilities are\n",
       "\\eqn{P[X \\le x]}{}, otherwise, \\eqn{P[X > x]}{}.\n",
       "\\end{ldescription}\n",
       "\\end{Arguments}\n",
       "%\n",
       "\\begin{Details}\\relax\n",
       "The Poisson distribution has density\n",
       "\n",
       "\\deqn{p(x) = \\frac{\\lambda^x e^{-\\lambda}}{x!}}{}\n",
       "for \\eqn{x = 0, 1, 2, \\ldots}{} .\n",
       "The mean and variance are \\eqn{E(X) = Var(X) = \\lambda}{}.\n",
       "\n",
       "Note that \\eqn{\\lambda = 0}{} is really a limit case (setting\n",
       "\\eqn{0^0 = 1}{}) resulting in a point mass at \\eqn{0}{}, see also the example.\n",
       "\n",
       "If an element of \\code{x} is not integer, the result of \\code{dpois}\n",
       "is zero, with a warning.\n",
       "\\eqn{p(x)}{} is computed using Loader's algorithm, see the reference in\n",
       "\\code{\\LinkA{dbinom}{dbinom}}.\n",
       "\n",
       "The quantile is right continuous: \\code{qpois(p, lambda)} is the smallest\n",
       "integer \\eqn{x}{} such that \\eqn{P(X \\le x) \\ge p}{}.\n",
       "\n",
       "Setting \\code{lower.tail = FALSE} allows to get much more precise\n",
       "results when the default, \\code{lower.tail = TRUE} would return 1, see\n",
       "the example below.\n",
       "\\end{Details}\n",
       "%\n",
       "\\begin{Value}\n",
       "\\code{dpois} gives the (log) density,\n",
       "\\code{ppois} gives the (log) distribution function,\n",
       "\\code{qpois} gives the quantile function, and\n",
       "\\code{rpois} generates random deviates.\n",
       "\n",
       "Invalid \\code{lambda} will result in return value \\code{NaN}, with a warning.\n",
       "\n",
       "The length of the result is determined by \\code{n} for\n",
       "\\code{rpois}, and is the maximum of the lengths of the\n",
       "numerical arguments for the other functions.\n",
       "\n",
       "The numerical arguments other than \\code{n} are recycled to the\n",
       "length of the result.  Only the first elements of the logical\n",
       "arguments are used.\n",
       "\\end{Value}\n",
       "%\n",
       "\\begin{Source}\\relax\n",
       "\\code{dpois} uses C code contributed by Catherine Loader\n",
       "(see \\code{\\LinkA{dbinom}{dbinom}}).\n",
       "\n",
       "\\code{ppois} uses \\code{pgamma}.\n",
       "\n",
       "\\code{qpois} uses the Cornish--Fisher Expansion to include a skewness\n",
       "correction to a normal approximation, followed by a search.\n",
       "\n",
       "\\code{rpois} uses\n",
       "\n",
       "Ahrens, J. H. and Dieter, U. (1982).\n",
       "Computer generation of Poisson deviates from modified normal distributions.\n",
       "\\emph{ACM Transactions on Mathematical Software}, \\bold{8}, 163--179.\n",
       "\\end{Source}\n",
       "%\n",
       "\\begin{SeeAlso}\\relax\n",
       "\\LinkA{Distributions}{Distributions} for other standard distributions, including\n",
       "\\code{\\LinkA{dbinom}{dbinom}} for the binomial and \\code{\\LinkA{dnbinom}{dnbinom}} for\n",
       "the negative binomial distribution.\n",
       "\n",
       "\\code{\\LinkA{poisson.test}{poisson.test}}.\n",
       "\\end{SeeAlso}\n",
       "%\n",
       "\\begin{Examples}\n",
       "\\begin{ExampleCode}\n",
       "require(graphics)\n",
       "\n",
       "-log(dpois(0:7, lambda = 1) * gamma(1+ 0:7)) # == 1\n",
       "Ni <- rpois(50, lambda = 4); table(factor(Ni, 0:max(Ni)))\n",
       "\n",
       "1 - ppois(10*(15:25), lambda = 100)  # becomes 0 (cancellation)\n",
       "    ppois(10*(15:25), lambda = 100, lower.tail = FALSE)  # no cancellation\n",
       "\n",
       "par(mfrow = c(2, 1))\n",
       "x <- seq(-0.01, 5, 0.01)\n",
       "plot(x, ppois(x, 1), type = \"s\", ylab = \"F(x)\", main = \"Poisson(1) CDF\")\n",
       "plot(x, pbinom(x, 100, 0.01), type = \"s\", ylab = \"F(x)\",\n",
       "     main = \"Binomial(100, 0.01) CDF\")\n",
       "\n",
       "## The (limit) case  lambda = 0 :\n",
       "stopifnot(identical(dpois(0,0), 1),\n",
       "\t  identical(ppois(0,0), 1),\n",
       "\t  identical(qpois(1,0), 0))\n",
       "\\end{ExampleCode}\n",
       "\\end{Examples}"
      ],
      "text/plain": [
       "Poisson                 package:stats                  R Documentation\n",
       "\n",
       "_\bT_\bh_\be _\bP_\bo_\bi_\bs_\bs_\bo_\bn _\bD_\bi_\bs_\bt_\br_\bi_\bb_\bu_\bt_\bi_\bo_\bn\n",
       "\n",
       "_\bD_\be_\bs_\bc_\br_\bi_\bp_\bt_\bi_\bo_\bn:\n",
       "\n",
       "     Density, distribution function, quantile function and random\n",
       "     generation for the Poisson distribution with parameter 'lambda'.\n",
       "\n",
       "_\bU_\bs_\ba_\bg_\be:\n",
       "\n",
       "     dpois(x, lambda, log = FALSE)\n",
       "     ppois(q, lambda, lower.tail = TRUE, log.p = FALSE)\n",
       "     qpois(p, lambda, lower.tail = TRUE, log.p = FALSE)\n",
       "     rpois(n, lambda)\n",
       "     \n",
       "_\bA_\br_\bg_\bu_\bm_\be_\bn_\bt_\bs:\n",
       "\n",
       "       x: vector of (non-negative integer) quantiles.\n",
       "\n",
       "       q: vector of quantiles.\n",
       "\n",
       "       p: vector of probabilities.\n",
       "\n",
       "       n: number of random values to return.\n",
       "\n",
       "  lambda: vector of (non-negative) means.\n",
       "\n",
       "log, log.p: logical; if TRUE, probabilities p are given as log(p).\n",
       "\n",
       "lower.tail: logical; if TRUE (default), probabilities are P[X <= x],\n",
       "          otherwise, P[X > x].\n",
       "\n",
       "_\bD_\be_\bt_\ba_\bi_\bl_\bs:\n",
       "\n",
       "     The Poisson distribution has density\n",
       "\n",
       "                       p(x) = lambda^x exp(-lambda)/x!                  \n",
       "     \n",
       "     for x = 0, 1, 2, ... .  The mean and variance are E(X) = Var(X) =\n",
       "     lambda.\n",
       "\n",
       "     Note that lambda = 0 is really a limit case (setting 0^0 = 1)\n",
       "     resulting in a point mass at 0, see also the example.\n",
       "\n",
       "     If an element of 'x' is not integer, the result of 'dpois' is\n",
       "     zero, with a warning.  p(x) is computed using Loader's algorithm,\n",
       "     see the reference in 'dbinom'.\n",
       "\n",
       "     The quantile is right continuous: 'qpois(p, lambda)' is the\n",
       "     smallest integer x such that P(X <= x) >= p.\n",
       "\n",
       "     Setting 'lower.tail = FALSE' allows to get much more precise\n",
       "     results when the default, 'lower.tail = TRUE' would return 1, see\n",
       "     the example below.\n",
       "\n",
       "_\bV_\ba_\bl_\bu_\be:\n",
       "\n",
       "     'dpois' gives the (log) density, 'ppois' gives the (log)\n",
       "     distribution function, 'qpois' gives the quantile function, and\n",
       "     'rpois' generates random deviates.\n",
       "\n",
       "     Invalid 'lambda' will result in return value 'NaN', with a\n",
       "     warning.\n",
       "\n",
       "     The length of the result is determined by 'n' for 'rpois', and is\n",
       "     the maximum of the lengths of the numerical arguments for the\n",
       "     other functions.\n",
       "\n",
       "     The numerical arguments other than 'n' are recycled to the length\n",
       "     of the result.  Only the first elements of the logical arguments\n",
       "     are used.\n",
       "\n",
       "_\bS_\bo_\bu_\br_\bc_\be:\n",
       "\n",
       "     'dpois' uses C code contributed by Catherine Loader (see\n",
       "     'dbinom').\n",
       "\n",
       "     'ppois' uses 'pgamma'.\n",
       "\n",
       "     'qpois' uses the Cornish-Fisher Expansion to include a skewness\n",
       "     correction to a normal approximation, followed by a search.\n",
       "\n",
       "     'rpois' uses\n",
       "\n",
       "     Ahrens, J. H. and Dieter, U. (1982).  Computer generation of\n",
       "     Poisson deviates from modified normal distributions.  _ACM\n",
       "     Transactions on Mathematical Software_, *8*, 163-179.\n",
       "\n",
       "_\bS_\be_\be _\bA_\bl_\bs_\bo:\n",
       "\n",
       "     Distributions for other standard distributions, including 'dbinom'\n",
       "     for the binomial and 'dnbinom' for the negative binomial\n",
       "     distribution.\n",
       "\n",
       "     'poisson.test'.\n",
       "\n",
       "_\bE_\bx_\ba_\bm_\bp_\bl_\be_\bs:\n",
       "\n",
       "     require(graphics)\n",
       "     \n",
       "     -log(dpois(0:7, lambda = 1) * gamma(1+ 0:7)) # == 1\n",
       "     Ni <- rpois(50, lambda = 4); table(factor(Ni, 0:max(Ni)))\n",
       "     \n",
       "     1 - ppois(10*(15:25), lambda = 100)  # becomes 0 (cancellation)\n",
       "         ppois(10*(15:25), lambda = 100, lower.tail = FALSE)  # no cancellation\n",
       "     \n",
       "     par(mfrow = c(2, 1))\n",
       "     x <- seq(-0.01, 5, 0.01)\n",
       "     plot(x, ppois(x, 1), type = \"s\", ylab = \"F(x)\", main = \"Poisson(1) CDF\")\n",
       "     plot(x, pbinom(x, 100, 0.01), type = \"s\", ylab = \"F(x)\",\n",
       "          main = \"Binomial(100, 0.01) CDF\")\n",
       "     \n",
       "     ## The (limit) case  lambda = 0 :\n",
       "     stopifnot(identical(dpois(0,0), 1),\n",
       "               identical(ppois(0,0), 1),\n",
       "               identical(qpois(1,0), 0))\n",
       "     "
      ]
     },
     "metadata": {},
     "output_type": "display_data"
    }
   ],
   "source": [
    "?rpois"
   ]
  },
  {
   "cell_type": "code",
   "execution_count": 41,
   "metadata": {},
   "outputs": [
    {
     "data": {
      "text/html": [
       "<ol class=list-inline>\n",
       "\t<li>4</li>\n",
       "\t<li>6</li>\n",
       "\t<li>4</li>\n",
       "\t<li>6</li>\n",
       "\t<li>3</li>\n",
       "\t<li>4</li>\n",
       "\t<li>3</li>\n",
       "\t<li>4</li>\n",
       "\t<li>3</li>\n",
       "\t<li>6</li>\n",
       "\t<li>7</li>\n",
       "\t<li>6</li>\n",
       "\t<li>6</li>\n",
       "\t<li>5</li>\n",
       "\t<li>5</li>\n",
       "\t<li>6</li>\n",
       "\t<li>5</li>\n",
       "\t<li>6</li>\n",
       "\t<li>4</li>\n",
       "\t<li>4</li>\n",
       "</ol>\n"
      ],
      "text/latex": [
       "\\begin{enumerate*}\n",
       "\\item 4\n",
       "\\item 6\n",
       "\\item 4\n",
       "\\item 6\n",
       "\\item 3\n",
       "\\item 4\n",
       "\\item 3\n",
       "\\item 4\n",
       "\\item 3\n",
       "\\item 6\n",
       "\\item 7\n",
       "\\item 6\n",
       "\\item 6\n",
       "\\item 5\n",
       "\\item 5\n",
       "\\item 6\n",
       "\\item 5\n",
       "\\item 6\n",
       "\\item 4\n",
       "\\item 4\n",
       "\\end{enumerate*}\n"
      ],
      "text/markdown": [
       "1. 4\n",
       "2. 6\n",
       "3. 4\n",
       "4. 6\n",
       "5. 3\n",
       "6. 4\n",
       "7. 3\n",
       "8. 4\n",
       "9. 3\n",
       "10. 6\n",
       "11. 7\n",
       "12. 6\n",
       "13. 6\n",
       "14. 5\n",
       "15. 5\n",
       "16. 6\n",
       "17. 5\n",
       "18. 6\n",
       "19. 4\n",
       "20. 4\n",
       "\n",
       "\n"
      ],
      "text/plain": [
       " [1] 4 6 4 6 3 4 3 4 3 6 7 6 6 5 5 6 5 6 4 4"
      ]
     },
     "metadata": {},
     "output_type": "display_data"
    }
   ],
   "source": [
    "rbinom(20, 10, 0.5)   # биномиальное распределение"
   ]
  },
  {
   "cell_type": "code",
   "execution_count": 42,
   "metadata": {},
   "outputs": [
    {
     "data": {
      "text/html": [
       "<ol class=list-inline>\n",
       "\t<li>0</li>\n",
       "\t<li>2</li>\n",
       "\t<li>0</li>\n",
       "\t<li>2</li>\n",
       "\t<li>0</li>\n",
       "\t<li>2</li>\n",
       "</ol>\n"
      ],
      "text/latex": [
       "\\begin{enumerate*}\n",
       "\\item 0\n",
       "\\item 2\n",
       "\\item 0\n",
       "\\item 2\n",
       "\\item 0\n",
       "\\item 2\n",
       "\\end{enumerate*}\n"
      ],
      "text/markdown": [
       "1. 0\n",
       "2. 2\n",
       "3. 0\n",
       "4. 2\n",
       "5. 0\n",
       "6. 2\n",
       "\n",
       "\n"
      ],
      "text/plain": [
       "[1] 0 2 0 2 0 2"
      ]
     },
     "metadata": {},
     "output_type": "display_data"
    }
   ],
   "source": [
    "rep(c(0, 2), time = 3)"
   ]
  },
  {
   "cell_type": "code",
   "execution_count": 43,
   "metadata": {},
   "outputs": [
    {
     "data": {
      "text/html": [
       "<ol class=list-inline>\n",
       "\t<li>0</li>\n",
       "\t<li>0</li>\n",
       "\t<li>0</li>\n",
       "\t<li>2</li>\n",
       "\t<li>2</li>\n",
       "\t<li>2</li>\n",
       "</ol>\n"
      ],
      "text/latex": [
       "\\begin{enumerate*}\n",
       "\\item 0\n",
       "\\item 0\n",
       "\\item 0\n",
       "\\item 2\n",
       "\\item 2\n",
       "\\item 2\n",
       "\\end{enumerate*}\n"
      ],
      "text/markdown": [
       "1. 0\n",
       "2. 0\n",
       "3. 0\n",
       "4. 2\n",
       "5. 2\n",
       "6. 2\n",
       "\n",
       "\n"
      ],
      "text/plain": [
       "[1] 0 0 0 2 2 2"
      ]
     },
     "metadata": {},
     "output_type": "display_data"
    }
   ],
   "source": [
    "rep(c(0, 2), each = 3)"
   ]
  },
  {
   "cell_type": "markdown",
   "metadata": {},
   "source": [
    "### Текстовые векторы"
   ]
  },
  {
   "cell_type": "code",
   "execution_count": 44,
   "metadata": {},
   "outputs": [
    {
     "data": {
      "text/html": [
       "<ol class=list-inline>\n",
       "\t<li>'a'</li>\n",
       "\t<li>'b'</li>\n",
       "\t<li>'c'</li>\n",
       "\t<li>'d'</li>\n",
       "\t<li>'e'</li>\n",
       "\t<li>'f'</li>\n",
       "\t<li>'g'</li>\n",
       "\t<li>'h'</li>\n",
       "\t<li>'i'</li>\n",
       "\t<li>'j'</li>\n",
       "\t<li>'k'</li>\n",
       "\t<li>'l'</li>\n",
       "\t<li>'m'</li>\n",
       "\t<li>'n'</li>\n",
       "\t<li>'o'</li>\n",
       "\t<li>'p'</li>\n",
       "\t<li>'q'</li>\n",
       "\t<li>'r'</li>\n",
       "\t<li>'s'</li>\n",
       "\t<li>'t'</li>\n",
       "\t<li>'u'</li>\n",
       "\t<li>'v'</li>\n",
       "\t<li>'w'</li>\n",
       "\t<li>'x'</li>\n",
       "\t<li>'y'</li>\n",
       "\t<li>'z'</li>\n",
       "</ol>\n"
      ],
      "text/latex": [
       "\\begin{enumerate*}\n",
       "\\item 'a'\n",
       "\\item 'b'\n",
       "\\item 'c'\n",
       "\\item 'd'\n",
       "\\item 'e'\n",
       "\\item 'f'\n",
       "\\item 'g'\n",
       "\\item 'h'\n",
       "\\item 'i'\n",
       "\\item 'j'\n",
       "\\item 'k'\n",
       "\\item 'l'\n",
       "\\item 'm'\n",
       "\\item 'n'\n",
       "\\item 'o'\n",
       "\\item 'p'\n",
       "\\item 'q'\n",
       "\\item 'r'\n",
       "\\item 's'\n",
       "\\item 't'\n",
       "\\item 'u'\n",
       "\\item 'v'\n",
       "\\item 'w'\n",
       "\\item 'x'\n",
       "\\item 'y'\n",
       "\\item 'z'\n",
       "\\end{enumerate*}\n"
      ],
      "text/markdown": [
       "1. 'a'\n",
       "2. 'b'\n",
       "3. 'c'\n",
       "4. 'd'\n",
       "5. 'e'\n",
       "6. 'f'\n",
       "7. 'g'\n",
       "8. 'h'\n",
       "9. 'i'\n",
       "10. 'j'\n",
       "11. 'k'\n",
       "12. 'l'\n",
       "13. 'm'\n",
       "14. 'n'\n",
       "15. 'o'\n",
       "16. 'p'\n",
       "17. 'q'\n",
       "18. 'r'\n",
       "19. 's'\n",
       "20. 't'\n",
       "21. 'u'\n",
       "22. 'v'\n",
       "23. 'w'\n",
       "24. 'x'\n",
       "25. 'y'\n",
       "26. 'z'\n",
       "\n",
       "\n"
      ],
      "text/plain": [
       " [1] \"a\" \"b\" \"c\" \"d\" \"e\" \"f\" \"g\" \"h\" \"i\" \"j\" \"k\" \"l\" \"m\" \"n\" \"o\" \"p\" \"q\" \"r\" \"s\"\n",
       "[20] \"t\" \"u\" \"v\" \"w\" \"x\" \"y\" \"z\""
      ]
     },
     "metadata": {},
     "output_type": "display_data"
    }
   ],
   "source": [
    "letters"
   ]
  },
  {
   "cell_type": "code",
   "execution_count": 45,
   "metadata": {},
   "outputs": [
    {
     "data": {
      "text/html": [
       "<ol class=list-inline>\n",
       "\t<li>'A'</li>\n",
       "\t<li>'B'</li>\n",
       "\t<li>'C'</li>\n",
       "\t<li>'D'</li>\n",
       "\t<li>'E'</li>\n",
       "\t<li>'F'</li>\n",
       "\t<li>'G'</li>\n",
       "\t<li>'H'</li>\n",
       "\t<li>'I'</li>\n",
       "\t<li>'J'</li>\n",
       "\t<li>'K'</li>\n",
       "\t<li>'L'</li>\n",
       "\t<li>'M'</li>\n",
       "\t<li>'N'</li>\n",
       "\t<li>'O'</li>\n",
       "\t<li>'P'</li>\n",
       "\t<li>'Q'</li>\n",
       "\t<li>'R'</li>\n",
       "\t<li>'S'</li>\n",
       "\t<li>'T'</li>\n",
       "\t<li>'U'</li>\n",
       "\t<li>'V'</li>\n",
       "\t<li>'W'</li>\n",
       "\t<li>'X'</li>\n",
       "\t<li>'Y'</li>\n",
       "\t<li>'Z'</li>\n",
       "</ol>\n"
      ],
      "text/latex": [
       "\\begin{enumerate*}\n",
       "\\item 'A'\n",
       "\\item 'B'\n",
       "\\item 'C'\n",
       "\\item 'D'\n",
       "\\item 'E'\n",
       "\\item 'F'\n",
       "\\item 'G'\n",
       "\\item 'H'\n",
       "\\item 'I'\n",
       "\\item 'J'\n",
       "\\item 'K'\n",
       "\\item 'L'\n",
       "\\item 'M'\n",
       "\\item 'N'\n",
       "\\item 'O'\n",
       "\\item 'P'\n",
       "\\item 'Q'\n",
       "\\item 'R'\n",
       "\\item 'S'\n",
       "\\item 'T'\n",
       "\\item 'U'\n",
       "\\item 'V'\n",
       "\\item 'W'\n",
       "\\item 'X'\n",
       "\\item 'Y'\n",
       "\\item 'Z'\n",
       "\\end{enumerate*}\n"
      ],
      "text/markdown": [
       "1. 'A'\n",
       "2. 'B'\n",
       "3. 'C'\n",
       "4. 'D'\n",
       "5. 'E'\n",
       "6. 'F'\n",
       "7. 'G'\n",
       "8. 'H'\n",
       "9. 'I'\n",
       "10. 'J'\n",
       "11. 'K'\n",
       "12. 'L'\n",
       "13. 'M'\n",
       "14. 'N'\n",
       "15. 'O'\n",
       "16. 'P'\n",
       "17. 'Q'\n",
       "18. 'R'\n",
       "19. 'S'\n",
       "20. 'T'\n",
       "21. 'U'\n",
       "22. 'V'\n",
       "23. 'W'\n",
       "24. 'X'\n",
       "25. 'Y'\n",
       "26. 'Z'\n",
       "\n",
       "\n"
      ],
      "text/plain": [
       " [1] \"A\" \"B\" \"C\" \"D\" \"E\" \"F\" \"G\" \"H\" \"I\" \"J\" \"K\" \"L\" \"M\" \"N\" \"O\" \"P\" \"Q\" \"R\" \"S\"\n",
       "[20] \"T\" \"U\" \"V\" \"W\" \"X\" \"Y\" \"Z\""
      ]
     },
     "metadata": {},
     "output_type": "display_data"
    }
   ],
   "source": [
    "LETTERS"
   ]
  },
  {
   "cell_type": "code",
   "execution_count": 46,
   "metadata": {},
   "outputs": [
    {
     "data": {
      "text/html": [
       "<ol class=list-inline>\n",
       "\t<li>'a _ 1'</li>\n",
       "\t<li>'b _ 2'</li>\n",
       "\t<li>'c _ 3'</li>\n",
       "\t<li>'d _ 4'</li>\n",
       "\t<li>'e _ 5'</li>\n",
       "\t<li>'f _ 6'</li>\n",
       "\t<li>'g _ 7'</li>\n",
       "\t<li>'h _ 8'</li>\n",
       "\t<li>'i _ 9'</li>\n",
       "\t<li>'j _ 10'</li>\n",
       "\t<li>'k _ 11'</li>\n",
       "\t<li>'l _ 12'</li>\n",
       "\t<li>'m _ 13'</li>\n",
       "\t<li>'n _ 14'</li>\n",
       "\t<li>'o _ 15'</li>\n",
       "\t<li>'p _ 16'</li>\n",
       "\t<li>'q _ 17'</li>\n",
       "\t<li>'r _ 18'</li>\n",
       "\t<li>'s _ 19'</li>\n",
       "\t<li>'t _ 20'</li>\n",
       "\t<li>'u _ 21'</li>\n",
       "\t<li>'v _ 22'</li>\n",
       "\t<li>'w _ 23'</li>\n",
       "\t<li>'x _ 24'</li>\n",
       "\t<li>'y _ 25'</li>\n",
       "\t<li>'z _ 26'</li>\n",
       "</ol>\n"
      ],
      "text/latex": [
       "\\begin{enumerate*}\n",
       "\\item 'a \\_ 1'\n",
       "\\item 'b \\_ 2'\n",
       "\\item 'c \\_ 3'\n",
       "\\item 'd \\_ 4'\n",
       "\\item 'e \\_ 5'\n",
       "\\item 'f \\_ 6'\n",
       "\\item 'g \\_ 7'\n",
       "\\item 'h \\_ 8'\n",
       "\\item 'i \\_ 9'\n",
       "\\item 'j \\_ 10'\n",
       "\\item 'k \\_ 11'\n",
       "\\item 'l \\_ 12'\n",
       "\\item 'm \\_ 13'\n",
       "\\item 'n \\_ 14'\n",
       "\\item 'o \\_ 15'\n",
       "\\item 'p \\_ 16'\n",
       "\\item 'q \\_ 17'\n",
       "\\item 'r \\_ 18'\n",
       "\\item 's \\_ 19'\n",
       "\\item 't \\_ 20'\n",
       "\\item 'u \\_ 21'\n",
       "\\item 'v \\_ 22'\n",
       "\\item 'w \\_ 23'\n",
       "\\item 'x \\_ 24'\n",
       "\\item 'y \\_ 25'\n",
       "\\item 'z \\_ 26'\n",
       "\\end{enumerate*}\n"
      ],
      "text/markdown": [
       "1. 'a _ 1'\n",
       "2. 'b _ 2'\n",
       "3. 'c _ 3'\n",
       "4. 'd _ 4'\n",
       "5. 'e _ 5'\n",
       "6. 'f _ 6'\n",
       "7. 'g _ 7'\n",
       "8. 'h _ 8'\n",
       "9. 'i _ 9'\n",
       "10. 'j _ 10'\n",
       "11. 'k _ 11'\n",
       "12. 'l _ 12'\n",
       "13. 'm _ 13'\n",
       "14. 'n _ 14'\n",
       "15. 'o _ 15'\n",
       "16. 'p _ 16'\n",
       "17. 'q _ 17'\n",
       "18. 'r _ 18'\n",
       "19. 's _ 19'\n",
       "20. 't _ 20'\n",
       "21. 'u _ 21'\n",
       "22. 'v _ 22'\n",
       "23. 'w _ 23'\n",
       "24. 'x _ 24'\n",
       "25. 'y _ 25'\n",
       "26. 'z _ 26'\n",
       "\n",
       "\n"
      ],
      "text/plain": [
       " [1] \"a _ 1\"  \"b _ 2\"  \"c _ 3\"  \"d _ 4\"  \"e _ 5\"  \"f _ 6\"  \"g _ 7\"  \"h _ 8\" \n",
       " [9] \"i _ 9\"  \"j _ 10\" \"k _ 11\" \"l _ 12\" \"m _ 13\" \"n _ 14\" \"o _ 15\" \"p _ 16\"\n",
       "[17] \"q _ 17\" \"r _ 18\" \"s _ 19\" \"t _ 20\" \"u _ 21\" \"v _ 22\" \"w _ 23\" \"x _ 24\"\n",
       "[25] \"y _ 25\" \"z _ 26\""
      ]
     },
     "metadata": {},
     "output_type": "display_data"
    }
   ],
   "source": [
    "paste(letters, set='_', seq(1, 26))"
   ]
  },
  {
   "cell_type": "code",
   "execution_count": 47,
   "metadata": {},
   "outputs": [
    {
     "data": {
      "text/html": [
       "<ol class=list-inline>\n",
       "\t<li>'a_1'</li>\n",
       "\t<li>'b_2'</li>\n",
       "\t<li>'c_3'</li>\n",
       "\t<li>'d_4'</li>\n",
       "\t<li>'e_5'</li>\n",
       "\t<li>'f_6'</li>\n",
       "\t<li>'g_7'</li>\n",
       "\t<li>'h_8'</li>\n",
       "\t<li>'i_9'</li>\n",
       "\t<li>'j_10'</li>\n",
       "\t<li>'k_11'</li>\n",
       "\t<li>'l_12'</li>\n",
       "\t<li>'m_13'</li>\n",
       "\t<li>'n_14'</li>\n",
       "\t<li>'o_15'</li>\n",
       "\t<li>'p_16'</li>\n",
       "\t<li>'q_17'</li>\n",
       "\t<li>'r_18'</li>\n",
       "\t<li>'s_19'</li>\n",
       "\t<li>'t_20'</li>\n",
       "\t<li>'u_21'</li>\n",
       "\t<li>'v_22'</li>\n",
       "\t<li>'w_23'</li>\n",
       "\t<li>'x_24'</li>\n",
       "\t<li>'y_25'</li>\n",
       "\t<li>'z_26'</li>\n",
       "</ol>\n"
      ],
      "text/latex": [
       "\\begin{enumerate*}\n",
       "\\item 'a\\_1'\n",
       "\\item 'b\\_2'\n",
       "\\item 'c\\_3'\n",
       "\\item 'd\\_4'\n",
       "\\item 'e\\_5'\n",
       "\\item 'f\\_6'\n",
       "\\item 'g\\_7'\n",
       "\\item 'h\\_8'\n",
       "\\item 'i\\_9'\n",
       "\\item 'j\\_10'\n",
       "\\item 'k\\_11'\n",
       "\\item 'l\\_12'\n",
       "\\item 'm\\_13'\n",
       "\\item 'n\\_14'\n",
       "\\item 'o\\_15'\n",
       "\\item 'p\\_16'\n",
       "\\item 'q\\_17'\n",
       "\\item 'r\\_18'\n",
       "\\item 's\\_19'\n",
       "\\item 't\\_20'\n",
       "\\item 'u\\_21'\n",
       "\\item 'v\\_22'\n",
       "\\item 'w\\_23'\n",
       "\\item 'x\\_24'\n",
       "\\item 'y\\_25'\n",
       "\\item 'z\\_26'\n",
       "\\end{enumerate*}\n"
      ],
      "text/markdown": [
       "1. 'a_1'\n",
       "2. 'b_2'\n",
       "3. 'c_3'\n",
       "4. 'd_4'\n",
       "5. 'e_5'\n",
       "6. 'f_6'\n",
       "7. 'g_7'\n",
       "8. 'h_8'\n",
       "9. 'i_9'\n",
       "10. 'j_10'\n",
       "11. 'k_11'\n",
       "12. 'l_12'\n",
       "13. 'm_13'\n",
       "14. 'n_14'\n",
       "15. 'o_15'\n",
       "16. 'p_16'\n",
       "17. 'q_17'\n",
       "18. 'r_18'\n",
       "19. 's_19'\n",
       "20. 't_20'\n",
       "21. 'u_21'\n",
       "22. 'v_22'\n",
       "23. 'w_23'\n",
       "24. 'x_24'\n",
       "25. 'y_25'\n",
       "26. 'z_26'\n",
       "\n",
       "\n"
      ],
      "text/plain": [
       " [1] \"a_1\"  \"b_2\"  \"c_3\"  \"d_4\"  \"e_5\"  \"f_6\"  \"g_7\"  \"h_8\"  \"i_9\"  \"j_10\"\n",
       "[11] \"k_11\" \"l_12\" \"m_13\" \"n_14\" \"o_15\" \"p_16\" \"q_17\" \"r_18\" \"s_19\" \"t_20\"\n",
       "[21] \"u_21\" \"v_22\" \"w_23\" \"x_24\" \"y_25\" \"z_26\""
      ]
     },
     "metadata": {},
     "output_type": "display_data"
    }
   ],
   "source": [
    "paste0(letters, set='_', seq(1, 26))"
   ]
  },
  {
   "cell_type": "code",
   "execution_count": 48,
   "metadata": {
    "collapsed": true,
    "jupyter": {
     "outputs_hidden": true
    }
   },
   "outputs": [
    {
     "data": {
      "text/html": [
       "\n",
       "<table width=\"100%\" summary=\"page for ISOdatetime {base}\"><tr><td>ISOdatetime {base}</td><td style=\"text-align: right;\">R Documentation</td></tr></table>\n",
       "\n",
       "<h2>Date-time Conversion Functions from Numeric Representations</h2>\n",
       "\n",
       "<h3>Description</h3>\n",
       "\n",
       "<p>Convenience wrappers to create date-times from numeric representations.\n",
       "</p>\n",
       "\n",
       "\n",
       "<h3>Usage</h3>\n",
       "\n",
       "<pre>\n",
       "ISOdatetime(year, month, day, hour, min, sec, tz = \"\")\n",
       "ISOdate(year, month, day, hour = 12, min = 0, sec = 0, tz = \"GMT\")\n",
       "</pre>\n",
       "\n",
       "\n",
       "<h3>Arguments</h3>\n",
       "\n",
       "<table summary=\"R argblock\">\n",
       "<tr valign=\"top\"><td><code>year, month, day</code></td>\n",
       "<td>\n",
       "<p>numerical values to specify a day.</p>\n",
       "</td></tr>\n",
       "<tr valign=\"top\"><td><code>hour, min, sec</code></td>\n",
       "<td>\n",
       "<p>numerical values for a time within a day.\n",
       "Fractional seconds are allowed.</p>\n",
       "</td></tr>\n",
       "<tr valign=\"top\"><td><code>tz</code></td>\n",
       "<td>\n",
       "<p>A time zone specification to be used for the conversion.\n",
       "<code>\"\"</code> is the current time zone and <code>\"GMT\"</code> is UTC.  Invalid\n",
       "values are most commonly treated as UTC, on some platforms with a warning.</p>\n",
       "</td></tr>\n",
       "</table>\n",
       "\n",
       "\n",
       "<h3>Details</h3>\n",
       "\n",
       "<p><code>ISOdatetime</code> and <code>ISOdate</code> are convenience wrappers for\n",
       "<code>strptime</code> that differ only in their defaults and that\n",
       "<code>ISOdate</code> sets UTC as the time zone.  For dates without times it\n",
       "would normally be better to use the <code>\"Date\"</code> class.\n",
       "</p>\n",
       "<p>The main arguments will be recycled using the usual recycling rules.\n",
       "</p>\n",
       "<p>Because these make use of <code>strptime</code>, only years in the\n",
       "range <code>0:9999</code> are accepted.\n",
       "</p>\n",
       "\n",
       "\n",
       "<h3>Value</h3>\n",
       "\n",
       "<p>An object of class <code>\"POSIXct\"</code>.\n",
       "</p>\n",
       "\n",
       "\n",
       "<h3>See Also</h3>\n",
       "\n",
       "<p>DateTimeClasses for details of the date-time classes;\n",
       "<code>strptime</code> for conversions from character strings.\n",
       "</p>\n",
       "\n",
       "<hr /><div style=\"text-align: center;\">[Package <em>base</em> version 3.6.1 ]</div>"
      ],
      "text/latex": [
       "\\inputencoding{utf8}\n",
       "\\HeaderA{ISOdatetime}{Date-time Conversion Functions from Numeric Representations}{ISOdatetime}\n",
       "\\aliasA{ISOdate}{ISOdatetime}{ISOdate}\n",
       "\\keyword{utilities}{ISOdatetime}\n",
       "\\keyword{chron}{ISOdatetime}\n",
       "%\n",
       "\\begin{Description}\\relax\n",
       "Convenience wrappers to create date-times from numeric representations.\n",
       "\\end{Description}\n",
       "%\n",
       "\\begin{Usage}\n",
       "\\begin{verbatim}\n",
       "ISOdatetime(year, month, day, hour, min, sec, tz = \"\")\n",
       "ISOdate(year, month, day, hour = 12, min = 0, sec = 0, tz = \"GMT\")\n",
       "\\end{verbatim}\n",
       "\\end{Usage}\n",
       "%\n",
       "\\begin{Arguments}\n",
       "\\begin{ldescription}\n",
       "\\item[\\code{year, month, day}] numerical values to specify a day.\n",
       "\\item[\\code{hour, min, sec}] numerical values for a time within a day.\n",
       "Fractional seconds are allowed.\n",
       "\\item[\\code{tz}] A \\LinkA{time zone}{time zone} specification to be used for the conversion.\n",
       "\\code{\"\"} is the current time zone and \\code{\"GMT\"} is UTC.  Invalid\n",
       "values are most commonly treated as UTC, on some platforms with a warning.\n",
       "\\end{ldescription}\n",
       "\\end{Arguments}\n",
       "%\n",
       "\\begin{Details}\\relax\n",
       "\\code{ISOdatetime} and \\code{ISOdate} are convenience wrappers for\n",
       "\\code{strptime} that differ only in their defaults and that\n",
       "\\code{ISOdate} sets UTC as the time zone.  For dates without times it\n",
       "would normally be better to use the \\code{\"\\LinkA{Date}{Date}\"} class.\n",
       "\n",
       "The main arguments will be recycled using the usual recycling rules.\n",
       "\n",
       "Because these make use of \\code{\\LinkA{strptime}{strptime}}, only years in the\n",
       "range \\code{0:9999} are accepted.\n",
       "\\end{Details}\n",
       "%\n",
       "\\begin{Value}\n",
       "An object of class \\code{\"\\LinkA{POSIXct}{POSIXct}\"}.\n",
       "\\end{Value}\n",
       "%\n",
       "\\begin{SeeAlso}\\relax\n",
       "\\LinkA{DateTimeClasses}{DateTimeClasses} for details of the date-time classes;\n",
       "\\code{\\LinkA{strptime}{strptime}} for conversions from character strings.\n",
       "\\end{SeeAlso}"
      ],
      "text/plain": [
       "ISOdatetime                package:base                R Documentation\n",
       "\n",
       "_\bD_\ba_\bt_\be-_\bt_\bi_\bm_\be _\bC_\bo_\bn_\bv_\be_\br_\bs_\bi_\bo_\bn _\bF_\bu_\bn_\bc_\bt_\bi_\bo_\bn_\bs _\bf_\br_\bo_\bm _\bN_\bu_\bm_\be_\br_\bi_\bc _\bR_\be_\bp_\br_\be_\bs_\be_\bn_\bt_\ba_\bt_\bi_\bo_\bn_\bs\n",
       "\n",
       "_\bD_\be_\bs_\bc_\br_\bi_\bp_\bt_\bi_\bo_\bn:\n",
       "\n",
       "     Convenience wrappers to create date-times from numeric\n",
       "     representations.\n",
       "\n",
       "_\bU_\bs_\ba_\bg_\be:\n",
       "\n",
       "     ISOdatetime(year, month, day, hour, min, sec, tz = \"\")\n",
       "     ISOdate(year, month, day, hour = 12, min = 0, sec = 0, tz = \"GMT\")\n",
       "     \n",
       "_\bA_\br_\bg_\bu_\bm_\be_\bn_\bt_\bs:\n",
       "\n",
       "year, month, day: numerical values to specify a day.\n",
       "\n",
       "hour, min, sec: numerical values for a time within a day.  Fractional\n",
       "          seconds are allowed.\n",
       "\n",
       "      tz: A time zone specification to be used for the conversion.\n",
       "          '\"\"' is the current time zone and '\"GMT\"' is UTC.  Invalid\n",
       "          values are most commonly treated as UTC, on some platforms\n",
       "          with a warning.\n",
       "\n",
       "_\bD_\be_\bt_\ba_\bi_\bl_\bs:\n",
       "\n",
       "     'ISOdatetime' and 'ISOdate' are convenience wrappers for\n",
       "     'strptime' that differ only in their defaults and that 'ISOdate'\n",
       "     sets UTC as the time zone.  For dates without times it would\n",
       "     normally be better to use the '\"Date\"' class.\n",
       "\n",
       "     The main arguments will be recycled using the usual recycling\n",
       "     rules.\n",
       "\n",
       "     Because these make use of 'strptime', only years in the range\n",
       "     '0:9999' are accepted.\n",
       "\n",
       "_\bV_\ba_\bl_\bu_\be:\n",
       "\n",
       "     An object of class '\"POSIXct\"'.\n",
       "\n",
       "_\bS_\be_\be _\bA_\bl_\bs_\bo:\n",
       "\n",
       "     DateTimeClasses for details of the date-time classes; 'strptime'\n",
       "     for conversions from character strings.\n"
      ]
     },
     "metadata": {},
     "output_type": "display_data"
    }
   ],
   "source": [
    "?ISOdate"
   ]
  },
  {
   "cell_type": "code",
   "execution_count": 49,
   "metadata": {},
   "outputs": [
    {
     "name": "stderr",
     "output_type": "stream",
     "text": [
      "Warning message in strptime(x, \"%Y-%m-%d-%H-%M-%OS\", tz = tz):\n",
      "\"unable to identify current timezone '\u0010\u0004A\u0004B\u0004@\u00040\u0004E\u00040\u0004=\u0004A\u0004:\u0004>\u00045\u0004 ':\n",
      "please set environment variable 'TZ'\""
     ]
    },
    {
     "data": {
      "text/plain": [
       " [1] \"2019-09-01 12:00:00 GMT\" \"2019-09-02 12:00:00 GMT\"\n",
       " [3] \"2019-09-03 12:00:00 GMT\" \"2019-09-04 12:00:00 GMT\"\n",
       " [5] \"2019-09-05 12:00:00 GMT\" \"2019-09-06 12:00:00 GMT\"\n",
       " [7] \"2019-09-07 12:00:00 GMT\" \"2019-09-08 12:00:00 GMT\"\n",
       " [9] \"2019-09-09 12:00:00 GMT\" \"2019-09-10 12:00:00 GMT\"\n",
       "[11] \"2019-09-11 12:00:00 GMT\" \"2019-09-12 12:00:00 GMT\"\n",
       "[13] \"2019-09-13 12:00:00 GMT\" \"2019-09-14 12:00:00 GMT\"\n",
       "[15] \"2019-09-15 12:00:00 GMT\" \"2019-09-16 12:00:00 GMT\"\n",
       "[17] \"2019-09-17 12:00:00 GMT\" \"2019-09-18 12:00:00 GMT\"\n",
       "[19] \"2019-09-19 12:00:00 GMT\" \"2019-09-20 12:00:00 GMT\"\n",
       "[21] \"2019-09-21 12:00:00 GMT\" \"2019-09-22 12:00:00 GMT\"\n",
       "[23] \"2019-09-23 12:00:00 GMT\" \"2019-09-24 12:00:00 GMT\"\n",
       "[25] \"2019-09-25 12:00:00 GMT\" \"2019-09-26 12:00:00 GMT\"\n",
       "[27] \"2019-09-27 12:00:00 GMT\" \"2019-09-28 12:00:00 GMT\"\n",
       "[29] \"2019-09-29 12:00:00 GMT\" \"2019-09-30 12:00:00 GMT\""
      ]
     },
     "metadata": {},
     "output_type": "display_data"
    }
   ],
   "source": [
    "ISOdate(2019, 9, 1:30)"
   ]
  },
  {
   "cell_type": "code",
   "execution_count": 50,
   "metadata": {},
   "outputs": [
    {
     "data": {
      "text/html": [
       "<ol class=list-inline>\n",
       "\t<li>'01'</li>\n",
       "\t<li>'02'</li>\n",
       "\t<li>'03'</li>\n",
       "\t<li>'04'</li>\n",
       "\t<li>'05'</li>\n",
       "\t<li>'06'</li>\n",
       "\t<li>'07'</li>\n",
       "\t<li>'08'</li>\n",
       "\t<li>'09'</li>\n",
       "\t<li>'10'</li>\n",
       "\t<li>'11'</li>\n",
       "\t<li>'12'</li>\n",
       "\t<li>'13'</li>\n",
       "\t<li>'14'</li>\n",
       "\t<li>'15'</li>\n",
       "\t<li>'16'</li>\n",
       "\t<li>'17'</li>\n",
       "\t<li>'18'</li>\n",
       "\t<li>'19'</li>\n",
       "\t<li>'20'</li>\n",
       "\t<li>'21'</li>\n",
       "\t<li>'22'</li>\n",
       "\t<li>'23'</li>\n",
       "\t<li>'24'</li>\n",
       "\t<li>'25'</li>\n",
       "\t<li>'26'</li>\n",
       "\t<li>'27'</li>\n",
       "\t<li>'28'</li>\n",
       "\t<li>'29'</li>\n",
       "\t<li>'30'</li>\n",
       "</ol>\n"
      ],
      "text/latex": [
       "\\begin{enumerate*}\n",
       "\\item '01'\n",
       "\\item '02'\n",
       "\\item '03'\n",
       "\\item '04'\n",
       "\\item '05'\n",
       "\\item '06'\n",
       "\\item '07'\n",
       "\\item '08'\n",
       "\\item '09'\n",
       "\\item '10'\n",
       "\\item '11'\n",
       "\\item '12'\n",
       "\\item '13'\n",
       "\\item '14'\n",
       "\\item '15'\n",
       "\\item '16'\n",
       "\\item '17'\n",
       "\\item '18'\n",
       "\\item '19'\n",
       "\\item '20'\n",
       "\\item '21'\n",
       "\\item '22'\n",
       "\\item '23'\n",
       "\\item '24'\n",
       "\\item '25'\n",
       "\\item '26'\n",
       "\\item '27'\n",
       "\\item '28'\n",
       "\\item '29'\n",
       "\\item '30'\n",
       "\\end{enumerate*}\n"
      ],
      "text/markdown": [
       "1. '01'\n",
       "2. '02'\n",
       "3. '03'\n",
       "4. '04'\n",
       "5. '05'\n",
       "6. '06'\n",
       "7. '07'\n",
       "8. '08'\n",
       "9. '09'\n",
       "10. '10'\n",
       "11. '11'\n",
       "12. '12'\n",
       "13. '13'\n",
       "14. '14'\n",
       "15. '15'\n",
       "16. '16'\n",
       "17. '17'\n",
       "18. '18'\n",
       "19. '19'\n",
       "20. '20'\n",
       "21. '21'\n",
       "22. '22'\n",
       "23. '23'\n",
       "24. '24'\n",
       "25. '25'\n",
       "26. '26'\n",
       "27. '27'\n",
       "28. '28'\n",
       "29. '29'\n",
       "30. '30'\n",
       "\n",
       "\n"
      ],
      "text/plain": [
       " [1] \"01\" \"02\" \"03\" \"04\" \"05\" \"06\" \"07\" \"08\" \"09\" \"10\" \"11\" \"12\" \"13\" \"14\" \"15\"\n",
       "[16] \"16\" \"17\" \"18\" \"19\" \"20\" \"21\" \"22\" \"23\" \"24\" \"25\" \"26\" \"27\" \"28\" \"29\" \"30\""
      ]
     },
     "metadata": {},
     "output_type": "display_data"
    }
   ],
   "source": [
    "format(ISOdate(2019, 9, 1:30), \"%d\")"
   ]
  },
  {
   "cell_type": "code",
   "execution_count": 51,
   "metadata": {
    "collapsed": true,
    "jupyter": {
     "outputs_hidden": true
    }
   },
   "outputs": [
    {
     "data": {
      "text/html": [
       "<ol class=list-inline>\n",
       "\t<li>'сен'</li>\n",
       "\t<li>'сен'</li>\n",
       "\t<li>'сен'</li>\n",
       "\t<li>'сен'</li>\n",
       "\t<li>'сен'</li>\n",
       "\t<li>'сен'</li>\n",
       "\t<li>'сен'</li>\n",
       "\t<li>'сен'</li>\n",
       "\t<li>'сен'</li>\n",
       "\t<li>'сен'</li>\n",
       "\t<li>'сен'</li>\n",
       "\t<li>'сен'</li>\n",
       "\t<li>'сен'</li>\n",
       "\t<li>'сен'</li>\n",
       "\t<li>'сен'</li>\n",
       "\t<li>'сен'</li>\n",
       "\t<li>'сен'</li>\n",
       "\t<li>'сен'</li>\n",
       "\t<li>'сен'</li>\n",
       "\t<li>'сен'</li>\n",
       "\t<li>'сен'</li>\n",
       "\t<li>'сен'</li>\n",
       "\t<li>'сен'</li>\n",
       "\t<li>'сен'</li>\n",
       "\t<li>'сен'</li>\n",
       "\t<li>'сен'</li>\n",
       "\t<li>'сен'</li>\n",
       "\t<li>'сен'</li>\n",
       "\t<li>'сен'</li>\n",
       "\t<li>'сен'</li>\n",
       "</ol>\n"
      ],
      "text/latex": [
       "\\begin{enumerate*}\n",
       "\\item 'сен'\n",
       "\\item 'сен'\n",
       "\\item 'сен'\n",
       "\\item 'сен'\n",
       "\\item 'сен'\n",
       "\\item 'сен'\n",
       "\\item 'сен'\n",
       "\\item 'сен'\n",
       "\\item 'сен'\n",
       "\\item 'сен'\n",
       "\\item 'сен'\n",
       "\\item 'сен'\n",
       "\\item 'сен'\n",
       "\\item 'сен'\n",
       "\\item 'сен'\n",
       "\\item 'сен'\n",
       "\\item 'сен'\n",
       "\\item 'сен'\n",
       "\\item 'сен'\n",
       "\\item 'сен'\n",
       "\\item 'сен'\n",
       "\\item 'сен'\n",
       "\\item 'сен'\n",
       "\\item 'сен'\n",
       "\\item 'сен'\n",
       "\\item 'сен'\n",
       "\\item 'сен'\n",
       "\\item 'сен'\n",
       "\\item 'сен'\n",
       "\\item 'сен'\n",
       "\\end{enumerate*}\n"
      ],
      "text/markdown": [
       "1. 'сен'\n",
       "2. 'сен'\n",
       "3. 'сен'\n",
       "4. 'сен'\n",
       "5. 'сен'\n",
       "6. 'сен'\n",
       "7. 'сен'\n",
       "8. 'сен'\n",
       "9. 'сен'\n",
       "10. 'сен'\n",
       "11. 'сен'\n",
       "12. 'сен'\n",
       "13. 'сен'\n",
       "14. 'сен'\n",
       "15. 'сен'\n",
       "16. 'сен'\n",
       "17. 'сен'\n",
       "18. 'сен'\n",
       "19. 'сен'\n",
       "20. 'сен'\n",
       "21. 'сен'\n",
       "22. 'сен'\n",
       "23. 'сен'\n",
       "24. 'сен'\n",
       "25. 'сен'\n",
       "26. 'сен'\n",
       "27. 'сен'\n",
       "28. 'сен'\n",
       "29. 'сен'\n",
       "30. 'сен'\n",
       "\n",
       "\n"
      ],
      "text/plain": [
       " [1] \"сен\" \"сен\" \"сен\" \"сен\" \"сен\" \"сен\" \"сен\" \"сен\" \"сен\" \"сен\" \"сен\" \"сен\"\n",
       "[13] \"сен\" \"сен\" \"сен\" \"сен\" \"сен\" \"сен\" \"сен\" \"сен\" \"сен\" \"сен\" \"сен\" \"сен\"\n",
       "[25] \"сен\" \"сен\" \"сен\" \"сен\" \"сен\" \"сен\""
      ]
     },
     "metadata": {},
     "output_type": "display_data"
    }
   ],
   "source": [
    "format(ISOdate(2019, 9, 1:30), \"%b\")"
   ]
  },
  {
   "cell_type": "code",
   "execution_count": 52,
   "metadata": {},
   "outputs": [
    {
     "data": {
      "text/html": [
       "<ol class=list-inline>\n",
       "\t<li>'Вс'</li>\n",
       "\t<li>'Пн'</li>\n",
       "\t<li>'Вт'</li>\n",
       "\t<li>'Ср'</li>\n",
       "\t<li>'Чт'</li>\n",
       "\t<li>'Пт'</li>\n",
       "\t<li>'Сб'</li>\n",
       "\t<li>'Вс'</li>\n",
       "\t<li>'Пн'</li>\n",
       "\t<li>'Вт'</li>\n",
       "\t<li>'Ср'</li>\n",
       "\t<li>'Чт'</li>\n",
       "\t<li>'Пт'</li>\n",
       "\t<li>'Сб'</li>\n",
       "\t<li>'Вс'</li>\n",
       "\t<li>'Пн'</li>\n",
       "\t<li>'Вт'</li>\n",
       "\t<li>'Ср'</li>\n",
       "\t<li>'Чт'</li>\n",
       "\t<li>'Пт'</li>\n",
       "\t<li>'Сб'</li>\n",
       "\t<li>'Вс'</li>\n",
       "\t<li>'Пн'</li>\n",
       "\t<li>'Вт'</li>\n",
       "\t<li>'Ср'</li>\n",
       "\t<li>'Чт'</li>\n",
       "\t<li>'Пт'</li>\n",
       "\t<li>'Сб'</li>\n",
       "\t<li>'Вс'</li>\n",
       "\t<li>'Пн'</li>\n",
       "</ol>\n"
      ],
      "text/latex": [
       "\\begin{enumerate*}\n",
       "\\item 'Вс'\n",
       "\\item 'Пн'\n",
       "\\item 'Вт'\n",
       "\\item 'Ср'\n",
       "\\item 'Чт'\n",
       "\\item 'Пт'\n",
       "\\item 'Сб'\n",
       "\\item 'Вс'\n",
       "\\item 'Пн'\n",
       "\\item 'Вт'\n",
       "\\item 'Ср'\n",
       "\\item 'Чт'\n",
       "\\item 'Пт'\n",
       "\\item 'Сб'\n",
       "\\item 'Вс'\n",
       "\\item 'Пн'\n",
       "\\item 'Вт'\n",
       "\\item 'Ср'\n",
       "\\item 'Чт'\n",
       "\\item 'Пт'\n",
       "\\item 'Сб'\n",
       "\\item 'Вс'\n",
       "\\item 'Пн'\n",
       "\\item 'Вт'\n",
       "\\item 'Ср'\n",
       "\\item 'Чт'\n",
       "\\item 'Пт'\n",
       "\\item 'Сб'\n",
       "\\item 'Вс'\n",
       "\\item 'Пн'\n",
       "\\end{enumerate*}\n"
      ],
      "text/markdown": [
       "1. 'Вс'\n",
       "2. 'Пн'\n",
       "3. 'Вт'\n",
       "4. 'Ср'\n",
       "5. 'Чт'\n",
       "6. 'Пт'\n",
       "7. 'Сб'\n",
       "8. 'Вс'\n",
       "9. 'Пн'\n",
       "10. 'Вт'\n",
       "11. 'Ср'\n",
       "12. 'Чт'\n",
       "13. 'Пт'\n",
       "14. 'Сб'\n",
       "15. 'Вс'\n",
       "16. 'Пн'\n",
       "17. 'Вт'\n",
       "18. 'Ср'\n",
       "19. 'Чт'\n",
       "20. 'Пт'\n",
       "21. 'Сб'\n",
       "22. 'Вс'\n",
       "23. 'Пн'\n",
       "24. 'Вт'\n",
       "25. 'Ср'\n",
       "26. 'Чт'\n",
       "27. 'Пт'\n",
       "28. 'Сб'\n",
       "29. 'Вс'\n",
       "30. 'Пн'\n",
       "\n",
       "\n"
      ],
      "text/plain": [
       " [1] \"Вс\" \"Пн\" \"Вт\" \"Ср\" \"Чт\" \"Пт\" \"Сб\" \"Вс\" \"Пн\" \"Вт\" \"Ср\" \"Чт\" \"Пт\" \"Сб\" \"Вс\"\n",
       "[16] \"Пн\" \"Вт\" \"Ср\" \"Чт\" \"Пт\" \"Сб\" \"Вс\" \"Пн\" \"Вт\" \"Ср\" \"Чт\" \"Пт\" \"Сб\" \"Вс\" \"Пн\""
      ]
     },
     "metadata": {},
     "output_type": "display_data"
    }
   ],
   "source": [
    "format(ISOdate(2019, 9, 1:30), \"%a\")"
   ]
  },
  {
   "cell_type": "code",
   "execution_count": 53,
   "metadata": {},
   "outputs": [
    {
     "data": {
      "text/html": [
       "<ol class=list-inline>\n",
       "\t<li>'01 _ сен'</li>\n",
       "\t<li>'02 _ сен'</li>\n",
       "\t<li>'03 _ сен'</li>\n",
       "\t<li>'04 _ сен'</li>\n",
       "\t<li>'05 _ сен'</li>\n",
       "\t<li>'06 _ сен'</li>\n",
       "\t<li>'07 _ сен'</li>\n",
       "\t<li>'08 _ сен'</li>\n",
       "\t<li>'09 _ сен'</li>\n",
       "\t<li>'10 _ сен'</li>\n",
       "\t<li>'11 _ сен'</li>\n",
       "\t<li>'12 _ сен'</li>\n",
       "\t<li>'13 _ сен'</li>\n",
       "\t<li>'14 _ сен'</li>\n",
       "\t<li>'15 _ сен'</li>\n",
       "\t<li>'16 _ сен'</li>\n",
       "\t<li>'17 _ сен'</li>\n",
       "\t<li>'18 _ сен'</li>\n",
       "\t<li>'19 _ сен'</li>\n",
       "\t<li>'20 _ сен'</li>\n",
       "\t<li>'21 _ сен'</li>\n",
       "\t<li>'22 _ сен'</li>\n",
       "\t<li>'23 _ сен'</li>\n",
       "\t<li>'24 _ сен'</li>\n",
       "\t<li>'25 _ сен'</li>\n",
       "\t<li>'26 _ сен'</li>\n",
       "\t<li>'27 _ сен'</li>\n",
       "\t<li>'28 _ сен'</li>\n",
       "\t<li>'29 _ сен'</li>\n",
       "\t<li>'30 _ сен'</li>\n",
       "</ol>\n"
      ],
      "text/latex": [
       "\\begin{enumerate*}\n",
       "\\item '01 \\_ сен'\n",
       "\\item '02 \\_ сен'\n",
       "\\item '03 \\_ сен'\n",
       "\\item '04 \\_ сен'\n",
       "\\item '05 \\_ сен'\n",
       "\\item '06 \\_ сен'\n",
       "\\item '07 \\_ сен'\n",
       "\\item '08 \\_ сен'\n",
       "\\item '09 \\_ сен'\n",
       "\\item '10 \\_ сен'\n",
       "\\item '11 \\_ сен'\n",
       "\\item '12 \\_ сен'\n",
       "\\item '13 \\_ сен'\n",
       "\\item '14 \\_ сен'\n",
       "\\item '15 \\_ сен'\n",
       "\\item '16 \\_ сен'\n",
       "\\item '17 \\_ сен'\n",
       "\\item '18 \\_ сен'\n",
       "\\item '19 \\_ сен'\n",
       "\\item '20 \\_ сен'\n",
       "\\item '21 \\_ сен'\n",
       "\\item '22 \\_ сен'\n",
       "\\item '23 \\_ сен'\n",
       "\\item '24 \\_ сен'\n",
       "\\item '25 \\_ сен'\n",
       "\\item '26 \\_ сен'\n",
       "\\item '27 \\_ сен'\n",
       "\\item '28 \\_ сен'\n",
       "\\item '29 \\_ сен'\n",
       "\\item '30 \\_ сен'\n",
       "\\end{enumerate*}\n"
      ],
      "text/markdown": [
       "1. '01 _ сен'\n",
       "2. '02 _ сен'\n",
       "3. '03 _ сен'\n",
       "4. '04 _ сен'\n",
       "5. '05 _ сен'\n",
       "6. '06 _ сен'\n",
       "7. '07 _ сен'\n",
       "8. '08 _ сен'\n",
       "9. '09 _ сен'\n",
       "10. '10 _ сен'\n",
       "11. '11 _ сен'\n",
       "12. '12 _ сен'\n",
       "13. '13 _ сен'\n",
       "14. '14 _ сен'\n",
       "15. '15 _ сен'\n",
       "16. '16 _ сен'\n",
       "17. '17 _ сен'\n",
       "18. '18 _ сен'\n",
       "19. '19 _ сен'\n",
       "20. '20 _ сен'\n",
       "21. '21 _ сен'\n",
       "22. '22 _ сен'\n",
       "23. '23 _ сен'\n",
       "24. '24 _ сен'\n",
       "25. '25 _ сен'\n",
       "26. '26 _ сен'\n",
       "27. '27 _ сен'\n",
       "28. '28 _ сен'\n",
       "29. '29 _ сен'\n",
       "30. '30 _ сен'\n",
       "\n",
       "\n"
      ],
      "text/plain": [
       " [1] \"01 _ сен\" \"02 _ сен\" \"03 _ сен\" \"04 _ сен\" \"05 _ сен\" \"06 _ сен\"\n",
       " [7] \"07 _ сен\" \"08 _ сен\" \"09 _ сен\" \"10 _ сен\" \"11 _ сен\" \"12 _ сен\"\n",
       "[13] \"13 _ сен\" \"14 _ сен\" \"15 _ сен\" \"16 _ сен\" \"17 _ сен\" \"18 _ сен\"\n",
       "[19] \"19 _ сен\" \"20 _ сен\" \"21 _ сен\" \"22 _ сен\" \"23 _ сен\" \"24 _ сен\"\n",
       "[25] \"25 _ сен\" \"26 _ сен\" \"27 _ сен\" \"28 _ сен\" \"29 _ сен\" \"30 _ сен\""
      ]
     },
     "metadata": {},
     "output_type": "display_data"
    }
   ],
   "source": [
    "paste(format(ISOdate(2019, 9, 1:30), \"%d\"), set='_', format(ISOdate(2019, 9, 1:30), \"%b\"))"
   ]
  },
  {
   "cell_type": "code",
   "execution_count": 54,
   "metadata": {},
   "outputs": [
    {
     "data": {
      "text/html": [
       "<ol class=list-inline>\n",
       "\t<li>'01_сен'</li>\n",
       "\t<li>'02_сен'</li>\n",
       "\t<li>'03_сен'</li>\n",
       "\t<li>'04_сен'</li>\n",
       "\t<li>'05_сен'</li>\n",
       "\t<li>'06_сен'</li>\n",
       "\t<li>'07_сен'</li>\n",
       "\t<li>'08_сен'</li>\n",
       "\t<li>'09_сен'</li>\n",
       "\t<li>'10_сен'</li>\n",
       "\t<li>'11_сен'</li>\n",
       "\t<li>'12_сен'</li>\n",
       "\t<li>'13_сен'</li>\n",
       "\t<li>'14_сен'</li>\n",
       "\t<li>'15_сен'</li>\n",
       "\t<li>'16_сен'</li>\n",
       "\t<li>'17_сен'</li>\n",
       "\t<li>'18_сен'</li>\n",
       "\t<li>'19_сен'</li>\n",
       "\t<li>'20_сен'</li>\n",
       "\t<li>'21_сен'</li>\n",
       "\t<li>'22_сен'</li>\n",
       "\t<li>'23_сен'</li>\n",
       "\t<li>'24_сен'</li>\n",
       "\t<li>'25_сен'</li>\n",
       "\t<li>'26_сен'</li>\n",
       "\t<li>'27_сен'</li>\n",
       "\t<li>'28_сен'</li>\n",
       "\t<li>'29_сен'</li>\n",
       "\t<li>'30_сен'</li>\n",
       "</ol>\n"
      ],
      "text/latex": [
       "\\begin{enumerate*}\n",
       "\\item '01\\_сен'\n",
       "\\item '02\\_сен'\n",
       "\\item '03\\_сен'\n",
       "\\item '04\\_сен'\n",
       "\\item '05\\_сен'\n",
       "\\item '06\\_сен'\n",
       "\\item '07\\_сен'\n",
       "\\item '08\\_сен'\n",
       "\\item '09\\_сен'\n",
       "\\item '10\\_сен'\n",
       "\\item '11\\_сен'\n",
       "\\item '12\\_сен'\n",
       "\\item '13\\_сен'\n",
       "\\item '14\\_сен'\n",
       "\\item '15\\_сен'\n",
       "\\item '16\\_сен'\n",
       "\\item '17\\_сен'\n",
       "\\item '18\\_сен'\n",
       "\\item '19\\_сен'\n",
       "\\item '20\\_сен'\n",
       "\\item '21\\_сен'\n",
       "\\item '22\\_сен'\n",
       "\\item '23\\_сен'\n",
       "\\item '24\\_сен'\n",
       "\\item '25\\_сен'\n",
       "\\item '26\\_сен'\n",
       "\\item '27\\_сен'\n",
       "\\item '28\\_сен'\n",
       "\\item '29\\_сен'\n",
       "\\item '30\\_сен'\n",
       "\\end{enumerate*}\n"
      ],
      "text/markdown": [
       "1. '01_сен'\n",
       "2. '02_сен'\n",
       "3. '03_сен'\n",
       "4. '04_сен'\n",
       "5. '05_сен'\n",
       "6. '06_сен'\n",
       "7. '07_сен'\n",
       "8. '08_сен'\n",
       "9. '09_сен'\n",
       "10. '10_сен'\n",
       "11. '11_сен'\n",
       "12. '12_сен'\n",
       "13. '13_сен'\n",
       "14. '14_сен'\n",
       "15. '15_сен'\n",
       "16. '16_сен'\n",
       "17. '17_сен'\n",
       "18. '18_сен'\n",
       "19. '19_сен'\n",
       "20. '20_сен'\n",
       "21. '21_сен'\n",
       "22. '22_сен'\n",
       "23. '23_сен'\n",
       "24. '24_сен'\n",
       "25. '25_сен'\n",
       "26. '26_сен'\n",
       "27. '27_сен'\n",
       "28. '28_сен'\n",
       "29. '29_сен'\n",
       "30. '30_сен'\n",
       "\n",
       "\n"
      ],
      "text/plain": [
       " [1] \"01_сен\" \"02_сен\" \"03_сен\" \"04_сен\" \"05_сен\" \"06_сен\" \"07_сен\" \"08_сен\"\n",
       " [9] \"09_сен\" \"10_сен\" \"11_сен\" \"12_сен\" \"13_сен\" \"14_сен\" \"15_сен\" \"16_сен\"\n",
       "[17] \"17_сен\" \"18_сен\" \"19_сен\" \"20_сен\" \"21_сен\" \"22_сен\" \"23_сен\" \"24_сен\"\n",
       "[25] \"25_сен\" \"26_сен\" \"27_сен\" \"28_сен\" \"29_сен\" \"30_сен\""
      ]
     },
     "metadata": {},
     "output_type": "display_data"
    }
   ],
   "source": [
    "paste0(format(ISOdate(2019, 9, 1:30), \"%d\"), set='_', rep('сен', time=30))"
   ]
  },
  {
   "cell_type": "markdown",
   "metadata": {},
   "source": [
    "### Прочие функции"
   ]
  },
  {
   "cell_type": "code",
   "execution_count": 55,
   "metadata": {},
   "outputs": [
    {
     "data": {
      "text/html": [
       "<ol class=list-inline>\n",
       "\t<li>1</li>\n",
       "\t<li>1</li>\n",
       "\t<li>1</li>\n",
       "\t<li>1</li>\n",
       "\t<li>1</li>\n",
       "\t<li>1</li>\n",
       "\t<li>1</li>\n",
       "\t<li>1</li>\n",
       "\t<li>1</li>\n",
       "\t<li>1</li>\n",
       "</ol>\n"
      ],
      "text/latex": [
       "\\begin{enumerate*}\n",
       "\\item 1\n",
       "\\item 1\n",
       "\\item 1\n",
       "\\item 1\n",
       "\\item 1\n",
       "\\item 1\n",
       "\\item 1\n",
       "\\item 1\n",
       "\\item 1\n",
       "\\item 1\n",
       "\\end{enumerate*}\n"
      ],
      "text/markdown": [
       "1. 1\n",
       "2. 1\n",
       "3. 1\n",
       "4. 1\n",
       "5. 1\n",
       "6. 1\n",
       "7. 1\n",
       "8. 1\n",
       "9. 1\n",
       "10. 1\n",
       "\n",
       "\n"
      ],
      "text/plain": [
       " [1] 1 1 1 1 1 1 1 1 1 1"
      ]
     },
     "metadata": {},
     "output_type": "display_data"
    }
   ],
   "source": [
    "a<-c(rep(1, 10))\n",
    "a"
   ]
  },
  {
   "cell_type": "code",
   "execution_count": 56,
   "metadata": {},
   "outputs": [
    {
     "data": {
      "text/html": [
       "'numeric'"
      ],
      "text/latex": [
       "'numeric'"
      ],
      "text/markdown": [
       "'numeric'"
      ],
      "text/plain": [
       "[1] \"numeric\""
      ]
     },
     "metadata": {},
     "output_type": "display_data"
    }
   ],
   "source": [
    "class(a)"
   ]
  },
  {
   "cell_type": "code",
   "execution_count": 57,
   "metadata": {},
   "outputs": [
    {
     "data": {
      "text/html": [
       "<ol class=list-inline>\n",
       "\t<li>'a'</li>\n",
       "\t<li>'b'</li>\n",
       "\t<li>'c'</li>\n",
       "\t<li>'d'</li>\n",
       "\t<li>'e'</li>\n",
       "\t<li>'f'</li>\n",
       "\t<li>'g'</li>\n",
       "\t<li>'h'</li>\n",
       "\t<li>'i'</li>\n",
       "\t<li>'j'</li>\n",
       "\t<li>'k'</li>\n",
       "\t<li>'l'</li>\n",
       "\t<li>'m'</li>\n",
       "\t<li>'n'</li>\n",
       "\t<li>'o'</li>\n",
       "\t<li>'p'</li>\n",
       "\t<li>'q'</li>\n",
       "\t<li>'r'</li>\n",
       "\t<li>'s'</li>\n",
       "\t<li>'t'</li>\n",
       "\t<li>'u'</li>\n",
       "\t<li>'v'</li>\n",
       "\t<li>'w'</li>\n",
       "\t<li>'x'</li>\n",
       "\t<li>'y'</li>\n",
       "\t<li>'z'</li>\n",
       "</ol>\n"
      ],
      "text/latex": [
       "\\begin{enumerate*}\n",
       "\\item 'a'\n",
       "\\item 'b'\n",
       "\\item 'c'\n",
       "\\item 'd'\n",
       "\\item 'e'\n",
       "\\item 'f'\n",
       "\\item 'g'\n",
       "\\item 'h'\n",
       "\\item 'i'\n",
       "\\item 'j'\n",
       "\\item 'k'\n",
       "\\item 'l'\n",
       "\\item 'm'\n",
       "\\item 'n'\n",
       "\\item 'o'\n",
       "\\item 'p'\n",
       "\\item 'q'\n",
       "\\item 'r'\n",
       "\\item 's'\n",
       "\\item 't'\n",
       "\\item 'u'\n",
       "\\item 'v'\n",
       "\\item 'w'\n",
       "\\item 'x'\n",
       "\\item 'y'\n",
       "\\item 'z'\n",
       "\\end{enumerate*}\n"
      ],
      "text/markdown": [
       "1. 'a'\n",
       "2. 'b'\n",
       "3. 'c'\n",
       "4. 'd'\n",
       "5. 'e'\n",
       "6. 'f'\n",
       "7. 'g'\n",
       "8. 'h'\n",
       "9. 'i'\n",
       "10. 'j'\n",
       "11. 'k'\n",
       "12. 'l'\n",
       "13. 'm'\n",
       "14. 'n'\n",
       "15. 'o'\n",
       "16. 'p'\n",
       "17. 'q'\n",
       "18. 'r'\n",
       "19. 's'\n",
       "20. 't'\n",
       "21. 'u'\n",
       "22. 'v'\n",
       "23. 'w'\n",
       "24. 'x'\n",
       "25. 'y'\n",
       "26. 'z'\n",
       "\n",
       "\n"
      ],
      "text/plain": [
       " [1] \"a\" \"b\" \"c\" \"d\" \"e\" \"f\" \"g\" \"h\" \"i\" \"j\" \"k\" \"l\" \"m\" \"n\" \"o\" \"p\" \"q\" \"r\" \"s\"\n",
       "[20] \"t\" \"u\" \"v\" \"w\" \"x\" \"y\" \"z\""
      ]
     },
     "metadata": {},
     "output_type": "display_data"
    }
   ],
   "source": [
    "b<-letters\n",
    "b"
   ]
  },
  {
   "cell_type": "code",
   "execution_count": 58,
   "metadata": {},
   "outputs": [
    {
     "data": {
      "text/html": [
       "'character'"
      ],
      "text/latex": [
       "'character'"
      ],
      "text/markdown": [
       "'character'"
      ],
      "text/plain": [
       "[1] \"character\""
      ]
     },
     "metadata": {},
     "output_type": "display_data"
    }
   ],
   "source": [
    "class(b)"
   ]
  },
  {
   "cell_type": "code",
   "execution_count": 59,
   "metadata": {},
   "outputs": [
    {
     "data": {
      "text/html": [
       "'logical'"
      ],
      "text/latex": [
       "'logical'"
      ],
      "text/markdown": [
       "'logical'"
      ],
      "text/plain": [
       "[1] \"logical\""
      ]
     },
     "metadata": {},
     "output_type": "display_data"
    }
   ],
   "source": [
    "class(2!=0)"
   ]
  },
  {
   "cell_type": "code",
   "execution_count": 60,
   "metadata": {},
   "outputs": [
    {
     "data": {
      "text/html": [
       "'function'"
      ],
      "text/latex": [
       "'function'"
      ],
      "text/markdown": [
       "'function'"
      ],
      "text/plain": [
       "[1] \"function\""
      ]
     },
     "metadata": {},
     "output_type": "display_data"
    }
   ],
   "source": [
    "class(factorial)"
   ]
  },
  {
   "cell_type": "code",
   "execution_count": 61,
   "metadata": {},
   "outputs": [
    {
     "data": {
      "text/html": [
       "<ol class=list-inline>\n",
       "\t<li>'a'</li>\n",
       "\t<li>'a'</li>\n",
       "\t<li>'a'</li>\n",
       "\t<li>'a'</li>\n",
       "\t<li>'b'</li>\n",
       "\t<li>'b'</li>\n",
       "\t<li>'b'</li>\n",
       "\t<li>'b'</li>\n",
       "\t<li>'b'</li>\n",
       "\t<li>'b'</li>\n",
       "\t<li>'c'</li>\n",
       "\t<li>'c'</li>\n",
       "</ol>\n"
      ],
      "text/latex": [
       "\\begin{enumerate*}\n",
       "\\item 'a'\n",
       "\\item 'a'\n",
       "\\item 'a'\n",
       "\\item 'a'\n",
       "\\item 'b'\n",
       "\\item 'b'\n",
       "\\item 'b'\n",
       "\\item 'b'\n",
       "\\item 'b'\n",
       "\\item 'b'\n",
       "\\item 'c'\n",
       "\\item 'c'\n",
       "\\end{enumerate*}\n"
      ],
      "text/markdown": [
       "1. 'a'\n",
       "2. 'a'\n",
       "3. 'a'\n",
       "4. 'a'\n",
       "5. 'b'\n",
       "6. 'b'\n",
       "7. 'b'\n",
       "8. 'b'\n",
       "9. 'b'\n",
       "10. 'b'\n",
       "11. 'c'\n",
       "12. 'c'\n",
       "\n",
       "\n"
      ],
      "text/plain": [
       " [1] \"a\" \"a\" \"a\" \"a\" \"b\" \"b\" \"b\" \"b\" \"b\" \"b\" \"c\" \"c\""
      ]
     },
     "metadata": {},
     "output_type": "display_data"
    }
   ],
   "source": [
    "d<-c(rep(\"a\", 4), rep(\"b\", 6), rep('c', 2))\n",
    "d"
   ]
  },
  {
   "cell_type": "code",
   "execution_count": 62,
   "metadata": {},
   "outputs": [
    {
     "data": {
      "text/html": [
       "<ol class=list-inline>\n",
       "\t<li>'a'</li>\n",
       "\t<li>'b'</li>\n",
       "\t<li>'b'</li>\n",
       "\t<li>'c'</li>\n",
       "\t<li>'b'</li>\n",
       "\t<li>'b'</li>\n",
       "\t<li>'a'</li>\n",
       "\t<li>'a'</li>\n",
       "\t<li>'c'</li>\n",
       "\t<li>'b'</li>\n",
       "\t<li>'a'</li>\n",
       "\t<li>'b'</li>\n",
       "</ol>\n"
      ],
      "text/latex": [
       "\\begin{enumerate*}\n",
       "\\item 'a'\n",
       "\\item 'b'\n",
       "\\item 'b'\n",
       "\\item 'c'\n",
       "\\item 'b'\n",
       "\\item 'b'\n",
       "\\item 'a'\n",
       "\\item 'a'\n",
       "\\item 'c'\n",
       "\\item 'b'\n",
       "\\item 'a'\n",
       "\\item 'b'\n",
       "\\end{enumerate*}\n"
      ],
      "text/markdown": [
       "1. 'a'\n",
       "2. 'b'\n",
       "3. 'b'\n",
       "4. 'c'\n",
       "5. 'b'\n",
       "6. 'b'\n",
       "7. 'a'\n",
       "8. 'a'\n",
       "9. 'c'\n",
       "10. 'b'\n",
       "11. 'a'\n",
       "12. 'b'\n",
       "\n",
       "\n"
      ],
      "text/plain": [
       " [1] \"a\" \"b\" \"b\" \"c\" \"b\" \"b\" \"a\" \"a\" \"c\" \"b\" \"a\" \"b\""
      ]
     },
     "metadata": {},
     "output_type": "display_data"
    }
   ],
   "source": [
    "sample(d)"
   ]
  },
  {
   "cell_type": "code",
   "execution_count": 63,
   "metadata": {},
   "outputs": [
    {
     "data": {
      "text/plain": [
       "d\n",
       "a b c \n",
       "4 6 2 "
      ]
     },
     "metadata": {},
     "output_type": "display_data"
    }
   ],
   "source": [
    "d_table<-table(d)\n",
    "d_table"
   ]
  },
  {
   "cell_type": "code",
   "execution_count": 64,
   "metadata": {},
   "outputs": [
    {
     "data": {
      "text/html": [
       "'table'"
      ],
      "text/latex": [
       "'table'"
      ],
      "text/markdown": [
       "'table'"
      ],
      "text/plain": [
       "[1] \"table\""
      ]
     },
     "metadata": {},
     "output_type": "display_data"
    }
   ],
   "source": [
    "class(d_table)"
   ]
  },
  {
   "cell_type": "code",
   "execution_count": 65,
   "metadata": {},
   "outputs": [
    {
     "data": {
      "text/html": [
       "<ol class=list-inline>\n",
       "\t<li>10</li>\n",
       "\t<li>9</li>\n",
       "\t<li>8</li>\n",
       "\t<li>7</li>\n",
       "\t<li>6</li>\n",
       "\t<li>5</li>\n",
       "\t<li>4</li>\n",
       "\t<li>3</li>\n",
       "\t<li>2</li>\n",
       "\t<li>1</li>\n",
       "</ol>\n"
      ],
      "text/latex": [
       "\\begin{enumerate*}\n",
       "\\item 10\n",
       "\\item 9\n",
       "\\item 8\n",
       "\\item 7\n",
       "\\item 6\n",
       "\\item 5\n",
       "\\item 4\n",
       "\\item 3\n",
       "\\item 2\n",
       "\\item 1\n",
       "\\end{enumerate*}\n"
      ],
      "text/markdown": [
       "1. 10\n",
       "2. 9\n",
       "3. 8\n",
       "4. 7\n",
       "5. 6\n",
       "6. 5\n",
       "7. 4\n",
       "8. 3\n",
       "9. 2\n",
       "10. 1\n",
       "\n",
       "\n"
      ],
      "text/plain": [
       " [1] 10  9  8  7  6  5  4  3  2  1"
      ]
     },
     "metadata": {},
     "output_type": "display_data"
    }
   ],
   "source": [
    "r<-seq(10, 1)\n",
    "r"
   ]
  },
  {
   "cell_type": "code",
   "execution_count": 66,
   "metadata": {},
   "outputs": [
    {
     "data": {
      "text/html": [
       "55"
      ],
      "text/latex": [
       "55"
      ],
      "text/markdown": [
       "55"
      ],
      "text/plain": [
       "[1] 55"
      ]
     },
     "metadata": {},
     "output_type": "display_data"
    }
   ],
   "source": [
    "sum(r)"
   ]
  },
  {
   "cell_type": "code",
   "execution_count": 67,
   "metadata": {},
   "outputs": [
    {
     "data": {
      "text/html": [
       "5.5"
      ],
      "text/latex": [
       "5.5"
      ],
      "text/markdown": [
       "5.5"
      ],
      "text/plain": [
       "[1] 5.5"
      ]
     },
     "metadata": {},
     "output_type": "display_data"
    }
   ],
   "source": [
    "mean_1<-sum(r)/length(r)\n",
    "mean_1"
   ]
  },
  {
   "cell_type": "code",
   "execution_count": 68,
   "metadata": {},
   "outputs": [
    {
     "data": {
      "text/html": [
       "5.5"
      ],
      "text/latex": [
       "5.5"
      ],
      "text/markdown": [
       "5.5"
      ],
      "text/plain": [
       "[1] 5.5"
      ]
     },
     "metadata": {},
     "output_type": "display_data"
    }
   ],
   "source": [
    "mean_2 <- mean(r)\n",
    "mean_2"
   ]
  },
  {
   "cell_type": "markdown",
   "metadata": {},
   "source": [
    "### Функции set.seed(), sort(), round()"
   ]
  },
  {
   "cell_type": "code",
   "execution_count": 69,
   "metadata": {},
   "outputs": [],
   "source": [
    "set.seed(1)"
   ]
  },
  {
   "cell_type": "code",
   "execution_count": 70,
   "metadata": {
    "collapsed": true,
    "jupyter": {
     "outputs_hidden": true
    }
   },
   "outputs": [
    {
     "data": {
      "text/html": [
       "<ol class=list-inline>\n",
       "\t<li>-0.626453810742332</li>\n",
       "\t<li>0.183643324222082</li>\n",
       "\t<li>-0.835628612410047</li>\n",
       "\t<li>1.59528080213779</li>\n",
       "\t<li>0.329507771815361</li>\n",
       "\t<li>-0.820468384118015</li>\n",
       "\t<li>0.487429052428485</li>\n",
       "\t<li>0.738324705129217</li>\n",
       "\t<li>0.575781351653492</li>\n",
       "\t<li>-0.305388387156356</li>\n",
       "\t<li>1.51178116845085</li>\n",
       "\t<li>0.389843236411431</li>\n",
       "\t<li>-0.621240580541804</li>\n",
       "\t<li>-2.2146998871775</li>\n",
       "\t<li>1.12493091814311</li>\n",
       "\t<li>-0.0449336090152309</li>\n",
       "\t<li>-0.0161902630989461</li>\n",
       "\t<li>0.943836210685299</li>\n",
       "\t<li>0.821221195098089</li>\n",
       "\t<li>0.593901321217509</li>\n",
       "\t<li>0.918977371608218</li>\n",
       "\t<li>0.782136300731067</li>\n",
       "\t<li>0.0745649833651906</li>\n",
       "\t<li>-1.98935169586337</li>\n",
       "\t<li>0.61982574789471</li>\n",
       "\t<li>-0.0561287395290008</li>\n",
       "\t<li>-0.155795506705329</li>\n",
       "\t<li>-1.47075238389927</li>\n",
       "\t<li>-0.47815005510862</li>\n",
       "\t<li>0.417941560199702</li>\n",
       "\t<li>1.35867955152904</li>\n",
       "\t<li>-0.102787727342996</li>\n",
       "\t<li>0.387671611559369</li>\n",
       "\t<li>-0.0538050405829051</li>\n",
       "\t<li>-1.37705955682861</li>\n",
       "\t<li>-0.41499456329968</li>\n",
       "\t<li>-0.394289953710349</li>\n",
       "\t<li>-0.0593133967111857</li>\n",
       "\t<li>1.10002537198388</li>\n",
       "\t<li>0.763175748457544</li>\n",
       "\t<li>-0.164523596253587</li>\n",
       "\t<li>-0.253361680136508</li>\n",
       "\t<li>0.696963375404737</li>\n",
       "\t<li>0.556663198673657</li>\n",
       "\t<li>-0.68875569454952</li>\n",
       "\t<li>-0.70749515696212</li>\n",
       "\t<li>0.36458196213683</li>\n",
       "\t<li>0.768532924515416</li>\n",
       "\t<li>-0.112346212150228</li>\n",
       "\t<li>0.881107726454215</li>\n",
       "</ol>\n"
      ],
      "text/latex": [
       "\\begin{enumerate*}\n",
       "\\item -0.626453810742332\n",
       "\\item 0.183643324222082\n",
       "\\item -0.835628612410047\n",
       "\\item 1.59528080213779\n",
       "\\item 0.329507771815361\n",
       "\\item -0.820468384118015\n",
       "\\item 0.487429052428485\n",
       "\\item 0.738324705129217\n",
       "\\item 0.575781351653492\n",
       "\\item -0.305388387156356\n",
       "\\item 1.51178116845085\n",
       "\\item 0.389843236411431\n",
       "\\item -0.621240580541804\n",
       "\\item -2.2146998871775\n",
       "\\item 1.12493091814311\n",
       "\\item -0.0449336090152309\n",
       "\\item -0.0161902630989461\n",
       "\\item 0.943836210685299\n",
       "\\item 0.821221195098089\n",
       "\\item 0.593901321217509\n",
       "\\item 0.918977371608218\n",
       "\\item 0.782136300731067\n",
       "\\item 0.0745649833651906\n",
       "\\item -1.98935169586337\n",
       "\\item 0.61982574789471\n",
       "\\item -0.0561287395290008\n",
       "\\item -0.155795506705329\n",
       "\\item -1.47075238389927\n",
       "\\item -0.47815005510862\n",
       "\\item 0.417941560199702\n",
       "\\item 1.35867955152904\n",
       "\\item -0.102787727342996\n",
       "\\item 0.387671611559369\n",
       "\\item -0.0538050405829051\n",
       "\\item -1.37705955682861\n",
       "\\item -0.41499456329968\n",
       "\\item -0.394289953710349\n",
       "\\item -0.0593133967111857\n",
       "\\item 1.10002537198388\n",
       "\\item 0.763175748457544\n",
       "\\item -0.164523596253587\n",
       "\\item -0.253361680136508\n",
       "\\item 0.696963375404737\n",
       "\\item 0.556663198673657\n",
       "\\item -0.68875569454952\n",
       "\\item -0.70749515696212\n",
       "\\item 0.36458196213683\n",
       "\\item 0.768532924515416\n",
       "\\item -0.112346212150228\n",
       "\\item 0.881107726454215\n",
       "\\end{enumerate*}\n"
      ],
      "text/markdown": [
       "1. -0.626453810742332\n",
       "2. 0.183643324222082\n",
       "3. -0.835628612410047\n",
       "4. 1.59528080213779\n",
       "5. 0.329507771815361\n",
       "6. -0.820468384118015\n",
       "7. 0.487429052428485\n",
       "8. 0.738324705129217\n",
       "9. 0.575781351653492\n",
       "10. -0.305388387156356\n",
       "11. 1.51178116845085\n",
       "12. 0.389843236411431\n",
       "13. -0.621240580541804\n",
       "14. -2.2146998871775\n",
       "15. 1.12493091814311\n",
       "16. -0.0449336090152309\n",
       "17. -0.0161902630989461\n",
       "18. 0.943836210685299\n",
       "19. 0.821221195098089\n",
       "20. 0.593901321217509\n",
       "21. 0.918977371608218\n",
       "22. 0.782136300731067\n",
       "23. 0.0745649833651906\n",
       "24. -1.98935169586337\n",
       "25. 0.61982574789471\n",
       "26. -0.0561287395290008\n",
       "27. -0.155795506705329\n",
       "28. -1.47075238389927\n",
       "29. -0.47815005510862\n",
       "30. 0.417941560199702\n",
       "31. 1.35867955152904\n",
       "32. -0.102787727342996\n",
       "33. 0.387671611559369\n",
       "34. -0.0538050405829051\n",
       "35. -1.37705955682861\n",
       "36. -0.41499456329968\n",
       "37. -0.394289953710349\n",
       "38. -0.0593133967111857\n",
       "39. 1.10002537198388\n",
       "40. 0.763175748457544\n",
       "41. -0.164523596253587\n",
       "42. -0.253361680136508\n",
       "43. 0.696963375404737\n",
       "44. 0.556663198673657\n",
       "45. -0.68875569454952\n",
       "46. -0.70749515696212\n",
       "47. 0.36458196213683\n",
       "48. 0.768532924515416\n",
       "49. -0.112346212150228\n",
       "50. 0.881107726454215\n",
       "\n",
       "\n"
      ],
      "text/plain": [
       " [1] -0.62645381  0.18364332 -0.83562861  1.59528080  0.32950777 -0.82046838\n",
       " [7]  0.48742905  0.73832471  0.57578135 -0.30538839  1.51178117  0.38984324\n",
       "[13] -0.62124058 -2.21469989  1.12493092 -0.04493361 -0.01619026  0.94383621\n",
       "[19]  0.82122120  0.59390132  0.91897737  0.78213630  0.07456498 -1.98935170\n",
       "[25]  0.61982575 -0.05612874 -0.15579551 -1.47075238 -0.47815006  0.41794156\n",
       "[31]  1.35867955 -0.10278773  0.38767161 -0.05380504 -1.37705956 -0.41499456\n",
       "[37] -0.39428995 -0.05931340  1.10002537  0.76317575 -0.16452360 -0.25336168\n",
       "[43]  0.69696338  0.55666320 -0.68875569 -0.70749516  0.36458196  0.76853292\n",
       "[49] -0.11234621  0.88110773"
      ]
     },
     "metadata": {},
     "output_type": "display_data"
    }
   ],
   "source": [
    "popul<-rnorm(50)\n",
    "popul"
   ]
  },
  {
   "cell_type": "code",
   "execution_count": 71,
   "metadata": {},
   "outputs": [
    {
     "data": {
      "text/html": [
       "<ol class=list-inline>\n",
       "\t<li>-0.626</li>\n",
       "\t<li>0.184</li>\n",
       "\t<li>-0.836</li>\n",
       "\t<li>1.595</li>\n",
       "\t<li>0.33</li>\n",
       "\t<li>-0.82</li>\n",
       "\t<li>0.487</li>\n",
       "\t<li>0.738</li>\n",
       "\t<li>0.576</li>\n",
       "\t<li>-0.305</li>\n",
       "\t<li>1.512</li>\n",
       "\t<li>0.39</li>\n",
       "\t<li>-0.621</li>\n",
       "\t<li>-2.215</li>\n",
       "\t<li>1.125</li>\n",
       "\t<li>-0.045</li>\n",
       "\t<li>-0.016</li>\n",
       "\t<li>0.944</li>\n",
       "\t<li>0.821</li>\n",
       "\t<li>0.594</li>\n",
       "\t<li>0.919</li>\n",
       "\t<li>0.782</li>\n",
       "\t<li>0.075</li>\n",
       "\t<li>-1.989</li>\n",
       "\t<li>0.62</li>\n",
       "\t<li>-0.056</li>\n",
       "\t<li>-0.156</li>\n",
       "\t<li>-1.471</li>\n",
       "\t<li>-0.478</li>\n",
       "\t<li>0.418</li>\n",
       "\t<li>1.359</li>\n",
       "\t<li>-0.103</li>\n",
       "\t<li>0.388</li>\n",
       "\t<li>-0.054</li>\n",
       "\t<li>-1.377</li>\n",
       "\t<li>-0.415</li>\n",
       "\t<li>-0.394</li>\n",
       "\t<li>-0.059</li>\n",
       "\t<li>1.1</li>\n",
       "\t<li>0.763</li>\n",
       "\t<li>-0.165</li>\n",
       "\t<li>-0.253</li>\n",
       "\t<li>0.697</li>\n",
       "\t<li>0.557</li>\n",
       "\t<li>-0.689</li>\n",
       "\t<li>-0.707</li>\n",
       "\t<li>0.365</li>\n",
       "\t<li>0.769</li>\n",
       "\t<li>-0.112</li>\n",
       "\t<li>0.881</li>\n",
       "</ol>\n"
      ],
      "text/latex": [
       "\\begin{enumerate*}\n",
       "\\item -0.626\n",
       "\\item 0.184\n",
       "\\item -0.836\n",
       "\\item 1.595\n",
       "\\item 0.33\n",
       "\\item -0.82\n",
       "\\item 0.487\n",
       "\\item 0.738\n",
       "\\item 0.576\n",
       "\\item -0.305\n",
       "\\item 1.512\n",
       "\\item 0.39\n",
       "\\item -0.621\n",
       "\\item -2.215\n",
       "\\item 1.125\n",
       "\\item -0.045\n",
       "\\item -0.016\n",
       "\\item 0.944\n",
       "\\item 0.821\n",
       "\\item 0.594\n",
       "\\item 0.919\n",
       "\\item 0.782\n",
       "\\item 0.075\n",
       "\\item -1.989\n",
       "\\item 0.62\n",
       "\\item -0.056\n",
       "\\item -0.156\n",
       "\\item -1.471\n",
       "\\item -0.478\n",
       "\\item 0.418\n",
       "\\item 1.359\n",
       "\\item -0.103\n",
       "\\item 0.388\n",
       "\\item -0.054\n",
       "\\item -1.377\n",
       "\\item -0.415\n",
       "\\item -0.394\n",
       "\\item -0.059\n",
       "\\item 1.1\n",
       "\\item 0.763\n",
       "\\item -0.165\n",
       "\\item -0.253\n",
       "\\item 0.697\n",
       "\\item 0.557\n",
       "\\item -0.689\n",
       "\\item -0.707\n",
       "\\item 0.365\n",
       "\\item 0.769\n",
       "\\item -0.112\n",
       "\\item 0.881\n",
       "\\end{enumerate*}\n"
      ],
      "text/markdown": [
       "1. -0.626\n",
       "2. 0.184\n",
       "3. -0.836\n",
       "4. 1.595\n",
       "5. 0.33\n",
       "6. -0.82\n",
       "7. 0.487\n",
       "8. 0.738\n",
       "9. 0.576\n",
       "10. -0.305\n",
       "11. 1.512\n",
       "12. 0.39\n",
       "13. -0.621\n",
       "14. -2.215\n",
       "15. 1.125\n",
       "16. -0.045\n",
       "17. -0.016\n",
       "18. 0.944\n",
       "19. 0.821\n",
       "20. 0.594\n",
       "21. 0.919\n",
       "22. 0.782\n",
       "23. 0.075\n",
       "24. -1.989\n",
       "25. 0.62\n",
       "26. -0.056\n",
       "27. -0.156\n",
       "28. -1.471\n",
       "29. -0.478\n",
       "30. 0.418\n",
       "31. 1.359\n",
       "32. -0.103\n",
       "33. 0.388\n",
       "34. -0.054\n",
       "35. -1.377\n",
       "36. -0.415\n",
       "37. -0.394\n",
       "38. -0.059\n",
       "39. 1.1\n",
       "40. 0.763\n",
       "41. -0.165\n",
       "42. -0.253\n",
       "43. 0.697\n",
       "44. 0.557\n",
       "45. -0.689\n",
       "46. -0.707\n",
       "47. 0.365\n",
       "48. 0.769\n",
       "49. -0.112\n",
       "50. 0.881\n",
       "\n",
       "\n"
      ],
      "text/plain": [
       " [1] -0.626  0.184 -0.836  1.595  0.330 -0.820  0.487  0.738  0.576 -0.305\n",
       "[11]  1.512  0.390 -0.621 -2.215  1.125 -0.045 -0.016  0.944  0.821  0.594\n",
       "[21]  0.919  0.782  0.075 -1.989  0.620 -0.056 -0.156 -1.471 -0.478  0.418\n",
       "[31]  1.359 -0.103  0.388 -0.054 -1.377 -0.415 -0.394 -0.059  1.100  0.763\n",
       "[41] -0.165 -0.253  0.697  0.557 -0.689 -0.707  0.365  0.769 -0.112  0.881"
      ]
     },
     "metadata": {},
     "output_type": "display_data"
    }
   ],
   "source": [
    "popul_1<-round(popul, 3)\n",
    "popul_1"
   ]
  },
  {
   "cell_type": "code",
   "execution_count": 72,
   "metadata": {},
   "outputs": [
    {
     "data": {
      "text/html": [
       "<ol class=list-inline>\n",
       "\t<li>-2.215</li>\n",
       "\t<li>-1.989</li>\n",
       "\t<li>-1.471</li>\n",
       "\t<li>-1.377</li>\n",
       "\t<li>-0.836</li>\n",
       "\t<li>-0.82</li>\n",
       "\t<li>-0.707</li>\n",
       "\t<li>-0.689</li>\n",
       "\t<li>-0.626</li>\n",
       "\t<li>-0.621</li>\n",
       "\t<li>-0.478</li>\n",
       "\t<li>-0.415</li>\n",
       "\t<li>-0.394</li>\n",
       "\t<li>-0.305</li>\n",
       "\t<li>-0.253</li>\n",
       "\t<li>-0.165</li>\n",
       "\t<li>-0.156</li>\n",
       "\t<li>-0.112</li>\n",
       "\t<li>-0.103</li>\n",
       "\t<li>-0.059</li>\n",
       "\t<li>-0.056</li>\n",
       "\t<li>-0.054</li>\n",
       "\t<li>-0.045</li>\n",
       "\t<li>-0.016</li>\n",
       "\t<li>0.075</li>\n",
       "\t<li>0.184</li>\n",
       "\t<li>0.33</li>\n",
       "\t<li>0.365</li>\n",
       "\t<li>0.388</li>\n",
       "\t<li>0.39</li>\n",
       "\t<li>0.418</li>\n",
       "\t<li>0.487</li>\n",
       "\t<li>0.557</li>\n",
       "\t<li>0.576</li>\n",
       "\t<li>0.594</li>\n",
       "\t<li>0.62</li>\n",
       "\t<li>0.697</li>\n",
       "\t<li>0.738</li>\n",
       "\t<li>0.763</li>\n",
       "\t<li>0.769</li>\n",
       "\t<li>0.782</li>\n",
       "\t<li>0.821</li>\n",
       "\t<li>0.881</li>\n",
       "\t<li>0.919</li>\n",
       "\t<li>0.944</li>\n",
       "\t<li>1.1</li>\n",
       "\t<li>1.125</li>\n",
       "\t<li>1.359</li>\n",
       "\t<li>1.512</li>\n",
       "\t<li>1.595</li>\n",
       "</ol>\n"
      ],
      "text/latex": [
       "\\begin{enumerate*}\n",
       "\\item -2.215\n",
       "\\item -1.989\n",
       "\\item -1.471\n",
       "\\item -1.377\n",
       "\\item -0.836\n",
       "\\item -0.82\n",
       "\\item -0.707\n",
       "\\item -0.689\n",
       "\\item -0.626\n",
       "\\item -0.621\n",
       "\\item -0.478\n",
       "\\item -0.415\n",
       "\\item -0.394\n",
       "\\item -0.305\n",
       "\\item -0.253\n",
       "\\item -0.165\n",
       "\\item -0.156\n",
       "\\item -0.112\n",
       "\\item -0.103\n",
       "\\item -0.059\n",
       "\\item -0.056\n",
       "\\item -0.054\n",
       "\\item -0.045\n",
       "\\item -0.016\n",
       "\\item 0.075\n",
       "\\item 0.184\n",
       "\\item 0.33\n",
       "\\item 0.365\n",
       "\\item 0.388\n",
       "\\item 0.39\n",
       "\\item 0.418\n",
       "\\item 0.487\n",
       "\\item 0.557\n",
       "\\item 0.576\n",
       "\\item 0.594\n",
       "\\item 0.62\n",
       "\\item 0.697\n",
       "\\item 0.738\n",
       "\\item 0.763\n",
       "\\item 0.769\n",
       "\\item 0.782\n",
       "\\item 0.821\n",
       "\\item 0.881\n",
       "\\item 0.919\n",
       "\\item 0.944\n",
       "\\item 1.1\n",
       "\\item 1.125\n",
       "\\item 1.359\n",
       "\\item 1.512\n",
       "\\item 1.595\n",
       "\\end{enumerate*}\n"
      ],
      "text/markdown": [
       "1. -2.215\n",
       "2. -1.989\n",
       "3. -1.471\n",
       "4. -1.377\n",
       "5. -0.836\n",
       "6. -0.82\n",
       "7. -0.707\n",
       "8. -0.689\n",
       "9. -0.626\n",
       "10. -0.621\n",
       "11. -0.478\n",
       "12. -0.415\n",
       "13. -0.394\n",
       "14. -0.305\n",
       "15. -0.253\n",
       "16. -0.165\n",
       "17. -0.156\n",
       "18. -0.112\n",
       "19. -0.103\n",
       "20. -0.059\n",
       "21. -0.056\n",
       "22. -0.054\n",
       "23. -0.045\n",
       "24. -0.016\n",
       "25. 0.075\n",
       "26. 0.184\n",
       "27. 0.33\n",
       "28. 0.365\n",
       "29. 0.388\n",
       "30. 0.39\n",
       "31. 0.418\n",
       "32. 0.487\n",
       "33. 0.557\n",
       "34. 0.576\n",
       "35. 0.594\n",
       "36. 0.62\n",
       "37. 0.697\n",
       "38. 0.738\n",
       "39. 0.763\n",
       "40. 0.769\n",
       "41. 0.782\n",
       "42. 0.821\n",
       "43. 0.881\n",
       "44. 0.919\n",
       "45. 0.944\n",
       "46. 1.1\n",
       "47. 1.125\n",
       "48. 1.359\n",
       "49. 1.512\n",
       "50. 1.595\n",
       "\n",
       "\n"
      ],
      "text/plain": [
       " [1] -2.215 -1.989 -1.471 -1.377 -0.836 -0.820 -0.707 -0.689 -0.626 -0.621\n",
       "[11] -0.478 -0.415 -0.394 -0.305 -0.253 -0.165 -0.156 -0.112 -0.103 -0.059\n",
       "[21] -0.056 -0.054 -0.045 -0.016  0.075  0.184  0.330  0.365  0.388  0.390\n",
       "[31]  0.418  0.487  0.557  0.576  0.594  0.620  0.697  0.738  0.763  0.769\n",
       "[41]  0.782  0.821  0.881  0.919  0.944  1.100  1.125  1.359  1.512  1.595"
      ]
     },
     "metadata": {},
     "output_type": "display_data"
    }
   ],
   "source": [
    "sort(popul_1)"
   ]
  },
  {
   "cell_type": "code",
   "execution_count": 73,
   "metadata": {
    "collapsed": true,
    "jupyter": {
     "outputs_hidden": true
    }
   },
   "outputs": [
    {
     "data": {
      "text/html": [
       "<ol class=list-inline>\n",
       "\t<li>1.595</li>\n",
       "\t<li>1.512</li>\n",
       "\t<li>1.359</li>\n",
       "\t<li>1.125</li>\n",
       "\t<li>1.1</li>\n",
       "\t<li>0.944</li>\n",
       "\t<li>0.919</li>\n",
       "\t<li>0.881</li>\n",
       "\t<li>0.821</li>\n",
       "\t<li>0.782</li>\n",
       "\t<li>0.769</li>\n",
       "\t<li>0.763</li>\n",
       "\t<li>0.738</li>\n",
       "\t<li>0.697</li>\n",
       "\t<li>0.62</li>\n",
       "\t<li>0.594</li>\n",
       "\t<li>0.576</li>\n",
       "\t<li>0.557</li>\n",
       "\t<li>0.487</li>\n",
       "\t<li>0.418</li>\n",
       "\t<li>0.39</li>\n",
       "\t<li>0.388</li>\n",
       "\t<li>0.365</li>\n",
       "\t<li>0.33</li>\n",
       "\t<li>0.184</li>\n",
       "\t<li>0.075</li>\n",
       "\t<li>-0.016</li>\n",
       "\t<li>-0.045</li>\n",
       "\t<li>-0.054</li>\n",
       "\t<li>-0.056</li>\n",
       "\t<li>-0.059</li>\n",
       "\t<li>-0.103</li>\n",
       "\t<li>-0.112</li>\n",
       "\t<li>-0.156</li>\n",
       "\t<li>-0.165</li>\n",
       "\t<li>-0.253</li>\n",
       "\t<li>-0.305</li>\n",
       "\t<li>-0.394</li>\n",
       "\t<li>-0.415</li>\n",
       "\t<li>-0.478</li>\n",
       "\t<li>-0.621</li>\n",
       "\t<li>-0.626</li>\n",
       "\t<li>-0.689</li>\n",
       "\t<li>-0.707</li>\n",
       "\t<li>-0.82</li>\n",
       "\t<li>-0.836</li>\n",
       "\t<li>-1.377</li>\n",
       "\t<li>-1.471</li>\n",
       "\t<li>-1.989</li>\n",
       "\t<li>-2.215</li>\n",
       "</ol>\n"
      ],
      "text/latex": [
       "\\begin{enumerate*}\n",
       "\\item 1.595\n",
       "\\item 1.512\n",
       "\\item 1.359\n",
       "\\item 1.125\n",
       "\\item 1.1\n",
       "\\item 0.944\n",
       "\\item 0.919\n",
       "\\item 0.881\n",
       "\\item 0.821\n",
       "\\item 0.782\n",
       "\\item 0.769\n",
       "\\item 0.763\n",
       "\\item 0.738\n",
       "\\item 0.697\n",
       "\\item 0.62\n",
       "\\item 0.594\n",
       "\\item 0.576\n",
       "\\item 0.557\n",
       "\\item 0.487\n",
       "\\item 0.418\n",
       "\\item 0.39\n",
       "\\item 0.388\n",
       "\\item 0.365\n",
       "\\item 0.33\n",
       "\\item 0.184\n",
       "\\item 0.075\n",
       "\\item -0.016\n",
       "\\item -0.045\n",
       "\\item -0.054\n",
       "\\item -0.056\n",
       "\\item -0.059\n",
       "\\item -0.103\n",
       "\\item -0.112\n",
       "\\item -0.156\n",
       "\\item -0.165\n",
       "\\item -0.253\n",
       "\\item -0.305\n",
       "\\item -0.394\n",
       "\\item -0.415\n",
       "\\item -0.478\n",
       "\\item -0.621\n",
       "\\item -0.626\n",
       "\\item -0.689\n",
       "\\item -0.707\n",
       "\\item -0.82\n",
       "\\item -0.836\n",
       "\\item -1.377\n",
       "\\item -1.471\n",
       "\\item -1.989\n",
       "\\item -2.215\n",
       "\\end{enumerate*}\n"
      ],
      "text/markdown": [
       "1. 1.595\n",
       "2. 1.512\n",
       "3. 1.359\n",
       "4. 1.125\n",
       "5. 1.1\n",
       "6. 0.944\n",
       "7. 0.919\n",
       "8. 0.881\n",
       "9. 0.821\n",
       "10. 0.782\n",
       "11. 0.769\n",
       "12. 0.763\n",
       "13. 0.738\n",
       "14. 0.697\n",
       "15. 0.62\n",
       "16. 0.594\n",
       "17. 0.576\n",
       "18. 0.557\n",
       "19. 0.487\n",
       "20. 0.418\n",
       "21. 0.39\n",
       "22. 0.388\n",
       "23. 0.365\n",
       "24. 0.33\n",
       "25. 0.184\n",
       "26. 0.075\n",
       "27. -0.016\n",
       "28. -0.045\n",
       "29. -0.054\n",
       "30. -0.056\n",
       "31. -0.059\n",
       "32. -0.103\n",
       "33. -0.112\n",
       "34. -0.156\n",
       "35. -0.165\n",
       "36. -0.253\n",
       "37. -0.305\n",
       "38. -0.394\n",
       "39. -0.415\n",
       "40. -0.478\n",
       "41. -0.621\n",
       "42. -0.626\n",
       "43. -0.689\n",
       "44. -0.707\n",
       "45. -0.82\n",
       "46. -0.836\n",
       "47. -1.377\n",
       "48. -1.471\n",
       "49. -1.989\n",
       "50. -2.215\n",
       "\n",
       "\n"
      ],
      "text/plain": [
       " [1]  1.595  1.512  1.359  1.125  1.100  0.944  0.919  0.881  0.821  0.782\n",
       "[11]  0.769  0.763  0.738  0.697  0.620  0.594  0.576  0.557  0.487  0.418\n",
       "[21]  0.390  0.388  0.365  0.330  0.184  0.075 -0.016 -0.045 -0.054 -0.056\n",
       "[31] -0.059 -0.103 -0.112 -0.156 -0.165 -0.253 -0.305 -0.394 -0.415 -0.478\n",
       "[41] -0.621 -0.626 -0.689 -0.707 -0.820 -0.836 -1.377 -1.471 -1.989 -2.215"
      ]
     },
     "metadata": {},
     "output_type": "display_data"
    }
   ],
   "source": [
    "sort(popul_1, decreasing = TRUE)"
   ]
  },
  {
   "cell_type": "markdown",
   "metadata": {},
   "source": [
    "### sample(), data.frame(), head(), order(), $"
   ]
  },
  {
   "cell_type": "code",
   "execution_count": 74,
   "metadata": {
    "collapsed": true,
    "jupyter": {
     "outputs_hidden": true
    }
   },
   "outputs": [
    {
     "data": {
      "text/html": [
       "<ol class=list-inline>\n",
       "\t<li>'l'</li>\n",
       "\t<li>'p'</li>\n",
       "\t<li>'a'</li>\n",
       "\t<li>'m'</li>\n",
       "\t<li>'u'</li>\n",
       "\t<li>'f'</li>\n",
       "\t<li>'q'</li>\n",
       "\t<li>'i'</li>\n",
       "\t<li>'g'</li>\n",
       "\t<li>'w'</li>\n",
       "\t<li>'s'</li>\n",
       "\t<li>'v'</li>\n",
       "\t<li>'r'</li>\n",
       "\t<li>'z'</li>\n",
       "\t<li>'p'</li>\n",
       "\t<li>'k'</li>\n",
       "\t<li>'j'</li>\n",
       "\t<li>'g'</li>\n",
       "\t<li>'s'</li>\n",
       "\t<li>'b'</li>\n",
       "\t<li>'j'</li>\n",
       "\t<li>'a'</li>\n",
       "\t<li>'k'</li>\n",
       "\t<li>'z'</li>\n",
       "\t<li>'o'</li>\n",
       "\t<li>'z'</li>\n",
       "\t<li>'x'</li>\n",
       "\t<li>'j'</li>\n",
       "\t<li>'p'</li>\n",
       "\t<li>'u'</li>\n",
       "\t<li>'l'</li>\n",
       "\t<li>'g'</li>\n",
       "\t<li>'x'</li>\n",
       "\t<li>'u'</li>\n",
       "\t<li>'v'</li>\n",
       "\t<li>'h'</li>\n",
       "\t<li>'a'</li>\n",
       "\t<li>'s'</li>\n",
       "\t<li>'z'</li>\n",
       "\t<li>'c'</li>\n",
       "\t<li>'k'</li>\n",
       "\t<li>'a'</li>\n",
       "\t<li>'n'</li>\n",
       "\t<li>'v'</li>\n",
       "\t<li>'f'</li>\n",
       "\t<li>'t'</li>\n",
       "\t<li>'i'</li>\n",
       "\t<li>'e'</li>\n",
       "\t<li>'n'</li>\n",
       "\t<li>'q'</li>\n",
       "</ol>\n"
      ],
      "text/latex": [
       "\\begin{enumerate*}\n",
       "\\item 'l'\n",
       "\\item 'p'\n",
       "\\item 'a'\n",
       "\\item 'm'\n",
       "\\item 'u'\n",
       "\\item 'f'\n",
       "\\item 'q'\n",
       "\\item 'i'\n",
       "\\item 'g'\n",
       "\\item 'w'\n",
       "\\item 's'\n",
       "\\item 'v'\n",
       "\\item 'r'\n",
       "\\item 'z'\n",
       "\\item 'p'\n",
       "\\item 'k'\n",
       "\\item 'j'\n",
       "\\item 'g'\n",
       "\\item 's'\n",
       "\\item 'b'\n",
       "\\item 'j'\n",
       "\\item 'a'\n",
       "\\item 'k'\n",
       "\\item 'z'\n",
       "\\item 'o'\n",
       "\\item 'z'\n",
       "\\item 'x'\n",
       "\\item 'j'\n",
       "\\item 'p'\n",
       "\\item 'u'\n",
       "\\item 'l'\n",
       "\\item 'g'\n",
       "\\item 'x'\n",
       "\\item 'u'\n",
       "\\item 'v'\n",
       "\\item 'h'\n",
       "\\item 'a'\n",
       "\\item 's'\n",
       "\\item 'z'\n",
       "\\item 'c'\n",
       "\\item 'k'\n",
       "\\item 'a'\n",
       "\\item 'n'\n",
       "\\item 'v'\n",
       "\\item 'f'\n",
       "\\item 't'\n",
       "\\item 'i'\n",
       "\\item 'e'\n",
       "\\item 'n'\n",
       "\\item 'q'\n",
       "\\end{enumerate*}\n"
      ],
      "text/markdown": [
       "1. 'l'\n",
       "2. 'p'\n",
       "3. 'a'\n",
       "4. 'm'\n",
       "5. 'u'\n",
       "6. 'f'\n",
       "7. 'q'\n",
       "8. 'i'\n",
       "9. 'g'\n",
       "10. 'w'\n",
       "11. 's'\n",
       "12. 'v'\n",
       "13. 'r'\n",
       "14. 'z'\n",
       "15. 'p'\n",
       "16. 'k'\n",
       "17. 'j'\n",
       "18. 'g'\n",
       "19. 's'\n",
       "20. 'b'\n",
       "21. 'j'\n",
       "22. 'a'\n",
       "23. 'k'\n",
       "24. 'z'\n",
       "25. 'o'\n",
       "26. 'z'\n",
       "27. 'x'\n",
       "28. 'j'\n",
       "29. 'p'\n",
       "30. 'u'\n",
       "31. 'l'\n",
       "32. 'g'\n",
       "33. 'x'\n",
       "34. 'u'\n",
       "35. 'v'\n",
       "36. 'h'\n",
       "37. 'a'\n",
       "38. 's'\n",
       "39. 'z'\n",
       "40. 'c'\n",
       "41. 'k'\n",
       "42. 'a'\n",
       "43. 'n'\n",
       "44. 'v'\n",
       "45. 'f'\n",
       "46. 't'\n",
       "47. 'i'\n",
       "48. 'e'\n",
       "49. 'n'\n",
       "50. 'q'\n",
       "\n",
       "\n"
      ],
      "text/plain": [
       " [1] \"l\" \"p\" \"a\" \"m\" \"u\" \"f\" \"q\" \"i\" \"g\" \"w\" \"s\" \"v\" \"r\" \"z\" \"p\" \"k\" \"j\" \"g\" \"s\"\n",
       "[20] \"b\" \"j\" \"a\" \"k\" \"z\" \"o\" \"z\" \"x\" \"j\" \"p\" \"u\" \"l\" \"g\" \"x\" \"u\" \"v\" \"h\" \"a\" \"s\"\n",
       "[39] \"z\" \"c\" \"k\" \"a\" \"n\" \"v\" \"f\" \"t\" \"i\" \"e\" \"n\" \"q\""
      ]
     },
     "metadata": {},
     "output_type": "display_data"
    }
   ],
   "source": [
    "lets<-sample(letters, 50, replace = TRUE)    # replace = TRUE т.к. букв меньше 50\n",
    "lets"
   ]
  },
  {
   "cell_type": "code",
   "execution_count": 75,
   "metadata": {},
   "outputs": [
    {
     "data": {
      "text/html": [
       "<table>\n",
       "<thead><tr><th></th><th scope=col>lets</th><th scope=col>popul_1</th></tr></thead>\n",
       "<tbody>\n",
       "\t<tr><th scope=row>45</th><td>f     </td><td>-0.689</td></tr>\n",
       "\t<tr><th scope=row>46</th><td>t     </td><td>-0.707</td></tr>\n",
       "\t<tr><th scope=row>47</th><td>i     </td><td> 0.365</td></tr>\n",
       "\t<tr><th scope=row>48</th><td>e     </td><td> 0.769</td></tr>\n",
       "\t<tr><th scope=row>49</th><td>n     </td><td>-0.112</td></tr>\n",
       "\t<tr><th scope=row>50</th><td>q     </td><td> 0.881</td></tr>\n",
       "</tbody>\n",
       "</table>\n"
      ],
      "text/latex": [
       "\\begin{tabular}{r|ll}\n",
       "  & lets & popul\\_1\\\\\n",
       "\\hline\n",
       "\t45 & f      & -0.689\\\\\n",
       "\t46 & t      & -0.707\\\\\n",
       "\t47 & i      &  0.365\\\\\n",
       "\t48 & e      &  0.769\\\\\n",
       "\t49 & n      & -0.112\\\\\n",
       "\t50 & q      &  0.881\\\\\n",
       "\\end{tabular}\n"
      ],
      "text/markdown": [
       "\n",
       "| <!--/--> | lets | popul_1 |\n",
       "|---|---|---|\n",
       "| 45 | f      | -0.689 |\n",
       "| 46 | t      | -0.707 |\n",
       "| 47 | i      |  0.365 |\n",
       "| 48 | e      |  0.769 |\n",
       "| 49 | n      | -0.112 |\n",
       "| 50 | q      |  0.881 |\n",
       "\n"
      ],
      "text/plain": [
       "   lets popul_1\n",
       "45 f    -0.689 \n",
       "46 t    -0.707 \n",
       "47 i     0.365 \n",
       "48 e     0.769 \n",
       "49 n    -0.112 \n",
       "50 q     0.881 "
      ]
     },
     "metadata": {},
     "output_type": "display_data"
    }
   ],
   "source": [
    "df_1<-data.frame(lets, popul_1)\n",
    "tail(df_1)"
   ]
  },
  {
   "cell_type": "markdown",
   "metadata": {},
   "source": [
    "Нужно разместить по возрастанию, но теперь каждому значению ещё соответствут буква"
   ]
  },
  {
   "cell_type": "code",
   "execution_count": 76,
   "metadata": {},
   "outputs": [
    {
     "data": {
      "text/html": [
       "<ol class=list-inline>\n",
       "\t<li>14</li>\n",
       "\t<li>24</li>\n",
       "\t<li>28</li>\n",
       "\t<li>35</li>\n",
       "\t<li>3</li>\n",
       "\t<li>6</li>\n",
       "\t<li>46</li>\n",
       "\t<li>45</li>\n",
       "\t<li>1</li>\n",
       "\t<li>13</li>\n",
       "\t<li>29</li>\n",
       "\t<li>36</li>\n",
       "\t<li>37</li>\n",
       "\t<li>10</li>\n",
       "\t<li>42</li>\n",
       "\t<li>41</li>\n",
       "\t<li>27</li>\n",
       "\t<li>49</li>\n",
       "\t<li>32</li>\n",
       "\t<li>38</li>\n",
       "\t<li>26</li>\n",
       "\t<li>34</li>\n",
       "\t<li>16</li>\n",
       "\t<li>17</li>\n",
       "\t<li>23</li>\n",
       "\t<li>2</li>\n",
       "\t<li>5</li>\n",
       "\t<li>47</li>\n",
       "\t<li>33</li>\n",
       "\t<li>12</li>\n",
       "\t<li>30</li>\n",
       "\t<li>7</li>\n",
       "\t<li>44</li>\n",
       "\t<li>9</li>\n",
       "\t<li>20</li>\n",
       "\t<li>25</li>\n",
       "\t<li>43</li>\n",
       "\t<li>8</li>\n",
       "\t<li>40</li>\n",
       "\t<li>48</li>\n",
       "\t<li>22</li>\n",
       "\t<li>19</li>\n",
       "\t<li>50</li>\n",
       "\t<li>21</li>\n",
       "\t<li>18</li>\n",
       "\t<li>39</li>\n",
       "\t<li>15</li>\n",
       "\t<li>31</li>\n",
       "\t<li>11</li>\n",
       "\t<li>4</li>\n",
       "</ol>\n"
      ],
      "text/latex": [
       "\\begin{enumerate*}\n",
       "\\item 14\n",
       "\\item 24\n",
       "\\item 28\n",
       "\\item 35\n",
       "\\item 3\n",
       "\\item 6\n",
       "\\item 46\n",
       "\\item 45\n",
       "\\item 1\n",
       "\\item 13\n",
       "\\item 29\n",
       "\\item 36\n",
       "\\item 37\n",
       "\\item 10\n",
       "\\item 42\n",
       "\\item 41\n",
       "\\item 27\n",
       "\\item 49\n",
       "\\item 32\n",
       "\\item 38\n",
       "\\item 26\n",
       "\\item 34\n",
       "\\item 16\n",
       "\\item 17\n",
       "\\item 23\n",
       "\\item 2\n",
       "\\item 5\n",
       "\\item 47\n",
       "\\item 33\n",
       "\\item 12\n",
       "\\item 30\n",
       "\\item 7\n",
       "\\item 44\n",
       "\\item 9\n",
       "\\item 20\n",
       "\\item 25\n",
       "\\item 43\n",
       "\\item 8\n",
       "\\item 40\n",
       "\\item 48\n",
       "\\item 22\n",
       "\\item 19\n",
       "\\item 50\n",
       "\\item 21\n",
       "\\item 18\n",
       "\\item 39\n",
       "\\item 15\n",
       "\\item 31\n",
       "\\item 11\n",
       "\\item 4\n",
       "\\end{enumerate*}\n"
      ],
      "text/markdown": [
       "1. 14\n",
       "2. 24\n",
       "3. 28\n",
       "4. 35\n",
       "5. 3\n",
       "6. 6\n",
       "7. 46\n",
       "8. 45\n",
       "9. 1\n",
       "10. 13\n",
       "11. 29\n",
       "12. 36\n",
       "13. 37\n",
       "14. 10\n",
       "15. 42\n",
       "16. 41\n",
       "17. 27\n",
       "18. 49\n",
       "19. 32\n",
       "20. 38\n",
       "21. 26\n",
       "22. 34\n",
       "23. 16\n",
       "24. 17\n",
       "25. 23\n",
       "26. 2\n",
       "27. 5\n",
       "28. 47\n",
       "29. 33\n",
       "30. 12\n",
       "31. 30\n",
       "32. 7\n",
       "33. 44\n",
       "34. 9\n",
       "35. 20\n",
       "36. 25\n",
       "37. 43\n",
       "38. 8\n",
       "39. 40\n",
       "40. 48\n",
       "41. 22\n",
       "42. 19\n",
       "43. 50\n",
       "44. 21\n",
       "45. 18\n",
       "46. 39\n",
       "47. 15\n",
       "48. 31\n",
       "49. 11\n",
       "50. 4\n",
       "\n",
       "\n"
      ],
      "text/plain": [
       " [1] 14 24 28 35  3  6 46 45  1 13 29 36 37 10 42 41 27 49 32 38 26 34 16 17 23\n",
       "[26]  2  5 47 33 12 30  7 44  9 20 25 43  8 40 48 22 19 50 21 18 39 15 31 11  4"
      ]
     },
     "metadata": {},
     "output_type": "display_data"
    }
   ],
   "source": [
    "ind<-order(df_1$popul_1)\n",
    "ind"
   ]
  },
  {
   "cell_type": "code",
   "execution_count": 77,
   "metadata": {},
   "outputs": [
    {
     "data": {
      "text/html": [
       "<table>\n",
       "<thead><tr><th></th><th scope=col>lets</th><th scope=col>popul_1</th></tr></thead>\n",
       "<tbody>\n",
       "\t<tr><th scope=row>14</th><td>z     </td><td>-2.215</td></tr>\n",
       "\t<tr><th scope=row>24</th><td>z     </td><td>-1.989</td></tr>\n",
       "\t<tr><th scope=row>28</th><td>j     </td><td>-1.471</td></tr>\n",
       "\t<tr><th scope=row>35</th><td>v     </td><td>-1.377</td></tr>\n",
       "\t<tr><th scope=row>3</th><td>a     </td><td>-0.836</td></tr>\n",
       "\t<tr><th scope=row>6</th><td>f     </td><td>-0.820</td></tr>\n",
       "</tbody>\n",
       "</table>\n"
      ],
      "text/latex": [
       "\\begin{tabular}{r|ll}\n",
       "  & lets & popul\\_1\\\\\n",
       "\\hline\n",
       "\t14 & z      & -2.215\\\\\n",
       "\t24 & z      & -1.989\\\\\n",
       "\t28 & j      & -1.471\\\\\n",
       "\t35 & v      & -1.377\\\\\n",
       "\t3 & a      & -0.836\\\\\n",
       "\t6 & f      & -0.820\\\\\n",
       "\\end{tabular}\n"
      ],
      "text/markdown": [
       "\n",
       "| <!--/--> | lets | popul_1 |\n",
       "|---|---|---|\n",
       "| 14 | z      | -2.215 |\n",
       "| 24 | z      | -1.989 |\n",
       "| 28 | j      | -1.471 |\n",
       "| 35 | v      | -1.377 |\n",
       "| 3 | a      | -0.836 |\n",
       "| 6 | f      | -0.820 |\n",
       "\n"
      ],
      "text/plain": [
       "   lets popul_1\n",
       "14 z    -2.215 \n",
       "24 z    -1.989 \n",
       "28 j    -1.471 \n",
       "35 v    -1.377 \n",
       "3  a    -0.836 \n",
       "6  f    -0.820 "
      ]
     },
     "metadata": {},
     "output_type": "display_data"
    }
   ],
   "source": [
    "df_new<-df_1[ind, ]\n",
    "head(df_new)"
   ]
  },
  {
   "cell_type": "code",
   "execution_count": 78,
   "metadata": {},
   "outputs": [
    {
     "data": {
      "text/html": [
       "<ol class=list-inline>\n",
       "\t<li>31</li>\n",
       "\t<li>32</li>\n",
       "\t<li>33</li>\n",
       "\t<li>34</li>\n",
       "\t<li>35</li>\n",
       "\t<li>36</li>\n",
       "\t<li>37</li>\n",
       "\t<li>38</li>\n",
       "\t<li>39</li>\n",
       "\t<li>40</li>\n",
       "\t<li>41</li>\n",
       "\t<li>42</li>\n",
       "\t<li>43</li>\n",
       "\t<li>44</li>\n",
       "\t<li>45</li>\n",
       "</ol>\n"
      ],
      "text/latex": [
       "\\begin{enumerate*}\n",
       "\\item 31\n",
       "\\item 32\n",
       "\\item 33\n",
       "\\item 34\n",
       "\\item 35\n",
       "\\item 36\n",
       "\\item 37\n",
       "\\item 38\n",
       "\\item 39\n",
       "\\item 40\n",
       "\\item 41\n",
       "\\item 42\n",
       "\\item 43\n",
       "\\item 44\n",
       "\\item 45\n",
       "\\end{enumerate*}\n"
      ],
      "text/markdown": [
       "1. 31\n",
       "2. 32\n",
       "3. 33\n",
       "4. 34\n",
       "5. 35\n",
       "6. 36\n",
       "7. 37\n",
       "8. 38\n",
       "9. 39\n",
       "10. 40\n",
       "11. 41\n",
       "12. 42\n",
       "13. 43\n",
       "14. 44\n",
       "15. 45\n",
       "\n",
       "\n"
      ],
      "text/plain": [
       " [1] 31 32 33 34 35 36 37 38 39 40 41 42 43 44 45"
      ]
     },
     "metadata": {},
     "output_type": "display_data"
    }
   ],
   "source": [
    "g<-seq(31, 45)\n",
    "g"
   ]
  },
  {
   "cell_type": "code",
   "execution_count": 79,
   "metadata": {},
   "outputs": [
    {
     "data": {
      "text/html": [
       "15"
      ],
      "text/latex": [
       "15"
      ],
      "text/markdown": [
       "15"
      ],
      "text/plain": [
       "[1] 15"
      ]
     },
     "metadata": {},
     "output_type": "display_data"
    }
   ],
   "source": [
    "length(g)"
   ]
  },
  {
   "cell_type": "code",
   "execution_count": 80,
   "metadata": {},
   "outputs": [
    {
     "data": {
      "text/html": [
       "31"
      ],
      "text/latex": [
       "31"
      ],
      "text/markdown": [
       "31"
      ],
      "text/plain": [
       "[1] 31"
      ]
     },
     "metadata": {},
     "output_type": "display_data"
    }
   ],
   "source": [
    "g[1]"
   ]
  },
  {
   "cell_type": "code",
   "execution_count": 81,
   "metadata": {},
   "outputs": [
    {
     "data": {
      "text/html": [
       "<ol class=list-inline>\n",
       "\t<li>31</li>\n",
       "\t<li>35</li>\n",
       "\t<li>45</li>\n",
       "</ol>\n"
      ],
      "text/latex": [
       "\\begin{enumerate*}\n",
       "\\item 31\n",
       "\\item 35\n",
       "\\item 45\n",
       "\\end{enumerate*}\n"
      ],
      "text/markdown": [
       "1. 31\n",
       "2. 35\n",
       "3. 45\n",
       "\n",
       "\n"
      ],
      "text/plain": [
       "[1] 31 35 45"
      ]
     },
     "metadata": {},
     "output_type": "display_data"
    }
   ],
   "source": [
    "g[c(1, 5, 15)]"
   ]
  },
  {
   "cell_type": "code",
   "execution_count": 82,
   "metadata": {},
   "outputs": [
    {
     "data": {
      "text/html": [
       "<ol class=list-inline>\n",
       "\t<li>32</li>\n",
       "\t<li>33</li>\n",
       "\t<li>34</li>\n",
       "\t<li>36</li>\n",
       "\t<li>37</li>\n",
       "\t<li>38</li>\n",
       "\t<li>39</li>\n",
       "\t<li>40</li>\n",
       "\t<li>41</li>\n",
       "\t<li>42</li>\n",
       "\t<li>43</li>\n",
       "\t<li>44</li>\n",
       "</ol>\n"
      ],
      "text/latex": [
       "\\begin{enumerate*}\n",
       "\\item 32\n",
       "\\item 33\n",
       "\\item 34\n",
       "\\item 36\n",
       "\\item 37\n",
       "\\item 38\n",
       "\\item 39\n",
       "\\item 40\n",
       "\\item 41\n",
       "\\item 42\n",
       "\\item 43\n",
       "\\item 44\n",
       "\\end{enumerate*}\n"
      ],
      "text/markdown": [
       "1. 32\n",
       "2. 33\n",
       "3. 34\n",
       "4. 36\n",
       "5. 37\n",
       "6. 38\n",
       "7. 39\n",
       "8. 40\n",
       "9. 41\n",
       "10. 42\n",
       "11. 43\n",
       "12. 44\n",
       "\n",
       "\n"
      ],
      "text/plain": [
       " [1] 32 33 34 36 37 38 39 40 41 42 43 44"
      ]
     },
     "metadata": {},
     "output_type": "display_data"
    }
   ],
   "source": [
    "g[-c(1, 5, 15)]"
   ]
  },
  {
   "cell_type": "code",
   "execution_count": 83,
   "metadata": {},
   "outputs": [
    {
     "data": {
      "text/html": [
       "<ol class=list-inline>\n",
       "\t<li>31</li>\n",
       "\t<li>32</li>\n",
       "\t<li>33</li>\n",
       "\t<li>34</li>\n",
       "\t<li>35</li>\n",
       "</ol>\n"
      ],
      "text/latex": [
       "\\begin{enumerate*}\n",
       "\\item 31\n",
       "\\item 32\n",
       "\\item 33\n",
       "\\item 34\n",
       "\\item 35\n",
       "\\end{enumerate*}\n"
      ],
      "text/markdown": [
       "1. 31\n",
       "2. 32\n",
       "3. 33\n",
       "4. 34\n",
       "5. 35\n",
       "\n",
       "\n"
      ],
      "text/plain": [
       "[1] 31 32 33 34 35"
      ]
     },
     "metadata": {},
     "output_type": "display_data"
    }
   ],
   "source": [
    "g[1:5]"
   ]
  },
  {
   "cell_type": "code",
   "execution_count": 84,
   "metadata": {},
   "outputs": [
    {
     "data": {
      "text/html": [
       "<ol class=list-inline>\n",
       "\t<li>1</li>\n",
       "\t<li>2</li>\n",
       "\t<li>3</li>\n",
       "\t<li>4</li>\n",
       "\t<li>5</li>\n",
       "\t<li>6</li>\n",
       "\t<li>7</li>\n",
       "\t<li>8</li>\n",
       "\t<li>9</li>\n",
       "\t<li>10</li>\n",
       "\t<li>11</li>\n",
       "\t<li>12</li>\n",
       "\t<li>13</li>\n",
       "\t<li>14</li>\n",
       "\t<li>15</li>\n",
       "</ol>\n"
      ],
      "text/latex": [
       "\\begin{enumerate*}\n",
       "\\item 1\n",
       "\\item 2\n",
       "\\item 3\n",
       "\\item 4\n",
       "\\item 5\n",
       "\\item 6\n",
       "\\item 7\n",
       "\\item 8\n",
       "\\item 9\n",
       "\\item 10\n",
       "\\item 11\n",
       "\\item 12\n",
       "\\item 13\n",
       "\\item 14\n",
       "\\item 15\n",
       "\\end{enumerate*}\n"
      ],
      "text/markdown": [
       "1. 1\n",
       "2. 2\n",
       "3. 3\n",
       "4. 4\n",
       "5. 5\n",
       "6. 6\n",
       "7. 7\n",
       "8. 8\n",
       "9. 9\n",
       "10. 10\n",
       "11. 11\n",
       "12. 12\n",
       "13. 13\n",
       "14. 14\n",
       "15. 15\n",
       "\n",
       "\n"
      ],
      "text/plain": [
       " [1]  1  2  3  4  5  6  7  8  9 10 11 12 13 14 15"
      ]
     },
     "metadata": {},
     "output_type": "display_data"
    }
   ],
   "source": [
    "h<-1:15\n",
    "h"
   ]
  },
  {
   "cell_type": "code",
   "execution_count": 85,
   "metadata": {},
   "outputs": [
    {
     "data": {
      "text/html": [
       "<ol class=list-inline>\n",
       "\t<li>32</li>\n",
       "\t<li>34</li>\n",
       "\t<li>36</li>\n",
       "\t<li>38</li>\n",
       "\t<li>40</li>\n",
       "\t<li>42</li>\n",
       "\t<li>44</li>\n",
       "\t<li>46</li>\n",
       "\t<li>48</li>\n",
       "\t<li>50</li>\n",
       "\t<li>52</li>\n",
       "\t<li>54</li>\n",
       "\t<li>56</li>\n",
       "\t<li>58</li>\n",
       "\t<li>60</li>\n",
       "</ol>\n"
      ],
      "text/latex": [
       "\\begin{enumerate*}\n",
       "\\item 32\n",
       "\\item 34\n",
       "\\item 36\n",
       "\\item 38\n",
       "\\item 40\n",
       "\\item 42\n",
       "\\item 44\n",
       "\\item 46\n",
       "\\item 48\n",
       "\\item 50\n",
       "\\item 52\n",
       "\\item 54\n",
       "\\item 56\n",
       "\\item 58\n",
       "\\item 60\n",
       "\\end{enumerate*}\n"
      ],
      "text/markdown": [
       "1. 32\n",
       "2. 34\n",
       "3. 36\n",
       "4. 38\n",
       "5. 40\n",
       "6. 42\n",
       "7. 44\n",
       "8. 46\n",
       "9. 48\n",
       "10. 50\n",
       "11. 52\n",
       "12. 54\n",
       "13. 56\n",
       "14. 58\n",
       "15. 60\n",
       "\n",
       "\n"
      ],
      "text/plain": [
       " [1] 32 34 36 38 40 42 44 46 48 50 52 54 56 58 60"
      ]
     },
     "metadata": {},
     "output_type": "display_data"
    }
   ],
   "source": [
    "g+h"
   ]
  },
  {
   "cell_type": "code",
   "execution_count": 86,
   "metadata": {},
   "outputs": [
    {
     "data": {
      "text/html": [
       "<ol class=list-inline>\n",
       "\t<li>62</li>\n",
       "\t<li>64</li>\n",
       "\t<li>66</li>\n",
       "\t<li>68</li>\n",
       "\t<li>70</li>\n",
       "\t<li>72</li>\n",
       "\t<li>74</li>\n",
       "\t<li>76</li>\n",
       "\t<li>78</li>\n",
       "\t<li>80</li>\n",
       "\t<li>82</li>\n",
       "\t<li>84</li>\n",
       "\t<li>86</li>\n",
       "\t<li>88</li>\n",
       "\t<li>90</li>\n",
       "</ol>\n"
      ],
      "text/latex": [
       "\\begin{enumerate*}\n",
       "\\item 62\n",
       "\\item 64\n",
       "\\item 66\n",
       "\\item 68\n",
       "\\item 70\n",
       "\\item 72\n",
       "\\item 74\n",
       "\\item 76\n",
       "\\item 78\n",
       "\\item 80\n",
       "\\item 82\n",
       "\\item 84\n",
       "\\item 86\n",
       "\\item 88\n",
       "\\item 90\n",
       "\\end{enumerate*}\n"
      ],
      "text/markdown": [
       "1. 62\n",
       "2. 64\n",
       "3. 66\n",
       "4. 68\n",
       "5. 70\n",
       "6. 72\n",
       "7. 74\n",
       "8. 76\n",
       "9. 78\n",
       "10. 80\n",
       "11. 82\n",
       "12. 84\n",
       "13. 86\n",
       "14. 88\n",
       "15. 90\n",
       "\n",
       "\n"
      ],
      "text/plain": [
       " [1] 62 64 66 68 70 72 74 76 78 80 82 84 86 88 90"
      ]
     },
     "metadata": {},
     "output_type": "display_data"
    }
   ],
   "source": [
    "g*2"
   ]
  },
  {
   "cell_type": "markdown",
   "metadata": {},
   "source": [
    "## Обучающие наборы данных"
   ]
  },
  {
   "cell_type": "code",
   "execution_count": 87,
   "metadata": {
    "collapsed": true,
    "jupyter": {
     "outputs_hidden": true
    }
   },
   "outputs": [
    {
     "data": {
      "text/html": [
       "<h3>Data sets</h3>\n",
       "<table>\n",
       "<thead><tr><th scope=col>Package</th><th scope=col>Item</th><th scope=col>Title</th></tr></thead>\n",
       "<tbody>\n",
       "\t<tr><td>datasets                                                       </td><td>AirPassengers                                                  </td><td>Monthly Airline Passenger Numbers 1949-1960                    </td></tr>\n",
       "\t<tr><td>datasets                                                       </td><td>BJsales                                                        </td><td>Sales Data with Leading Indicator                              </td></tr>\n",
       "\t<tr><td>datasets                                                       </td><td>BJsales.lead (BJsales)                                         </td><td>Sales Data with Leading Indicator                              </td></tr>\n",
       "\t<tr><td>datasets                                                       </td><td>BOD                                                            </td><td>Biochemical Oxygen Demand                                      </td></tr>\n",
       "\t<tr><td>datasets                                                       </td><td>CO2                                                            </td><td>Carbon Dioxide Uptake in Grass Plants                          </td></tr>\n",
       "\t<tr><td>datasets                                                       </td><td>ChickWeight                                                    </td><td>Weight versus age of chicks on different diets                 </td></tr>\n",
       "\t<tr><td>datasets                                                       </td><td>DNase                                                          </td><td>Elisa assay of DNase                                           </td></tr>\n",
       "\t<tr><td>datasets                                                       </td><td>EuStockMarkets                                                 </td><td>Daily Closing Prices of Major European Stock Indices, 1991-1998</td></tr>\n",
       "\t<tr><td>datasets                                                       </td><td>Formaldehyde                                                   </td><td>Determination of Formaldehyde                                  </td></tr>\n",
       "\t<tr><td>datasets                                                       </td><td>HairEyeColor                                                   </td><td>Hair and Eye Color of Statistics Students                      </td></tr>\n",
       "\t<tr><td>datasets                                                       </td><td>Harman23.cor                                                   </td><td>Harman Example 2.3                                             </td></tr>\n",
       "\t<tr><td>datasets                                                       </td><td>Harman74.cor                                                   </td><td>Harman Example 7.4                                             </td></tr>\n",
       "\t<tr><td>datasets                                                       </td><td>Indometh                                                       </td><td>Pharmacokinetics of Indomethacin                               </td></tr>\n",
       "\t<tr><td>datasets                                                       </td><td>InsectSprays                                                   </td><td>Effectiveness of Insect Sprays                                 </td></tr>\n",
       "\t<tr><td>datasets                                                                                                   </td><td><span style=white-space:pre-wrap>JohnsonJohnson        </span>                                             </td><td><span style=white-space:pre-wrap>Quarterly Earnings per Johnson &amp; Johnson Share                 </span></td></tr>\n",
       "\t<tr><td>datasets                                                       </td><td>LakeHuron                                                      </td><td>Level of Lake Huron 1875-1972                                  </td></tr>\n",
       "\t<tr><td>datasets                                                       </td><td>LifeCycleSavings                                               </td><td>Intercountry Life-Cycle Savings Data                           </td></tr>\n",
       "\t<tr><td>datasets                                                       </td><td>Loblolly                                                       </td><td>Growth of Loblolly pine trees                                  </td></tr>\n",
       "\t<tr><td>datasets                                                       </td><td>Nile                                                           </td><td>Flow of the River Nile                                         </td></tr>\n",
       "\t<tr><td>datasets                                                       </td><td>Orange                                                         </td><td>Growth of Orange Trees                                         </td></tr>\n",
       "\t<tr><td>datasets                                                       </td><td>OrchardSprays                                                  </td><td>Potency of Orchard Sprays                                      </td></tr>\n",
       "\t<tr><td>datasets                                                       </td><td>PlantGrowth                                                    </td><td>Results from an Experiment on Plant Growth                     </td></tr>\n",
       "\t<tr><td>datasets                                                       </td><td>Puromycin                                                      </td><td>Reaction Velocity of an Enzymatic Reaction                     </td></tr>\n",
       "\t<tr><td>datasets                                                       </td><td>Seatbelts                                                      </td><td>Road Casualties in Great Britain 1969-84                       </td></tr>\n",
       "\t<tr><td>datasets                                                       </td><td>Theoph                                                         </td><td>Pharmacokinetics of Theophylline                               </td></tr>\n",
       "\t<tr><td>datasets                                                       </td><td>Titanic                                                        </td><td>Survival of passengers on the Titanic                          </td></tr>\n",
       "\t<tr><td>datasets                                                       </td><td>ToothGrowth                                                    </td><td>The Effect of Vitamin C on Tooth Growth in Guinea Pigs         </td></tr>\n",
       "\t<tr><td>datasets                                                       </td><td>UCBAdmissions                                                  </td><td>Student Admissions at UC Berkeley                              </td></tr>\n",
       "\t<tr><td>datasets                                                       </td><td>UKDriverDeaths                                                 </td><td>Road Casualties in Great Britain 1969-84                       </td></tr>\n",
       "\t<tr><td>datasets                                                       </td><td>UKgas                                                          </td><td>UK Quarterly Gas Consumption                                   </td></tr>\n",
       "\t<tr><td>datasets                                                       </td><td>USAccDeaths                                                    </td><td>Accidental Deaths in the US 1973-1978                          </td></tr>\n",
       "\t<tr><td>datasets                                                       </td><td>USArrests                                                      </td><td>Violent Crime Rates by US State                                </td></tr>\n",
       "\t<tr><td>datasets                                                       </td><td>USJudgeRatings                                                 </td><td>Lawyers' Ratings of State Judges in the US Superior Court      </td></tr>\n",
       "\t<tr><td>datasets                                                       </td><td>USPersonalExpenditure                                          </td><td>Personal Expenditure Data                                      </td></tr>\n",
       "\t<tr><td>datasets                                                       </td><td>UScitiesD                                                      </td><td>Distances Between European Cities and Between US Cities        </td></tr>\n",
       "\t<tr><td>datasets                                                       </td><td>VADeaths                                                       </td><td>Death Rates in Virginia (1940)                                 </td></tr>\n",
       "\t<tr><td>datasets                                                       </td><td>WWWusage                                                       </td><td>Internet Usage per Minute                                      </td></tr>\n",
       "\t<tr><td>datasets                                                       </td><td>WorldPhones                                                    </td><td>The World's Telephones                                         </td></tr>\n",
       "\t<tr><td>datasets                                                       </td><td>ability.cov                                                    </td><td>Ability and Intelligence Tests                                 </td></tr>\n",
       "\t<tr><td>datasets                                                       </td><td>airmiles                                                       </td><td>Passenger Miles on Commercial US Airlines, 1937-1960           </td></tr>\n",
       "\t<tr><td>datasets                                                       </td><td>airquality                                                     </td><td>New York Air Quality Measurements                              </td></tr>\n",
       "\t<tr><td>datasets                                                       </td><td>anscombe                                                       </td><td>Anscombe's Quartet of 'Identical' Simple Linear Regressions    </td></tr>\n",
       "\t<tr><td>datasets                                                       </td><td>attenu                                                         </td><td>The Joyner-Boore Attenuation Data                              </td></tr>\n",
       "\t<tr><td>datasets                                                       </td><td>attitude                                                       </td><td>The Chatterjee-Price Attitude Data                             </td></tr>\n",
       "\t<tr><td>datasets                                                       </td><td>austres                                                        </td><td>Quarterly Time Series of the Number of Australian Residents    </td></tr>\n",
       "\t<tr><td>datasets                                                       </td><td>beaver1 (beavers)                                              </td><td>Body Temperature Series of Two Beavers                         </td></tr>\n",
       "\t<tr><td>datasets                                                       </td><td>beaver2 (beavers)                                              </td><td>Body Temperature Series of Two Beavers                         </td></tr>\n",
       "\t<tr><td>datasets                                                       </td><td>cars                                                           </td><td>Speed and Stopping Distances of Cars                           </td></tr>\n",
       "\t<tr><td>datasets                                                       </td><td>chickwts                                                       </td><td>Chicken Weights by Feed Type                                   </td></tr>\n",
       "\t<tr><td>datasets                                                       </td><td>co2                                                            </td><td>Mauna Loa Atmospheric CO2 Concentration                        </td></tr>\n",
       "\t<tr><td>datasets                                                       </td><td>crimtab                                                        </td><td>Student's 3000 Criminals Data                                  </td></tr>\n",
       "\t<tr><td>datasets                                                       </td><td>discoveries                                                    </td><td>Yearly Numbers of Important Discoveries                        </td></tr>\n",
       "\t<tr><td>datasets                                                       </td><td>esoph                                                          </td><td>Smoking, Alcohol and (O)esophageal Cancer                      </td></tr>\n",
       "\t<tr><td>datasets                                                       </td><td>euro                                                           </td><td>Conversion Rates of Euro Currencies                            </td></tr>\n",
       "\t<tr><td>datasets                                                       </td><td>euro.cross (euro)                                              </td><td>Conversion Rates of Euro Currencies                            </td></tr>\n",
       "\t<tr><td>datasets                                                       </td><td>eurodist                                                       </td><td>Distances Between European Cities and Between US Cities        </td></tr>\n",
       "\t<tr><td>datasets                                                       </td><td>faithful                                                       </td><td>Old Faithful Geyser Data                                       </td></tr>\n",
       "\t<tr><td>datasets                                                       </td><td>fdeaths (UKLungDeaths)                                         </td><td>Monthly Deaths from Lung Diseases in the UK                    </td></tr>\n",
       "\t<tr><td>datasets                                                       </td><td>freeny                                                         </td><td>Freeny's Revenue Data                                          </td></tr>\n",
       "\t<tr><td>datasets                                                       </td><td>freeny.x (freeny)                                              </td><td>Freeny's Revenue Data                                          </td></tr>\n",
       "\t<tr><td>datasets                                                       </td><td>freeny.y (freeny)                                              </td><td>Freeny's Revenue Data                                          </td></tr>\n",
       "\t<tr><td>datasets                                                       </td><td>infert                                                         </td><td>Infertility after Spontaneous and Induced Abortion             </td></tr>\n",
       "\t<tr><td>datasets                                                       </td><td>iris                                                           </td><td>Edgar Anderson's Iris Data                                     </td></tr>\n",
       "\t<tr><td>datasets                                                       </td><td>iris3                                                          </td><td>Edgar Anderson's Iris Data                                     </td></tr>\n",
       "\t<tr><td>datasets                                                       </td><td>islands                                                        </td><td>Areas of the World's Major Landmasses                          </td></tr>\n",
       "\t<tr><td>datasets                                                       </td><td>ldeaths (UKLungDeaths)                                         </td><td>Monthly Deaths from Lung Diseases in the UK                    </td></tr>\n",
       "\t<tr><td>datasets                                                       </td><td>lh                                                             </td><td>Luteinizing Hormone in Blood Samples                           </td></tr>\n",
       "\t<tr><td>datasets                                                       </td><td>longley                                                        </td><td>Longley's Economic Regression Data                             </td></tr>\n",
       "\t<tr><td>datasets                                                       </td><td>lynx                                                           </td><td>Annual Canadian Lynx trappings 1821-1934                       </td></tr>\n",
       "\t<tr><td>datasets                                                       </td><td>mdeaths (UKLungDeaths)                                         </td><td>Monthly Deaths from Lung Diseases in the UK                    </td></tr>\n",
       "\t<tr><td>datasets                                                       </td><td>morley                                                         </td><td>Michelson Speed of Light Data                                  </td></tr>\n",
       "\t<tr><td>datasets                                                       </td><td>mtcars                                                         </td><td>Motor Trend Car Road Tests                                     </td></tr>\n",
       "\t<tr><td>datasets                                                       </td><td>nhtemp                                                         </td><td>Average Yearly Temperatures in New Haven                       </td></tr>\n",
       "\t<tr><td>datasets                                                       </td><td>nottem                                                         </td><td>Average Monthly Temperatures at Nottingham, 1920-1939          </td></tr>\n",
       "\t<tr><td>datasets                                                       </td><td>npk                                                            </td><td>Classical N, P, K Factorial Experiment                         </td></tr>\n",
       "\t<tr><td>datasets                                                       </td><td>occupationalStatus                                             </td><td>Occupational Status of Fathers and their Sons                  </td></tr>\n",
       "\t<tr><td>datasets                                                       </td><td>precip                                                         </td><td>Annual Precipitation in US Cities                              </td></tr>\n",
       "\t<tr><td>datasets                                                       </td><td>presidents                                                     </td><td>Quarterly Approval Ratings of US Presidents                    </td></tr>\n",
       "\t<tr><td>datasets                                                       </td><td>pressure                                                       </td><td>Vapor Pressure of Mercury as a Function of Temperature         </td></tr>\n",
       "\t<tr><td>datasets                                                       </td><td>quakes                                                         </td><td>Locations of Earthquakes off Fiji                              </td></tr>\n",
       "\t<tr><td>datasets                                                       </td><td>randu                                                          </td><td>Random Numbers from Congruential Generator RANDU               </td></tr>\n",
       "\t<tr><td>datasets                                                       </td><td>rivers                                                         </td><td>Lengths of Major North American Rivers                         </td></tr>\n",
       "\t<tr><td>datasets                                                       </td><td>rock                                                           </td><td>Measurements on Petroleum Rock Samples                         </td></tr>\n",
       "\t<tr><td>datasets                                                       </td><td>sleep                                                          </td><td>Student's Sleep Data                                           </td></tr>\n",
       "\t<tr><td>datasets                                                       </td><td>stack.loss (stackloss)                                         </td><td>Brownlee's Stack Loss Plant Data                               </td></tr>\n",
       "\t<tr><td>datasets                                                       </td><td>stack.x (stackloss)                                            </td><td>Brownlee's Stack Loss Plant Data                               </td></tr>\n",
       "\t<tr><td>datasets                                                       </td><td>stackloss                                                      </td><td>Brownlee's Stack Loss Plant Data                               </td></tr>\n",
       "\t<tr><td>datasets                                                       </td><td>state.abb (state)                                              </td><td>US State Facts and Figures                                     </td></tr>\n",
       "\t<tr><td>datasets                                                       </td><td>state.area (state)                                             </td><td>US State Facts and Figures                                     </td></tr>\n",
       "\t<tr><td>datasets                                                       </td><td>state.center (state)                                           </td><td>US State Facts and Figures                                     </td></tr>\n",
       "\t<tr><td>datasets                                                       </td><td>state.division (state)                                         </td><td>US State Facts and Figures                                     </td></tr>\n",
       "\t<tr><td>datasets                                                       </td><td>state.name (state)                                             </td><td>US State Facts and Figures                                     </td></tr>\n",
       "\t<tr><td>datasets                                                       </td><td>state.region (state)                                           </td><td>US State Facts and Figures                                     </td></tr>\n",
       "\t<tr><td>datasets                                                       </td><td>state.x77 (state)                                              </td><td>US State Facts and Figures                                     </td></tr>\n",
       "\t<tr><td>datasets                                                       </td><td>sunspot.month                                                  </td><td>Monthly Sunspot Data, from 1749 to \"Present\"                   </td></tr>\n",
       "\t<tr><td>datasets                                                       </td><td>sunspot.year                                                   </td><td>Yearly Sunspot Data, 1700-1988                                 </td></tr>\n",
       "\t<tr><td>datasets                                                       </td><td>sunspots                                                       </td><td>Monthly Sunspot Numbers, 1749-1983                             </td></tr>\n",
       "\t<tr><td>datasets                                                       </td><td>swiss                                                          </td><td>Swiss Fertility and Socioeconomic Indicators (1888) Data       </td></tr>\n",
       "\t<tr><td>datasets                                                       </td><td>treering                                                       </td><td>Yearly Treering Data, -6000-1979                               </td></tr>\n",
       "\t<tr><td>datasets                                                       </td><td>trees                                                          </td><td>Diameter, Height and Volume for Black Cherry Trees             </td></tr>\n",
       "\t<tr><td>datasets                                                       </td><td>uspop                                                          </td><td>Populations Recorded by the US Census                          </td></tr>\n",
       "\t<tr><td>datasets                                                       </td><td>volcano                                                        </td><td>Topographic Information on Auckland's Maunga Whau Volcano      </td></tr>\n",
       "\t<tr><td>datasets                                                       </td><td>warpbreaks                                                     </td><td>The Number of Breaks in Yarn during Weaving                    </td></tr>\n",
       "\t<tr><td>datasets                                                       </td><td>women                                                          </td><td>Average Heights and Weights for American Women                 </td></tr>\n",
       "</tbody>\n",
       "</table>\n",
       "\n",
       "<p>Use 'data(package = .packages(all.available = TRUE))'\n",
       "to list the data sets in all *available* packages.</p>"
      ],
      "text/plain": [
       "Data sets in package 'datasets':\n",
       "\n",
       "AirPassengers           Monthly Airline Passenger Numbers 1949-1960\n",
       "BJsales                 Sales Data with Leading Indicator\n",
       "BJsales.lead (BJsales)\n",
       "                        Sales Data with Leading Indicator\n",
       "BOD                     Biochemical Oxygen Demand\n",
       "CO2                     Carbon Dioxide Uptake in Grass Plants\n",
       "ChickWeight             Weight versus age of chicks on different diets\n",
       "DNase                   Elisa assay of DNase\n",
       "EuStockMarkets          Daily Closing Prices of Major European Stock\n",
       "                        Indices, 1991-1998\n",
       "Formaldehyde            Determination of Formaldehyde\n",
       "HairEyeColor            Hair and Eye Color of Statistics Students\n",
       "Harman23.cor            Harman Example 2.3\n",
       "Harman74.cor            Harman Example 7.4\n",
       "Indometh                Pharmacokinetics of Indomethacin\n",
       "InsectSprays            Effectiveness of Insect Sprays\n",
       "JohnsonJohnson          Quarterly Earnings per Johnson & Johnson Share\n",
       "LakeHuron               Level of Lake Huron 1875-1972\n",
       "LifeCycleSavings        Intercountry Life-Cycle Savings Data\n",
       "Loblolly                Growth of Loblolly pine trees\n",
       "Nile                    Flow of the River Nile\n",
       "Orange                  Growth of Orange Trees\n",
       "OrchardSprays           Potency of Orchard Sprays\n",
       "PlantGrowth             Results from an Experiment on Plant Growth\n",
       "Puromycin               Reaction Velocity of an Enzymatic Reaction\n",
       "Seatbelts               Road Casualties in Great Britain 1969-84\n",
       "Theoph                  Pharmacokinetics of Theophylline\n",
       "Titanic                 Survival of passengers on the Titanic\n",
       "ToothGrowth             The Effect of Vitamin C on Tooth Growth in\n",
       "                        Guinea Pigs\n",
       "UCBAdmissions           Student Admissions at UC Berkeley\n",
       "UKDriverDeaths          Road Casualties in Great Britain 1969-84\n",
       "UKgas                   UK Quarterly Gas Consumption\n",
       "USAccDeaths             Accidental Deaths in the US 1973-1978\n",
       "USArrests               Violent Crime Rates by US State\n",
       "USJudgeRatings          Lawyers' Ratings of State Judges in the US\n",
       "                        Superior Court\n",
       "USPersonalExpenditure   Personal Expenditure Data\n",
       "UScitiesD               Distances Between European Cities and Between\n",
       "                        US Cities\n",
       "VADeaths                Death Rates in Virginia (1940)\n",
       "WWWusage                Internet Usage per Minute\n",
       "WorldPhones             The World's Telephones\n",
       "ability.cov             Ability and Intelligence Tests\n",
       "airmiles                Passenger Miles on Commercial US Airlines,\n",
       "                        1937-1960\n",
       "airquality              New York Air Quality Measurements\n",
       "anscombe                Anscombe's Quartet of 'Identical' Simple Linear\n",
       "                        Regressions\n",
       "attenu                  The Joyner-Boore Attenuation Data\n",
       "attitude                The Chatterjee-Price Attitude Data\n",
       "austres                 Quarterly Time Series of the Number of\n",
       "                        Australian Residents\n",
       "beaver1 (beavers)       Body Temperature Series of Two Beavers\n",
       "beaver2 (beavers)       Body Temperature Series of Two Beavers\n",
       "cars                    Speed and Stopping Distances of Cars\n",
       "chickwts                Chicken Weights by Feed Type\n",
       "co2                     Mauna Loa Atmospheric CO2 Concentration\n",
       "crimtab                 Student's 3000 Criminals Data\n",
       "discoveries             Yearly Numbers of Important Discoveries\n",
       "esoph                   Smoking, Alcohol and (O)esophageal Cancer\n",
       "euro                    Conversion Rates of Euro Currencies\n",
       "euro.cross (euro)       Conversion Rates of Euro Currencies\n",
       "eurodist                Distances Between European Cities and Between\n",
       "                        US Cities\n",
       "faithful                Old Faithful Geyser Data\n",
       "fdeaths (UKLungDeaths)\n",
       "                        Monthly Deaths from Lung Diseases in the UK\n",
       "freeny                  Freeny's Revenue Data\n",
       "freeny.x (freeny)       Freeny's Revenue Data\n",
       "freeny.y (freeny)       Freeny's Revenue Data\n",
       "infert                  Infertility after Spontaneous and Induced\n",
       "                        Abortion\n",
       "iris                    Edgar Anderson's Iris Data\n",
       "iris3                   Edgar Anderson's Iris Data\n",
       "islands                 Areas of the World's Major Landmasses\n",
       "ldeaths (UKLungDeaths)\n",
       "                        Monthly Deaths from Lung Diseases in the UK\n",
       "lh                      Luteinizing Hormone in Blood Samples\n",
       "longley                 Longley's Economic Regression Data\n",
       "lynx                    Annual Canadian Lynx trappings 1821-1934\n",
       "mdeaths (UKLungDeaths)\n",
       "                        Monthly Deaths from Lung Diseases in the UK\n",
       "morley                  Michelson Speed of Light Data\n",
       "mtcars                  Motor Trend Car Road Tests\n",
       "nhtemp                  Average Yearly Temperatures in New Haven\n",
       "nottem                  Average Monthly Temperatures at Nottingham,\n",
       "                        1920-1939\n",
       "npk                     Classical N, P, K Factorial Experiment\n",
       "occupationalStatus      Occupational Status of Fathers and their Sons\n",
       "precip                  Annual Precipitation in US Cities\n",
       "presidents              Quarterly Approval Ratings of US Presidents\n",
       "pressure                Vapor Pressure of Mercury as a Function of\n",
       "                        Temperature\n",
       "quakes                  Locations of Earthquakes off Fiji\n",
       "randu                   Random Numbers from Congruential Generator\n",
       "                        RANDU\n",
       "rivers                  Lengths of Major North American Rivers\n",
       "rock                    Measurements on Petroleum Rock Samples\n",
       "sleep                   Student's Sleep Data\n",
       "stack.loss (stackloss)\n",
       "                        Brownlee's Stack Loss Plant Data\n",
       "stack.x (stackloss)     Brownlee's Stack Loss Plant Data\n",
       "stackloss               Brownlee's Stack Loss Plant Data\n",
       "state.abb (state)       US State Facts and Figures\n",
       "state.area (state)      US State Facts and Figures\n",
       "state.center (state)    US State Facts and Figures\n",
       "state.division (state)\n",
       "                        US State Facts and Figures\n",
       "state.name (state)      US State Facts and Figures\n",
       "state.region (state)    US State Facts and Figures\n",
       "state.x77 (state)       US State Facts and Figures\n",
       "sunspot.month           Monthly Sunspot Data, from 1749 to \"Present\"\n",
       "sunspot.year            Yearly Sunspot Data, 1700-1988\n",
       "sunspots                Monthly Sunspot Numbers, 1749-1983\n",
       "swiss                   Swiss Fertility and Socioeconomic Indicators\n",
       "                        (1888) Data\n",
       "treering                Yearly Treering Data, -6000-1979\n",
       "trees                   Diameter, Height and Volume for Black Cherry\n",
       "                        Trees\n",
       "uspop                   Populations Recorded by the US Census\n",
       "volcano                 Topographic Information on Auckland's Maunga\n",
       "                        Whau Volcano\n",
       "warpbreaks              The Number of Breaks in Yarn during Weaving\n",
       "women                   Average Heights and Weights for American Women\n",
       "\n",
       "Use 'data(package = .packages(all.available = TRUE))'\n",
       "to list the data sets in all *available* packages."
      ]
     },
     "metadata": {},
     "output_type": "display_data"
    }
   ],
   "source": [
    "data()"
   ]
  },
  {
   "cell_type": "code",
   "execution_count": 88,
   "metadata": {
    "collapsed": true,
    "jupyter": {
     "outputs_hidden": true
    }
   },
   "outputs": [
    {
     "name": "stderr",
     "output_type": "stream",
     "text": [
      "Warning message in data(package = .packages(all.available = TRUE)):\n",
      "\"datasets have been moved from package 'base' to package 'datasets'\"Warning message in data(package = .packages(all.available = TRUE)):\n",
      "\"datasets have been moved from package 'stats' to package 'datasets'\""
     ]
    },
    {
     "data": {
      "text/html": [
       "<h3>Data sets</h3>\n",
       "<table>\n",
       "<thead><tr><th scope=col>Package</th><th scope=col>Item</th><th scope=col>Title</th></tr></thead>\n",
       "<tbody>\n",
       "\t<tr><td>datasets                                                                                  </td><td>AirPassengers                                                                             </td><td>Monthly Airline Passenger Numbers 1949-1960                                               </td></tr>\n",
       "\t<tr><td>datasets                                                                                  </td><td>BJsales                                                                                   </td><td>Sales Data with Leading Indicator                                                         </td></tr>\n",
       "\t<tr><td>datasets                                                                                  </td><td>BJsales.lead (BJsales)                                                                    </td><td>Sales Data with Leading Indicator                                                         </td></tr>\n",
       "\t<tr><td>datasets                                                                                  </td><td>BOD                                                                                       </td><td>Biochemical Oxygen Demand                                                                 </td></tr>\n",
       "\t<tr><td>datasets                                                                                  </td><td>CO2                                                                                       </td><td>Carbon Dioxide Uptake in Grass Plants                                                     </td></tr>\n",
       "\t<tr><td>datasets                                                                                  </td><td>ChickWeight                                                                               </td><td>Weight versus age of chicks on different diets                                            </td></tr>\n",
       "\t<tr><td>datasets                                                                                  </td><td>DNase                                                                                     </td><td>Elisa assay of DNase                                                                      </td></tr>\n",
       "\t<tr><td>datasets                                                                                  </td><td>EuStockMarkets                                                                            </td><td>Daily Closing Prices of Major European Stock Indices, 1991-1998                           </td></tr>\n",
       "\t<tr><td>datasets                                                                                  </td><td>Formaldehyde                                                                              </td><td>Determination of Formaldehyde                                                             </td></tr>\n",
       "\t<tr><td>datasets                                                                                  </td><td>HairEyeColor                                                                              </td><td>Hair and Eye Color of Statistics Students                                                 </td></tr>\n",
       "\t<tr><td>datasets                                                                                  </td><td>Harman23.cor                                                                              </td><td>Harman Example 2.3                                                                        </td></tr>\n",
       "\t<tr><td>datasets                                                                                  </td><td>Harman74.cor                                                                              </td><td>Harman Example 7.4                                                                        </td></tr>\n",
       "\t<tr><td>datasets                                                                                  </td><td>Indometh                                                                                  </td><td>Pharmacokinetics of Indomethacin                                                          </td></tr>\n",
       "\t<tr><td>datasets                                                                                  </td><td>InsectSprays                                                                              </td><td>Effectiveness of Insect Sprays                                                            </td></tr>\n",
       "\t<tr><td><span style=white-space:pre-wrap>datasets    </span>                                                                                  </td><td><span style=white-space:pre-wrap>JohnsonJohnson          </span>                                                                      </td><td><span style=white-space:pre-wrap>Quarterly Earnings per Johnson &amp; Johnson Share                                            </span></td></tr>\n",
       "\t<tr><td>datasets                                                                                  </td><td>LakeHuron                                                                                 </td><td>Level of Lake Huron 1875-1972                                                             </td></tr>\n",
       "\t<tr><td>datasets                                                                                  </td><td>LifeCycleSavings                                                                          </td><td>Intercountry Life-Cycle Savings Data                                                      </td></tr>\n",
       "\t<tr><td>datasets                                                                                  </td><td>Loblolly                                                                                  </td><td>Growth of Loblolly pine trees                                                             </td></tr>\n",
       "\t<tr><td>datasets                                                                                  </td><td>Nile                                                                                      </td><td>Flow of the River Nile                                                                    </td></tr>\n",
       "\t<tr><td>datasets                                                                                  </td><td>Orange                                                                                    </td><td>Growth of Orange Trees                                                                    </td></tr>\n",
       "\t<tr><td>datasets                                                                                  </td><td>OrchardSprays                                                                             </td><td>Potency of Orchard Sprays                                                                 </td></tr>\n",
       "\t<tr><td>datasets                                                                                  </td><td>PlantGrowth                                                                               </td><td>Results from an Experiment on Plant Growth                                                </td></tr>\n",
       "\t<tr><td>datasets                                                                                  </td><td>Puromycin                                                                                 </td><td>Reaction Velocity of an Enzymatic Reaction                                                </td></tr>\n",
       "\t<tr><td>datasets                                                                                  </td><td>Seatbelts                                                                                 </td><td>Road Casualties in Great Britain 1969-84                                                  </td></tr>\n",
       "\t<tr><td>datasets                                                                                  </td><td>Theoph                                                                                    </td><td>Pharmacokinetics of Theophylline                                                          </td></tr>\n",
       "\t<tr><td>datasets                                                                                  </td><td>Titanic                                                                                   </td><td>Survival of passengers on the Titanic                                                     </td></tr>\n",
       "\t<tr><td>datasets                                                                                  </td><td>ToothGrowth                                                                               </td><td>The Effect of Vitamin C on Tooth Growth in Guinea Pigs                                    </td></tr>\n",
       "\t<tr><td>datasets                                                                                  </td><td>UCBAdmissions                                                                             </td><td>Student Admissions at UC Berkeley                                                         </td></tr>\n",
       "\t<tr><td>datasets                                                                                  </td><td>UKDriverDeaths                                                                            </td><td>Road Casualties in Great Britain 1969-84                                                  </td></tr>\n",
       "\t<tr><td>datasets                                                                                  </td><td>UKgas                                                                                     </td><td>UK Quarterly Gas Consumption                                                              </td></tr>\n",
       "\t<tr><td>datasets                                                                                  </td><td>USAccDeaths                                                                               </td><td>Accidental Deaths in the US 1973-1978                                                     </td></tr>\n",
       "\t<tr><td>datasets                                                                                  </td><td>USArrests                                                                                 </td><td>Violent Crime Rates by US State                                                           </td></tr>\n",
       "\t<tr><td>datasets                                                                                  </td><td>USJudgeRatings                                                                            </td><td>Lawyers' Ratings of State Judges in the US Superior Court                                 </td></tr>\n",
       "\t<tr><td>datasets                                                                                  </td><td>USPersonalExpenditure                                                                     </td><td>Personal Expenditure Data                                                                 </td></tr>\n",
       "\t<tr><td>datasets                                                                                  </td><td>UScitiesD                                                                                 </td><td>Distances Between European Cities and Between US Cities                                   </td></tr>\n",
       "\t<tr><td>datasets                                                                                  </td><td>VADeaths                                                                                  </td><td>Death Rates in Virginia (1940)                                                            </td></tr>\n",
       "\t<tr><td>datasets                                                                                  </td><td>WWWusage                                                                                  </td><td>Internet Usage per Minute                                                                 </td></tr>\n",
       "\t<tr><td>datasets                                                                                  </td><td>WorldPhones                                                                               </td><td>The World's Telephones                                                                    </td></tr>\n",
       "\t<tr><td>datasets                                                                                  </td><td>ability.cov                                                                               </td><td>Ability and Intelligence Tests                                                            </td></tr>\n",
       "\t<tr><td>datasets                                                                                  </td><td>airmiles                                                                                  </td><td>Passenger Miles on Commercial US Airlines, 1937-1960                                      </td></tr>\n",
       "\t<tr><td>datasets                                                                                  </td><td>airquality                                                                                </td><td>New York Air Quality Measurements                                                         </td></tr>\n",
       "\t<tr><td>datasets                                                                                  </td><td>anscombe                                                                                  </td><td>Anscombe's Quartet of 'Identical' Simple Linear Regressions                               </td></tr>\n",
       "\t<tr><td>datasets                                                                                  </td><td>attenu                                                                                    </td><td>The Joyner-Boore Attenuation Data                                                         </td></tr>\n",
       "\t<tr><td>datasets                                                                                  </td><td>attitude                                                                                  </td><td>The Chatterjee-Price Attitude Data                                                        </td></tr>\n",
       "\t<tr><td>datasets                                                                                  </td><td>austres                                                                                   </td><td>Quarterly Time Series of the Number of Australian Residents                               </td></tr>\n",
       "\t<tr><td>datasets                                                                                  </td><td>beaver1 (beavers)                                                                         </td><td>Body Temperature Series of Two Beavers                                                    </td></tr>\n",
       "\t<tr><td>datasets                                                                                  </td><td>beaver2 (beavers)                                                                         </td><td>Body Temperature Series of Two Beavers                                                    </td></tr>\n",
       "\t<tr><td>datasets                                                                                  </td><td>cars                                                                                      </td><td>Speed and Stopping Distances of Cars                                                      </td></tr>\n",
       "\t<tr><td>datasets                                                                                  </td><td>chickwts                                                                                  </td><td>Chicken Weights by Feed Type                                                              </td></tr>\n",
       "\t<tr><td>datasets                                                                                  </td><td>co2                                                                                       </td><td>Mauna Loa Atmospheric CO2 Concentration                                                   </td></tr>\n",
       "\t<tr><td>datasets                                                                                  </td><td>crimtab                                                                                   </td><td>Student's 3000 Criminals Data                                                             </td></tr>\n",
       "\t<tr><td>datasets                                                                                  </td><td>discoveries                                                                               </td><td>Yearly Numbers of Important Discoveries                                                   </td></tr>\n",
       "\t<tr><td>datasets                                                                                  </td><td>esoph                                                                                     </td><td>Smoking, Alcohol and (O)esophageal Cancer                                                 </td></tr>\n",
       "\t<tr><td>datasets                                                                                  </td><td>euro                                                                                      </td><td>Conversion Rates of Euro Currencies                                                       </td></tr>\n",
       "\t<tr><td>datasets                                                                                  </td><td>euro.cross (euro)                                                                         </td><td>Conversion Rates of Euro Currencies                                                       </td></tr>\n",
       "\t<tr><td>datasets                                                                                  </td><td>eurodist                                                                                  </td><td>Distances Between European Cities and Between US Cities                                   </td></tr>\n",
       "\t<tr><td>datasets                                                                                  </td><td>faithful                                                                                  </td><td>Old Faithful Geyser Data                                                                  </td></tr>\n",
       "\t<tr><td>datasets                                                                                  </td><td>fdeaths (UKLungDeaths)                                                                    </td><td>Monthly Deaths from Lung Diseases in the UK                                               </td></tr>\n",
       "\t<tr><td>datasets                                                                                  </td><td>freeny                                                                                    </td><td>Freeny's Revenue Data                                                                     </td></tr>\n",
       "\t<tr><td>datasets                                                                                  </td><td>freeny.x (freeny)                                                                         </td><td>Freeny's Revenue Data                                                                     </td></tr>\n",
       "\t<tr><td>datasets                                                                                  </td><td>freeny.y (freeny)                                                                         </td><td>Freeny's Revenue Data                                                                     </td></tr>\n",
       "\t<tr><td>datasets                                                                                  </td><td>infert                                                                                    </td><td>Infertility after Spontaneous and Induced Abortion                                        </td></tr>\n",
       "\t<tr><td>datasets                                                                                  </td><td>iris                                                                                      </td><td>Edgar Anderson's Iris Data                                                                </td></tr>\n",
       "\t<tr><td>datasets                                                                                  </td><td>iris3                                                                                     </td><td>Edgar Anderson's Iris Data                                                                </td></tr>\n",
       "\t<tr><td>datasets                                                                                  </td><td>islands                                                                                   </td><td>Areas of the World's Major Landmasses                                                     </td></tr>\n",
       "\t<tr><td>datasets                                                                                  </td><td>ldeaths (UKLungDeaths)                                                                    </td><td>Monthly Deaths from Lung Diseases in the UK                                               </td></tr>\n",
       "\t<tr><td>datasets                                                                                  </td><td>lh                                                                                        </td><td>Luteinizing Hormone in Blood Samples                                                      </td></tr>\n",
       "\t<tr><td>datasets                                                                                  </td><td>longley                                                                                   </td><td>Longley's Economic Regression Data                                                        </td></tr>\n",
       "\t<tr><td>datasets                                                                                  </td><td>lynx                                                                                      </td><td>Annual Canadian Lynx trappings 1821-1934                                                  </td></tr>\n",
       "\t<tr><td>datasets                                                                                  </td><td>mdeaths (UKLungDeaths)                                                                    </td><td>Monthly Deaths from Lung Diseases in the UK                                               </td></tr>\n",
       "\t<tr><td>datasets                                                                                  </td><td>morley                                                                                    </td><td>Michelson Speed of Light Data                                                             </td></tr>\n",
       "\t<tr><td>datasets                                                                                  </td><td>mtcars                                                                                    </td><td>Motor Trend Car Road Tests                                                                </td></tr>\n",
       "\t<tr><td>datasets                                                                                  </td><td>nhtemp                                                                                    </td><td>Average Yearly Temperatures in New Haven                                                  </td></tr>\n",
       "\t<tr><td>datasets                                                                                  </td><td>nottem                                                                                    </td><td>Average Monthly Temperatures at Nottingham, 1920-1939                                     </td></tr>\n",
       "\t<tr><td>datasets                                                                                  </td><td>npk                                                                                       </td><td>Classical N, P, K Factorial Experiment                                                    </td></tr>\n",
       "\t<tr><td>datasets                                                                                  </td><td>occupationalStatus                                                                        </td><td>Occupational Status of Fathers and their Sons                                             </td></tr>\n",
       "\t<tr><td>datasets                                                                                  </td><td>precip                                                                                    </td><td>Annual Precipitation in US Cities                                                         </td></tr>\n",
       "\t<tr><td>datasets                                                                                  </td><td>presidents                                                                                </td><td>Quarterly Approval Ratings of US Presidents                                               </td></tr>\n",
       "\t<tr><td>datasets                                                                                  </td><td>pressure                                                                                  </td><td>Vapor Pressure of Mercury as a Function of Temperature                                    </td></tr>\n",
       "\t<tr><td>datasets                                                                                  </td><td>quakes                                                                                    </td><td>Locations of Earthquakes off Fiji                                                         </td></tr>\n",
       "\t<tr><td>datasets                                                                                  </td><td>randu                                                                                     </td><td>Random Numbers from Congruential Generator RANDU                                          </td></tr>\n",
       "\t<tr><td>datasets                                                                                  </td><td>rivers                                                                                    </td><td>Lengths of Major North American Rivers                                                    </td></tr>\n",
       "\t<tr><td>datasets                                                                                  </td><td>rock                                                                                      </td><td>Measurements on Petroleum Rock Samples                                                    </td></tr>\n",
       "\t<tr><td>datasets                                                                                  </td><td>sleep                                                                                     </td><td>Student's Sleep Data                                                                      </td></tr>\n",
       "\t<tr><td>datasets                                                                                  </td><td>stack.loss (stackloss)                                                                    </td><td>Brownlee's Stack Loss Plant Data                                                          </td></tr>\n",
       "\t<tr><td>datasets                                                                                  </td><td>stack.x (stackloss)                                                                       </td><td>Brownlee's Stack Loss Plant Data                                                          </td></tr>\n",
       "\t<tr><td>datasets                                                                                  </td><td>stackloss                                                                                 </td><td>Brownlee's Stack Loss Plant Data                                                          </td></tr>\n",
       "\t<tr><td>datasets                                                                                  </td><td>state.abb (state)                                                                         </td><td>US State Facts and Figures                                                                </td></tr>\n",
       "\t<tr><td>datasets                                                                                  </td><td>state.area (state)                                                                        </td><td>US State Facts and Figures                                                                </td></tr>\n",
       "\t<tr><td>datasets                                                                                  </td><td>state.center (state)                                                                      </td><td>US State Facts and Figures                                                                </td></tr>\n",
       "\t<tr><td>datasets                                                                                  </td><td>state.division (state)                                                                    </td><td>US State Facts and Figures                                                                </td></tr>\n",
       "\t<tr><td>datasets                                                                                  </td><td>state.name (state)                                                                        </td><td>US State Facts and Figures                                                                </td></tr>\n",
       "\t<tr><td>datasets                                                                                  </td><td>state.region (state)                                                                      </td><td>US State Facts and Figures                                                                </td></tr>\n",
       "\t<tr><td>datasets                                                                                  </td><td>state.x77 (state)                                                                         </td><td>US State Facts and Figures                                                                </td></tr>\n",
       "\t<tr><td>datasets                                                                                  </td><td>sunspot.month                                                                             </td><td>Monthly Sunspot Data, from 1749 to \"Present\"                                              </td></tr>\n",
       "\t<tr><td>datasets                                                                                  </td><td>sunspot.year                                                                              </td><td>Yearly Sunspot Data, 1700-1988                                                            </td></tr>\n",
       "\t<tr><td>datasets                                                                                  </td><td>sunspots                                                                                  </td><td>Monthly Sunspot Numbers, 1749-1983                                                        </td></tr>\n",
       "\t<tr><td>datasets                                                                                  </td><td>swiss                                                                                     </td><td>Swiss Fertility and Socioeconomic Indicators (1888) Data                                  </td></tr>\n",
       "\t<tr><td>datasets                                                                                  </td><td>treering                                                                                  </td><td>Yearly Treering Data, -6000-1979                                                          </td></tr>\n",
       "\t<tr><td>datasets                                                                                  </td><td>trees                                                                                     </td><td>Diameter, Height and Volume for Black Cherry Trees                                        </td></tr>\n",
       "\t<tr><td>datasets                                                                                  </td><td>uspop                                                                                     </td><td>Populations Recorded by the US Census                                                     </td></tr>\n",
       "\t<tr><td>datasets                                                                                  </td><td>volcano                                                                                   </td><td>Topographic Information on Auckland's Maunga Whau Volcano                                 </td></tr>\n",
       "\t<tr><td>datasets                                                                                  </td><td>warpbreaks                                                                                </td><td>The Number of Breaks in Yarn during Weaving                                               </td></tr>\n",
       "\t<tr><td>datasets                                                                                  </td><td>women                                                                                     </td><td>Average Heights and Weights for American Women                                            </td></tr>\n",
       "\t<tr><td>bit64                                                                                     </td><td>benchmark64.data                                                                          </td><td>Results of performance measurement on a Core i7 Lenovo T410 8 GB RAM under Windows 7 64bit</td></tr>\n",
       "\t<tr><td>bit64                                                                                     </td><td>optimizer64.data                                                                          </td><td>Results of performance measurement on a Core i7 Lenovo T410 8 GB RAM under Windows 7 64bit</td></tr>\n",
       "\t<tr><td>boot                                                                                      </td><td>acme                                                                                      </td><td>Monthly Excess Returns                                                                    </td></tr>\n",
       "\t<tr><td>boot                                                                                      </td><td>aids                                                                                      </td><td>Delay in AIDS Reporting in England and Wales                                              </td></tr>\n",
       "\t<tr><td>boot                                                                                      </td><td>aircondit                                                                                 </td><td>Failures of Air-conditioning Equipment                                                    </td></tr>\n",
       "\t<tr><td>boot                                                                                      </td><td>aircondit7                                                                                </td><td>Failures of Air-conditioning Equipment                                                    </td></tr>\n",
       "\t<tr><td>boot                                                                                      </td><td>amis                                                                                      </td><td>Car Speeding and Warning Signs                                                            </td></tr>\n",
       "\t<tr><td>boot                                                                                      </td><td>aml                                                                                       </td><td>Remission Times for Acute Myelogenous Leukaemia                                           </td></tr>\n",
       "\t<tr><td>boot                                                                                      </td><td>beaver                                                                                    </td><td>Beaver Body Temperature Data                                                              </td></tr>\n",
       "\t<tr><td>boot                                                                                      </td><td>bigcity                                                                                   </td><td>Population of U.S. Cities                                                                 </td></tr>\n",
       "\t<tr><td>boot                                                                                      </td><td>brambles                                                                                  </td><td>Spatial Location of Bramble Canes                                                         </td></tr>\n",
       "\t<tr><td>boot                                                                                      </td><td>breslow                                                                                   </td><td>Smoking Deaths Among Doctors                                                              </td></tr>\n",
       "\t<tr><td>boot                                                                                      </td><td>calcium                                                                                   </td><td>Calcium Uptake Data                                                                       </td></tr>\n",
       "\t<tr><td>boot                                                                                      </td><td>cane                                                                                      </td><td>Sugar-cane Disease Data                                                                   </td></tr>\n",
       "\t<tr><td>boot                                                                                      </td><td>capability                                                                                </td><td>Simulated Manufacturing Process Data                                                      </td></tr>\n",
       "\t<tr><td>boot                                                                                      </td><td>catsM                                                                                     </td><td>Weight Data for Domestic Cats                                                             </td></tr>\n",
       "\t<tr><td>boot                                                                                      </td><td>cav                                                                                       </td><td>Position of Muscle Caveolae                                                               </td></tr>\n",
       "\t<tr><td>boot                                                                                      </td><td>cd4                                                                                       </td><td>CD4 Counts for HIV-Positive Patients                                                      </td></tr>\n",
       "\t<tr><td>boot                                                                                      </td><td>cd4.nested                                                                                </td><td>Nested Bootstrap of cd4 data                                                              </td></tr>\n",
       "\t<tr><td>boot                                                                                      </td><td>channing                                                                                  </td><td>Channing House Data                                                                       </td></tr>\n",
       "\t<tr><td>boot                                                                                      </td><td>city                                                                                      </td><td>Population of U.S. Cities                                                                 </td></tr>\n",
       "\t<tr><td>boot                                                                                      </td><td>claridge                                                                                  </td><td>Genetic Links to Left-handedness                                                          </td></tr>\n",
       "\t<tr><td>boot                                                                                      </td><td>cloth                                                                                     </td><td>Number of Flaws in Cloth                                                                  </td></tr>\n",
       "\t<tr><td>boot                                                                                      </td><td>co.transfer                                                                               </td><td>Carbon Monoxide Transfer                                                                  </td></tr>\n",
       "\t<tr><td>boot                                                                                      </td><td>coal                                                                                      </td><td>Dates of Coal Mining Disasters                                                            </td></tr>\n",
       "\t<tr><td>boot                                                                                      </td><td>darwin                                                                                    </td><td>Darwin's Plant Height Differences                                                         </td></tr>\n",
       "\t<tr><td>boot                                                                                      </td><td>dogs                                                                                      </td><td>Cardiac Data for Domestic Dogs                                                            </td></tr>\n",
       "\t<tr><td>boot                                                                                      </td><td>downs.bc                                                                                  </td><td>Incidence of Down's Syndrome in British Columbia                                          </td></tr>\n",
       "\t<tr><td>boot                                                                                      </td><td>ducks                                                                                     </td><td>Behavioral and Plumage Characteristics of Hybrid Ducks                                    </td></tr>\n",
       "\t<tr><td>boot                                                                                      </td><td>fir                                                                                       </td><td>Counts of Balsam-fir Seedlings                                                            </td></tr>\n",
       "\t<tr><td>boot                                                                                      </td><td>frets                                                                                     </td><td>Head Dimensions in Brothers                                                               </td></tr>\n",
       "\t<tr><td>boot                                                                                      </td><td>grav                                                                                      </td><td>Acceleration Due to Gravity                                                               </td></tr>\n",
       "\t<tr><td>boot                                                                                      </td><td>gravity                                                                                   </td><td>Acceleration Due to Gravity                                                               </td></tr>\n",
       "\t<tr><td>boot                                                                                      </td><td>hirose                                                                                    </td><td>Failure Time of PET Film                                                                  </td></tr>\n",
       "\t<tr><td>boot                                                                                      </td><td>islay                                                                                     </td><td>Jura Quartzite Azimuths on Islay                                                          </td></tr>\n",
       "\t<tr><td>boot                                                                                      </td><td>manaus                                                                                    </td><td>Average Heights of the Rio Negro river at Manaus                                          </td></tr>\n",
       "\t<tr><td>boot                                                                                      </td><td>melanoma                                                                                  </td><td>Survival from Malignant Melanoma                                                          </td></tr>\n",
       "\t<tr><td>boot                                                                                      </td><td>motor                                                                                     </td><td>Data from a Simulated Motorcycle Accident                                                 </td></tr>\n",
       "\t<tr><td>boot                                                                                      </td><td>neuro                                                                                     </td><td>Neurophysiological Point Process Data                                                     </td></tr>\n",
       "\t<tr><td>boot                                                                                      </td><td>nitrofen                                                                                  </td><td>Toxicity of Nitrofen in Aquatic Systems                                                   </td></tr>\n",
       "\t<tr><td>boot                                                                                      </td><td>nodal                                                                                     </td><td>Nodal Involvement in Prostate Cancer                                                      </td></tr>\n",
       "\t<tr><td>boot                                                                                      </td><td>nuclear                                                                                   </td><td>Nuclear Power Station Construction Data                                                   </td></tr>\n",
       "\t<tr><td>boot                                                                                      </td><td>paulsen                                                                                   </td><td>Neurotransmission in Guinea Pig Brains                                                    </td></tr>\n",
       "\t<tr><td>boot                                                                                      </td><td>poisons                                                                                   </td><td>Animal Survival Times                                                                     </td></tr>\n",
       "\t<tr><td>boot                                                                                      </td><td>polar                                                                                     </td><td>Pole Positions of New Caledonian Laterites                                                </td></tr>\n",
       "\t<tr><td>boot                                                                                      </td><td>remission                                                                                 </td><td>Cancer Remission and Cell Activity                                                        </td></tr>\n",
       "\t<tr><td>boot                                                                                      </td><td>salinity                                                                                  </td><td>Water Salinity and River Discharge                                                        </td></tr>\n",
       "\t<tr><td>boot                                                                                      </td><td>survival                                                                                  </td><td>Survival of Rats after Radiation Doses                                                    </td></tr>\n",
       "\t<tr><td>boot                                                                                      </td><td>tau                                                                                       </td><td>Tau Particle Decay Modes                                                                  </td></tr>\n",
       "\t<tr><td>boot                                                                                      </td><td>tuna                                                                                      </td><td>Tuna Sighting Data                                                                        </td></tr>\n",
       "\t<tr><td>boot                                                                                      </td><td>urine                                                                                     </td><td>Urine Analysis Data                                                                       </td></tr>\n",
       "\t<tr><td>boot                                                                                      </td><td>wool                                                                                      </td><td>Australian Relative Wool Prices                                                           </td></tr>\n",
       "\t<tr><td>broom                                                                                     </td><td>argument_glossary                                                                         </td><td>Allowed argument names in tidiers                                                         </td></tr>\n",
       "\t<tr><td>broom                                                                                     </td><td>column_glossary                                                                           </td><td>Allowed column names in tidied tibbles                                                    </td></tr>\n",
       "\t<tr><td>caret                                                                                     </td><td>GermanCredit                                                                              </td><td>German Credit Data                                                                        </td></tr>\n",
       "\t<tr><td>caret                                                                                     </td><td>Sacramento                                                                                </td><td>Sacramento CA Home Prices                                                                 </td></tr>\n",
       "\t<tr><td>caret                                                                                     </td><td>absorp (tecator)                                                                          </td><td>Fat, Water and Protein Content of Meat Samples                                            </td></tr>\n",
       "\t<tr><td>caret                                                                                     </td><td>bbbDescr (BloodBrain)                                                                     </td><td>Blood Brain Barrier Data                                                                  </td></tr>\n",
       "\t<tr><td>caret                                                                                     </td><td>cars                                                                                      </td><td>Kelly Blue Book resale data for 2005 model year GM cars                                   </td></tr>\n",
       "\t<tr><td>caret                                                                                     </td><td>cox2Class (cox2)                                                                          </td><td>COX-2 Activity Data                                                                       </td></tr>\n",
       "\t<tr><td>caret                                                                                     </td><td>cox2Descr (cox2)                                                                          </td><td>COX-2 Activity Data                                                                       </td></tr>\n",
       "\t<tr><td>caret                                                                                     </td><td>cox2IC50 (cox2)                                                                           </td><td>COX-2 Activity Data                                                                       </td></tr>\n",
       "\t<tr><td>caret                                                                                     </td><td>dhfr                                                                                      </td><td>Dihydrofolate Reductase Inhibitors Data                                                   </td></tr>\n",
       "\t<tr><td>caret                                                                                     </td><td>endpoints (tecator)                                                                       </td><td>Fat, Water and Protein Content of Meat Samples                                            </td></tr>\n",
       "\t<tr><td>caret                                                                                     </td><td>fattyAcids (oil)                                                                          </td><td>Fatty acid composition of commercial oils                                                 </td></tr>\n",
       "\t<tr><td>caret                                                                                     </td><td>logBBB (BloodBrain)                                                                       </td><td>Blood Brain Barrier Data                                                                  </td></tr>\n",
       "\t<tr><td>caret                                                                                     </td><td>mdrrClass (mdrr)                                                                          </td><td>Multidrug Resistance Reversal (MDRR) Agent Data                                           </td></tr>\n",
       "\t<tr><td>caret                                                                                     </td><td>mdrrDescr (mdrr)                                                                          </td><td>Multidrug Resistance Reversal (MDRR) Agent Data                                           </td></tr>\n",
       "\t<tr><td>caret                                                                                     </td><td>oilType (oil)                                                                             </td><td>Fatty acid composition of commercial oils                                                 </td></tr>\n",
       "\t<tr><td>caret                                                                                     </td><td>potteryClass (pottery)                                                                    </td><td>Pottery from Pre-Classical Sites in Italy                                                 </td></tr>\n",
       "\t<tr><td>caret                                                                                     </td><td>scat                                                                                      </td><td>Morphometric Data on Scat                                                                 </td></tr>\n",
       "\t<tr><td>caret                                                                                     </td><td>scat_orig (scat)                                                                          </td><td>Morphometric Data on Scat                                                                 </td></tr>\n",
       "\t<tr><td>caret                                                                                     </td><td>segmentationData                                                                          </td><td>Cell Body Segmentation                                                                    </td></tr>\n",
       "\t<tr><td>cluster                                                                                   </td><td>agriculture                                                                               </td><td>European Union Agricultural Workforces                                                    </td></tr>\n",
       "\t<tr><td>cluster                                                                                   </td><td>animals                                                                                   </td><td>Attributes of Animals                                                                     </td></tr>\n",
       "\t<tr><td>cluster                                                                                   </td><td>chorSub                                                                                   </td><td>Subset of C-horizon of Kola Data                                                          </td></tr>\n",
       "\t<tr><td>cluster                                                                                   </td><td>flower                                                                                    </td><td>Flower Characteristics                                                                    </td></tr>\n",
       "\t<tr><td>cluster                                                                                   </td><td>plantTraits                                                                               </td><td>Plant Species Traits Data                                                                 </td></tr>\n",
       "\t<tr><td>cluster                                                                                   </td><td>pluton                                                                                    </td><td>Isotopic Composition Plutonium Batches                                                    </td></tr>\n",
       "\t<tr><td>cluster                                                                                   </td><td>ruspini                                                                                   </td><td>Ruspini Data                                                                              </td></tr>\n",
       "\t<tr><td>cluster                                                                                   </td><td>votes.repub                                                                               </td><td>Votes for Republican Candidate in Presidential Elections                                  </td></tr>\n",
       "\t<tr><td>cluster                                                                                   </td><td>xclara                                                                                    </td><td>Bivariate Data Set with 3 Clusters                                                        </td></tr>\n",
       "\t<tr><td>colorspace                                                                                </td><td>USSouthPolygon                                                                            </td><td>Polygon for County Map of US South States: Alabama, Georgia, and South Carolina           </td></tr>\n",
       "\t<tr><td>colorspace                                                                                </td><td>max_chroma_table                                                                          </td><td>Compute Maximum Chroma for Given Hue and Luminance in HCL                                 </td></tr>\n",
       "\t<tr><td>curl                                                                                      </td><td>curl_symbols                                                                              </td><td>List curl version and options.                                                            </td></tr>\n",
       "\t<tr><td>dichromat                                                                                 </td><td>dalton                                                                                    </td><td>Effects of Daltonism (Red-Green Color Blindness)                                          </td></tr>\n",
       "\t<tr><td>dichromat                                                                                 </td><td>dalton.colors (dalton)                                                                    </td><td>Effects of Daltonism (Red-Green Color Blindness)                                          </td></tr>\n",
       "\t<tr><td>dplyr                                                                                     </td><td>band_instruments                                                                          </td><td>Band membership                                                                           </td></tr>\n",
       "\t<tr><td>dplyr                                                                                     </td><td>band_instruments2                                                                         </td><td>Band membership                                                                           </td></tr>\n",
       "\t<tr><td>dplyr                                                                                     </td><td>band_members                                                                              </td><td>Band membership                                                                           </td></tr>\n",
       "\t<tr><td>dplyr                                                                                     </td><td>nasa                                                                                      </td><td>NASA spatio-temporal data                                                                 </td></tr>\n",
       "\t<tr><td>dplyr                                                                                     </td><td>starwars                                                                                  </td><td>Starwars characters                                                                       </td></tr>\n",
       "\t<tr><td>dplyr                                                                                     </td><td>storms                                                                                    </td><td>Storm tracks data                                                                         </td></tr>\n",
       "\t<tr><td>forcats                                                                                   </td><td>gss_cat                                                                                   </td><td>A sample of categorical variables from the General Social survey                          </td></tr>\n",
       "\t<tr><td>ggplot2                                                                                   </td><td>diamonds                                                                                  </td><td>Prices of 50,000 round cut diamonds                                                       </td></tr>\n",
       "\t<tr><td>ggplot2                                                                                   </td><td>economics                                                                                 </td><td>US economic time series                                                                   </td></tr>\n",
       "\t<tr><td>ggplot2                                                                                   </td><td>economics_long                                                                            </td><td>US economic time series                                                                   </td></tr>\n",
       "\t<tr><td>ggplot2                                                                                   </td><td>faithfuld                                                                                 </td><td>2d density estimate of Old Faithful data                                                  </td></tr>\n",
       "\t<tr><td>ggplot2                                                                                   </td><td>luv_colours                                                                               </td><td>'colors()' in Luv space                                                                   </td></tr>\n",
       "\t<tr><td>ggplot2                                                                                   </td><td>midwest                                                                                   </td><td>Midwest demographics                                                                      </td></tr>\n",
       "\t<tr><td>ggplot2                                                                                   </td><td>mpg                                                                                       </td><td>Fuel economy data from 1999 and 2008 for 38 popular models of car                         </td></tr>\n",
       "\t<tr><td>ggplot2                                                                                   </td><td>msleep                                                                                    </td><td>An updated and expanded version of the mammals sleep dataset                              </td></tr>\n",
       "\t<tr><td>ggplot2                                                                                   </td><td>presidential                                                                              </td><td>Terms of 11 presidents from Eisenhower to Obama                                           </td></tr>\n",
       "\t<tr><td>ggplot2                                                                                   </td><td>seals                                                                                     </td><td>Vector field of seal movements                                                            </td></tr>\n",
       "\t<tr><td>ggplot2                                                                                   </td><td>txhousing                                                                                 </td><td>Housing sales in TX                                                                       </td></tr>\n",
       "\t<tr><td>glmnet                                                                                    </td><td>beta_CVX (CVXResults)                                                                     </td><td>Simulated data for the glmnet vignette                                                    </td></tr>\n",
       "\t<tr><td>glmnet                                                                                    </td><td>x (BinomialExample)                                                                       </td><td>Simulated data for the glmnet vignette                                                    </td></tr>\n",
       "\t<tr><td>glmnet                                                                                    </td><td>x (CoxExample)                                                                            </td><td>Simulated data for the glmnet vignette                                                    </td></tr>\n",
       "\t<tr><td>glmnet                                                                                    </td><td>x (MultiGaussianExample)                                                                  </td><td>Simulated data for the glmnet vignette                                                    </td></tr>\n",
       "\t<tr><td>glmnet                                                                                    </td><td>x (MultinomialExample)                                                                    </td><td>Simulated data for the glmnet vignette                                                    </td></tr>\n",
       "\t<tr><td>glmnet                                                                                    </td><td>x (PoissonExample)                                                                        </td><td>Simulated data for the glmnet vignette                                                    </td></tr>\n",
       "\t<tr><td>glmnet                                                                                    </td><td>x (QuickStartExample)                                                                     </td><td>Simulated data for the glmnet vignette                                                    </td></tr>\n",
       "\t<tr><td>glmnet                                                                                    </td><td>x (SparseExample)                                                                         </td><td>Simulated data for the glmnet vignette                                                    </td></tr>\n",
       "\t<tr><td>glmnet                                                                                    </td><td>y (BinomialExample)                                                                       </td><td>Simulated data for the glmnet vignette                                                    </td></tr>\n",
       "\t<tr><td>glmnet                                                                                    </td><td>y (CoxExample)                                                                            </td><td>Simulated data for the glmnet vignette                                                    </td></tr>\n",
       "\t<tr><td>glmnet                                                                                    </td><td>y (MultiGaussianExample)                                                                  </td><td>Simulated data for the glmnet vignette                                                    </td></tr>\n",
       "\t<tr><td>glmnet                                                                                    </td><td>y (MultinomialExample)                                                                    </td><td>Simulated data for the glmnet vignette                                                    </td></tr>\n",
       "\t<tr><td>glmnet                                                                                    </td><td>y (PoissonExample)                                                                        </td><td>Simulated data for the glmnet vignette                                                    </td></tr>\n",
       "\t<tr><td>glmnet                                                                                    </td><td>y (QuickStartExample)                                                                     </td><td>Simulated data for the glmnet vignette                                                    </td></tr>\n",
       "\t<tr><td>glmnet                                                                                    </td><td>y (SparseExample)                                                                         </td><td>Simulated data for the glmnet vignette                                                    </td></tr>\n",
       "\t<tr><td>hexbin                                                                                    </td><td>NHANES                                                                                    </td><td>NHANES Data : National Health and Nutrition Examination Survey                            </td></tr>\n",
       "\t<tr><td>ipred                                                                                     </td><td>DLBCL                                                                                     </td><td>Diffuse Large B-Cell Lymphoma                                                             </td></tr>\n",
       "\t<tr><td>ipred                                                                                     </td><td>GlaucomaMVF                                                                               </td><td>Glaucoma Database                                                                         </td></tr>\n",
       "\t<tr><td>ipred                                                                                     </td><td>Smoking                                                                                   </td><td>Smoking Styles                                                                            </td></tr>\n",
       "\t<tr><td>ipred                                                                                     </td><td>dystrophy                                                                                 </td><td>Detection of muscular dystrophy carriers.                                                 </td></tr>\n",
       "\t<tr><td>lattice                                                                                   </td><td>USMortality                                                                               </td><td>Mortality Rates in US by Cause and Gender                                                 </td></tr>\n",
       "\t<tr><td>lattice                                                                                   </td><td>USRegionalMortality                                                                       </td><td>Mortality Rates in US by Cause and Gender                                                 </td></tr>\n",
       "\t<tr><td>lattice                                                                                   </td><td>barley                                                                                    </td><td>Yield data from a Minnesota barley trial                                                  </td></tr>\n",
       "\t<tr><td>lattice                                                                                   </td><td>environmental                                                                             </td><td>Atmospheric environmental conditions in New York City                                     </td></tr>\n",
       "\t<tr><td>lattice                                                                                   </td><td>ethanol                                                                                   </td><td>Engine exhaust fumes from burning ethanol                                                 </td></tr>\n",
       "\t<tr><td>lattice                                                                                   </td><td>melanoma                                                                                  </td><td>Melanoma skin cancer incidence                                                            </td></tr>\n",
       "\t<tr><td>lattice                                                                                   </td><td>singer                                                                                    </td><td>Heights of New York Choral Society singers                                                </td></tr>\n",
       "\t<tr><td>lava                                                                                      </td><td>bmd                                                                                       </td><td>Longitudinal Bone Mineral Density Data (Wide format)                                      </td></tr>\n",
       "\t<tr><td>lava                                                                                      </td><td>bmidata                                                                                   </td><td>Data                                                                                      </td></tr>\n",
       "\t<tr><td>lava                                                                                      </td><td>brisa                                                                                     </td><td>Simulated data                                                                            </td></tr>\n",
       "\t<tr><td>lava                                                                                      </td><td>calcium                                                                                   </td><td>Longitudinal Bone Mineral Density Data                                                    </td></tr>\n",
       "\t<tr><td>lava                                                                                      </td><td>hubble                                                                                    </td><td>Hubble data                                                                               </td></tr>\n",
       "\t<tr><td>lava                                                                                      </td><td>hubble2                                                                                   </td><td>Hubble data                                                                               </td></tr>\n",
       "\t<tr><td>lava                                                                                      </td><td>indoorenv                                                                                 </td><td>Data                                                                                      </td></tr>\n",
       "\t<tr><td>lava                                                                                      </td><td>missingdata                                                                               </td><td>Missing data example                                                                      </td></tr>\n",
       "\t<tr><td>lava                                                                                      </td><td>nldata                                                                                    </td><td>Example data (nonlinear model)                                                            </td></tr>\n",
       "\t<tr><td>lava                                                                                      </td><td>nsem                                                                                      </td><td>Example SEM data (nonlinear)                                                              </td></tr>\n",
       "\t<tr><td>lava                                                                                      </td><td>semdata                                                                                   </td><td>Example SEM data                                                                          </td></tr>\n",
       "\t<tr><td>lava                                                                                      </td><td>serotonin                                                                                 </td><td>Serotonin data                                                                            </td></tr>\n",
       "\t<tr><td>lava                                                                                      </td><td>serotonin2                                                                                </td><td>Data                                                                                      </td></tr>\n",
       "\t<tr><td>lava                                                                                      </td><td>twindata                                                                                  </td><td>Twin menarche data                                                                        </td></tr>\n",
       "\t<tr><td>lubridate                                                                                 </td><td>lakers                                                                                    </td><td>Lakers 2008-2009 basketball data set                                                      </td></tr>\n",
       "\t<tr><td>maps                                                                                      </td><td>canada.cities                                                                             </td><td>Database of Canadian cities                                                               </td></tr>\n",
       "\t<tr><td>maps                                                                                      </td><td>county.fips                                                                               </td><td>FIPS county codes for US County Map                                                       </td></tr>\n",
       "\t<tr><td>maps                                                                                      </td><td>countyMapEnv                                                                              </td><td>United States County Map                                                                  </td></tr>\n",
       "\t<tr><td>maps                                                                                      </td><td>franceMapEnv                                                                              </td><td>France Map                                                                                </td></tr>\n",
       "\t<tr><td>maps                                                                                      </td><td>iso3166                                                                                   </td><td>ISO 3166 country codes (2 or 3 letters) and sovereignty.                                  </td></tr>\n",
       "\t<tr><td>maps                                                                                      </td><td>italyMapEnv                                                                               </td><td>Italy Map                                                                                 </td></tr>\n",
       "\t<tr><td>maps                                                                                      </td><td>lakesMapEnv                                                                               </td><td>World lakes database                                                                      </td></tr>\n",
       "\t<tr><td>maps                                                                                      </td><td>legacy_world2MapEnv                                                                       </td><td>Legacy low resolution World Map. DEPRECATED!                                              </td></tr>\n",
       "\t<tr><td>maps                                                                                      </td><td>legacy_worldMapEnv                                                                        </td><td>Legacy low resolution World Map. DEPRECATED!                                              </td></tr>\n",
       "\t<tr><td>maps                                                                                      </td><td>nzMapEnv                                                                                  </td><td>New Zealand Basic Map                                                                     </td></tr>\n",
       "\t<tr><td>maps                                                                                      </td><td>ozone                                                                                     </td><td>Sample datasets                                                                           </td></tr>\n",
       "\t<tr><td>maps                                                                                      </td><td>state.carto.center                                                                        </td><td>United States State Population Cartogram Map                                              </td></tr>\n",
       "\t<tr><td>maps                                                                                      </td><td>state.cartoMapEnv                                                                         </td><td>United States State Population Cartogram Map                                              </td></tr>\n",
       "\t<tr><td>maps                                                                                      </td><td>state.fips                                                                                </td><td>FIPS state codes for US 48 State Map                                                      </td></tr>\n",
       "\t<tr><td>maps                                                                                      </td><td>state.vbm.center                                                                          </td><td>United States State Visibility Base Map                                                   </td></tr>\n",
       "\t<tr><td>maps                                                                                      </td><td>state.vbmMapEnv                                                                           </td><td>United States State Visibility Base Map                                                   </td></tr>\n",
       "\t<tr><td>maps                                                                                      </td><td>stateMapEnv                                                                               </td><td>United States State Boundaries Map                                                        </td></tr>\n",
       "\t<tr><td>maps                                                                                      </td><td>unemp                                                                                     </td><td>Sample datasets                                                                           </td></tr>\n",
       "\t<tr><td>maps                                                                                      </td><td>us.cities                                                                                 </td><td>Database of US cities                                                                     </td></tr>\n",
       "\t<tr><td>maps                                                                                      </td><td>usaMapEnv                                                                                 </td><td>United States Coast Map                                                                   </td></tr>\n",
       "\t<tr><td>maps                                                                                      </td><td>votes.repub                                                                               </td><td>Sample datasets                                                                           </td></tr>\n",
       "\t<tr><td>maps                                                                                      </td><td>world.cities                                                                              </td><td>Database of world cities                                                                  </td></tr>\n",
       "\t<tr><td>maps                                                                                      </td><td>world2MapEnv                                                                              </td><td>Pacific Centric Low resolution World Map                                                  </td></tr>\n",
       "\t<tr><td>maps                                                                                      </td><td>worldMapEnv                                                                               </td><td>Low (mid) resolution World Map                                                            </td></tr>\n",
       "\t<tr><td>MASS                                                                                      </td><td>Aids2                                                                                     </td><td>Australian AIDS Survival Data                                                             </td></tr>\n",
       "\t<tr><td>MASS                                                                                      </td><td>Animals                                                                                   </td><td>Brain and Body Weights for 28 Species                                                     </td></tr>\n",
       "\t<tr><td>MASS                                                                                      </td><td>Boston                                                                                    </td><td>Housing Values in Suburbs of Boston                                                       </td></tr>\n",
       "\t<tr><td>MASS                                                                                      </td><td>Cars93                                                                                    </td><td>Data from 93 Cars on Sale in the USA in 1993                                              </td></tr>\n",
       "\t<tr><td>MASS                                                                                      </td><td>Cushings                                                                                  </td><td>Diagnostic Tests on Patients with Cushing's Syndrome                                      </td></tr>\n",
       "\t<tr><td>MASS                                                                                      </td><td>DDT                                                                                       </td><td>DDT in Kale                                                                               </td></tr>\n",
       "\t<tr><td>MASS                                                                                      </td><td>GAGurine                                                                                  </td><td>Level of GAG in Urine of Children                                                         </td></tr>\n",
       "\t<tr><td>MASS                                                                                      </td><td>Insurance                                                                                 </td><td>Numbers of Car Insurance claims                                                           </td></tr>\n",
       "\t<tr><td>MASS                                                                                      </td><td>Melanoma                                                                                  </td><td>Survival from Malignant Melanoma                                                          </td></tr>\n",
       "\t<tr><td>MASS                                                                                      </td><td>OME                                                                                       </td><td>Tests of Auditory Perception in Children with OME                                         </td></tr>\n",
       "\t<tr><td>MASS                                                                                      </td><td>Pima.te                                                                                   </td><td>Diabetes in Pima Indian Women                                                             </td></tr>\n",
       "\t<tr><td>MASS                                                                                      </td><td>Pima.tr                                                                                   </td><td>Diabetes in Pima Indian Women                                                             </td></tr>\n",
       "\t<tr><td>MASS                                                                                      </td><td>Pima.tr2                                                                                  </td><td>Diabetes in Pima Indian Women                                                             </td></tr>\n",
       "\t<tr><td>MASS                                                                                      </td><td>Rabbit                                                                                    </td><td>Blood Pressure in Rabbits                                                                 </td></tr>\n",
       "\t<tr><td>MASS                                                                                      </td><td>Rubber                                                                                    </td><td>Accelerated Testing of Tyre Rubber                                                        </td></tr>\n",
       "\t<tr><td>MASS                                                                                      </td><td>SP500                                                                                     </td><td>Returns of the Standard and Poors 500                                                     </td></tr>\n",
       "\t<tr><td>MASS                                                                                      </td><td>Sitka                                                                                     </td><td>Growth Curves for Sitka Spruce Trees in 1988                                              </td></tr>\n",
       "\t<tr><td>MASS                                                                                      </td><td>Sitka89                                                                                   </td><td>Growth Curves for Sitka Spruce Trees in 1989                                              </td></tr>\n",
       "\t<tr><td>MASS                                                                                      </td><td>Skye                                                                                      </td><td>AFM Compositions of Aphyric Skye Lavas                                                    </td></tr>\n",
       "\t<tr><td>MASS                                                                                      </td><td>Traffic                                                                                   </td><td>Effect of Swedish Speed Limits on Accidents                                               </td></tr>\n",
       "\t<tr><td>MASS                                                                                      </td><td>UScereal                                                                                  </td><td>Nutritional and Marketing Information on US Cereals                                       </td></tr>\n",
       "\t<tr><td>MASS                                                                                      </td><td>UScrime                                                                                   </td><td>The Effect of Punishment Regimes on Crime Rates                                           </td></tr>\n",
       "\t<tr><td>MASS                                                                                      </td><td>VA                                                                                        </td><td>Veteran's Administration Lung Cancer Trial                                                </td></tr>\n",
       "\t<tr><td>MASS                                                                                      </td><td>abbey                                                                                     </td><td>Determinations of Nickel Content                                                          </td></tr>\n",
       "\t<tr><td>MASS                                                                                      </td><td>accdeaths                                                                                 </td><td>Accidental Deaths in the US 1973-1978                                                     </td></tr>\n",
       "\t<tr><td>MASS                                                                                      </td><td>anorexia                                                                                  </td><td>Anorexia Data on Weight Change                                                            </td></tr>\n",
       "\t<tr><td>MASS                                                                                      </td><td>bacteria                                                                                  </td><td>Presence of Bacteria after Drug Treatments                                                </td></tr>\n",
       "\t<tr><td>MASS                                                                                      </td><td>beav1                                                                                     </td><td>Body Temperature Series of Beaver 1                                                       </td></tr>\n",
       "\t<tr><td>MASS                                                                                      </td><td>beav2                                                                                     </td><td>Body Temperature Series of Beaver 2                                                       </td></tr>\n",
       "\t<tr><td>MASS                                                                                      </td><td>biopsy                                                                                    </td><td>Biopsy Data on Breast Cancer Patients                                                     </td></tr>\n",
       "\t<tr><td>MASS                                                                                      </td><td>birthwt                                                                                   </td><td>Risk Factors Associated with Low Infant Birth Weight                                      </td></tr>\n",
       "\t<tr><td>MASS                                                                                      </td><td>cabbages                                                                                  </td><td>Data from a cabbage field trial                                                           </td></tr>\n",
       "\t<tr><td>MASS                                                                                      </td><td>caith                                                                                     </td><td>Colours of Eyes and Hair of People in Caithness                                           </td></tr>\n",
       "\t<tr><td>MASS                                                                                      </td><td>cats                                                                                      </td><td>Anatomical Data from Domestic Cats                                                        </td></tr>\n",
       "\t<tr><td>MASS                                                                                      </td><td>cement                                                                                    </td><td>Heat Evolved by Setting Cements                                                           </td></tr>\n",
       "\t<tr><td>MASS                                                                                      </td><td>chem                                                                                      </td><td>Copper in Wholemeal Flour                                                                 </td></tr>\n",
       "\t<tr><td>MASS                                                                                      </td><td>coop                                                                                      </td><td>Co-operative Trial in Analytical Chemistry                                                </td></tr>\n",
       "\t<tr><td>MASS                                                                                      </td><td>cpus                                                                                      </td><td>Performance of Computer CPUs                                                              </td></tr>\n",
       "\t<tr><td>MASS                                                                                      </td><td>crabs                                                                                     </td><td>Morphological Measurements on Leptograpsus Crabs                                          </td></tr>\n",
       "\t<tr><td>MASS                                                                                      </td><td>deaths                                                                                    </td><td>Monthly Deaths from Lung Diseases in the UK                                               </td></tr>\n",
       "\t<tr><td>MASS                                                                                      </td><td>drivers                                                                                   </td><td>Deaths of Car Drivers in Great Britain 1969-84                                            </td></tr>\n",
       "\t<tr><td>MASS                                                                                      </td><td>eagles                                                                                    </td><td>Foraging Ecology of Bald Eagles                                                           </td></tr>\n",
       "\t<tr><td>MASS                                                                                      </td><td>epil                                                                                      </td><td>Seizure Counts for Epileptics                                                             </td></tr>\n",
       "\t<tr><td>MASS                                                                                      </td><td>farms                                                                                     </td><td>Ecological Factors in Farm Management                                                     </td></tr>\n",
       "\t<tr><td>MASS                                                                                      </td><td>fgl                                                                                       </td><td>Measurements of Forensic Glass Fragments                                                  </td></tr>\n",
       "\t<tr><td>MASS                                                                                      </td><td>forbes                                                                                    </td><td>Forbes' Data on Boiling Points in the Alps                                                </td></tr>\n",
       "\t<tr><td>MASS                                                                                      </td><td>galaxies                                                                                  </td><td>Velocities for 82 Galaxies                                                                </td></tr>\n",
       "\t<tr><td>MASS                                                                                      </td><td>gehan                                                                                     </td><td>Remission Times of Leukaemia Patients                                                     </td></tr>\n",
       "\t<tr><td>MASS                                                                                      </td><td>genotype                                                                                  </td><td>Rat Genotype Data                                                                         </td></tr>\n",
       "\t<tr><td>MASS                                                                                      </td><td>geyser                                                                                    </td><td>Old Faithful Geyser Data                                                                  </td></tr>\n",
       "\t<tr><td>MASS                                                                                      </td><td>gilgais                                                                                   </td><td>Line Transect of Soil in Gilgai Territory                                                 </td></tr>\n",
       "\t<tr><td>MASS                                                                                      </td><td>hills                                                                                     </td><td>Record Times in Scottish Hill Races                                                       </td></tr>\n",
       "\t<tr><td>MASS                                                                                      </td><td>housing                                                                                   </td><td>Frequency Table from a Copenhagen Housing Conditions Survey                               </td></tr>\n",
       "\t<tr><td>MASS                                                                                      </td><td>immer                                                                                     </td><td>Yields from a Barley Field Trial                                                          </td></tr>\n",
       "\t<tr><td>MASS                                                                                      </td><td>leuk                                                                                      </td><td>Survival Times and White Blood Counts for Leukaemia Patients                              </td></tr>\n",
       "\t<tr><td>MASS                                                                                      </td><td>mammals                                                                                   </td><td>Brain and Body Weights for 62 Species of Land Mammals                                     </td></tr>\n",
       "\t<tr><td>MASS                                                                                      </td><td>mcycle                                                                                    </td><td>Data from a Simulated Motorcycle Accident                                                 </td></tr>\n",
       "\t<tr><td>MASS                                                                                      </td><td>menarche                                                                                  </td><td>Age of Menarche in Warsaw                                                                 </td></tr>\n",
       "\t<tr><td>MASS                                                                                      </td><td>michelson                                                                                 </td><td>Michelson's Speed of Light Data                                                           </td></tr>\n",
       "\t<tr><td>MASS                                                                                      </td><td>minn38                                                                                    </td><td>Minnesota High School Graduates of 1938                                                   </td></tr>\n",
       "\t<tr><td>MASS                                                                                      </td><td>motors                                                                                    </td><td>Accelerated Life Testing of Motorettes                                                    </td></tr>\n",
       "\t<tr><td>MASS                                                                                      </td><td>muscle                                                                                    </td><td>Effect of Calcium Chloride on Muscle Contraction in Rat Hearts                            </td></tr>\n",
       "\t<tr><td>MASS                                                                                      </td><td>newcomb                                                                                   </td><td>Newcomb's Measurements of the Passage Time of Light                                       </td></tr>\n",
       "\t<tr><td>MASS                                                                                      </td><td>nlschools                                                                                 </td><td>Eighth-Grade Pupils in the Netherlands                                                    </td></tr>\n",
       "\t<tr><td>MASS                                                                                      </td><td>npk                                                                                       </td><td>Classical N, P, K Factorial Experiment                                                    </td></tr>\n",
       "\t<tr><td>MASS                                                                                      </td><td>npr1                                                                                      </td><td>US Naval Petroleum Reserve No. 1 data                                                     </td></tr>\n",
       "\t<tr><td>MASS                                                                                      </td><td>oats                                                                                      </td><td>Data from an Oats Field Trial                                                             </td></tr>\n",
       "\t<tr><td>MASS                                                                                      </td><td>painters                                                                                  </td><td>The Painter's Data of de Piles                                                            </td></tr>\n",
       "\t<tr><td>MASS                                                                                      </td><td>petrol                                                                                    </td><td>N. L. Prater's Petrol Refinery Data                                                       </td></tr>\n",
       "\t<tr><td>MASS                                                                                      </td><td>phones                                                                                    </td><td>Belgium Phone Calls 1950-1973                                                             </td></tr>\n",
       "\t<tr><td>MASS                                                                                      </td><td>quine                                                                                     </td><td>Absenteeism from School in Rural New South Wales                                          </td></tr>\n",
       "\t<tr><td>MASS                                                                                      </td><td>road                                                                                      </td><td>Road Accident Deaths in US States                                                         </td></tr>\n",
       "\t<tr><td>MASS                                                                                      </td><td>rotifer                                                                                   </td><td>Numbers of Rotifers by Fluid Density                                                      </td></tr>\n",
       "\t<tr><td>MASS                                                                                      </td><td>ships                                                                                     </td><td>Ships Damage Data                                                                         </td></tr>\n",
       "\t<tr><td>MASS                                                                                      </td><td>shoes                                                                                     </td><td>Shoe wear data of Box, Hunter and Hunter                                                  </td></tr>\n",
       "\t<tr><td>MASS                                                                                      </td><td>shrimp                                                                                    </td><td>Percentage of Shrimp in Shrimp Cocktail                                                   </td></tr>\n",
       "\t<tr><td>MASS                                                                                      </td><td>shuttle                                                                                   </td><td>Space Shuttle Autolander Problem                                                          </td></tr>\n",
       "\t<tr><td>MASS                                                                                      </td><td>snails                                                                                    </td><td>Snail Mortality Data                                                                      </td></tr>\n",
       "\t<tr><td>MASS                                                                                      </td><td>steam                                                                                     </td><td>The Saturated Steam Pressure Data                                                         </td></tr>\n",
       "\t<tr><td>MASS                                                                                      </td><td>stormer                                                                                   </td><td>The Stormer Viscometer Data                                                               </td></tr>\n",
       "\t<tr><td>MASS                                                                                      </td><td>survey                                                                                    </td><td>Student Survey Data                                                                       </td></tr>\n",
       "\t<tr><td>MASS                                                                                      </td><td>synth.te                                                                                  </td><td>Synthetic Classification Problem                                                          </td></tr>\n",
       "\t<tr><td>MASS                                                                                      </td><td>synth.tr                                                                                  </td><td>Synthetic Classification Problem                                                          </td></tr>\n",
       "\t<tr><td>MASS                                                                                      </td><td>topo                                                                                      </td><td>Spatial Topographic Data                                                                  </td></tr>\n",
       "\t<tr><td>MASS                                                                                      </td><td>waders                                                                                    </td><td>Counts of Waders at 15 Sites in South Africa                                              </td></tr>\n",
       "\t<tr><td>MASS                                                                                      </td><td>whiteside                                                                                 </td><td>House Insulation: Whiteside's Data                                                        </td></tr>\n",
       "\t<tr><td>MASS                                                                                      </td><td>wtloss                                                                                    </td><td>Weight Loss Data from an Obese Patient                                                    </td></tr>\n",
       "\t<tr><td>Matrix                                                                                    </td><td>CAex                                                                                      </td><td>Albers' example Matrix with \"Difficult\" Eigen Factorization                               </td></tr>\n",
       "\t<tr><td>Matrix                                                                                    </td><td>KNex                                                                                      </td><td>Koenker-Ng Example Sparse Model Matrix and Response Vector                                </td></tr>\n",
       "\t<tr><td>Matrix                                                                                    </td><td>USCounties                                                                                </td><td>USCounties Contiguity Matrix                                                              </td></tr>\n",
       "\t<tr><td>mgcv                                                                                      </td><td>columb                                                                                    </td><td>Reduced version of Columbus OH crime data                                                 </td></tr>\n",
       "\t<tr><td>mgcv                                                                                      </td><td>columb.polys                                                                              </td><td>Reduced version of Columbus OH crime data                                                 </td></tr>\n",
       "\t<tr><td>ModelMetrics                                                                              </td><td>testDF                                                                                    </td><td>Test data                                                                                 </td></tr>\n",
       "\t<tr><td>modelr                                                                                    </td><td>heights                                                                                   </td><td>Height and income data.                                                                   </td></tr>\n",
       "\t<tr><td>modelr                                                                                    </td><td>sim1                                                                                      </td><td>Simple simulated datasets                                                                 </td></tr>\n",
       "\t<tr><td>modelr                                                                                    </td><td>sim2                                                                                      </td><td>Simple simulated datasets                                                                 </td></tr>\n",
       "\t<tr><td>modelr                                                                                    </td><td>sim3                                                                                      </td><td>Simple simulated datasets                                                                 </td></tr>\n",
       "\t<tr><td>modelr                                                                                    </td><td>sim4                                                                                      </td><td>Simple simulated datasets                                                                 </td></tr>\n",
       "\t<tr><td>nlme                                                                                      </td><td>Alfalfa                                                                                   </td><td>Split-Plot Experiment on Varieties of Alfalfa                                             </td></tr>\n",
       "\t<tr><td>nlme                                                                                      </td><td>Assay                                                                                     </td><td>Bioassay on Cell Culture Plate                                                            </td></tr>\n",
       "\t<tr><td>nlme                                                                                      </td><td>BodyWeight                                                                                </td><td>Rat weight over time for different diets                                                  </td></tr>\n",
       "\t<tr><td>nlme                                                                                      </td><td>Cefamandole                                                                               </td><td>Pharmacokinetics of Cefamandole                                                           </td></tr>\n",
       "\t<tr><td>nlme                                                                                      </td><td>Dialyzer                                                                                  </td><td>High-Flux Hemodialyzer                                                                    </td></tr>\n",
       "\t<tr><td>nlme                                                                                      </td><td>Earthquake                                                                                </td><td>Earthquake Intensity                                                                      </td></tr>\n",
       "\t<tr><td>nlme                                                                                      </td><td>Fatigue                                                                                   </td><td>Cracks caused by metal fatigue                                                            </td></tr>\n",
       "\t<tr><td>nlme                                                                                      </td><td>Gasoline                                                                                  </td><td>Refinery yield of gasoline                                                                </td></tr>\n",
       "\t<tr><td>nlme                                                                                      </td><td>Glucose                                                                                   </td><td>Glucose levels over time                                                                  </td></tr>\n",
       "\t<tr><td>nlme                                                                                      </td><td>Glucose2                                                                                  </td><td>Glucose Levels Following Alcohol Ingestion                                                </td></tr>\n",
       "\t<tr><td>nlme                                                                                      </td><td>Gun                                                                                       </td><td>Methods for firing naval guns                                                             </td></tr>\n",
       "\t<tr><td>nlme                                                                                      </td><td>IGF                                                                                       </td><td>Radioimmunoassay of IGF-I Protein                                                         </td></tr>\n",
       "\t<tr><td>nlme                                                                                      </td><td>Machines                                                                                  </td><td>Productivity Scores for Machines and Workers                                              </td></tr>\n",
       "\t<tr><td>nlme                                                                                      </td><td>MathAchSchool                                                                             </td><td>School demographic data for MathAchieve                                                   </td></tr>\n",
       "\t<tr><td>nlme                                                                                      </td><td>MathAchieve                                                                               </td><td>Mathematics achievement scores                                                            </td></tr>\n",
       "\t<tr><td>nlme                                                                                      </td><td>Meat                                                                                      </td><td>Tenderness of meat                                                                        </td></tr>\n",
       "\t<tr><td>nlme                                                                                      </td><td>Milk                                                                                      </td><td>Protein content of cows' milk                                                             </td></tr>\n",
       "\t<tr><td>nlme                                                                                      </td><td>Muscle                                                                                    </td><td>Contraction of heart muscle sections                                                      </td></tr>\n",
       "\t<tr><td>nlme                                                                                      </td><td>Nitrendipene                                                                              </td><td>Assay of nitrendipene                                                                     </td></tr>\n",
       "\t<tr><td>nlme                                                                                      </td><td>Oats                                                                                      </td><td>Split-plot Experiment on Varieties of Oats                                                </td></tr>\n",
       "\t<tr><td>nlme                                                                                      </td><td>Orthodont                                                                                 </td><td>Growth curve data on an orthdontic measurement                                            </td></tr>\n",
       "\t<tr><td>nlme                                                                                      </td><td>Ovary                                                                                     </td><td>Counts of Ovarian Follicles                                                               </td></tr>\n",
       "\t<tr><td>nlme                                                                                      </td><td>Oxboys                                                                                    </td><td>Heights of Boys in Oxford                                                                 </td></tr>\n",
       "\t<tr><td>nlme                                                                                      </td><td>Oxide                                                                                     </td><td>Variability in Semiconductor Manufacturing                                                </td></tr>\n",
       "\t<tr><td>nlme                                                                                      </td><td>PBG                                                                                       </td><td>Effect of Phenylbiguanide on Blood Pressure                                               </td></tr>\n",
       "\t<tr><td>nlme                                                                                      </td><td>Phenobarb                                                                                 </td><td>Phenobarbitol Kinetics                                                                    </td></tr>\n",
       "\t<tr><td>nlme                                                                                      </td><td>Pixel                                                                                     </td><td>X-ray pixel intensities over time                                                         </td></tr>\n",
       "\t<tr><td>nlme                                                                                      </td><td>Quinidine                                                                                 </td><td>Quinidine Kinetics                                                                        </td></tr>\n",
       "\t<tr><td>nlme                                                                                      </td><td>Rail                                                                                      </td><td>Evaluation of Stress in Railway Rails                                                     </td></tr>\n",
       "\t<tr><td>nlme                                                                                      </td><td>RatPupWeight                                                                              </td><td>The weight of rat pups                                                                    </td></tr>\n",
       "\t<tr><td>nlme                                                                                      </td><td>Relaxin                                                                                   </td><td>Assay for Relaxin                                                                         </td></tr>\n",
       "\t<tr><td>nlme                                                                                      </td><td>Remifentanil                                                                              </td><td>Pharmacokinetics of remifentanil                                                          </td></tr>\n",
       "\t<tr><td>nlme                                                                                      </td><td>Soybean                                                                                   </td><td>Growth of soybean plants                                                                  </td></tr>\n",
       "\t<tr><td>nlme                                                                                      </td><td>Spruce                                                                                    </td><td>Growth of Spruce Trees                                                                    </td></tr>\n",
       "\t<tr><td>nlme                                                                                      </td><td>Tetracycline1                                                                             </td><td>Pharmacokinetics of tetracycline                                                          </td></tr>\n",
       "\t<tr><td>nlme                                                                                      </td><td>Tetracycline2                                                                             </td><td>Pharmacokinetics of tetracycline                                                          </td></tr>\n",
       "\t<tr><td>nlme                                                                                      </td><td>Wafer                                                                                     </td><td>Modeling of Analog MOS Circuits                                                           </td></tr>\n",
       "\t<tr><td>nlme                                                                                      </td><td>Wheat                                                                                     </td><td>Yields by growing conditions                                                              </td></tr>\n",
       "\t<tr><td>nlme                                                                                      </td><td>Wheat2                                                                                    </td><td>Wheat Yield Trials                                                                        </td></tr>\n",
       "\t<tr><td>nlme                                                                                      </td><td>bdf                                                                                       </td><td>Language scores                                                                           </td></tr>\n",
       "\t<tr><td>nlme                                                                                      </td><td>ergoStool                                                                                 </td><td>Ergometrics experiment with stool types                                                   </td></tr>\n",
       "\t<tr><td>plyr                                                                                      </td><td>baseball                                                                                  </td><td>Yearly batting records for all major league baseball players                              </td></tr>\n",
       "\t<tr><td>plyr                                                                                      </td><td>ozone                                                                                     </td><td>Monthly ozone measurements over Central America.                                          </td></tr>\n",
       "\t<tr><td>randomForest                                                                              </td><td>imports85                                                                                 </td><td>The Automobile Data                                                                       </td></tr>\n",
       "\t<tr><td>rbokeh                                                                                    </td><td>co2_df                                                                                    </td><td>\"co2\" dataset                                                                             </td></tr>\n",
       "\t<tr><td>rbokeh                                                                                    </td><td>elements                                                                                  </td><td>\"Periodic Table\" dataset                                                                  </td></tr>\n",
       "\t<tr><td>RCurl                                                                                     </td><td>mimeTypeExtensions                                                                        </td><td>Mapping from extension to MIME type                                                       </td></tr>\n",
       "\t<tr><td>recipes                                                                                   </td><td>Smithsonian                                                                               </td><td>Smithsonian Museums                                                                       </td></tr>\n",
       "\t<tr><td>recipes                                                                                   </td><td>biomass                                                                                   </td><td>Biomass Data                                                                              </td></tr>\n",
       "\t<tr><td>recipes                                                                                   </td><td>covers                                                                                    </td><td>Raw Cover Type Data                                                                       </td></tr>\n",
       "\t<tr><td>recipes                                                                                   </td><td>credit_data                                                                               </td><td>Credit Data                                                                               </td></tr>\n",
       "\t<tr><td>recipes                                                                                   </td><td>okc                                                                                       </td><td>OkCupid Data                                                                              </td></tr>\n",
       "\t<tr><td>reshape2                                                                                  </td><td>french_fries                                                                              </td><td>Sensory data from a french fries experiment.                                              </td></tr>\n",
       "\t<tr><td>reshape2                                                                                  </td><td>smiths                                                                                    </td><td>Demo data describing the Smiths.                                                          </td></tr>\n",
       "\t<tr><td>reshape2                                                                                  </td><td>tips                                                                                      </td><td>Tipping data                                                                              </td></tr>\n",
       "\t<tr><td>rpart                                                                                     </td><td>car.test.frame                                                                            </td><td>Automobile Data from 'Consumer Reports' 1990                                              </td></tr>\n",
       "\t<tr><td>rpart                                                                                     </td><td>car90                                                                                     </td><td>Automobile Data from 'Consumer Reports' 1990                                              </td></tr>\n",
       "\t<tr><td>rpart                                                                                     </td><td>cu.summary                                                                                </td><td>Automobile Data from 'Consumer Reports' 1990                                              </td></tr>\n",
       "\t<tr><td>rpart                                                                                     </td><td>kyphosis                                                                                  </td><td>Data on Children who have had Corrective Spinal Surgery                                   </td></tr>\n",
       "\t<tr><td>rpart                                                                                     </td><td>solder                                                                                    </td><td>Soldering of Components on Printed-Circuit Boards                                         </td></tr>\n",
       "\t<tr><td>rpart                                                                                     </td><td>solder.balance (solder)                                                                   </td><td>Soldering of Components on Printed-Circuit Boards                                         </td></tr>\n",
       "\t<tr><td>rpart                                                                                     </td><td>stagec                                                                                    </td><td>Stage C Prostate Cancer                                                                   </td></tr>\n",
       "\t<tr><td>stringr                                                                                   </td><td>fruit                                                                                     </td><td>Sample character vectors for practicing string manipulations.                             </td></tr>\n",
       "\t<tr><td>stringr                                                                                   </td><td>sentences                                                                                 </td><td>Sample character vectors for practicing string manipulations.                             </td></tr>\n",
       "\t<tr><td>stringr                                                                                   </td><td>words                                                                                     </td><td>Sample character vectors for practicing string manipulations.                             </td></tr>\n",
       "\t<tr><td>survival                                                                                  </td><td>aml (leukemia)                                                                            </td><td>Acute Myelogenous Leukemia survival data                                                  </td></tr>\n",
       "\t<tr><td>survival                                                                                  </td><td>bladder                                                                                   </td><td>Bladder Cancer Recurrences                                                                </td></tr>\n",
       "\t<tr><td>survival                                                                                  </td><td>bladder1 (bladder)                                                                        </td><td>Bladder Cancer Recurrences                                                                </td></tr>\n",
       "\t<tr><td>survival                                                                                  </td><td>bladder2 (bladder)                                                                        </td><td>Bladder Cancer Recurrences                                                                </td></tr>\n",
       "\t<tr><td>survival                                                                                  </td><td>cancer                                                                                    </td><td>NCCTG Lung Cancer Data                                                                    </td></tr>\n",
       "\t<tr><td>survival                                                                                  </td><td>capacitor (reliability)                                                                   </td><td>Reliability data sets                                                                     </td></tr>\n",
       "\t<tr><td>survival                                                                                  </td><td>cgd                                                                                       </td><td>Chronic Granulotamous Disease data                                                        </td></tr>\n",
       "\t<tr><td>survival                                                                                  </td><td>cgd0 (cgd)                                                                                </td><td>Chronic Granulotomous Disease data                                                        </td></tr>\n",
       "\t<tr><td>survival                                                                                  </td><td>colon                                                                                     </td><td>Chemotherapy for Stage B/C colon cancer                                                   </td></tr>\n",
       "\t<tr><td>survival                                                                                  </td><td>cracks (reliability)                                                                      </td><td>Reliability data sets                                                                     </td></tr>\n",
       "\t<tr><td>survival                                                                                  </td><td>diabetic                                                                                  </td><td>Ddiabetic retinopathy                                                                     </td></tr>\n",
       "\t<tr><td>survival                                                                                  </td><td>flchain                                                                                   </td><td>Assay of serum free light chain for 7874 subjects.                                        </td></tr>\n",
       "\t<tr><td>survival                                                                                  </td><td>genfan (reliability)                                                                      </td><td>Reliability data sets                                                                     </td></tr>\n",
       "\t<tr><td>survival                                                                                  </td><td>heart                                                                                     </td><td>Stanford Heart Transplant data                                                            </td></tr>\n",
       "\t<tr><td>survival                                                                                  </td><td>ifluid (reliability)                                                                      </td><td>Reliability data sets                                                                     </td></tr>\n",
       "\t<tr><td>survival                                                                                  </td><td>imotor (reliability)                                                                      </td><td>Reliability data sets                                                                     </td></tr>\n",
       "\t<tr><td>survival                                                                                  </td><td>jasa (heart)                                                                              </td><td>Stanford Heart Transplant data                                                            </td></tr>\n",
       "\t<tr><td>survival                                                                                  </td><td>jasa1 (heart)                                                                             </td><td>Stanford Heart Transplant data                                                            </td></tr>\n",
       "\t<tr><td>survival                                                                                  </td><td>kidney                                                                                    </td><td>Kidney catheter data                                                                      </td></tr>\n",
       "\t<tr><td>survival                                                                                  </td><td>leukemia                                                                                  </td><td>Acute Myelogenous Leukemia survival data                                                  </td></tr>\n",
       "\t<tr><td>survival                                                                                  </td><td>logan                                                                                     </td><td>Data from the 1972-78 GSS data used by Logan                                              </td></tr>\n",
       "\t<tr><td>survival                                                                                  </td><td>lung                                                                                      </td><td>NCCTG Lung Cancer Data                                                                    </td></tr>\n",
       "\t<tr><td>survival                                                                                  </td><td>mgus                                                                                      </td><td>Monoclonal gammopathy data                                                                </td></tr>\n",
       "\t<tr><td>survival                                                                                  </td><td>mgus1 (mgus)                                                                              </td><td>Monoclonal gammopathy data                                                                </td></tr>\n",
       "\t<tr><td>survival                                                                                  </td><td>mgus2                                                                                     </td><td>Monoclonal gammopathy data                                                                </td></tr>\n",
       "\t<tr><td>survival                                                                                  </td><td>myeloid                                                                                   </td><td>Acute myeloid leukemia                                                                    </td></tr>\n",
       "\t<tr><td>survival                                                                                  </td><td>nwtco                                                                                     </td><td>Data from the National Wilm's Tumor Study                                                 </td></tr>\n",
       "\t<tr><td>survival                                                                                  </td><td>ovarian                                                                                   </td><td>Ovarian Cancer Survival Data                                                              </td></tr>\n",
       "\t<tr><td>survival                                                                                  </td><td>pbc                                                                                       </td><td>Mayo Clinic Primary Biliary Cirrhosis Data                                                </td></tr>\n",
       "\t<tr><td>survival                                                                                  </td><td>pbcseq (pbc)                                                                              </td><td>Mayo Clinic Primary Biliary Cirrhosis, sequential data                                    </td></tr>\n",
       "\t<tr><td>survival                                                                                  </td><td>rats                                                                                      </td><td>Rat treatment data from Mantel et al                                                      </td></tr>\n",
       "\t<tr><td>survival                                                                                  </td><td>rats2 (rats)                                                                              </td><td>Rat data from Gail et al.                                                                 </td></tr>\n",
       "\t<tr><td>survival                                                                                  </td><td>retinopathy                                                                               </td><td>Diabetic Retinopathy                                                                      </td></tr>\n",
       "\t<tr><td>survival                                                                                  </td><td>rhDNase                                                                                   </td><td>rhDNASE data set                                                                          </td></tr>\n",
       "\t<tr><td>survival                                                                                  </td><td>solder                                                                                    </td><td>Data from a soldering experiment                                                          </td></tr>\n",
       "\t<tr><td>survival                                                                                  </td><td>stanford2                                                                                 </td><td>More Stanford Heart Transplant data                                                       </td></tr>\n",
       "\t<tr><td>survival                                                                                  </td><td>survexp.mn (survexp)                                                                      </td><td>Census Data Sets for the Expected Survival and Person Years Functions                     </td></tr>\n",
       "\t<tr><td>survival                                                                                  </td><td>survexp.us (survexp)                                                                      </td><td>Census Data Sets for the Expected Survival and Person Years Functions                     </td></tr>\n",
       "\t<tr><td>survival                                                                                  </td><td>survexp.usr (survexp)                                                                     </td><td>Census Data Sets for the Expected Survival and Person Years Functions                     </td></tr>\n",
       "\t<tr><td>survival                                                                                  </td><td>tobin                                                                                     </td><td>Tobin's Tobit data                                                                        </td></tr>\n",
       "\t<tr><td>survival                                                                                  </td><td>transplant                                                                                </td><td>Liver transplant waiting list                                                             </td></tr>\n",
       "\t<tr><td>survival                                                                                  </td><td>turbine (reliability)                                                                     </td><td>Reliability data sets                                                                     </td></tr>\n",
       "\t<tr><td>survival                                                                                  </td><td>udca                                                                                      </td><td>Data from a trial of usrodeoxycholic acid                                                 </td></tr>\n",
       "\t<tr><td>survival                                                                                  </td><td>udca1 (udca)                                                                              </td><td>Data from a trial of usrodeoxycholic acid                                                 </td></tr>\n",
       "\t<tr><td>survival                                                                                  </td><td>udca2 (udca)                                                                              </td><td>Data from a trial of usrodeoxycholic acid                                                 </td></tr>\n",
       "\t<tr><td>survival                                                                                  </td><td>uspop2                                                                                    </td><td>Projected US Population                                                                   </td></tr>\n",
       "\t<tr><td>survival                                                                                  </td><td>valveSeat (reliability)                                                                   </td><td>Reliability data sets                                                                     </td></tr>\n",
       "\t<tr><td>survival                                                                                  </td><td>veteran                                                                                   </td><td>Veterans' Administration Lung Cancer study                                                </td></tr>\n",
       "\t<tr><td>tidyr                                                                                     </td><td>population                                                                                </td><td>World Health Organization TB data                                                         </td></tr>\n",
       "\t<tr><td>tidyr                                                                                     </td><td>smiths                                                                                    </td><td>Some data about the Smith family.                                                         </td></tr>\n",
       "\t<tr><td>tidyr                                                                                     </td><td>table1                                                                                    </td><td>Example tabular representations                                                           </td></tr>\n",
       "\t<tr><td>tidyr                                                                                     </td><td>table2                                                                                    </td><td>Example tabular representations                                                           </td></tr>\n",
       "\t<tr><td>tidyr                                                                                     </td><td>table3                                                                                    </td><td>Example tabular representations                                                           </td></tr>\n",
       "\t<tr><td>tidyr                                                                                     </td><td>table4a                                                                                   </td><td>Example tabular representations                                                           </td></tr>\n",
       "\t<tr><td>tidyr                                                                                     </td><td>table4b                                                                                   </td><td>Example tabular representations                                                           </td></tr>\n",
       "\t<tr><td>tidyr                                                                                     </td><td>table5                                                                                    </td><td>Example tabular representations                                                           </td></tr>\n",
       "\t<tr><td>tidyr                                                                                     </td><td>who                                                                                       </td><td>World Health Organization TB data                                                         </td></tr>\n",
       "\t<tr><td>TTR                                                                                       </td><td>ttrc                                                                                      </td><td>Technical Trading Rule Composite data                                                     </td></tr>\n",
       "\t<tr><td>viridisLite                                                                               </td><td>viridis.map                                                                               </td><td>Original 'viridis'and 'cividis' color map                                                 </td></tr>\n",
       "\t<tr><td>xtable                                                                                    </td><td>tli                                                                                       </td><td>Math scores from Texas Assessment of Academic Skills (TAAS)                               </td></tr>\n",
       "\t<tr><td>xts                                                                                       </td><td>sample_matrix                                                                             </td><td>Sample Data Matrix For xts Example and Unit Testing                                       </td></tr>\n",
       "</tbody>\n",
       "</table>\n",
       "\n"
      ],
      "text/plain": [
       "Data sets in package 'bit64':\n",
       "\n",
       "benchmark64.data        Results of performance measurement on a Core i7\n",
       "                        Lenovo T410 8 GB RAM under Windows 7 64bit\n",
       "optimizer64.data        Results of performance measurement on a Core i7\n",
       "                        Lenovo T410 8 GB RAM under Windows 7 64bit\n",
       "Data sets in package 'boot':\n",
       "\n",
       "acme                    Monthly Excess Returns\n",
       "aids                    Delay in AIDS Reporting in England and Wales\n",
       "aircondit               Failures of Air-conditioning Equipment\n",
       "aircondit7              Failures of Air-conditioning Equipment\n",
       "amis                    Car Speeding and Warning Signs\n",
       "aml                     Remission Times for Acute Myelogenous Leukaemia\n",
       "beaver                  Beaver Body Temperature Data\n",
       "bigcity                 Population of U.S. Cities\n",
       "brambles                Spatial Location of Bramble Canes\n",
       "breslow                 Smoking Deaths Among Doctors\n",
       "calcium                 Calcium Uptake Data\n",
       "cane                    Sugar-cane Disease Data\n",
       "capability              Simulated Manufacturing Process Data\n",
       "catsM                   Weight Data for Domestic Cats\n",
       "cav                     Position of Muscle Caveolae\n",
       "cd4                     CD4 Counts for HIV-Positive Patients\n",
       "cd4.nested              Nested Bootstrap of cd4 data\n",
       "channing                Channing House Data\n",
       "city                    Population of U.S. Cities\n",
       "claridge                Genetic Links to Left-handedness\n",
       "cloth                   Number of Flaws in Cloth\n",
       "co.transfer             Carbon Monoxide Transfer\n",
       "coal                    Dates of Coal Mining Disasters\n",
       "darwin                  Darwin's Plant Height Differences\n",
       "dogs                    Cardiac Data for Domestic Dogs\n",
       "downs.bc                Incidence of Down's Syndrome in British\n",
       "                        Columbia\n",
       "ducks                   Behavioral and Plumage Characteristics of\n",
       "                        Hybrid Ducks\n",
       "fir                     Counts of Balsam-fir Seedlings\n",
       "frets                   Head Dimensions in Brothers\n",
       "grav                    Acceleration Due to Gravity\n",
       "gravity                 Acceleration Due to Gravity\n",
       "hirose                  Failure Time of PET Film\n",
       "islay                   Jura Quartzite Azimuths on Islay\n",
       "manaus                  Average Heights of the Rio Negro river at\n",
       "                        Manaus\n",
       "melanoma                Survival from Malignant Melanoma\n",
       "motor                   Data from a Simulated Motorcycle Accident\n",
       "neuro                   Neurophysiological Point Process Data\n",
       "nitrofen                Toxicity of Nitrofen in Aquatic Systems\n",
       "nodal                   Nodal Involvement in Prostate Cancer\n",
       "nuclear                 Nuclear Power Station Construction Data\n",
       "paulsen                 Neurotransmission in Guinea Pig Brains\n",
       "poisons                 Animal Survival Times\n",
       "polar                   Pole Positions of New Caledonian Laterites\n",
       "remission               Cancer Remission and Cell Activity\n",
       "salinity                Water Salinity and River Discharge\n",
       "survival                Survival of Rats after Radiation Doses\n",
       "tau                     Tau Particle Decay Modes\n",
       "tuna                    Tuna Sighting Data\n",
       "urine                   Urine Analysis Data\n",
       "wool                    Australian Relative Wool Prices\n",
       "Data sets in package 'broom':\n",
       "\n",
       "argument_glossary       Allowed argument names in tidiers\n",
       "column_glossary         Allowed column names in tidied tibbles\n",
       "Data sets in package 'caret':\n",
       "\n",
       "GermanCredit            German Credit Data\n",
       "Sacramento              Sacramento CA Home Prices\n",
       "absorp (tecator)        Fat, Water and Protein Content of Meat Samples\n",
       "bbbDescr (BloodBrain)   Blood Brain Barrier Data\n",
       "cars                    Kelly Blue Book resale data for 2005 model year\n",
       "                        GM cars\n",
       "cox2Class (cox2)        COX-2 Activity Data\n",
       "cox2Descr (cox2)        COX-2 Activity Data\n",
       "cox2IC50 (cox2)         COX-2 Activity Data\n",
       "dhfr                    Dihydrofolate Reductase Inhibitors Data\n",
       "endpoints (tecator)     Fat, Water and Protein Content of Meat Samples\n",
       "fattyAcids (oil)        Fatty acid composition of commercial oils\n",
       "logBBB (BloodBrain)     Blood Brain Barrier Data\n",
       "mdrrClass (mdrr)        Multidrug Resistance Reversal (MDRR) Agent Data\n",
       "mdrrDescr (mdrr)        Multidrug Resistance Reversal (MDRR) Agent Data\n",
       "oilType (oil)           Fatty acid composition of commercial oils\n",
       "potteryClass (pottery)\n",
       "                        Pottery from Pre-Classical Sites in Italy\n",
       "scat                    Morphometric Data on Scat\n",
       "scat_orig (scat)        Morphometric Data on Scat\n",
       "segmentationData        Cell Body Segmentation\n",
       "Data sets in package 'cluster':\n",
       "\n",
       "agriculture             European Union Agricultural Workforces\n",
       "animals                 Attributes of Animals\n",
       "chorSub                 Subset of C-horizon of Kola Data\n",
       "flower                  Flower Characteristics\n",
       "plantTraits             Plant Species Traits Data\n",
       "pluton                  Isotopic Composition Plutonium Batches\n",
       "ruspini                 Ruspini Data\n",
       "votes.repub             Votes for Republican Candidate in Presidential\n",
       "                        Elections\n",
       "xclara                  Bivariate Data Set with 3 Clusters\n",
       "Data sets in package 'colorspace':\n",
       "\n",
       "USSouthPolygon          Polygon for County Map of US South States:\n",
       "                        Alabama, Georgia, and South Carolina\n",
       "max_chroma_table        Compute Maximum Chroma for Given Hue and\n",
       "                        Luminance in HCL\n",
       "Data sets in package 'curl':\n",
       "\n",
       "curl_symbols            List curl version and options.\n",
       "Data sets in package 'datasets':\n",
       "\n",
       "AirPassengers           Monthly Airline Passenger Numbers 1949-1960\n",
       "BJsales                 Sales Data with Leading Indicator\n",
       "BJsales.lead (BJsales)\n",
       "                        Sales Data with Leading Indicator\n",
       "BOD                     Biochemical Oxygen Demand\n",
       "CO2                     Carbon Dioxide Uptake in Grass Plants\n",
       "ChickWeight             Weight versus age of chicks on different diets\n",
       "DNase                   Elisa assay of DNase\n",
       "EuStockMarkets          Daily Closing Prices of Major European Stock\n",
       "                        Indices, 1991-1998\n",
       "Formaldehyde            Determination of Formaldehyde\n",
       "HairEyeColor            Hair and Eye Color of Statistics Students\n",
       "Harman23.cor            Harman Example 2.3\n",
       "Harman74.cor            Harman Example 7.4\n",
       "Indometh                Pharmacokinetics of Indomethacin\n",
       "InsectSprays            Effectiveness of Insect Sprays\n",
       "JohnsonJohnson          Quarterly Earnings per Johnson & Johnson Share\n",
       "LakeHuron               Level of Lake Huron 1875-1972\n",
       "LifeCycleSavings        Intercountry Life-Cycle Savings Data\n",
       "Loblolly                Growth of Loblolly pine trees\n",
       "Nile                    Flow of the River Nile\n",
       "Orange                  Growth of Orange Trees\n",
       "OrchardSprays           Potency of Orchard Sprays\n",
       "PlantGrowth             Results from an Experiment on Plant Growth\n",
       "Puromycin               Reaction Velocity of an Enzymatic Reaction\n",
       "Seatbelts               Road Casualties in Great Britain 1969-84\n",
       "Theoph                  Pharmacokinetics of Theophylline\n",
       "Titanic                 Survival of passengers on the Titanic\n",
       "ToothGrowth             The Effect of Vitamin C on Tooth Growth in\n",
       "                        Guinea Pigs\n",
       "UCBAdmissions           Student Admissions at UC Berkeley\n",
       "UKDriverDeaths          Road Casualties in Great Britain 1969-84\n",
       "UKgas                   UK Quarterly Gas Consumption\n",
       "USAccDeaths             Accidental Deaths in the US 1973-1978\n",
       "USArrests               Violent Crime Rates by US State\n",
       "USJudgeRatings          Lawyers' Ratings of State Judges in the US\n",
       "                        Superior Court\n",
       "USPersonalExpenditure   Personal Expenditure Data\n",
       "UScitiesD               Distances Between European Cities and Between\n",
       "                        US Cities\n",
       "VADeaths                Death Rates in Virginia (1940)\n",
       "WWWusage                Internet Usage per Minute\n",
       "WorldPhones             The World's Telephones\n",
       "ability.cov             Ability and Intelligence Tests\n",
       "airmiles                Passenger Miles on Commercial US Airlines,\n",
       "                        1937-1960\n",
       "airquality              New York Air Quality Measurements\n",
       "anscombe                Anscombe's Quartet of 'Identical' Simple Linear\n",
       "                        Regressions\n",
       "attenu                  The Joyner-Boore Attenuation Data\n",
       "attitude                The Chatterjee-Price Attitude Data\n",
       "austres                 Quarterly Time Series of the Number of\n",
       "                        Australian Residents\n",
       "beaver1 (beavers)       Body Temperature Series of Two Beavers\n",
       "beaver2 (beavers)       Body Temperature Series of Two Beavers\n",
       "cars                    Speed and Stopping Distances of Cars\n",
       "chickwts                Chicken Weights by Feed Type\n",
       "co2                     Mauna Loa Atmospheric CO2 Concentration\n",
       "crimtab                 Student's 3000 Criminals Data\n",
       "discoveries             Yearly Numbers of Important Discoveries\n",
       "esoph                   Smoking, Alcohol and (O)esophageal Cancer\n",
       "euro                    Conversion Rates of Euro Currencies\n",
       "euro.cross (euro)       Conversion Rates of Euro Currencies\n",
       "eurodist                Distances Between European Cities and Between\n",
       "                        US Cities\n",
       "faithful                Old Faithful Geyser Data\n",
       "fdeaths (UKLungDeaths)\n",
       "                        Monthly Deaths from Lung Diseases in the UK\n",
       "freeny                  Freeny's Revenue Data\n",
       "freeny.x (freeny)       Freeny's Revenue Data\n",
       "freeny.y (freeny)       Freeny's Revenue Data\n",
       "infert                  Infertility after Spontaneous and Induced\n",
       "                        Abortion\n",
       "iris                    Edgar Anderson's Iris Data\n",
       "iris3                   Edgar Anderson's Iris Data\n",
       "islands                 Areas of the World's Major Landmasses\n",
       "ldeaths (UKLungDeaths)\n",
       "                        Monthly Deaths from Lung Diseases in the UK\n",
       "lh                      Luteinizing Hormone in Blood Samples\n",
       "longley                 Longley's Economic Regression Data\n",
       "lynx                    Annual Canadian Lynx trappings 1821-1934\n",
       "mdeaths (UKLungDeaths)\n",
       "                        Monthly Deaths from Lung Diseases in the UK\n",
       "morley                  Michelson Speed of Light Data\n",
       "mtcars                  Motor Trend Car Road Tests\n",
       "nhtemp                  Average Yearly Temperatures in New Haven\n",
       "nottem                  Average Monthly Temperatures at Nottingham,\n",
       "                        1920-1939\n",
       "npk                     Classical N, P, K Factorial Experiment\n",
       "occupationalStatus      Occupational Status of Fathers and their Sons\n",
       "precip                  Annual Precipitation in US Cities\n",
       "presidents              Quarterly Approval Ratings of US Presidents\n",
       "pressure                Vapor Pressure of Mercury as a Function of\n",
       "                        Temperature\n",
       "quakes                  Locations of Earthquakes off Fiji\n",
       "randu                   Random Numbers from Congruential Generator\n",
       "                        RANDU\n",
       "rivers                  Lengths of Major North American Rivers\n",
       "rock                    Measurements on Petroleum Rock Samples\n",
       "sleep                   Student's Sleep Data\n",
       "stack.loss (stackloss)\n",
       "                        Brownlee's Stack Loss Plant Data\n",
       "stack.x (stackloss)     Brownlee's Stack Loss Plant Data\n",
       "stackloss               Brownlee's Stack Loss Plant Data\n",
       "state.abb (state)       US State Facts and Figures\n",
       "state.area (state)      US State Facts and Figures\n",
       "state.center (state)    US State Facts and Figures\n",
       "state.division (state)\n",
       "                        US State Facts and Figures\n",
       "state.name (state)      US State Facts and Figures\n",
       "state.region (state)    US State Facts and Figures\n",
       "state.x77 (state)       US State Facts and Figures\n",
       "sunspot.month           Monthly Sunspot Data, from 1749 to \"Present\"\n",
       "sunspot.year            Yearly Sunspot Data, 1700-1988\n",
       "sunspots                Monthly Sunspot Numbers, 1749-1983\n",
       "swiss                   Swiss Fertility and Socioeconomic Indicators\n",
       "                        (1888) Data\n",
       "treering                Yearly Treering Data, -6000-1979\n",
       "trees                   Diameter, Height and Volume for Black Cherry\n",
       "                        Trees\n",
       "uspop                   Populations Recorded by the US Census\n",
       "volcano                 Topographic Information on Auckland's Maunga\n",
       "                        Whau Volcano\n",
       "warpbreaks              The Number of Breaks in Yarn during Weaving\n",
       "women                   Average Heights and Weights for American Women\n",
       "Data sets in package 'dichromat':\n",
       "\n",
       "dalton                  Effects of Daltonism (Red-Green Color\n",
       "                        Blindness)\n",
       "dalton.colors (dalton)\n",
       "                        Effects of Daltonism (Red-Green Color\n",
       "                        Blindness)\n",
       "Data sets in package 'dplyr':\n",
       "\n",
       "band_instruments        Band membership\n",
       "band_instruments2       Band membership\n",
       "band_members            Band membership\n",
       "nasa                    NASA spatio-temporal data\n",
       "starwars                Starwars characters\n",
       "storms                  Storm tracks data\n",
       "Data sets in package 'forcats':\n",
       "\n",
       "gss_cat                 A sample of categorical variables from the\n",
       "                        General Social survey\n",
       "Data sets in package 'ggplot2':\n",
       "\n",
       "diamonds                Prices of 50,000 round cut diamonds\n",
       "economics               US economic time series\n",
       "economics_long          US economic time series\n",
       "faithfuld               2d density estimate of Old Faithful data\n",
       "luv_colours             'colors()' in Luv space\n",
       "midwest                 Midwest demographics\n",
       "mpg                     Fuel economy data from 1999 and 2008 for 38\n",
       "                        popular models of car\n",
       "msleep                  An updated and expanded version of the mammals\n",
       "                        sleep dataset\n",
       "presidential            Terms of 11 presidents from Eisenhower to Obama\n",
       "seals                   Vector field of seal movements\n",
       "txhousing               Housing sales in TX\n",
       "Data sets in package 'glmnet':\n",
       "\n",
       "beta_CVX (CVXResults)   Simulated data for the glmnet vignette\n",
       "x (BinomialExample)     Simulated data for the glmnet vignette\n",
       "x (CoxExample)          Simulated data for the glmnet vignette\n",
       "x (MultiGaussianExample)\n",
       "                        Simulated data for the glmnet vignette\n",
       "x (MultinomialExample)\n",
       "                        Simulated data for the glmnet vignette\n",
       "x (PoissonExample)      Simulated data for the glmnet vignette\n",
       "x (QuickStartExample)   Simulated data for the glmnet vignette\n",
       "x (SparseExample)       Simulated data for the glmnet vignette\n",
       "y (BinomialExample)     Simulated data for the glmnet vignette\n",
       "y (CoxExample)          Simulated data for the glmnet vignette\n",
       "y (MultiGaussianExample)\n",
       "                        Simulated data for the glmnet vignette\n",
       "y (MultinomialExample)\n",
       "                        Simulated data for the glmnet vignette\n",
       "y (PoissonExample)      Simulated data for the glmnet vignette\n",
       "y (QuickStartExample)   Simulated data for the glmnet vignette\n",
       "y (SparseExample)       Simulated data for the glmnet vignette\n",
       "Data sets in package 'hexbin':\n",
       "\n",
       "NHANES                  NHANES Data : National Health and Nutrition\n",
       "                        Examination Survey\n",
       "Data sets in package 'ipred':\n",
       "\n",
       "DLBCL                   Diffuse Large B-Cell Lymphoma\n",
       "GlaucomaMVF             Glaucoma Database\n",
       "Smoking                 Smoking Styles\n",
       "dystrophy               Detection of muscular dystrophy carriers.\n",
       "Data sets in package 'lattice':\n",
       "\n",
       "USMortality             Mortality Rates in US by Cause and Gender\n",
       "USRegionalMortality     Mortality Rates in US by Cause and Gender\n",
       "barley                  Yield data from a Minnesota barley trial\n",
       "environmental           Atmospheric environmental conditions in New\n",
       "                        York City\n",
       "ethanol                 Engine exhaust fumes from burning ethanol\n",
       "melanoma                Melanoma skin cancer incidence\n",
       "singer                  Heights of New York Choral Society singers\n",
       "Data sets in package 'lava':\n",
       "\n",
       "bmd                     Longitudinal Bone Mineral Density Data (Wide\n",
       "                        format)\n",
       "bmidata                 Data\n",
       "brisa                   Simulated data\n",
       "calcium                 Longitudinal Bone Mineral Density Data\n",
       "hubble                  Hubble data\n",
       "hubble2                 Hubble data\n",
       "indoorenv               Data\n",
       "missingdata             Missing data example\n",
       "nldata                  Example data (nonlinear model)\n",
       "nsem                    Example SEM data (nonlinear)\n",
       "semdata                 Example SEM data\n",
       "serotonin               Serotonin data\n",
       "serotonin2              Data\n",
       "twindata                Twin menarche data\n",
       "Data sets in package 'lubridate':\n",
       "\n",
       "lakers                  Lakers 2008-2009 basketball data set\n",
       "Data sets in package 'maps':\n",
       "\n",
       "canada.cities           Database of Canadian cities\n",
       "county.fips             FIPS county codes for US County Map\n",
       "countyMapEnv            United States County Map\n",
       "franceMapEnv            France Map\n",
       "iso3166                 ISO 3166 country codes (2 or 3 letters) and\n",
       "                        sovereignty.\n",
       "italyMapEnv             Italy Map\n",
       "lakesMapEnv             World lakes database\n",
       "legacy_world2MapEnv     Legacy low resolution World Map. DEPRECATED!\n",
       "legacy_worldMapEnv      Legacy low resolution World Map. DEPRECATED!\n",
       "nzMapEnv                New Zealand Basic Map\n",
       "ozone                   Sample datasets\n",
       "state.carto.center      United States State Population Cartogram Map\n",
       "state.cartoMapEnv       United States State Population Cartogram Map\n",
       "state.fips              FIPS state codes for US 48 State Map\n",
       "state.vbm.center        United States State Visibility Base Map\n",
       "state.vbmMapEnv         United States State Visibility Base Map\n",
       "stateMapEnv             United States State Boundaries Map\n",
       "unemp                   Sample datasets\n",
       "us.cities               Database of US cities\n",
       "usaMapEnv               United States Coast Map\n",
       "votes.repub             Sample datasets\n",
       "world.cities            Database of world cities\n",
       "world2MapEnv            Pacific Centric Low resolution World Map\n",
       "worldMapEnv             Low (mid) resolution World Map\n",
       "Data sets in package 'MASS':\n",
       "\n",
       "Aids2                   Australian AIDS Survival Data\n",
       "Animals                 Brain and Body Weights for 28 Species\n",
       "Boston                  Housing Values in Suburbs of Boston\n",
       "Cars93                  Data from 93 Cars on Sale in the USA in 1993\n",
       "Cushings                Diagnostic Tests on Patients with Cushing's\n",
       "                        Syndrome\n",
       "DDT                     DDT in Kale\n",
       "GAGurine                Level of GAG in Urine of Children\n",
       "Insurance               Numbers of Car Insurance claims\n",
       "Melanoma                Survival from Malignant Melanoma\n",
       "OME                     Tests of Auditory Perception in Children with\n",
       "                        OME\n",
       "Pima.te                 Diabetes in Pima Indian Women\n",
       "Pima.tr                 Diabetes in Pima Indian Women\n",
       "Pima.tr2                Diabetes in Pima Indian Women\n",
       "Rabbit                  Blood Pressure in Rabbits\n",
       "Rubber                  Accelerated Testing of Tyre Rubber\n",
       "SP500                   Returns of the Standard and Poors 500\n",
       "Sitka                   Growth Curves for Sitka Spruce Trees in 1988\n",
       "Sitka89                 Growth Curves for Sitka Spruce Trees in 1989\n",
       "Skye                    AFM Compositions of Aphyric Skye Lavas\n",
       "Traffic                 Effect of Swedish Speed Limits on Accidents\n",
       "UScereal                Nutritional and Marketing Information on US\n",
       "                        Cereals\n",
       "UScrime                 The Effect of Punishment Regimes on Crime Rates\n",
       "VA                      Veteran's Administration Lung Cancer Trial\n",
       "abbey                   Determinations of Nickel Content\n",
       "accdeaths               Accidental Deaths in the US 1973-1978\n",
       "anorexia                Anorexia Data on Weight Change\n",
       "bacteria                Presence of Bacteria after Drug Treatments\n",
       "beav1                   Body Temperature Series of Beaver 1\n",
       "beav2                   Body Temperature Series of Beaver 2\n",
       "biopsy                  Biopsy Data on Breast Cancer Patients\n",
       "birthwt                 Risk Factors Associated with Low Infant Birth\n",
       "                        Weight\n",
       "cabbages                Data from a cabbage field trial\n",
       "caith                   Colours of Eyes and Hair of People in Caithness\n",
       "cats                    Anatomical Data from Domestic Cats\n",
       "cement                  Heat Evolved by Setting Cements\n",
       "chem                    Copper in Wholemeal Flour\n",
       "coop                    Co-operative Trial in Analytical Chemistry\n",
       "cpus                    Performance of Computer CPUs\n",
       "crabs                   Morphological Measurements on Leptograpsus\n",
       "                        Crabs\n",
       "deaths                  Monthly Deaths from Lung Diseases in the UK\n",
       "drivers                 Deaths of Car Drivers in Great Britain 1969-84\n",
       "eagles                  Foraging Ecology of Bald Eagles\n",
       "epil                    Seizure Counts for Epileptics\n",
       "farms                   Ecological Factors in Farm Management\n",
       "fgl                     Measurements of Forensic Glass Fragments\n",
       "forbes                  Forbes' Data on Boiling Points in the Alps\n",
       "galaxies                Velocities for 82 Galaxies\n",
       "gehan                   Remission Times of Leukaemia Patients\n",
       "genotype                Rat Genotype Data\n",
       "geyser                  Old Faithful Geyser Data\n",
       "gilgais                 Line Transect of Soil in Gilgai Territory\n",
       "hills                   Record Times in Scottish Hill Races\n",
       "housing                 Frequency Table from a Copenhagen Housing\n",
       "                        Conditions Survey\n",
       "immer                   Yields from a Barley Field Trial\n",
       "leuk                    Survival Times and White Blood Counts for\n",
       "                        Leukaemia Patients\n",
       "mammals                 Brain and Body Weights for 62 Species of Land\n",
       "                        Mammals\n",
       "mcycle                  Data from a Simulated Motorcycle Accident\n",
       "menarche                Age of Menarche in Warsaw\n",
       "michelson               Michelson's Speed of Light Data\n",
       "minn38                  Minnesota High School Graduates of 1938\n",
       "motors                  Accelerated Life Testing of Motorettes\n",
       "muscle                  Effect of Calcium Chloride on Muscle\n",
       "                        Contraction in Rat Hearts\n",
       "newcomb                 Newcomb's Measurements of the Passage Time of\n",
       "                        Light\n",
       "nlschools               Eighth-Grade Pupils in the Netherlands\n",
       "npk                     Classical N, P, K Factorial Experiment\n",
       "npr1                    US Naval Petroleum Reserve No. 1 data\n",
       "oats                    Data from an Oats Field Trial\n",
       "painters                The Painter's Data of de Piles\n",
       "petrol                  N. L. Prater's Petrol Refinery Data\n",
       "phones                  Belgium Phone Calls 1950-1973\n",
       "quine                   Absenteeism from School in Rural New South\n",
       "                        Wales\n",
       "road                    Road Accident Deaths in US States\n",
       "rotifer                 Numbers of Rotifers by Fluid Density\n",
       "ships                   Ships Damage Data\n",
       "shoes                   Shoe wear data of Box, Hunter and Hunter\n",
       "shrimp                  Percentage of Shrimp in Shrimp Cocktail\n",
       "shuttle                 Space Shuttle Autolander Problem\n",
       "snails                  Snail Mortality Data\n",
       "steam                   The Saturated Steam Pressure Data\n",
       "stormer                 The Stormer Viscometer Data\n",
       "survey                  Student Survey Data\n",
       "synth.te                Synthetic Classification Problem\n",
       "synth.tr                Synthetic Classification Problem\n",
       "topo                    Spatial Topographic Data\n",
       "waders                  Counts of Waders at 15 Sites in South Africa\n",
       "whiteside               House Insulation: Whiteside's Data\n",
       "wtloss                  Weight Loss Data from an Obese Patient\n",
       "Data sets in package 'Matrix':\n",
       "\n",
       "CAex                    Albers' example Matrix with \"Difficult\" Eigen\n",
       "                        Factorization\n",
       "KNex                    Koenker-Ng Example Sparse Model Matrix and\n",
       "                        Response Vector\n",
       "USCounties              USCounties Contiguity Matrix\n",
       "Data sets in package 'mgcv':\n",
       "\n",
       "columb                  Reduced version of Columbus OH crime data\n",
       "columb.polys            Reduced version of Columbus OH crime data\n",
       "Data sets in package 'ModelMetrics':\n",
       "\n",
       "testDF                  Test data\n",
       "Data sets in package 'modelr':\n",
       "\n",
       "heights                 Height and income data.\n",
       "sim1                    Simple simulated datasets\n",
       "sim2                    Simple simulated datasets\n",
       "sim3                    Simple simulated datasets\n",
       "sim4                    Simple simulated datasets\n",
       "Data sets in package 'nlme':\n",
       "\n",
       "Alfalfa                 Split-Plot Experiment on Varieties of Alfalfa\n",
       "Assay                   Bioassay on Cell Culture Plate\n",
       "BodyWeight              Rat weight over time for different diets\n",
       "Cefamandole             Pharmacokinetics of Cefamandole\n",
       "Dialyzer                High-Flux Hemodialyzer\n",
       "Earthquake              Earthquake Intensity\n",
       "Fatigue                 Cracks caused by metal fatigue\n",
       "Gasoline                Refinery yield of gasoline\n",
       "Glucose                 Glucose levels over time\n",
       "Glucose2                Glucose Levels Following Alcohol Ingestion\n",
       "Gun                     Methods for firing naval guns\n",
       "IGF                     Radioimmunoassay of IGF-I Protein\n",
       "Machines                Productivity Scores for Machines and Workers\n",
       "MathAchSchool           School demographic data for MathAchieve\n",
       "MathAchieve             Mathematics achievement scores\n",
       "Meat                    Tenderness of meat\n",
       "Milk                    Protein content of cows' milk\n",
       "Muscle                  Contraction of heart muscle sections\n",
       "Nitrendipene            Assay of nitrendipene\n",
       "Oats                    Split-plot Experiment on Varieties of Oats\n",
       "Orthodont               Growth curve data on an orthdontic measurement\n",
       "Ovary                   Counts of Ovarian Follicles\n",
       "Oxboys                  Heights of Boys in Oxford\n",
       "Oxide                   Variability in Semiconductor Manufacturing\n",
       "PBG                     Effect of Phenylbiguanide on Blood Pressure\n",
       "Phenobarb               Phenobarbitol Kinetics\n",
       "Pixel                   X-ray pixel intensities over time\n",
       "Quinidine               Quinidine Kinetics\n",
       "Rail                    Evaluation of Stress in Railway Rails\n",
       "RatPupWeight            The weight of rat pups\n",
       "Relaxin                 Assay for Relaxin\n",
       "Remifentanil            Pharmacokinetics of remifentanil\n",
       "Soybean                 Growth of soybean plants\n",
       "Spruce                  Growth of Spruce Trees\n",
       "Tetracycline1           Pharmacokinetics of tetracycline\n",
       "Tetracycline2           Pharmacokinetics of tetracycline\n",
       "Wafer                   Modeling of Analog MOS Circuits\n",
       "Wheat                   Yields by growing conditions\n",
       "Wheat2                  Wheat Yield Trials\n",
       "bdf                     Language scores\n",
       "ergoStool               Ergometrics experiment with stool types\n",
       "Data sets in package 'plyr':\n",
       "\n",
       "baseball                Yearly batting records for all major league\n",
       "                        baseball players\n",
       "ozone                   Monthly ozone measurements over Central\n",
       "                        America.\n",
       "Data sets in package 'randomForest':\n",
       "\n",
       "imports85               The Automobile Data\n",
       "Data sets in package 'rbokeh':\n",
       "\n",
       "co2_df                  \"co2\" dataset\n",
       "elements                \"Periodic Table\" dataset\n",
       "Data sets in package 'RCurl':\n",
       "\n",
       "mimeTypeExtensions      Mapping from extension to MIME type\n",
       "Data sets in package 'recipes':\n",
       "\n",
       "Smithsonian             Smithsonian Museums\n",
       "biomass                 Biomass Data\n",
       "covers                  Raw Cover Type Data\n",
       "credit_data             Credit Data\n",
       "okc                     OkCupid Data\n",
       "Data sets in package 'reshape2':\n",
       "\n",
       "french_fries            Sensory data from a french fries experiment.\n",
       "smiths                  Demo data describing the Smiths.\n",
       "tips                    Tipping data\n",
       "Data sets in package 'rpart':\n",
       "\n",
       "car.test.frame          Automobile Data from 'Consumer Reports' 1990\n",
       "car90                   Automobile Data from 'Consumer Reports' 1990\n",
       "cu.summary              Automobile Data from 'Consumer Reports' 1990\n",
       "kyphosis                Data on Children who have had Corrective Spinal\n",
       "                        Surgery\n",
       "solder                  Soldering of Components on Printed-Circuit\n",
       "                        Boards\n",
       "solder.balance (solder)\n",
       "                        Soldering of Components on Printed-Circuit\n",
       "                        Boards\n",
       "stagec                  Stage C Prostate Cancer\n",
       "Data sets in package 'stringr':\n",
       "\n",
       "fruit                   Sample character vectors for practicing string\n",
       "                        manipulations.\n",
       "sentences               Sample character vectors for practicing string\n",
       "                        manipulations.\n",
       "words                   Sample character vectors for practicing string\n",
       "                        manipulations.\n",
       "Data sets in package 'survival':\n",
       "\n",
       "aml (leukemia)          Acute Myelogenous Leukemia survival data\n",
       "bladder                 Bladder Cancer Recurrences\n",
       "bladder1 (bladder)      Bladder Cancer Recurrences\n",
       "bladder2 (bladder)      Bladder Cancer Recurrences\n",
       "cancer                  NCCTG Lung Cancer Data\n",
       "capacitor (reliability)\n",
       "                        Reliability data sets\n",
       "cgd                     Chronic Granulotamous Disease data\n",
       "cgd0 (cgd)              Chronic Granulotomous Disease data\n",
       "colon                   Chemotherapy for Stage B/C colon cancer\n",
       "cracks (reliability)    Reliability data sets\n",
       "diabetic                Ddiabetic retinopathy\n",
       "flchain                 Assay of serum free light chain for 7874\n",
       "                        subjects.\n",
       "genfan (reliability)    Reliability data sets\n",
       "heart                   Stanford Heart Transplant data\n",
       "ifluid (reliability)    Reliability data sets\n",
       "imotor (reliability)    Reliability data sets\n",
       "jasa (heart)            Stanford Heart Transplant data\n",
       "jasa1 (heart)           Stanford Heart Transplant data\n",
       "kidney                  Kidney catheter data\n",
       "leukemia                Acute Myelogenous Leukemia survival data\n",
       "logan                   Data from the 1972-78 GSS data used by Logan\n",
       "lung                    NCCTG Lung Cancer Data\n",
       "mgus                    Monoclonal gammopathy data\n",
       "mgus1 (mgus)            Monoclonal gammopathy data\n",
       "mgus2                   Monoclonal gammopathy data\n",
       "myeloid                 Acute myeloid leukemia\n",
       "nwtco                   Data from the National Wilm's Tumor Study\n",
       "ovarian                 Ovarian Cancer Survival Data\n",
       "pbc                     Mayo Clinic Primary Biliary Cirrhosis Data\n",
       "pbcseq (pbc)            Mayo Clinic Primary Biliary Cirrhosis,\n",
       "                        sequential data\n",
       "rats                    Rat treatment data from Mantel et al\n",
       "rats2 (rats)            Rat data from Gail et al.\n",
       "retinopathy             Diabetic Retinopathy\n",
       "rhDNase                 rhDNASE data set\n",
       "solder                  Data from a soldering experiment\n",
       "stanford2               More Stanford Heart Transplant data\n",
       "survexp.mn (survexp)    Census Data Sets for the Expected Survival and\n",
       "                        Person Years Functions\n",
       "survexp.us (survexp)    Census Data Sets for the Expected Survival and\n",
       "                        Person Years Functions\n",
       "survexp.usr (survexp)   Census Data Sets for the Expected Survival and\n",
       "                        Person Years Functions\n",
       "tobin                   Tobin's Tobit data\n",
       "transplant              Liver transplant waiting list\n",
       "turbine (reliability)   Reliability data sets\n",
       "udca                    Data from a trial of usrodeoxycholic acid\n",
       "udca1 (udca)            Data from a trial of usrodeoxycholic acid\n",
       "udca2 (udca)            Data from a trial of usrodeoxycholic acid\n",
       "uspop2                  Projected US Population\n",
       "valveSeat (reliability)\n",
       "                        Reliability data sets\n",
       "veteran                 Veterans' Administration Lung Cancer study\n",
       "Data sets in package 'tidyr':\n",
       "\n",
       "population              World Health Organization TB data\n",
       "smiths                  Some data about the Smith family.\n",
       "table1                  Example tabular representations\n",
       "table2                  Example tabular representations\n",
       "table3                  Example tabular representations\n",
       "table4a                 Example tabular representations\n",
       "table4b                 Example tabular representations\n",
       "table5                  Example tabular representations\n",
       "who                     World Health Organization TB data\n",
       "Data sets in package 'TTR':\n",
       "\n",
       "ttrc                    Technical Trading Rule Composite data\n",
       "Data sets in package 'viridisLite':\n",
       "\n",
       "viridis.map             Original 'viridis'and 'cividis' color map\n",
       "Data sets in package 'xtable':\n",
       "\n",
       "tli                     Math scores from Texas Assessment of Academic\n",
       "                        Skills (TAAS)\n",
       "Data sets in package 'xts':\n",
       "\n",
       "sample_matrix           Sample Data Matrix For xts Example and Unit\n",
       "                        Testing"
      ]
     },
     "metadata": {},
     "output_type": "display_data"
    }
   ],
   "source": [
    "data(package = .packages(all.available = TRUE))"
   ]
  },
  {
   "cell_type": "code",
   "execution_count": 89,
   "metadata": {},
   "outputs": [
    {
     "data": {
      "text/html": [
       "<ol class=list-inline>\n",
       "\t<li>'.GlobalEnv'</li>\n",
       "\t<li>'package:effsize'</li>\n",
       "\t<li>'jupyter:irkernel'</li>\n",
       "\t<li>'package:stats'</li>\n",
       "\t<li>'package:graphics'</li>\n",
       "\t<li>'package:grDevices'</li>\n",
       "\t<li>'package:utils'</li>\n",
       "\t<li>'package:datasets'</li>\n",
       "\t<li>'package:methods'</li>\n",
       "\t<li>'Autoloads'</li>\n",
       "\t<li>'package:base'</li>\n",
       "</ol>\n"
      ],
      "text/latex": [
       "\\begin{enumerate*}\n",
       "\\item '.GlobalEnv'\n",
       "\\item 'package:effsize'\n",
       "\\item 'jupyter:irkernel'\n",
       "\\item 'package:stats'\n",
       "\\item 'package:graphics'\n",
       "\\item 'package:grDevices'\n",
       "\\item 'package:utils'\n",
       "\\item 'package:datasets'\n",
       "\\item 'package:methods'\n",
       "\\item 'Autoloads'\n",
       "\\item 'package:base'\n",
       "\\end{enumerate*}\n"
      ],
      "text/markdown": [
       "1. '.GlobalEnv'\n",
       "2. 'package:effsize'\n",
       "3. 'jupyter:irkernel'\n",
       "4. 'package:stats'\n",
       "5. 'package:graphics'\n",
       "6. 'package:grDevices'\n",
       "7. 'package:utils'\n",
       "8. 'package:datasets'\n",
       "9. 'package:methods'\n",
       "10. 'Autoloads'\n",
       "11. 'package:base'\n",
       "\n",
       "\n"
      ],
      "text/plain": [
       " [1] \".GlobalEnv\"        \"package:effsize\"   \"jupyter:irkernel\" \n",
       " [4] \"package:stats\"     \"package:graphics\"  \"package:grDevices\"\n",
       " [7] \"package:utils\"     \"package:datasets\"  \"package:methods\"  \n",
       "[10] \"Autoloads\"         \"package:base\"     "
      ]
     },
     "metadata": {},
     "output_type": "display_data"
    }
   ],
   "source": [
    "search()"
   ]
  },
  {
   "cell_type": "code",
   "execution_count": 90,
   "metadata": {},
   "outputs": [],
   "source": [
    "library(cluster)"
   ]
  },
  {
   "cell_type": "code",
   "execution_count": 91,
   "metadata": {},
   "outputs": [
    {
     "data": {
      "text/html": [
       "\n",
       "<table width=\"100%\" summary=\"page for animals {cluster}\"><tr><td>animals {cluster}</td><td style=\"text-align: right;\">R Documentation</td></tr></table>\n",
       "\n",
       "<h2>Attributes of Animals</h2>\n",
       "\n",
       "<h3>Description</h3>\n",
       "\n",
       "<p>This data set considers 6 binary attributes for 20 animals.\n",
       "</p>\n",
       "\n",
       "\n",
       "<h3>Usage</h3>\n",
       "\n",
       "<pre>data(animals)</pre>\n",
       "\n",
       "\n",
       "<h3>Format</h3>\n",
       "\n",
       "<p>A data frame with 20 observations on 6 variables:\n",
       "</p>\n",
       "\n",
       "<table summary=\"Rd table\">\n",
       "<tr>\n",
       " <td style=\"text-align: right;\">\n",
       "    [ , 1] </td><td style=\"text-align: left;\"> war </td><td style=\"text-align: left;\"> warm-blooded </td>\n",
       "</tr>\n",
       "<tr>\n",
       " <td style=\"text-align: right;\">\n",
       "    [ , 2] </td><td style=\"text-align: left;\"> fly </td><td style=\"text-align: left;\"> can fly </td>\n",
       "</tr>\n",
       "<tr>\n",
       " <td style=\"text-align: right;\">\n",
       "    [ , 3] </td><td style=\"text-align: left;\"> ver </td><td style=\"text-align: left;\"> vertebrate </td>\n",
       "</tr>\n",
       "<tr>\n",
       " <td style=\"text-align: right;\">\n",
       "    [ , 4] </td><td style=\"text-align: left;\"> end </td><td style=\"text-align: left;\"> endangered </td>\n",
       "</tr>\n",
       "<tr>\n",
       " <td style=\"text-align: right;\">\n",
       "    [ , 5] </td><td style=\"text-align: left;\"> gro </td><td style=\"text-align: left;\"> live in groups </td>\n",
       "</tr>\n",
       "<tr>\n",
       " <td style=\"text-align: right;\">\n",
       "    [ , 6] </td><td style=\"text-align: left;\"> hai </td><td style=\"text-align: left;\"> have hair </td>\n",
       "</tr>\n",
       "<tr>\n",
       " <td style=\"text-align: right;\">\n",
       "  </td>\n",
       "</tr>\n",
       "\n",
       "</table>\n",
       "\n",
       "<p>All variables are encoded as 1 = &lsquo;no&rsquo;, 2 = &lsquo;yes&rsquo;.\n",
       "</p>\n",
       "\n",
       "\n",
       "<h3>Details</h3>\n",
       "\n",
       "<p>This dataset is useful for illustrating monothetic (only a single\n",
       "variable is used for each split) hierarchical clustering.\n",
       "</p>\n",
       "\n",
       "\n",
       "<h3>Source</h3>\n",
       "\n",
       "<p>Leonard Kaufman and Peter J. Rousseeuw (1990):\n",
       "<em>Finding Groups in Data</em>\n",
       "(pp 297ff).\n",
       "New York: Wiley.\n",
       "</p>\n",
       "\n",
       "\n",
       "<h3>References</h3>\n",
       "\n",
       "<p>see Struyf, Hubert &amp; Rousseeuw (1996),  in <code>agnes</code>.\n",
       "</p>\n",
       "\n",
       "\n",
       "<h3>Examples</h3>\n",
       "\n",
       "<pre>\n",
       "data(animals)\n",
       "apply(animals,2, table) # simple overview\n",
       "\n",
       "ma &lt;- mona(animals)\n",
       "ma\n",
       "## Plot similar to Figure 10 in Struyf et al (1996)\n",
       "plot(ma)\n",
       "</pre>\n",
       "\n",
       "<hr /><div style=\"text-align: center;\">[Package <em>cluster</em> version 2.0.8 ]</div>"
      ],
      "text/latex": [
       "\\inputencoding{utf8}\n",
       "\\HeaderA{animals}{Attributes of Animals}{animals}\n",
       "\\keyword{datasets}{animals}\n",
       "%\n",
       "\\begin{Description}\\relax\n",
       "This data set considers 6 binary attributes for 20 animals.\n",
       "\\end{Description}\n",
       "%\n",
       "\\begin{Usage}\n",
       "\\begin{verbatim}\n",
       "data(animals)\n",
       "\\end{verbatim}\n",
       "\\end{Usage}\n",
       "%\n",
       "\\begin{Format}\n",
       "A data frame with 20 observations on 6 variables:\n",
       "\n",
       "\\Tabular{rll}{\n",
       "[ , 1] & war & warm-blooded \\\\{}\n",
       "[ , 2] & fly & can fly \\\\{}\n",
       "[ , 3] & ver & vertebrate \\\\{}\n",
       "[ , 4] & end & endangered \\\\{}\n",
       "[ , 5] & gro & live in groups \\\\{}\n",
       "[ , 6] & hai & have hair \\\\{}\n",
       "}\n",
       "All variables are encoded as 1 = `no', 2 = `yes'.\n",
       "\\end{Format}\n",
       "%\n",
       "\\begin{Details}\\relax\n",
       "This dataset is useful for illustrating monothetic (only a single\n",
       "variable is used for each split) hierarchical clustering.\n",
       "\\end{Details}\n",
       "%\n",
       "\\begin{Source}\\relax\n",
       "Leonard Kaufman and Peter J. Rousseeuw (1990):\n",
       "\\emph{Finding Groups in Data}\n",
       "(pp 297ff).\n",
       "New York: Wiley.\n",
       "\\end{Source}\n",
       "%\n",
       "\\begin{References}\\relax\n",
       "see Struyf, Hubert \\& Rousseeuw (1996),  in \\code{\\LinkA{agnes}{agnes}}.\n",
       "\\end{References}\n",
       "%\n",
       "\\begin{Examples}\n",
       "\\begin{ExampleCode}\n",
       "data(animals)\n",
       "apply(animals,2, table) # simple overview\n",
       "\n",
       "ma <- mona(animals)\n",
       "ma\n",
       "## Plot similar to Figure 10 in Struyf et al (1996)\n",
       "plot(ma)\n",
       "\\end{ExampleCode}\n",
       "\\end{Examples}"
      ],
      "text/plain": [
       "animals                package:cluster                 R Documentation\n",
       "\n",
       "_\bA_\bt_\bt_\br_\bi_\bb_\bu_\bt_\be_\bs _\bo_\bf _\bA_\bn_\bi_\bm_\ba_\bl_\bs\n",
       "\n",
       "_\bD_\be_\bs_\bc_\br_\bi_\bp_\bt_\bi_\bo_\bn:\n",
       "\n",
       "     This data set considers 6 binary attributes for 20 animals.\n",
       "\n",
       "_\bU_\bs_\ba_\bg_\be:\n",
       "\n",
       "     data(animals)\n",
       "     \n",
       "_\bF_\bo_\br_\bm_\ba_\bt:\n",
       "\n",
       "     A data frame with 20 observations on 6 variables:\n",
       "\n",
       "       [ , 1]  war  warm-blooded   \n",
       "       [ , 2]  fly  can fly        \n",
       "       [ , 3]  ver  vertebrate     \n",
       "       [ , 4]  end  endangered     \n",
       "       [ , 5]  gro  live in groups \n",
       "       [ , 6]  hai  have hair      \n",
       "      \n",
       "     All variables are encoded as 1 = `no', 2 = `yes'.\n",
       "\n",
       "_\bD_\be_\bt_\ba_\bi_\bl_\bs:\n",
       "\n",
       "     This dataset is useful for illustrating monothetic (only a single\n",
       "     variable is used for each split) hierarchical clustering.\n",
       "\n",
       "_\bS_\bo_\bu_\br_\bc_\be:\n",
       "\n",
       "     Leonard Kaufman and Peter J. Rousseeuw (1990): _Finding Groups in\n",
       "     Data_ (pp 297ff).  New York: Wiley.\n",
       "\n",
       "_\bR_\be_\bf_\be_\br_\be_\bn_\bc_\be_\bs:\n",
       "\n",
       "     see Struyf, Hubert & Rousseeuw (1996), in 'agnes'.\n",
       "\n",
       "_\bE_\bx_\ba_\bm_\bp_\bl_\be_\bs:\n",
       "\n",
       "     data(animals)\n",
       "     apply(animals,2, table) # simple overview\n",
       "     \n",
       "     ma <- mona(animals)\n",
       "     ma\n",
       "     ## Plot similar to Figure 10 in Struyf et al (1996)\n",
       "     plot(ma)\n",
       "     "
      ]
     },
     "metadata": {},
     "output_type": "display_data"
    }
   ],
   "source": [
    "?animals"
   ]
  },
  {
   "cell_type": "code",
   "execution_count": 92,
   "metadata": {},
   "outputs": [
    {
     "data": {
      "text/html": [
       "<table>\n",
       "<thead><tr><th></th><th scope=col>war</th><th scope=col>fly</th><th scope=col>ver</th><th scope=col>end</th><th scope=col>gro</th><th scope=col>hai</th></tr></thead>\n",
       "<tbody>\n",
       "\t<tr><th scope=row>ant</th><td>1 </td><td>1 </td><td>1 </td><td> 1</td><td> 2</td><td>1 </td></tr>\n",
       "\t<tr><th scope=row>bee</th><td>1 </td><td>2 </td><td>1 </td><td> 1</td><td> 2</td><td>2 </td></tr>\n",
       "\t<tr><th scope=row>cat</th><td>2 </td><td>1 </td><td>2 </td><td> 1</td><td> 1</td><td>2 </td></tr>\n",
       "\t<tr><th scope=row>cpl</th><td>1 </td><td>1 </td><td>1 </td><td> 1</td><td> 1</td><td>2 </td></tr>\n",
       "\t<tr><th scope=row>chi</th><td>2 </td><td>1 </td><td>2 </td><td> 2</td><td> 2</td><td>2 </td></tr>\n",
       "\t<tr><th scope=row>cow</th><td>2 </td><td>1 </td><td>2 </td><td> 1</td><td> 2</td><td>2 </td></tr>\n",
       "\t<tr><th scope=row>duc</th><td>2 </td><td>2 </td><td>2 </td><td> 1</td><td> 2</td><td>1 </td></tr>\n",
       "\t<tr><th scope=row>eag</th><td>2 </td><td>2 </td><td>2 </td><td> 2</td><td> 1</td><td>1 </td></tr>\n",
       "\t<tr><th scope=row>ele</th><td>2 </td><td>1 </td><td>2 </td><td> 2</td><td> 2</td><td>1 </td></tr>\n",
       "\t<tr><th scope=row>fly</th><td>1 </td><td>2 </td><td>1 </td><td> 1</td><td> 1</td><td>1 </td></tr>\n",
       "\t<tr><th scope=row>fro</th><td>1 </td><td>1 </td><td>2 </td><td> 2</td><td>NA</td><td>1 </td></tr>\n",
       "\t<tr><th scope=row>her</th><td>1 </td><td>1 </td><td>2 </td><td> 1</td><td> 2</td><td>1 </td></tr>\n",
       "\t<tr><th scope=row>lio</th><td>2 </td><td>1 </td><td>2 </td><td>NA</td><td> 2</td><td>2 </td></tr>\n",
       "\t<tr><th scope=row>liz</th><td>1 </td><td>1 </td><td>2 </td><td> 1</td><td> 1</td><td>1 </td></tr>\n",
       "\t<tr><th scope=row>lob</th><td>1 </td><td>1 </td><td>1 </td><td> 1</td><td>NA</td><td>1 </td></tr>\n",
       "\t<tr><th scope=row>man</th><td>2 </td><td>1 </td><td>2 </td><td> 2</td><td> 2</td><td>2 </td></tr>\n",
       "\t<tr><th scope=row>rab</th><td>2 </td><td>1 </td><td>2 </td><td> 1</td><td> 2</td><td>2 </td></tr>\n",
       "\t<tr><th scope=row>sal</th><td>1 </td><td>1 </td><td>2 </td><td> 1</td><td>NA</td><td>1 </td></tr>\n",
       "\t<tr><th scope=row>spi</th><td>1 </td><td>1 </td><td>1 </td><td>NA</td><td> 1</td><td>2 </td></tr>\n",
       "\t<tr><th scope=row>wha</th><td>2 </td><td>1 </td><td>2 </td><td> 2</td><td> 2</td><td>1 </td></tr>\n",
       "</tbody>\n",
       "</table>\n"
      ],
      "text/latex": [
       "\\begin{tabular}{r|llllll}\n",
       "  & war & fly & ver & end & gro & hai\\\\\n",
       "\\hline\n",
       "\tant & 1  & 1  & 1  &  1 &  2 & 1 \\\\\n",
       "\tbee & 1  & 2  & 1  &  1 &  2 & 2 \\\\\n",
       "\tcat & 2  & 1  & 2  &  1 &  1 & 2 \\\\\n",
       "\tcpl & 1  & 1  & 1  &  1 &  1 & 2 \\\\\n",
       "\tchi & 2  & 1  & 2  &  2 &  2 & 2 \\\\\n",
       "\tcow & 2  & 1  & 2  &  1 &  2 & 2 \\\\\n",
       "\tduc & 2  & 2  & 2  &  1 &  2 & 1 \\\\\n",
       "\teag & 2  & 2  & 2  &  2 &  1 & 1 \\\\\n",
       "\tele & 2  & 1  & 2  &  2 &  2 & 1 \\\\\n",
       "\tfly & 1  & 2  & 1  &  1 &  1 & 1 \\\\\n",
       "\tfro & 1  & 1  & 2  &  2 & NA & 1 \\\\\n",
       "\ther & 1  & 1  & 2  &  1 &  2 & 1 \\\\\n",
       "\tlio & 2  & 1  & 2  & NA &  2 & 2 \\\\\n",
       "\tliz & 1  & 1  & 2  &  1 &  1 & 1 \\\\\n",
       "\tlob & 1  & 1  & 1  &  1 & NA & 1 \\\\\n",
       "\tman & 2  & 1  & 2  &  2 &  2 & 2 \\\\\n",
       "\trab & 2  & 1  & 2  &  1 &  2 & 2 \\\\\n",
       "\tsal & 1  & 1  & 2  &  1 & NA & 1 \\\\\n",
       "\tspi & 1  & 1  & 1  & NA &  1 & 2 \\\\\n",
       "\twha & 2  & 1  & 2  &  2 &  2 & 1 \\\\\n",
       "\\end{tabular}\n"
      ],
      "text/markdown": [
       "\n",
       "| <!--/--> | war | fly | ver | end | gro | hai |\n",
       "|---|---|---|---|---|---|---|\n",
       "| ant | 1  | 1  | 1  |  1 |  2 | 1  |\n",
       "| bee | 1  | 2  | 1  |  1 |  2 | 2  |\n",
       "| cat | 2  | 1  | 2  |  1 |  1 | 2  |\n",
       "| cpl | 1  | 1  | 1  |  1 |  1 | 2  |\n",
       "| chi | 2  | 1  | 2  |  2 |  2 | 2  |\n",
       "| cow | 2  | 1  | 2  |  1 |  2 | 2  |\n",
       "| duc | 2  | 2  | 2  |  1 |  2 | 1  |\n",
       "| eag | 2  | 2  | 2  |  2 |  1 | 1  |\n",
       "| ele | 2  | 1  | 2  |  2 |  2 | 1  |\n",
       "| fly | 1  | 2  | 1  |  1 |  1 | 1  |\n",
       "| fro | 1  | 1  | 2  |  2 | NA | 1  |\n",
       "| her | 1  | 1  | 2  |  1 |  2 | 1  |\n",
       "| lio | 2  | 1  | 2  | NA |  2 | 2  |\n",
       "| liz | 1  | 1  | 2  |  1 |  1 | 1  |\n",
       "| lob | 1  | 1  | 1  |  1 | NA | 1  |\n",
       "| man | 2  | 1  | 2  |  2 |  2 | 2  |\n",
       "| rab | 2  | 1  | 2  |  1 |  2 | 2  |\n",
       "| sal | 1  | 1  | 2  |  1 | NA | 1  |\n",
       "| spi | 1  | 1  | 1  | NA |  1 | 2  |\n",
       "| wha | 2  | 1  | 2  |  2 |  2 | 1  |\n",
       "\n"
      ],
      "text/plain": [
       "    war fly ver end gro hai\n",
       "ant 1   1   1    1   2  1  \n",
       "bee 1   2   1    1   2  2  \n",
       "cat 2   1   2    1   1  2  \n",
       "cpl 1   1   1    1   1  2  \n",
       "chi 2   1   2    2   2  2  \n",
       "cow 2   1   2    1   2  2  \n",
       "duc 2   2   2    1   2  1  \n",
       "eag 2   2   2    2   1  1  \n",
       "ele 2   1   2    2   2  1  \n",
       "fly 1   2   1    1   1  1  \n",
       "fro 1   1   2    2  NA  1  \n",
       "her 1   1   2    1   2  1  \n",
       "lio 2   1   2   NA   2  2  \n",
       "liz 1   1   2    1   1  1  \n",
       "lob 1   1   1    1  NA  1  \n",
       "man 2   1   2    2   2  2  \n",
       "rab 2   1   2    1   2  2  \n",
       "sal 1   1   2    1  NA  1  \n",
       "spi 1   1   1   NA   1  2  \n",
       "wha 2   1   2    2   2  1  "
      ]
     },
     "metadata": {},
     "output_type": "display_data"
    }
   ],
   "source": [
    "animals"
   ]
  },
  {
   "cell_type": "code",
   "execution_count": 93,
   "metadata": {},
   "outputs": [
    {
     "data": {
      "text/html": [
       "<table>\n",
       "<thead><tr><th></th><th scope=col>war</th></tr></thead>\n",
       "<tbody>\n",
       "\t<tr><th scope=row>ant</th><td>1</td></tr>\n",
       "\t<tr><th scope=row>bee</th><td>1</td></tr>\n",
       "\t<tr><th scope=row>cat</th><td>2</td></tr>\n",
       "\t<tr><th scope=row>cpl</th><td>1</td></tr>\n",
       "\t<tr><th scope=row>chi</th><td>2</td></tr>\n",
       "\t<tr><th scope=row>cow</th><td>2</td></tr>\n",
       "\t<tr><th scope=row>duc</th><td>2</td></tr>\n",
       "\t<tr><th scope=row>eag</th><td>2</td></tr>\n",
       "\t<tr><th scope=row>ele</th><td>2</td></tr>\n",
       "\t<tr><th scope=row>fly</th><td>1</td></tr>\n",
       "\t<tr><th scope=row>fro</th><td>1</td></tr>\n",
       "\t<tr><th scope=row>her</th><td>1</td></tr>\n",
       "\t<tr><th scope=row>lio</th><td>2</td></tr>\n",
       "\t<tr><th scope=row>liz</th><td>1</td></tr>\n",
       "\t<tr><th scope=row>lob</th><td>1</td></tr>\n",
       "\t<tr><th scope=row>man</th><td>2</td></tr>\n",
       "\t<tr><th scope=row>rab</th><td>2</td></tr>\n",
       "\t<tr><th scope=row>sal</th><td>1</td></tr>\n",
       "\t<tr><th scope=row>spi</th><td>1</td></tr>\n",
       "\t<tr><th scope=row>wha</th><td>2</td></tr>\n",
       "</tbody>\n",
       "</table>\n"
      ],
      "text/latex": [
       "\\begin{tabular}{r|l}\n",
       "  & war\\\\\n",
       "\\hline\n",
       "\tant & 1\\\\\n",
       "\tbee & 1\\\\\n",
       "\tcat & 2\\\\\n",
       "\tcpl & 1\\\\\n",
       "\tchi & 2\\\\\n",
       "\tcow & 2\\\\\n",
       "\tduc & 2\\\\\n",
       "\teag & 2\\\\\n",
       "\tele & 2\\\\\n",
       "\tfly & 1\\\\\n",
       "\tfro & 1\\\\\n",
       "\ther & 1\\\\\n",
       "\tlio & 2\\\\\n",
       "\tliz & 1\\\\\n",
       "\tlob & 1\\\\\n",
       "\tman & 2\\\\\n",
       "\trab & 2\\\\\n",
       "\tsal & 1\\\\\n",
       "\tspi & 1\\\\\n",
       "\twha & 2\\\\\n",
       "\\end{tabular}\n"
      ],
      "text/markdown": [
       "\n",
       "| <!--/--> | war |\n",
       "|---|---|\n",
       "| ant | 1 |\n",
       "| bee | 1 |\n",
       "| cat | 2 |\n",
       "| cpl | 1 |\n",
       "| chi | 2 |\n",
       "| cow | 2 |\n",
       "| duc | 2 |\n",
       "| eag | 2 |\n",
       "| ele | 2 |\n",
       "| fly | 1 |\n",
       "| fro | 1 |\n",
       "| her | 1 |\n",
       "| lio | 2 |\n",
       "| liz | 1 |\n",
       "| lob | 1 |\n",
       "| man | 2 |\n",
       "| rab | 2 |\n",
       "| sal | 1 |\n",
       "| spi | 1 |\n",
       "| wha | 2 |\n",
       "\n"
      ],
      "text/plain": [
       "    war\n",
       "ant 1  \n",
       "bee 1  \n",
       "cat 2  \n",
       "cpl 1  \n",
       "chi 2  \n",
       "cow 2  \n",
       "duc 2  \n",
       "eag 2  \n",
       "ele 2  \n",
       "fly 1  \n",
       "fro 1  \n",
       "her 1  \n",
       "lio 2  \n",
       "liz 1  \n",
       "lob 1  \n",
       "man 2  \n",
       "rab 2  \n",
       "sal 1  \n",
       "spi 1  \n",
       "wha 2  "
      ]
     },
     "metadata": {},
     "output_type": "display_data"
    }
   ],
   "source": [
    "animals[1]"
   ]
  },
  {
   "cell_type": "code",
   "execution_count": 94,
   "metadata": {},
   "outputs": [
    {
     "data": {
      "text/html": [
       "<table>\n",
       "<thead><tr><th></th><th scope=col>war</th><th scope=col>fly</th><th scope=col>ver</th><th scope=col>end</th><th scope=col>gro</th><th scope=col>hai</th></tr></thead>\n",
       "<tbody>\n",
       "\t<tr><th scope=row>ant</th><td>1</td><td>1</td><td>1</td><td>1</td><td>2</td><td>1</td></tr>\n",
       "</tbody>\n",
       "</table>\n"
      ],
      "text/latex": [
       "\\begin{tabular}{r|llllll}\n",
       "  & war & fly & ver & end & gro & hai\\\\\n",
       "\\hline\n",
       "\tant & 1 & 1 & 1 & 1 & 2 & 1\\\\\n",
       "\\end{tabular}\n"
      ],
      "text/markdown": [
       "\n",
       "| <!--/--> | war | fly | ver | end | gro | hai |\n",
       "|---|---|---|---|---|---|---|\n",
       "| ant | 1 | 1 | 1 | 1 | 2 | 1 |\n",
       "\n"
      ],
      "text/plain": [
       "    war fly ver end gro hai\n",
       "ant 1   1   1   1   2   1  "
      ]
     },
     "metadata": {},
     "output_type": "display_data"
    }
   ],
   "source": [
    "animals[1, ]"
   ]
  },
  {
   "cell_type": "code",
   "execution_count": 95,
   "metadata": {},
   "outputs": [
    {
     "data": {
      "text/html": [
       "<ol class=list-inline>\n",
       "\t<li>2</li>\n",
       "\t<li>2</li>\n",
       "\t<li>1</li>\n",
       "\t<li>1</li>\n",
       "\t<li>2</li>\n",
       "\t<li>2</li>\n",
       "\t<li>2</li>\n",
       "\t<li>1</li>\n",
       "\t<li>2</li>\n",
       "\t<li>1</li>\n",
       "\t<li>&lt;NA&gt;</li>\n",
       "\t<li>2</li>\n",
       "\t<li>2</li>\n",
       "\t<li>1</li>\n",
       "\t<li>&lt;NA&gt;</li>\n",
       "\t<li>2</li>\n",
       "\t<li>2</li>\n",
       "\t<li>&lt;NA&gt;</li>\n",
       "\t<li>1</li>\n",
       "\t<li>2</li>\n",
       "</ol>\n"
      ],
      "text/latex": [
       "\\begin{enumerate*}\n",
       "\\item 2\n",
       "\\item 2\n",
       "\\item 1\n",
       "\\item 1\n",
       "\\item 2\n",
       "\\item 2\n",
       "\\item 2\n",
       "\\item 1\n",
       "\\item 2\n",
       "\\item 1\n",
       "\\item <NA>\n",
       "\\item 2\n",
       "\\item 2\n",
       "\\item 1\n",
       "\\item <NA>\n",
       "\\item 2\n",
       "\\item 2\n",
       "\\item <NA>\n",
       "\\item 1\n",
       "\\item 2\n",
       "\\end{enumerate*}\n"
      ],
      "text/markdown": [
       "1. 2\n",
       "2. 2\n",
       "3. 1\n",
       "4. 1\n",
       "5. 2\n",
       "6. 2\n",
       "7. 2\n",
       "8. 1\n",
       "9. 2\n",
       "10. 1\n",
       "11. &lt;NA&gt;\n",
       "12. 2\n",
       "13. 2\n",
       "14. 1\n",
       "15. &lt;NA&gt;\n",
       "16. 2\n",
       "17. 2\n",
       "18. &lt;NA&gt;\n",
       "19. 1\n",
       "20. 2\n",
       "\n",
       "\n"
      ],
      "text/plain": [
       " [1]  2  2  1  1  2  2  2  1  2  1 NA  2  2  1 NA  2  2 NA  1  2"
      ]
     },
     "metadata": {},
     "output_type": "display_data"
    }
   ],
   "source": [
    "animals[, 5]"
   ]
  },
  {
   "cell_type": "code",
   "execution_count": 96,
   "metadata": {},
   "outputs": [
    {
     "data": {
      "text/html": [
       "<ol class=list-inline>\n",
       "\t<li>1</li>\n",
       "\t<li>1</li>\n",
       "\t<li>1</li>\n",
       "\t<li>1</li>\n",
       "\t<li>2</li>\n",
       "\t<li>1</li>\n",
       "\t<li>1</li>\n",
       "\t<li>2</li>\n",
       "\t<li>2</li>\n",
       "\t<li>1</li>\n",
       "\t<li>2</li>\n",
       "\t<li>1</li>\n",
       "\t<li>&lt;NA&gt;</li>\n",
       "\t<li>1</li>\n",
       "\t<li>1</li>\n",
       "\t<li>2</li>\n",
       "\t<li>1</li>\n",
       "\t<li>1</li>\n",
       "\t<li>&lt;NA&gt;</li>\n",
       "\t<li>2</li>\n",
       "</ol>\n"
      ],
      "text/latex": [
       "\\begin{enumerate*}\n",
       "\\item 1\n",
       "\\item 1\n",
       "\\item 1\n",
       "\\item 1\n",
       "\\item 2\n",
       "\\item 1\n",
       "\\item 1\n",
       "\\item 2\n",
       "\\item 2\n",
       "\\item 1\n",
       "\\item 2\n",
       "\\item 1\n",
       "\\item <NA>\n",
       "\\item 1\n",
       "\\item 1\n",
       "\\item 2\n",
       "\\item 1\n",
       "\\item 1\n",
       "\\item <NA>\n",
       "\\item 2\n",
       "\\end{enumerate*}\n"
      ],
      "text/markdown": [
       "1. 1\n",
       "2. 1\n",
       "3. 1\n",
       "4. 1\n",
       "5. 2\n",
       "6. 1\n",
       "7. 1\n",
       "8. 2\n",
       "9. 2\n",
       "10. 1\n",
       "11. 2\n",
       "12. 1\n",
       "13. &lt;NA&gt;\n",
       "14. 1\n",
       "15. 1\n",
       "16. 2\n",
       "17. 1\n",
       "18. 1\n",
       "19. &lt;NA&gt;\n",
       "20. 2\n",
       "\n",
       "\n"
      ],
      "text/plain": [
       " [1]  1  1  1  1  2  1  1  2  2  1  2  1 NA  1  1  2  1  1 NA  2"
      ]
     },
     "metadata": {},
     "output_type": "display_data"
    }
   ],
   "source": [
    "animals$end"
   ]
  },
  {
   "cell_type": "markdown",
   "metadata": {},
   "source": [
    "## Логические операторы"
   ]
  },
  {
   "cell_type": "code",
   "execution_count": 100,
   "metadata": {},
   "outputs": [
    {
     "data": {
      "text/html": [
       "FALSE"
      ],
      "text/latex": [
       "FALSE"
      ],
      "text/markdown": [
       "FALSE"
      ],
      "text/plain": [
       "[1] FALSE"
      ]
     },
     "metadata": {},
     "output_type": "display_data"
    }
   ],
   "source": [
    "5 > 6"
   ]
  },
  {
   "cell_type": "code",
   "execution_count": 101,
   "metadata": {},
   "outputs": [
    {
     "data": {
      "text/html": [
       "TRUE"
      ],
      "text/latex": [
       "TRUE"
      ],
      "text/markdown": [
       "TRUE"
      ],
      "text/plain": [
       "[1] TRUE"
      ]
     },
     "metadata": {},
     "output_type": "display_data"
    }
   ],
   "source": [
    "5 < 100"
   ]
  },
  {
   "cell_type": "code",
   "execution_count": 102,
   "metadata": {},
   "outputs": [
    {
     "data": {
      "text/html": [
       "FALSE"
      ],
      "text/latex": [
       "FALSE"
      ],
      "text/markdown": [
       "FALSE"
      ],
      "text/plain": [
       "[1] FALSE"
      ]
     },
     "metadata": {},
     "output_type": "display_data"
    }
   ],
   "source": [
    "2 != 2"
   ]
  },
  {
   "cell_type": "code",
   "execution_count": 103,
   "metadata": {},
   "outputs": [
    {
     "data": {
      "text/html": [
       "TRUE"
      ],
      "text/latex": [
       "TRUE"
      ],
      "text/markdown": [
       "TRUE"
      ],
      "text/plain": [
       "[1] TRUE"
      ]
     },
     "metadata": {},
     "output_type": "display_data"
    }
   ],
   "source": [
    "3 == 3"
   ]
  },
  {
   "cell_type": "code",
   "execution_count": 104,
   "metadata": {},
   "outputs": [
    {
     "data": {
      "text/html": [
       "TRUE"
      ],
      "text/latex": [
       "TRUE"
      ],
      "text/markdown": [
       "TRUE"
      ],
      "text/plain": [
       "[1] TRUE"
      ]
     },
     "metadata": {},
     "output_type": "display_data"
    }
   ],
   "source": [
    "10 <= 10"
   ]
  },
  {
   "cell_type": "code",
   "execution_count": 105,
   "metadata": {},
   "outputs": [
    {
     "data": {
      "text/html": [
       "FALSE"
      ],
      "text/latex": [
       "FALSE"
      ],
      "text/markdown": [
       "FALSE"
      ],
      "text/plain": [
       "[1] FALSE"
      ]
     },
     "metadata": {},
     "output_type": "display_data"
    }
   ],
   "source": [
    "6 > 7 | 8 > 9"
   ]
  },
  {
   "cell_type": "code",
   "execution_count": 106,
   "metadata": {},
   "outputs": [
    {
     "data": {
      "text/html": [
       "TRUE"
      ],
      "text/latex": [
       "TRUE"
      ],
      "text/markdown": [
       "TRUE"
      ],
      "text/plain": [
       "[1] TRUE"
      ]
     },
     "metadata": {},
     "output_type": "display_data"
    }
   ],
   "source": [
    "6 > 7 | 10 > 9"
   ]
  },
  {
   "cell_type": "code",
   "execution_count": 107,
   "metadata": {},
   "outputs": [
    {
     "data": {
      "text/html": [
       "TRUE"
      ],
      "text/latex": [
       "TRUE"
      ],
      "text/markdown": [
       "TRUE"
      ],
      "text/plain": [
       "[1] TRUE"
      ]
     },
     "metadata": {},
     "output_type": "display_data"
    }
   ],
   "source": [
    "12 > 7 & 10 > 9"
   ]
  },
  {
   "cell_type": "code",
   "execution_count": 108,
   "metadata": {},
   "outputs": [
    {
     "data": {
      "text/html": [
       "FALSE"
      ],
      "text/latex": [
       "FALSE"
      ],
      "text/markdown": [
       "FALSE"
      ],
      "text/plain": [
       "[1] FALSE"
      ]
     },
     "metadata": {},
     "output_type": "display_data"
    }
   ],
   "source": [
    "((T == F)&(1 == 1)) & 100 == 100"
   ]
  },
  {
   "cell_type": "code",
   "execution_count": 109,
   "metadata": {},
   "outputs": [
    {
     "data": {
      "text/html": [
       "TRUE"
      ],
      "text/latex": [
       "TRUE"
      ],
      "text/markdown": [
       "TRUE"
      ],
      "text/plain": [
       "[1] TRUE"
      ]
     },
     "metadata": {},
     "output_type": "display_data"
    }
   ],
   "source": [
    "((T == F)&(1 == 1)) | 100 == 100"
   ]
  },
  {
   "cell_type": "code",
   "execution_count": 110,
   "metadata": {},
   "outputs": [
    {
     "data": {
      "text/html": [
       "<table>\n",
       "<thead><tr><th></th><th scope=col>war</th><th scope=col>fly</th><th scope=col>ver</th><th scope=col>end</th><th scope=col>gro</th><th scope=col>hai</th></tr></thead>\n",
       "<tbody>\n",
       "\t<tr><th scope=row>ant</th><td>FALSE</td><td>FALSE</td><td>FALSE</td><td>FALSE</td><td>FALSE</td><td>FALSE</td></tr>\n",
       "\t<tr><th scope=row>bee</th><td>FALSE</td><td>FALSE</td><td>FALSE</td><td>FALSE</td><td>FALSE</td><td>FALSE</td></tr>\n",
       "\t<tr><th scope=row>cat</th><td>FALSE</td><td>FALSE</td><td>FALSE</td><td>FALSE</td><td>FALSE</td><td>FALSE</td></tr>\n",
       "\t<tr><th scope=row>cpl</th><td>FALSE</td><td>FALSE</td><td>FALSE</td><td>FALSE</td><td>FALSE</td><td>FALSE</td></tr>\n",
       "\t<tr><th scope=row>chi</th><td>FALSE</td><td>FALSE</td><td>FALSE</td><td>FALSE</td><td>FALSE</td><td>FALSE</td></tr>\n",
       "\t<tr><th scope=row>cow</th><td>FALSE</td><td>FALSE</td><td>FALSE</td><td>FALSE</td><td>FALSE</td><td>FALSE</td></tr>\n",
       "\t<tr><th scope=row>duc</th><td>FALSE</td><td>FALSE</td><td>FALSE</td><td>FALSE</td><td>FALSE</td><td>FALSE</td></tr>\n",
       "\t<tr><th scope=row>eag</th><td>FALSE</td><td>FALSE</td><td>FALSE</td><td>FALSE</td><td>FALSE</td><td>FALSE</td></tr>\n",
       "\t<tr><th scope=row>ele</th><td>FALSE</td><td>FALSE</td><td>FALSE</td><td>FALSE</td><td>FALSE</td><td>FALSE</td></tr>\n",
       "\t<tr><th scope=row>fly</th><td>FALSE</td><td>FALSE</td><td>FALSE</td><td>FALSE</td><td>FALSE</td><td>FALSE</td></tr>\n",
       "\t<tr><th scope=row>fro</th><td>FALSE</td><td>FALSE</td><td>FALSE</td><td>FALSE</td><td> TRUE</td><td>FALSE</td></tr>\n",
       "\t<tr><th scope=row>her</th><td>FALSE</td><td>FALSE</td><td>FALSE</td><td>FALSE</td><td>FALSE</td><td>FALSE</td></tr>\n",
       "\t<tr><th scope=row>lio</th><td>FALSE</td><td>FALSE</td><td>FALSE</td><td> TRUE</td><td>FALSE</td><td>FALSE</td></tr>\n",
       "\t<tr><th scope=row>liz</th><td>FALSE</td><td>FALSE</td><td>FALSE</td><td>FALSE</td><td>FALSE</td><td>FALSE</td></tr>\n",
       "\t<tr><th scope=row>lob</th><td>FALSE</td><td>FALSE</td><td>FALSE</td><td>FALSE</td><td> TRUE</td><td>FALSE</td></tr>\n",
       "\t<tr><th scope=row>man</th><td>FALSE</td><td>FALSE</td><td>FALSE</td><td>FALSE</td><td>FALSE</td><td>FALSE</td></tr>\n",
       "\t<tr><th scope=row>rab</th><td>FALSE</td><td>FALSE</td><td>FALSE</td><td>FALSE</td><td>FALSE</td><td>FALSE</td></tr>\n",
       "\t<tr><th scope=row>sal</th><td>FALSE</td><td>FALSE</td><td>FALSE</td><td>FALSE</td><td> TRUE</td><td>FALSE</td></tr>\n",
       "\t<tr><th scope=row>spi</th><td>FALSE</td><td>FALSE</td><td>FALSE</td><td> TRUE</td><td>FALSE</td><td>FALSE</td></tr>\n",
       "\t<tr><th scope=row>wha</th><td>FALSE</td><td>FALSE</td><td>FALSE</td><td>FALSE</td><td>FALSE</td><td>FALSE</td></tr>\n",
       "</tbody>\n",
       "</table>\n"
      ],
      "text/latex": [
       "\\begin{tabular}{r|llllll}\n",
       "  & war & fly & ver & end & gro & hai\\\\\n",
       "\\hline\n",
       "\tant & FALSE & FALSE & FALSE & FALSE & FALSE & FALSE\\\\\n",
       "\tbee & FALSE & FALSE & FALSE & FALSE & FALSE & FALSE\\\\\n",
       "\tcat & FALSE & FALSE & FALSE & FALSE & FALSE & FALSE\\\\\n",
       "\tcpl & FALSE & FALSE & FALSE & FALSE & FALSE & FALSE\\\\\n",
       "\tchi & FALSE & FALSE & FALSE & FALSE & FALSE & FALSE\\\\\n",
       "\tcow & FALSE & FALSE & FALSE & FALSE & FALSE & FALSE\\\\\n",
       "\tduc & FALSE & FALSE & FALSE & FALSE & FALSE & FALSE\\\\\n",
       "\teag & FALSE & FALSE & FALSE & FALSE & FALSE & FALSE\\\\\n",
       "\tele & FALSE & FALSE & FALSE & FALSE & FALSE & FALSE\\\\\n",
       "\tfly & FALSE & FALSE & FALSE & FALSE & FALSE & FALSE\\\\\n",
       "\tfro & FALSE & FALSE & FALSE & FALSE &  TRUE & FALSE\\\\\n",
       "\ther & FALSE & FALSE & FALSE & FALSE & FALSE & FALSE\\\\\n",
       "\tlio & FALSE & FALSE & FALSE &  TRUE & FALSE & FALSE\\\\\n",
       "\tliz & FALSE & FALSE & FALSE & FALSE & FALSE & FALSE\\\\\n",
       "\tlob & FALSE & FALSE & FALSE & FALSE &  TRUE & FALSE\\\\\n",
       "\tman & FALSE & FALSE & FALSE & FALSE & FALSE & FALSE\\\\\n",
       "\trab & FALSE & FALSE & FALSE & FALSE & FALSE & FALSE\\\\\n",
       "\tsal & FALSE & FALSE & FALSE & FALSE &  TRUE & FALSE\\\\\n",
       "\tspi & FALSE & FALSE & FALSE &  TRUE & FALSE & FALSE\\\\\n",
       "\twha & FALSE & FALSE & FALSE & FALSE & FALSE & FALSE\\\\\n",
       "\\end{tabular}\n"
      ],
      "text/markdown": [
       "\n",
       "| <!--/--> | war | fly | ver | end | gro | hai |\n",
       "|---|---|---|---|---|---|---|\n",
       "| ant | FALSE | FALSE | FALSE | FALSE | FALSE | FALSE |\n",
       "| bee | FALSE | FALSE | FALSE | FALSE | FALSE | FALSE |\n",
       "| cat | FALSE | FALSE | FALSE | FALSE | FALSE | FALSE |\n",
       "| cpl | FALSE | FALSE | FALSE | FALSE | FALSE | FALSE |\n",
       "| chi | FALSE | FALSE | FALSE | FALSE | FALSE | FALSE |\n",
       "| cow | FALSE | FALSE | FALSE | FALSE | FALSE | FALSE |\n",
       "| duc | FALSE | FALSE | FALSE | FALSE | FALSE | FALSE |\n",
       "| eag | FALSE | FALSE | FALSE | FALSE | FALSE | FALSE |\n",
       "| ele | FALSE | FALSE | FALSE | FALSE | FALSE | FALSE |\n",
       "| fly | FALSE | FALSE | FALSE | FALSE | FALSE | FALSE |\n",
       "| fro | FALSE | FALSE | FALSE | FALSE |  TRUE | FALSE |\n",
       "| her | FALSE | FALSE | FALSE | FALSE | FALSE | FALSE |\n",
       "| lio | FALSE | FALSE | FALSE |  TRUE | FALSE | FALSE |\n",
       "| liz | FALSE | FALSE | FALSE | FALSE | FALSE | FALSE |\n",
       "| lob | FALSE | FALSE | FALSE | FALSE |  TRUE | FALSE |\n",
       "| man | FALSE | FALSE | FALSE | FALSE | FALSE | FALSE |\n",
       "| rab | FALSE | FALSE | FALSE | FALSE | FALSE | FALSE |\n",
       "| sal | FALSE | FALSE | FALSE | FALSE |  TRUE | FALSE |\n",
       "| spi | FALSE | FALSE | FALSE |  TRUE | FALSE | FALSE |\n",
       "| wha | FALSE | FALSE | FALSE | FALSE | FALSE | FALSE |\n",
       "\n"
      ],
      "text/plain": [
       "    war   fly   ver   end   gro   hai  \n",
       "ant FALSE FALSE FALSE FALSE FALSE FALSE\n",
       "bee FALSE FALSE FALSE FALSE FALSE FALSE\n",
       "cat FALSE FALSE FALSE FALSE FALSE FALSE\n",
       "cpl FALSE FALSE FALSE FALSE FALSE FALSE\n",
       "chi FALSE FALSE FALSE FALSE FALSE FALSE\n",
       "cow FALSE FALSE FALSE FALSE FALSE FALSE\n",
       "duc FALSE FALSE FALSE FALSE FALSE FALSE\n",
       "eag FALSE FALSE FALSE FALSE FALSE FALSE\n",
       "ele FALSE FALSE FALSE FALSE FALSE FALSE\n",
       "fly FALSE FALSE FALSE FALSE FALSE FALSE\n",
       "fro FALSE FALSE FALSE FALSE  TRUE FALSE\n",
       "her FALSE FALSE FALSE FALSE FALSE FALSE\n",
       "lio FALSE FALSE FALSE  TRUE FALSE FALSE\n",
       "liz FALSE FALSE FALSE FALSE FALSE FALSE\n",
       "lob FALSE FALSE FALSE FALSE  TRUE FALSE\n",
       "man FALSE FALSE FALSE FALSE FALSE FALSE\n",
       "rab FALSE FALSE FALSE FALSE FALSE FALSE\n",
       "sal FALSE FALSE FALSE FALSE  TRUE FALSE\n",
       "spi FALSE FALSE FALSE  TRUE FALSE FALSE\n",
       "wha FALSE FALSE FALSE FALSE FALSE FALSE"
      ]
     },
     "metadata": {},
     "output_type": "display_data"
    }
   ],
   "source": [
    "is.na(animals)"
   ]
  },
  {
   "cell_type": "code",
   "execution_count": 111,
   "metadata": {},
   "outputs": [
    {
     "data": {
      "text/html": [
       "5"
      ],
      "text/latex": [
       "5"
      ],
      "text/markdown": [
       "5"
      ],
      "text/plain": [
       "[1] 5"
      ]
     },
     "metadata": {},
     "output_type": "display_data"
    }
   ],
   "source": [
    "sum(is.na(animals))"
   ]
  },
  {
   "cell_type": "code",
   "execution_count": 112,
   "metadata": {},
   "outputs": [
    {
     "data": {
      "text/html": [
       "<ol class=list-inline>\n",
       "\t<li>73</li>\n",
       "\t<li>79</li>\n",
       "\t<li>91</li>\n",
       "\t<li>95</li>\n",
       "\t<li>98</li>\n",
       "</ol>\n"
      ],
      "text/latex": [
       "\\begin{enumerate*}\n",
       "\\item 73\n",
       "\\item 79\n",
       "\\item 91\n",
       "\\item 95\n",
       "\\item 98\n",
       "\\end{enumerate*}\n"
      ],
      "text/markdown": [
       "1. 73\n",
       "2. 79\n",
       "3. 91\n",
       "4. 95\n",
       "5. 98\n",
       "\n",
       "\n"
      ],
      "text/plain": [
       "[1] 73 79 91 95 98"
      ]
     },
     "metadata": {},
     "output_type": "display_data"
    }
   ],
   "source": [
    "which(is.na(animals))"
   ]
  },
  {
   "cell_type": "code",
   "execution_count": 113,
   "metadata": {},
   "outputs": [
    {
     "data": {
      "text/html": [
       "<table>\n",
       "<thead><tr><th></th><th scope=col>war</th><th scope=col>fly</th><th scope=col>ver</th><th scope=col>end</th><th scope=col>gro</th><th scope=col>hai</th></tr></thead>\n",
       "<tbody>\n",
       "\t<tr><th scope=row>ant</th><td>1</td><td>1</td><td>1</td><td>1</td><td>2</td><td>1</td></tr>\n",
       "\t<tr><th scope=row>bee</th><td>1</td><td>2</td><td>1</td><td>1</td><td>2</td><td>2</td></tr>\n",
       "\t<tr><th scope=row>cat</th><td>2</td><td>1</td><td>2</td><td>1</td><td>1</td><td>2</td></tr>\n",
       "</tbody>\n",
       "</table>\n"
      ],
      "text/latex": [
       "\\begin{tabular}{r|llllll}\n",
       "  & war & fly & ver & end & gro & hai\\\\\n",
       "\\hline\n",
       "\tant & 1 & 1 & 1 & 1 & 2 & 1\\\\\n",
       "\tbee & 1 & 2 & 1 & 1 & 2 & 2\\\\\n",
       "\tcat & 2 & 1 & 2 & 1 & 1 & 2\\\\\n",
       "\\end{tabular}\n"
      ],
      "text/markdown": [
       "\n",
       "| <!--/--> | war | fly | ver | end | gro | hai |\n",
       "|---|---|---|---|---|---|---|\n",
       "| ant | 1 | 1 | 1 | 1 | 2 | 1 |\n",
       "| bee | 1 | 2 | 1 | 1 | 2 | 2 |\n",
       "| cat | 2 | 1 | 2 | 1 | 1 | 2 |\n",
       "\n"
      ],
      "text/plain": [
       "    war fly ver end gro hai\n",
       "ant 1   1   1   1   2   1  \n",
       "bee 1   2   1   1   2   2  \n",
       "cat 2   1   2   1   1   2  "
      ]
     },
     "metadata": {},
     "output_type": "display_data"
    }
   ],
   "source": [
    "head(animals, 3)"
   ]
  },
  {
   "cell_type": "code",
   "execution_count": 114,
   "metadata": {},
   "outputs": [
    {
     "data": {
      "text/html": [
       "<ol class=list-inline>\n",
       "\t<li>2</li>\n",
       "\t<li>2</li>\n",
       "\t<li>1</li>\n",
       "\t<li>1</li>\n",
       "\t<li>2</li>\n",
       "\t<li>2</li>\n",
       "\t<li>2</li>\n",
       "\t<li>1</li>\n",
       "\t<li>2</li>\n",
       "\t<li>1</li>\n",
       "\t<li>&lt;NA&gt;</li>\n",
       "\t<li>2</li>\n",
       "\t<li>2</li>\n",
       "\t<li>1</li>\n",
       "\t<li>&lt;NA&gt;</li>\n",
       "\t<li>2</li>\n",
       "\t<li>2</li>\n",
       "\t<li>&lt;NA&gt;</li>\n",
       "\t<li>1</li>\n",
       "\t<li>2</li>\n",
       "</ol>\n"
      ],
      "text/latex": [
       "\\begin{enumerate*}\n",
       "\\item 2\n",
       "\\item 2\n",
       "\\item 1\n",
       "\\item 1\n",
       "\\item 2\n",
       "\\item 2\n",
       "\\item 2\n",
       "\\item 1\n",
       "\\item 2\n",
       "\\item 1\n",
       "\\item <NA>\n",
       "\\item 2\n",
       "\\item 2\n",
       "\\item 1\n",
       "\\item <NA>\n",
       "\\item 2\n",
       "\\item 2\n",
       "\\item <NA>\n",
       "\\item 1\n",
       "\\item 2\n",
       "\\end{enumerate*}\n"
      ],
      "text/markdown": [
       "1. 2\n",
       "2. 2\n",
       "3. 1\n",
       "4. 1\n",
       "5. 2\n",
       "6. 2\n",
       "7. 2\n",
       "8. 1\n",
       "9. 2\n",
       "10. 1\n",
       "11. &lt;NA&gt;\n",
       "12. 2\n",
       "13. 2\n",
       "14. 1\n",
       "15. &lt;NA&gt;\n",
       "16. 2\n",
       "17. 2\n",
       "18. &lt;NA&gt;\n",
       "19. 1\n",
       "20. 2\n",
       "\n",
       "\n"
      ],
      "text/plain": [
       " [1]  2  2  1  1  2  2  2  1  2  1 NA  2  2  1 NA  2  2 NA  1  2"
      ]
     },
     "metadata": {},
     "output_type": "display_data"
    }
   ],
   "source": [
    "animals$gro"
   ]
  },
  {
   "cell_type": "code",
   "execution_count": 116,
   "metadata": {},
   "outputs": [
    {
     "data": {
      "text/html": [
       "<ol class=list-inline>\n",
       "\t<li>2</li>\n",
       "\t<li>2</li>\n",
       "\t<li>1</li>\n",
       "\t<li>1</li>\n",
       "\t<li>2</li>\n",
       "\t<li>2</li>\n",
       "\t<li>2</li>\n",
       "\t<li>1</li>\n",
       "\t<li>2</li>\n",
       "\t<li>1</li>\n",
       "\t<li>2</li>\n",
       "\t<li>2</li>\n",
       "\t<li>1</li>\n",
       "\t<li>2</li>\n",
       "\t<li>2</li>\n",
       "\t<li>1</li>\n",
       "\t<li>2</li>\n",
       "</ol>\n"
      ],
      "text/latex": [
       "\\begin{enumerate*}\n",
       "\\item 2\n",
       "\\item 2\n",
       "\\item 1\n",
       "\\item 1\n",
       "\\item 2\n",
       "\\item 2\n",
       "\\item 2\n",
       "\\item 1\n",
       "\\item 2\n",
       "\\item 1\n",
       "\\item 2\n",
       "\\item 2\n",
       "\\item 1\n",
       "\\item 2\n",
       "\\item 2\n",
       "\\item 1\n",
       "\\item 2\n",
       "\\end{enumerate*}\n"
      ],
      "text/markdown": [
       "1. 2\n",
       "2. 2\n",
       "3. 1\n",
       "4. 1\n",
       "5. 2\n",
       "6. 2\n",
       "7. 2\n",
       "8. 1\n",
       "9. 2\n",
       "10. 1\n",
       "11. 2\n",
       "12. 2\n",
       "13. 1\n",
       "14. 2\n",
       "15. 2\n",
       "16. 1\n",
       "17. 2\n",
       "\n",
       "\n"
      ],
      "text/plain": [
       " [1] 2 2 1 1 2 2 2 1 2 1 2 2 1 2 2 1 2"
      ]
     },
     "metadata": {},
     "output_type": "display_data"
    }
   ],
   "source": [
    "animals$gro[!is.na(animals$gro)]"
   ]
  },
  {
   "cell_type": "code",
   "execution_count": 117,
   "metadata": {},
   "outputs": [
    {
     "data": {
      "text/html": [
       "<ol class=list-inline>\n",
       "\t<li>2</li>\n",
       "\t<li>2</li>\n",
       "\t<li>1</li>\n",
       "\t<li>1</li>\n",
       "\t<li>2</li>\n",
       "\t<li>2</li>\n",
       "\t<li>2</li>\n",
       "\t<li>1</li>\n",
       "\t<li>2</li>\n",
       "\t<li>1</li>\n",
       "\t<li>2</li>\n",
       "\t<li>2</li>\n",
       "\t<li>1</li>\n",
       "\t<li>2</li>\n",
       "\t<li>2</li>\n",
       "\t<li>1</li>\n",
       "\t<li>2</li>\n",
       "</ol>\n"
      ],
      "text/latex": [
       "\\begin{enumerate*}\n",
       "\\item 2\n",
       "\\item 2\n",
       "\\item 1\n",
       "\\item 1\n",
       "\\item 2\n",
       "\\item 2\n",
       "\\item 2\n",
       "\\item 1\n",
       "\\item 2\n",
       "\\item 1\n",
       "\\item 2\n",
       "\\item 2\n",
       "\\item 1\n",
       "\\item 2\n",
       "\\item 2\n",
       "\\item 1\n",
       "\\item 2\n",
       "\\end{enumerate*}\n"
      ],
      "text/markdown": [
       "1. 2\n",
       "2. 2\n",
       "3. 1\n",
       "4. 1\n",
       "5. 2\n",
       "6. 2\n",
       "7. 2\n",
       "8. 1\n",
       "9. 2\n",
       "10. 1\n",
       "11. 2\n",
       "12. 2\n",
       "13. 1\n",
       "14. 2\n",
       "15. 2\n",
       "16. 1\n",
       "17. 2\n",
       "\n",
       "\n"
      ],
      "text/plain": [
       " [1] 2 2 1 1 2 2 2 1 2 1 2 2 1 2 2 1 2"
      ]
     },
     "metadata": {},
     "output_type": "display_data"
    }
   ],
   "source": [
    "animals$gro[!is.na(animals[, 5])]"
   ]
  },
  {
   "cell_type": "code",
   "execution_count": 118,
   "metadata": {},
   "outputs": [
    {
     "data": {
      "text/html": [
       "\n",
       "<table width=\"100%\" summary=\"page for iris {datasets}\"><tr><td>iris {datasets}</td><td style=\"text-align: right;\">R Documentation</td></tr></table>\n",
       "\n",
       "<h2>Edgar Anderson's Iris Data</h2>\n",
       "\n",
       "<h3>Description</h3>\n",
       "\n",
       "<p>This famous (Fisher's or Anderson's) iris data set gives the\n",
       "measurements in centimeters of the variables sepal length and width\n",
       "and petal length and width, respectively, for 50 flowers from each\n",
       "of 3 species of iris.  The species are <em>Iris setosa</em>,\n",
       "<em>versicolor</em>, and <em>virginica</em>.\n",
       "</p>\n",
       "\n",
       "\n",
       "<h3>Usage</h3>\n",
       "\n",
       "<pre>\n",
       "iris\n",
       "iris3\n",
       "</pre>\n",
       "\n",
       "\n",
       "<h3>Format</h3>\n",
       "\n",
       "<p><code>iris</code> is a data frame with 150 cases (rows) and 5 variables\n",
       "(columns) named <code>Sepal.Length</code>, <code>Sepal.Width</code>,\n",
       "<code>Petal.Length</code>, <code>Petal.Width</code>, and <code>Species</code>.\n",
       "</p>\n",
       "<p><code>iris3</code> gives the same data arranged as a 3-dimensional array\n",
       "of size 50 by 4 by 3, as represented by S-PLUS.  The first dimension\n",
       "gives the case number within the species subsample, the second the\n",
       "measurements with names <code>Sepal L.</code>, <code>Sepal W.</code>,\n",
       "<code>Petal L.</code>, and <code>Petal W.</code>, and the third the species.\n",
       "</p>\n",
       "\n",
       "\n",
       "<h3>Source</h3>\n",
       "\n",
       "<p>Fisher, R. A. (1936)\n",
       "The use of multiple measurements in taxonomic problems.\n",
       "<em>Annals of Eugenics</em>,\n",
       "<b>7</b>, Part II, 179&ndash;188.\n",
       "</p>\n",
       "<p>The data were collected by\n",
       "Anderson, Edgar (1935).\n",
       "The irises of the Gaspe Peninsula,\n",
       "<em>Bulletin of the American Iris Society</em>,\n",
       "<b>59</b>, 2&ndash;5.\n",
       "</p>\n",
       "\n",
       "\n",
       "<h3>References</h3>\n",
       "\n",
       "<p>Becker, R. A., Chambers, J. M. and Wilks, A. R. (1988)\n",
       "<em>The New S Language</em>.\n",
       "Wadsworth &amp; Brooks/Cole. (has <code>iris3</code> as <code>iris</code>.)\n",
       "</p>\n",
       "\n",
       "\n",
       "<h3>See Also</h3>\n",
       "\n",
       "<p><code>matplot</code> some examples of which use\n",
       "<code>iris</code>.\n",
       "</p>\n",
       "\n",
       "\n",
       "<h3>Examples</h3>\n",
       "\n",
       "<pre>\n",
       "dni3 &lt;- dimnames(iris3)\n",
       "ii &lt;- data.frame(matrix(aperm(iris3, c(1,3,2)), ncol = 4,\n",
       "                        dimnames = list(NULL, sub(\" L.\",\".Length\",\n",
       "                                        sub(\" W.\",\".Width\", dni3[[2]])))),\n",
       "    Species = gl(3, 50, labels = sub(\"S\", \"s\", sub(\"V\", \"v\", dni3[[3]]))))\n",
       "all.equal(ii, iris) # TRUE\n",
       "</pre>\n",
       "\n",
       "<hr /><div style=\"text-align: center;\">[Package <em>datasets</em> version 3.6.1 ]</div>"
      ],
      "text/latex": [
       "\\inputencoding{utf8}\n",
       "\\HeaderA{iris}{Edgar Anderson's Iris Data}{iris}\n",
       "\\aliasA{iris3}{iris}{iris3}\n",
       "\\keyword{datasets}{iris}\n",
       "%\n",
       "\\begin{Description}\\relax\n",
       "This famous (Fisher's or Anderson's) iris data set gives the\n",
       "measurements in centimeters of the variables sepal length and width\n",
       "and petal length and width, respectively, for 50 flowers from each\n",
       "of 3 species of iris.  The species are \\emph{Iris setosa},\n",
       "\\emph{versicolor}, and \\emph{virginica}.\n",
       "\\end{Description}\n",
       "%\n",
       "\\begin{Usage}\n",
       "\\begin{verbatim}\n",
       "iris\n",
       "iris3\n",
       "\\end{verbatim}\n",
       "\\end{Usage}\n",
       "%\n",
       "\\begin{Format}\n",
       "\\code{iris} is a data frame with 150 cases (rows) and 5 variables\n",
       "(columns) named \\code{Sepal.Length}, \\code{Sepal.Width},\n",
       "\\code{Petal.Length}, \\code{Petal.Width}, and \\code{Species}.\n",
       "\n",
       "\\code{iris3} gives the same data arranged as a 3-dimensional array\n",
       "of size 50 by 4 by 3, as represented by S-PLUS.  The first dimension\n",
       "gives the case number within the species subsample, the second the\n",
       "measurements with names \\code{Sepal L.}, \\code{Sepal W.},\n",
       "\\code{Petal L.}, and \\code{Petal W.}, and the third the species.\n",
       "\\end{Format}\n",
       "%\n",
       "\\begin{Source}\\relax\n",
       "Fisher, R. A. (1936)\n",
       "The use of multiple measurements in taxonomic problems.\n",
       "\\emph{Annals of Eugenics},\n",
       "\\bold{7}, Part II, 179--188.\n",
       "\n",
       "The data were collected by\n",
       "Anderson, Edgar (1935).\n",
       "The irises of the Gaspe Peninsula,\n",
       "\\emph{Bulletin of the American Iris Society},\n",
       "\\bold{59}, 2--5.\n",
       "\\end{Source}\n",
       "%\n",
       "\\begin{References}\\relax\n",
       "Becker, R. A., Chambers, J. M. and Wilks, A. R. (1988)\n",
       "\\emph{The New S Language}.\n",
       "Wadsworth \\& Brooks/Cole. (has \\code{iris3} as \\code{iris}.)\n",
       "\\end{References}\n",
       "%\n",
       "\\begin{SeeAlso}\\relax\n",
       "\\code{\\LinkA{matplot}{matplot}} some examples of which use\n",
       "\\code{iris}.\n",
       "\\end{SeeAlso}\n",
       "%\n",
       "\\begin{Examples}\n",
       "\\begin{ExampleCode}\n",
       "dni3 <- dimnames(iris3)\n",
       "ii <- data.frame(matrix(aperm(iris3, c(1,3,2)), ncol = 4,\n",
       "                        dimnames = list(NULL, sub(\" L.\",\".Length\",\n",
       "                                        sub(\" W.\",\".Width\", dni3[[2]])))),\n",
       "    Species = gl(3, 50, labels = sub(\"S\", \"s\", sub(\"V\", \"v\", dni3[[3]]))))\n",
       "all.equal(ii, iris) # TRUE\n",
       "\\end{ExampleCode}\n",
       "\\end{Examples}"
      ],
      "text/plain": [
       "iris                 package:datasets                  R Documentation\n",
       "\n",
       "_\bE_\bd_\bg_\ba_\br _\bA_\bn_\bd_\be_\br_\bs_\bo_\bn'_\bs _\bI_\br_\bi_\bs _\bD_\ba_\bt_\ba\n",
       "\n",
       "_\bD_\be_\bs_\bc_\br_\bi_\bp_\bt_\bi_\bo_\bn:\n",
       "\n",
       "     This famous (Fisher's or Anderson's) iris data set gives the\n",
       "     measurements in centimeters of the variables sepal length and\n",
       "     width and petal length and width, respectively, for 50 flowers\n",
       "     from each of 3 species of iris.  The species are _Iris setosa_,\n",
       "     _versicolor_, and _virginica_.\n",
       "\n",
       "_\bU_\bs_\ba_\bg_\be:\n",
       "\n",
       "     iris\n",
       "     iris3\n",
       "     \n",
       "_\bF_\bo_\br_\bm_\ba_\bt:\n",
       "\n",
       "     'iris' is a data frame with 150 cases (rows) and 5 variables\n",
       "     (columns) named 'Sepal.Length', 'Sepal.Width', 'Petal.Length',\n",
       "     'Petal.Width', and 'Species'.\n",
       "\n",
       "     'iris3' gives the same data arranged as a 3-dimensional array of\n",
       "     size 50 by 4 by 3, as represented by S-PLUS.  The first dimension\n",
       "     gives the case number within the species subsample, the second the\n",
       "     measurements with names 'Sepal L.', 'Sepal W.', 'Petal L.', and\n",
       "     'Petal W.', and the third the species.\n",
       "\n",
       "_\bS_\bo_\bu_\br_\bc_\be:\n",
       "\n",
       "     Fisher, R. A. (1936) The use of multiple measurements in taxonomic\n",
       "     problems.  _Annals of Eugenics_, *7*, Part II, 179-188.\n",
       "\n",
       "     The data were collected by Anderson, Edgar (1935).  The irises of\n",
       "     the Gaspe Peninsula, _Bulletin of the American Iris Society_,\n",
       "     *59*, 2-5.\n",
       "\n",
       "_\bR_\be_\bf_\be_\br_\be_\bn_\bc_\be_\bs:\n",
       "\n",
       "     Becker, R. A., Chambers, J. M. and Wilks, A. R. (1988) _The New S\n",
       "     Language_.  Wadsworth & Brooks/Cole. (has 'iris3' as 'iris'.)\n",
       "\n",
       "_\bS_\be_\be _\bA_\bl_\bs_\bo:\n",
       "\n",
       "     'matplot' some examples of which use 'iris'.\n",
       "\n",
       "_\bE_\bx_\ba_\bm_\bp_\bl_\be_\bs:\n",
       "\n",
       "     dni3 <- dimnames(iris3)\n",
       "     ii <- data.frame(matrix(aperm(iris3, c(1,3,2)), ncol = 4,\n",
       "                             dimnames = list(NULL, sub(\" L.\",\".Length\",\n",
       "                                             sub(\" W.\",\".Width\", dni3[[2]])))),\n",
       "         Species = gl(3, 50, labels = sub(\"S\", \"s\", sub(\"V\", \"v\", dni3[[3]]))))\n",
       "     all.equal(ii, iris) # TRUE\n",
       "     "
      ]
     },
     "metadata": {},
     "output_type": "display_data"
    }
   ],
   "source": [
    "?iris"
   ]
  },
  {
   "cell_type": "code",
   "execution_count": 119,
   "metadata": {},
   "outputs": [
    {
     "data": {
      "text/html": [
       "<table>\n",
       "<thead><tr><th scope=col>Sepal.Length</th><th scope=col>Sepal.Width</th><th scope=col>Petal.Length</th><th scope=col>Petal.Width</th><th scope=col>Species</th></tr></thead>\n",
       "<tbody>\n",
       "\t<tr><td>5.1   </td><td>3.5   </td><td>1.4   </td><td>0.2   </td><td>setosa</td></tr>\n",
       "\t<tr><td>4.9   </td><td>3.0   </td><td>1.4   </td><td>0.2   </td><td>setosa</td></tr>\n",
       "\t<tr><td>4.7   </td><td>3.2   </td><td>1.3   </td><td>0.2   </td><td>setosa</td></tr>\n",
       "\t<tr><td>4.6   </td><td>3.1   </td><td>1.5   </td><td>0.2   </td><td>setosa</td></tr>\n",
       "\t<tr><td>5.0   </td><td>3.6   </td><td>1.4   </td><td>0.2   </td><td>setosa</td></tr>\n",
       "\t<tr><td>5.4   </td><td>3.9   </td><td>1.7   </td><td>0.4   </td><td>setosa</td></tr>\n",
       "\t<tr><td>4.6   </td><td>3.4   </td><td>1.4   </td><td>0.3   </td><td>setosa</td></tr>\n",
       "\t<tr><td>5.0   </td><td>3.4   </td><td>1.5   </td><td>0.2   </td><td>setosa</td></tr>\n",
       "\t<tr><td>4.4   </td><td>2.9   </td><td>1.4   </td><td>0.2   </td><td>setosa</td></tr>\n",
       "\t<tr><td>4.9   </td><td>3.1   </td><td>1.5   </td><td>0.1   </td><td>setosa</td></tr>\n",
       "</tbody>\n",
       "</table>\n"
      ],
      "text/latex": [
       "\\begin{tabular}{r|lllll}\n",
       " Sepal.Length & Sepal.Width & Petal.Length & Petal.Width & Species\\\\\n",
       "\\hline\n",
       "\t 5.1    & 3.5    & 1.4    & 0.2    & setosa\\\\\n",
       "\t 4.9    & 3.0    & 1.4    & 0.2    & setosa\\\\\n",
       "\t 4.7    & 3.2    & 1.3    & 0.2    & setosa\\\\\n",
       "\t 4.6    & 3.1    & 1.5    & 0.2    & setosa\\\\\n",
       "\t 5.0    & 3.6    & 1.4    & 0.2    & setosa\\\\\n",
       "\t 5.4    & 3.9    & 1.7    & 0.4    & setosa\\\\\n",
       "\t 4.6    & 3.4    & 1.4    & 0.3    & setosa\\\\\n",
       "\t 5.0    & 3.4    & 1.5    & 0.2    & setosa\\\\\n",
       "\t 4.4    & 2.9    & 1.4    & 0.2    & setosa\\\\\n",
       "\t 4.9    & 3.1    & 1.5    & 0.1    & setosa\\\\\n",
       "\\end{tabular}\n"
      ],
      "text/markdown": [
       "\n",
       "| Sepal.Length | Sepal.Width | Petal.Length | Petal.Width | Species |\n",
       "|---|---|---|---|---|\n",
       "| 5.1    | 3.5    | 1.4    | 0.2    | setosa |\n",
       "| 4.9    | 3.0    | 1.4    | 0.2    | setosa |\n",
       "| 4.7    | 3.2    | 1.3    | 0.2    | setosa |\n",
       "| 4.6    | 3.1    | 1.5    | 0.2    | setosa |\n",
       "| 5.0    | 3.6    | 1.4    | 0.2    | setosa |\n",
       "| 5.4    | 3.9    | 1.7    | 0.4    | setosa |\n",
       "| 4.6    | 3.4    | 1.4    | 0.3    | setosa |\n",
       "| 5.0    | 3.4    | 1.5    | 0.2    | setosa |\n",
       "| 4.4    | 2.9    | 1.4    | 0.2    | setosa |\n",
       "| 4.9    | 3.1    | 1.5    | 0.1    | setosa |\n",
       "\n"
      ],
      "text/plain": [
       "   Sepal.Length Sepal.Width Petal.Length Petal.Width Species\n",
       "1  5.1          3.5         1.4          0.2         setosa \n",
       "2  4.9          3.0         1.4          0.2         setosa \n",
       "3  4.7          3.2         1.3          0.2         setosa \n",
       "4  4.6          3.1         1.5          0.2         setosa \n",
       "5  5.0          3.6         1.4          0.2         setosa \n",
       "6  5.4          3.9         1.7          0.4         setosa \n",
       "7  4.6          3.4         1.4          0.3         setosa \n",
       "8  5.0          3.4         1.5          0.2         setosa \n",
       "9  4.4          2.9         1.4          0.2         setosa \n",
       "10 4.9          3.1         1.5          0.1         setosa "
      ]
     },
     "metadata": {},
     "output_type": "display_data"
    }
   ],
   "source": [
    "head(iris, 10)"
   ]
  },
  {
   "cell_type": "code",
   "execution_count": 120,
   "metadata": {},
   "outputs": [
    {
     "data": {
      "text/html": [
       "<table>\n",
       "<thead><tr><th></th><th scope=col>Sepal.Length</th><th scope=col>Sepal.Width</th><th scope=col>Petal.Length</th><th scope=col>Petal.Width</th><th scope=col>Species</th></tr></thead>\n",
       "<tbody>\n",
       "\t<tr><th scope=row>145</th><td>6.7      </td><td>3.3      </td><td>5.7      </td><td>2.5      </td><td>virginica</td></tr>\n",
       "\t<tr><th scope=row>146</th><td>6.7      </td><td>3.0      </td><td>5.2      </td><td>2.3      </td><td>virginica</td></tr>\n",
       "\t<tr><th scope=row>147</th><td>6.3      </td><td>2.5      </td><td>5.0      </td><td>1.9      </td><td>virginica</td></tr>\n",
       "\t<tr><th scope=row>148</th><td>6.5      </td><td>3.0      </td><td>5.2      </td><td>2.0      </td><td>virginica</td></tr>\n",
       "\t<tr><th scope=row>149</th><td>6.2      </td><td>3.4      </td><td>5.4      </td><td>2.3      </td><td>virginica</td></tr>\n",
       "\t<tr><th scope=row>150</th><td>5.9      </td><td>3.0      </td><td>5.1      </td><td>1.8      </td><td>virginica</td></tr>\n",
       "</tbody>\n",
       "</table>\n"
      ],
      "text/latex": [
       "\\begin{tabular}{r|lllll}\n",
       "  & Sepal.Length & Sepal.Width & Petal.Length & Petal.Width & Species\\\\\n",
       "\\hline\n",
       "\t145 & 6.7       & 3.3       & 5.7       & 2.5       & virginica\\\\\n",
       "\t146 & 6.7       & 3.0       & 5.2       & 2.3       & virginica\\\\\n",
       "\t147 & 6.3       & 2.5       & 5.0       & 1.9       & virginica\\\\\n",
       "\t148 & 6.5       & 3.0       & 5.2       & 2.0       & virginica\\\\\n",
       "\t149 & 6.2       & 3.4       & 5.4       & 2.3       & virginica\\\\\n",
       "\t150 & 5.9       & 3.0       & 5.1       & 1.8       & virginica\\\\\n",
       "\\end{tabular}\n"
      ],
      "text/markdown": [
       "\n",
       "| <!--/--> | Sepal.Length | Sepal.Width | Petal.Length | Petal.Width | Species |\n",
       "|---|---|---|---|---|---|\n",
       "| 145 | 6.7       | 3.3       | 5.7       | 2.5       | virginica |\n",
       "| 146 | 6.7       | 3.0       | 5.2       | 2.3       | virginica |\n",
       "| 147 | 6.3       | 2.5       | 5.0       | 1.9       | virginica |\n",
       "| 148 | 6.5       | 3.0       | 5.2       | 2.0       | virginica |\n",
       "| 149 | 6.2       | 3.4       | 5.4       | 2.3       | virginica |\n",
       "| 150 | 5.9       | 3.0       | 5.1       | 1.8       | virginica |\n",
       "\n"
      ],
      "text/plain": [
       "    Sepal.Length Sepal.Width Petal.Length Petal.Width Species  \n",
       "145 6.7          3.3         5.7          2.5         virginica\n",
       "146 6.7          3.0         5.2          2.3         virginica\n",
       "147 6.3          2.5         5.0          1.9         virginica\n",
       "148 6.5          3.0         5.2          2.0         virginica\n",
       "149 6.2          3.4         5.4          2.3         virginica\n",
       "150 5.9          3.0         5.1          1.8         virginica"
      ]
     },
     "metadata": {},
     "output_type": "display_data"
    }
   ],
   "source": [
    "tail(iris)"
   ]
  },
  {
   "cell_type": "code",
   "execution_count": 121,
   "metadata": {},
   "outputs": [
    {
     "data": {
      "text/html": [
       "<ol class=list-inline>\n",
       "\t<li>150</li>\n",
       "\t<li>5</li>\n",
       "</ol>\n"
      ],
      "text/latex": [
       "\\begin{enumerate*}\n",
       "\\item 150\n",
       "\\item 5\n",
       "\\end{enumerate*}\n"
      ],
      "text/markdown": [
       "1. 150\n",
       "2. 5\n",
       "\n",
       "\n"
      ],
      "text/plain": [
       "[1] 150   5"
      ]
     },
     "metadata": {},
     "output_type": "display_data"
    }
   ],
   "source": [
    "dim(iris)"
   ]
  },
  {
   "cell_type": "code",
   "execution_count": 122,
   "metadata": {},
   "outputs": [
    {
     "name": "stdout",
     "output_type": "stream",
     "text": [
      "'data.frame':\t150 obs. of  5 variables:\n",
      " $ Sepal.Length: num  5.1 4.9 4.7 4.6 5 5.4 4.6 5 4.4 4.9 ...\n",
      " $ Sepal.Width : num  3.5 3 3.2 3.1 3.6 3.9 3.4 3.4 2.9 3.1 ...\n",
      " $ Petal.Length: num  1.4 1.4 1.3 1.5 1.4 1.7 1.4 1.5 1.4 1.5 ...\n",
      " $ Petal.Width : num  0.2 0.2 0.2 0.2 0.2 0.4 0.3 0.2 0.2 0.1 ...\n",
      " $ Species     : Factor w/ 3 levels \"setosa\",\"versicolor\",..: 1 1 1 1 1 1 1 1 1 1 ...\n"
     ]
    }
   ],
   "source": [
    "str(iris)"
   ]
  },
  {
   "cell_type": "code",
   "execution_count": 123,
   "metadata": {},
   "outputs": [
    {
     "data": {
      "text/plain": [
       "  Sepal.Length    Sepal.Width     Petal.Length    Petal.Width   \n",
       " Min.   :4.300   Min.   :2.000   Min.   :1.000   Min.   :0.100  \n",
       " 1st Qu.:5.100   1st Qu.:2.800   1st Qu.:1.600   1st Qu.:0.300  \n",
       " Median :5.800   Median :3.000   Median :4.350   Median :1.300  \n",
       " Mean   :5.843   Mean   :3.057   Mean   :3.758   Mean   :1.199  \n",
       " 3rd Qu.:6.400   3rd Qu.:3.300   3rd Qu.:5.100   3rd Qu.:1.800  \n",
       " Max.   :7.900   Max.   :4.400   Max.   :6.900   Max.   :2.500  \n",
       "       Species  \n",
       " setosa    :50  \n",
       " versicolor:50  \n",
       " virginica :50  \n",
       "                \n",
       "                \n",
       "                "
      ]
     },
     "metadata": {},
     "output_type": "display_data"
    }
   ],
   "source": [
    "summary(iris)"
   ]
  },
  {
   "cell_type": "code",
   "execution_count": 124,
   "metadata": {},
   "outputs": [
    {
     "data": {
      "text/html": [
       "<ol class=list-inline>\n",
       "\t<li>setosa</li>\n",
       "\t<li>versicolor</li>\n",
       "\t<li>virginica</li>\n",
       "</ol>\n",
       "\n",
       "<details>\n",
       "\t<summary style=display:list-item;cursor:pointer>\n",
       "\t\t<strong>Levels</strong>:\n",
       "\t</summary>\n",
       "\t<ol class=list-inline>\n",
       "\t\t<li>'setosa'</li>\n",
       "\t\t<li>'versicolor'</li>\n",
       "\t\t<li>'virginica'</li>\n",
       "\t</ol>\n",
       "</details>"
      ],
      "text/latex": [
       "\\begin{enumerate*}\n",
       "\\item setosa\n",
       "\\item versicolor\n",
       "\\item virginica\n",
       "\\end{enumerate*}\n",
       "\n",
       "\\emph{Levels}: \\begin{enumerate*}\n",
       "\\item 'setosa'\n",
       "\\item 'versicolor'\n",
       "\\item 'virginica'\n",
       "\\end{enumerate*}\n"
      ],
      "text/markdown": [
       "1. setosa\n",
       "2. versicolor\n",
       "3. virginica\n",
       "\n",
       "\n",
       "\n",
       "**Levels**: 1. 'setosa'\n",
       "2. 'versicolor'\n",
       "3. 'virginica'\n",
       "\n",
       "\n"
      ],
      "text/plain": [
       "[1] setosa     versicolor virginica \n",
       "Levels: setosa versicolor virginica"
      ]
     },
     "metadata": {},
     "output_type": "display_data"
    }
   ],
   "source": [
    "unique(iris$Species)"
   ]
  },
  {
   "cell_type": "code",
   "execution_count": 125,
   "metadata": {},
   "outputs": [
    {
     "data": {
      "text/html": [
       "<ol class=list-inline>\n",
       "\t<li>'setosa'</li>\n",
       "\t<li>'versicolor'</li>\n",
       "\t<li>'virginica'</li>\n",
       "</ol>\n"
      ],
      "text/latex": [
       "\\begin{enumerate*}\n",
       "\\item 'setosa'\n",
       "\\item 'versicolor'\n",
       "\\item 'virginica'\n",
       "\\end{enumerate*}\n"
      ],
      "text/markdown": [
       "1. 'setosa'\n",
       "2. 'versicolor'\n",
       "3. 'virginica'\n",
       "\n",
       "\n"
      ],
      "text/plain": [
       "[1] \"setosa\"     \"versicolor\" \"virginica\" "
      ]
     },
     "metadata": {},
     "output_type": "display_data"
    }
   ],
   "source": [
    "levels(iris$Species)"
   ]
  },
  {
   "cell_type": "code",
   "execution_count": 126,
   "metadata": {},
   "outputs": [
    {
     "data": {
      "text/html": [
       "5.1"
      ],
      "text/latex": [
       "5.1"
      ],
      "text/markdown": [
       "5.1"
      ],
      "text/plain": [
       "[1] 5.1"
      ]
     },
     "metadata": {},
     "output_type": "display_data"
    }
   ],
   "source": [
    "iris[1, 1]"
   ]
  },
  {
   "cell_type": "code",
   "execution_count": 7,
   "metadata": {},
   "outputs": [
    {
     "data": {
      "text/html": [
       "<table>\n",
       "<thead><tr><th scope=col>Sepal.Width</th><th scope=col>Petal.Length</th><th scope=col>Species</th></tr></thead>\n",
       "<tbody>\n",
       "\t<tr><td>3.5   </td><td>1.4   </td><td>setosa</td></tr>\n",
       "\t<tr><td>3.0   </td><td>1.4   </td><td>setosa</td></tr>\n",
       "\t<tr><td>3.2   </td><td>1.3   </td><td>setosa</td></tr>\n",
       "\t<tr><td>3.1   </td><td>1.5   </td><td>setosa</td></tr>\n",
       "\t<tr><td>3.6   </td><td>1.4   </td><td>setosa</td></tr>\n",
       "</tbody>\n",
       "</table>\n"
      ],
      "text/latex": [
       "\\begin{tabular}{r|lll}\n",
       " Sepal.Width & Petal.Length & Species\\\\\n",
       "\\hline\n",
       "\t 3.5    & 1.4    & setosa\\\\\n",
       "\t 3.0    & 1.4    & setosa\\\\\n",
       "\t 3.2    & 1.3    & setosa\\\\\n",
       "\t 3.1    & 1.5    & setosa\\\\\n",
       "\t 3.6    & 1.4    & setosa\\\\\n",
       "\\end{tabular}\n"
      ],
      "text/markdown": [
       "\n",
       "| Sepal.Width | Petal.Length | Species |\n",
       "|---|---|---|\n",
       "| 3.5    | 1.4    | setosa |\n",
       "| 3.0    | 1.4    | setosa |\n",
       "| 3.2    | 1.3    | setosa |\n",
       "| 3.1    | 1.5    | setosa |\n",
       "| 3.6    | 1.4    | setosa |\n",
       "\n"
      ],
      "text/plain": [
       "  Sepal.Width Petal.Length Species\n",
       "1 3.5         1.4          setosa \n",
       "2 3.0         1.4          setosa \n",
       "3 3.2         1.3          setosa \n",
       "4 3.1         1.5          setosa \n",
       "5 3.6         1.4          setosa "
      ]
     },
     "metadata": {},
     "output_type": "display_data"
    }
   ],
   "source": [
    "traindat<-iris[1:5, c(2, 3, 5)]\n",
    "traindat"
   ]
  },
  {
   "cell_type": "code",
   "execution_count": 10,
   "metadata": {},
   "outputs": [
    {
     "data": {
      "text/html": [
       "<table>\n",
       "<thead><tr><th></th><th scope=col>Sepal.Width</th><th scope=col>Petal.Length</th><th scope=col>Species</th></tr></thead>\n",
       "<tbody>\n",
       "\t<tr><th scope=row>1</th><td>3.5   </td><td>1.4   </td><td>setosa</td></tr>\n",
       "\t<tr><th scope=row>3</th><td>3.2   </td><td>1.3   </td><td>setosa</td></tr>\n",
       "\t<tr><th scope=row>4</th><td>3.1   </td><td>1.5   </td><td>setosa</td></tr>\n",
       "\t<tr><th scope=row>5</th><td>3.6   </td><td>1.4   </td><td>setosa</td></tr>\n",
       "</tbody>\n",
       "</table>\n"
      ],
      "text/latex": [
       "\\begin{tabular}{r|lll}\n",
       "  & Sepal.Width & Petal.Length & Species\\\\\n",
       "\\hline\n",
       "\t1 & 3.5    & 1.4    & setosa\\\\\n",
       "\t3 & 3.2    & 1.3    & setosa\\\\\n",
       "\t4 & 3.1    & 1.5    & setosa\\\\\n",
       "\t5 & 3.6    & 1.4    & setosa\\\\\n",
       "\\end{tabular}\n"
      ],
      "text/markdown": [
       "\n",
       "| <!--/--> | Sepal.Width | Petal.Length | Species |\n",
       "|---|---|---|---|\n",
       "| 1 | 3.5    | 1.4    | setosa |\n",
       "| 3 | 3.2    | 1.3    | setosa |\n",
       "| 4 | 3.1    | 1.5    | setosa |\n",
       "| 5 | 3.6    | 1.4    | setosa |\n",
       "\n"
      ],
      "text/plain": [
       "  Sepal.Width Petal.Length Species\n",
       "1 3.5         1.4          setosa \n",
       "3 3.2         1.3          setosa \n",
       "4 3.1         1.5          setosa \n",
       "5 3.6         1.4          setosa "
      ]
     },
     "metadata": {},
     "output_type": "display_data"
    }
   ],
   "source": [
    "traindat[traindat$Sepal.Width > 3, ]"
   ]
  },
  {
   "cell_type": "code",
   "execution_count": 11,
   "metadata": {},
   "outputs": [
    {
     "data": {
      "text/html": [
       "<table>\n",
       "<thead><tr><th></th><th scope=col>Sepal.Width</th><th scope=col>Petal.Length</th><th scope=col>Species</th></tr></thead>\n",
       "<tbody>\n",
       "\t<tr><th scope=row>1</th><td>3.5   </td><td>1.4   </td><td>setosa</td></tr>\n",
       "\t<tr><th scope=row>3</th><td>3.2   </td><td>1.3   </td><td>setosa</td></tr>\n",
       "\t<tr><th scope=row>4</th><td>3.1   </td><td>1.5   </td><td>setosa</td></tr>\n",
       "\t<tr><th scope=row>5</th><td>3.6   </td><td>1.4   </td><td>setosa</td></tr>\n",
       "</tbody>\n",
       "</table>\n"
      ],
      "text/latex": [
       "\\begin{tabular}{r|lll}\n",
       "  & Sepal.Width & Petal.Length & Species\\\\\n",
       "\\hline\n",
       "\t1 & 3.5    & 1.4    & setosa\\\\\n",
       "\t3 & 3.2    & 1.3    & setosa\\\\\n",
       "\t4 & 3.1    & 1.5    & setosa\\\\\n",
       "\t5 & 3.6    & 1.4    & setosa\\\\\n",
       "\\end{tabular}\n"
      ],
      "text/markdown": [
       "\n",
       "| <!--/--> | Sepal.Width | Petal.Length | Species |\n",
       "|---|---|---|---|\n",
       "| 1 | 3.5    | 1.4    | setosa |\n",
       "| 3 | 3.2    | 1.3    | setosa |\n",
       "| 4 | 3.1    | 1.5    | setosa |\n",
       "| 5 | 3.6    | 1.4    | setosa |\n",
       "\n"
      ],
      "text/plain": [
       "  Sepal.Width Petal.Length Species\n",
       "1 3.5         1.4          setosa \n",
       "3 3.2         1.3          setosa \n",
       "4 3.1         1.5          setosa \n",
       "5 3.6         1.4          setosa "
      ]
     },
     "metadata": {},
     "output_type": "display_data"
    }
   ],
   "source": [
    "traindat[traindat['Sepal.Width'] > 3, ]"
   ]
  },
  {
   "cell_type": "code",
   "execution_count": 136,
   "metadata": {},
   "outputs": [
    {
     "data": {
      "text/html": [
       "<table>\n",
       "<thead><tr><th></th><th scope=col>Sepal.Width</th><th scope=col>Petal.Length</th><th scope=col>Species</th></tr></thead>\n",
       "<tbody>\n",
       "\t<tr><th scope=row>4</th><td>3.1   </td><td>1.5   </td><td>setosa</td></tr>\n",
       "</tbody>\n",
       "</table>\n"
      ],
      "text/latex": [
       "\\begin{tabular}{r|lll}\n",
       "  & Sepal.Width & Petal.Length & Species\\\\\n",
       "\\hline\n",
       "\t4 & 3.1    & 1.5    & setosa\\\\\n",
       "\\end{tabular}\n"
      ],
      "text/markdown": [
       "\n",
       "| <!--/--> | Sepal.Width | Petal.Length | Species |\n",
       "|---|---|---|---|\n",
       "| 4 | 3.1    | 1.5    | setosa |\n",
       "\n"
      ],
      "text/plain": [
       "  Sepal.Width Petal.Length Species\n",
       "4 3.1         1.5          setosa "
      ]
     },
     "metadata": {},
     "output_type": "display_data"
    }
   ],
   "source": [
    "traindat[traindat$Sepal.Width > 3 & traindat$Petal.Length > 1.4, ]"
   ]
  },
  {
   "cell_type": "markdown",
   "metadata": {},
   "source": [
    "### Создание dataset"
   ]
  },
  {
   "cell_type": "code",
   "execution_count": 149,
   "metadata": {},
   "outputs": [],
   "source": [
    "weight<-c(78, 56, 67, 48, 69, 90)"
   ]
  },
  {
   "cell_type": "code",
   "execution_count": 150,
   "metadata": {},
   "outputs": [],
   "source": [
    "height<-c(170, 160, 165, 159, 170, 185)"
   ]
  },
  {
   "cell_type": "code",
   "execution_count": 151,
   "metadata": {},
   "outputs": [],
   "source": [
    "sex<-c(rep('F', 3), rep('M', 3))"
   ]
  },
  {
   "cell_type": "code",
   "execution_count": 152,
   "metadata": {},
   "outputs": [
    {
     "data": {
      "text/html": [
       "<ol class=list-inline>\n",
       "\t<li>'F'</li>\n",
       "\t<li>'F'</li>\n",
       "\t<li>'F'</li>\n",
       "\t<li>'M'</li>\n",
       "\t<li>'M'</li>\n",
       "\t<li>'M'</li>\n",
       "</ol>\n"
      ],
      "text/latex": [
       "\\begin{enumerate*}\n",
       "\\item 'F'\n",
       "\\item 'F'\n",
       "\\item 'F'\n",
       "\\item 'M'\n",
       "\\item 'M'\n",
       "\\item 'M'\n",
       "\\end{enumerate*}\n"
      ],
      "text/markdown": [
       "1. 'F'\n",
       "2. 'F'\n",
       "3. 'F'\n",
       "4. 'M'\n",
       "5. 'M'\n",
       "6. 'M'\n",
       "\n",
       "\n"
      ],
      "text/plain": [
       "[1] \"F\" \"F\" \"F\" \"M\" \"M\" \"M\""
      ]
     },
     "metadata": {},
     "output_type": "display_data"
    }
   ],
   "source": [
    "sex"
   ]
  },
  {
   "cell_type": "code",
   "execution_count": 153,
   "metadata": {},
   "outputs": [
    {
     "data": {
      "text/html": [
       "'character'"
      ],
      "text/latex": [
       "'character'"
      ],
      "text/markdown": [
       "'character'"
      ],
      "text/plain": [
       "[1] \"character\""
      ]
     },
     "metadata": {},
     "output_type": "display_data"
    }
   ],
   "source": [
    "class(sex)"
   ]
  },
  {
   "cell_type": "code",
   "execution_count": 154,
   "metadata": {},
   "outputs": [
    {
     "data": {
      "text/html": [
       "<table>\n",
       "<thead><tr><th scope=col>weight</th><th scope=col>height</th><th scope=col>sex</th></tr></thead>\n",
       "<tbody>\n",
       "\t<tr><td>78 </td><td>170</td><td>F  </td></tr>\n",
       "\t<tr><td>56 </td><td>160</td><td>F  </td></tr>\n",
       "\t<tr><td>67 </td><td>165</td><td>F  </td></tr>\n",
       "\t<tr><td>48 </td><td>159</td><td>M  </td></tr>\n",
       "\t<tr><td>69 </td><td>170</td><td>M  </td></tr>\n",
       "\t<tr><td>90 </td><td>185</td><td>M  </td></tr>\n",
       "</tbody>\n",
       "</table>\n"
      ],
      "text/latex": [
       "\\begin{tabular}{r|lll}\n",
       " weight & height & sex\\\\\n",
       "\\hline\n",
       "\t 78  & 170 & F  \\\\\n",
       "\t 56  & 160 & F  \\\\\n",
       "\t 67  & 165 & F  \\\\\n",
       "\t 48  & 159 & M  \\\\\n",
       "\t 69  & 170 & M  \\\\\n",
       "\t 90  & 185 & M  \\\\\n",
       "\\end{tabular}\n"
      ],
      "text/markdown": [
       "\n",
       "| weight | height | sex |\n",
       "|---|---|---|\n",
       "| 78  | 170 | F   |\n",
       "| 56  | 160 | F   |\n",
       "| 67  | 165 | F   |\n",
       "| 48  | 159 | M   |\n",
       "| 69  | 170 | M   |\n",
       "| 90  | 185 | M   |\n",
       "\n"
      ],
      "text/plain": [
       "  weight height sex\n",
       "1 78     170    F  \n",
       "2 56     160    F  \n",
       "3 67     165    F  \n",
       "4 48     159    M  \n",
       "5 69     170    M  \n",
       "6 90     185    M  "
      ]
     },
     "metadata": {},
     "output_type": "display_data"
    }
   ],
   "source": [
    "df_1<-data.frame(weight, height, sex, stringsAsFactors = F)\n",
    "df_1"
   ]
  },
  {
   "cell_type": "code",
   "execution_count": 155,
   "metadata": {},
   "outputs": [
    {
     "name": "stdout",
     "output_type": "stream",
     "text": [
      "'data.frame':\t6 obs. of  3 variables:\n",
      " $ weight: num  78 56 67 48 69 90\n",
      " $ height: num  170 160 165 159 170 185\n",
      " $ sex   : chr  \"F\" \"F\" \"F\" \"M\" ...\n"
     ]
    }
   ],
   "source": [
    "str(df_1)"
   ]
  },
  {
   "cell_type": "code",
   "execution_count": 156,
   "metadata": {
    "collapsed": true,
    "jupyter": {
     "outputs_hidden": true
    }
   },
   "outputs": [
    {
     "data": {
      "text/html": [
       "\n",
       "<table width=\"100%\" summary=\"page for data.frame {base}\"><tr><td>data.frame {base}</td><td style=\"text-align: right;\">R Documentation</td></tr></table>\n",
       "\n",
       "<h2>Data Frames</h2>\n",
       "\n",
       "<h3>Description</h3>\n",
       "\n",
       "<p>The function <code>data.frame()</code> creates data frames, tightly coupled\n",
       "collections of variables which share many of the properties of\n",
       "matrices and of lists, used as the fundamental data structure by most\n",
       "of <span style=\"font-family: Courier New, Courier; color: #666666;\"><b>R</b></span>'s modeling software.\n",
       "</p>\n",
       "\n",
       "\n",
       "<h3>Usage</h3>\n",
       "\n",
       "<pre>\n",
       "data.frame(..., row.names = NULL, check.rows = FALSE,\n",
       "           check.names = TRUE, fix.empty.names = TRUE,\n",
       "           stringsAsFactors = default.stringsAsFactors())\n",
       "\n",
       "default.stringsAsFactors()\n",
       "</pre>\n",
       "\n",
       "\n",
       "<h3>Arguments</h3>\n",
       "\n",
       "<table summary=\"R argblock\">\n",
       "<tr valign=\"top\"><td><code>...</code></td>\n",
       "<td>\n",
       "<p>these arguments are of either the form <code>value</code> or\n",
       "<code>tag = value</code>.  Component names are created based on the tag (if\n",
       "present) or the deparsed argument itself.</p>\n",
       "</td></tr>\n",
       "<tr valign=\"top\"><td><code>row.names</code></td>\n",
       "<td>\n",
       "<p><code>NULL</code> or a single integer or character string\n",
       "specifying a column to be used as row names, or a character or\n",
       "integer vector giving the row names for the data frame.</p>\n",
       "</td></tr>\n",
       "<tr valign=\"top\"><td><code>check.rows</code></td>\n",
       "<td>\n",
       "<p>if <code>TRUE</code> then the rows are checked for\n",
       "consistency of length and names.</p>\n",
       "</td></tr>\n",
       "<tr valign=\"top\"><td><code>check.names</code></td>\n",
       "<td>\n",
       "<p>logical.  If <code>TRUE</code> then the names of the\n",
       "variables in the data frame are checked to ensure that they are\n",
       "syntactically valid variable names and are not duplicated.\n",
       "If necessary they are adjusted (by <code>make.names</code>)\n",
       "so that they are.</p>\n",
       "</td></tr>\n",
       "<tr valign=\"top\"><td><code>fix.empty.names</code></td>\n",
       "<td>\n",
       "<p>logical indicating if arguments which are\n",
       "&ldquo;unnamed&rdquo; (in the sense of not being formally called as\n",
       "<code>someName = arg</code>) get an automatically constructed name or\n",
       "rather name <code>\"\"</code>.  Needs to be set to <code>FALSE</code> even when\n",
       "<code>check.names</code> is false if <code>\"\"</code> names should be kept.</p>\n",
       "</td></tr>\n",
       "<tr valign=\"top\"><td><code>stringsAsFactors</code></td>\n",
       "<td>\n",
       "<p>logical: should character vectors be converted\n",
       "to factors?  The &lsquo;factory-fresh&rsquo; default is <code>TRUE</code>, but\n",
       "this can be changed by setting <code>options(stringsAsFactors\n",
       "      = FALSE)</code>.</p>\n",
       "</td></tr>\n",
       "</table>\n",
       "\n",
       "\n",
       "<h3>Details</h3>\n",
       "\n",
       "<p>A data frame is a list of variables of the same number of rows with\n",
       "unique row names, given class <code>\"data.frame\"</code>.  If no variables\n",
       "are included, the row names determine the number of rows.\n",
       "</p>\n",
       "<p>The column names should be non-empty, and attempts to use empty names\n",
       "will have unsupported results.  Duplicate column names are allowed,\n",
       "but you need to use <code>check.names = FALSE</code> for <code>data.frame</code>\n",
       "to generate such a data frame.  However, not all operations on data\n",
       "frames will preserve duplicated column names: for example matrix-like\n",
       "subsetting will force column names in the result to be unique.\n",
       "</p>\n",
       "<p><code>data.frame</code> converts each of its arguments to a data frame by\n",
       "calling <code>as.data.frame(optional = TRUE)</code>.  As that is a\n",
       "generic function, methods can be written to change the behaviour of\n",
       "arguments according to their classes: <span style=\"font-family: Courier New, Courier; color: #666666;\"><b>R</b></span> comes with many such methods.\n",
       "Character variables passed to <code>data.frame</code> are converted to\n",
       "factor columns unless protected by <code>I</code> or argument\n",
       "<code>stringsAsFactors</code> is false.  If a list or data\n",
       "frame or matrix is passed to <code>data.frame</code> it is as if each\n",
       "component or column had been passed as a separate argument (except for\n",
       "matrices protected by <code>I</code>).\n",
       "</p>\n",
       "<p>Objects passed to <code>data.frame</code> should have the same number of\n",
       "rows, but atomic vectors (see <code>is.vector</code>), factors and\n",
       "character vectors protected by <code>I</code> will be recycled a\n",
       "whole number of times if necessary (including as elements of list\n",
       "arguments).\n",
       "</p>\n",
       "<p>If row names are not supplied in the call to <code>data.frame</code>, the\n",
       "row names are taken from the first component that has suitable names,\n",
       "for example a named vector or a matrix with rownames or a data frame.\n",
       "(If that component is subsequently recycled, the names are discarded\n",
       "with a warning.)  If <code>row.names</code> was supplied as <code>NULL</code> or no\n",
       "suitable component was found the row names are the integer sequence\n",
       "starting at one (and such row names are considered to be\n",
       "&lsquo;automatic&rsquo;, and not preserved by <code>as.matrix</code>).\n",
       "</p>\n",
       "<p>If row names are supplied of length one and the data frame has a\n",
       "single row, the <code>row.names</code> is taken to specify the row names and\n",
       "not a column (by name or number).\n",
       "</p>\n",
       "<p>Names are removed from vector inputs not protected by <code>I</code>.\n",
       "</p>\n",
       "<p><code>default.stringsAsFactors</code> is a utility that takes\n",
       "<code>getOption(\"stringsAsFactors\")</code> and ensures the result is\n",
       "<code>TRUE</code> or <code>FALSE</code> (or throws an error if the value is not\n",
       "<code>NULL</code>).\n",
       "</p>\n",
       "\n",
       "\n",
       "<h3>Value</h3>\n",
       "\n",
       "<p>A data frame, a matrix-like structure whose columns may be of\n",
       "differing types (numeric, logical, factor and character and so on).\n",
       "</p>\n",
       "<p>How the names of the data frame are created is complex, and the rest\n",
       "of this paragraph is only the basic story.  If the arguments are all\n",
       "named and simple objects (not lists, matrices of data frames) then the\n",
       "argument names give the column names.  For an unnamed simple argument,\n",
       "a deparsed version of the argument is used as the name (with an\n",
       "enclosing <code>I(...)</code> removed).  For a named matrix/list/data frame\n",
       "argument with more than one named column, the names of the columns are\n",
       "the name of the argument followed by a dot and the column name inside\n",
       "the argument: if the argument is unnamed, the argument's column names\n",
       "are used.  For a named or unnamed matrix/list/data frame argument that\n",
       "contains a single column, the column name in the result is the column\n",
       "name in the argument.  Finally, the names are adjusted to be unique\n",
       "and syntactically valid unless <code>check.names = FALSE</code>.\n",
       "</p>\n",
       "\n",
       "\n",
       "<h3>Note</h3>\n",
       "\n",
       "<p>In versions of <span style=\"font-family: Courier New, Courier; color: #666666;\"><b>R</b></span> prior to 2.4.0 <code>row.names</code> had to be\n",
       "character: to ensure compatibility with such versions of <span style=\"font-family: Courier New, Courier; color: #666666;\"><b>R</b></span>, supply\n",
       "a character vector as the <code>row.names</code> argument.\n",
       "</p>\n",
       "\n",
       "\n",
       "<h3>References</h3>\n",
       "\n",
       "<p>Chambers, J. M. (1992)\n",
       "<em>Data for models.</em>\n",
       "Chapter 3 of <em>Statistical Models in S</em>\n",
       "eds J. M. Chambers and T. J. Hastie, Wadsworth &amp; Brooks/Cole.\n",
       "</p>\n",
       "\n",
       "\n",
       "<h3>See Also</h3>\n",
       "\n",
       "<p><code>I</code>,\n",
       "<code>plot.data.frame</code>,\n",
       "<code>print.data.frame</code>,\n",
       "<code>row.names</code>, <code>names</code> (for the column names),\n",
       "<code>[.data.frame</code> for subsetting methods \n",
       "and <code>I(matrix(..))</code> examples;\n",
       "<code>Math.data.frame</code> etc, about\n",
       "<em>Group</em> methods for <code>data.frame</code>s;\n",
       "<code>read.table</code>,\n",
       "<code>make.names</code>.\n",
       "</p>\n",
       "\n",
       "\n",
       "<h3>Examples</h3>\n",
       "\n",
       "<pre>\n",
       "L3 &lt;- LETTERS[1:3]\n",
       "fac &lt;- sample(L3, 10, replace = TRUE)\n",
       "(d &lt;- data.frame(x = 1, y = 1:10, fac = fac))\n",
       "## The \"same\" with automatic column names:\n",
       "data.frame(1, 1:10, sample(L3, 10, replace = TRUE))\n",
       "\n",
       "is.data.frame(d)\n",
       "\n",
       "## do not convert to factor, using I() :\n",
       "(dd &lt;- cbind(d, char = I(letters[1:10])))\n",
       "rbind(class = sapply(dd, class), mode = sapply(dd, mode))\n",
       "\n",
       "stopifnot(1:10 == row.names(d))  # {coercion}\n",
       "\n",
       "(d0  &lt;- d[, FALSE])   # data frame with 0 columns and 10 rows\n",
       "(d.0 &lt;- d[FALSE, ])   # &lt;0 rows&gt; data frame  (3 named cols)\n",
       "(d00 &lt;- d0[FALSE, ])  # data frame with 0 columns and 0 rows\n",
       "</pre>\n",
       "\n",
       "<hr /><div style=\"text-align: center;\">[Package <em>base</em> version 3.6.1 ]</div>"
      ],
      "text/latex": [
       "\\inputencoding{utf8}\n",
       "\\HeaderA{data.frame}{Data Frames}{data.frame}\n",
       "\\aliasA{default.stringsAsFactors}{data.frame}{default.stringsAsFactors}\n",
       "\\keyword{classes}{data.frame}\n",
       "\\keyword{methods}{data.frame}\n",
       "%\n",
       "\\begin{Description}\\relax\n",
       "The function \\code{data.frame()} creates data frames, tightly coupled\n",
       "collections of variables which share many of the properties of\n",
       "matrices and of lists, used as the fundamental data structure by most\n",
       "of \\R{}'s modeling software.\n",
       "\\end{Description}\n",
       "%\n",
       "\\begin{Usage}\n",
       "\\begin{verbatim}\n",
       "data.frame(..., row.names = NULL, check.rows = FALSE,\n",
       "           check.names = TRUE, fix.empty.names = TRUE,\n",
       "           stringsAsFactors = default.stringsAsFactors())\n",
       "\n",
       "default.stringsAsFactors()\n",
       "\\end{verbatim}\n",
       "\\end{Usage}\n",
       "%\n",
       "\\begin{Arguments}\n",
       "\\begin{ldescription}\n",
       "\\item[\\code{...}] these arguments are of either the form \\code{value} or\n",
       "\\code{tag = value}.  Component names are created based on the tag (if\n",
       "present) or the deparsed argument itself.\n",
       "\\item[\\code{row.names}] \\code{NULL} or a single integer or character string\n",
       "specifying a column to be used as row names, or a character or\n",
       "integer vector giving the row names for the data frame.\n",
       "\\item[\\code{check.rows}] if \\code{TRUE} then the rows are checked for\n",
       "consistency of length and names.\n",
       "\\item[\\code{check.names}] logical.  If \\code{TRUE} then the names of the\n",
       "variables in the data frame are checked to ensure that they are\n",
       "syntactically valid variable names and are not duplicated.\n",
       "If necessary they are adjusted (by \\code{\\LinkA{make.names}{make.names}})\n",
       "so that they are.\n",
       "\\item[\\code{fix.empty.names}] logical indicating if arguments which are\n",
       "``unnamed'' (in the sense of not being formally called as\n",
       "\\code{someName = arg}) get an automatically constructed name or\n",
       "rather name \\code{\"\"}.  Needs to be set to \\code{FALSE} even when\n",
       "\\code{check.names} is false if \\code{\"\"} names should be kept.\n",
       "\\item[\\code{stringsAsFactors}] logical: should character vectors be converted\n",
       "to factors?  The `factory-fresh' default is \\code{TRUE}, but\n",
       "this can be changed by setting \\code{\\LinkA{options}{options}(stringsAsFactors\n",
       "      = FALSE)}.\n",
       "\\end{ldescription}\n",
       "\\end{Arguments}\n",
       "%\n",
       "\\begin{Details}\\relax\n",
       "A data frame is a list of variables of the same number of rows with\n",
       "unique row names, given class \\code{\"data.frame\"}.  If no variables\n",
       "are included, the row names determine the number of rows.\n",
       "\n",
       "The column names should be non-empty, and attempts to use empty names\n",
       "will have unsupported results.  Duplicate column names are allowed,\n",
       "but you need to use \\code{check.names = FALSE} for \\code{data.frame}\n",
       "to generate such a data frame.  However, not all operations on data\n",
       "frames will preserve duplicated column names: for example matrix-like\n",
       "subsetting will force column names in the result to be unique.\n",
       "\n",
       "\\code{data.frame} converts each of its arguments to a data frame by\n",
       "calling \\code{\\LinkA{as.data.frame}{as.data.frame}(optional = TRUE)}.  As that is a\n",
       "generic function, methods can be written to change the behaviour of\n",
       "arguments according to their classes: \\R{} comes with many such methods.\n",
       "Character variables passed to \\code{data.frame} are converted to\n",
       "factor columns unless protected by \\code{\\LinkA{I}{I}} or argument\n",
       "\\code{stringsAsFactors} is false.  If a list or data\n",
       "frame or matrix is passed to \\code{data.frame} it is as if each\n",
       "component or column had been passed as a separate argument (except for\n",
       "matrices protected by \\code{\\LinkA{I}{I}}).\n",
       "\n",
       "Objects passed to \\code{data.frame} should have the same number of\n",
       "rows, but atomic vectors (see \\code{\\LinkA{is.vector}{is.vector}}), factors and\n",
       "character vectors protected by \\code{\\LinkA{I}{I}} will be recycled a\n",
       "whole number of times if necessary (including as elements of list\n",
       "arguments).\n",
       "\n",
       "If row names are not supplied in the call to \\code{data.frame}, the\n",
       "row names are taken from the first component that has suitable names,\n",
       "for example a named vector or a matrix with rownames or a data frame.\n",
       "(If that component is subsequently recycled, the names are discarded\n",
       "with a warning.)  If \\code{row.names} was supplied as \\code{NULL} or no\n",
       "suitable component was found the row names are the integer sequence\n",
       "starting at one (and such row names are considered to be\n",
       "`automatic', and not preserved by \\code{\\LinkA{as.matrix}{as.matrix}}).\n",
       "\n",
       "If row names are supplied of length one and the data frame has a\n",
       "single row, the \\code{row.names} is taken to specify the row names and\n",
       "not a column (by name or number).\n",
       "\n",
       "Names are removed from vector inputs not protected by \\code{\\LinkA{I}{I}}.\n",
       "\n",
       "\\code{default.stringsAsFactors} is a utility that takes\n",
       "\\code{\\LinkA{getOption}{getOption}(\"stringsAsFactors\")} and ensures the result is\n",
       "\\code{TRUE} or \\code{FALSE} (or throws an error if the value is not\n",
       "\\code{NULL}).\n",
       "\\end{Details}\n",
       "%\n",
       "\\begin{Value}\n",
       "A data frame, a matrix-like structure whose columns may be of\n",
       "differing types (numeric, logical, factor and character and so on).\n",
       "\n",
       "How the names of the data frame are created is complex, and the rest\n",
       "of this paragraph is only the basic story.  If the arguments are all\n",
       "named and simple objects (not lists, matrices of data frames) then the\n",
       "argument names give the column names.  For an unnamed simple argument,\n",
       "a deparsed version of the argument is used as the name (with an\n",
       "enclosing \\code{I(...)} removed).  For a named matrix/list/data frame\n",
       "argument with more than one named column, the names of the columns are\n",
       "the name of the argument followed by a dot and the column name inside\n",
       "the argument: if the argument is unnamed, the argument's column names\n",
       "are used.  For a named or unnamed matrix/list/data frame argument that\n",
       "contains a single column, the column name in the result is the column\n",
       "name in the argument.  Finally, the names are adjusted to be unique\n",
       "and syntactically valid unless \\code{check.names = FALSE}.\n",
       "\\end{Value}\n",
       "%\n",
       "\\begin{Note}\\relax\n",
       "In versions of \\R{} prior to 2.4.0 \\code{row.names} had to be\n",
       "character: to ensure compatibility with such versions of \\R{}, supply\n",
       "a character vector as the \\code{row.names} argument.\n",
       "\\end{Note}\n",
       "%\n",
       "\\begin{References}\\relax\n",
       "Chambers, J. M. (1992)\n",
       "\\emph{Data for models.}\n",
       "Chapter 3 of \\emph{Statistical Models in S}\n",
       "eds J. M. Chambers and T. J. Hastie, Wadsworth \\& Brooks/Cole.\n",
       "\\end{References}\n",
       "%\n",
       "\\begin{SeeAlso}\\relax\n",
       "\\code{\\LinkA{I}{I}},\n",
       "\\code{\\LinkA{plot.data.frame}{plot.data.frame}},\n",
       "\\code{\\LinkA{print.data.frame}{print.data.frame}},\n",
       "\\code{\\LinkA{row.names}{row.names}}, \\code{\\LinkA{names}{names}} (for the column names),\n",
       "\\code{\\LinkA{[.data.frame}{[.data.frame}} for subsetting methods \n",
       "and \\code{I(matrix(..))} examples;\n",
       "\\code{\\LinkA{Math.data.frame}{Math.data.frame}} etc, about\n",
       "\\emph{Group} methods for \\code{data.frame}s;\n",
       "\\code{\\LinkA{read.table}{read.table}},\n",
       "\\code{\\LinkA{make.names}{make.names}}.\n",
       "\\end{SeeAlso}\n",
       "%\n",
       "\\begin{Examples}\n",
       "\\begin{ExampleCode}\n",
       "L3 <- LETTERS[1:3]\n",
       "fac <- sample(L3, 10, replace = TRUE)\n",
       "(d <- data.frame(x = 1, y = 1:10, fac = fac))\n",
       "## The \"same\" with automatic column names:\n",
       "data.frame(1, 1:10, sample(L3, 10, replace = TRUE))\n",
       "\n",
       "is.data.frame(d)\n",
       "\n",
       "## do not convert to factor, using I() :\n",
       "(dd <- cbind(d, char = I(letters[1:10])))\n",
       "rbind(class = sapply(dd, class), mode = sapply(dd, mode))\n",
       "\n",
       "stopifnot(1:10 == row.names(d))  # {coercion}\n",
       "\n",
       "(d0  <- d[, FALSE])   # data frame with 0 columns and 10 rows\n",
       "(d.0 <- d[FALSE, ])   # <0 rows> data frame  (3 named cols)\n",
       "(d00 <- d0[FALSE, ])  # data frame with 0 columns and 0 rows\n",
       "\\end{ExampleCode}\n",
       "\\end{Examples}"
      ],
      "text/plain": [
       "data.frame                package:base                 R Documentation\n",
       "\n",
       "_\bD_\ba_\bt_\ba _\bF_\br_\ba_\bm_\be_\bs\n",
       "\n",
       "_\bD_\be_\bs_\bc_\br_\bi_\bp_\bt_\bi_\bo_\bn:\n",
       "\n",
       "     The function 'data.frame()' creates data frames, tightly coupled\n",
       "     collections of variables which share many of the properties of\n",
       "     matrices and of lists, used as the fundamental data structure by\n",
       "     most of R's modeling software.\n",
       "\n",
       "_\bU_\bs_\ba_\bg_\be:\n",
       "\n",
       "     data.frame(..., row.names = NULL, check.rows = FALSE,\n",
       "                check.names = TRUE, fix.empty.names = TRUE,\n",
       "                stringsAsFactors = default.stringsAsFactors())\n",
       "     \n",
       "     default.stringsAsFactors()\n",
       "     \n",
       "_\bA_\br_\bg_\bu_\bm_\be_\bn_\bt_\bs:\n",
       "\n",
       "     ...: these arguments are of either the form 'value' or 'tag =\n",
       "          value'.  Component names are created based on the tag (if\n",
       "          present) or the deparsed argument itself.\n",
       "\n",
       "row.names: 'NULL' or a single integer or character string specifying a\n",
       "          column to be used as row names, or a character or integer\n",
       "          vector giving the row names for the data frame.\n",
       "\n",
       "check.rows: if 'TRUE' then the rows are checked for consistency of\n",
       "          length and names.\n",
       "\n",
       "check.names: logical.  If 'TRUE' then the names of the variables in the\n",
       "          data frame are checked to ensure that they are syntactically\n",
       "          valid variable names and are not duplicated.  If necessary\n",
       "          they are adjusted (by 'make.names') so that they are.\n",
       "\n",
       "fix.empty.names: logical indicating if arguments which are \"unnamed\"\n",
       "          (in the sense of not being formally called as 'someName =\n",
       "          arg') get an automatically constructed name or rather name\n",
       "          '\"\"'.  Needs to be set to 'FALSE' even when 'check.names' is\n",
       "          false if '\"\"' names should be kept.\n",
       "\n",
       "stringsAsFactors: logical: should character vectors be converted to\n",
       "          factors?  The 'factory-fresh' default is 'TRUE', but this can\n",
       "          be changed by setting 'options(stringsAsFactors = FALSE)'.\n",
       "\n",
       "_\bD_\be_\bt_\ba_\bi_\bl_\bs:\n",
       "\n",
       "     A data frame is a list of variables of the same number of rows\n",
       "     with unique row names, given class '\"data.frame\"'.  If no\n",
       "     variables are included, the row names determine the number of\n",
       "     rows.\n",
       "\n",
       "     The column names should be non-empty, and attempts to use empty\n",
       "     names will have unsupported results.  Duplicate column names are\n",
       "     allowed, but you need to use 'check.names = FALSE' for\n",
       "     'data.frame' to generate such a data frame.  However, not all\n",
       "     operations on data frames will preserve duplicated column names:\n",
       "     for example matrix-like subsetting will force column names in the\n",
       "     result to be unique.\n",
       "\n",
       "     'data.frame' converts each of its arguments to a data frame by\n",
       "     calling 'as.data.frame(optional = TRUE)'.  As that is a generic\n",
       "     function, methods can be written to change the behaviour of\n",
       "     arguments according to their classes: R comes with many such\n",
       "     methods.  Character variables passed to 'data.frame' are converted\n",
       "     to factor columns unless protected by 'I' or argument\n",
       "     'stringsAsFactors' is false.  If a list or data frame or matrix is\n",
       "     passed to 'data.frame' it is as if each component or column had\n",
       "     been passed as a separate argument (except for matrices protected\n",
       "     by 'I').\n",
       "\n",
       "     Objects passed to 'data.frame' should have the same number of\n",
       "     rows, but atomic vectors (see 'is.vector'), factors and character\n",
       "     vectors protected by 'I' will be recycled a whole number of times\n",
       "     if necessary (including as elements of list arguments).\n",
       "\n",
       "     If row names are not supplied in the call to 'data.frame', the row\n",
       "     names are taken from the first component that has suitable names,\n",
       "     for example a named vector or a matrix with rownames or a data\n",
       "     frame.  (If that component is subsequently recycled, the names are\n",
       "     discarded with a warning.)  If 'row.names' was supplied as 'NULL'\n",
       "     or no suitable component was found the row names are the integer\n",
       "     sequence starting at one (and such row names are considered to be\n",
       "     'automatic', and not preserved by 'as.matrix').\n",
       "\n",
       "     If row names are supplied of length one and the data frame has a\n",
       "     single row, the 'row.names' is taken to specify the row names and\n",
       "     not a column (by name or number).\n",
       "\n",
       "     Names are removed from vector inputs not protected by 'I'.\n",
       "\n",
       "     'default.stringsAsFactors' is a utility that takes\n",
       "     'getOption(\"stringsAsFactors\")' and ensures the result is 'TRUE'\n",
       "     or 'FALSE' (or throws an error if the value is not 'NULL').\n",
       "\n",
       "_\bV_\ba_\bl_\bu_\be:\n",
       "\n",
       "     A data frame, a matrix-like structure whose columns may be of\n",
       "     differing types (numeric, logical, factor and character and so\n",
       "     on).\n",
       "\n",
       "     How the names of the data frame are created is complex, and the\n",
       "     rest of this paragraph is only the basic story.  If the arguments\n",
       "     are all named and simple objects (not lists, matrices of data\n",
       "     frames) then the argument names give the column names.  For an\n",
       "     unnamed simple argument, a deparsed version of the argument is\n",
       "     used as the name (with an enclosing 'I(...)' removed).  For a\n",
       "     named matrix/list/data frame argument with more than one named\n",
       "     column, the names of the columns are the name of the argument\n",
       "     followed by a dot and the column name inside the argument: if the\n",
       "     argument is unnamed, the argument's column names are used.  For a\n",
       "     named or unnamed matrix/list/data frame argument that contains a\n",
       "     single column, the column name in the result is the column name in\n",
       "     the argument.  Finally, the names are adjusted to be unique and\n",
       "     syntactically valid unless 'check.names = FALSE'.\n",
       "\n",
       "_\bN_\bo_\bt_\be:\n",
       "\n",
       "     In versions of R prior to 2.4.0 'row.names' had to be character:\n",
       "     to ensure compatibility with such versions of R, supply a\n",
       "     character vector as the 'row.names' argument.\n",
       "\n",
       "_\bR_\be_\bf_\be_\br_\be_\bn_\bc_\be_\bs:\n",
       "\n",
       "     Chambers, J. M. (1992) _Data for models._ Chapter 3 of\n",
       "     _Statistical Models in S_ eds J. M. Chambers and T. J. Hastie,\n",
       "     Wadsworth & Brooks/Cole.\n",
       "\n",
       "_\bS_\be_\be _\bA_\bl_\bs_\bo:\n",
       "\n",
       "     'I', 'plot.data.frame', 'print.data.frame', 'row.names', 'names'\n",
       "     (for the column names), '[.data.frame' for subsetting methods and\n",
       "     'I(matrix(..))' examples; 'Math.data.frame' etc, about _Group_\n",
       "     methods for 'data.frame's; 'read.table', 'make.names'.\n",
       "\n",
       "_\bE_\bx_\ba_\bm_\bp_\bl_\be_\bs:\n",
       "\n",
       "     L3 <- LETTERS[1:3]\n",
       "     fac <- sample(L3, 10, replace = TRUE)\n",
       "     (d <- data.frame(x = 1, y = 1:10, fac = fac))\n",
       "     ## The \"same\" with automatic column names:\n",
       "     data.frame(1, 1:10, sample(L3, 10, replace = TRUE))\n",
       "     \n",
       "     is.data.frame(d)\n",
       "     \n",
       "     ## do not convert to factor, using I() :\n",
       "     (dd <- cbind(d, char = I(letters[1:10])))\n",
       "     rbind(class = sapply(dd, class), mode = sapply(dd, mode))\n",
       "     \n",
       "     stopifnot(1:10 == row.names(d))  # {coercion}\n",
       "     \n",
       "     (d0  <- d[, FALSE])   # data frame with 0 columns and 10 rows\n",
       "     (d.0 <- d[FALSE, ])   # <0 rows> data frame  (3 named cols)\n",
       "     (d00 <- d0[FALSE, ])  # data frame with 0 columns and 0 rows\n",
       "     "
      ]
     },
     "metadata": {},
     "output_type": "display_data"
    }
   ],
   "source": [
    "?data.frame"
   ]
  },
  {
   "cell_type": "code",
   "execution_count": 157,
   "metadata": {},
   "outputs": [
    {
     "data": {
      "text/html": [
       "<table>\n",
       "<thead><tr><th scope=col>weight</th><th scope=col>height</th><th scope=col>sex</th></tr></thead>\n",
       "<tbody>\n",
       "\t<tr><td>78 </td><td>170</td><td>F  </td></tr>\n",
       "\t<tr><td>56 </td><td>160</td><td>F  </td></tr>\n",
       "\t<tr><td>67 </td><td>165</td><td>F  </td></tr>\n",
       "\t<tr><td>48 </td><td>159</td><td>M  </td></tr>\n",
       "\t<tr><td>69 </td><td>170</td><td>M  </td></tr>\n",
       "\t<tr><td>90 </td><td>185</td><td>M  </td></tr>\n",
       "</tbody>\n",
       "</table>\n"
      ],
      "text/latex": [
       "\\begin{tabular}{r|lll}\n",
       " weight & height & sex\\\\\n",
       "\\hline\n",
       "\t 78  & 170 & F  \\\\\n",
       "\t 56  & 160 & F  \\\\\n",
       "\t 67  & 165 & F  \\\\\n",
       "\t 48  & 159 & M  \\\\\n",
       "\t 69  & 170 & M  \\\\\n",
       "\t 90  & 185 & M  \\\\\n",
       "\\end{tabular}\n"
      ],
      "text/markdown": [
       "\n",
       "| weight | height | sex |\n",
       "|---|---|---|\n",
       "| 78  | 170 | F   |\n",
       "| 56  | 160 | F   |\n",
       "| 67  | 165 | F   |\n",
       "| 48  | 159 | M   |\n",
       "| 69  | 170 | M   |\n",
       "| 90  | 185 | M   |\n",
       "\n"
      ],
      "text/plain": [
       "  weight height sex\n",
       "1 78     170    F  \n",
       "2 56     160    F  \n",
       "3 67     165    F  \n",
       "4 48     159    M  \n",
       "5 69     170    M  \n",
       "6 90     185    M  "
      ]
     },
     "metadata": {},
     "output_type": "display_data"
    }
   ],
   "source": [
    "df_2<-data.frame(weight, height, sex, stringsAsFactors = T)\n",
    "df_2"
   ]
  },
  {
   "cell_type": "code",
   "execution_count": 158,
   "metadata": {},
   "outputs": [
    {
     "name": "stdout",
     "output_type": "stream",
     "text": [
      "'data.frame':\t6 obs. of  3 variables:\n",
      " $ weight: num  78 56 67 48 69 90\n",
      " $ height: num  170 160 165 159 170 185\n",
      " $ sex   : Factor w/ 2 levels \"F\",\"M\": 1 1 1 2 2 2\n"
     ]
    }
   ],
   "source": [
    "str(df_2)"
   ]
  },
  {
   "cell_type": "code",
   "execution_count": 159,
   "metadata": {},
   "outputs": [
    {
     "name": "stdout",
     "output_type": "stream",
     "text": [
      "'data.frame':\t6 obs. of  3 variables:\n",
      " $ weight: num  78 56 67 48 69 90\n",
      " $ height: num  170 160 165 159 170 185\n",
      " $ sex   : chr  \"F\" \"F\" \"F\" \"M\" ...\n"
     ]
    }
   ],
   "source": [
    "str(df_1)"
   ]
  },
  {
   "cell_type": "code",
   "execution_count": 160,
   "metadata": {},
   "outputs": [
    {
     "data": {
      "text/html": [
       "<ol class=list-inline>\n",
       "\t<li>'F'</li>\n",
       "\t<li>'F'</li>\n",
       "\t<li>'F'</li>\n",
       "\t<li>'M'</li>\n",
       "\t<li>'M'</li>\n",
       "\t<li>'M'</li>\n",
       "</ol>\n"
      ],
      "text/latex": [
       "\\begin{enumerate*}\n",
       "\\item 'F'\n",
       "\\item 'F'\n",
       "\\item 'F'\n",
       "\\item 'M'\n",
       "\\item 'M'\n",
       "\\item 'M'\n",
       "\\end{enumerate*}\n"
      ],
      "text/markdown": [
       "1. 'F'\n",
       "2. 'F'\n",
       "3. 'F'\n",
       "4. 'M'\n",
       "5. 'M'\n",
       "6. 'M'\n",
       "\n",
       "\n"
      ],
      "text/plain": [
       "[1] \"F\" \"F\" \"F\" \"M\" \"M\" \"M\""
      ]
     },
     "metadata": {},
     "output_type": "display_data"
    }
   ],
   "source": [
    "sex"
   ]
  },
  {
   "cell_type": "code",
   "execution_count": 161,
   "metadata": {},
   "outputs": [
    {
     "data": {
      "text/html": [
       "<ol class=list-inline>\n",
       "\t<li>F</li>\n",
       "\t<li>F</li>\n",
       "\t<li>F</li>\n",
       "\t<li>M</li>\n",
       "\t<li>M</li>\n",
       "\t<li>M</li>\n",
       "</ol>\n",
       "\n",
       "<details>\n",
       "\t<summary style=display:list-item;cursor:pointer>\n",
       "\t\t<strong>Levels</strong>:\n",
       "\t</summary>\n",
       "\t<ol class=list-inline>\n",
       "\t\t<li>'F'</li>\n",
       "\t\t<li>'M'</li>\n",
       "\t</ol>\n",
       "</details>"
      ],
      "text/latex": [
       "\\begin{enumerate*}\n",
       "\\item F\n",
       "\\item F\n",
       "\\item F\n",
       "\\item M\n",
       "\\item M\n",
       "\\item M\n",
       "\\end{enumerate*}\n",
       "\n",
       "\\emph{Levels}: \\begin{enumerate*}\n",
       "\\item 'F'\n",
       "\\item 'M'\n",
       "\\end{enumerate*}\n"
      ],
      "text/markdown": [
       "1. F\n",
       "2. F\n",
       "3. F\n",
       "4. M\n",
       "5. M\n",
       "6. M\n",
       "\n",
       "\n",
       "\n",
       "**Levels**: 1. 'F'\n",
       "2. 'M'\n",
       "\n",
       "\n"
      ],
      "text/plain": [
       "[1] F F F M M M\n",
       "Levels: F M"
      ]
     },
     "metadata": {},
     "output_type": "display_data"
    }
   ],
   "source": [
    "factor(sex)"
   ]
  },
  {
   "cell_type": "code",
   "execution_count": 165,
   "metadata": {},
   "outputs": [
    {
     "data": {
      "text/html": [
       "<ol class=list-inline>\n",
       "\t<li>'F'</li>\n",
       "\t<li>'M'</li>\n",
       "</ol>\n"
      ],
      "text/latex": [
       "\\begin{enumerate*}\n",
       "\\item 'F'\n",
       "\\item 'M'\n",
       "\\end{enumerate*}\n"
      ],
      "text/markdown": [
       "1. 'F'\n",
       "2. 'M'\n",
       "\n",
       "\n"
      ],
      "text/plain": [
       "[1] \"F\" \"M\""
      ]
     },
     "metadata": {},
     "output_type": "display_data"
    }
   ],
   "source": [
    "unique(sex)"
   ]
  },
  {
   "cell_type": "code",
   "execution_count": 164,
   "metadata": {},
   "outputs": [
    {
     "data": {
      "text/html": [
       "<ol class=list-inline>\n",
       "\t<li>'F'</li>\n",
       "\t<li>'M'</li>\n",
       "</ol>\n"
      ],
      "text/latex": [
       "\\begin{enumerate*}\n",
       "\\item 'F'\n",
       "\\item 'M'\n",
       "\\end{enumerate*}\n"
      ],
      "text/markdown": [
       "1. 'F'\n",
       "2. 'M'\n",
       "\n",
       "\n"
      ],
      "text/plain": [
       "[1] \"F\" \"M\""
      ]
     },
     "metadata": {},
     "output_type": "display_data"
    }
   ],
   "source": [
    "levels(factor(sex))"
   ]
  },
  {
   "cell_type": "markdown",
   "metadata": {},
   "source": [
    "### Создание матрицы"
   ]
  },
  {
   "cell_type": "code",
   "execution_count": 163,
   "metadata": {},
   "outputs": [
    {
     "data": {
      "text/html": [
       "<ol class=list-inline>\n",
       "\t<li>1</li>\n",
       "\t<li>2</li>\n",
       "\t<li>3</li>\n",
       "\t<li>4</li>\n",
       "\t<li>5</li>\n",
       "\t<li>6</li>\n",
       "\t<li>7</li>\n",
       "\t<li>8</li>\n",
       "\t<li>9</li>\n",
       "\t<li>10</li>\n",
       "\t<li>11</li>\n",
       "\t<li>12</li>\n",
       "\t<li>13</li>\n",
       "\t<li>14</li>\n",
       "\t<li>15</li>\n",
       "\t<li>16</li>\n",
       "\t<li>17</li>\n",
       "\t<li>18</li>\n",
       "\t<li>19</li>\n",
       "\t<li>20</li>\n",
       "\t<li>21</li>\n",
       "\t<li>22</li>\n",
       "\t<li>23</li>\n",
       "\t<li>24</li>\n",
       "\t<li>25</li>\n",
       "\t<li>26</li>\n",
       "\t<li>27</li>\n",
       "\t<li>28</li>\n",
       "\t<li>29</li>\n",
       "\t<li>30</li>\n",
       "</ol>\n"
      ],
      "text/latex": [
       "\\begin{enumerate*}\n",
       "\\item 1\n",
       "\\item 2\n",
       "\\item 3\n",
       "\\item 4\n",
       "\\item 5\n",
       "\\item 6\n",
       "\\item 7\n",
       "\\item 8\n",
       "\\item 9\n",
       "\\item 10\n",
       "\\item 11\n",
       "\\item 12\n",
       "\\item 13\n",
       "\\item 14\n",
       "\\item 15\n",
       "\\item 16\n",
       "\\item 17\n",
       "\\item 18\n",
       "\\item 19\n",
       "\\item 20\n",
       "\\item 21\n",
       "\\item 22\n",
       "\\item 23\n",
       "\\item 24\n",
       "\\item 25\n",
       "\\item 26\n",
       "\\item 27\n",
       "\\item 28\n",
       "\\item 29\n",
       "\\item 30\n",
       "\\end{enumerate*}\n"
      ],
      "text/markdown": [
       "1. 1\n",
       "2. 2\n",
       "3. 3\n",
       "4. 4\n",
       "5. 5\n",
       "6. 6\n",
       "7. 7\n",
       "8. 8\n",
       "9. 9\n",
       "10. 10\n",
       "11. 11\n",
       "12. 12\n",
       "13. 13\n",
       "14. 14\n",
       "15. 15\n",
       "16. 16\n",
       "17. 17\n",
       "18. 18\n",
       "19. 19\n",
       "20. 20\n",
       "21. 21\n",
       "22. 22\n",
       "23. 23\n",
       "24. 24\n",
       "25. 25\n",
       "26. 26\n",
       "27. 27\n",
       "28. 28\n",
       "29. 29\n",
       "30. 30\n",
       "\n",
       "\n"
      ],
      "text/plain": [
       " [1]  1  2  3  4  5  6  7  8  9 10 11 12 13 14 15 16 17 18 19 20 21 22 23 24 25\n",
       "[26] 26 27 28 29 30"
      ]
     },
     "metadata": {},
     "output_type": "display_data"
    }
   ],
   "source": [
    "m<-1:30\n",
    "m"
   ]
  },
  {
   "cell_type": "code",
   "execution_count": 167,
   "metadata": {},
   "outputs": [
    {
     "data": {
      "text/html": [
       "<ol class=list-inline>\n",
       "\t<li>10</li>\n",
       "\t<li>3</li>\n",
       "</ol>\n"
      ],
      "text/latex": [
       "\\begin{enumerate*}\n",
       "\\item 10\n",
       "\\item 3\n",
       "\\end{enumerate*}\n"
      ],
      "text/markdown": [
       "1. 10\n",
       "2. 3\n",
       "\n",
       "\n"
      ],
      "text/plain": [
       "[1] 10  3"
      ]
     },
     "metadata": {},
     "output_type": "display_data"
    }
   ],
   "source": [
    "z<-c(10, 3)\n",
    "z"
   ]
  },
  {
   "cell_type": "code",
   "execution_count": 168,
   "metadata": {},
   "outputs": [
    {
     "data": {
      "text/plain": [
       "NULL"
      ]
     },
     "metadata": {},
     "output_type": "display_data"
    }
   ],
   "source": [
    "dim(m)"
   ]
  },
  {
   "cell_type": "code",
   "execution_count": 170,
   "metadata": {},
   "outputs": [
    {
     "data": {
      "text/html": [
       "<table>\n",
       "<tbody>\n",
       "\t<tr><td> 1</td><td>11</td><td>21</td></tr>\n",
       "\t<tr><td> 2</td><td>12</td><td>22</td></tr>\n",
       "\t<tr><td> 3</td><td>13</td><td>23</td></tr>\n",
       "\t<tr><td> 4</td><td>14</td><td>24</td></tr>\n",
       "\t<tr><td> 5</td><td>15</td><td>25</td></tr>\n",
       "\t<tr><td> 6</td><td>16</td><td>26</td></tr>\n",
       "\t<tr><td> 7</td><td>17</td><td>27</td></tr>\n",
       "\t<tr><td> 8</td><td>18</td><td>28</td></tr>\n",
       "\t<tr><td> 9</td><td>19</td><td>29</td></tr>\n",
       "\t<tr><td>10</td><td>20</td><td>30</td></tr>\n",
       "</tbody>\n",
       "</table>\n"
      ],
      "text/latex": [
       "\\begin{tabular}{lll}\n",
       "\t  1 & 11 & 21\\\\\n",
       "\t  2 & 12 & 22\\\\\n",
       "\t  3 & 13 & 23\\\\\n",
       "\t  4 & 14 & 24\\\\\n",
       "\t  5 & 15 & 25\\\\\n",
       "\t  6 & 16 & 26\\\\\n",
       "\t  7 & 17 & 27\\\\\n",
       "\t  8 & 18 & 28\\\\\n",
       "\t  9 & 19 & 29\\\\\n",
       "\t 10 & 20 & 30\\\\\n",
       "\\end{tabular}\n"
      ],
      "text/markdown": [
       "\n",
       "|  1 | 11 | 21 |\n",
       "|  2 | 12 | 22 |\n",
       "|  3 | 13 | 23 |\n",
       "|  4 | 14 | 24 |\n",
       "|  5 | 15 | 25 |\n",
       "|  6 | 16 | 26 |\n",
       "|  7 | 17 | 27 |\n",
       "|  8 | 18 | 28 |\n",
       "|  9 | 19 | 29 |\n",
       "| 10 | 20 | 30 |\n",
       "\n"
      ],
      "text/plain": [
       "      [,1] [,2] [,3]\n",
       " [1,]  1   11   21  \n",
       " [2,]  2   12   22  \n",
       " [3,]  3   13   23  \n",
       " [4,]  4   14   24  \n",
       " [5,]  5   15   25  \n",
       " [6,]  6   16   26  \n",
       " [7,]  7   17   27  \n",
       " [8,]  8   18   28  \n",
       " [9,]  9   19   29  \n",
       "[10,] 10   20   30  "
      ]
     },
     "metadata": {},
     "output_type": "display_data"
    }
   ],
   "source": [
    "dim(m)<-z\n",
    "m"
   ]
  },
  {
   "cell_type": "code",
   "execution_count": 171,
   "metadata": {},
   "outputs": [
    {
     "data": {
      "text/html": [
       "'matrix'"
      ],
      "text/latex": [
       "'matrix'"
      ],
      "text/markdown": [
       "'matrix'"
      ],
      "text/plain": [
       "[1] \"matrix\""
      ]
     },
     "metadata": {},
     "output_type": "display_data"
    }
   ],
   "source": [
    "class(m)"
   ]
  },
  {
   "cell_type": "markdown",
   "metadata": {},
   "source": [
    "#### Второй способ"
   ]
  },
  {
   "cell_type": "code",
   "execution_count": 174,
   "metadata": {},
   "outputs": [],
   "source": [
    "y<-1:50"
   ]
  },
  {
   "cell_type": "code",
   "execution_count": 175,
   "metadata": {},
   "outputs": [
    {
     "data": {
      "text/html": [
       "<table>\n",
       "<tbody>\n",
       "\t<tr><td> 1</td><td>11</td><td>21</td><td>31</td><td>41</td></tr>\n",
       "\t<tr><td> 2</td><td>12</td><td>22</td><td>32</td><td>42</td></tr>\n",
       "\t<tr><td> 3</td><td>13</td><td>23</td><td>33</td><td>43</td></tr>\n",
       "\t<tr><td> 4</td><td>14</td><td>24</td><td>34</td><td>44</td></tr>\n",
       "\t<tr><td> 5</td><td>15</td><td>25</td><td>35</td><td>45</td></tr>\n",
       "\t<tr><td> 6</td><td>16</td><td>26</td><td>36</td><td>46</td></tr>\n",
       "\t<tr><td> 7</td><td>17</td><td>27</td><td>37</td><td>47</td></tr>\n",
       "\t<tr><td> 8</td><td>18</td><td>28</td><td>38</td><td>48</td></tr>\n",
       "\t<tr><td> 9</td><td>19</td><td>29</td><td>39</td><td>49</td></tr>\n",
       "\t<tr><td>10</td><td>20</td><td>30</td><td>40</td><td>50</td></tr>\n",
       "</tbody>\n",
       "</table>\n"
      ],
      "text/latex": [
       "\\begin{tabular}{lllll}\n",
       "\t  1 & 11 & 21 & 31 & 41\\\\\n",
       "\t  2 & 12 & 22 & 32 & 42\\\\\n",
       "\t  3 & 13 & 23 & 33 & 43\\\\\n",
       "\t  4 & 14 & 24 & 34 & 44\\\\\n",
       "\t  5 & 15 & 25 & 35 & 45\\\\\n",
       "\t  6 & 16 & 26 & 36 & 46\\\\\n",
       "\t  7 & 17 & 27 & 37 & 47\\\\\n",
       "\t  8 & 18 & 28 & 38 & 48\\\\\n",
       "\t  9 & 19 & 29 & 39 & 49\\\\\n",
       "\t 10 & 20 & 30 & 40 & 50\\\\\n",
       "\\end{tabular}\n"
      ],
      "text/markdown": [
       "\n",
       "|  1 | 11 | 21 | 31 | 41 |\n",
       "|  2 | 12 | 22 | 32 | 42 |\n",
       "|  3 | 13 | 23 | 33 | 43 |\n",
       "|  4 | 14 | 24 | 34 | 44 |\n",
       "|  5 | 15 | 25 | 35 | 45 |\n",
       "|  6 | 16 | 26 | 36 | 46 |\n",
       "|  7 | 17 | 27 | 37 | 47 |\n",
       "|  8 | 18 | 28 | 38 | 48 |\n",
       "|  9 | 19 | 29 | 39 | 49 |\n",
       "| 10 | 20 | 30 | 40 | 50 |\n",
       "\n"
      ],
      "text/plain": [
       "      [,1] [,2] [,3] [,4] [,5]\n",
       " [1,]  1   11   21   31   41  \n",
       " [2,]  2   12   22   32   42  \n",
       " [3,]  3   13   23   33   43  \n",
       " [4,]  4   14   24   34   44  \n",
       " [5,]  5   15   25   35   45  \n",
       " [6,]  6   16   26   36   46  \n",
       " [7,]  7   17   27   37   47  \n",
       " [8,]  8   18   28   38   48  \n",
       " [9,]  9   19   29   39   49  \n",
       "[10,] 10   20   30   40   50  "
      ]
     },
     "metadata": {},
     "output_type": "display_data"
    }
   ],
   "source": [
    "mt<-matrix(y, 10, 5)\n",
    "mt"
   ]
  },
  {
   "cell_type": "code",
   "execution_count": 176,
   "metadata": {},
   "outputs": [
    {
     "data": {
      "text/html": [
       "<ol class=list-inline>\n",
       "\t<li>'A'</li>\n",
       "\t<li>'B'</li>\n",
       "\t<li>'C'</li>\n",
       "\t<li>'D'</li>\n",
       "\t<li>'E'</li>\n",
       "\t<li>'F'</li>\n",
       "\t<li>'G'</li>\n",
       "\t<li>'H'</li>\n",
       "\t<li>'I'</li>\n",
       "\t<li>'J'</li>\n",
       "</ol>\n"
      ],
      "text/latex": [
       "\\begin{enumerate*}\n",
       "\\item 'A'\n",
       "\\item 'B'\n",
       "\\item 'C'\n",
       "\\item 'D'\n",
       "\\item 'E'\n",
       "\\item 'F'\n",
       "\\item 'G'\n",
       "\\item 'H'\n",
       "\\item 'I'\n",
       "\\item 'J'\n",
       "\\end{enumerate*}\n"
      ],
      "text/markdown": [
       "1. 'A'\n",
       "2. 'B'\n",
       "3. 'C'\n",
       "4. 'D'\n",
       "5. 'E'\n",
       "6. 'F'\n",
       "7. 'G'\n",
       "8. 'H'\n",
       "9. 'I'\n",
       "10. 'J'\n",
       "\n",
       "\n"
      ],
      "text/plain": [
       " [1] \"A\" \"B\" \"C\" \"D\" \"E\" \"F\" \"G\" \"H\" \"I\" \"J\""
      ]
     },
     "metadata": {},
     "output_type": "display_data"
    }
   ],
   "source": [
    "imena<-LETTERS[1:10]\n",
    "imena"
   ]
  },
  {
   "cell_type": "code",
   "execution_count": 177,
   "metadata": {},
   "outputs": [
    {
     "data": {
      "text/html": [
       "<table>\n",
       "<thead><tr><th scope=col>imena</th><th scope=col></th><th scope=col></th><th scope=col></th><th scope=col></th><th scope=col></th></tr></thead>\n",
       "<tbody>\n",
       "\t<tr><td>A </td><td>1 </td><td>11</td><td>21</td><td>31</td><td>41</td></tr>\n",
       "\t<tr><td>B </td><td>2 </td><td>12</td><td>22</td><td>32</td><td>42</td></tr>\n",
       "\t<tr><td>C </td><td>3 </td><td>13</td><td>23</td><td>33</td><td>43</td></tr>\n",
       "\t<tr><td>D </td><td>4 </td><td>14</td><td>24</td><td>34</td><td>44</td></tr>\n",
       "\t<tr><td>E </td><td>5 </td><td>15</td><td>25</td><td>35</td><td>45</td></tr>\n",
       "\t<tr><td>F </td><td>6 </td><td>16</td><td>26</td><td>36</td><td>46</td></tr>\n",
       "\t<tr><td>G </td><td>7 </td><td>17</td><td>27</td><td>37</td><td>47</td></tr>\n",
       "\t<tr><td>H </td><td>8 </td><td>18</td><td>28</td><td>38</td><td>48</td></tr>\n",
       "\t<tr><td>I </td><td>9 </td><td>19</td><td>29</td><td>39</td><td>49</td></tr>\n",
       "\t<tr><td>J </td><td>10</td><td>20</td><td>30</td><td>40</td><td>50</td></tr>\n",
       "</tbody>\n",
       "</table>\n"
      ],
      "text/latex": [
       "\\begin{tabular}{llllll}\n",
       " imena &  &  &  &  & \\\\\n",
       "\\hline\n",
       "\t A  & 1  & 11 & 21 & 31 & 41\\\\\n",
       "\t B  & 2  & 12 & 22 & 32 & 42\\\\\n",
       "\t C  & 3  & 13 & 23 & 33 & 43\\\\\n",
       "\t D  & 4  & 14 & 24 & 34 & 44\\\\\n",
       "\t E  & 5  & 15 & 25 & 35 & 45\\\\\n",
       "\t F  & 6  & 16 & 26 & 36 & 46\\\\\n",
       "\t G  & 7  & 17 & 27 & 37 & 47\\\\\n",
       "\t H  & 8  & 18 & 28 & 38 & 48\\\\\n",
       "\t I  & 9  & 19 & 29 & 39 & 49\\\\\n",
       "\t J  & 10 & 20 & 30 & 40 & 50\\\\\n",
       "\\end{tabular}\n"
      ],
      "text/markdown": [
       "\n",
       "| imena |  |  |  |  |  |\n",
       "|---|---|---|---|---|---|\n",
       "| A  | 1  | 11 | 21 | 31 | 41 |\n",
       "| B  | 2  | 12 | 22 | 32 | 42 |\n",
       "| C  | 3  | 13 | 23 | 33 | 43 |\n",
       "| D  | 4  | 14 | 24 | 34 | 44 |\n",
       "| E  | 5  | 15 | 25 | 35 | 45 |\n",
       "| F  | 6  | 16 | 26 | 36 | 46 |\n",
       "| G  | 7  | 17 | 27 | 37 | 47 |\n",
       "| H  | 8  | 18 | 28 | 38 | 48 |\n",
       "| I  | 9  | 19 | 29 | 39 | 49 |\n",
       "| J  | 10 | 20 | 30 | 40 | 50 |\n",
       "\n"
      ],
      "text/plain": [
       "      imena               \n",
       " [1,] A     1  11 21 31 41\n",
       " [2,] B     2  12 22 32 42\n",
       " [3,] C     3  13 23 33 43\n",
       " [4,] D     4  14 24 34 44\n",
       " [5,] E     5  15 25 35 45\n",
       " [6,] F     6  16 26 36 46\n",
       " [7,] G     7  17 27 37 47\n",
       " [8,] H     8  18 28 38 48\n",
       " [9,] I     9  19 29 39 49\n",
       "[10,] J     10 20 30 40 50"
      ]
     },
     "metadata": {},
     "output_type": "display_data"
    }
   ],
   "source": [
    "cbind(imena, mt)"
   ]
  },
  {
   "cell_type": "code",
   "execution_count": 178,
   "metadata": {},
   "outputs": [
    {
     "data": {
      "text/html": [
       "'matrix'"
      ],
      "text/latex": [
       "'matrix'"
      ],
      "text/markdown": [
       "'matrix'"
      ],
      "text/plain": [
       "[1] \"matrix\""
      ]
     },
     "metadata": {},
     "output_type": "display_data"
    }
   ],
   "source": [
    "class(cbind(imena, mt))"
   ]
  },
  {
   "cell_type": "code",
   "execution_count": null,
   "metadata": {},
   "outputs": [],
   "source": [
    "# rbind()"
   ]
  },
  {
   "cell_type": "code",
   "execution_count": 180,
   "metadata": {
    "collapsed": true,
    "jupyter": {
     "outputs_hidden": true
    }
   },
   "outputs": [
    {
     "data": {
      "text/html": [
       "\n",
       "<table width=\"100%\" summary=\"page for row+colnames {base}\"><tr><td>row+colnames {base}</td><td style=\"text-align: right;\">R Documentation</td></tr></table>\n",
       "\n",
       "<h2>Row and Column Names</h2>\n",
       "\n",
       "<h3>Description</h3>\n",
       "\n",
       "<p>Retrieve or set the row or column names of a matrix-like object.\n",
       "</p>\n",
       "\n",
       "\n",
       "<h3>Usage</h3>\n",
       "\n",
       "<pre>\n",
       "rownames(x, do.NULL = TRUE, prefix = \"row\")\n",
       "rownames(x) &lt;- value\n",
       "\n",
       "colnames(x, do.NULL = TRUE, prefix = \"col\")\n",
       "colnames(x) &lt;- value\n",
       "</pre>\n",
       "\n",
       "\n",
       "<h3>Arguments</h3>\n",
       "\n",
       "<table summary=\"R argblock\">\n",
       "<tr valign=\"top\"><td><code>x</code></td>\n",
       "<td>\n",
       "<p>a matrix-like <span style=\"font-family: Courier New, Courier; color: #666666;\"><b>R</b></span> object, with at least two dimensions for\n",
       "<code>colnames</code>.</p>\n",
       "</td></tr>\n",
       "<tr valign=\"top\"><td><code>do.NULL</code></td>\n",
       "<td>\n",
       "<p>logical. If <code>FALSE</code> and names are <code>NULL</code>, names are created.</p>\n",
       "</td></tr>\n",
       "<tr valign=\"top\"><td><code>prefix</code></td>\n",
       "<td>\n",
       "<p>for created names.</p>\n",
       "</td></tr>\n",
       "<tr valign=\"top\"><td><code>value</code></td>\n",
       "<td>\n",
       "<p>a valid value for that component of\n",
       "<code>dimnames(x)</code>.  For a matrix or array this is either\n",
       "<code>NULL</code> or a character vector of non-zero length equal to the\n",
       "appropriate dimension.</p>\n",
       "</td></tr>\n",
       "</table>\n",
       "\n",
       "\n",
       "<h3>Details</h3>\n",
       "\n",
       "<p>The extractor functions try to do something sensible for any\n",
       "matrix-like object <code>x</code>.  If the object has <code>dimnames</code>\n",
       "the first component is used as the row names, and the second component\n",
       "(if any) is used for the column names.  For a data frame, <code>rownames</code>\n",
       "and <code>colnames</code> eventually call <code>row.names</code> and\n",
       "<code>names</code> respectively, but the latter are preferred.\n",
       "</p>\n",
       "<p>If <code>do.NULL</code> is <code>FALSE</code>, a character vector (of length\n",
       "<code>NROW(x)</code> or <code>NCOL(x)</code>) is returned in any\n",
       "case, prepending <code>prefix</code> to simple numbers, if there are no\n",
       "dimnames or the corresponding component of the dimnames is <code>NULL</code>.\n",
       "</p>\n",
       "<p>The replacement methods for arrays/matrices coerce vector and factor\n",
       "values of <code>value</code> to character, but do not dispatch methods for\n",
       "<code>as.character</code>.\n",
       "</p>\n",
       "<p>For a data frame, <code>value</code> for <code>rownames</code> should be a\n",
       "character vector of non-duplicated and non-missing names (this is\n",
       "enforced), and for <code>colnames</code> a character vector of (preferably)\n",
       "unique syntactically-valid names.  In both cases, <code>value</code> will be\n",
       "coerced by <code>as.character</code>, and setting <code>colnames</code>\n",
       "will convert the row names to character.\n",
       "</p>\n",
       "\n",
       "\n",
       "<h3>Note</h3>\n",
       "\n",
       "<p>If the replacement versions are called on a matrix without any\n",
       "existing dimnames, they will add suitable dimnames.  But\n",
       "constructions such as\n",
       "</p>\n",
       "<pre>    rownames(x)[3] &lt;- \"c\"</pre>\n",
       "<p>may not work unless <code>x</code> already has dimnames, since this will\n",
       "create a length-3 <code>value</code> from the <code>NULL</code> value of\n",
       "<code>rownames(x)</code>.\n",
       "</p>\n",
       "\n",
       "\n",
       "<h3>See Also</h3>\n",
       "\n",
       "<p><code>dimnames</code>,\n",
       "<code>case.names</code>,\n",
       "<code>variable.names</code>.\n",
       "</p>\n",
       "\n",
       "\n",
       "<h3>Examples</h3>\n",
       "\n",
       "<pre>\n",
       "m0 &lt;- matrix(NA, 4, 0)\n",
       "rownames(m0)\n",
       "\n",
       "m2 &lt;- cbind(1, 1:4)\n",
       "colnames(m2, do.NULL = FALSE)\n",
       "colnames(m2) &lt;- c(\"x\",\"Y\")\n",
       "rownames(m2) &lt;- rownames(m2, do.NULL = FALSE, prefix = \"Obs.\")\n",
       "m2\n",
       "</pre>\n",
       "\n",
       "<hr /><div style=\"text-align: center;\">[Package <em>base</em> version 3.6.1 ]</div>"
      ],
      "text/latex": [
       "\\inputencoding{utf8}\n",
       "\\HeaderA{row+colnames}{Row and Column Names}{row+colnames}\n",
       "\\aliasA{colnames}{row+colnames}{colnames}\n",
       "\\aliasA{colnames<\\Rdash{}}{row+colnames}{colnames<.Rdash.}\n",
       "\\aliasA{rownames}{row+colnames}{rownames}\n",
       "\\aliasA{rownames<\\Rdash{}}{row+colnames}{rownames<.Rdash.}\n",
       "\\keyword{array}{row+colnames}\n",
       "\\keyword{manip}{row+colnames}\n",
       "%\n",
       "\\begin{Description}\\relax\n",
       "Retrieve or set the row or column names of a matrix-like object.\n",
       "\\end{Description}\n",
       "%\n",
       "\\begin{Usage}\n",
       "\\begin{verbatim}\n",
       "rownames(x, do.NULL = TRUE, prefix = \"row\")\n",
       "rownames(x) <- value\n",
       "\n",
       "colnames(x, do.NULL = TRUE, prefix = \"col\")\n",
       "colnames(x) <- value\n",
       "\\end{verbatim}\n",
       "\\end{Usage}\n",
       "%\n",
       "\\begin{Arguments}\n",
       "\\begin{ldescription}\n",
       "\\item[\\code{x}] a matrix-like \\R{} object, with at least two dimensions for\n",
       "\\code{colnames}.\n",
       "\\item[\\code{do.NULL}] logical. If \\code{FALSE} and names are \\code{NULL}, names are created.\n",
       "\\item[\\code{prefix}] for created names.\n",
       "\\item[\\code{value}] a valid value for that component of\n",
       "\\code{\\LinkA{dimnames}{dimnames}(x)}.  For a matrix or array this is either\n",
       "\\code{NULL} or a character vector of non-zero length equal to the\n",
       "appropriate dimension.\n",
       "\\end{ldescription}\n",
       "\\end{Arguments}\n",
       "%\n",
       "\\begin{Details}\\relax\n",
       "The extractor functions try to do something sensible for any\n",
       "matrix-like object \\code{x}.  If the object has \\code{\\LinkA{dimnames}{dimnames}}\n",
       "the first component is used as the row names, and the second component\n",
       "(if any) is used for the column names.  For a data frame, \\code{rownames}\n",
       "and \\code{colnames} eventually call \\code{\\LinkA{row.names}{row.names}} and\n",
       "\\code{\\LinkA{names}{names}} respectively, but the latter are preferred.\n",
       "\n",
       "If \\code{do.NULL} is \\code{FALSE}, a character vector (of length\n",
       "\\code{\\LinkA{NROW}{NROW}(x)} or \\code{\\LinkA{NCOL}{NCOL}(x)}) is returned in any\n",
       "case, prepending \\code{prefix} to simple numbers, if there are no\n",
       "dimnames or the corresponding component of the dimnames is \\code{NULL}.\n",
       "\n",
       "The replacement methods for arrays/matrices coerce vector and factor\n",
       "values of \\code{value} to character, but do not dispatch methods for\n",
       "\\code{as.character}.\n",
       "\n",
       "For a data frame, \\code{value} for \\code{rownames} should be a\n",
       "character vector of non-duplicated and non-missing names (this is\n",
       "enforced), and for \\code{colnames} a character vector of (preferably)\n",
       "unique syntactically-valid names.  In both cases, \\code{value} will be\n",
       "coerced by \\code{\\LinkA{as.character}{as.character}}, and setting \\code{colnames}\n",
       "will convert the row names to character.\n",
       "\\end{Details}\n",
       "%\n",
       "\\begin{Note}\\relax\n",
       "If the replacement versions are called on a matrix without any\n",
       "existing dimnames, they will add suitable dimnames.  But\n",
       "constructions such as\n",
       "\\begin{alltt}    rownames(x)[3] <- \"c\"\\end{alltt}\n",
       "\n",
       "may not work unless \\code{x} already has dimnames, since this will\n",
       "create a length-3 \\code{value} from the \\code{NULL} value of\n",
       "\\code{rownames(x)}.\n",
       "\\end{Note}\n",
       "%\n",
       "\\begin{SeeAlso}\\relax\n",
       "\\code{\\LinkA{dimnames}{dimnames}},\n",
       "\\code{\\LinkA{case.names}{case.names}},\n",
       "\\code{\\LinkA{variable.names}{variable.names}}.\n",
       "\\end{SeeAlso}\n",
       "%\n",
       "\\begin{Examples}\n",
       "\\begin{ExampleCode}\n",
       "m0 <- matrix(NA, 4, 0)\n",
       "rownames(m0)\n",
       "\n",
       "m2 <- cbind(1, 1:4)\n",
       "colnames(m2, do.NULL = FALSE)\n",
       "colnames(m2) <- c(\"x\",\"Y\")\n",
       "rownames(m2) <- rownames(m2, do.NULL = FALSE, prefix = \"Obs.\")\n",
       "m2\n",
       "\\end{ExampleCode}\n",
       "\\end{Examples}"
      ],
      "text/plain": [
       "row+colnames               package:base                R Documentation\n",
       "\n",
       "_\bR_\bo_\bw _\ba_\bn_\bd _\bC_\bo_\bl_\bu_\bm_\bn _\bN_\ba_\bm_\be_\bs\n",
       "\n",
       "_\bD_\be_\bs_\bc_\br_\bi_\bp_\bt_\bi_\bo_\bn:\n",
       "\n",
       "     Retrieve or set the row or column names of a matrix-like object.\n",
       "\n",
       "_\bU_\bs_\ba_\bg_\be:\n",
       "\n",
       "     rownames(x, do.NULL = TRUE, prefix = \"row\")\n",
       "     rownames(x) <- value\n",
       "     \n",
       "     colnames(x, do.NULL = TRUE, prefix = \"col\")\n",
       "     colnames(x) <- value\n",
       "     \n",
       "_\bA_\br_\bg_\bu_\bm_\be_\bn_\bt_\bs:\n",
       "\n",
       "       x: a matrix-like R object, with at least two dimensions for\n",
       "          'colnames'.\n",
       "\n",
       " do.NULL: logical. If 'FALSE' and names are 'NULL', names are created.\n",
       "\n",
       "  prefix: for created names.\n",
       "\n",
       "   value: a valid value for that component of 'dimnames(x)'.  For a\n",
       "          matrix or array this is either 'NULL' or a character vector\n",
       "          of non-zero length equal to the appropriate dimension.\n",
       "\n",
       "_\bD_\be_\bt_\ba_\bi_\bl_\bs:\n",
       "\n",
       "     The extractor functions try to do something sensible for any\n",
       "     matrix-like object 'x'.  If the object has 'dimnames' the first\n",
       "     component is used as the row names, and the second component (if\n",
       "     any) is used for the column names.  For a data frame, 'rownames'\n",
       "     and 'colnames' eventually call 'row.names' and 'names'\n",
       "     respectively, but the latter are preferred.\n",
       "\n",
       "     If 'do.NULL' is 'FALSE', a character vector (of length 'NROW(x)'\n",
       "     or 'NCOL(x)') is returned in any case, prepending 'prefix' to\n",
       "     simple numbers, if there are no dimnames or the corresponding\n",
       "     component of the dimnames is 'NULL'.\n",
       "\n",
       "     The replacement methods for arrays/matrices coerce vector and\n",
       "     factor values of 'value' to character, but do not dispatch methods\n",
       "     for 'as.character'.\n",
       "\n",
       "     For a data frame, 'value' for 'rownames' should be a character\n",
       "     vector of non-duplicated and non-missing names (this is enforced),\n",
       "     and for 'colnames' a character vector of (preferably) unique\n",
       "     syntactically-valid names.  In both cases, 'value' will be coerced\n",
       "     by 'as.character', and setting 'colnames' will convert the row\n",
       "     names to character.\n",
       "\n",
       "_\bN_\bo_\bt_\be:\n",
       "\n",
       "     If the replacement versions are called on a matrix without any\n",
       "     existing dimnames, they will add suitable dimnames.  But\n",
       "     constructions such as\n",
       "     \n",
       "         rownames(x)[3] <- \"c\"\n",
       "\n",
       "     may not work unless 'x' already has dimnames, since this will\n",
       "     create a length-3 'value' from the 'NULL' value of 'rownames(x)'.\n",
       "\n",
       "_\bS_\be_\be _\bA_\bl_\bs_\bo:\n",
       "\n",
       "     'dimnames', 'case.names', 'variable.names'.\n",
       "\n",
       "_\bE_\bx_\ba_\bm_\bp_\bl_\be_\bs:\n",
       "\n",
       "     m0 <- matrix(NA, 4, 0)\n",
       "     rownames(m0)\n",
       "     \n",
       "     m2 <- cbind(1, 1:4)\n",
       "     colnames(m2, do.NULL = FALSE)\n",
       "     colnames(m2) <- c(\"x\",\"Y\")\n",
       "     rownames(m2) <- rownames(m2, do.NULL = FALSE, prefix = \"Obs.\")\n",
       "     m2\n",
       "     "
      ]
     },
     "metadata": {},
     "output_type": "display_data"
    }
   ],
   "source": [
    "?rownames"
   ]
  },
  {
   "cell_type": "code",
   "execution_count": 183,
   "metadata": {},
   "outputs": [
    {
     "data": {
      "text/html": [
       "<table>\n",
       "<tbody>\n",
       "\t<tr><td> 1</td><td>11</td><td>21</td><td>31</td><td>41</td></tr>\n",
       "\t<tr><td> 2</td><td>12</td><td>22</td><td>32</td><td>42</td></tr>\n",
       "\t<tr><td> 3</td><td>13</td><td>23</td><td>33</td><td>43</td></tr>\n",
       "\t<tr><td> 4</td><td>14</td><td>24</td><td>34</td><td>44</td></tr>\n",
       "\t<tr><td> 5</td><td>15</td><td>25</td><td>35</td><td>45</td></tr>\n",
       "\t<tr><td> 6</td><td>16</td><td>26</td><td>36</td><td>46</td></tr>\n",
       "\t<tr><td> 7</td><td>17</td><td>27</td><td>37</td><td>47</td></tr>\n",
       "\t<tr><td> 8</td><td>18</td><td>28</td><td>38</td><td>48</td></tr>\n",
       "\t<tr><td> 9</td><td>19</td><td>29</td><td>39</td><td>49</td></tr>\n",
       "\t<tr><td>10</td><td>20</td><td>30</td><td>40</td><td>50</td></tr>\n",
       "</tbody>\n",
       "</table>\n"
      ],
      "text/latex": [
       "\\begin{tabular}{lllll}\n",
       "\t  1 & 11 & 21 & 31 & 41\\\\\n",
       "\t  2 & 12 & 22 & 32 & 42\\\\\n",
       "\t  3 & 13 & 23 & 33 & 43\\\\\n",
       "\t  4 & 14 & 24 & 34 & 44\\\\\n",
       "\t  5 & 15 & 25 & 35 & 45\\\\\n",
       "\t  6 & 16 & 26 & 36 & 46\\\\\n",
       "\t  7 & 17 & 27 & 37 & 47\\\\\n",
       "\t  8 & 18 & 28 & 38 & 48\\\\\n",
       "\t  9 & 19 & 29 & 39 & 49\\\\\n",
       "\t 10 & 20 & 30 & 40 & 50\\\\\n",
       "\\end{tabular}\n"
      ],
      "text/markdown": [
       "\n",
       "|  1 | 11 | 21 | 31 | 41 |\n",
       "|  2 | 12 | 22 | 32 | 42 |\n",
       "|  3 | 13 | 23 | 33 | 43 |\n",
       "|  4 | 14 | 24 | 34 | 44 |\n",
       "|  5 | 15 | 25 | 35 | 45 |\n",
       "|  6 | 16 | 26 | 36 | 46 |\n",
       "|  7 | 17 | 27 | 37 | 47 |\n",
       "|  8 | 18 | 28 | 38 | 48 |\n",
       "|  9 | 19 | 29 | 39 | 49 |\n",
       "| 10 | 20 | 30 | 40 | 50 |\n",
       "\n"
      ],
      "text/plain": [
       "      [,1] [,2] [,3] [,4] [,5]\n",
       " [1,]  1   11   21   31   41  \n",
       " [2,]  2   12   22   32   42  \n",
       " [3,]  3   13   23   33   43  \n",
       " [4,]  4   14   24   34   44  \n",
       " [5,]  5   15   25   35   45  \n",
       " [6,]  6   16   26   36   46  \n",
       " [7,]  7   17   27   37   47  \n",
       " [8,]  8   18   28   38   48  \n",
       " [9,]  9   19   29   39   49  \n",
       "[10,] 10   20   30   40   50  "
      ]
     },
     "metadata": {},
     "output_type": "display_data"
    }
   ],
   "source": [
    "mt"
   ]
  },
  {
   "cell_type": "code",
   "execution_count": 181,
   "metadata": {},
   "outputs": [
    {
     "data": {
      "text/plain": [
       "NULL"
      ]
     },
     "metadata": {},
     "output_type": "display_data"
    }
   ],
   "source": [
    "rownames(mt)"
   ]
  },
  {
   "cell_type": "code",
   "execution_count": 182,
   "metadata": {},
   "outputs": [
    {
     "data": {
      "text/plain": [
       "NULL"
      ]
     },
     "metadata": {},
     "output_type": "display_data"
    }
   ],
   "source": [
    "colnames(mt)"
   ]
  },
  {
   "cell_type": "code",
   "execution_count": 184,
   "metadata": {},
   "outputs": [
    {
     "data": {
      "text/plain": [
       "NULL"
      ]
     },
     "metadata": {},
     "output_type": "display_data"
    }
   ],
   "source": [
    "rownames(mt, do.NULL = TRUE, prefix = \"row\")"
   ]
  },
  {
   "cell_type": "code",
   "execution_count": 186,
   "metadata": {},
   "outputs": [
    {
     "data": {
      "text/html": [
       "<table>\n",
       "<tbody>\n",
       "\t<tr><th scope=row>A</th><td> 1</td><td>11</td><td>21</td><td>31</td><td>41</td></tr>\n",
       "\t<tr><th scope=row>B</th><td> 2</td><td>12</td><td>22</td><td>32</td><td>42</td></tr>\n",
       "\t<tr><th scope=row>C</th><td> 3</td><td>13</td><td>23</td><td>33</td><td>43</td></tr>\n",
       "\t<tr><th scope=row>D</th><td> 4</td><td>14</td><td>24</td><td>34</td><td>44</td></tr>\n",
       "\t<tr><th scope=row>E</th><td> 5</td><td>15</td><td>25</td><td>35</td><td>45</td></tr>\n",
       "\t<tr><th scope=row>F</th><td> 6</td><td>16</td><td>26</td><td>36</td><td>46</td></tr>\n",
       "\t<tr><th scope=row>G</th><td> 7</td><td>17</td><td>27</td><td>37</td><td>47</td></tr>\n",
       "\t<tr><th scope=row>H</th><td> 8</td><td>18</td><td>28</td><td>38</td><td>48</td></tr>\n",
       "\t<tr><th scope=row>I</th><td> 9</td><td>19</td><td>29</td><td>39</td><td>49</td></tr>\n",
       "\t<tr><th scope=row>J</th><td>10</td><td>20</td><td>30</td><td>40</td><td>50</td></tr>\n",
       "</tbody>\n",
       "</table>\n"
      ],
      "text/latex": [
       "\\begin{tabular}{r|lllll}\n",
       "\tA &  1 & 11 & 21 & 31 & 41\\\\\n",
       "\tB &  2 & 12 & 22 & 32 & 42\\\\\n",
       "\tC &  3 & 13 & 23 & 33 & 43\\\\\n",
       "\tD &  4 & 14 & 24 & 34 & 44\\\\\n",
       "\tE &  5 & 15 & 25 & 35 & 45\\\\\n",
       "\tF &  6 & 16 & 26 & 36 & 46\\\\\n",
       "\tG &  7 & 17 & 27 & 37 & 47\\\\\n",
       "\tH &  8 & 18 & 28 & 38 & 48\\\\\n",
       "\tI &  9 & 19 & 29 & 39 & 49\\\\\n",
       "\tJ & 10 & 20 & 30 & 40 & 50\\\\\n",
       "\\end{tabular}\n"
      ],
      "text/markdown": [
       "\n",
       "| A |  1 | 11 | 21 | 31 | 41 |\n",
       "| B |  2 | 12 | 22 | 32 | 42 |\n",
       "| C |  3 | 13 | 23 | 33 | 43 |\n",
       "| D |  4 | 14 | 24 | 34 | 44 |\n",
       "| E |  5 | 15 | 25 | 35 | 45 |\n",
       "| F |  6 | 16 | 26 | 36 | 46 |\n",
       "| G |  7 | 17 | 27 | 37 | 47 |\n",
       "| H |  8 | 18 | 28 | 38 | 48 |\n",
       "| I |  9 | 19 | 29 | 39 | 49 |\n",
       "| J | 10 | 20 | 30 | 40 | 50 |\n",
       "\n"
      ],
      "text/plain": [
       "  [,1] [,2] [,3] [,4] [,5]\n",
       "A  1   11   21   31   41  \n",
       "B  2   12   22   32   42  \n",
       "C  3   13   23   33   43  \n",
       "D  4   14   24   34   44  \n",
       "E  5   15   25   35   45  \n",
       "F  6   16   26   36   46  \n",
       "G  7   17   27   37   47  \n",
       "H  8   18   28   38   48  \n",
       "I  9   19   29   39   49  \n",
       "J 10   20   30   40   50  "
      ]
     },
     "metadata": {},
     "output_type": "display_data"
    }
   ],
   "source": [
    "rownames(mt)<-imena\n",
    "mt"
   ]
  },
  {
   "cell_type": "code",
   "execution_count": 190,
   "metadata": {},
   "outputs": [
    {
     "data": {
      "text/html": [
       "<ol class=list-inline>\n",
       "\t<li>'day 1'</li>\n",
       "\t<li>'day 2'</li>\n",
       "\t<li>'day 3'</li>\n",
       "\t<li>'day 4'</li>\n",
       "\t<li>'day 5'</li>\n",
       "</ol>\n"
      ],
      "text/latex": [
       "\\begin{enumerate*}\n",
       "\\item 'day 1'\n",
       "\\item 'day 2'\n",
       "\\item 'day 3'\n",
       "\\item 'day 4'\n",
       "\\item 'day 5'\n",
       "\\end{enumerate*}\n"
      ],
      "text/markdown": [
       "1. 'day 1'\n",
       "2. 'day 2'\n",
       "3. 'day 3'\n",
       "4. 'day 4'\n",
       "5. 'day 5'\n",
       "\n",
       "\n"
      ],
      "text/plain": [
       "[1] \"day 1\" \"day 2\" \"day 3\" \"day 4\" \"day 5\""
      ]
     },
     "metadata": {},
     "output_type": "display_data"
    }
   ],
   "source": [
    "paste(\"day\", 1:5)"
   ]
  },
  {
   "cell_type": "code",
   "execution_count": 191,
   "metadata": {},
   "outputs": [
    {
     "data": {
      "text/html": [
       "<ol class=list-inline>\n",
       "\t<li>'day1'</li>\n",
       "\t<li>'day2'</li>\n",
       "\t<li>'day3'</li>\n",
       "\t<li>'day4'</li>\n",
       "\t<li>'day5'</li>\n",
       "</ol>\n"
      ],
      "text/latex": [
       "\\begin{enumerate*}\n",
       "\\item 'day1'\n",
       "\\item 'day2'\n",
       "\\item 'day3'\n",
       "\\item 'day4'\n",
       "\\item 'day5'\n",
       "\\end{enumerate*}\n"
      ],
      "text/markdown": [
       "1. 'day1'\n",
       "2. 'day2'\n",
       "3. 'day3'\n",
       "4. 'day4'\n",
       "5. 'day5'\n",
       "\n",
       "\n"
      ],
      "text/plain": [
       "[1] \"day1\" \"day2\" \"day3\" \"day4\" \"day5\""
      ]
     },
     "metadata": {},
     "output_type": "display_data"
    }
   ],
   "source": [
    "paste0(\"day\", 1:5)"
   ]
  },
  {
   "cell_type": "code",
   "execution_count": 187,
   "metadata": {},
   "outputs": [
    {
     "data": {
      "text/plain": [
       "NULL"
      ]
     },
     "metadata": {},
     "output_type": "display_data"
    }
   ],
   "source": [
    "colnames(mt, do.NULL = TRUE, prefix = \"col\")"
   ]
  },
  {
   "cell_type": "code",
   "execution_count": 189,
   "metadata": {},
   "outputs": [
    {
     "data": {
      "text/html": [
       "<table>\n",
       "<thead><tr><th></th><th scope=col>day 1</th><th scope=col>day 2</th><th scope=col>day 3</th><th scope=col>day 4</th><th scope=col>day 5</th></tr></thead>\n",
       "<tbody>\n",
       "\t<tr><th scope=row>A</th><td> 1</td><td>11</td><td>21</td><td>31</td><td>41</td></tr>\n",
       "\t<tr><th scope=row>B</th><td> 2</td><td>12</td><td>22</td><td>32</td><td>42</td></tr>\n",
       "\t<tr><th scope=row>C</th><td> 3</td><td>13</td><td>23</td><td>33</td><td>43</td></tr>\n",
       "\t<tr><th scope=row>D</th><td> 4</td><td>14</td><td>24</td><td>34</td><td>44</td></tr>\n",
       "\t<tr><th scope=row>E</th><td> 5</td><td>15</td><td>25</td><td>35</td><td>45</td></tr>\n",
       "\t<tr><th scope=row>F</th><td> 6</td><td>16</td><td>26</td><td>36</td><td>46</td></tr>\n",
       "\t<tr><th scope=row>G</th><td> 7</td><td>17</td><td>27</td><td>37</td><td>47</td></tr>\n",
       "\t<tr><th scope=row>H</th><td> 8</td><td>18</td><td>28</td><td>38</td><td>48</td></tr>\n",
       "\t<tr><th scope=row>I</th><td> 9</td><td>19</td><td>29</td><td>39</td><td>49</td></tr>\n",
       "\t<tr><th scope=row>J</th><td>10</td><td>20</td><td>30</td><td>40</td><td>50</td></tr>\n",
       "</tbody>\n",
       "</table>\n"
      ],
      "text/latex": [
       "\\begin{tabular}{r|lllll}\n",
       "  & day 1 & day 2 & day 3 & day 4 & day 5\\\\\n",
       "\\hline\n",
       "\tA &  1 & 11 & 21 & 31 & 41\\\\\n",
       "\tB &  2 & 12 & 22 & 32 & 42\\\\\n",
       "\tC &  3 & 13 & 23 & 33 & 43\\\\\n",
       "\tD &  4 & 14 & 24 & 34 & 44\\\\\n",
       "\tE &  5 & 15 & 25 & 35 & 45\\\\\n",
       "\tF &  6 & 16 & 26 & 36 & 46\\\\\n",
       "\tG &  7 & 17 & 27 & 37 & 47\\\\\n",
       "\tH &  8 & 18 & 28 & 38 & 48\\\\\n",
       "\tI &  9 & 19 & 29 & 39 & 49\\\\\n",
       "\tJ & 10 & 20 & 30 & 40 & 50\\\\\n",
       "\\end{tabular}\n"
      ],
      "text/markdown": [
       "\n",
       "| <!--/--> | day 1 | day 2 | day 3 | day 4 | day 5 |\n",
       "|---|---|---|---|---|---|\n",
       "| A |  1 | 11 | 21 | 31 | 41 |\n",
       "| B |  2 | 12 | 22 | 32 | 42 |\n",
       "| C |  3 | 13 | 23 | 33 | 43 |\n",
       "| D |  4 | 14 | 24 | 34 | 44 |\n",
       "| E |  5 | 15 | 25 | 35 | 45 |\n",
       "| F |  6 | 16 | 26 | 36 | 46 |\n",
       "| G |  7 | 17 | 27 | 37 | 47 |\n",
       "| H |  8 | 18 | 28 | 38 | 48 |\n",
       "| I |  9 | 19 | 29 | 39 | 49 |\n",
       "| J | 10 | 20 | 30 | 40 | 50 |\n",
       "\n"
      ],
      "text/plain": [
       "  day 1 day 2 day 3 day 4 day 5\n",
       "A  1    11    21    31    41   \n",
       "B  2    12    22    32    42   \n",
       "C  3    13    23    33    43   \n",
       "D  4    14    24    34    44   \n",
       "E  5    15    25    35    45   \n",
       "F  6    16    26    36    46   \n",
       "G  7    17    27    37    47   \n",
       "H  8    18    28    38    48   \n",
       "I  9    19    29    39    49   \n",
       "J 10    20    30    40    50   "
      ]
     },
     "metadata": {},
     "output_type": "display_data"
    }
   ],
   "source": [
    "colnames(mt)<-paste(\"day\", 1:5)\n",
    "mt"
   ]
  },
  {
   "cell_type": "code",
   "execution_count": 192,
   "metadata": {},
   "outputs": [
    {
     "data": {
      "text/html": [
       "<dl class=dl-horizontal>\n",
       "\t<dt>A</dt>\n",
       "\t\t<dd>11</dd>\n",
       "\t<dt>B</dt>\n",
       "\t\t<dd>12</dd>\n",
       "\t<dt>C</dt>\n",
       "\t\t<dd>13</dd>\n",
       "\t<dt>D</dt>\n",
       "\t\t<dd>14</dd>\n",
       "\t<dt>E</dt>\n",
       "\t\t<dd>15</dd>\n",
       "\t<dt>F</dt>\n",
       "\t\t<dd>16</dd>\n",
       "\t<dt>G</dt>\n",
       "\t\t<dd>17</dd>\n",
       "\t<dt>H</dt>\n",
       "\t\t<dd>18</dd>\n",
       "\t<dt>I</dt>\n",
       "\t\t<dd>19</dd>\n",
       "\t<dt>J</dt>\n",
       "\t\t<dd>20</dd>\n",
       "</dl>\n"
      ],
      "text/latex": [
       "\\begin{description*}\n",
       "\\item[A] 11\n",
       "\\item[B] 12\n",
       "\\item[C] 13\n",
       "\\item[D] 14\n",
       "\\item[E] 15\n",
       "\\item[F] 16\n",
       "\\item[G] 17\n",
       "\\item[H] 18\n",
       "\\item[I] 19\n",
       "\\item[J] 20\n",
       "\\end{description*}\n"
      ],
      "text/markdown": [
       "A\n",
       ":   11B\n",
       ":   12C\n",
       ":   13D\n",
       ":   14E\n",
       ":   15F\n",
       ":   16G\n",
       ":   17H\n",
       ":   18I\n",
       ":   19J\n",
       ":   20\n",
       "\n"
      ],
      "text/plain": [
       " A  B  C  D  E  F  G  H  I  J \n",
       "11 12 13 14 15 16 17 18 19 20 "
      ]
     },
     "metadata": {},
     "output_type": "display_data"
    }
   ],
   "source": [
    "mt[, 2]"
   ]
  },
  {
   "cell_type": "code",
   "execution_count": null,
   "metadata": {},
   "outputs": [],
   "source": []
  }
 ],
 "metadata": {
  "kernelspec": {
   "display_name": "R",
   "language": "R",
   "name": "ir"
  },
  "language_info": {
   "codemirror_mode": "r",
   "file_extension": ".r",
   "mimetype": "text/x-r-source",
   "name": "R",
   "pygments_lexer": "r",
   "version": "3.6.1"
  }
 },
 "nbformat": 4,
 "nbformat_minor": 4
}
